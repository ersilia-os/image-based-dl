{
 "cells": [
  {
   "cell_type": "markdown",
   "id": "1e1e66fe-ffa7-4af3-b5bb-f028843a7a22",
   "metadata": {},
   "source": [
    "# Baseline: Random Forest/Logistic Regression with FFs or MolDs"
   ]
  },
  {
   "cell_type": "markdown",
   "id": "69cab4ae-6e65-49ca-8adc-1c1b39b0de68",
   "metadata": {},
   "source": [
    "### Load data"
   ]
  },
  {
   "cell_type": "code",
   "execution_count": 1,
   "id": "f9fe5b11-a305-4409-ad50-31100305f0b0",
   "metadata": {},
   "outputs": [],
   "source": [
    "'Set the file name of your data'\n",
    "data_name = \"CYP450.csv.gz\""
   ]
  },
  {
   "cell_type": "code",
   "execution_count": 2,
   "id": "6056cd12-36c5-494c-a7f2-7ddfe60d407d",
   "metadata": {},
   "outputs": [],
   "source": [
    "import numpy as np\n",
    "import pandas as pd\n",
    "\n",
    "data = pd.read_csv(\"../../../data/\" + data_name, compression='gzip')"
   ]
  },
  {
   "cell_type": "markdown",
   "id": "39e55357-2a90-4f20-a498-74ab29564d07",
   "metadata": {},
   "source": [
    "Set up (adapt according to your data)"
   ]
  },
  {
   "cell_type": "code",
   "execution_count": 2,
   "id": "2ae267f3-fd84-4135-b979-bc34efab317f",
   "metadata": {},
   "outputs": [],
   "source": [
    "# keep desired columns\n",
    "data = data[['smiles', 'label_2c9']]\n",
    "\n",
    "# drop molecules with NaN activity\n",
    "data = data.dropna(subset = [\"label_2c9\"])\n",
    "\n",
    "# set SMILES\n",
    "smi = data['smiles'].tolist()\n",
    "\n",
    "# set Y\n",
    "Y = pd.get_dummies(data['label_2c9']).values\n",
    "\n",
    "# number of active and inactive molecules\n",
    "print(\"Inactive (0):\", Y[:,1].tolist().count(0))\n",
    "print(\"Active (1):\", Y[:,1].tolist().count(1))"
   ]
  },
  {
   "cell_type": "markdown",
   "id": "1c70a45e-727c-476e-8bf4-5ab512d6ac0b",
   "metadata": {},
   "source": [
    "### Compute FFs or MolDs"
   ]
  },
  {
   "cell_type": "code",
   "execution_count": null,
   "id": "6ff9c3ac-dd83-41f0-98ee-67993d8d5430",
   "metadata": {},
   "outputs": [],
   "source": [
    "'Compute the Fmaps for FFs or MolDs. Choose only one of both.'\n",
    "desc = \"FF\"\n",
    "# desc = \"MolDs\""
   ]
  },
  {
   "cell_type": "code",
   "execution_count": null,
   "id": "1eb4b026-7c6f-468f-b81c-00582118951a",
   "metadata": {},
   "outputs": [],
   "source": [
    "import sys\n",
    "sys.path.append(\"../../../src\")\n",
    "import pickle\n",
    "from pathlib import Path\n",
    "from descriptors import MorganCalculator, MorganCalculator\n",
    "\n",
    "path_mold = Path(\"../../../files/\" + data_name + \"baselines/MolDs.pkl\")\n",
    "path_ff = Path(\"../../../files/\" + data_name + \"baselines/FFs.pkl\")\n",
    "\n",
    "# compute MolDs\n",
    "if desc == \"MolDs\":\n",
    "    if path_mold.is_file():\n",
    "        'If it exists, we load it.'\n",
    "        with open(path, \"rb\") as f:\n",
    "            fps = pickle.load(f)\n",
    "    else: \n",
    "        'Otherwise, we compute it and save it to disk.'\n",
    "        md = MordredCalculator(smi)\n",
    "        fps = md.calc_mordred()\n",
    "\n",
    "        with open(path, \"wb+\") as f:\n",
    "            pickle.dump(fps, f, pickle.HIGHEST_PROTOCOL)\n",
    "        \n",
    "# or compute FFs\n",
    "elif desc = \"FFs\":        \n",
    "    if path_ff.is_file():\n",
    "        'If it exists, we load it.'\n",
    "        with open(path, \"rb\") as f:\n",
    "            fps = pickle.load(f)\n",
    "    else: \n",
    "        'Otherwise, we compute it and save it to disk.'\n",
    "        md = MorganCalculator(smi)\n",
    "        fps = md.calc_morgan()\n",
    "\n",
    "        with open(path, \"wb+\") as f:\n",
    "            pickle.dump(fps, f, pickle.HIGHEST_PROTOCOL)"
   ]
  },
  {
   "cell_type": "markdown",
   "id": "7426c36b-734d-4a9f-a6c8-02cfec87339a",
   "metadata": {},
   "source": [
    "### Split in train and test sets"
   ]
  },
  {
   "cell_type": "code",
   "execution_count": 8,
   "id": "3360e2cd-7e66-489e-970d-eb3bb2d96969",
   "metadata": {},
   "outputs": [],
   "source": [
    "import numpy as np\n",
    "from sklearn.model_selection import train_test_split\n",
    "\n",
    "# set X and Y\n",
    "X = fps.astype(float)\n",
    "Y = np.array(Y) \n",
    "\n",
    "# split train test\n",
    "x_train, x_test, y_train, y_test = train_test_split(X,Y, stratify=Y, test_size=0.25, random_state=42)"
   ]
  },
  {
   "cell_type": "markdown",
   "id": "d71920c7-b8fe-429d-89c2-c420b819b945",
   "metadata": {},
   "source": [
    "### Preprocessing: Nan Filtering, Imputing & Scaling"
   ]
  },
  {
   "cell_type": "code",
   "execution_count": 9,
   "id": "482b72e9-203f-4eed-80fa-c859845e349e",
   "metadata": {},
   "outputs": [
    {
     "name": "stdout",
     "output_type": "stream",
     "text": [
      "Nan filtering, original columns 2048, final columns 2048\n"
     ]
    }
   ],
   "source": [
    "from preprocessing import NanFilter\n",
    "\n",
    "nanf = NanFilter()\n",
    "nanf.fit(x_train)\n",
    "x_train = nanf.transform(x_train)\n",
    "x_test = nanf.transform(x_test)"
   ]
  },
  {
   "cell_type": "code",
   "execution_count": 10,
   "id": "b6144308-2d85-40e2-b78c-216141f2ee4b",
   "metadata": {},
   "outputs": [],
   "source": [
    "from preprocessing import Imputer\n",
    "\n",
    "imp = Imputer()\n",
    "imp.fit(x_train)\n",
    "x_train = imp.transform(x_train)\n",
    "x_test = imp.transform(x_test)"
   ]
  },
  {
   "cell_type": "code",
   "execution_count": 11,
   "id": "0104ab85-caad-495a-94a5-45d13b4105b3",
   "metadata": {},
   "outputs": [],
   "source": [
    "from preprocessing import Scaler\n",
    "\n",
    "scal = Scaler()\n",
    "scal.fit(x_train)\n",
    "x_train = scal.transform(x_train)\n",
    "x_test = scal.transform(x_test)"
   ]
  },
  {
   "cell_type": "markdown",
   "id": "7ee363be-81a7-481e-b879-9700de781865",
   "metadata": {
    "tags": []
   },
   "source": [
    "### Build and Fit Model"
   ]
  },
  {
   "cell_type": "markdown",
   "id": "9c6f8bbe-3a52-40ea-ac19-e1cdb659d18d",
   "metadata": {},
   "source": [
    "Hyperparameter tunning with FLAML. First, compute sample weight."
   ]
  },
  {
   "cell_type": "code",
   "execution_count": 12,
   "id": "b0802e07-3382-4958-8dd6-d53e222ebc86",
   "metadata": {},
   "outputs": [],
   "source": [
    "from utils import sample_weight\n",
    "\n",
    "sw = sample_weight(y_train)"
   ]
  },
  {
   "cell_type": "code",
   "execution_count": 13,
   "id": "056233d2-d87e-49cc-b0a5-9b6426adf117",
   "metadata": {},
   "outputs": [
    {
     "name": "stderr",
     "output_type": "stream",
     "text": [
      "[flaml.automl: 06-24 19:10:28] {2068} INFO - task = classification\n",
      "[flaml.automl: 06-24 19:10:28] {2070} INFO - Data split method: stratified\n",
      "[flaml.automl: 06-24 19:10:28] {2074} INFO - Evaluation method: holdout\n",
      "[flaml.automl: 06-24 19:10:33] {2155} INFO - Minimizing error metric: 1-roc_auc\n",
      "[flaml.automl: 06-24 19:10:33] {2248} INFO - List of ML learners in AutoML Run: ['lrl2', 'rf']\n",
      "[flaml.automl: 06-24 19:10:33] {2501} INFO - iteration 0, current learner lrl2\n",
      "[flaml.automl: 06-24 19:11:03] {187} WARNING - <class 'TimeoutError'> [Errno 14] <frame object at 0x560f316d08c8>\n",
      "[flaml.automl: 06-24 19:11:03] {2617} INFO - Estimated sufficient time budget=4544871s. Estimated necessary time budget=4545s.\n",
      "[flaml.automl: 06-24 19:11:03] {2669} INFO -  at 34.9s,\testimator lrl2's best error=0.5000,\tbest estimator lrl2's best error=0.5000\n",
      "[flaml.automl: 06-24 19:11:03] {2501} INFO - iteration 1, current learner rf\n",
      "[flaml.automl: 06-24 19:11:03] {2669} INFO -  at 35.4s,\testimator rf's best error=0.4821,\tbest estimator rf's best error=0.4821\n",
      "[flaml.automl: 06-24 19:11:03] {2501} INFO - iteration 2, current learner rf\n",
      "[flaml.automl: 06-24 19:11:04] {2669} INFO -  at 35.9s,\testimator rf's best error=0.4025,\tbest estimator rf's best error=0.4025\n",
      "[flaml.automl: 06-24 19:11:04] {2501} INFO - iteration 3, current learner rf\n",
      "[flaml.automl: 06-24 19:11:04] {2669} INFO -  at 36.3s,\testimator rf's best error=0.2786,\tbest estimator rf's best error=0.2786\n",
      "[flaml.automl: 06-24 19:11:04] {2501} INFO - iteration 4, current learner lrl2\n",
      "[flaml.automl: 06-24 19:11:33] {187} WARNING - <class 'TimeoutError'> [Errno 14] <frame object at 0x560f3223b638>\n",
      "[flaml.automl: 06-24 19:11:33] {2669} INFO -  at 65.0s,\testimator lrl2's best error=0.5000,\tbest estimator rf's best error=0.2786\n",
      "[flaml.automl: 06-24 19:11:33] {2501} INFO - iteration 5, current learner rf\n",
      "[flaml.automl: 06-24 19:11:33] {2669} INFO -  at 65.6s,\testimator rf's best error=0.2786,\tbest estimator rf's best error=0.2786\n",
      "[flaml.automl: 06-24 19:11:33] {2501} INFO - iteration 6, current learner rf\n",
      "[flaml.automl: 06-24 19:11:34] {2669} INFO -  at 66.1s,\testimator rf's best error=0.2786,\tbest estimator rf's best error=0.2786\n",
      "[flaml.automl: 06-24 19:11:34] {2501} INFO - iteration 7, current learner rf\n",
      "[flaml.automl: 06-24 19:11:34] {2669} INFO -  at 66.7s,\testimator rf's best error=0.2786,\tbest estimator rf's best error=0.2786\n",
      "[flaml.automl: 06-24 19:11:34] {2501} INFO - iteration 8, current learner rf\n",
      "[flaml.automl: 06-24 19:11:35] {2669} INFO -  at 67.2s,\testimator rf's best error=0.2786,\tbest estimator rf's best error=0.2786\n",
      "[flaml.automl: 06-24 19:11:35] {2501} INFO - iteration 9, current learner rf\n",
      "[flaml.automl: 06-24 19:11:37] {2669} INFO -  at 69.0s,\testimator rf's best error=0.2786,\tbest estimator rf's best error=0.2786\n",
      "[flaml.automl: 06-24 19:11:37] {2501} INFO - iteration 10, current learner rf\n",
      "[flaml.automl: 06-24 19:11:40] {2669} INFO -  at 72.4s,\testimator rf's best error=0.1773,\tbest estimator rf's best error=0.1773\n",
      "[flaml.automl: 06-24 19:11:40] {2501} INFO - iteration 11, current learner rf\n",
      "[flaml.automl: 06-24 19:11:42] {2669} INFO -  at 74.3s,\testimator rf's best error=0.1773,\tbest estimator rf's best error=0.1773\n",
      "[flaml.automl: 06-24 19:11:42] {2501} INFO - iteration 12, current learner rf\n",
      "[flaml.automl: 06-24 19:11:45] {2669} INFO -  at 77.3s,\testimator rf's best error=0.1702,\tbest estimator rf's best error=0.1702\n",
      "[flaml.automl: 06-24 19:11:45] {2501} INFO - iteration 13, current learner rf\n",
      "[flaml.automl: 06-24 19:11:50] {2669} INFO -  at 81.9s,\testimator rf's best error=0.1483,\tbest estimator rf's best error=0.1483\n",
      "[flaml.automl: 06-24 19:11:50] {2501} INFO - iteration 14, current learner rf\n",
      "[flaml.automl: 06-24 19:11:53] {2669} INFO -  at 85.6s,\testimator rf's best error=0.1483,\tbest estimator rf's best error=0.1483\n",
      "[flaml.automl: 06-24 19:11:53] {2501} INFO - iteration 15, current learner rf\n",
      "[flaml.automl: 06-24 19:12:00] {2669} INFO -  at 92.5s,\testimator rf's best error=0.1330,\tbest estimator rf's best error=0.1330\n",
      "[flaml.automl: 06-24 19:12:00] {2501} INFO - iteration 16, current learner lrl2\n",
      "[flaml.automl: 06-24 19:12:27] {187} WARNING - <class 'TimeoutError'> [Errno 14] <frame object at 0x7f146c009738>\n",
      "[flaml.automl: 06-24 19:12:27] {2669} INFO -  at 119.3s,\testimator lrl2's best error=0.5000,\tbest estimator rf's best error=0.1330\n",
      "[flaml.automl: 06-24 19:12:27] {2501} INFO - iteration 17, current learner rf\n",
      "[flaml.automl: 06-24 19:12:33] {2669} INFO -  at 125.1s,\testimator rf's best error=0.1330,\tbest estimator rf's best error=0.1330\n",
      "[flaml.automl: 06-24 19:12:33] {2501} INFO - iteration 18, current learner rf\n",
      "[flaml.automl: 06-24 19:12:41] {2669} INFO -  at 133.6s,\testimator rf's best error=0.1330,\tbest estimator rf's best error=0.1330\n",
      "[flaml.automl: 06-24 19:12:41] {2501} INFO - iteration 19, current learner rf\n",
      "[flaml.automl: 06-24 19:12:50] {2669} INFO -  at 142.4s,\testimator rf's best error=0.1101,\tbest estimator rf's best error=0.1101\n",
      "[flaml.automl: 06-24 19:12:50] {2501} INFO - iteration 20, current learner lrl2\n",
      "[flaml.automl: 06-24 19:23:39] {2669} INFO -  at 791.2s,\testimator lrl2's best error=0.1535,\tbest estimator rf's best error=0.1101\n",
      "[flaml.automl: 06-24 19:23:39] {2501} INFO - iteration 21, current learner rf\n",
      "[flaml.automl: 06-24 19:23:46] {2669} INFO -  at 798.1s,\testimator rf's best error=0.1101,\tbest estimator rf's best error=0.1101\n",
      "[flaml.automl: 06-24 19:23:46] {2501} INFO - iteration 22, current learner rf\n",
      "[flaml.automl: 06-24 19:23:51] {2669} INFO -  at 803.6s,\testimator rf's best error=0.1101,\tbest estimator rf's best error=0.1101\n",
      "[flaml.automl: 06-24 19:23:51] {2501} INFO - iteration 23, current learner rf\n",
      "[flaml.automl: 06-24 19:24:08] {2669} INFO -  at 820.0s,\testimator rf's best error=0.1101,\tbest estimator rf's best error=0.1101\n",
      "[flaml.automl: 06-24 19:24:08] {2501} INFO - iteration 24, current learner rf\n",
      "[flaml.automl: 06-24 19:24:24] {2669} INFO -  at 835.8s,\testimator rf's best error=0.1101,\tbest estimator rf's best error=0.1101\n",
      "[flaml.automl: 06-24 19:24:24] {2501} INFO - iteration 25, current learner rf\n",
      "[flaml.automl: 06-24 19:24:30] {2669} INFO -  at 841.9s,\testimator rf's best error=0.1101,\tbest estimator rf's best error=0.1101\n",
      "[flaml.automl: 06-24 19:24:30] {2501} INFO - iteration 26, current learner rf\n",
      "[flaml.automl: 06-24 19:24:40] {2669} INFO -  at 852.3s,\testimator rf's best error=0.1101,\tbest estimator rf's best error=0.1101\n",
      "[flaml.automl: 06-24 19:24:40] {2501} INFO - iteration 27, current learner rf\n",
      "[flaml.automl: 06-24 19:24:49] {2669} INFO -  at 861.1s,\testimator rf's best error=0.1101,\tbest estimator rf's best error=0.1101\n",
      "[flaml.automl: 06-24 19:24:49] {2501} INFO - iteration 28, current learner rf\n",
      "[flaml.automl: 06-24 19:24:59] {2669} INFO -  at 871.5s,\testimator rf's best error=0.1101,\tbest estimator rf's best error=0.1101\n",
      "[flaml.automl: 06-24 19:24:59] {2501} INFO - iteration 29, current learner rf\n",
      "[flaml.automl: 06-24 19:25:08] {2669} INFO -  at 880.2s,\testimator rf's best error=0.1101,\tbest estimator rf's best error=0.1101\n",
      "[flaml.automl: 06-24 19:25:08] {2501} INFO - iteration 30, current learner rf\n",
      "[flaml.automl: 06-24 19:25:15] {2669} INFO -  at 887.2s,\testimator rf's best error=0.1101,\tbest estimator rf's best error=0.1101\n",
      "[flaml.automl: 06-24 19:25:15] {2501} INFO - iteration 31, current learner rf\n",
      "[flaml.automl: 06-24 19:25:28] {2669} INFO -  at 900.1s,\testimator rf's best error=0.1101,\tbest estimator rf's best error=0.1101\n",
      "[flaml.automl: 06-24 19:25:37] {2895} INFO - retrain rf for 9.6s\n",
      "[flaml.automl: 06-24 19:25:37] {2900} INFO - retrained model: RandomForestClassifier(max_features=0.038334897785555044, max_leaf_nodes=120,\n",
      "                       n_estimators=14, n_jobs=-1)\n",
      "[flaml.automl: 06-24 19:25:37] {2277} INFO - fit succeeded\n",
      "[flaml.automl: 06-24 19:25:37] {2279} INFO - Time taken to find the best model: 142.37372493743896\n"
     ]
    }
   ],
   "source": [
    "import flaml\n",
    "from flaml import AutoML\n",
    "import joblib\n",
    "\n",
    "path = Path(\"../../../files/\" + data_name + \"baselines/clf_sw.pkl\")\n",
    "\n",
    "if path.is_file():\n",
    "    clf = joblib.load(path)\n",
    "\n",
    "else: \n",
    "    TIME = 15\n",
    "    clf_settings = {\n",
    "        \"time_budget\":TIME * 60,\n",
    "        \"metric\": 'roc_auc',\n",
    "        \"task\": 'classification',\n",
    "        \"log_file_name\": 'clf_log.log',\n",
    "        \"verbose\" : 3,\n",
    "        \"sample_weight\": sw,\n",
    "        \"estimator_list\": [\"lrl2\", \"rf\"]\n",
    "        }\n",
    "\n",
    "    clf = AutoML()\n",
    "    clf.fit(x_train, y_train, **clf_settings)\n",
    "    joblib.dump(clf, path)"
   ]
  },
  {
   "cell_type": "markdown",
   "id": "c9149984-c21a-4350-ac91-cd77c3035093",
   "metadata": {},
   "source": [
    "### Calibration curve"
   ]
  },
  {
   "cell_type": "code",
   "execution_count": 14,
   "id": "e0e8a542-9b38-42cd-92d3-813ac20f1ed9",
   "metadata": {},
   "outputs": [
    {
     "data": {
      "image/png": "[encoded data removed]",
      "text/plain": [
       "<Figure size 1152x288 with 1 Axes>"
      ]
     },
     "metadata": {
      "needs_background": "light"
     },
     "output_type": "display_data"
    }
   ],
   "source": [
    "import matplotlib.pyplot as plt\n",
    "\n",
    "# predict probabilities\n",
    "df_pred = pd.DataFrame([y_test, clf.predict_proba(x_test)[:,1]]).T\n",
    "df_pred.columns=['y_true', 'y_pred_prob']\n",
    "\n",
    "# distributions for each class\n",
    "dist0 = df_pred[df_pred['y_true'] == 0]['y_pred_prob'].tolist()\n",
    "dist1 = df_pred[df_pred['y_true'] == 1]['y_pred_prob'].tolist()\n",
    "\n",
    "# plot\n",
    "plt.figure(figsize=(16, 4))\n",
    "plt.title('Predicted probabilities distribution for each class')\n",
    "plt.hist(dist0,histtype='step', label=\"Inactive (0)\", color='r')  \n",
    "plt.hist(dist1,histtype='step', label=\"Active (1)\", color='g')\n",
    "plt.legend()\n",
    "plt.show()"
   ]
  },
  {
   "cell_type": "code",
   "execution_count": 15,
   "id": "ca459e64-0710-4faf-8989-25bdf35b28db",
   "metadata": {},
   "outputs": [
    {
     "data": {
      "image/png": "[encoded data removed]",
      "text/plain": [
       "<Figure size 432x288 with 1 Axes>"
      ]
     },
     "metadata": {
      "needs_background": "light"
     },
     "output_type": "display_data"
    }
   ],
   "source": [
    "from sklearn.calibration import calibration_curve\n",
    "\n",
    "# reliability diagram\n",
    "fop, mpv = calibration_curve(df_pred['y_true'], df_pred['y_pred_prob'], n_bins=10)\n",
    "\n",
    "# plot perfectly calibrated\n",
    "plt.plot([0, 1], [0, 1], linestyle='--', c='cadetblue')\n",
    "\n",
    "# plot model reliability\n",
    "plt.title('Calibration curve')\n",
    "plt.plot(mpv, fop, marker='.', c='deeppink')\n",
    "plt.show()"
   ]
  },
  {
   "cell_type": "markdown",
   "id": "2d7cffb9-0f9b-44d2-ba89-850f7caaf1a6",
   "metadata": {},
   "source": [
    "### Evaluation metrics: ROC curve"
   ]
  },
  {
   "cell_type": "code",
   "execution_count": 16,
   "id": "6c7a3eee-b879-45b0-8324-4ab8f12735a6",
   "metadata": {},
   "outputs": [
    {
     "data": {
      "image/png": "[encoded data removed]",
      "text/plain": [
       "<Figure size 432x288 with 1 Axes>"
      ]
     },
     "metadata": {
      "needs_background": "light"
     },
     "output_type": "display_data"
    }
   ],
   "source": [
    "from sklearn import metrics\n",
    "\n",
    "# ROC curve\n",
    "fpr, tpr, threshold = metrics.roc_curve(df_pred['y_true'], df_pred['y_pred_prob'])\n",
    "roc_auc = metrics.auc(fpr, tpr)\n",
    "\n",
    "plt.title('Receiver Operating Characteristic')\n",
    "plt.plot(fpr, tpr, 'b', label = 'AUC = %0.3f' % roc_auc)\n",
    "plt.legend(loc = 'lower right')\n",
    "plt.plot([0, 1], [0, 1],'r--')\n",
    "plt.xlim([0, 1])\n",
    "plt.ylim([0, 1])\n",
    "plt.ylabel('True Positive Rate')\n",
    "plt.xlabel('False Positive Rate')\n",
    "plt.show()"
   ]
  }
 ],
 "metadata": {
  "kernelspec": {
   "display_name": "molmap",
   "language": "python",
   "name": "molmap"
  },
  "language_info": {
   "codemirror_mode": {
    "name": "ipython",
    "version": 3
   },
   "file_extension": ".py",
   "mimetype": "text/x-python",
   "name": "python",
   "nbconvert_exporter": "python",
   "pygments_lexer": "ipython3",
   "version": "3.6.15"
  }
 },
 "nbformat": 4,
 "nbformat_minor": 5
}
