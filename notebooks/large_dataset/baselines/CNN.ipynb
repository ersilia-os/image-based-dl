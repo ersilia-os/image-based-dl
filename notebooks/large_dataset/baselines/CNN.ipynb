{
 "cells": [
  {
   "cell_type": "markdown",
   "id": "21b37b03-eb80-49da-9701-7e127366f4c0",
   "metadata": {},
   "source": [
    "# Baseline: CNN with FFs/MolDs"
   ]
  },
  {
   "cell_type": "markdown",
   "id": "69cab4ae-6e65-49ca-8adc-1c1b39b0de68",
   "metadata": {},
   "source": [
    "### Load data"
   ]
  },
  {
   "cell_type": "code",
   "execution_count": 2,
   "id": "8c80f482-6615-4ebc-9edf-09784aa54bf2",
   "metadata": {},
   "outputs": [],
   "source": [
    "'Set the file name of your data'\n",
    "data_name = \"CYP450.csv.gz\""
   ]
  },
  {
   "cell_type": "code",
   "execution_count": 3,
   "id": "f9fe5b11-a305-4409-ad50-31100305f0b0",
   "metadata": {},
   "outputs": [],
   "source": [
    "import numpy as np\n",
    "import pandas as pd\n",
    "\n",
    "data = pd.read_csv(\"../../../data/\" + data_name, compression='gzip')"
   ]
  },
  {
   "cell_type": "markdown",
   "id": "7167d533-5f13-43ee-a614-7a8faf0a7add",
   "metadata": {},
   "source": [
    "Set up (adapt according to your data)"
   ]
  },
  {
   "cell_type": "code",
   "execution_count": 4,
   "id": "6056cd12-36c5-494c-a7f2-7ddfe60d407d",
   "metadata": {},
   "outputs": [
    {
     "name": "stdout",
     "output_type": "stream",
     "text": [
      "Inactive (0): 7429\n",
      "Active (1): 2621\n"
     ]
    }
   ],
   "source": [
    "# keep desired columns\n",
    "data = data[['smiles', 'label_2c9']]\n",
    "\n",
    "# drop molecules with NaN activity\n",
    "data = data.dropna(subset = [\"label_2c9\"])\n",
    "\n",
    "# set SMILES\n",
    "smi = data['smiles'].tolist()\n",
    "\n",
    "# set Y\n",
    "Y = pd.get_dummies(data['label_2c9']).values\n",
    "\n",
    "# number of active and inactive molecules\n",
    "print(\"Inactive (0):\", Y[:,1].tolist().count(0))\n",
    "print(\"Active (1):\", Y[:,1].tolist().count(1))"
   ]
  },
  {
   "cell_type": "markdown",
   "id": "9a64447a-136e-40e0-ae3e-fbe7f8ec5c52",
   "metadata": {},
   "source": [
    "### Compute Fmaps for FFs or MolDs"
   ]
  },
  {
   "cell_type": "code",
   "execution_count": 5,
   "id": "d00dbdc4-c2e8-4992-954d-255eccd245b8",
   "metadata": {},
   "outputs": [],
   "source": [
    "'Compute the Fmaps for FFs or MolDs. Choose only one of both.'\n",
    "desc = \"FFs\"\n",
    "# desc = \"MolDs\""
   ]
  },
  {
   "cell_type": "code",
   "execution_count": 6,
   "id": "991f78e0-af63-4ba9-8f53-7fd5a2cc2293",
   "metadata": {},
   "outputs": [],
   "source": [
    "import pickle\n",
    "from pathlib import Path\n",
    "from molmap import MolMap\n",
    "from molmap import feature\n",
    "from ondiskxy import MatrixWriter, MatrixReader\n",
    "from ondiskxy.utils import chunker\n",
    "import os.path\n",
    "from os import path\n",
    "\n",
    "dir_path_X1 = \"../../../files/\" + data_name + \"/molmap/X1/X1\"\n",
    "dir_path_X2 = \"../../../files/\" + data_name + \"/molmap/X2/X2\"\n",
    "\n",
    "# compute Fmaps for MolDs\n",
    "if desc == \"MolDs\":\n",
    "    if path.isdir(dir_path_X1):\n",
    "        'If it exists, we load it.'\n",
    "        reader = MatrixReader(dir_path=dir_path_X1)\n",
    "        X1 = reader.read()\n",
    "\n",
    "        for row in reader.iterrows():\n",
    "            row\n",
    "\n",
    "    else: \n",
    "        'Otherwise, we compute it and save it to disk.'\n",
    "        # compute MolDs\n",
    "        mp1 = MolMap(ftype='descriptor', metric='cosine',)\n",
    "        mp1.fit(verbose=0, method='umap', min_dist=0.1, n_neighbors=15)\n",
    "\n",
    "        # get Fmaps\n",
    "        writer = MatrixWriter(dir_path=dir_path_X1, max_file_size_mb=1000)\n",
    "        for smiles_chunk in chunker(smi, 10000):\n",
    "            X1 = mp2.batch_transform(smiles_chunk)\n",
    "            writer.append(X1)\n",
    "        \n",
    "# or compute Fmaps for FFs\n",
    "elif desc == \"FFs\":        \n",
    "    if path.isdir(dir_path_X2):\n",
    "        'If it exists, we load it.'\n",
    "        reader = MatrixReader(dir_path=dir_path_X2)\n",
    "        X2 = reader.read()\n",
    "\n",
    "        for row in reader.iterrows():\n",
    "            row\n",
    "\n",
    "    else: \n",
    "        'Otherwise, we compute it and save it to disk.'\n",
    "        # compute FFs\n",
    "        bitsinfo = feature.fingerprint.Extraction().bitsinfo\n",
    "        flist = bitsinfo[bitsinfo.Subtypes.isin(['PubChemFP', 'MACCSFP', 'PharmacoErGFP'])].IDs.tolist()\n",
    "        mp2 = MolMap(ftype = 'fingerprint', fmap_type = 'scatter', flist = flist) \n",
    "        mp2.fit(method = 'umap',  min_dist = 0.1, n_neighbors = 15, verbose = 0)\n",
    "    \n",
    "        # get Fmaps\n",
    "        writer = MatrixWriter(dir_path=dir_path_X2, max_file_size_mb=1000)\n",
    "        for smiles_chunk in chunker(smi, 10000):\n",
    "            X2 = mp2.batch_transform(smiles_chunk)\n",
    "            writer.append(X2)"
   ]
  },
  {
   "cell_type": "code",
   "execution_count": 7,
   "id": "d73fac91-182c-4160-bb05-b937c21f3980",
   "metadata": {},
   "outputs": [],
   "source": [
    "if desc == \"MolDs\":\n",
    "    X = X1\n",
    "elif desc == \"FFs\":\n",
    "    X = X2"
   ]
  },
  {
   "cell_type": "markdown",
   "id": "7426c36b-734d-4a9f-a6c8-02cfec87339a",
   "metadata": {},
   "source": [
    "### Split in train and test sets"
   ]
  },
  {
   "cell_type": "code",
   "execution_count": 8,
   "id": "3360e2cd-7e66-489e-970d-eb3bb2d96969",
   "metadata": {},
   "outputs": [
    {
     "name": "stdout",
     "output_type": "stream",
     "text": [
      "9045 0 1005\n"
     ]
    }
   ],
   "source": [
    "import sys\n",
    "sys.path.append(\"../../../src\")\n",
    "from utils import Rdsplit\n",
    "\n",
    "train_idx, valid_idx, test_idx = Rdsplit(data, random_state = 888, split_size = [0.9, 0, 0.1])"
   ]
  },
  {
   "cell_type": "code",
   "execution_count": 9,
   "id": "5a342a37-9e19-44ac-ab59-ceab6534e5d7",
   "metadata": {},
   "outputs": [],
   "source": [
    "trainX = X[train_idx]\n",
    "trainY = Y[train_idx]\n",
    "testX = X[test_idx]\n",
    "testY = Y[test_idx]"
   ]
  },
  {
   "cell_type": "markdown",
   "id": "a12ef414-7bb5-40fa-8c00-eddb8bfeb2e1",
   "metadata": {},
   "source": [
    "### Set parameters and build Model (CNN)"
   ]
  },
  {
   "cell_type": "code",
   "execution_count": 10,
   "id": "26cc4826-8120-44ec-aa6e-d8614f6cc092",
   "metadata": {},
   "outputs": [
    {
     "name": "stdout",
     "output_type": "stream",
     "text": [
      "Model: \"sequential\"\n",
      "_________________________________________________________________\n",
      "Layer (type)                 Output Shape              Param #   \n",
      "=================================================================\n",
      "conv2d (Conv2D)              (None, 70, 70, 32)        896       \n",
      "_________________________________________________________________\n",
      "max_pooling2d (MaxPooling2D) (None, 35, 35, 32)        0         \n",
      "_________________________________________________________________\n",
      "conv2d_1 (Conv2D)            (None, 33, 33, 64)        18496     \n",
      "_________________________________________________________________\n",
      "max_pooling2d_1 (MaxPooling2 (None, 16, 16, 64)        0         \n",
      "_________________________________________________________________\n",
      "flatten (Flatten)            (None, 16384)             0         \n",
      "_________________________________________________________________\n",
      "dropout (Dropout)            (None, 16384)             0         \n",
      "_________________________________________________________________\n",
      "dense (Dense)                (None, 2)                 32770     \n",
      "=================================================================\n",
      "Total params: 52,162\n",
      "Trainable params: 52,162\n",
      "Non-trainable params: 0\n",
      "_________________________________________________________________\n"
     ]
    }
   ],
   "source": [
    "from tensorflow.keras import layers\n",
    "from tensorflow import keras\n",
    "\n",
    "num_classes = trainY.shape[1]\n",
    "input_shape = X.shape[1:]\n",
    "\n",
    "model = keras.Sequential(\n",
    "    [\n",
    "        keras.Input(shape=input_shape),\n",
    "        layers.Conv2D(32, kernel_size=(3, 3), activation=\"relu\"),\n",
    "        layers.MaxPooling2D(pool_size=(2, 2)),\n",
    "        layers.Conv2D(64, kernel_size=(3, 3), activation=\"relu\"),\n",
    "        layers.MaxPooling2D(pool_size=(2, 2)),\n",
    "        layers.Flatten(),\n",
    "        layers.Dropout(0.5),\n",
    "        layers.Dense(num_classes, activation=\"softmax\"),\n",
    "    ]\n",
    ")\n",
    "\n",
    "model.summary()"
   ]
  },
  {
   "cell_type": "code",
   "execution_count": 11,
   "id": "967b7138-9519-4008-8db2-748ecbe997bb",
   "metadata": {},
   "outputs": [],
   "source": [
    "batch_size = 128\n",
    "epochs = 50\n",
    "\n",
    "model.compile(loss=\"categorical_crossentropy\", optimizer=\"adam\", metrics=[tf.keras.metrics.AUC()])"
   ]
  },
  {
   "cell_type": "markdown",
   "id": "b3bbf1ac-78c1-4b9d-8f52-7109adb351e7",
   "metadata": {},
   "source": [
    "### Train model"
   ]
  },
  {
   "cell_type": "markdown",
   "id": "addba566-173e-4ba4-b351-2adeb9a7ba00",
   "metadata": {},
   "source": [
    "First, compute sample weight."
   ]
  },
  {
   "cell_type": "code",
   "execution_count": 12,
   "id": "d244595b-790b-4ff2-bf72-445b6ad13fbb",
   "metadata": {},
   "outputs": [],
   "source": [
    "from utils import sample_weight\n",
    "\n",
    "sw = sample_weight(trainY[:,1])"
   ]
  },
  {
   "cell_type": "code",
   "execution_count": 13,
   "id": "88a78c13-017f-4fa9-ae12-5424663aedff",
   "metadata": {},
   "outputs": [
    {
     "name": "stdout",
     "output_type": "stream",
     "text": [
      "Train on 8050 samples, validate on 995 samples\n",
      "Epoch 1/50\n",
      "WARNING:tensorflow:Entity <function Function._initialize_uninitialized_variables.<locals>.initialize_variables at 0x7f109b163950> could not be transformed and will be executed as-is. Please report this to the AutoGraph team. When filing the bug, set the verbosity to 10 (on Linux, `export AUTOGRAPH_VERBOSITY=10`) and attach the full output. Cause: No module named 'tensorflow_core.estimator'\n",
      "WARNING: Entity <function Function._initialize_uninitialized_variables.<locals>.initialize_variables at 0x7f109b163950> could not be transformed and will be executed as-is. Please report this to the AutoGraph team. When filing the bug, set the verbosity to 10 (on Linux, `export AUTOGRAPH_VERBOSITY=10`) and attach the full output. Cause: No module named 'tensorflow_core.estimator'\n",
      "8050/8050 [==============================] - 3s 425us/sample - loss: 0.8190 - auc: 0.7828 - val_loss: 0.6817 - val_auc: 0.8537\n",
      "Epoch 2/50\n",
      "8050/8050 [==============================] - 1s 165us/sample - loss: 0.7041 - auc: 0.8513 - val_loss: 0.6899 - val_auc: 0.8014\n",
      "Epoch 3/50\n",
      "8050/8050 [==============================] - 1s 165us/sample - loss: 0.6716 - auc: 0.8640 - val_loss: 0.6407 - val_auc: 0.8977\n",
      "Epoch 4/50\n",
      "8050/8050 [==============================] - 1s 166us/sample - loss: 0.6505 - auc: 0.8744 - val_loss: 0.6375 - val_auc: 0.8507\n",
      "Epoch 5/50\n",
      "8050/8050 [==============================] - 1s 165us/sample - loss: 0.6348 - auc: 0.8818 - val_loss: 0.6236 - val_auc: 0.8883\n",
      "Epoch 6/50\n",
      "8050/8050 [==============================] - 1s 166us/sample - loss: 0.6173 - auc: 0.8858 - val_loss: 0.6209 - val_auc: 0.8983\n",
      "Epoch 7/50\n",
      "8050/8050 [==============================] - 1s 168us/sample - loss: 0.6212 - auc: 0.8874 - val_loss: 0.6089 - val_auc: 0.9038\n",
      "Epoch 8/50\n",
      "8050/8050 [==============================] - 1s 165us/sample - loss: 0.6007 - auc: 0.8926 - val_loss: 0.6145 - val_auc: 0.9099\n",
      "Epoch 9/50\n",
      "8050/8050 [==============================] - 1s 167us/sample - loss: 0.5980 - auc: 0.8946 - val_loss: 0.6202 - val_auc: 0.9086\n",
      "Epoch 10/50\n",
      "8050/8050 [==============================] - 1s 166us/sample - loss: 0.5932 - auc: 0.8970 - val_loss: 0.6114 - val_auc: 0.9030\n",
      "Epoch 11/50\n",
      "8050/8050 [==============================] - 1s 165us/sample - loss: 0.5891 - auc: 0.8975 - val_loss: 0.6231 - val_auc: 0.9162\n",
      "Epoch 12/50\n",
      "8050/8050 [==============================] - 1s 167us/sample - loss: 0.5791 - auc: 0.9012 - val_loss: 0.5951 - val_auc: 0.8997\n",
      "Epoch 13/50\n",
      "8050/8050 [==============================] - 1s 168us/sample - loss: 0.5715 - auc: 0.9033 - val_loss: 0.6210 - val_auc: 0.9187\n",
      "Epoch 14/50\n",
      "8050/8050 [==============================] - 1s 165us/sample - loss: 0.5674 - auc: 0.9059 - val_loss: 0.5993 - val_auc: 0.8967\n",
      "Epoch 15/50\n",
      "8050/8050 [==============================] - 1s 167us/sample - loss: 0.5612 - auc: 0.9074 - val_loss: 0.5931 - val_auc: 0.9093\n",
      "Epoch 16/50\n",
      "8050/8050 [==============================] - 1s 169us/sample - loss: 0.5536 - auc: 0.9099 - val_loss: 0.6192 - val_auc: 0.9181\n",
      "Epoch 17/50\n",
      "8050/8050 [==============================] - 1s 167us/sample - loss: 0.5528 - auc: 0.9092 - val_loss: 0.5936 - val_auc: 0.8986\n",
      "Epoch 18/50\n",
      "8050/8050 [==============================] - 1s 161us/sample - loss: 0.5530 - auc: 0.9100 - val_loss: 0.5918 - val_auc: 0.9068\n",
      "Epoch 19/50\n",
      "8050/8050 [==============================] - 1s 167us/sample - loss: 0.5350 - auc: 0.9148 - val_loss: 0.5978 - val_auc: 0.9108\n",
      "Epoch 20/50\n",
      "8050/8050 [==============================] - 1s 167us/sample - loss: 0.5415 - auc: 0.9136 - val_loss: 0.5842 - val_auc: 0.9058\n",
      "Epoch 21/50\n",
      "8050/8050 [==============================] - 1s 167us/sample - loss: 0.5364 - auc: 0.9151 - val_loss: 0.6051 - val_auc: 0.8660\n",
      "Epoch 22/50\n",
      "8050/8050 [==============================] - 1s 168us/sample - loss: 0.5307 - auc: 0.9163 - val_loss: 0.5848 - val_auc: 0.9020\n",
      "Epoch 23/50\n",
      "8050/8050 [==============================] - 1s 168us/sample - loss: 0.5281 - auc: 0.9177 - val_loss: 0.5882 - val_auc: 0.8875\n",
      "Epoch 24/50\n",
      "8050/8050 [==============================] - 1s 171us/sample - loss: 0.5233 - auc: 0.9183 - val_loss: 0.5782 - val_auc: 0.9039\n",
      "Epoch 25/50\n",
      "8050/8050 [==============================] - 1s 171us/sample - loss: 0.5165 - auc: 0.9215 - val_loss: 0.5830 - val_auc: 0.9075\n",
      "Epoch 26/50\n",
      "8050/8050 [==============================] - 1s 168us/sample - loss: 0.5182 - auc: 0.9194 - val_loss: 0.5946 - val_auc: 0.8743\n",
      "Epoch 27/50\n",
      "8050/8050 [==============================] - 1s 166us/sample - loss: 0.5103 - auc: 0.9224 - val_loss: 0.5732 - val_auc: 0.9022\n",
      "Epoch 28/50\n",
      "8050/8050 [==============================] - 1s 169us/sample - loss: 0.5138 - auc: 0.9219 - val_loss: 0.5768 - val_auc: 0.8981\n",
      "Epoch 29/50\n",
      "8050/8050 [==============================] - 1s 166us/sample - loss: 0.5018 - auc: 0.9255 - val_loss: 0.5750 - val_auc: 0.8998\n",
      "Epoch 30/50\n",
      "8050/8050 [==============================] - 1s 168us/sample - loss: 0.4990 - auc: 0.9255 - val_loss: 0.5727 - val_auc: 0.9061\n",
      "Epoch 31/50\n",
      "8050/8050 [==============================] - 1s 167us/sample - loss: 0.4966 - auc: 0.9263 - val_loss: 0.5822 - val_auc: 0.9157\n",
      "Epoch 32/50\n",
      "8050/8050 [==============================] - 1s 169us/sample - loss: 0.4932 - auc: 0.9271 - val_loss: 0.5695 - val_auc: 0.9006\n",
      "Epoch 33/50\n",
      "8050/8050 [==============================] - 1s 168us/sample - loss: 0.4952 - auc: 0.9279 - val_loss: 0.5761 - val_auc: 0.9020\n",
      "Epoch 34/50\n",
      "8050/8050 [==============================] - 1s 169us/sample - loss: 0.4798 - auc: 0.9306 - val_loss: 0.5838 - val_auc: 0.9173\n",
      "Epoch 35/50\n",
      "8050/8050 [==============================] - 1s 170us/sample - loss: 0.4916 - auc: 0.9272 - val_loss: 0.5792 - val_auc: 0.9224\n",
      "Epoch 36/50\n",
      "8050/8050 [==============================] - 1s 169us/sample - loss: 0.4703 - auc: 0.9336 - val_loss: 0.5749 - val_auc: 0.9062\n",
      "Epoch 37/50\n",
      "8050/8050 [==============================] - 1s 169us/sample - loss: 0.4737 - auc: 0.9325 - val_loss: 0.5890 - val_auc: 0.9065\n",
      "Epoch 38/50\n",
      "8050/8050 [==============================] - 1s 169us/sample - loss: 0.4726 - auc: 0.9337 - val_loss: 0.5709 - val_auc: 0.9088\n",
      "Epoch 39/50\n",
      "8050/8050 [==============================] - 1s 169us/sample - loss: 0.4725 - auc: 0.9337 - val_loss: 0.5799 - val_auc: 0.9099\n",
      "Epoch 40/50\n",
      "8050/8050 [==============================] - 1s 169us/sample - loss: 0.4731 - auc: 0.9312 - val_loss: 0.6362 - val_auc: 0.9282\n",
      "Epoch 41/50\n",
      "8050/8050 [==============================] - 1s 166us/sample - loss: 0.4661 - auc: 0.9365 - val_loss: 0.5892 - val_auc: 0.8964\n",
      "Epoch 42/50\n",
      "8050/8050 [==============================] - 1s 169us/sample - loss: 0.4454 - auc: 0.9398 - val_loss: 0.5862 - val_auc: 0.9047\n",
      "Epoch 43/50\n",
      "8050/8050 [==============================] - 1s 168us/sample - loss: 0.4550 - auc: 0.9382 - val_loss: 0.5824 - val_auc: 0.9132\n",
      "Epoch 44/50\n",
      "8050/8050 [==============================] - 1s 169us/sample - loss: 0.4532 - auc: 0.9378 - val_loss: 0.5715 - val_auc: 0.9177\n",
      "Epoch 45/50\n",
      "8050/8050 [==============================] - 1s 168us/sample - loss: 0.4565 - auc: 0.9367 - val_loss: 0.5828 - val_auc: 0.9216\n",
      "Epoch 46/50\n",
      "8050/8050 [==============================] - 1s 167us/sample - loss: 0.4454 - auc: 0.9397 - val_loss: 0.5900 - val_auc: 0.9130\n",
      "Epoch 47/50\n",
      "8050/8050 [==============================] - 1s 168us/sample - loss: 0.4407 - auc: 0.9424 - val_loss: 0.5771 - val_auc: 0.9046\n",
      "Epoch 48/50\n",
      "8050/8050 [==============================] - 1s 166us/sample - loss: 0.4310 - auc: 0.9441 - val_loss: 0.5913 - val_auc: 0.9148\n",
      "Epoch 49/50\n",
      "8050/8050 [==============================] - 1s 169us/sample - loss: 0.4359 - auc: 0.9427 - val_loss: 0.6011 - val_auc: 0.9188\n",
      "Epoch 50/50\n",
      "8050/8050 [==============================] - 1s 166us/sample - loss: 0.4386 - auc: 0.9417 - val_loss: 0.5986 - val_auc: 0.9190\n"
     ]
    },
    {
     "data": {
      "text/plain": [
       "<tensorflow.python.keras.callbacks.History at 0x7f109acbf5f8>"
      ]
     },
     "execution_count": 13,
     "metadata": {},
     "output_type": "execute_result"
    }
   ],
   "source": [
    "model.fit(trainX, trainY, batch_size=batch_size, epochs=epochs, validation_split=0.11, sample_weight=sw)"
   ]
  },
  {
   "cell_type": "code",
   "execution_count": 14,
   "id": "fe44ad5d-55b9-41af-aee9-ed6213b86f32",
   "metadata": {},
   "outputs": [
    {
     "data": {
      "text/plain": [
       "<AxesSubplot:title={'center':'Performance Learning Curve'}>"
      ]
     },
     "execution_count": 14,
     "metadata": {},
     "output_type": "execute_result"
    },
    {
     "data": {
      "image/png": "[encoded data removed]",
      "text/plain": [
       "<Figure size 432x288 with 1 Axes>"
      ]
     },
     "metadata": {
      "needs_background": "light"
     },
     "output_type": "display_data"
    }
   ],
   "source": [
    "pd.DataFrame(model.history.history)[['auc', 'val_auc']].plot(title=\"Performance Learning Curve\")"
   ]
  },
  {
   "cell_type": "code",
   "execution_count": 15,
   "id": "19a7b7a7-2b83-4999-9095-2ffde40f8cf8",
   "metadata": {},
   "outputs": [
    {
     "data": {
      "text/plain": [
       "<AxesSubplot:title={'center':'Optimization Learning Curve'}>"
      ]
     },
     "execution_count": 15,
     "metadata": {},
     "output_type": "execute_result"
    },
    {
     "data": {
      "image/png": "[encoded data removed]",
      "text/plain": [
       "<Figure size 432x288 with 1 Axes>"
      ]
     },
     "metadata": {
      "needs_background": "light"
     },
     "output_type": "display_data"
    }
   ],
   "source": [
    "pd.DataFrame(model.history.history)[['loss', 'val_loss']].plot(title=\"Optimization Learning Curve\")"
   ]
  },
  {
   "cell_type": "code",
   "execution_count": 16,
   "id": "94e349ff-469f-40dc-a1a6-2016643d1e1d",
   "metadata": {},
   "outputs": [
    {
     "name": "stdout",
     "output_type": "stream",
     "text": [
      "Test AUC: 0.9\n"
     ]
    }
   ],
   "source": [
    "score = model.evaluate(testX, testY, verbose=0)\n",
    "\n",
    "print(\"Test AUC:\", round(score[1], 3))"
   ]
  }
 ],
 "metadata": {
  "kernelspec": {
   "display_name": "molmap",
   "language": "python",
   "name": "molmap"
  },
  "language_info": {
   "codemirror_mode": {
    "name": "ipython",
    "version": 3
   },
   "file_extension": ".py",
   "mimetype": "text/x-python",
   "name": "python",
   "nbconvert_exporter": "python",
   "pygments_lexer": "ipython3",
   "version": "3.6.15"
  }
 },
 "nbformat": 4,
 "nbformat_minor": 5
}
