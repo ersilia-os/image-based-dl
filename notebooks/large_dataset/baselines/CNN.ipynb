{
 "cells": [
  {
   "cell_type": "markdown",
   "id": "21b37b03-eb80-49da-9701-7e127366f4c0",
   "metadata": {},
   "source": [
    "# Baseline: CNN with FFs or MolDs"
   ]
  },
  {
   "cell_type": "code",
   "execution_count": 1,
   "id": "e3abcc9e-1029-4e9b-aaaa-bce34afd2761",
   "metadata": {},
   "outputs": [],
   "source": [
    "import os\n",
    "os.environ[\"CUDA_DEVICE_ORDER\"]=\"PCI_BUS_ID\"\n",
    "os.environ[\"CUDA_VISIBLE_DEVICES\"]='0'\n",
    "\n",
    "import tensorflow as tf\n",
    "\n",
    "physical_devices = tf.config.experimental.list_physical_devices('GPU')\n",
    "tf.config.experimental.set_memory_growth(physical_devices[0], True)"
   ]
  },
  {
   "cell_type": "markdown",
   "id": "69cab4ae-6e65-49ca-8adc-1c1b39b0de68",
   "metadata": {},
   "source": [
    "### Load data"
   ]
  },
  {
   "cell_type": "code",
   "execution_count": null,
   "id": "8c80f482-6615-4ebc-9edf-09784aa54bf2",
   "metadata": {},
   "outputs": [],
   "source": [
    "'Set the file name of your data'\n",
    "data_name = \"CYP450.csv.gz\""
   ]
  },
  {
   "cell_type": "code",
   "execution_count": 2,
   "id": "f9fe5b11-a305-4409-ad50-31100305f0b0",
   "metadata": {},
   "outputs": [],
   "source": [
    "import numpy as np\n",
    "import pandas as pd\n",
    "\n",
    "data = pd.read_csv(\"../../../data/\" + data_name, compression='gzip')"
   ]
  },
  {
   "cell_type": "markdown",
   "id": "7167d533-5f13-43ee-a614-7a8faf0a7add",
   "metadata": {},
   "source": [
    "Set up (adapt according to your data)"
   ]
  },
  {
   "cell_type": "code",
   "execution_count": 3,
   "id": "6056cd12-36c5-494c-a7f2-7ddfe60d407d",
   "metadata": {},
   "outputs": [],
   "source": [
    "# keep desired columns\n",
    "data = data[['smiles', 'label_2c9']]\n",
    "\n",
    "# drop molecules with NaN activity\n",
    "data = data.dropna(subset = [\"label_2c9\"])\n",
    "\n",
    "# set SMILES\n",
    "smi = data['smiles'].tolist()\n",
    "\n",
    "# set Y\n",
    "Y = pd.get_dummies(data['label_2c9']).values\n",
    "\n",
    "# number of active and inactive molecules\n",
    "print(\"Inactive (0):\", Y[:,1].tolist().count(0))\n",
    "print(\"Active (1):\", Y[:,1].tolist().count(1))"
   ]
  },
  {
   "cell_type": "markdown",
   "id": "9a64447a-136e-40e0-ae3e-fbe7f8ec5c52",
   "metadata": {},
   "source": [
    "### Compute Fmaps for FFs or MolDs"
   ]
  },
  {
   "cell_type": "code",
   "execution_count": null,
   "id": "d00dbdc4-c2e8-4992-954d-255eccd245b8",
   "metadata": {},
   "outputs": [],
   "source": [
    "'Compute the Fmaps for FFs or MolDs. Choose only one of both.'\n",
    "desc = \"FF\"\n",
    "# desc = \"MolDs\""
   ]
  },
  {
   "cell_type": "code",
   "execution_count": null,
   "id": "991f78e0-af63-4ba9-8f53-7fd5a2cc2293",
   "metadata": {},
   "outputs": [],
   "source": [
    "import pickle\n",
    "from pathlib import Path\n",
    "from molmap import MolMap\n",
    "from molmap import feature\n",
    "from ondiskxy import MatrixWriter, MatrixReader\n",
    "from ondiskxy.utils import chunker\n",
    "import os.path\n",
    "from os import path\n",
    "\n",
    "dir_path_X1 = \"../../../files/\" + data_name + \"/molmap/X1/X1\"\n",
    "dir_path_X2 = \"../../../files/\" + data_name + \"/molmap/X2/X2\"\n",
    "\n",
    "# compute Fmaps for MolDs\n",
    "if desc == \"MolDs\":\n",
    "    if path.isdir(dir_path_X1):\n",
    "        'If it exists, we load it.'\n",
    "        reader = MatrixReader(dir_path=dir_path_X1)\n",
    "        X1 = reader.read()\n",
    "\n",
    "        for row in reader.iterrows():\n",
    "            row\n",
    "\n",
    "    else: \n",
    "        'Otherwise, we compute it and save it to disk.'\n",
    "        # compute MolDs\n",
    "        mp1 = MolMap(ftype='descriptor', metric='cosine',)\n",
    "        mp1.fit(verbose=0, method='umap', min_dist=0.1, n_neighbors=15)\n",
    "\n",
    "        # get Fmaps\n",
    "        writer = MatrixWriter(dir_path=dir_path_X1, max_file_size_mb=1000)\n",
    "        for smiles_chunk in chunker(smi, 10000):\n",
    "            X1 = mp2.batch_transform(smiles_chunk)\n",
    "            writer.append(X1)\n",
    "        \n",
    "# or compute Fmaps for FFs\n",
    "elif desc = \"FFs\":        \n",
    "    if path.isdir(dir_path_X2):\n",
    "        'If it exists, we load it.'\n",
    "        reader = MatrixReader(dir_path=dir_path_X2)\n",
    "        X2 = reader.read()\n",
    "\n",
    "        for row in reader.iterrows():\n",
    "            row\n",
    "\n",
    "    else: \n",
    "        'Otherwise, we compute it and save it to disk.'\n",
    "        # compute FFs\n",
    "        bitsinfo = feature.fingerprint.Extraction().bitsinfo\n",
    "        flist = bitsinfo[bitsinfo.Subtypes.isin(['PubChemFP', 'MACCSFP', 'PharmacoErGFP'])].IDs.tolist()\n",
    "        mp2 = MolMap(ftype = 'fingerprint', fmap_type = 'scatter', flist = flist) \n",
    "        mp2.fit(method = 'umap',  min_dist = 0.1, n_neighbors = 15, verbose = 0)\n",
    "    \n",
    "        # get Fmaps\n",
    "        writer = MatrixWriter(dir_path=dir_path_X2, max_file_size_mb=1000)\n",
    "        for smiles_chunk in chunker(smi, 10000):\n",
    "            X2 = mp2.batch_transform(smiles_chunk)\n",
    "            writer.append(X2)"
   ]
  },
  {
   "cell_type": "code",
   "execution_count": null,
   "id": "d73fac91-182c-4160-bb05-b937c21f3980",
   "metadata": {},
   "outputs": [],
   "source": [
    "if desc == \"MolDs\":\n",
    "    X = X1\n",
    "elif desc = \"FFs\":\n",
    "    X = X2"
   ]
  },
  {
   "cell_type": "markdown",
   "id": "7426c36b-734d-4a9f-a6c8-02cfec87339a",
   "metadata": {},
   "source": [
    "### Split in train and test sets"
   ]
  },
  {
   "cell_type": "code",
   "execution_count": 8,
   "id": "3360e2cd-7e66-489e-970d-eb3bb2d96969",
   "metadata": {},
   "outputs": [
    {
     "name": "stdout",
     "output_type": "stream",
     "text": [
      "204229 0 22692\n"
     ]
    }
   ],
   "source": [
    "import sys\n",
    "sys.path.append(\"../../../src\")\n",
    "from utils import Rdsplit\n",
    "\n",
    "train_idx, valid_idx, test_idx = Rdsplit(data, random_state = 888, split_size = [0.9, 0, 0.1])"
   ]
  },
  {
   "cell_type": "code",
   "execution_count": 9,
   "id": "5a342a37-9e19-44ac-ab59-ceab6534e5d7",
   "metadata": {},
   "outputs": [],
   "source": [
    "trainX = X[train_idx]\n",
    "trainY = Y[train_idx]\n",
    "testX = X[test_idx]\n",
    "testY = Y[test_idx]"
   ]
  },
  {
   "cell_type": "markdown",
   "id": "a12ef414-7bb5-40fa-8c00-eddb8bfeb2e1",
   "metadata": {},
   "source": [
    "### Set parameters and build Model (CNN)"
   ]
  },
  {
   "cell_type": "code",
   "execution_count": 13,
   "id": "26cc4826-8120-44ec-aa6e-d8614f6cc092",
   "metadata": {},
   "outputs": [
    {
     "name": "stdout",
     "output_type": "stream",
     "text": [
      "Model: \"sequential\"\n",
      "_________________________________________________________________\n",
      "Layer (type)                 Output Shape              Param #   \n",
      "=================================================================\n",
      "conv2d (Conv2D)              (None, 70, 70, 32)        896       \n",
      "_________________________________________________________________\n",
      "max_pooling2d (MaxPooling2D) (None, 35, 35, 32)        0         \n",
      "_________________________________________________________________\n",
      "conv2d_1 (Conv2D)            (None, 33, 33, 64)        18496     \n",
      "_________________________________________________________________\n",
      "max_pooling2d_1 (MaxPooling2 (None, 16, 16, 64)        0         \n",
      "_________________________________________________________________\n",
      "flatten (Flatten)            (None, 16384)             0         \n",
      "_________________________________________________________________\n",
      "dropout (Dropout)            (None, 16384)             0         \n",
      "_________________________________________________________________\n",
      "dense (Dense)                (None, 2)                 32770     \n",
      "=================================================================\n",
      "Total params: 52,162\n",
      "Trainable params: 52,162\n",
      "Non-trainable params: 0\n",
      "_________________________________________________________________\n"
     ]
    }
   ],
   "source": [
    "from tensorflow.keras import layers\n",
    "from tensorflow import keras\n",
    "\n",
    "num_classes = trainY.shape[1]\n",
    "input_shape = X.shape[1:]\n",
    "\n",
    "model = keras.Sequential(\n",
    "    [\n",
    "        keras.Input(shape=input_shape),\n",
    "        layers.Conv2D(32, kernel_size=(3, 3), activation=\"relu\"),\n",
    "        layers.MaxPooling2D(pool_size=(2, 2)),\n",
    "        layers.Conv2D(64, kernel_size=(3, 3), activation=\"relu\"),\n",
    "        layers.MaxPooling2D(pool_size=(2, 2)),\n",
    "        layers.Flatten(),\n",
    "        layers.Dropout(0.5),\n",
    "        layers.Dense(num_classes, activation=\"softmax\"),\n",
    "    ]\n",
    ")\n",
    "\n",
    "model.summary()"
   ]
  },
  {
   "cell_type": "code",
   "execution_count": 14,
   "id": "967b7138-9519-4008-8db2-748ecbe997bb",
   "metadata": {},
   "outputs": [],
   "source": [
    "batch_size = 128\n",
    "epochs = 50\n",
    "\n",
    "model.compile(loss=\"categorical_crossentropy\", optimizer=\"adam\", metrics=[\"accuracy\"])"
   ]
  },
  {
   "cell_type": "markdown",
   "id": "b3bbf1ac-78c1-4b9d-8f52-7109adb351e7",
   "metadata": {},
   "source": [
    "### Train model"
   ]
  },
  {
   "cell_type": "markdown",
   "id": "addba566-173e-4ba4-b351-2adeb9a7ba00",
   "metadata": {},
   "source": [
    "First, compute sample weight."
   ]
  },
  {
   "cell_type": "code",
   "execution_count": null,
   "id": "d244595b-790b-4ff2-bf72-445b6ad13fbb",
   "metadata": {},
   "outputs": [],
   "source": [
    "from utils import sample_weight\n",
    "\n",
    "sw = sample_weight(trainY[:,1])"
   ]
  },
  {
   "cell_type": "code",
   "execution_count": 16,
   "id": "88a78c13-017f-4fa9-ae12-5424663aedff",
   "metadata": {},
   "outputs": [
    {
     "name": "stdout",
     "output_type": "stream",
     "text": [
      "Train on 181763 samples, validate on 22466 samples\n",
      "Epoch 1/50\n",
      "WARNING:tensorflow:Entity <function Function._initialize_uninitialized_variables.<locals>.initialize_variables at 0x7f89805c1c80> could not be transformed and will be executed as-is. Please report this to the AutoGraph team. When filing the bug, set the verbosity to 10 (on Linux, `export AUTOGRAPH_VERBOSITY=10`) and attach the full output. Cause: No module named 'tensorflow_core.estimator'\n",
      "WARNING: Entity <function Function._initialize_uninitialized_variables.<locals>.initialize_variables at 0x7f89805c1c80> could not be transformed and will be executed as-is. Please report this to the AutoGraph team. When filing the bug, set the verbosity to 10 (on Linux, `export AUTOGRAPH_VERBOSITY=10`) and attach the full output. Cause: No module named 'tensorflow_core.estimator'\n",
      "181763/181763 [==============================] - 39s 215us/sample - loss: 1.0803 - accuracy: 0.7450 - val_loss: 0.9567 - val_accuracy: 0.7830\n",
      "Epoch 2/50\n",
      "181763/181763 [==============================] - 30s 166us/sample - loss: 0.9711 - accuracy: 0.7795 - val_loss: 0.9456 - val_accuracy: 0.8139\n",
      "Epoch 3/50\n",
      "181763/181763 [==============================] - 30s 167us/sample - loss: 0.8883 - accuracy: 0.7896 - val_loss: 1.1009 - val_accuracy: 0.9038\n",
      "Epoch 4/50\n",
      "181763/181763 [==============================] - 30s 168us/sample - loss: 0.8563 - accuracy: 0.8030 - val_loss: 0.9087 - val_accuracy: 0.7891\n",
      "Epoch 5/50\n",
      "181763/181763 [==============================] - 31s 168us/sample - loss: 0.8387 - accuracy: 0.8084 - val_loss: 0.9782 - val_accuracy: 0.7832\n",
      "Epoch 6/50\n",
      "181763/181763 [==============================] - 31s 169us/sample - loss: 0.8119 - accuracy: 0.8107 - val_loss: 0.8958 - val_accuracy: 0.7861\n",
      "Epoch 7/50\n",
      "181763/181763 [==============================] - 31s 169us/sample - loss: 0.7979 - accuracy: 0.8153 - val_loss: 0.8915 - val_accuracy: 0.8074\n",
      "Epoch 8/50\n",
      "181763/181763 [==============================] - 31s 170us/sample - loss: 0.7651 - accuracy: 0.8243 - val_loss: 0.9115 - val_accuracy: 0.8357\n",
      "Epoch 9/50\n",
      "181763/181763 [==============================] - 31s 170us/sample - loss: 0.7608 - accuracy: 0.8227 - val_loss: 0.8892 - val_accuracy: 0.8441\n",
      "Epoch 10/50\n",
      "181763/181763 [==============================] - 31s 170us/sample - loss: 0.7394 - accuracy: 0.8298 - val_loss: 0.9061 - val_accuracy: 0.7603\n",
      "Epoch 11/50\n",
      "181763/181763 [==============================] - 31s 170us/sample - loss: 0.7267 - accuracy: 0.8305 - val_loss: 0.9669 - val_accuracy: 0.8395\n",
      "Epoch 12/50\n",
      "181763/181763 [==============================] - 31s 169us/sample - loss: 0.7212 - accuracy: 0.8325 - val_loss: 0.8697 - val_accuracy: 0.8445\n",
      "Epoch 13/50\n",
      "181763/181763 [==============================] - 31s 170us/sample - loss: 0.7161 - accuracy: 0.8379 - val_loss: 0.8776 - val_accuracy: 0.8611\n",
      "Epoch 14/50\n",
      "181763/181763 [==============================] - 31s 170us/sample - loss: 0.6989 - accuracy: 0.8389 - val_loss: 0.8966 - val_accuracy: 0.8380\n",
      "Epoch 15/50\n",
      "181763/181763 [==============================] - 31s 171us/sample - loss: 0.6900 - accuracy: 0.8380 - val_loss: 0.8765 - val_accuracy: 0.8588\n",
      "Epoch 16/50\n",
      "181763/181763 [==============================] - 31s 170us/sample - loss: 0.6557 - accuracy: 0.8404 - val_loss: 0.9194 - val_accuracy: 0.8479\n",
      "Epoch 17/50\n",
      "181763/181763 [==============================] - 31s 170us/sample - loss: 0.6444 - accuracy: 0.8477 - val_loss: 0.8650 - val_accuracy: 0.8355\n",
      "Epoch 18/50\n",
      "181763/181763 [==============================] - 31s 168us/sample - loss: 0.6621 - accuracy: 0.8452 - val_loss: 1.0380 - val_accuracy: 0.8833\n",
      "Epoch 19/50\n",
      "181763/181763 [==============================] - 31s 170us/sample - loss: 0.6215 - accuracy: 0.8534 - val_loss: 0.9354 - val_accuracy: 0.9008\n",
      "Epoch 20/50\n",
      "181763/181763 [==============================] - 31s 171us/sample - loss: 0.6302 - accuracy: 0.8521 - val_loss: 1.0643 - val_accuracy: 0.8926\n",
      "Epoch 21/50\n",
      "181763/181763 [==============================] - 31s 169us/sample - loss: 0.6240 - accuracy: 0.8554 - val_loss: 0.9247 - val_accuracy: 0.8340\n",
      "Epoch 22/50\n",
      "181763/181763 [==============================] - 31s 171us/sample - loss: 0.6127 - accuracy: 0.8548 - val_loss: 0.9859 - val_accuracy: 0.8887\n",
      "Epoch 23/50\n",
      "181763/181763 [==============================] - 31s 171us/sample - loss: 0.6151 - accuracy: 0.8545 - val_loss: 1.0218 - val_accuracy: 0.8902\n",
      "Epoch 24/50\n",
      "181763/181763 [==============================] - 31s 171us/sample - loss: 0.6013 - accuracy: 0.8588 - val_loss: 1.0473 - val_accuracy: 0.8832\n",
      "Epoch 25/50\n",
      "181763/181763 [==============================] - 31s 170us/sample - loss: 0.6099 - accuracy: 0.8550 - val_loss: 0.9633 - val_accuracy: 0.8575\n",
      "Epoch 26/50\n",
      "181763/181763 [==============================] - 31s 171us/sample - loss: 0.5987 - accuracy: 0.8615 - val_loss: 0.9869 - val_accuracy: 0.8817\n",
      "Epoch 27/50\n",
      "181763/181763 [==============================] - 31s 170us/sample - loss: 0.5934 - accuracy: 0.8581 - val_loss: 1.0964 - val_accuracy: 0.8832\n",
      "Epoch 28/50\n",
      "181763/181763 [==============================] - 31s 170us/sample - loss: 0.5994 - accuracy: 0.8608 - val_loss: 0.9691 - val_accuracy: 0.8649\n",
      "Epoch 29/50\n",
      "181763/181763 [==============================] - 31s 170us/sample - loss: 0.6079 - accuracy: 0.8539 - val_loss: 1.1124 - val_accuracy: 0.8952\n",
      "Epoch 30/50\n",
      "181763/181763 [==============================] - 31s 171us/sample - loss: 0.5744 - accuracy: 0.8640 - val_loss: 1.2939 - val_accuracy: 0.9063\n",
      "Epoch 31/50\n",
      "181763/181763 [==============================] - 31s 171us/sample - loss: 0.5834 - accuracy: 0.8638 - val_loss: 1.1454 - val_accuracy: 0.9075\n",
      "Epoch 32/50\n",
      "181763/181763 [==============================] - 31s 171us/sample - loss: 0.6071 - accuracy: 0.8594 - val_loss: 0.9479 - val_accuracy: 0.8402\n",
      "Epoch 33/50\n",
      "181763/181763 [==============================] - 31s 171us/sample - loss: 0.5918 - accuracy: 0.8602 - val_loss: 0.9575 - val_accuracy: 0.8578\n",
      "Epoch 34/50\n",
      "181763/181763 [==============================] - 31s 170us/sample - loss: 0.5693 - accuracy: 0.8655 - val_loss: 1.1514 - val_accuracy: 0.8918\n",
      "Epoch 35/50\n",
      "181763/181763 [==============================] - 31s 170us/sample - loss: 0.5956 - accuracy: 0.8640 - val_loss: 0.9894 - val_accuracy: 0.8527\n",
      "Epoch 36/50\n",
      "181763/181763 [==============================] - 31s 171us/sample - loss: 0.5695 - accuracy: 0.8657 - val_loss: 1.1583 - val_accuracy: 0.8942\n",
      "Epoch 37/50\n",
      "181763/181763 [==============================] - 31s 171us/sample - loss: 0.5833 - accuracy: 0.8642 - val_loss: 1.0447 - val_accuracy: 0.8854\n",
      "Epoch 38/50\n",
      "181763/181763 [==============================] - 31s 170us/sample - loss: 0.6183 - accuracy: 0.8539 - val_loss: 0.9904 - val_accuracy: 0.8300\n",
      "Epoch 39/50\n",
      "181763/181763 [==============================] - 31s 171us/sample - loss: 0.5870 - accuracy: 0.8607 - val_loss: 1.0114 - val_accuracy: 0.8710\n",
      "Epoch 40/50\n",
      "181763/181763 [==============================] - 31s 171us/sample - loss: 0.6189 - accuracy: 0.8582 - val_loss: 0.9266 - val_accuracy: 0.8344\n",
      "Epoch 41/50\n",
      "181763/181763 [==============================] - 31s 170us/sample - loss: 0.6061 - accuracy: 0.8568 - val_loss: 1.5269 - val_accuracy: 0.9319\n",
      "Epoch 42/50\n",
      "181763/181763 [==============================] - 31s 170us/sample - loss: 0.5853 - accuracy: 0.8615 - val_loss: 1.0623 - val_accuracy: 0.8741\n",
      "Epoch 43/50\n",
      "181763/181763 [==============================] - 31s 171us/sample - loss: 0.6425 - accuracy: 0.8525 - val_loss: 1.0753 - val_accuracy: 0.8694\n",
      "Epoch 44/50\n",
      "181763/181763 [==============================] - 31s 170us/sample - loss: 0.6129 - accuracy: 0.8546 - val_loss: 1.1378 - val_accuracy: 0.8637\n",
      "Epoch 45/50\n",
      "181763/181763 [==============================] - 31s 170us/sample - loss: 0.5778 - accuracy: 0.8614 - val_loss: 1.0852 - val_accuracy: 0.8494\n",
      "Epoch 46/50\n",
      "181763/181763 [==============================] - 31s 171us/sample - loss: 0.5931 - accuracy: 0.8583 - val_loss: 1.5649 - val_accuracy: 0.9339\n",
      "Epoch 47/50\n",
      "181763/181763 [==============================] - 31s 171us/sample - loss: 0.6180 - accuracy: 0.8549 - val_loss: 1.0228 - val_accuracy: 0.8582\n",
      "Epoch 48/50\n",
      "181763/181763 [==============================] - 31s 170us/sample - loss: 0.6142 - accuracy: 0.8553 - val_loss: 1.0460 - val_accuracy: 0.8243\n",
      "Epoch 49/50\n",
      "181763/181763 [==============================] - 31s 170us/sample - loss: 0.6065 - accuracy: 0.8546 - val_loss: 1.1288 - val_accuracy: 0.8492\n",
      "Epoch 50/50\n",
      "181763/181763 [==============================] - 31s 171us/sample - loss: 0.6041 - accuracy: 0.8548 - val_loss: 1.0204 - val_accuracy: 0.8589\n"
     ]
    },
    {
     "data": {
      "text/plain": [
       "<tensorflow.python.keras.callbacks.History at 0x7f898057d6d8>"
      ]
     },
     "execution_count": 16,
     "metadata": {},
     "output_type": "execute_result"
    }
   ],
   "source": [
    "model.fit(trainX, trainY, batch_size=batch_size, epochs=epochs, validation_split=0.11, sample_weight=sw)"
   ]
  },
  {
   "cell_type": "code",
   "execution_count": 17,
   "id": "fe44ad5d-55b9-41af-aee9-ed6213b86f32",
   "metadata": {},
   "outputs": [
    {
     "data": {
      "text/plain": [
       "<AxesSubplot:title={'center':'Performance Learning Curve'}>"
      ]
     },
     "execution_count": 17,
     "metadata": {},
     "output_type": "execute_result"
    },
    {
     "data": {
      "image/png": "[encoded data removed]",
      "text/plain": [
       "<Figure size 432x288 with 1 Axes>"
      ]
     },
     "metadata": {
      "needs_background": "light"
     },
     "output_type": "display_data"
    }
   ],
   "source": [
    "pd.DataFrame(model.history.history)[['accuracy', 'val_accuracy']].plot(title=\"Performance Learning Curve\")"
   ]
  },
  {
   "cell_type": "code",
   "execution_count": 18,
   "id": "19a7b7a7-2b83-4999-9095-2ffde40f8cf8",
   "metadata": {},
   "outputs": [
    {
     "data": {
      "text/plain": [
       "<AxesSubplot:title={'center':'Optimization Learning Curve'}>"
      ]
     },
     "execution_count": 18,
     "metadata": {},
     "output_type": "execute_result"
    },
    {
     "data": {
      "image/png": "[encoded data removed]",
      "text/plain": [
       "<Figure size 432x288 with 1 Axes>"
      ]
     },
     "metadata": {
      "needs_background": "light"
     },
     "output_type": "display_data"
    }
   ],
   "source": [
    "pd.DataFrame(model.history.history)[['loss', 'val_loss']].plot(title=\"Optimization Learning Curve\")"
   ]
  },
  {
   "cell_type": "code",
   "execution_count": 19,
   "id": "94e349ff-469f-40dc-a1a6-2016643d1e1d",
   "metadata": {},
   "outputs": [
    {
     "name": "stdout",
     "output_type": "stream",
     "text": [
      "Test loss: 0.32310359342302486\n",
      "Test accuracy: 0.8587608\n"
     ]
    }
   ],
   "source": [
    "score_original = model.evaluate(testX, testY, verbose=0)\n",
    "print(\"Test loss:\", score_original[0])\n",
    "print(\"Test accuracy:\", score_original[1])"
   ]
  }
 ],
 "metadata": {
  "kernelspec": {
   "display_name": "molmap",
   "language": "python",
   "name": "molmap"
  },
  "language_info": {
   "codemirror_mode": {
    "name": "ipython",
    "version": 3
   },
   "file_extension": ".py",
   "mimetype": "text/x-python",
   "name": "python",
   "nbconvert_exporter": "python",
   "pygments_lexer": "ipython3",
   "version": "3.6.15"
  }
 },
 "nbformat": 4,
 "nbformat_minor": 5
}
