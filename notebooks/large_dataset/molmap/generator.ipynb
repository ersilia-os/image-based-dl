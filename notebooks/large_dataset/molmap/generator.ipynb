{
 "cells": [
  {
   "cell_type": "markdown",
   "metadata": {},
   "source": [
    "# MolMap with generator (dual-path approach)"
   ]
  },
  {
   "cell_type": "code",
   "execution_count": 1,
   "metadata": {},
   "outputs": [],
   "source": [
    "import os\n",
    "os.environ[\"CUDA_DEVICE_ORDER\"]=\"PCI_BUS_ID\"\n",
    "os.environ[\"CUDA_VISIBLE_DEVICES\"]='0'\n",
    "\n",
    "import tensorflow as tf\n",
    "\n",
    "physical_devices = tf.config.experimental.list_physical_devices('GPU')\n",
    "tf.config.experimental.set_memory_growth(physical_devices[0], True)"
   ]
  },
  {
   "cell_type": "markdown",
   "metadata": {},
   "source": [
    "### Load data"
   ]
  },
  {
   "cell_type": "code",
   "execution_count": 2,
   "metadata": {},
   "outputs": [],
   "source": [
    "'Set the file name of your data'\n",
    "data_name = \"CYP450.csv.gz\""
   ]
  },
  {
   "cell_type": "code",
   "execution_count": 3,
   "metadata": {},
   "outputs": [],
   "source": [
    "import numpy as np\n",
    "import pandas as pd\n",
    "\n",
    "data = pd.read_csv(\"../../../data/\" + data_name, compression='gzip')"
   ]
  },
  {
   "cell_type": "markdown",
   "metadata": {},
   "source": [
    "Set up (adapt according to your data)"
   ]
  },
  {
   "cell_type": "code",
   "execution_count": 4,
   "metadata": {},
   "outputs": [
    {
     "name": "stdout",
     "output_type": "stream",
     "text": [
      "Inactive (0): 7429\n",
      "Active (1): 2621\n"
     ]
    }
   ],
   "source": [
    "# keep desired columns\n",
    "data = data[['smiles', 'label_2c9']]\n",
    "\n",
    "# drop molecules with NaN activity\n",
    "data = data.dropna(subset = [\"label_2c9\"])\n",
    "\n",
    "# set SMILES\n",
    "smi = data['smiles'].tolist()\n",
    "\n",
    "# set Y\n",
    "Y = pd.get_dummies(data['label_2c9']).values\n",
    "\n",
    "# number of active and inactive molecules\n",
    "print(\"Inactive (0):\", Y[:,1].tolist().count(0))\n",
    "print(\"Active (1):\", Y[:,1].tolist().count(1))"
   ]
  },
  {
   "cell_type": "markdown",
   "metadata": {},
   "source": [
    "### Do MolMap: from MolDs & FFs to Fmaps"
   ]
  },
  {
   "cell_type": "code",
   "execution_count": 5,
   "metadata": {},
   "outputs": [],
   "source": [
    "import pickle\n",
    "from molmap import MolMap\n",
    "from molmap import feature\n",
    "from ondiskxy import MatrixWriter\n",
    "from ondiskxy.utils import chunker\n",
    "import os\n",
    "from os import path\n",
    "\n",
    "dir_path_X1 = \"../../../files/\" + data_name + \"/molmap/X1/X1\"\n",
    "dir_path_X2 = \"../../../files/\" + data_name + \"/molmap/X2/X2\"\n",
    "\n",
    "if not path.isdir(dir_path_X1) or not path.isdir(dir_path_X2):\n",
    "    'If it doesn´t exist, we compute it and save it to disk.'\n",
    "    # compute MolDs\n",
    "    mp1 = MolMap(ftype='descriptor', metric='cosine',)\n",
    "    mp1.fit(verbose=0, method='umap', min_dist=0.1, n_neighbors=15)\n",
    "    \n",
    "    # compute FFs\n",
    "    bitsinfo = feature.fingerprint.Extraction().bitsinfo\n",
    "    flist = bitsinfo[bitsinfo.Subtypes.isin(['PubChemFP', 'MACCSFP', 'PharmacoErGFP'])].IDs.tolist()\n",
    "    mp2 = MolMap(ftype = 'fingerprint', fmap_type = 'scatter', flist = flist) \n",
    "    mp2.fit(method = 'umap',  min_dist = 0.1, n_neighbors = 15, verbose = 0)\n",
    "\n",
    "    # get Fmaps and save them in chunks to disk \n",
    "    writer = MatrixWriter(dir_path=dir_path_X1, max_file_size_mb=1000)\n",
    "    for smiles_chunk in chunker(smi, 10000):\n",
    "        X1 = mp1.batch_transform(smiles_chunk)\n",
    "        writer.append(X1)\n",
    "        \n",
    "    writer = MatrixWriter(dir_path=dir_path_X2, max_file_size_mb=1000)\n",
    "    for smiles_chunk in chunker(smi, 10000):\n",
    "        X2 = mp2.batch_transform(smiles_chunk)\n",
    "        writer.append(X2)"
   ]
  },
  {
   "cell_type": "markdown",
   "metadata": {},
   "source": [
    "### Get indices for train, validation and test sets"
   ]
  },
  {
   "cell_type": "code",
   "execution_count": 6,
   "metadata": {},
   "outputs": [
    {
     "name": "stdout",
     "output_type": "stream",
     "text": [
      "8040 1005 1005\n"
     ]
    }
   ],
   "source": [
    "import sys\n",
    "sys.path.append(\"../../../src\")\n",
    "from utils import Rdsplit\n",
    "\n",
    "train_idx, valid_idx, test_idx = Rdsplit(data, random_state = 888)"
   ]
  },
  {
   "cell_type": "markdown",
   "metadata": {},
   "source": [
    "### Get train, validation and test sets"
   ]
  },
  {
   "cell_type": "markdown",
   "metadata": {},
   "source": [
    "**Get X (train, val and test)**\n",
    "\n",
    "First, if we don't have our X1 and X2 matrices saved in one single file in disk, we do an assembler. "
   ]
  },
  {
   "cell_type": "code",
   "execution_count": 7,
   "metadata": {},
   "outputs": [],
   "source": [
    "# assembler\n",
    "from ondiskxy.hdf5 import Hdf5Assembler\n",
    "\n",
    "path_X1 = \"../../../files/\" + data_name + \"/molmap/X1/X1.h5\"\n",
    "path_X2 = \"../../../files/\" + data_name + \"/molmap/X2/X2.h5\"\n",
    "\n",
    "if not path.isfile(path_X1) or not path.isfile(path_X2):\n",
    "    'If it doesn´t exist, we compute it and save it to disk.'\n",
    "    # assembler X1\n",
    "    assembler = Hdf5Assembler(dir_path_X1)\n",
    "    assembler.assemble(path_X1)\n",
    "    \n",
    "    # assembler X2\n",
    "    assembler = Hdf5Assembler(dir_path_X2)\n",
    "    assembler.assemble(path_X2)"
   ]
  },
  {
   "cell_type": "markdown",
   "metadata": {},
   "source": [
    "Then, we access to this matrices X1 and X2 and we keep only the needed indexes for computing our train, val and test files."
   ]
  },
  {
   "cell_type": "code",
   "execution_count": 8,
   "metadata": {},
   "outputs": [],
   "source": [
    "# filter_by_index \n",
    "from ondiskxy import filter_by_index\n",
    "\n",
    "path_trainX1 = \"../../../files/\" + data_name + \"/molmap/X1/trainX1.h5\"\n",
    "path_trainX2 = \"../../../files/\" + data_name + \"/molmap/X2/trainX2.h5\"\n",
    "path_validX1 = \"../../../files/\" + data_name + \"/molmap/X1/validX1.h5\"\n",
    "path_validX2 = \"../../../files/\" + data_name + \"/molmap/X2/validX2.h5\"\n",
    "path_testX1 = \"../../../files/\" + data_name + \"/molmap/X1/testX1.h5\"\n",
    "path_testX2 = \"../../../files/\" + data_name + \"/molmap/X2/testX2.h5\"\n",
    "\n",
    "if not path.isfile(path_trainX1):\n",
    "    'If it doesn´t exist, we compute it and save it to disk.' \n",
    "    filter_by_index(train_idx, path_X1, path_trainX1)\n",
    "    filter_by_index(train_idx, path_X2, path_trainX2)\n",
    "    filter_by_index(valid_idx, path_X1, path_validX1)\n",
    "    filter_by_index(valid_idx, path_X2, path_validX2)\n",
    "    filter_by_index(test_idx, path_X1, path_testX1)\n",
    "    filter_by_index(test_idx, path_X2, path_testX2)"
   ]
  },
  {
   "cell_type": "markdown",
   "metadata": {},
   "source": [
    "**Get Y (train, val and test)**\n",
    "\n",
    "(obtained directly)"
   ]
  },
  {
   "cell_type": "code",
   "execution_count": 9,
   "metadata": {},
   "outputs": [],
   "source": [
    "trainY = Y[train_idx]\n",
    "validY = Y[valid_idx]\n",
    "testY = Y[test_idx]"
   ]
  },
  {
   "cell_type": "markdown",
   "metadata": {},
   "source": [
    "### Get dimensions"
   ]
  },
  {
   "cell_type": "code",
   "execution_count": 10,
   "metadata": {},
   "outputs": [],
   "source": [
    "import h5py\n",
    "\n",
    "with h5py.File(path_validX1, \"r\") as f:\n",
    "    validX1 = np.array(f[\"data\"])\n",
    "    \n",
    "with h5py.File(path_validX2, \"r\") as f:\n",
    "    validX2 = np.array(f[\"data\"])"
   ]
  },
  {
   "cell_type": "code",
   "execution_count": 11,
   "metadata": {},
   "outputs": [
    {
     "name": "stdout",
     "output_type": "stream",
     "text": [
      "shape X1: (37, 37, 13)\n",
      "dim X1: (37, 37)\n",
      "n channels X1: 13\n",
      "shape X2: (72, 72, 3)\n",
      "dim X2: (72, 72)\n",
      "n channels X2: 3\n",
      "n classes: 2\n"
     ]
    }
   ],
   "source": [
    "shapeX1 = validX1.shape[1:]\n",
    "dimX1 = shapeX1[:-1]\n",
    "nchannelsX1 = shapeX1[-1]\n",
    "\n",
    "shapeX2 = validX2.shape[1:]\n",
    "dimX2 = shapeX2[:-1]\n",
    "nchannelsX2 = shapeX2[-1]\n",
    "\n",
    "nclasses = validY.shape[1]\n",
    "\n",
    "print(\"shape X1:\", shapeX1)\n",
    "print(\"dim X1:\", dimX1)\n",
    "print(\"n channels X1:\", nchannelsX1)\n",
    "print(\"shape X2:\", shapeX2)\n",
    "print(\"dim X2:\", dimX2)\n",
    "print(\"n channels X2:\", nchannelsX2)\n",
    "print(\"n classes:\", nclasses)"
   ]
  },
  {
   "cell_type": "markdown",
   "metadata": {},
   "source": [
    "### Get generators for train, validation and test"
   ]
  },
  {
   "cell_type": "code",
   "execution_count": 12,
   "metadata": {},
   "outputs": [],
   "source": [
    "from generator import Hdf5Generator\n",
    "\n",
    "XY_train_generator = Hdf5Generator(path_trainX1, dimX1, nchannelsX1, path_trainX2, dimX2, nchannelsX2, trainY[:,1], nclasses, batch_size=512, sample_weight=True, shuffle=True)\n",
    "XY_valid_generator = Hdf5Generator(path_validX1, dimX1, nchannelsX1, path_validX2, dimX2, nchannelsX2, validY[:,1], nclasses, batch_size=512, shuffle=True)\n",
    "XY_test_generator = Hdf5Generator(path_testX1, dimX1, nchannelsX1, path_testX2, dimX2, nchannelsX2, testY[:,1], nclasses, batch_size=512)"
   ]
  },
  {
   "cell_type": "markdown",
   "metadata": {
    "tags": []
   },
   "source": [
    "### Build model (MultiClassEstimator)"
   ]
  },
  {
   "cell_type": "code",
   "execution_count": 13,
   "metadata": {},
   "outputs": [
    {
     "name": "stdout",
     "output_type": "stream",
     "text": [
      "MultiClassEstimator_largedata(callbacks_path='../../../files/CYP450.csv.gz/molmap/checkpoints.h5',\n",
      "                              epochs=100, fmap_shape1=(37, 37, 13),\n",
      "                              fmap_shape2=(72, 72, 3), gpuid='0', n_outputs=2)\n"
     ]
    }
   ],
   "source": [
    "sys.path.append(\"../../../tools/bidd-molmap/molmap/model\")\n",
    "from model import MultiClassEstimator_largedata\n",
    "\n",
    "clf = MultiClassEstimator_largedata(n_outputs=trainY.shape[1], \n",
    "                          fmap_shape1 = shapeX1,\n",
    "                          fmap_shape2 = shapeX2,\n",
    "                          metric='ROC', \n",
    "                          dense_layers = [128, 64],  gpuid = 0, epochs = 100,\n",
    "                          callbacks_path = \"../../../files/\" + data_name + \"/molmap/checkpoints.h5\")"
   ]
  },
  {
   "cell_type": "markdown",
   "metadata": {},
   "source": [
    "### Train model"
   ]
  },
  {
   "cell_type": "code",
   "execution_count": 14,
   "metadata": {},
   "outputs": [],
   "source": [
    "from molmap.model import save_model, load_model\n",
    "\n",
    "dir_path_model = \"../../../files/\" + data_name + \"/molmap/model\"\n",
    "path_history = \"../../../files/\" + data_name + \"/molmap/history.pkl\"\n",
    "\n",
    "if path.isdir(dir_path_model):\n",
    "    with open(path_history, 'rb') as f:\n",
    "        history_dict = pickle.load(f)\n",
    "    clf = load_model(dir_path_model)\n",
    "\n",
    "else: \n",
    "    history_clf = clf.fit(XY_train_generator, XY_valid_generator) \n",
    "    save_model(clf, dir_path_model)\n",
    "    history_dict = history_clf.history\n",
    "    with open(path_history, 'wb') as f:\n",
    "        pickle.dump(history_dict, f)"
   ]
  },
  {
   "cell_type": "markdown",
   "metadata": {
    "tags": []
   },
   "source": [
    "### Plot training history"
   ]
  },
  {
   "cell_type": "code",
   "execution_count": 15,
   "metadata": {},
   "outputs": [
    {
     "data": {
      "text/plain": [
       "<AxesSubplot:title={'center':'Performance Learning Curve'}>"
      ]
     },
     "execution_count": 15,
     "metadata": {},
     "output_type": "execute_result"
    },
    {
     "data": {
      "image/png": "[encoded data removed]",
      "text/plain": [
       "<Figure size 432x288 with 1 Axes>"
      ]
     },
     "metadata": {
      "needs_background": "light"
     },
     "output_type": "display_data"
    }
   ],
   "source": [
    "pd.DataFrame(history_dict)[['accuracy', 'val_accuracy']].plot(title=\"Performance Learning Curve\")"
   ]
  },
  {
   "cell_type": "code",
   "execution_count": 16,
   "metadata": {},
   "outputs": [
    {
     "data": {
      "text/plain": [
       "<AxesSubplot:title={'center':'Optimization Learning Curve'}>"
      ]
     },
     "execution_count": 16,
     "metadata": {},
     "output_type": "execute_result"
    },
    {
     "data": {
      "image/png": "[encoded data removed]",
      "text/plain": [
       "<Figure size 432x288 with 1 Axes>"
      ]
     },
     "metadata": {
      "needs_background": "light"
     },
     "output_type": "display_data"
    }
   ],
   "source": [
    "pd.DataFrame(history_dict)[['loss', 'val_loss']].plot(title=\"Optimization Learning Curve\")"
   ]
  },
  {
   "cell_type": "markdown",
   "metadata": {},
   "source": [
    "### Evaluation on test set: Accuracy"
   ]
  },
  {
   "cell_type": "code",
   "execution_count": 17,
   "metadata": {},
   "outputs": [
    {
     "name": "stdout",
     "output_type": "stream",
     "text": [
      "Test accuracy: 0.834\n"
     ]
    }
   ],
   "source": [
    "score = clf.score(XY_test_generator)\n",
    "print(\"Test accuracy:\", round(score[1], 3))"
   ]
  }
 ],
 "metadata": {
  "interpreter": {
   "hash": "4b953d02031940799c70de464297ad7062f1169bc628a7b2471c13167aae5287"
  },
  "kernelspec": {
   "display_name": "molmap",
   "language": "python",
   "name": "molmap"
  },
  "language_info": {
   "codemirror_mode": {
    "name": "ipython",
    "version": 3
   },
   "file_extension": ".py",
   "mimetype": "text/x-python",
   "name": "python",
   "nbconvert_exporter": "python",
   "pygments_lexer": "ipython3",
   "version": "3.6.15"
  }
 },
 "nbformat": 4,
 "nbformat_minor": 4
}
