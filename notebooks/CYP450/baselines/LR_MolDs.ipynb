{
 "cells": [
  {
   "cell_type": "markdown",
   "metadata": {},
   "source": [
    "# Baseline: Logistic Regression classifier with MolDs"
   ]
  },
  {
   "cell_type": "markdown",
   "metadata": {},
   "source": [
    "### Load data"
   ]
  },
  {
   "cell_type": "code",
   "execution_count": 1,
   "metadata": {},
   "outputs": [],
   "source": [
    "import numpy as np\n",
    "import pandas as pd\n",
    "\n",
    "data = pd.read_csv(\"../../../data/CYP450.csv.gz\", compression='gzip')"
   ]
  },
  {
   "cell_type": "markdown",
   "metadata": {},
   "source": [
    "Set up"
   ]
  },
  {
   "cell_type": "code",
   "execution_count": 2,
   "metadata": {},
   "outputs": [
    {
     "name": "stdout",
     "output_type": "stream",
     "text": [
      "Inactive (0): 7429\n",
      "Active (1): 2621\n"
     ]
    }
   ],
   "source": [
    "# keep desired columns\n",
    "data = data[['smiles', 'label_2c9']]\n",
    "\n",
    "# drop molecules with NaN activity\n",
    "data = data.dropna(subset = [\"label_2c9\"])\n",
    "\n",
    "# set SMILES\n",
    "smi = data['smiles'].tolist()\n",
    "\n",
    "# number of active and inactive molecules \n",
    "print(\"Inactive (0):\", data['label_2c9'].tolist().count(0))\n",
    "print(\"Active (1):\", data['label_2c9'].tolist().count(1))"
   ]
  },
  {
   "cell_type": "markdown",
   "metadata": {},
   "source": [
    "### Compute MolDs"
   ]
  },
  {
   "cell_type": "code",
   "execution_count": 3,
   "metadata": {},
   "outputs": [],
   "source": [
    "import sys\n",
    "sys.path.append(\"../../../src\")\n",
    "import pickle\n",
    "from pathlib import Path\n",
    "from descriptors import MordredCalculator\n",
    "\n",
    "path = Path(\"../../../files/CYP450/baselines/MolDs.pkl\")\n",
    "\n",
    "if path.is_file():\n",
    "    'If it exists, we load it.'\n",
    "    with open(path, \"rb\") as f:\n",
    "        fps = pickle.load(f)\n",
    "else: \n",
    "    'Otherwise, we compute it and save it to disk.'\n",
    "    md = MordredCalculator(smi)\n",
    "    fps = md.calc_mordred()\n",
    "    \n",
    "    with open(path, \"wb+\") as f:\n",
    "        pickle.dump(fps, f, pickle.HIGHEST_PROTOCOL)"
   ]
  },
  {
   "cell_type": "markdown",
   "metadata": {},
   "source": [
    "### Split train and test "
   ]
  },
  {
   "cell_type": "code",
   "execution_count": 4,
   "metadata": {},
   "outputs": [],
   "source": [
    "from sklearn.model_selection import train_test_split\n",
    "\n",
    "# set X and Y\n",
    "X = fps.astype(float)\n",
    "Y = np.array(data['label_2c9'])\n",
    "\n",
    "# split train test\n",
    "x_train, x_test, y_train, y_test = train_test_split(X,Y, test_size=0.25, random_state=42)"
   ]
  },
  {
   "cell_type": "markdown",
   "metadata": {},
   "source": [
    "### Preprocessing: Nan Filtering, Imputing & Scaling"
   ]
  },
  {
   "cell_type": "code",
   "execution_count": 5,
   "metadata": {},
   "outputs": [
    {
     "name": "stdout",
     "output_type": "stream",
     "text": [
      "Nan filtering, original columns 1613, final columns 1464\n"
     ]
    }
   ],
   "source": [
    "from preprocessing import NanFilter\n",
    "\n",
    "nanf = NanFilter()\n",
    "nanf.fit(x_train)\n",
    "x_train = nanf.transform(x_train)\n",
    "x_test = nanf.transform(x_test)"
   ]
  },
  {
   "cell_type": "code",
   "execution_count": 6,
   "metadata": {},
   "outputs": [],
   "source": [
    "from preprocessing import Imputer\n",
    "\n",
    "imp = Imputer()\n",
    "imp.fit(x_train)\n",
    "x_train = imp.transform(x_train)\n",
    "x_test = imp.transform(x_test)"
   ]
  },
  {
   "cell_type": "code",
   "execution_count": 7,
   "metadata": {},
   "outputs": [],
   "source": [
    "from preprocessing import Scaler\n",
    "\n",
    "scal = Scaler()\n",
    "scal.fit(x_train)\n",
    "x_train = scal.transform(x_train)\n",
    "x_test = scal.transform(x_test)"
   ]
  },
  {
   "cell_type": "markdown",
   "metadata": {},
   "source": [
    "### Build and Fit Model"
   ]
  },
  {
   "cell_type": "markdown",
   "metadata": {},
   "source": [
    "Hyperparameter tunning with FLAML. "
   ]
  },
  {
   "cell_type": "code",
   "execution_count": 8,
   "metadata": {},
   "outputs": [],
   "source": [
    "import flaml\n",
    "from flaml import AutoML\n",
    "import joblib\n",
    "\n",
    "path = Path(\"../../../files/CYP450/baselines/logreg_MolDs.pkl\")\n",
    "\n",
    "if path.is_file():\n",
    "    'If it exists, we load it.'\n",
    "    lr = joblib.load(path)\n",
    "else: \n",
    "    'Otherwise, we compute it and save it to disk.'\n",
    "    TIME = 5\n",
    "    clf_settings = {\n",
    "        \"time_budget\":TIME * 60,\n",
    "        \"metric\": 'roc_auc',\n",
    "        \"task\": 'classification',\n",
    "        \"log_file_name\": 'clf_log.log',\n",
    "        \"verbose\" : 3,\n",
    "        \"estimator_list\": [\"lrl2\"]\n",
    "        }\n",
    "\n",
    "    lr = AutoML()\n",
    "    lr.fit(x_train, y_train, **clf_settings)\n",
    "    joblib.dump(lr, path)"
   ]
  },
  {
   "cell_type": "markdown",
   "metadata": {},
   "source": [
    "### Calibration curve"
   ]
  },
  {
   "cell_type": "code",
   "execution_count": 9,
   "metadata": {},
   "outputs": [
    {
     "data": {
      "image/png": "[encoded data removed]",
      "text/plain": [
       "<Figure size 1152x288 with 1 Axes>"
      ]
     },
     "metadata": {
      "needs_background": "light"
     },
     "output_type": "display_data"
    }
   ],
   "source": [
    "import matplotlib.pyplot as plt\n",
    "\n",
    "# predict probabilities\n",
    "df_pred = pd.DataFrame([y_test, lr.predict_proba(x_test)[:,1]]).T\n",
    "df_pred.columns=['y_true', 'y_pred_prob']\n",
    "\n",
    "# distributions for each class\n",
    "dist0 = df_pred[df_pred['y_true'] == 0]['y_pred_prob'].tolist()\n",
    "dist1 = df_pred[df_pred['y_true'] == 1]['y_pred_prob'].tolist()\n",
    "\n",
    "# plot\n",
    "plt.figure(figsize=(16, 4))\n",
    "plt.title('Predicted probabilities distribution for each class')\n",
    "plt.hist(dist0,histtype='step', label=\"Inactive (0)\", color='r')\n",
    "plt.hist(dist1,histtype='step', label=\"Active (1)\", color='g')\n",
    "plt.xlabel('Predicted probability')\n",
    "plt.ylabel('Counts')\n",
    "plt.legend()\n",
    "plt.show()"
   ]
  },
  {
   "cell_type": "code",
   "execution_count": 10,
   "metadata": {},
   "outputs": [
    {
     "data": {
      "image/png": "[encoded data removed]",
      "text/plain": [
       "<Figure size 432x288 with 1 Axes>"
      ]
     },
     "metadata": {
      "needs_background": "light"
     },
     "output_type": "display_data"
    }
   ],
   "source": [
    "from sklearn.calibration import calibration_curve\n",
    "\n",
    "# reliability diagram\n",
    "fop, mpv = calibration_curve(df_pred['y_true'], df_pred['y_pred_prob'], n_bins=10)\n",
    "\n",
    "# plot perfectly calibrated\n",
    "plt.plot([0, 1], [0, 1], linestyle='--', c='cadetblue')\n",
    "\n",
    "# plot model reliability\n",
    "plt.title('Calibration curve')\n",
    "plt.plot(mpv, fop, marker='.', c='deeppink')\n",
    "plt.xlabel('Mean predicted probability (Positive class:1)')\n",
    "plt.ylabel('Fraction of positives (Positive class:1)')\n",
    "plt.show()"
   ]
  },
  {
   "cell_type": "markdown",
   "metadata": {},
   "source": [
    "### Evaluation on test set: Accuracy and AUC"
   ]
  },
  {
   "cell_type": "code",
   "execution_count": 11,
   "metadata": {},
   "outputs": [
    {
     "name": "stdout",
     "output_type": "stream",
     "text": [
      "Accuracy score: 0.857\n"
     ]
    }
   ],
   "source": [
    "from sklearn.metrics import accuracy_score \n",
    "\n",
    "y_pred = lr.predict(x_test)\n",
    "\n",
    "# accuracy\n",
    "acc = accuracy_score(y_test, y_pred)\n",
    "print(\"Accuracy score:\", round(acc,3))"
   ]
  },
  {
   "cell_type": "code",
   "execution_count": 12,
   "metadata": {},
   "outputs": [
    {
     "data": {
      "image/png": "[encoded data removed]",
      "text/plain": [
       "<Figure size 432x288 with 1 Axes>"
      ]
     },
     "metadata": {
      "needs_background": "light"
     },
     "output_type": "display_data"
    }
   ],
   "source": [
    "from sklearn import metrics\n",
    "\n",
    "# ROC curve\n",
    "fpr, tpr, threshold = metrics.roc_curve(df_pred['y_true'], df_pred['y_pred_prob'])\n",
    "roc_auc = metrics.auc(fpr, tpr)\n",
    "\n",
    "plt.title('Receiver Operating Characteristic')\n",
    "plt.plot(fpr, tpr, 'b', label = 'AUC = %0.3f' % roc_auc)\n",
    "plt.legend(loc = 'lower right')\n",
    "plt.plot([0, 1], [0, 1],'r--')\n",
    "plt.xlim([0, 1])\n",
    "plt.ylim([0, 1])\n",
    "plt.ylabel('True Positive Rate')\n",
    "plt.xlabel('False Positive Rate')\n",
    "plt.show()"
   ]
  }
 ],
 "metadata": {
  "kernelspec": {
   "display_name": "molmap",
   "language": "python",
   "name": "molmap"
  },
  "language_info": {
   "codemirror_mode": {
    "name": "ipython",
    "version": 3
   },
   "file_extension": ".py",
   "mimetype": "text/x-python",
   "name": "python",
   "nbconvert_exporter": "python",
   "pygments_lexer": "ipython3",
   "version": "3.6.15"
  }
 },
 "nbformat": 4,
 "nbformat_minor": 4
}
