{
 "cells": [
  {
   "cell_type": "markdown",
   "id": "d557f089-b297-49e4-9d8d-7c3fa224cdc4",
   "metadata": {},
   "source": [
    "# CNN on Griddified MNIST"
   ]
  },
  {
   "cell_type": "markdown",
   "id": "6a6d7a83-3204-4143-b4fc-a4521bdebb92",
   "metadata": {},
   "source": [
    "### Load and flatten data"
   ]
  },
  {
   "cell_type": "code",
   "execution_count": 2,
   "id": "b0aae56c-4bda-4fb3-b154-176a5ceeab4a",
   "metadata": {},
   "outputs": [],
   "source": [
    "import pandas as pd\n",
    "import numpy as np\n",
    "import matplotlib.pyplot as plt\n",
    "from tensorflow import keras\n",
    "\n",
    "# load\n",
    "(x_train, y_train), (x_test, y_test) = keras.datasets.mnist.load_data()\n",
    "\n",
    "# flatten\n",
    "x_train_flatten = x_train.reshape(x_train.shape[0], -1)\n",
    "x_test_flatten = x_test.reshape(x_test.shape[0], -1)"
   ]
  },
  {
   "cell_type": "markdown",
   "id": "9b4dd1dd-a6dd-4b62-bb93-7f0a759f883c",
   "metadata": {},
   "source": [
    "### Do Griddify on train and test sets"
   ]
  },
  {
   "cell_type": "code",
   "execution_count": 1,
   "id": "176af696-5de9-40f8-a499-9c7610ad463b",
   "metadata": {},
   "outputs": [
    {
     "ename": "SyntaxError",
     "evalue": "invalid syntax (<ipython-input-1-7cc1d0d32b38>, line 16)",
     "output_type": "error",
     "traceback": [
      "\u001b[0;36m  File \u001b[0;32m\"<ipython-input-1-7cc1d0d32b38>\"\u001b[0;36m, line \u001b[0;32m16\u001b[0m\n\u001b[0;31m    else:\u001b[0m\n\u001b[0m       ^\u001b[0m\n\u001b[0;31mSyntaxError\u001b[0m\u001b[0;31m:\u001b[0m invalid syntax\n"
     ]
    }
   ],
   "source": [
    "from griddify import Griddify\n",
    "import pickle\n",
    "from pathlib import Path\n",
    "\n",
    "path_train = Path(\"../../files/MNIST/Xi_train.pkl\")\n",
    "path_test = Path(\"../../files/MNIST/Xi_test.pkl\")\n",
    "\n",
    "if path_train.is_file() and path_test.is_file():\n",
    "    'If it exists, we load it.'\n",
    "    with open(path_train, \"rb\") as f:\n",
    "        Xi_train = pickle.load(f)\n",
    "    with open(path_test, \"rb\") as f:\n",
    "        Xi_test = pickle.load(f)\n",
    "else:\n",
    "    'Otherwise, we compute it and save it to disk.'\n",
    "    gf = Griddify(preprocess=False)\n",
    "    gf.fit(x_train_flatten)\n",
    "    Xi_train = gf.transform(x_train_flatten)\n",
    "    Xi_test = gf.transform(x_test_flatten)\n",
    "    \n",
    "    with open(path_train, \"wb+\") as f:\n",
    "        pickle.dump(Xi_train, f, pickle.HIGHEST_PROTOCOL)\n",
    "    with open(path_test, \"wb+\") as f:\n",
    "        pickle.dump(Xi_test, f, pickle.HIGHEST_PROTOCOL)    "
   ]
  },
  {
   "cell_type": "markdown",
   "id": "0fff4553-fe26-46d8-8d70-865667dfee11",
   "metadata": {},
   "source": [
    "### Preprocessing"
   ]
  },
  {
   "cell_type": "code",
   "execution_count": 5,
   "id": "951d27d4-720c-4af3-9edf-f9e28d808cde",
   "metadata": {},
   "outputs": [
    {
     "name": "stdout",
     "output_type": "stream",
     "text": [
      "Xi_train shape: (60000, 28, 28, 1)\n",
      "60000 train samples\n",
      "10000 test samples\n"
     ]
    }
   ],
   "source": [
    "# Scale images to the [0, 1] range\n",
    "Xi_train = Xi_train.astype(\"float32\") / 255\n",
    "Xi_test = Xi_test.astype(\"float32\") / 255\n",
    "\n",
    "# Make sure images have shape (28, 28, 1)\n",
    "Xi_train = np.expand_dims(Xi_train, -1)\n",
    "Xi_test = np.expand_dims(Xi_test, -1)\n",
    "\n",
    "print(\"Xi_train shape:\", Xi_train.shape)\n",
    "print(Xi_train.shape[0], \"train samples\")\n",
    "print(Xi_test.shape[0], \"test samples\")"
   ]
  },
  {
   "cell_type": "markdown",
   "id": "dc0d3c69-9c5b-4c09-8369-0f3c707095a8",
   "metadata": {},
   "source": [
    "### Model"
   ]
  },
  {
   "cell_type": "code",
   "execution_count": null,
   "id": "5e07e157-1fc2-43ee-bec4-a6dc18be108c",
   "metadata": {},
   "outputs": [],
   "source": [
    "'Model parameters'\n",
    "num_classes = 10\n",
    "input_shape = (28, 28, 1)\n",
    "\n",
    "# convert class vectors to binary class matrices\n",
    "y_train = keras.utils.to_categorical(y_train, num_classes)\n",
    "y_test = keras.utils.to_categorical(y_test, num_classes)"
   ]
  },
  {
   "cell_type": "code",
   "execution_count": 7,
   "id": "817bac2c-4433-4684-8054-2dbd178118d7",
   "metadata": {},
   "outputs": [
    {
     "name": "stdout",
     "output_type": "stream",
     "text": [
      "Model: \"sequential\"\n",
      "_________________________________________________________________\n",
      "Layer (type)                 Output Shape              Param #   \n",
      "=================================================================\n",
      "conv2d (Conv2D)              (None, 26, 26, 32)        320       \n",
      "_________________________________________________________________\n",
      "max_pooling2d (MaxPooling2D) (None, 13, 13, 32)        0         \n",
      "_________________________________________________________________\n",
      "conv2d_1 (Conv2D)            (None, 11, 11, 64)        18496     \n",
      "_________________________________________________________________\n",
      "max_pooling2d_1 (MaxPooling2 (None, 5, 5, 64)          0         \n",
      "_________________________________________________________________\n",
      "flatten (Flatten)            (None, 1600)              0         \n",
      "_________________________________________________________________\n",
      "dropout (Dropout)            (None, 1600)              0         \n",
      "_________________________________________________________________\n",
      "dense (Dense)                (None, 10)                16010     \n",
      "=================================================================\n",
      "Total params: 34,826\n",
      "Trainable params: 34,826\n",
      "Non-trainable params: 0\n",
      "_________________________________________________________________\n"
     ]
    }
   ],
   "source": [
    "'Build model'\n",
    "from tensorflow.keras import layers\n",
    "\n",
    "model = keras.Sequential(\n",
    "    [\n",
    "        keras.Input(shape=input_shape),\n",
    "        layers.Conv2D(32, kernel_size=(3, 3), activation=\"relu\"),\n",
    "        layers.MaxPooling2D(pool_size=(2, 2)),\n",
    "        layers.Conv2D(64, kernel_size=(3, 3), activation=\"relu\"),\n",
    "        layers.MaxPooling2D(pool_size=(2, 2)),\n",
    "        layers.Flatten(),\n",
    "        layers.Dropout(0.5),\n",
    "        layers.Dense(num_classes, activation=\"softmax\"),\n",
    "    ]\n",
    ")\n",
    "\n",
    "model.summary()"
   ]
  },
  {
   "cell_type": "markdown",
   "id": "f235a1ca-2331-4980-b536-6e5fc901166b",
   "metadata": {},
   "source": [
    "### Train model"
   ]
  },
  {
   "cell_type": "code",
   "execution_count": 8,
   "id": "4498b239",
   "metadata": {},
   "outputs": [],
   "source": [
    "batch_size = 128\n",
    "epochs = 15\n",
    "\n",
    "model.compile(loss=\"categorical_crossentropy\", optimizer=\"adam\", metrics=[\"accuracy\"])"
   ]
  },
  {
   "cell_type": "code",
   "execution_count": 9,
   "id": "7b550863-f03c-4479-bd0e-1925c8da0ef1",
   "metadata": {},
   "outputs": [
    {
     "name": "stdout",
     "output_type": "stream",
     "text": [
      "Train on 54000 samples, validate on 6000 samples\n",
      "Epoch 1/15\n",
      "WARNING:tensorflow:Entity <function Function._initialize_uninitialized_variables.<locals>.initialize_variables at 0x7f6355363510> could not be transformed and will be executed as-is. Please report this to the AutoGraph team. When filing the bug, set the verbosity to 10 (on Linux, `export AUTOGRAPH_VERBOSITY=10`) and attach the full output. Cause: No module named 'tensorflow_core.estimator'\n",
      "WARNING: Entity <function Function._initialize_uninitialized_variables.<locals>.initialize_variables at 0x7f6355363510> could not be transformed and will be executed as-is. Please report this to the AutoGraph team. When filing the bug, set the verbosity to 10 (on Linux, `export AUTOGRAPH_VERBOSITY=10`) and attach the full output. Cause: No module named 'tensorflow_core.estimator'\n",
      "54000/54000 [==============================] - 4s 70us/sample - loss: 0.4140 - accuracy: 0.8753 - val_loss: 0.1008 - val_accuracy: 0.9707\n",
      "Epoch 2/15\n",
      "54000/54000 [==============================] - 2s 40us/sample - loss: 0.1369 - accuracy: 0.9571 - val_loss: 0.0706 - val_accuracy: 0.9802\n",
      "Epoch 3/15\n",
      "54000/54000 [==============================] - 2s 40us/sample - loss: 0.1069 - accuracy: 0.9677 - val_loss: 0.0625 - val_accuracy: 0.9817\n",
      "Epoch 4/15\n",
      "54000/54000 [==============================] - 2s 40us/sample - loss: 0.0913 - accuracy: 0.9718 - val_loss: 0.0548 - val_accuracy: 0.9838\n",
      "Epoch 5/15\n",
      "54000/54000 [==============================] - 2s 41us/sample - loss: 0.0816 - accuracy: 0.9750 - val_loss: 0.0433 - val_accuracy: 0.9870\n",
      "Epoch 6/15\n",
      "54000/54000 [==============================] - 2s 40us/sample - loss: 0.0742 - accuracy: 0.9763 - val_loss: 0.0427 - val_accuracy: 0.9880\n",
      "Epoch 7/15\n",
      "54000/54000 [==============================] - 2s 40us/sample - loss: 0.0676 - accuracy: 0.9781 - val_loss: 0.0431 - val_accuracy: 0.9877\n",
      "Epoch 8/15\n",
      "54000/54000 [==============================] - 2s 39us/sample - loss: 0.0638 - accuracy: 0.9798 - val_loss: 0.0441 - val_accuracy: 0.9888\n",
      "Epoch 9/15\n",
      "54000/54000 [==============================] - 2s 40us/sample - loss: 0.0614 - accuracy: 0.9803 - val_loss: 0.0418 - val_accuracy: 0.9877\n",
      "Epoch 10/15\n",
      "54000/54000 [==============================] - 2s 40us/sample - loss: 0.0568 - accuracy: 0.9819 - val_loss: 0.0380 - val_accuracy: 0.9900\n",
      "Epoch 11/15\n",
      "54000/54000 [==============================] - 2s 40us/sample - loss: 0.0566 - accuracy: 0.9813 - val_loss: 0.0364 - val_accuracy: 0.9898\n",
      "Epoch 12/15\n",
      "54000/54000 [==============================] - 2s 40us/sample - loss: 0.0522 - accuracy: 0.9832 - val_loss: 0.0381 - val_accuracy: 0.9890\n",
      "Epoch 13/15\n",
      "54000/54000 [==============================] - 2s 40us/sample - loss: 0.0505 - accuracy: 0.9833 - val_loss: 0.0358 - val_accuracy: 0.9902\n",
      "Epoch 14/15\n",
      "54000/54000 [==============================] - 2s 40us/sample - loss: 0.0502 - accuracy: 0.9834 - val_loss: 0.0347 - val_accuracy: 0.9913\n",
      "Epoch 15/15\n",
      "54000/54000 [==============================] - 2s 39us/sample - loss: 0.0455 - accuracy: 0.9855 - val_loss: 0.0324 - val_accuracy: 0.9913\n"
     ]
    },
    {
     "data": {
      "text/plain": [
       "<tensorflow.python.keras.callbacks.History at 0x7f63547271d0>"
      ]
     },
     "execution_count": 9,
     "metadata": {},
     "output_type": "execute_result"
    }
   ],
   "source": [
    "model.fit(Xi_train, y_train, batch_size=batch_size, epochs=epochs, validation_split=0.1)"
   ]
  },
  {
   "cell_type": "code",
   "execution_count": 10,
   "id": "bbdce3f1",
   "metadata": {},
   "outputs": [
    {
     "data": {
      "text/plain": [
       "<AxesSubplot:title={'center':'Performance Learning Curve'}>"
      ]
     },
     "execution_count": 10,
     "metadata": {},
     "output_type": "execute_result"
    },
    {
     "data": {
      "image/png": "[encoded data removed]",
      "text/plain": [
       "<Figure size 432x288 with 1 Axes>"
      ]
     },
     "metadata": {
      "needs_background": "light"
     },
     "output_type": "display_data"
    }
   ],
   "source": [
    "pd.DataFrame(model.history.history)[['accuracy', 'val_accuracy']].plot(title=\"Performance Learning Curve\")"
   ]
  },
  {
   "cell_type": "code",
   "execution_count": 11,
   "id": "67d75e70",
   "metadata": {},
   "outputs": [
    {
     "data": {
      "text/plain": [
       "<AxesSubplot:title={'center':'Optimization Learning Curve'}>"
      ]
     },
     "execution_count": 11,
     "metadata": {},
     "output_type": "execute_result"
    },
    {
     "data": {
      "image/png": "[encoded data removed]",
      "text/plain": [
       "<Figure size 432x288 with 1 Axes>"
      ]
     },
     "metadata": {
      "needs_background": "light"
     },
     "output_type": "display_data"
    }
   ],
   "source": [
    "pd.DataFrame(model.history.history)[['loss', 'val_loss']].plot(title=\"Optimization Learning Curve\")"
   ]
  },
  {
   "cell_type": "markdown",
   "id": "9e790d37-729f-43a6-ae9b-13f4dcc78049",
   "metadata": {},
   "source": [
    "### Evaluation on test set: Loss and Accuracy"
   ]
  },
  {
   "cell_type": "code",
   "execution_count": 12,
   "id": "3cf6cfb5-4b98-49b7-b161-3145960bbed3",
   "metadata": {},
   "outputs": [
    {
     "name": "stdout",
     "output_type": "stream",
     "text": [
      "Test loss: 0.03595221269282629\n",
      "Test accuracy: 0.9877\n"
     ]
    }
   ],
   "source": [
    "score_griddify = model.evaluate(Xi_test, y_test, verbose=0)\n",
    "\n",
    "print(\"Test loss:\", score_griddify[0])\n",
    "print(\"Test accuracy:\", score_griddify[1])"
   ]
  },
  {
   "cell_type": "markdown",
   "id": "3618c3ff-5400-4015-9b44-87ca2302ee59",
   "metadata": {},
   "source": [
    "-----"
   ]
  },
  {
   "cell_type": "markdown",
   "id": "9fe55b5a-2a10-4174-aa96-03bc75906be9",
   "metadata": {},
   "source": [
    "# Performance comparison between the original MNIST and the Griddified one"
   ]
  },
  {
   "cell_type": "markdown",
   "id": "6dd3e2ae-7250-4da4-b698-819c3190f9fc",
   "metadata": {},
   "source": [
    "### Preprocess, fit and predict the original MNIST dataset"
   ]
  },
  {
   "cell_type": "markdown",
   "id": "7e810253",
   "metadata": {},
   "source": [
    "Preprocessing"
   ]
  },
  {
   "cell_type": "code",
   "execution_count": 13,
   "id": "f0f4e5ff",
   "metadata": {},
   "outputs": [
    {
     "name": "stdout",
     "output_type": "stream",
     "text": [
      "x_train shape: (60000, 28, 28, 1)\n",
      "60000 train samples\n",
      "10000 test samples\n"
     ]
    }
   ],
   "source": [
    "# Scale images to the [0, 1] range\n",
    "x_train = x_train.astype(\"float32\") / 255\n",
    "x_test = x_test.astype(\"float32\") / 255\n",
    "\n",
    "# Make sure images have shape (28, 28, 1)\n",
    "x_train = np.expand_dims(x_train, -1)\n",
    "x_test = np.expand_dims(x_test, -1)\n",
    "\n",
    "print(\"x_train shape:\", x_train.shape)\n",
    "print(x_train.shape[0], \"train samples\")\n",
    "print(x_test.shape[0], \"test samples\")"
   ]
  },
  {
   "cell_type": "markdown",
   "id": "bdb568ac-cede-4bb1-b9c2-82594bc003d1",
   "metadata": {},
   "source": [
    "Fitting"
   ]
  },
  {
   "cell_type": "code",
   "execution_count": 16,
   "id": "70e440ac-c7c8-4c0d-bafc-f8b7b0db8248",
   "metadata": {},
   "outputs": [
    {
     "name": "stdout",
     "output_type": "stream",
     "text": [
      "Train on 54000 samples, validate on 6000 samples\n",
      "Epoch 1/15\n",
      "54000/54000 [==============================] - 2s 41us/sample - loss: 0.0517 - accuracy: 0.9835 - val_loss: 0.0289 - val_accuracy: 0.9910\n",
      "Epoch 2/15\n",
      "54000/54000 [==============================] - 2s 40us/sample - loss: 0.0490 - accuracy: 0.9850 - val_loss: 0.0313 - val_accuracy: 0.9908\n",
      "Epoch 3/15\n",
      "54000/54000 [==============================] - 2s 40us/sample - loss: 0.0481 - accuracy: 0.9846 - val_loss: 0.0303 - val_accuracy: 0.9902\n",
      "Epoch 4/15\n",
      "54000/54000 [==============================] - 2s 40us/sample - loss: 0.0458 - accuracy: 0.9851 - val_loss: 0.0303 - val_accuracy: 0.9917\n",
      "Epoch 5/15\n",
      "54000/54000 [==============================] - 2s 40us/sample - loss: 0.0452 - accuracy: 0.9854 - val_loss: 0.0278 - val_accuracy: 0.9917\n",
      "Epoch 6/15\n",
      "54000/54000 [==============================] - 2s 39us/sample - loss: 0.0426 - accuracy: 0.9864 - val_loss: 0.0282 - val_accuracy: 0.9923\n",
      "Epoch 7/15\n",
      "54000/54000 [==============================] - 2s 40us/sample - loss: 0.0424 - accuracy: 0.9866 - val_loss: 0.0287 - val_accuracy: 0.9923\n",
      "Epoch 8/15\n",
      "54000/54000 [==============================] - 2s 39us/sample - loss: 0.0401 - accuracy: 0.9872 - val_loss: 0.0301 - val_accuracy: 0.9917\n",
      "Epoch 9/15\n",
      "54000/54000 [==============================] - 2s 39us/sample - loss: 0.0388 - accuracy: 0.9877 - val_loss: 0.0298 - val_accuracy: 0.9915\n",
      "Epoch 10/15\n",
      "54000/54000 [==============================] - 2s 40us/sample - loss: 0.0386 - accuracy: 0.9881 - val_loss: 0.0293 - val_accuracy: 0.9923\n",
      "Epoch 11/15\n",
      "54000/54000 [==============================] - 2s 40us/sample - loss: 0.0385 - accuracy: 0.9876 - val_loss: 0.0295 - val_accuracy: 0.9913\n",
      "Epoch 12/15\n",
      "54000/54000 [==============================] - 2s 40us/sample - loss: 0.0374 - accuracy: 0.9880 - val_loss: 0.0287 - val_accuracy: 0.9922\n",
      "Epoch 13/15\n",
      "54000/54000 [==============================] - 2s 40us/sample - loss: 0.0342 - accuracy: 0.9886 - val_loss: 0.0291 - val_accuracy: 0.9922\n",
      "Epoch 14/15\n",
      "54000/54000 [==============================] - 2s 40us/sample - loss: 0.0349 - accuracy: 0.9887 - val_loss: 0.0287 - val_accuracy: 0.9922\n",
      "Epoch 15/15\n",
      "54000/54000 [==============================] - 2s 40us/sample - loss: 0.0349 - accuracy: 0.9887 - val_loss: 0.0272 - val_accuracy: 0.9925\n"
     ]
    },
    {
     "data": {
      "text/plain": [
       "<tensorflow.python.keras.callbacks.History at 0x7f6484660630>"
      ]
     },
     "execution_count": 16,
     "metadata": {},
     "output_type": "execute_result"
    }
   ],
   "source": [
    "model.fit(x_train, y_train, batch_size=batch_size, epochs=epochs, validation_split=0.1)"
   ]
  },
  {
   "cell_type": "markdown",
   "id": "8f1ea7ee-263a-415b-a4e1-6bbc62e7952c",
   "metadata": {},
   "source": [
    "Predicting"
   ]
  },
  {
   "cell_type": "code",
   "execution_count": 17,
   "id": "44cd7650-9c14-4e44-b14d-8f0e3ed3e39b",
   "metadata": {},
   "outputs": [
    {
     "name": "stdout",
     "output_type": "stream",
     "text": [
      "Test loss: 0.02309368198779266\n",
      "Test accuracy: 0.9921\n"
     ]
    }
   ],
   "source": [
    "score_original = model.evaluate(x_test, y_test, verbose=0)\n",
    "\n",
    "print(\"Test loss:\", score_original[0])\n",
    "print(\"Test accuracy:\", score_original[1])"
   ]
  },
  {
   "cell_type": "markdown",
   "id": "3e76c66f-0d31-4ca0-8c37-55187ec7835e",
   "metadata": {
    "tags": []
   },
   "source": [
    "### Comparison of test accuracies"
   ]
  },
  {
   "cell_type": "code",
   "execution_count": 18,
   "id": "7a1228c7-99ce-4530-b27f-c8ad815c788b",
   "metadata": {},
   "outputs": [
    {
     "name": "stdout",
     "output_type": "stream",
     "text": [
      "Accuracy of the original MNIST 0.9921\n",
      "Accuracy of the griddified MNIST 0.9877\n",
      "Difference: 0.004400015\n"
     ]
    }
   ],
   "source": [
    "print(\"Accuracy of the original MNIST\", score_original[1])\n",
    "print(\"Accuracy of the Griddified MNIST\", score_griddify[1])\n",
    "print(\"Difference:\", abs(score_original[1] - score_griddify[1]))"
   ]
  }
 ],
 "metadata": {
  "interpreter": {
   "hash": "4b953d02031940799c70de464297ad7062f1169bc628a7b2471c13167aae5287"
  },
  "kernelspec": {
   "display_name": "Python 3",
   "language": "python",
   "name": "python3"
  },
  "language_info": {
   "codemirror_mode": {
    "name": "ipython",
    "version": 3
   },
   "file_extension": ".py",
   "mimetype": "text/x-python",
   "name": "python",
   "nbconvert_exporter": "python",
   "pygments_lexer": "ipython3",
   "version": "3.6.15"
  }
 },
 "nbformat": 4,
 "nbformat_minor": 5
}
