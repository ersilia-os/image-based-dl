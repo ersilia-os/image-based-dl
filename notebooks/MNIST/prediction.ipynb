{
 "cells": [
  {
   "cell_type": "markdown",
   "id": "d557f089-b297-49e4-9d8d-7c3fa224cdc4",
   "metadata": {},
   "source": [
    "# CNN on Griddified MNIST"
   ]
  },
  {
   "cell_type": "code",
   "execution_count": 1,
   "id": "8af3e9a5-2b56-47ef-b32e-84c8bb8f9cfe",
   "metadata": {},
   "outputs": [],
   "source": [
    "import os\n",
    "os.environ[\"CUDA_DEVICE_ORDER\"]=\"PCI_BUS_ID\"\n",
    "os.environ[\"CUDA_VISIBLE_DEVICES\"]='0'\n",
    "\n",
    "import tensorflow as tf\n",
    "\n",
    "physical_devices = tf.config.experimental.list_physical_devices('GPU')\n",
    "tf.config.experimental.set_memory_growth(physical_devices[0], True)"
   ]
  },
  {
   "cell_type": "markdown",
   "id": "6a6d7a83-3204-4143-b4fc-a4521bdebb92",
   "metadata": {},
   "source": [
    "### Load and flatten data"
   ]
  },
  {
   "cell_type": "code",
   "execution_count": 2,
   "id": "b0aae56c-4bda-4fb3-b154-176a5ceeab4a",
   "metadata": {},
   "outputs": [],
   "source": [
    "import pandas as pd\n",
    "import numpy as np\n",
    "import matplotlib.pyplot as plt\n",
    "from tensorflow import keras\n",
    "\n",
    "# load\n",
    "(x_train, y_train), (x_test, y_test) = keras.datasets.mnist.load_data()\n",
    "\n",
    "# flatten\n",
    "x_train_flatten = x_train.reshape(x_train.shape[0], -1)\n",
    "x_test_flatten = x_test.reshape(x_test.shape[0], -1)"
   ]
  },
  {
   "cell_type": "markdown",
   "id": "9b4dd1dd-a6dd-4b62-bb93-7f0a759f883c",
   "metadata": {},
   "source": [
    "### Do Griddify on train and test sets"
   ]
  },
  {
   "cell_type": "code",
   "execution_count": 3,
   "id": "176af696-5de9-40f8-a499-9c7610ad463b",
   "metadata": {},
   "outputs": [],
   "source": [
    "from griddify import Griddify\n",
    "import pickle\n",
    "from pathlib import Path\n",
    "\n",
    "path_train = Path(\"../../files/MNIST/Xi_train.pkl\")\n",
    "path_test = Path(\"../../files/MNIST/Xi_test.pkl\")\n",
    "\n",
    "if path_train.is_file() and path_test.is_file():\n",
    "    'If it exists, we load it.'\n",
    "    with open(path_train, \"rb\") as f:\n",
    "        Xi_train = pickle.load(f)\n",
    "    with open(path_test, \"rb\") as f:\n",
    "        Xi_test = pickle.load(f)\n",
    "else:\n",
    "    'Otherwise, we compute it and save it to disk.'\n",
    "    gf = Griddify(preprocess=False)\n",
    "    gf.fit(x_train_flatten)\n",
    "    Xi_train = gf.transform(x_train_flatten)\n",
    "    Xi_test = gf.transform(x_test_flatten)\n",
    "    \n",
    "    with open(path_train, \"wb+\") as f:\n",
    "        pickle.dump(Xi_train, f, pickle.HIGHEST_PROTOCOL)\n",
    "    with open(path_test, \"wb+\") as f:\n",
    "        pickle.dump(Xi_test, f, pickle.HIGHEST_PROTOCOL)    "
   ]
  },
  {
   "cell_type": "markdown",
   "id": "0fff4553-fe26-46d8-8d70-865667dfee11",
   "metadata": {},
   "source": [
    "### Preprocessing"
   ]
  },
  {
   "cell_type": "code",
   "execution_count": 4,
   "id": "951d27d4-720c-4af3-9edf-f9e28d808cde",
   "metadata": {},
   "outputs": [
    {
     "name": "stdout",
     "output_type": "stream",
     "text": [
      "Xi_train shape: (60000, 28, 28, 1)\n",
      "60000 train samples\n",
      "10000 test samples\n"
     ]
    }
   ],
   "source": [
    "# Scale images to the [0, 1] range\n",
    "Xi_train = Xi_train.astype(\"float32\") / 255\n",
    "Xi_test = Xi_test.astype(\"float32\") / 255\n",
    "\n",
    "# Make sure images have shape (28, 28, 1)\n",
    "Xi_train = np.expand_dims(Xi_train, -1)\n",
    "Xi_test = np.expand_dims(Xi_test, -1)\n",
    "\n",
    "print(\"Xi_train shape:\", Xi_train.shape)\n",
    "print(Xi_train.shape[0], \"train samples\")\n",
    "print(Xi_test.shape[0], \"test samples\")"
   ]
  },
  {
   "cell_type": "markdown",
   "id": "dc0d3c69-9c5b-4c09-8369-0f3c707095a8",
   "metadata": {},
   "source": [
    "### Model"
   ]
  },
  {
   "cell_type": "code",
   "execution_count": 5,
   "id": "5e07e157-1fc2-43ee-bec4-a6dc18be108c",
   "metadata": {},
   "outputs": [],
   "source": [
    "'Model parameters'\n",
    "num_classes = 10\n",
    "input_shape = (28, 28, 1)\n",
    "\n",
    "# convert class vectors to binary class matrices\n",
    "y_train = keras.utils.to_categorical(y_train, num_classes)\n",
    "y_test = keras.utils.to_categorical(y_test, num_classes)"
   ]
  },
  {
   "cell_type": "code",
   "execution_count": 6,
   "id": "817bac2c-4433-4684-8054-2dbd178118d7",
   "metadata": {},
   "outputs": [
    {
     "name": "stdout",
     "output_type": "stream",
     "text": [
      "Model: \"sequential\"\n",
      "_________________________________________________________________\n",
      "Layer (type)                 Output Shape              Param #   \n",
      "=================================================================\n",
      "conv2d (Conv2D)              (None, 26, 26, 32)        320       \n",
      "_________________________________________________________________\n",
      "max_pooling2d (MaxPooling2D) (None, 13, 13, 32)        0         \n",
      "_________________________________________________________________\n",
      "conv2d_1 (Conv2D)            (None, 11, 11, 64)        18496     \n",
      "_________________________________________________________________\n",
      "max_pooling2d_1 (MaxPooling2 (None, 5, 5, 64)          0         \n",
      "_________________________________________________________________\n",
      "flatten (Flatten)            (None, 1600)              0         \n",
      "_________________________________________________________________\n",
      "dropout (Dropout)            (None, 1600)              0         \n",
      "_________________________________________________________________\n",
      "dense (Dense)                (None, 10)                16010     \n",
      "=================================================================\n",
      "Total params: 34,826\n",
      "Trainable params: 34,826\n",
      "Non-trainable params: 0\n",
      "_________________________________________________________________\n"
     ]
    }
   ],
   "source": [
    "'Build model'\n",
    "from tensorflow.keras import layers\n",
    "\n",
    "model = keras.Sequential(\n",
    "    [\n",
    "        keras.Input(shape=input_shape),\n",
    "        layers.Conv2D(32, kernel_size=(3, 3), activation=\"relu\"),\n",
    "        layers.MaxPooling2D(pool_size=(2, 2)),\n",
    "        layers.Conv2D(64, kernel_size=(3, 3), activation=\"relu\"),\n",
    "        layers.MaxPooling2D(pool_size=(2, 2)),\n",
    "        layers.Flatten(),\n",
    "        layers.Dropout(0.5),\n",
    "        layers.Dense(num_classes, activation=\"softmax\"),\n",
    "    ]\n",
    ")\n",
    "\n",
    "model.summary()"
   ]
  },
  {
   "cell_type": "markdown",
   "id": "f235a1ca-2331-4980-b536-6e5fc901166b",
   "metadata": {},
   "source": [
    "### Train model"
   ]
  },
  {
   "cell_type": "code",
   "execution_count": 7,
   "id": "4498b239",
   "metadata": {},
   "outputs": [],
   "source": [
    "batch_size = 128\n",
    "epochs = 15\n",
    "\n",
    "model.compile(loss=\"categorical_crossentropy\", optimizer=\"adam\", metrics=[tf.keras.metrics.AUC()])"
   ]
  },
  {
   "cell_type": "code",
   "execution_count": 8,
   "id": "7b550863-f03c-4479-bd0e-1925c8da0ef1",
   "metadata": {},
   "outputs": [
    {
     "name": "stdout",
     "output_type": "stream",
     "text": [
      "Train on 54000 samples, validate on 6000 samples\n",
      "Epoch 1/15\n",
      "WARNING:tensorflow:Entity <function Function._initialize_uninitialized_variables.<locals>.initialize_variables at 0x7f2ee4a69b70> could not be transformed and will be executed as-is. Please report this to the AutoGraph team. When filing the bug, set the verbosity to 10 (on Linux, `export AUTOGRAPH_VERBOSITY=10`) and attach the full output. Cause: No module named 'tensorflow_core.estimator'\n",
      "WARNING: Entity <function Function._initialize_uninitialized_variables.<locals>.initialize_variables at 0x7f2ee4a69b70> could not be transformed and will be executed as-is. Please report this to the AutoGraph team. When filing the bug, set the verbosity to 10 (on Linux, `export AUTOGRAPH_VERBOSITY=10`) and attach the full output. Cause: No module named 'tensorflow_core.estimator'\n",
      "54000/54000 [==============================] - 4s 73us/sample - loss: 0.4235 - auc: 0.9891 - val_loss: 0.1040 - val_auc: 0.9988\n",
      "Epoch 2/15\n",
      "54000/54000 [==============================] - 2s 41us/sample - loss: 0.1443 - auc: 0.9977 - val_loss: 0.0700 - val_auc: 0.9991\n",
      "Epoch 3/15\n",
      "54000/54000 [==============================] - 2s 41us/sample - loss: 0.1087 - auc: 0.9984 - val_loss: 0.0595 - val_auc: 0.9993\n",
      "Epoch 4/15\n",
      "54000/54000 [==============================] - 2s 41us/sample - loss: 0.0941 - auc: 0.9986 - val_loss: 0.0490 - val_auc: 0.9994\n",
      "Epoch 5/15\n",
      "54000/54000 [==============================] - 2s 41us/sample - loss: 0.0849 - auc: 0.9988 - val_loss: 0.0506 - val_auc: 0.9993\n",
      "Epoch 6/15\n",
      "54000/54000 [==============================] - 2s 41us/sample - loss: 0.0782 - auc: 0.9989 - val_loss: 0.0441 - val_auc: 0.9994\n",
      "Epoch 7/15\n",
      "54000/54000 [==============================] - 2s 40us/sample - loss: 0.0716 - auc: 0.9989 - val_loss: 0.0430 - val_auc: 0.9995\n",
      "Epoch 8/15\n",
      "54000/54000 [==============================] - 2s 41us/sample - loss: 0.0685 - auc: 0.9991 - val_loss: 0.0417 - val_auc: 0.9994\n",
      "Epoch 9/15\n",
      "54000/54000 [==============================] - 2s 41us/sample - loss: 0.0642 - auc: 0.9992 - val_loss: 0.0389 - val_auc: 0.9994\n",
      "Epoch 10/15\n",
      "54000/54000 [==============================] - 2s 41us/sample - loss: 0.0615 - auc: 0.9992 - val_loss: 0.0418 - val_auc: 0.9993\n",
      "Epoch 11/15\n",
      "54000/54000 [==============================] - 2s 41us/sample - loss: 0.0588 - auc: 0.9993 - val_loss: 0.0369 - val_auc: 0.9995\n",
      "Epoch 12/15\n",
      "54000/54000 [==============================] - 2s 41us/sample - loss: 0.0580 - auc: 0.9993 - val_loss: 0.0393 - val_auc: 0.9995\n",
      "Epoch 13/15\n",
      "54000/54000 [==============================] - 2s 41us/sample - loss: 0.0559 - auc: 0.9993 - val_loss: 0.0402 - val_auc: 0.9994\n",
      "Epoch 14/15\n",
      "54000/54000 [==============================] - 2s 42us/sample - loss: 0.0522 - auc: 0.9994 - val_loss: 0.0359 - val_auc: 0.9995\n",
      "Epoch 15/15\n",
      "54000/54000 [==============================] - 2s 41us/sample - loss: 0.0493 - auc: 0.9994 - val_loss: 0.0363 - val_auc: 0.9994\n"
     ]
    },
    {
     "data": {
      "text/plain": [
       "<tensorflow.python.keras.callbacks.History at 0x7f2ee4a8a2b0>"
      ]
     },
     "execution_count": 8,
     "metadata": {},
     "output_type": "execute_result"
    }
   ],
   "source": [
    "model.fit(Xi_train, y_train, batch_size=batch_size, epochs=epochs, validation_split=0.1)"
   ]
  },
  {
   "cell_type": "code",
   "execution_count": 9,
   "id": "bbdce3f1",
   "metadata": {},
   "outputs": [
    {
     "data": {
      "text/plain": [
       "<AxesSubplot:title={'center':'Performance Learning Curve'}>"
      ]
     },
     "execution_count": 9,
     "metadata": {},
     "output_type": "execute_result"
    },
    {
     "data": {
      "image/png": "[encoded data removed]",
      "text/plain": [
       "<Figure size 432x288 with 1 Axes>"
      ]
     },
     "metadata": {
      "needs_background": "light"
     },
     "output_type": "display_data"
    }
   ],
   "source": [
    "pd.DataFrame(model.history.history)[['auc', 'val_auc']].plot(title=\"Performance Learning Curve\")"
   ]
  },
  {
   "cell_type": "code",
   "execution_count": 10,
   "id": "67d75e70",
   "metadata": {},
   "outputs": [
    {
     "data": {
      "text/plain": [
       "<AxesSubplot:title={'center':'Optimization Learning Curve'}>"
      ]
     },
     "execution_count": 10,
     "metadata": {},
     "output_type": "execute_result"
    },
    {
     "data": {
      "image/png": "[encoded data removed]",
      "text/plain": [
       "<Figure size 432x288 with 1 Axes>"
      ]
     },
     "metadata": {
      "needs_background": "light"
     },
     "output_type": "display_data"
    }
   ],
   "source": [
    "pd.DataFrame(model.history.history)[['loss', 'val_loss']].plot(title=\"Optimization Learning Curve\")"
   ]
  },
  {
   "cell_type": "markdown",
   "id": "9e790d37-729f-43a6-ae9b-13f4dcc78049",
   "metadata": {},
   "source": [
    "### Evaluation on test set: AUC"
   ]
  },
  {
   "cell_type": "code",
   "execution_count": 11,
   "id": "3cf6cfb5-4b98-49b7-b161-3145960bbed3",
   "metadata": {},
   "outputs": [
    {
     "name": "stdout",
     "output_type": "stream",
     "text": [
      "Test AUC: 0.9995564\n"
     ]
    }
   ],
   "source": [
    "score_griddify = model.evaluate(Xi_test, y_test, verbose=0)\n",
    "\n",
    "print(\"Test AUC:\", score_griddify[1])"
   ]
  },
  {
   "cell_type": "markdown",
   "id": "3618c3ff-5400-4015-9b44-87ca2302ee59",
   "metadata": {},
   "source": [
    "-----"
   ]
  },
  {
   "cell_type": "markdown",
   "id": "9fe55b5a-2a10-4174-aa96-03bc75906be9",
   "metadata": {},
   "source": [
    "# Performance comparison between the original MNIST and the Griddified one"
   ]
  },
  {
   "cell_type": "markdown",
   "id": "6dd3e2ae-7250-4da4-b698-819c3190f9fc",
   "metadata": {},
   "source": [
    "### Preprocess, fit and predict the original MNIST dataset"
   ]
  },
  {
   "cell_type": "markdown",
   "id": "7e810253",
   "metadata": {},
   "source": [
    "Preprocessing"
   ]
  },
  {
   "cell_type": "code",
   "execution_count": 12,
   "id": "f0f4e5ff",
   "metadata": {},
   "outputs": [
    {
     "name": "stdout",
     "output_type": "stream",
     "text": [
      "x_train shape: (60000, 28, 28, 1)\n",
      "60000 train samples\n",
      "10000 test samples\n"
     ]
    }
   ],
   "source": [
    "# Scale images to the [0, 1] range\n",
    "x_train = x_train.astype(\"float32\") / 255\n",
    "x_test = x_test.astype(\"float32\") / 255\n",
    "\n",
    "# Make sure images have shape (28, 28, 1)\n",
    "x_train = np.expand_dims(x_train, -1)\n",
    "x_test = np.expand_dims(x_test, -1)\n",
    "\n",
    "print(\"x_train shape:\", x_train.shape)\n",
    "print(x_train.shape[0], \"train samples\")\n",
    "print(x_test.shape[0], \"test samples\")"
   ]
  },
  {
   "cell_type": "markdown",
   "id": "bdb568ac-cede-4bb1-b9c2-82594bc003d1",
   "metadata": {},
   "source": [
    "Fitting"
   ]
  },
  {
   "cell_type": "code",
   "execution_count": 13,
   "id": "70e440ac-c7c8-4c0d-bafc-f8b7b0db8248",
   "metadata": {},
   "outputs": [
    {
     "name": "stdout",
     "output_type": "stream",
     "text": [
      "Train on 54000 samples, validate on 6000 samples\n",
      "Epoch 1/15\n",
      "54000/54000 [==============================] - 2s 43us/sample - loss: 0.4326 - auc: 0.9868 - val_loss: 0.0867 - val_auc: 0.9989\n",
      "Epoch 2/15\n",
      "54000/54000 [==============================] - 2s 42us/sample - loss: 0.1500 - auc: 0.9972 - val_loss: 0.0636 - val_auc: 0.9989\n",
      "Epoch 3/15\n",
      "54000/54000 [==============================] - 2s 42us/sample - loss: 0.1234 - auc: 0.9978 - val_loss: 0.0543 - val_auc: 0.9992\n",
      "Epoch 4/15\n",
      "54000/54000 [==============================] - 2s 42us/sample - loss: 0.1051 - auc: 0.9983 - val_loss: 0.0495 - val_auc: 0.9994\n",
      "Epoch 5/15\n",
      "54000/54000 [==============================] - 2s 42us/sample - loss: 0.0959 - auc: 0.9983 - val_loss: 0.0452 - val_auc: 0.9995\n",
      "Epoch 6/15\n",
      "54000/54000 [==============================] - 2s 41us/sample - loss: 0.0883 - auc: 0.9987 - val_loss: 0.0418 - val_auc: 0.9995\n",
      "Epoch 7/15\n",
      "54000/54000 [==============================] - 2s 41us/sample - loss: 0.0808 - auc: 0.9989 - val_loss: 0.0401 - val_auc: 0.9995\n",
      "Epoch 8/15\n",
      "54000/54000 [==============================] - 2s 41us/sample - loss: 0.0784 - auc: 0.9990 - val_loss: 0.0380 - val_auc: 0.9997\n",
      "Epoch 9/15\n",
      "54000/54000 [==============================] - 2s 41us/sample - loss: 0.0741 - auc: 0.9989 - val_loss: 0.0370 - val_auc: 0.9996\n",
      "Epoch 10/15\n",
      "54000/54000 [==============================] - 2s 41us/sample - loss: 0.0714 - auc: 0.9989 - val_loss: 0.0338 - val_auc: 0.9996\n",
      "Epoch 11/15\n",
      "54000/54000 [==============================] - 2s 42us/sample - loss: 0.0670 - auc: 0.9990 - val_loss: 0.0330 - val_auc: 0.9998\n",
      "Epoch 12/15\n",
      "54000/54000 [==============================] - 2s 42us/sample - loss: 0.0627 - auc: 0.9992 - val_loss: 0.0311 - val_auc: 0.9997\n",
      "Epoch 13/15\n",
      "54000/54000 [==============================] - 2s 41us/sample - loss: 0.0600 - auc: 0.9991 - val_loss: 0.0315 - val_auc: 0.9996\n",
      "Epoch 14/15\n",
      "54000/54000 [==============================] - 2s 41us/sample - loss: 0.0583 - auc: 0.9994 - val_loss: 0.0317 - val_auc: 0.9996\n",
      "Epoch 15/15\n",
      "54000/54000 [==============================] - 2s 41us/sample - loss: 0.0554 - auc: 0.9993 - val_loss: 0.0300 - val_auc: 0.9999\n"
     ]
    },
    {
     "data": {
      "text/plain": [
       "<tensorflow.python.keras.callbacks.History at 0x7f2ee4cd6048>"
      ]
     },
     "execution_count": 13,
     "metadata": {},
     "output_type": "execute_result"
    }
   ],
   "source": [
    "model.fit(x_train, y_train, batch_size=batch_size, epochs=epochs, validation_split=0.1)"
   ]
  },
  {
   "cell_type": "markdown",
   "id": "8f1ea7ee-263a-415b-a4e1-6bbc62e7952c",
   "metadata": {},
   "source": [
    "Predicting"
   ]
  },
  {
   "cell_type": "code",
   "execution_count": 14,
   "id": "44cd7650-9c14-4e44-b14d-8f0e3ed3e39b",
   "metadata": {},
   "outputs": [
    {
     "name": "stdout",
     "output_type": "stream",
     "text": [
      "Test AUC: 0.99979025\n"
     ]
    }
   ],
   "source": [
    "score_original = model.evaluate(x_test, y_test, verbose=0)\n",
    "\n",
    "print(\"Test AUC:\", score_original[1])"
   ]
  },
  {
   "cell_type": "markdown",
   "id": "3e76c66f-0d31-4ca0-8c37-55187ec7835e",
   "metadata": {
    "tags": []
   },
   "source": [
    "### Comparison of test accuracies"
   ]
  },
  {
   "cell_type": "code",
   "execution_count": 15,
   "id": "7a1228c7-99ce-4530-b27f-c8ad815c788b",
   "metadata": {},
   "outputs": [
    {
     "name": "stdout",
     "output_type": "stream",
     "text": [
      "AUC of the original MNIST: 0.99979025\n",
      "AUC of the Griddified MNIST: 0.9995564\n",
      "Difference: 0.00023382902\n"
     ]
    }
   ],
   "source": [
    "print(\"AUC of the original MNIST:\", score_original[1])\n",
    "print(\"AUC of the Griddified MNIST:\", score_griddify[1])\n",
    "print(\"Difference:\", abs(score_original[1] - score_griddify[1]))"
   ]
  }
 ],
 "metadata": {
  "interpreter": {
   "hash": "4b953d02031940799c70de464297ad7062f1169bc628a7b2471c13167aae5287"
  },
  "kernelspec": {
   "display_name": "Python 3",
   "language": "python",
   "name": "python3"
  },
  "language_info": {
   "codemirror_mode": {
    "name": "ipython",
    "version": 3
   },
   "file_extension": ".py",
   "mimetype": "text/x-python",
   "name": "python",
   "nbconvert_exporter": "python",
   "pygments_lexer": "ipython3",
   "version": "3.6.15"
  }
 },
 "nbformat": 4,
 "nbformat_minor": 5
}
