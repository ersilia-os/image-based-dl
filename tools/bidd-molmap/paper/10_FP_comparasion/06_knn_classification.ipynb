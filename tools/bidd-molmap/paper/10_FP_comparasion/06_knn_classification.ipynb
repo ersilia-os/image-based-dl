{
 "cells": [
  {
   "cell_type": "code",
   "execution_count": 1,
   "metadata": {},
   "outputs": [],
   "source": [
    "from sklearn.neighbors import KNeighborsClassifier, KNeighborsRegressor\n",
    "from sklearn.model_selection import GridSearchCV, cross_val_score, KFold\n",
    "\n",
    "from sklearn.metrics import roc_auc_score, precision_recall_curve\n",
    "from sklearn.metrics import auc as calculate_auc\n",
    "from sklearn.metrics import mean_squared_error\n",
    "from sklearn.metrics import accuracy_score\n",
    "from tqdm import tqdm\n",
    "import warnings\n",
    "from sklearn.exceptions import DataConversionWarning\n",
    "warnings.filterwarnings(action='ignore', category=DataConversionWarning)\n",
    "\n",
    "\n",
    "from sklearn.utils import shuffle \n",
    "from joblib import load, dump\n",
    "import numpy as np\n",
    "import pandas as pd\n",
    "import os"
   ]
  },
  {
   "cell_type": "code",
   "execution_count": 2,
   "metadata": {},
   "outputs": [],
   "source": [
    "from chembench import load_data, dataset\n",
    "from molmap import feature"
   ]
  },
  {
   "cell_type": "code",
   "execution_count": 3,
   "metadata": {},
   "outputs": [
    {
     "data": {
      "text/plain": [
       "array(['MorganFP', 'RDkitFP', 'AtomPairFP', 'TorsionFP', 'AvalonFP',\n",
       "       'EstateFP', 'MACCSFP', 'PharmacoErGFP', 'PharmacoPFP', 'PubChemFP',\n",
       "       'MHFP6', 'MAP4'], dtype=object)"
      ]
     },
     "execution_count": 3,
     "metadata": {},
     "output_type": "execute_result"
    }
   ],
   "source": [
    "bitsinfo = feature.fingerprint.Extraction().bitsinfo\n",
    "fp_types = bitsinfo.Subtypes.unique()\n",
    "fp_types"
   ]
  },
  {
   "cell_type": "code",
   "execution_count": 4,
   "metadata": {},
   "outputs": [],
   "source": [
    "from scipy.stats.stats import pearsonr\n",
    "def r2(y_true, y_pred):\n",
    "    pcc, _ = pearsonr(y_true,y_pred)\n",
    "    return pcc[0]**2\n",
    "\n",
    "def rmse(y_true, y_pred):\n",
    "    mse = mean_squared_error(y_true, y_pred)\n",
    "    rmse = np.sqrt(mse)  \n",
    "    return rmse\n",
    "\n",
    "\n",
    "def PRC_AUC(y_true, y_score):\n",
    "    precision, recall, threshold  = precision_recall_curve(y_true, y_score) #PRC_AUC\n",
    "    auc = calculate_auc(recall, precision)\n",
    "    return auc\n",
    "\n",
    "def ROC_AUC(y_true, y_score):\n",
    "    auc = roc_auc_score(y_true, y_score)\n",
    "    return auc"
   ]
  },
  {
   "cell_type": "code",
   "execution_count": 5,
   "metadata": {},
   "outputs": [
    {
     "name": "stdout",
     "output_type": "stream",
     "text": [
      "total samples: 41127\n",
      "total samples: 1513\n",
      "total samples: 2039\n",
      "total samples: 1478\n",
      "total samples: 1427\n"
     ]
    }
   ],
   "source": [
    "hiv = dataset.load_HIV()\n",
    "bace = dataset.load_BACE()\n",
    "bbbp = dataset.load_BBBP()\n",
    "clintox = dataset.load_ClinTox()\n",
    "sider = dataset.load_SIDER()\n",
    "\n",
    "datasets = [clintox, sider, bace, bbbp, hiv] #malaria"
   ]
  },
  {
   "cell_type": "code",
   "execution_count": null,
   "metadata": {},
   "outputs": [],
   "source": []
  },
  {
   "cell_type": "code",
   "execution_count": 6,
   "metadata": {},
   "outputs": [
    {
     "name": "stderr",
     "output_type": "stream",
     "text": [
      "  0%|          | 0/14 [00:00<?, ?it/s]"
     ]
    },
    {
     "name": "stdout",
     "output_type": "stream",
     "text": [
      "ClinTox MorganFP\n",
      "loading dataset: ClinTox number of split times: 3\n"
     ]
    },
    {
     "name": "stderr",
     "output_type": "stream",
     "text": [
      "100%|##########| 14/14 [00:27<00:00,  2.03s/it]\n",
      "  0%|          | 0/14 [00:00<?, ?it/s]"
     ]
    },
    {
     "name": "stdout",
     "output_type": "stream",
     "text": [
      "[0.6940222897669706, 0.6004797441364605]\n",
      "{'task_name': 'ClinTox', 'fp_type': 'MorganFP', 'split-time': 0, 'test_roc_auc': 0.6472510169517156}\n"
     ]
    },
    {
     "name": "stderr",
     "output_type": "stream",
     "text": [
      "100%|##########| 14/14 [00:28<00:00,  2.05s/it]\n",
      "  0%|          | 0/14 [00:00<?, ?it/s]"
     ]
    },
    {
     "name": "stdout",
     "output_type": "stream",
     "text": [
      "[0.7147887323943662, 0.6818642350557245]\n",
      "{'task_name': 'ClinTox', 'fp_type': 'MorganFP', 'split-time': 1, 'test_roc_auc': 0.6983264837250454}\n"
     ]
    },
    {
     "name": "stderr",
     "output_type": "stream",
     "text": [
      "100%|##########| 14/14 [00:26<00:00,  1.91s/it]\n",
      "  0%|          | 0/14 [00:00<?, ?it/s]"
     ]
    },
    {
     "name": "stdout",
     "output_type": "stream",
     "text": [
      "[0.6247511612475116, 0.6017094017094017]\n",
      "{'task_name': 'ClinTox', 'fp_type': 'MorganFP', 'split-time': 2, 'test_roc_auc': 0.6132302814784567}\n",
      "ClinTox RDkitFP\n",
      "loading dataset: ClinTox number of split times: 3\n"
     ]
    },
    {
     "name": "stderr",
     "output_type": "stream",
     "text": [
      "100%|##########| 14/14 [00:26<00:00,  1.85s/it]\n",
      "  0%|          | 0/14 [00:00<?, ?it/s]"
     ]
    },
    {
     "name": "stdout",
     "output_type": "stream",
     "text": [
      "[0.701114488348531, 0.6703091684434969]\n",
      "{'task_name': 'ClinTox', 'fp_type': 'RDkitFP', 'split-time': 0, 'test_roc_auc': 0.685711828396014}\n"
     ]
    },
    {
     "name": "stderr",
     "output_type": "stream",
     "text": [
      "100%|##########| 14/14 [00:24<00:00,  1.75s/it]\n",
      "  0%|          | 0/14 [00:00<?, ?it/s]"
     ]
    },
    {
     "name": "stdout",
     "output_type": "stream",
     "text": [
      "[0.7723004694835681, 0.7436676798378927]\n",
      "{'task_name': 'ClinTox', 'fp_type': 'RDkitFP', 'split-time': 1, 'test_roc_auc': 0.7579840746607305}\n"
     ]
    },
    {
     "name": "stderr",
     "output_type": "stream",
     "text": [
      "100%|##########| 14/14 [00:24<00:00,  1.74s/it]\n",
      "  0%|          | 0/14 [00:00<?, ?it/s]"
     ]
    },
    {
     "name": "stdout",
     "output_type": "stream",
     "text": [
      "[0.6068347710683476, 0.5934472934472935]\n",
      "{'task_name': 'ClinTox', 'fp_type': 'RDkitFP', 'split-time': 2, 'test_roc_auc': 0.6001410322578206}\n",
      "ClinTox AtomPairFP\n",
      "loading dataset: ClinTox number of split times: 3\n"
     ]
    },
    {
     "name": "stderr",
     "output_type": "stream",
     "text": [
      "100%|##########| 14/14 [00:23<00:00,  1.72s/it]\n",
      "  0%|          | 0/14 [00:00<?, ?it/s]"
     ]
    },
    {
     "name": "stdout",
     "output_type": "stream",
     "text": [
      "[0.5987841945288754, 0.6785714285714285]\n",
      "{'task_name': 'ClinTox', 'fp_type': 'AtomPairFP', 'split-time': 0, 'test_roc_auc': 0.6386778115501519}\n"
     ]
    },
    {
     "name": "stderr",
     "output_type": "stream",
     "text": [
      "100%|##########| 14/14 [00:24<00:00,  1.79s/it]\n",
      "  0%|          | 0/14 [00:00<?, ?it/s]"
     ]
    },
    {
     "name": "stdout",
     "output_type": "stream",
     "text": [
      "[0.8708920187793427, 0.8617021276595744]\n",
      "{'task_name': 'ClinTox', 'fp_type': 'AtomPairFP', 'split-time': 1, 'test_roc_auc': 0.8662970732194586}\n"
     ]
    },
    {
     "name": "stderr",
     "output_type": "stream",
     "text": [
      "100%|##########| 14/14 [00:25<00:00,  1.85s/it]\n",
      "  0%|          | 0/14 [00:00<?, ?it/s]"
     ]
    },
    {
     "name": "stdout",
     "output_type": "stream",
     "text": [
      "[0.723291307232913, 0.7108262108262109]\n",
      "{'task_name': 'ClinTox', 'fp_type': 'AtomPairFP', 'split-time': 2, 'test_roc_auc': 0.717058759029562}\n",
      "ClinTox TorsionFP\n",
      "loading dataset: ClinTox number of split times: 3\n"
     ]
    },
    {
     "name": "stderr",
     "output_type": "stream",
     "text": [
      "100%|##########| 14/14 [00:20<00:00,  1.49s/it]\n",
      "  0%|          | 0/14 [00:00<?, ?it/s]"
     ]
    },
    {
     "name": "stdout",
     "output_type": "stream",
     "text": [
      "[0.7218844984802433, 0.6265991471215351]\n",
      "{'task_name': 'ClinTox', 'fp_type': 'TorsionFP', 'split-time': 0, 'test_roc_auc': 0.6742418228008892}\n"
     ]
    },
    {
     "name": "stderr",
     "output_type": "stream",
     "text": [
      "100%|##########| 14/14 [00:21<00:00,  1.46s/it]\n",
      "  0%|          | 0/14 [00:00<?, ?it/s]"
     ]
    },
    {
     "name": "stdout",
     "output_type": "stream",
     "text": [
      "[0.6273474178403756, 0.6610942249240122]\n",
      "{'task_name': 'ClinTox', 'fp_type': 'TorsionFP', 'split-time': 1, 'test_roc_auc': 0.6442208213821938}\n"
     ]
    },
    {
     "name": "stderr",
     "output_type": "stream",
     "text": [
      "100%|##########| 14/14 [00:17<00:00,  1.27s/it]\n",
      "  0%|          | 0/14 [00:00<?, ?it/s]"
     ]
    },
    {
     "name": "stdout",
     "output_type": "stream",
     "text": [
      "[0.6290643662906437, 0.5735042735042735]\n",
      "{'task_name': 'ClinTox', 'fp_type': 'TorsionFP', 'split-time': 2, 'test_roc_auc': 0.6012843198974586}\n",
      "ClinTox AvalonFP\n",
      "loading dataset: ClinTox number of split times: 3\n"
     ]
    },
    {
     "name": "stderr",
     "output_type": "stream",
     "text": [
      "100%|##########| 14/14 [00:19<00:00,  1.46s/it]\n",
      "  0%|          | 0/14 [00:00<?, ?it/s]"
     ]
    },
    {
     "name": "stdout",
     "output_type": "stream",
     "text": [
      "[0.7061803444782169, 0.6100746268656717]\n",
      "{'task_name': 'ClinTox', 'fp_type': 'AvalonFP', 'split-time': 0, 'test_roc_auc': 0.6581274856719443}\n"
     ]
    },
    {
     "name": "stderr",
     "output_type": "stream",
     "text": [
      "100%|##########| 14/14 [00:19<00:00,  1.42s/it]\n",
      "  0%|          | 0/14 [00:00<?, ?it/s]"
     ]
    },
    {
     "name": "stdout",
     "output_type": "stream",
     "text": [
      "[0.7470657276995305, 0.7188449848024316]\n",
      "{'task_name': 'ClinTox', 'fp_type': 'AvalonFP', 'split-time': 1, 'test_roc_auc': 0.7329553562509811}\n"
     ]
    },
    {
     "name": "stderr",
     "output_type": "stream",
     "text": [
      "100%|##########| 14/14 [00:20<00:00,  1.53s/it]\n",
      " 21%|##1       | 3/14 [00:00<00:00, 20.23it/s]"
     ]
    },
    {
     "name": "stdout",
     "output_type": "stream",
     "text": [
      "[0.6114797611147976, 0.5923076923076922]\n",
      "{'task_name': 'ClinTox', 'fp_type': 'AvalonFP', 'split-time': 2, 'test_roc_auc': 0.601893726711245}\n",
      "ClinTox EstateFP\n",
      "loading dataset: ClinTox number of split times: 3\n"
     ]
    },
    {
     "name": "stderr",
     "output_type": "stream",
     "text": [
      "100%|##########| 14/14 [00:00<00:00, 21.10it/s]\n",
      " 21%|##1       | 3/14 [00:00<00:00, 25.39it/s]"
     ]
    },
    {
     "name": "stdout",
     "output_type": "stream",
     "text": [
      "[0.8135764944275582, 0.7961087420042644]\n",
      "{'task_name': 'ClinTox', 'fp_type': 'EstateFP', 'split-time': 0, 'test_roc_auc': 0.8048426182159113}\n"
     ]
    },
    {
     "name": "stderr",
     "output_type": "stream",
     "text": [
      "100%|##########| 14/14 [00:00<00:00, 24.30it/s]\n",
      " 21%|##1       | 3/14 [00:00<00:00, 25.97it/s]"
     ]
    },
    {
     "name": "stdout",
     "output_type": "stream",
     "text": [
      "[0.8086854460093897, 0.7406281661600811]\n",
      "{'task_name': 'ClinTox', 'fp_type': 'EstateFP', 'split-time': 1, 'test_roc_auc': 0.7746568060847354}\n"
     ]
    },
    {
     "name": "stderr",
     "output_type": "stream",
     "text": [
      "100%|##########| 14/14 [00:00<00:00, 25.42it/s]\n",
      "  7%|7         | 1/14 [00:00<00:01,  8.34it/s]"
     ]
    },
    {
     "name": "stdout",
     "output_type": "stream",
     "text": [
      "[0.6688785666887856, 0.6427350427350428]\n",
      "{'task_name': 'ClinTox', 'fp_type': 'EstateFP', 'split-time': 2, 'test_roc_auc': 0.6558068047119142}\n",
      "ClinTox MACCSFP\n",
      "loading dataset: ClinTox number of split times: 3\n"
     ]
    },
    {
     "name": "stderr",
     "output_type": "stream",
     "text": [
      "100%|##########| 14/14 [00:01<00:00,  7.98it/s]\n",
      "  7%|7         | 1/14 [00:00<00:01,  8.67it/s]"
     ]
    },
    {
     "name": "stdout",
     "output_type": "stream",
     "text": [
      "[0.8378926038500507, 0.7412046908315565]\n",
      "{'task_name': 'ClinTox', 'fp_type': 'MACCSFP', 'split-time': 0, 'test_roc_auc': 0.7895486473408035}\n"
     ]
    },
    {
     "name": "stderr",
     "output_type": "stream",
     "text": [
      "100%|##########| 14/14 [00:01<00:00,  7.97it/s]\n",
      "  7%|7         | 1/14 [00:00<00:01,  8.36it/s]"
     ]
    },
    {
     "name": "stdout",
     "output_type": "stream",
     "text": [
      "[0.7024647887323944, 0.7882472137791288]\n",
      "{'task_name': 'ClinTox', 'fp_type': 'MACCSFP', 'split-time': 1, 'test_roc_auc': 0.7453560012557616}\n"
     ]
    },
    {
     "name": "stderr",
     "output_type": "stream",
     "text": [
      "100%|##########| 14/14 [00:01<00:00,  8.15it/s]\n",
      "  0%|          | 0/14 [00:00<?, ?it/s]"
     ]
    },
    {
     "name": "stdout",
     "output_type": "stream",
     "text": [
      "[0.6542800265428004, 0.6737891737891739]\n",
      "{'task_name': 'ClinTox', 'fp_type': 'MACCSFP', 'split-time': 2, 'test_roc_auc': 0.6640346001659871}\n",
      "ClinTox PharmacoErGFP\n",
      "loading dataset: ClinTox number of split times: 3\n"
     ]
    },
    {
     "name": "stderr",
     "output_type": "stream",
     "text": [
      "100%|##########| 14/14 [00:04<00:00,  3.26it/s]\n",
      "  0%|          | 0/14 [00:00<?, ?it/s]"
     ]
    },
    {
     "name": "stdout",
     "output_type": "stream",
     "text": [
      "[0.7619047619047619, 0.8627398720682303]\n",
      "{'task_name': 'ClinTox', 'fp_type': 'PharmacoErGFP', 'split-time': 0, 'test_roc_auc': 0.8123223169864962}\n"
     ]
    },
    {
     "name": "stderr",
     "output_type": "stream",
     "text": [
      "100%|##########| 14/14 [00:04<00:00,  3.54it/s]\n",
      "  0%|          | 0/14 [00:00<?, ?it/s]"
     ]
    },
    {
     "name": "stdout",
     "output_type": "stream",
     "text": [
      "[0.7769953051643191, 0.7087132725430597]\n",
      "{'task_name': 'ClinTox', 'fp_type': 'PharmacoErGFP', 'split-time': 1, 'test_roc_auc': 0.7428542888536894}\n"
     ]
    },
    {
     "name": "stderr",
     "output_type": "stream",
     "text": [
      "100%|##########| 14/14 [00:03<00:00,  3.72it/s]\n",
      "  7%|7         | 1/14 [00:00<00:01,  7.65it/s]"
     ]
    },
    {
     "name": "stdout",
     "output_type": "stream",
     "text": [
      "[0.7929661579296616, 0.7413105413105413]\n",
      "{'task_name': 'ClinTox', 'fp_type': 'PharmacoErGFP', 'split-time': 2, 'test_roc_auc': 0.7671383496201014}\n",
      "ClinTox PharmacoPFP\n",
      "loading dataset: ClinTox number of split times: 3\n"
     ]
    },
    {
     "name": "stderr",
     "output_type": "stream",
     "text": [
      "100%|##########| 14/14 [00:02<00:00,  6.33it/s]\n",
      "  7%|7         | 1/14 [00:00<00:01,  7.92it/s]"
     ]
    },
    {
     "name": "stdout",
     "output_type": "stream",
     "text": [
      "[0.8201621073961499, 0.789179104477612]\n",
      "{'task_name': 'ClinTox', 'fp_type': 'PharmacoPFP', 'split-time': 0, 'test_roc_auc': 0.8046706059368809}\n"
     ]
    },
    {
     "name": "stderr",
     "output_type": "stream",
     "text": [
      "100%|##########| 14/14 [00:02<00:00,  6.22it/s]\n",
      "  7%|7         | 1/14 [00:00<00:01,  8.04it/s]"
     ]
    },
    {
     "name": "stdout",
     "output_type": "stream",
     "text": [
      "[0.7928403755868545, 0.7912867274569403]\n",
      "{'task_name': 'ClinTox', 'fp_type': 'PharmacoPFP', 'split-time': 1, 'test_roc_auc': 0.7920635515218974}\n"
     ]
    },
    {
     "name": "stderr",
     "output_type": "stream",
     "text": [
      "100%|##########| 14/14 [00:02<00:00,  6.33it/s]\n",
      "  0%|          | 0/14 [00:00<?, ?it/s]"
     ]
    },
    {
     "name": "stdout",
     "output_type": "stream",
     "text": [
      "[0.7637690776376908, 0.7444444444444445]\n",
      "{'task_name': 'ClinTox', 'fp_type': 'PharmacoPFP', 'split-time': 2, 'test_roc_auc': 0.7541067610410677}\n",
      "ClinTox PubChemFP\n",
      "loading dataset: ClinTox number of split times: 3\n"
     ]
    },
    {
     "name": "stderr",
     "output_type": "stream",
     "text": [
      "100%|##########| 14/14 [00:05<00:00,  2.37it/s]\n",
      "  0%|          | 0/14 [00:00<?, ?it/s]"
     ]
    },
    {
     "name": "stdout",
     "output_type": "stream",
     "text": [
      "[0.7411347517730497, 0.6471215351812367]\n",
      "{'task_name': 'ClinTox', 'fp_type': 'PubChemFP', 'split-time': 0, 'test_roc_auc': 0.6941281434771431}\n"
     ]
    },
    {
     "name": "stderr",
     "output_type": "stream",
     "text": [
      "100%|##########| 14/14 [00:05<00:00,  2.35it/s]\n",
      "  0%|          | 0/14 [00:00<?, ?it/s]"
     ]
    },
    {
     "name": "stdout",
     "output_type": "stream",
     "text": [
      "[0.7928403755868545, 0.7249240121580547]\n",
      "{'task_name': 'ClinTox', 'fp_type': 'PubChemFP', 'split-time': 1, 'test_roc_auc': 0.7588821938724546}\n"
     ]
    },
    {
     "name": "stderr",
     "output_type": "stream",
     "text": [
      "100%|##########| 14/14 [00:05<00:00,  2.35it/s]\n",
      "  0%|          | 0/14 [00:00<?, ?it/s]"
     ]
    },
    {
     "name": "stdout",
     "output_type": "stream",
     "text": [
      "[0.6645653616456536, 0.6521367521367522]\n",
      "{'task_name': 'ClinTox', 'fp_type': 'PubChemFP', 'split-time': 2, 'test_roc_auc': 0.6583510568912029}\n",
      "ClinTox MHFP6\n",
      "loading dataset: ClinTox number of split times: 3\n"
     ]
    },
    {
     "name": "stderr",
     "output_type": "stream",
     "text": [
      "100%|##########| 14/14 [00:16<00:00,  1.19s/it]\n",
      "  0%|          | 0/14 [00:00<?, ?it/s]"
     ]
    },
    {
     "name": "stdout",
     "output_type": "stream",
     "text": [
      "[0.7391084093211753, 0.6897654584221748]\n",
      "{'task_name': 'ClinTox', 'fp_type': 'MHFP6', 'split-time': 0, 'test_roc_auc': 0.7144369338716751}\n"
     ]
    },
    {
     "name": "stderr",
     "output_type": "stream",
     "text": [
      "100%|##########| 14/14 [00:16<00:00,  1.19s/it]\n",
      "  0%|          | 0/14 [00:00<?, ?it/s]"
     ]
    },
    {
     "name": "stdout",
     "output_type": "stream",
     "text": [
      "[0.7863849765258216, 0.7087132725430598]\n",
      "{'task_name': 'ClinTox', 'fp_type': 'MHFP6', 'split-time': 1, 'test_roc_auc': 0.7475491245344408}\n"
     ]
    },
    {
     "name": "stderr",
     "output_type": "stream",
     "text": [
      "100%|##########| 14/14 [00:16<00:00,  1.19s/it]\n",
      "  0%|          | 0/14 [00:00<?, ?it/s]"
     ]
    },
    {
     "name": "stdout",
     "output_type": "stream",
     "text": [
      "[0.7030524220305242, 0.656125356125356]\n",
      "{'task_name': 'ClinTox', 'fp_type': 'MHFP6', 'split-time': 2, 'test_roc_auc': 0.6795888890779401}\n",
      "ClinTox MAP4\n",
      "loading dataset: ClinTox number of split times: 3\n"
     ]
    },
    {
     "name": "stderr",
     "output_type": "stream",
     "text": [
      "100%|##########| 14/14 [00:16<00:00,  1.19s/it]\n",
      "  0%|          | 0/14 [00:00<?, ?it/s]"
     ]
    },
    {
     "name": "stdout",
     "output_type": "stream",
     "text": [
      "[0.5719351570415401, 0.5031982942430704]\n",
      "{'task_name': 'ClinTox', 'fp_type': 'MAP4', 'split-time': 0, 'test_roc_auc': 0.5375667256423052}\n"
     ]
    },
    {
     "name": "stderr",
     "output_type": "stream",
     "text": [
      "100%|##########| 14/14 [00:16<00:00,  1.19s/it]\n",
      "  0%|          | 0/14 [00:00<?, ?it/s]"
     ]
    },
    {
     "name": "stdout",
     "output_type": "stream",
     "text": [
      "[0.7347417840375587, 0.6767983789260384]\n",
      "{'task_name': 'ClinTox', 'fp_type': 'MAP4', 'split-time': 1, 'test_roc_auc': 0.7057700814817987}\n"
     ]
    },
    {
     "name": "stderr",
     "output_type": "stream",
     "text": [
      "100%|##########| 14/14 [00:16<00:00,  1.19s/it]\n",
      "  0%|          | 0/14 [00:00<?, ?it/s]"
     ]
    },
    {
     "name": "stdout",
     "output_type": "stream",
     "text": [
      "[0.6088254810882547, 0.5495726495726496]\n",
      "{'task_name': 'ClinTox', 'fp_type': 'MAP4', 'split-time': 2, 'test_roc_auc': 0.5791990653304522}\n",
      "SIDER MorganFP\n",
      "loading dataset: SIDER number of split times: 3\n"
     ]
    },
    {
     "name": "stderr",
     "output_type": "stream",
     "text": [
      "100%|##########| 14/14 [00:15<00:00,  1.15s/it]\n",
      "  0%|          | 0/14 [00:00<?, ?it/s]"
     ]
    },
    {
     "name": "stdout",
     "output_type": "stream",
     "text": [
      "[0.698943661971831, 0.6166905786704926, 0.4929078014184397, 0.6219077568134173, 0.6397804054054055, 0.6371994342291372, 0.6791338582677166, 0.6946095076400678, 0.644298245614035, 0.6282051282051282, 0.6137174910759817, 0.5445670628183362, 0.6060606060606061, 0.4995555555555556, 0.6171596124426313, 0.6969604243166055, 0.5807692307692308, 0.5403981264637002, 0.6321995464852608, 0.618962219033955, 0.6142985208426714, 0.6897727272727272, 0.6048872180451128, 0.6123493975903613, 0.6744463742943986, 0.6129429133858268, 0.5536828963795256]\n",
      "{'task_name': 'SIDER', 'fp_type': 'MorganFP', 'split-time': 0, 'test_roc_auc': 0.6172743074469688}\n"
     ]
    },
    {
     "name": "stderr",
     "output_type": "stream",
     "text": [
      "100%|##########| 14/14 [00:15<00:00,  1.14s/it]\n",
      "  0%|          | 0/14 [00:00<?, ?it/s]"
     ]
    },
    {
     "name": "stdout",
     "output_type": "stream",
     "text": [
      "[0.6755424063116371, 0.5212121212121212, 0.4854014598540146, 0.6642771804062126, 0.5623188405797102, 0.6100788288288288, 0.681203007518797, 0.6431129476584022, 0.5487468671679198, 0.7266236306729266, 0.7073934837092732, 0.6302083333333334, 0.6755291005291005, 0.6086440677966103, 0.6246894409937889, 0.6547149122807018, 0.39323308270676693, 0.5135135135135136, 0.5226308345120226, 0.547360248447205, 0.6318204997450281, 0.6698789780367549, 0.7337786259541985, 0.5890612725844462, 0.6799802761341223, 0.5907407407407408, 0.6749433106575964]\n",
      "{'task_name': 'SIDER', 'fp_type': 'MorganFP', 'split-time': 1, 'test_roc_auc': 0.6135791856253989}\n"
     ]
    },
    {
     "name": "stderr",
     "output_type": "stream",
     "text": [
      "100%|##########| 14/14 [00:15<00:00,  1.15s/it]\n",
      "  0%|          | 0/14 [00:00<?, ?it/s]"
     ]
    },
    {
     "name": "stdout",
     "output_type": "stream",
     "text": [
      "[0.7713079340141398, 0.573921028466483, 0.4855072463768116, 0.6374239350912778, 0.5447032306536439, 0.6682558139534884, 0.6579881656804734, 0.6556261343012705, 0.629100529100529, 0.7297058823529412, 0.6852617079889807, 0.5541420118343195, 0.6047330097087379, 0.6443129520052596, 0.5350506756756757, 0.6764462809917355, 0.5895316804407714, 0.5225609756097561, 0.6211692597831211, 0.6216216216216217, 0.6799802761341223, 0.7204168534289557, 0.6778645833333333, 0.6393491124260355, 0.6830097087378642, 0.6263020833333334, 0.633131067961165]\n",
      "{'task_name': 'SIDER', 'fp_type': 'MorganFP', 'split-time': 2, 'test_roc_auc': 0.6321638430002166}\n",
      "SIDER RDkitFP\n",
      "loading dataset: SIDER number of split times: 3\n"
     ]
    },
    {
     "name": "stderr",
     "output_type": "stream",
     "text": [
      "100%|##########| 14/14 [00:15<00:00,  1.13s/it]\n",
      "  0%|          | 0/14 [00:00<?, ?it/s]"
     ]
    },
    {
     "name": "stdout",
     "output_type": "stream",
     "text": [
      "[0.7134194053208138, 0.5750836920133907, 0.49645390070921985, 0.5986373165618448, 0.584177927927928, 0.6370815652993871, 0.6129429133858268, 0.7190152801358234, 0.5403508771929826, 0.6705128205128206, 0.6218765935747068, 0.4980899830220714, 0.5712121212121213, 0.5113333333333333, 0.5907700152983172, 0.7317421460628315, 0.5499999999999999, 0.5683060109289617, 0.604875283446712, 0.5923003347680535, 0.5490811295383236, 0.6113636363636363, 0.5323308270676692, 0.6178714859437751, 0.6030178028658272, 0.5504429133858268, 0.5596129837702871]\n",
      "{'task_name': 'SIDER', 'fp_type': 'RDkitFP', 'split-time': 0, 'test_roc_auc': 0.5930334185052774}\n"
     ]
    },
    {
     "name": "stderr",
     "output_type": "stream",
     "text": [
      "100%|##########| 14/14 [00:15<00:00,  1.13s/it]\n",
      "  0%|          | 0/14 [00:00<?, ?it/s]"
     ]
    },
    {
     "name": "stdout",
     "output_type": "stream",
     "text": [
      "[0.7114398422090731, 0.6088154269972451, 0.4781021897810219, 0.6674631620868181, 0.6030797101449274, 0.6385135135135134, 0.7161654135338346, 0.6035812672176308, 0.5411027568922306, 0.7627151799687011, 0.7403508771929824, 0.5403645833333334, 0.6907407407407407, 0.5757627118644066, 0.703416149068323, 0.6151315789473685, 0.48796992481203005, 0.5380067567567567, 0.6051390853371051, 0.625776397515528, 0.6120601733809281, 0.673352756611385, 0.6087786259541985, 0.6460133542812254, 0.7405078895463512, 0.7092592592592593, 0.7445578231292517]\n",
      "{'task_name': 'SIDER', 'fp_type': 'RDkitFP', 'split-time': 1, 'test_roc_auc': 0.6365987833361545}\n"
     ]
    },
    {
     "name": "stderr",
     "output_type": "stream",
     "text": [
      "100%|##########| 14/14 [00:15<00:00,  1.13s/it]\n",
      "  0%|          | 0/14 [00:00<?, ?it/s]"
     ]
    },
    {
     "name": "stdout",
     "output_type": "stream",
     "text": [
      "[0.7723880597014926, 0.6097337006427915, 0.5159420289855072, 0.6495943204868154, 0.6675432006010518, 0.6355813953488372, 0.7485207100591715, 0.7147610405323654, 0.6894179894179894, 0.7135294117647059, 0.6806703397612489, 0.46183431952662723, 0.6143203883495145, 0.646285338593031, 0.6463963963963963, 0.7391528925619835, 0.5864325068870523, 0.589430894308943, 0.6153936822253654, 0.5915349311575726, 0.6818293885601576, 0.7108919766920663, 0.5497395833333334, 0.6026627218934911, 0.7060679611650486, 0.69140625, 0.5888349514563107]\n",
      "{'task_name': 'SIDER', 'fp_type': 'RDkitFP', 'split-time': 2, 'test_roc_auc': 0.6451813474225507}\n",
      "SIDER AtomPairFP\n",
      "loading dataset: SIDER number of split times: 3\n"
     ]
    },
    {
     "name": "stderr",
     "output_type": "stream",
     "text": [
      "100%|##########| 14/14 [00:15<00:00,  1.14s/it]\n",
      "  0%|          | 0/14 [00:00<?, ?it/s]"
     ]
    },
    {
     "name": "stdout",
     "output_type": "stream",
     "text": [
      "[0.7133215962441314, 0.5995934959349594, 0.4858156028368794, 0.5797693920335429, 0.6021959459459459, 0.5696605374823196, 0.6284448818897638, 0.7007640067911715, 0.5401315789473684, 0.6551282051282052, 0.6624171341152474, 0.4838709677419355, 0.6106060606060606, 0.5313333333333334, 0.5725395206527282, 0.7141982864137086, 0.5846153846153845, 0.6159250585480094, 0.5706349206349206, 0.5799856527977043, 0.5439264903630658, 0.5943181818181819, 0.593609022556391, 0.5530120481927712, 0.6074685193226227, 0.5856299212598426, 0.5764669163545568]\n",
      "{'task_name': 'SIDER', 'fp_type': 'AtomPairFP', 'split-time': 0, 'test_roc_auc': 0.5946438023170649}\n"
     ]
    },
    {
     "name": "stderr",
     "output_type": "stream",
     "text": [
      "100%|##########| 14/14 [00:15<00:00,  1.14s/it]\n",
      "  0%|          | 0/14 [00:00<?, ?it/s]"
     ]
    },
    {
     "name": "stdout",
     "output_type": "stream",
     "text": [
      "[0.7549309664694279, 0.5170798898071626, 0.48175182481751827, 0.5887096774193548, 0.5664855072463769, 0.6227477477477478, 0.6398496240601504, 0.6377410468319559, 0.6115288220551378, 0.7284820031298904, 0.719548872180451, 0.6380208333333333, 0.7507936507936508, 0.5123728813559322, 0.6436335403726708, 0.6725877192982457, 0.5409774436090226, 0.5865709459459459, 0.6217586044318717, 0.6838509316770187, 0.6545130035696074, 0.6889287315105334, 0.6825699745547074, 0.6239198743126473, 0.6316568047337279, 0.6342592592592593, 0.6438775510204081]\n",
      "{'task_name': 'SIDER', 'fp_type': 'AtomPairFP', 'split-time': 1, 'test_roc_auc': 0.6325610270942131}\n"
     ]
    },
    {
     "name": "stderr",
     "output_type": "stream",
     "text": [
      "100%|##########| 14/14 [00:15<00:00,  1.13s/it]\n",
      "  0%|          | 0/14 [00:00<?, ?it/s]"
     ]
    },
    {
     "name": "stdout",
     "output_type": "stream",
     "text": [
      "[0.8008641005498821, 0.5848255280073463, 0.4891304347826087, 0.6732251521298174, 0.7116829451540195, 0.6638372093023256, 0.6860946745562131, 0.6737749546279491, 0.5716931216931216, 0.6994117647058824, 0.6980027548209367, 0.5263313609467455, 0.6570388349514564, 0.6203155818540435, 0.7128378378378378, 0.7387396694214875, 0.5946969696969697, 0.46280487804878045, 0.6118576143328618, 0.6463539010708823, 0.7148668639053255, 0.7134692962796952, 0.5924479166666666, 0.6351084812623273, 0.66747572815534, 0.6760416666666667, 0.6095873786407767]\n",
      "{'task_name': 'SIDER', 'fp_type': 'AtomPairFP', 'split-time': 2, 'test_roc_auc': 0.6456487637062209}\n",
      "SIDER TorsionFP\n",
      "loading dataset: SIDER number of split times: 3\n"
     ]
    },
    {
     "name": "stderr",
     "output_type": "stream",
     "text": [
      "100%|##########| 14/14 [00:14<00:00,  1.06s/it]\n",
      "  0%|          | 0/14 [00:00<?, ?it/s]"
     ]
    },
    {
     "name": "stdout",
     "output_type": "stream",
     "text": [
      "[0.7551838810641627, 0.5944524151123864, 0.48936170212765956, 0.5592243186582809, 0.6755349099099099, 0.6410891089108911, 0.7455708661417322, 0.6339134125636672, 0.555921052631579, 0.6782051282051282, 0.6759306476287609, 0.5284380305602717, 0.5484848484848485, 0.5313333333333334, 0.5982916879143294, 0.6997144022847817, 0.5384615384615384, 0.5526932084309133, 0.604875283446712, 0.665351506456241, 0.5828103989242492, 0.6420454545454546, 0.612406015037594, 0.5724899598393575, 0.5963960052105949, 0.5386318897637795, 0.5354764877236787]\n",
      "{'task_name': 'SIDER', 'fp_type': 'TorsionFP', 'split-time': 0, 'test_roc_auc': 0.6056402775322902}\n"
     ]
    },
    {
     "name": "stderr",
     "output_type": "stream",
     "text": [
      "100%|##########| 14/14 [00:14<00:00,  1.06s/it]\n",
      "  0%|          | 0/14 [00:00<?, ?it/s]"
     ]
    },
    {
     "name": "stdout",
     "output_type": "stream",
     "text": [
      "[0.7282051282051282, 0.5818181818181818, 0.5, 0.6189765033851055, 0.5304347826086957, 0.6972128378378378, 0.5548872180451128, 0.5818181818181818, 0.5234335839598998, 0.6998239436619719, 0.643859649122807, 0.5903645833333333, 0.6826719576719578, 0.581864406779661, 0.6186335403726708, 0.6491228070175439, 0.5823308270676693, 0.5396959459459459, 0.5925271098538425, 0.6586956521739131, 0.621239163691994, 0.6565441506051098, 0.6208651399491094, 0.6274548311076198, 0.6810897435897436, 0.6393518518518518, 0.6988662131519274]\n",
      "{'task_name': 'SIDER', 'fp_type': 'TorsionFP', 'split-time': 1, 'test_roc_auc': 0.6185847383195118}\n"
     ]
    },
    {
     "name": "stderr",
     "output_type": "stream",
     "text": [
      "100%|##########| 14/14 [00:14<00:00,  1.07s/it]\n",
      "  0%|          | 0/14 [00:00<?, ?it/s]"
     ]
    },
    {
     "name": "stdout",
     "output_type": "stream",
     "text": [
      "[0.783483896307934, 0.5779384756657484, 0.4855072463768116, 0.6546653144016227, 0.6880165289256198, 0.7320930232558139, 0.7325443786982249, 0.6291591046581971, 0.6419312169312169, 0.8158823529411765, 0.720959595959596, 0.4893491124260355, 0.6520631067961165, 0.6163708086785011, 0.6638513513513513, 0.7378099173553718, 0.5823002754820937, 0.6451219512195121, 0.6777463460631777, 0.6899541050484447, 0.6920611439842209, 0.7250112057373376, 0.5848958333333333, 0.6795857988165681, 0.7088592233009708, 0.7255208333333333, 0.587135922330097]\n",
      "{'task_name': 'SIDER', 'fp_type': 'TorsionFP', 'split-time': 2, 'test_roc_auc': 0.6636969655325343}\n",
      "SIDER AvalonFP\n",
      "loading dataset: SIDER number of split times: 3\n"
     ]
    },
    {
     "name": "stderr",
     "output_type": "stream",
     "text": [
      "100%|##########| 14/14 [00:15<00:00,  1.13s/it]\n",
      "  0%|          | 0/14 [00:00<?, ?it/s]"
     ]
    },
    {
     "name": "stdout",
     "output_type": "stream",
     "text": [
      "[0.755281690140845, 0.5384983261597321, 0.49645390070921985, 0.619706498951782, 0.677927927927928, 0.654997642621405, 0.6793799212598426, 0.6926994906621392, 0.5924342105263158, 0.6794871794871796, 0.6900815910249872, 0.4859932088285229, 0.537878787878788, 0.5313333333333334, 0.6177970423253442, 0.7201142390860873, 0.5384615384615384, 0.5962138953942233, 0.6544217687074829, 0.6556671449067432, 0.5651053339309726, 0.5681818181818181, 0.5511278195488721, 0.5785140562248996, 0.6283108988276161, 0.5583169291338583, 0.5854140657511443]\n",
      "{'task_name': 'SIDER', 'fp_type': 'AvalonFP', 'split-time': 0, 'test_roc_auc': 0.6092518614812081}\n"
     ]
    },
    {
     "name": "stderr",
     "output_type": "stream",
     "text": [
      "100%|##########| 14/14 [00:15<00:00,  1.14s/it]\n",
      "  0%|          | 0/14 [00:00<?, ?it/s]"
     ]
    },
    {
     "name": "stdout",
     "output_type": "stream",
     "text": [
      "[0.7414201183431952, 0.5831955922865014, 0.4927007299270073, 0.643568299482278, 0.5539855072463769, 0.59375, 0.6063909774436089, 0.627823691460055, 0.5416040100250626, 0.7903951486697967, 0.7175438596491228, 0.5453125000000001, 0.6853174603174603, 0.5430508474576271, 0.7027950310559006, 0.6666666666666666, 0.5766917293233083, 0.5159065315315315, 0.6206977840641208, 0.5805900621118013, 0.6332228454869964, 0.6683101748095024, 0.6733460559796438, 0.6197957580518461, 0.7069773175542406, 0.5092592592592593, 0.7160997732426304]\n",
      "{'task_name': 'SIDER', 'fp_type': 'AvalonFP', 'split-time': 1, 'test_roc_auc': 0.6243117678313163}\n"
     ]
    },
    {
     "name": "stderr",
     "output_type": "stream",
     "text": [
      "100%|##########| 14/14 [00:15<00:00,  1.14s/it]\n",
      " 21%|##1       | 3/14 [00:00<00:00, 22.32it/s]"
     ]
    },
    {
     "name": "stdout",
     "output_type": "stream",
     "text": [
      "[0.7773959151610369, 0.58356290174472, 0.4782608695652174, 0.6026369168356998, 0.6596543951915853, 0.6329069767441862, 0.6772189349112425, 0.6512401693889897, 0.6218253968253968, 0.7501960784313726, 0.713269054178145, 0.6035502958579881, 0.6098300970873786, 0.6531886916502301, 0.6328828828828829, 0.721797520661157, 0.6308539944903582, 0.5154471544715447, 0.5634134842055635, 0.5507394186639469, 0.6734467455621301, 0.7714029583146571, 0.5700520833333332, 0.6330374753451677, 0.6786407766990291, 0.7520833333333333, 0.5887135922330098]\n",
      "{'task_name': 'SIDER', 'fp_type': 'AvalonFP', 'split-time': 2, 'test_roc_auc': 0.6406388190284927}\n",
      "SIDER EstateFP\n",
      "loading dataset: SIDER number of split times: 3\n"
     ]
    },
    {
     "name": "stderr",
     "output_type": "stream",
     "text": [
      "100%|##########| 14/14 [00:00<00:00, 21.32it/s]\n",
      " 21%|##1       | 3/14 [00:00<00:00, 22.11it/s]"
     ]
    },
    {
     "name": "stdout",
     "output_type": "stream",
     "text": [
      "[0.7450117370892019, 0.5235533237685317, 0.45390070921985815, 0.6147798742138364, 0.6492117117117117, 0.5754361150400754, 0.6323818897637796, 0.6086587436332768, 0.6315789473684211, 0.5934911242603551, 0.6991330953595105, 0.5500848896434635, 0.591046831955923, 0.5464444444444445, 0.6175420703722589, 0.6839045287637698, 0.457396449704142, 0.6219750195160032, 0.6972789115646258, 0.5836920133907221, 0.5595024652622143, 0.6762396694214876, 0.5981203007518797, 0.5325301204819277, 0.6152844116369952, 0.5755413385826772, 0.5215355805243446]\n",
      "{'task_name': 'SIDER', 'fp_type': 'EstateFP', 'split-time': 0, 'test_roc_auc': 0.5983428265720533}\n"
     ]
    },
    {
     "name": "stderr",
     "output_type": "stream",
     "text": [
      "100%|##########| 14/14 [00:00<00:00, 21.17it/s]\n",
      " 21%|##1       | 3/14 [00:00<00:00, 22.19it/s]"
     ]
    },
    {
     "name": "stdout",
     "output_type": "stream",
     "text": [
      "[0.669723865877712, 0.5486225895316804, 0.44525547445255476, 0.562126642771804, 0.5608695652173913, 0.48761261261261263, 0.5909774436090225, 0.5515151515151515, 0.6030075187969925, 0.6807511737089202, 0.6652882205513784, 0.6544270833333333, 0.6876984126984127, 0.5274576271186441, 0.7341614906832299, 0.5980263157894736, 0.731203007518797, 0.6148648648648649, 0.582036775106082, 0.5886645962732919, 0.5845232024477307, 0.5918870461676379, 0.6708015267175572, 0.6187156323644933, 0.7271942800788955, 0.6337962962962962, 0.644671201814059]\n",
      "{'task_name': 'SIDER', 'fp_type': 'EstateFP', 'split-time': 1, 'test_roc_auc': 0.6131807265895562}\n"
     ]
    },
    {
     "name": "stderr",
     "output_type": "stream",
     "text": [
      "100%|##########| 14/14 [00:00<00:00, 21.15it/s]\n",
      "  7%|7         | 1/14 [00:00<00:01,  9.28it/s]"
     ]
    },
    {
     "name": "stdout",
     "output_type": "stream",
     "text": [
      "[0.7134721131186175, 0.5865472910927456, 0.4782608695652174, 0.6064908722109533, 0.6495116453794141, 0.652093023255814, 0.7165680473372781, 0.61826981246219, 0.6435185185185186, 0.6669607843137255, 0.6696510560146924, 0.5727810650887574, 0.6064320388349514, 0.5473372781065089, 0.5617961711711711, 0.6547520661157025, 0.553374655647383, 0.6083333333333334, 0.6957802923149459, 0.5940846506884242, 0.645586785009862, 0.6825414612281488, 0.640625, 0.6185404339250493, 0.625, 0.6830729166666667, 0.6475728155339805]\n",
      "{'task_name': 'SIDER', 'fp_type': 'EstateFP', 'split-time': 2, 'test_roc_auc': 0.6273687035901501}\n",
      "SIDER MACCSFP\n",
      "loading dataset: SIDER number of split times: 3\n"
     ]
    },
    {
     "name": "stderr",
     "output_type": "stream",
     "text": [
      "100%|##########| 14/14 [00:01<00:00,  8.99it/s]\n",
      "  7%|7         | 1/14 [00:00<00:01,  9.44it/s]"
     ]
    },
    {
     "name": "stdout",
     "output_type": "stream",
     "text": [
      "[0.6778169014084506, 0.5676709708273553, 0.48936170212765956, 0.6119496855345912, 0.662302927927928, 0.657944365865158, 0.6988188976377953, 0.625848896434635, 0.5716008771929825, 0.6064102564102564, 0.6265935747067822, 0.5203735144312394, 0.5606060606060607, 0.4915555555555556, 0.5590260071392147, 0.7055283557731538, 0.5923076923076923, 0.6356362217017955, 0.5673469387755102, 0.614179818268771, 0.5547960555804572, 0.6011363636363637, 0.5823308270676693, 0.5762048192771084, 0.6070343030829353, 0.5856299212598426, 0.5483770287141073]\n",
      "{'task_name': 'SIDER', 'fp_type': 'MACCSFP', 'split-time': 0, 'test_roc_auc': 0.5962366125648544}\n"
     ]
    },
    {
     "name": "stderr",
     "output_type": "stream",
     "text": [
      "100%|##########| 14/14 [00:01<00:00,  9.00it/s]\n",
      "  7%|7         | 1/14 [00:00<00:01,  9.43it/s]"
     ]
    },
    {
     "name": "stdout",
     "output_type": "stream",
     "text": [
      "[0.6910256410256411, 0.6000000000000001, 0.48905109489051096, 0.6066308243727598, 0.5262681159420289, 0.5632038288288288, 0.6898496240601504, 0.5803030303030303, 0.5578947368421052, 0.6501369327073553, 0.6606516290726816, 0.5609375, 0.5888888888888888, 0.4394915254237288, 0.5959627329192547, 0.6388157894736842, 0.6161654135338346, 0.5664414414414415, 0.5796793965110797, 0.5877329192546584, 0.6124426313105559, 0.6228148812191843, 0.4767811704834605, 0.6331500392772977, 0.5977564102564102, 0.5143518518518518, 0.6456916099773242]\n",
      "{'task_name': 'SIDER', 'fp_type': 'MACCSFP', 'split-time': 1, 'test_roc_auc': 0.5885970244395463}\n"
     ]
    },
    {
     "name": "stderr",
     "output_type": "stream",
     "text": [
      "100%|##########| 14/14 [00:01<00:00,  9.00it/s]\n",
      "  0%|          | 0/14 [00:00<?, ?it/s]"
     ]
    },
    {
     "name": "stdout",
     "output_type": "stream",
     "text": [
      "[0.7681657501963864, 0.6181129476584022, 0.4963768115942029, 0.6825557809330629, 0.5101427498121713, 0.6823255813953489, 0.6177514792899409, 0.6642468239564429, 0.5998677248677249, 0.666372549019608, 0.6604683195592287, 0.5760355029585799, 0.5986650485436893, 0.6313280736357659, 0.6100788288288289, 0.6581611570247934, 0.543732782369146, 0.5046747967479676, 0.574964639321075, 0.6417644059153493, 0.5862919132149902, 0.7454056476916182, 0.5791666666666667, 0.6511834319526627, 0.7196601941747574, 0.6791666666666667, 0.6455097087378641]\n",
      "{'task_name': 'SIDER', 'fp_type': 'MACCSFP', 'split-time': 2, 'test_roc_auc': 0.6263768882493683}\n",
      "SIDER PharmacoErGFP\n",
      "loading dataset: SIDER number of split times: 3\n"
     ]
    },
    {
     "name": "stderr",
     "output_type": "stream",
     "text": [
      "100%|##########| 14/14 [00:03<00:00,  3.90it/s]\n",
      "  0%|          | 0/14 [00:00<?, ?it/s]"
     ]
    },
    {
     "name": "stdout",
     "output_type": "stream",
     "text": [
      "[0.685348200312989, 0.6164514586322334, 0.4929078014184397, 0.5958071278825996, 0.5595439189189189, 0.5588165959453089, 0.609005905511811, 0.5812818336162988, 0.5403508771929826, 0.6128205128205128, 0.6077256501784803, 0.4475806451612903, 0.5636363636363637, 0.4517777777777778, 0.5719020907700153, 0.6908404732762137, 0.5576923076923077, 0.5247853239656518, 0.5460317460317461, 0.5114777618364419, 0.5072837292693859, 0.675, 0.4973684210526316, 0.6160642570281124, 0.6172383847155883, 0.515255905511811, 0.594361215147732]\n",
      "{'task_name': 'SIDER', 'fp_type': 'PharmacoErGFP', 'split-time': 0, 'test_roc_auc': 0.5684576401964313}\n"
     ]
    },
    {
     "name": "stderr",
     "output_type": "stream",
     "text": [
      "100%|##########| 14/14 [00:03<00:00,  3.89it/s]\n",
      "  0%|          | 0/14 [00:00<?, ?it/s]"
     ]
    },
    {
     "name": "stdout",
     "output_type": "stream",
     "text": [
      "[0.5717948717948718, 0.5924242424242424, 0.4927007299270073, 0.5857228195937874, 0.5221014492753623, 0.5052083333333333, 0.543609022556391, 0.5712121212121212, 0.5270676691729324, 0.650039123630673, 0.613032581453634, 0.58046875, 0.6224867724867725, 0.5025423728813558, 0.5737577639751552, 0.6183114035087719, 0.47368421052631576, 0.559543918918919, 0.6024280999528524, 0.5032608695652174, 0.5577511473737888, 0.6056701030927836, 0.5486641221374046, 0.55901413982718, 0.655448717948718, 0.5180555555555555, 0.5784580498866214]\n",
      "{'task_name': 'SIDER', 'fp_type': 'PharmacoErGFP', 'split-time': 1, 'test_roc_auc': 0.5642392208152507}\n"
     ]
    },
    {
     "name": "stderr",
     "output_type": "stream",
     "text": [
      "100%|##########| 14/14 [00:03<00:00,  3.91it/s]\n",
      "  7%|7         | 1/14 [00:00<00:01,  7.32it/s]"
     ]
    },
    {
     "name": "stdout",
     "output_type": "stream",
     "text": [
      "[0.7953652788688138, 0.6707988980716254, 0.6579710144927536, 0.6772819472616632, 0.6782494365138995, 0.6238372093023256, 0.6281065088757397, 0.6007259528130671, 0.6477513227513227, 0.6987254901960784, 0.648989898989899, 0.5840236686390533, 0.6449029126213592, 0.6259040105193951, 0.7374718468468469, 0.7278925619834711, 0.5878099173553719, 0.4418699186991869, 0.5967703913248467, 0.6483936766955635, 0.6783777120315582, 0.7479829672792468, 0.440625, 0.6660749506903354, 0.7422330097087378, 0.7216145833333334, 0.6446601941747573]\n",
      "{'task_name': 'SIDER', 'fp_type': 'PharmacoErGFP', 'split-time': 2, 'test_roc_auc': 0.6505337140755649}\n",
      "SIDER PharmacoPFP\n",
      "loading dataset: SIDER number of split times: 3\n"
     ]
    },
    {
     "name": "stderr",
     "output_type": "stream",
     "text": [
      "100%|##########| 14/14 [00:02<00:00,  6.18it/s]\n",
      "  7%|7         | 1/14 [00:00<00:01,  7.35it/s]"
     ]
    },
    {
     "name": "stdout",
     "output_type": "stream",
     "text": [
      "[0.651017214397496, 0.48134863701578195, 0.6790780141843972, 0.6162473794549267, 0.6099380630630631, 0.5664780763790666, 0.6574803149606299, 0.6814516129032258, 0.6232456140350878, 0.6061143984220907, 0.6837072921978582, 0.40237691001697795, 0.6159779614325069, 0.6226666666666667, 0.6281234064252932, 0.7018563851489188, 0.659171597633136, 0.5187353629976581, 0.6664399092970521, 0.610832137733142, 0.5153518601523981, 0.5941115702479339, 0.6045112781954888, 0.5588353413654619, 0.5760963960052106, 0.5947342519685039, 0.5925925925925927]\n",
      "{'task_name': 'SIDER', 'fp_type': 'PharmacoPFP', 'split-time': 0, 'test_roc_auc': 0.6043896386997246}\n"
     ]
    },
    {
     "name": "stderr",
     "output_type": "stream",
     "text": [
      "100%|##########| 14/14 [00:02<00:00,  6.21it/s]\n",
      "  7%|7         | 1/14 [00:00<00:01,  7.56it/s]"
     ]
    },
    {
     "name": "stdout",
     "output_type": "stream",
     "text": [
      "[0.673767258382643, 0.5323691460055097, 0.4124087591240876, 0.6985264834727201, 0.6865942028985508, 0.6057150900900902, 0.7323308270676692, 0.6400826446280992, 0.593358395989975, 0.7131259780907667, 0.6585213032581454, 0.5361979166666666, 0.7777777777777778, 0.5716949152542373, 0.6531055900621117, 0.6180921052631579, 0.6218045112781954, 0.5579954954954955, 0.6623055162659123, 0.565527950310559, 0.6495410504844467, 0.6646122814881219, 0.6603053435114504, 0.6415946582875098, 0.6421351084812623, 0.6273148148148148, 0.696938775510204]\n",
      "{'task_name': 'SIDER', 'fp_type': 'PharmacoPFP', 'split-time': 1, 'test_roc_auc': 0.6331016259244512}\n"
     ]
    },
    {
     "name": "stderr",
     "output_type": "stream",
     "text": [
      "100%|##########| 14/14 [00:02<00:00,  6.20it/s]\n",
      "  0%|          | 0/14 [00:00<?, ?it/s]"
     ]
    },
    {
     "name": "stdout",
     "output_type": "stream",
     "text": [
      "[0.8168695993715631, 0.7191230486685033, 0.55, 0.6408722109533469, 0.7227648384673178, 0.6856976744186047, 0.6914201183431953, 0.6194797338173019, 0.6388888888888888, 0.675, 0.744605142332415, 0.4792899408284023, 0.6802184466019418, 0.5631163708086784, 0.6219031531531531, 0.7546487603305785, 0.4731404958677686, 0.4207317073170732, 0.6138613861386137, 0.6481387047424783, 0.650887573964497, 0.7519049753473779, 0.5708333333333333, 0.6502958579881657, 0.6841019417475728, 0.6888020833333334, 0.7004854368932039]\n",
      "{'task_name': 'SIDER', 'fp_type': 'PharmacoPFP', 'split-time': 2, 'test_roc_auc': 0.6465585712465669}\n",
      "SIDER PubChemFP\n",
      "loading dataset: SIDER number of split times: 3\n"
     ]
    },
    {
     "name": "stderr",
     "output_type": "stream",
     "text": [
      "100%|##########| 14/14 [00:05<00:00,  2.42it/s]\n",
      "  0%|          | 0/14 [00:00<?, ?it/s]"
     ]
    },
    {
     "name": "stdout",
     "output_type": "stream",
     "text": [
      "[0.6779147104851331, 0.5873983739837398, 0.4929078014184397, 0.6269392033542978, 0.5817849099099099, 0.5756718528995757, 0.6481299212598426, 0.7270797962648556, 0.5612938596491228, 0.6538461538461539, 0.6536206017338093, 0.49002546689303905, 0.5651515151515152, 0.5353333333333334, 0.61907190209077, 0.6443288453692371, 0.5384615384615384, 0.6044106167056987, 0.6321995464852608, 0.5921807747489239, 0.5279022859704169, 0.5772727272727273, 0.5548872180451128, 0.6132530120481928, 0.5821754233608337, 0.5895669291338583, 0.5946733250104036]\n",
      "{'task_name': 'SIDER', 'fp_type': 'PubChemFP', 'split-time': 0, 'test_roc_auc': 0.5943511720328053}\n"
     ]
    },
    {
     "name": "stderr",
     "output_type": "stream",
     "text": [
      "100%|##########| 14/14 [00:05<00:00,  2.44it/s]\n",
      "  0%|          | 0/14 [00:00<?, ?it/s]"
     ]
    },
    {
     "name": "stdout",
     "output_type": "stream",
     "text": [
      "[0.726429980276134, 0.6298898071625344, 0.5650851581508517, 0.5695937873357227, 0.5434782608695653, 0.5240709459459459, 0.6849624060150376, 0.6789256198347109, 0.5578947368421053, 0.7150821596244131, 0.7759398496240603, 0.6286458333333333, 0.7207671957671957, 0.5283050847457627, 0.6295031055900622, 0.6555921052631579, 0.525563909774436, 0.4966216216216216, 0.6262376237623762, 0.5451863354037266, 0.6703212646608873, 0.6295383236216943, 0.6784351145038168, 0.6567164179104477, 0.6671597633136095, 0.4930555555555556, 0.6452380952380953]\n",
      "{'task_name': 'SIDER', 'fp_type': 'PubChemFP', 'split-time': 1, 'test_roc_auc': 0.6210459282128468}\n"
     ]
    },
    {
     "name": "stderr",
     "output_type": "stream",
     "text": [
      "100%|##########| 14/14 [00:05<00:00,  2.41it/s]\n",
      "  0%|          | 0/14 [00:00<?, ?it/s]"
     ]
    },
    {
     "name": "stdout",
     "output_type": "stream",
     "text": [
      "[0.7698350353495679, 0.621097337006428, 0.5891304347826086, 0.6171399594320487, 0.6709241172051088, 0.6465116279069768, 0.608284023668639, 0.6742286751361162, 0.6023809523809522, 0.7187254901960785, 0.651744719926538, 0.5260355029585798, 0.5751213592233009, 0.5956607495069034, 0.6144425675675675, 0.6970041322314049, 0.5168732782369145, 0.5861788617886179, 0.6638378123526638, 0.6291432942376338, 0.6108234714003945, 0.7312864186463469, 0.5929687499999999, 0.6800788954635109, 0.7235436893203884, 0.7065104166666667, 0.5716019417475728]\n",
      "{'task_name': 'SIDER', 'fp_type': 'PubChemFP', 'split-time': 2, 'test_roc_auc': 0.636707907938501}\n",
      "SIDER MHFP6\n",
      "loading dataset: SIDER number of split times: 3\n"
     ]
    },
    {
     "name": "stderr",
     "output_type": "stream",
     "text": [
      "100%|##########| 14/14 [00:15<00:00,  1.12s/it]\n",
      "  0%|          | 0/14 [00:00<?, ?it/s]"
     ]
    },
    {
     "name": "stdout",
     "output_type": "stream",
     "text": [
      "[0.6922926447574335, 0.5823768531802965, 0.49645390070921985, 0.6680293501048218, 0.646677927927928, 0.6242338519566243, 0.671505905511811, 0.648132427843803, 0.5667763157894736, 0.6615384615384616, 0.6030086690464049, 0.5730050933786078, 0.593939393939394, 0.5431111111111111, 0.5954869964303926, 0.6820685434516524, 0.5846153846153845, 0.5593286494925838, 0.5937641723356009, 0.6092778574844573, 0.5822501120573733, 0.5829545454545455, 0.5586466165413534, 0.6049196787148595, 0.6327616152844115, 0.6481299212598426, 0.5520183104452767]\n",
      "{'task_name': 'SIDER', 'fp_type': 'MHFP6', 'split-time': 0, 'test_roc_auc': 0.6058260855690046}\n"
     ]
    },
    {
     "name": "stderr",
     "output_type": "stream",
     "text": [
      "100%|##########| 14/14 [00:15<00:00,  1.12s/it]\n",
      "  0%|          | 0/14 [00:00<?, ?it/s]"
     ]
    },
    {
     "name": "stdout",
     "output_type": "stream",
     "text": [
      "[0.6615384615384615, 0.5969696969696969, 0.4927007299270073, 0.653126244524094, 0.5295289855072464, 0.5905123873873874, 0.6661654135338346, 0.6090909090909091, 0.5531328320802005, 0.7197769953051643, 0.7012531328320801, 0.55703125, 0.6460317460317461, 0.524915254237288, 0.5872670807453416, 0.5922149122807017, 0.5586466165413533, 0.4925394144144144, 0.5826261197548326, 0.5563664596273292, 0.6542580316165222, 0.6531824294038547, 0.6774809160305343, 0.5906323644933228, 0.655448717948718, 0.525462962962963, 0.6850340136054421]\n",
      "{'task_name': 'SIDER', 'fp_type': 'MHFP6', 'split-time': 1, 'test_roc_auc': 0.6041827436440905}\n"
     ]
    },
    {
     "name": "stderr",
     "output_type": "stream",
     "text": [
      "100%|##########| 14/14 [00:15<00:00,  1.12s/it]\n",
      "  0%|          | 0/14 [00:00<?, ?it/s]"
     ]
    },
    {
     "name": "stdout",
     "output_type": "stream",
     "text": [
      "[0.7786724273369992, 0.6485307621671258, 0.5992753623188406, 0.6828600405679512, 0.7105559729526671, 0.687093023255814, 0.7979289940828402, 0.6367211131276467, 0.6226190476190476, 0.6912745098039216, 0.6425619834710744, 0.6100591715976331, 0.6651699029126215, 0.653353057199211, 0.5817849099099099, 0.7391528925619835, 0.5420110192837465, 0.4558943089430894, 0.6685525695426686, 0.6357725650178481, 0.743836291913215, 0.7185118780815777, 0.7049479166666666, 0.6659763313609468, 0.7226941747572816, 0.7617187500000001, 0.6923543689320387]\n",
      "{'task_name': 'SIDER', 'fp_type': 'MHFP6', 'split-time': 2, 'test_roc_auc': 0.6688845683475692}\n",
      "SIDER MAP4\n",
      "loading dataset: SIDER number of split times: 3\n"
     ]
    },
    {
     "name": "stderr",
     "output_type": "stream",
     "text": [
      "100%|##########| 14/14 [00:15<00:00,  1.11s/it]\n",
      "  0%|          | 0/14 [00:00<?, ?it/s]"
     ]
    },
    {
     "name": "stdout",
     "output_type": "stream",
     "text": [
      "[0.6421165884194053, 0.543400286944046, 0.49645390070921985, 0.5602725366876311, 0.537302927927928, 0.6392032060348892, 0.6323818897637795, 0.6277589134125636, 0.581578947368421, 0.6371794871794871, 0.6130800611932687, 0.5021222410865874, 0.5712121212121212, 0.5195555555555557, 0.5184854665986742, 0.6415748674010608, 0.6192307692307693, 0.5534738485558158, 0.5363945578231293, 0.5020325203252033, 0.5382115643209323, 0.5818181818181818, 0.6560150375939849, 0.630421686746988, 0.5928137212331741, 0.49950787401574803, 0.5764669163545568]\n",
      "{'task_name': 'SIDER', 'fp_type': 'MAP4', 'split-time': 0, 'test_roc_auc': 0.5759283583523379}\n"
     ]
    },
    {
     "name": "stderr",
     "output_type": "stream",
     "text": [
      "100%|##########| 14/14 [00:15<00:00,  1.11s/it]\n",
      "  0%|          | 0/14 [00:00<?, ?it/s]"
     ]
    },
    {
     "name": "stdout",
     "output_type": "stream",
     "text": [
      "[0.6538461538461539, 0.5757575757575758, 0.4927007299270073, 0.5595380326563122, 0.4878623188405797, 0.6587837837837838, 0.624812030075188, 0.5757575757575757, 0.5236842105263158, 0.6651995305164319, 0.6581453634085214, 0.6432291666666667, 0.6444444444444444, 0.5503389830508475, 0.5293478260869565, 0.6015350877192982, 0.5161654135338345, 0.5309684684684685, 0.5756718528995757, 0.5920807453416149, 0.5989291177970424, 0.6267368892873152, 0.6125954198473282, 0.6072270227808327, 0.6650641025641025, 0.6245370370370371, 0.732766439909297]\n",
      "{'task_name': 'SIDER', 'fp_type': 'MAP4', 'split-time': 1, 'test_roc_auc': 0.5973231600937077}\n"
     ]
    },
    {
     "name": "stderr",
     "output_type": "stream",
     "text": [
      "100%|##########| 14/14 [00:15<00:00,  1.12s/it]\n",
      "  0%|          | 0/14 [00:00<?, ?it/s]"
     ]
    },
    {
     "name": "stdout",
     "output_type": "stream",
     "text": [
      "[0.6477808326787118, 0.5020661157024793, 0.4891304347826087, 0.5953346855983772, 0.40627347858752816, 0.6627906976744187, 0.6171597633136094, 0.5343315184513008, 0.6156084656084656, 0.6763725490196079, 0.6105371900826447, 0.5428994082840236, 0.6343446601941748, 0.5994411571334648, 0.4811373873873874, 0.641012396694215, 0.4820936639118457, 0.5727642276422764, 0.5313531353135313, 0.5525242223355431, 0.6008382642998028, 0.6267368892873151, 0.6765625, 0.6032544378698225, 0.5718446601941748, 0.6625000000000001, 0.6728155339805825]\n",
      "{'task_name': 'SIDER', 'fp_type': 'MAP4', 'split-time': 2, 'test_roc_auc': 0.5855373435565893}\n",
      "BACE MorganFP\n",
      "loading dataset: BACE number of split times: 3\n"
     ]
    },
    {
     "name": "stderr",
     "output_type": "stream",
     "text": [
      "100%|##########| 14/14 [00:16<00:00,  1.21s/it]\n",
      "  0%|          | 0/14 [00:00<?, ?it/s]"
     ]
    },
    {
     "name": "stdout",
     "output_type": "stream",
     "text": [
      "{'task_name': 'BACE', 'fp_type': 'MorganFP', 'split-time': 0, 'test_roc_auc': 0.8419384057971013}\n"
     ]
    },
    {
     "name": "stderr",
     "output_type": "stream",
     "text": [
      "100%|##########| 14/14 [00:16<00:00,  1.22s/it]\n",
      "  0%|          | 0/14 [00:00<?, ?it/s]"
     ]
    },
    {
     "name": "stdout",
     "output_type": "stream",
     "text": [
      "{'task_name': 'BACE', 'fp_type': 'MorganFP', 'split-time': 1, 'test_roc_auc': 0.8419384057971013}\n"
     ]
    },
    {
     "name": "stderr",
     "output_type": "stream",
     "text": [
      "100%|##########| 14/14 [00:16<00:00,  1.21s/it]\n",
      "  0%|          | 0/14 [00:00<?, ?it/s]"
     ]
    },
    {
     "name": "stdout",
     "output_type": "stream",
     "text": [
      "{'task_name': 'BACE', 'fp_type': 'MorganFP', 'split-time': 2, 'test_roc_auc': 0.8419384057971013}\n",
      "BACE RDkitFP\n",
      "loading dataset: BACE number of split times: 3\n"
     ]
    },
    {
     "name": "stderr",
     "output_type": "stream",
     "text": [
      "100%|##########| 14/14 [00:17<00:00,  1.22s/it]\n",
      "  0%|          | 0/14 [00:00<?, ?it/s]"
     ]
    },
    {
     "name": "stdout",
     "output_type": "stream",
     "text": [
      "{'task_name': 'BACE', 'fp_type': 'RDkitFP', 'split-time': 0, 'test_roc_auc': 0.7547101449275362}\n"
     ]
    },
    {
     "name": "stderr",
     "output_type": "stream",
     "text": [
      "100%|##########| 14/14 [00:17<00:00,  1.22s/it]\n",
      "  0%|          | 0/14 [00:00<?, ?it/s]"
     ]
    },
    {
     "name": "stdout",
     "output_type": "stream",
     "text": [
      "{'task_name': 'BACE', 'fp_type': 'RDkitFP', 'split-time': 1, 'test_roc_auc': 0.7547101449275362}\n"
     ]
    },
    {
     "name": "stderr",
     "output_type": "stream",
     "text": [
      "100%|##########| 14/14 [00:17<00:00,  1.22s/it]\n",
      "  0%|          | 0/14 [00:00<?, ?it/s]"
     ]
    },
    {
     "name": "stdout",
     "output_type": "stream",
     "text": [
      "{'task_name': 'BACE', 'fp_type': 'RDkitFP', 'split-time': 2, 'test_roc_auc': 0.7547101449275362}\n",
      "BACE AtomPairFP\n",
      "loading dataset: BACE number of split times: 3\n"
     ]
    },
    {
     "name": "stderr",
     "output_type": "stream",
     "text": [
      "100%|##########| 14/14 [00:17<00:00,  1.22s/it]\n",
      "  0%|          | 0/14 [00:00<?, ?it/s]"
     ]
    },
    {
     "name": "stdout",
     "output_type": "stream",
     "text": [
      "{'task_name': 'BACE', 'fp_type': 'AtomPairFP', 'split-time': 0, 'test_roc_auc': 0.8332427536231884}\n"
     ]
    },
    {
     "name": "stderr",
     "output_type": "stream",
     "text": [
      "100%|##########| 14/14 [00:17<00:00,  1.22s/it]\n",
      "  0%|          | 0/14 [00:00<?, ?it/s]"
     ]
    },
    {
     "name": "stdout",
     "output_type": "stream",
     "text": [
      "{'task_name': 'BACE', 'fp_type': 'AtomPairFP', 'split-time': 1, 'test_roc_auc': 0.8332427536231884}\n"
     ]
    },
    {
     "name": "stderr",
     "output_type": "stream",
     "text": [
      "100%|##########| 14/14 [00:17<00:00,  1.24s/it]\n",
      "  0%|          | 0/14 [00:00<?, ?it/s]"
     ]
    },
    {
     "name": "stdout",
     "output_type": "stream",
     "text": [
      "{'task_name': 'BACE', 'fp_type': 'AtomPairFP', 'split-time': 2, 'test_roc_auc': 0.8332427536231884}\n",
      "BACE TorsionFP\n",
      "loading dataset: BACE number of split times: 3\n"
     ]
    },
    {
     "name": "stderr",
     "output_type": "stream",
     "text": [
      "100%|##########| 14/14 [00:15<00:00,  1.15s/it]\n",
      "  0%|          | 0/14 [00:00<?, ?it/s]"
     ]
    },
    {
     "name": "stdout",
     "output_type": "stream",
     "text": [
      "{'task_name': 'BACE', 'fp_type': 'TorsionFP', 'split-time': 0, 'test_roc_auc': 0.8503623188405798}\n"
     ]
    },
    {
     "name": "stderr",
     "output_type": "stream",
     "text": [
      "100%|##########| 14/14 [00:16<00:00,  1.18s/it]\n",
      "  0%|          | 0/14 [00:00<?, ?it/s]"
     ]
    },
    {
     "name": "stdout",
     "output_type": "stream",
     "text": [
      "{'task_name': 'BACE', 'fp_type': 'TorsionFP', 'split-time': 1, 'test_roc_auc': 0.8503623188405798}\n"
     ]
    },
    {
     "name": "stderr",
     "output_type": "stream",
     "text": [
      "100%|##########| 14/14 [00:16<00:00,  1.22s/it]\n",
      "  0%|          | 0/14 [00:00<?, ?it/s]"
     ]
    },
    {
     "name": "stdout",
     "output_type": "stream",
     "text": [
      "{'task_name': 'BACE', 'fp_type': 'TorsionFP', 'split-time': 2, 'test_roc_auc': 0.8503623188405798}\n",
      "BACE AvalonFP\n",
      "loading dataset: BACE number of split times: 3\n"
     ]
    },
    {
     "name": "stderr",
     "output_type": "stream",
     "text": [
      "100%|##########| 14/14 [00:17<00:00,  1.27s/it]\n",
      "  0%|          | 0/14 [00:00<?, ?it/s]"
     ]
    },
    {
     "name": "stdout",
     "output_type": "stream",
     "text": [
      "{'task_name': 'BACE', 'fp_type': 'AvalonFP', 'split-time': 0, 'test_roc_auc': 0.8494565217391303}\n"
     ]
    },
    {
     "name": "stderr",
     "output_type": "stream",
     "text": [
      "100%|##########| 14/14 [00:18<00:00,  1.30s/it]\n",
      "  0%|          | 0/14 [00:00<?, ?it/s]"
     ]
    },
    {
     "name": "stdout",
     "output_type": "stream",
     "text": [
      "{'task_name': 'BACE', 'fp_type': 'AvalonFP', 'split-time': 1, 'test_roc_auc': 0.8494565217391303}\n"
     ]
    },
    {
     "name": "stderr",
     "output_type": "stream",
     "text": [
      "100%|##########| 14/14 [00:18<00:00,  1.31s/it]\n",
      " 21%|##1       | 3/14 [00:00<00:00, 25.36it/s]"
     ]
    },
    {
     "name": "stdout",
     "output_type": "stream",
     "text": [
      "{'task_name': 'BACE', 'fp_type': 'AvalonFP', 'split-time': 2, 'test_roc_auc': 0.8494565217391303}\n",
      "BACE EstateFP\n",
      "loading dataset: BACE number of split times: 3\n"
     ]
    },
    {
     "name": "stderr",
     "output_type": "stream",
     "text": [
      "100%|##########| 14/14 [00:00<00:00, 24.23it/s]\n",
      " 21%|##1       | 3/14 [00:00<00:00, 27.88it/s]"
     ]
    },
    {
     "name": "stdout",
     "output_type": "stream",
     "text": [
      "{'task_name': 'BACE', 'fp_type': 'EstateFP', 'split-time': 0, 'test_roc_auc': 0.7966485507246377}\n"
     ]
    },
    {
     "name": "stderr",
     "output_type": "stream",
     "text": [
      "100%|##########| 14/14 [00:00<00:00, 23.97it/s]\n",
      " 21%|##1       | 3/14 [00:00<00:00, 26.00it/s]"
     ]
    },
    {
     "name": "stdout",
     "output_type": "stream",
     "text": [
      "{'task_name': 'BACE', 'fp_type': 'EstateFP', 'split-time': 1, 'test_roc_auc': 0.7966485507246377}\n"
     ]
    },
    {
     "name": "stderr",
     "output_type": "stream",
     "text": [
      "100%|##########| 14/14 [00:00<00:00, 25.57it/s]\n",
      "  0%|          | 0/14 [00:00<?, ?it/s]"
     ]
    },
    {
     "name": "stdout",
     "output_type": "stream",
     "text": [
      "{'task_name': 'BACE', 'fp_type': 'EstateFP', 'split-time': 2, 'test_roc_auc': 0.7966485507246377}\n",
      "BACE MACCSFP\n",
      "loading dataset: BACE number of split times: 3\n"
     ]
    },
    {
     "name": "stderr",
     "output_type": "stream",
     "text": [
      "100%|##########| 14/14 [00:01<00:00,  7.77it/s]\n",
      " 14%|#4        | 2/14 [00:00<00:01, 10.12it/s]"
     ]
    },
    {
     "name": "stdout",
     "output_type": "stream",
     "text": [
      "{'task_name': 'BACE', 'fp_type': 'MACCSFP', 'split-time': 0, 'test_roc_auc': 0.8461956521739131}\n"
     ]
    },
    {
     "name": "stderr",
     "output_type": "stream",
     "text": [
      "100%|##########| 14/14 [00:01<00:00,  8.76it/s]\n",
      "  0%|          | 0/14 [00:00<?, ?it/s]"
     ]
    },
    {
     "name": "stdout",
     "output_type": "stream",
     "text": [
      "{'task_name': 'BACE', 'fp_type': 'MACCSFP', 'split-time': 1, 'test_roc_auc': 0.8461956521739131}\n"
     ]
    },
    {
     "name": "stderr",
     "output_type": "stream",
     "text": [
      "100%|##########| 14/14 [00:01<00:00,  8.34it/s]\n",
      "  0%|          | 0/14 [00:00<?, ?it/s]"
     ]
    },
    {
     "name": "stdout",
     "output_type": "stream",
     "text": [
      "{'task_name': 'BACE', 'fp_type': 'MACCSFP', 'split-time': 2, 'test_roc_auc': 0.8461956521739131}\n",
      "BACE PharmacoErGFP\n",
      "loading dataset: BACE number of split times: 3\n"
     ]
    },
    {
     "name": "stderr",
     "output_type": "stream",
     "text": [
      "100%|##########| 14/14 [00:03<00:00,  3.57it/s]\n",
      "  0%|          | 0/14 [00:00<?, ?it/s]"
     ]
    },
    {
     "name": "stdout",
     "output_type": "stream",
     "text": [
      "{'task_name': 'BACE', 'fp_type': 'PharmacoErGFP', 'split-time': 0, 'test_roc_auc': 0.7660326086956523}\n"
     ]
    },
    {
     "name": "stderr",
     "output_type": "stream",
     "text": [
      "100%|##########| 14/14 [00:03<00:00,  3.57it/s]\n",
      "  0%|          | 0/14 [00:00<?, ?it/s]"
     ]
    },
    {
     "name": "stdout",
     "output_type": "stream",
     "text": [
      "{'task_name': 'BACE', 'fp_type': 'PharmacoErGFP', 'split-time': 1, 'test_roc_auc': 0.7660326086956523}\n"
     ]
    },
    {
     "name": "stderr",
     "output_type": "stream",
     "text": [
      "100%|##########| 14/14 [00:03<00:00,  3.31it/s]\n",
      "  7%|7         | 1/14 [00:00<00:01,  6.86it/s]"
     ]
    },
    {
     "name": "stdout",
     "output_type": "stream",
     "text": [
      "{'task_name': 'BACE', 'fp_type': 'PharmacoErGFP', 'split-time': 2, 'test_roc_auc': 0.7660326086956523}\n",
      "BACE PharmacoPFP\n",
      "loading dataset: BACE number of split times: 3\n"
     ]
    },
    {
     "name": "stderr",
     "output_type": "stream",
     "text": [
      "100%|##########| 14/14 [00:02<00:00,  6.25it/s]\n",
      "  7%|7         | 1/14 [00:00<00:01,  8.09it/s]"
     ]
    },
    {
     "name": "stdout",
     "output_type": "stream",
     "text": [
      "{'task_name': 'BACE', 'fp_type': 'PharmacoPFP', 'split-time': 0, 'test_roc_auc': 0.7638586956521739}\n"
     ]
    },
    {
     "name": "stderr",
     "output_type": "stream",
     "text": [
      "100%|##########| 14/14 [00:02<00:00,  5.99it/s]\n",
      "  7%|7         | 1/14 [00:00<00:01,  6.56it/s]"
     ]
    },
    {
     "name": "stdout",
     "output_type": "stream",
     "text": [
      "{'task_name': 'BACE', 'fp_type': 'PharmacoPFP', 'split-time': 1, 'test_roc_auc': 0.7638586956521739}\n"
     ]
    },
    {
     "name": "stderr",
     "output_type": "stream",
     "text": [
      "100%|##########| 14/14 [00:02<00:00,  5.97it/s]\n",
      "  0%|          | 0/14 [00:00<?, ?it/s]"
     ]
    },
    {
     "name": "stdout",
     "output_type": "stream",
     "text": [
      "{'task_name': 'BACE', 'fp_type': 'PharmacoPFP', 'split-time': 2, 'test_roc_auc': 0.7638586956521739}\n",
      "BACE PubChemFP\n",
      "loading dataset: BACE number of split times: 3\n"
     ]
    },
    {
     "name": "stderr",
     "output_type": "stream",
     "text": [
      "100%|##########| 14/14 [00:06<00:00,  2.02it/s]\n",
      "  0%|          | 0/14 [00:00<?, ?it/s]"
     ]
    },
    {
     "name": "stdout",
     "output_type": "stream",
     "text": [
      "{'task_name': 'BACE', 'fp_type': 'PubChemFP', 'split-time': 0, 'test_roc_auc': 0.8129528985507246}\n"
     ]
    },
    {
     "name": "stderr",
     "output_type": "stream",
     "text": [
      "100%|##########| 14/14 [00:06<00:00,  2.09it/s]\n",
      "  0%|          | 0/14 [00:00<?, ?it/s]"
     ]
    },
    {
     "name": "stdout",
     "output_type": "stream",
     "text": [
      "{'task_name': 'BACE', 'fp_type': 'PubChemFP', 'split-time': 1, 'test_roc_auc': 0.8129528985507246}\n"
     ]
    },
    {
     "name": "stderr",
     "output_type": "stream",
     "text": [
      "100%|##########| 14/14 [00:06<00:00,  2.06it/s]\n",
      "  0%|          | 0/14 [00:00<?, ?it/s]"
     ]
    },
    {
     "name": "stdout",
     "output_type": "stream",
     "text": [
      "{'task_name': 'BACE', 'fp_type': 'PubChemFP', 'split-time': 2, 'test_roc_auc': 0.8129528985507246}\n",
      "BACE MHFP6\n",
      "loading dataset: BACE number of split times: 3\n"
     ]
    },
    {
     "name": "stderr",
     "output_type": "stream",
     "text": [
      "100%|##########| 14/14 [00:19<00:00,  1.37s/it]\n",
      "  0%|          | 0/14 [00:00<?, ?it/s]"
     ]
    },
    {
     "name": "stdout",
     "output_type": "stream",
     "text": [
      "{'task_name': 'BACE', 'fp_type': 'MHFP6', 'split-time': 0, 'test_roc_auc': 0.8248188405797101}\n"
     ]
    },
    {
     "name": "stderr",
     "output_type": "stream",
     "text": [
      "100%|##########| 14/14 [00:18<00:00,  1.36s/it]\n",
      "  0%|          | 0/14 [00:00<?, ?it/s]"
     ]
    },
    {
     "name": "stdout",
     "output_type": "stream",
     "text": [
      "{'task_name': 'BACE', 'fp_type': 'MHFP6', 'split-time': 1, 'test_roc_auc': 0.8248188405797101}\n"
     ]
    },
    {
     "name": "stderr",
     "output_type": "stream",
     "text": [
      "100%|##########| 14/14 [00:19<00:00,  1.34s/it]\n",
      "  0%|          | 0/14 [00:00<?, ?it/s]"
     ]
    },
    {
     "name": "stdout",
     "output_type": "stream",
     "text": [
      "{'task_name': 'BACE', 'fp_type': 'MHFP6', 'split-time': 2, 'test_roc_auc': 0.8248188405797101}\n",
      "BACE MAP4\n",
      "loading dataset: BACE number of split times: 3\n"
     ]
    },
    {
     "name": "stderr",
     "output_type": "stream",
     "text": [
      "100%|##########| 14/14 [00:19<00:00,  1.39s/it]\n",
      "  0%|          | 0/14 [00:00<?, ?it/s]"
     ]
    },
    {
     "name": "stdout",
     "output_type": "stream",
     "text": [
      "{'task_name': 'BACE', 'fp_type': 'MAP4', 'split-time': 0, 'test_roc_auc': 0.7307971014492753}\n"
     ]
    },
    {
     "name": "stderr",
     "output_type": "stream",
     "text": [
      "100%|##########| 14/14 [00:18<00:00,  1.35s/it]\n",
      "  0%|          | 0/14 [00:00<?, ?it/s]"
     ]
    },
    {
     "name": "stdout",
     "output_type": "stream",
     "text": [
      "{'task_name': 'BACE', 'fp_type': 'MAP4', 'split-time': 1, 'test_roc_auc': 0.7307971014492753}\n"
     ]
    },
    {
     "name": "stderr",
     "output_type": "stream",
     "text": [
      "100%|##########| 14/14 [00:18<00:00,  1.36s/it]\n",
      "  0%|          | 0/14 [00:00<?, ?it/s]"
     ]
    },
    {
     "name": "stdout",
     "output_type": "stream",
     "text": [
      "{'task_name': 'BACE', 'fp_type': 'MAP4', 'split-time': 2, 'test_roc_auc': 0.7307971014492753}\n",
      "BBBP MorganFP\n",
      "loading dataset: BBBP number of split times: 3\n"
     ]
    },
    {
     "name": "stderr",
     "output_type": "stream",
     "text": [
      "100%|##########| 14/14 [00:29<00:00,  2.12s/it]\n",
      "  0%|          | 0/14 [00:00<?, ?it/s]"
     ]
    },
    {
     "name": "stdout",
     "output_type": "stream",
     "text": [
      "{'task_name': 'BBBP', 'fp_type': 'MorganFP', 'split-time': 0, 'test_roc_auc': 0.6226515078523942}\n"
     ]
    },
    {
     "name": "stderr",
     "output_type": "stream",
     "text": [
      "100%|##########| 14/14 [00:29<00:00,  2.15s/it]\n",
      "  0%|          | 0/14 [00:00<?, ?it/s]"
     ]
    },
    {
     "name": "stdout",
     "output_type": "stream",
     "text": [
      "{'task_name': 'BBBP', 'fp_type': 'MorganFP', 'split-time': 1, 'test_roc_auc': 0.6226515078523942}\n"
     ]
    },
    {
     "name": "stderr",
     "output_type": "stream",
     "text": [
      "100%|##########| 14/14 [00:29<00:00,  2.10s/it]\n",
      "  0%|          | 0/14 [00:00<?, ?it/s]"
     ]
    },
    {
     "name": "stdout",
     "output_type": "stream",
     "text": [
      "{'task_name': 'BBBP', 'fp_type': 'MorganFP', 'split-time': 2, 'test_roc_auc': 0.6226515078523942}\n",
      "BBBP RDkitFP\n",
      "loading dataset: BBBP number of split times: 3\n"
     ]
    },
    {
     "name": "stderr",
     "output_type": "stream",
     "text": [
      "100%|##########| 14/14 [00:30<00:00,  2.15s/it]\n",
      "  0%|          | 0/14 [00:00<?, ?it/s]"
     ]
    },
    {
     "name": "stdout",
     "output_type": "stream",
     "text": [
      "{'task_name': 'BBBP', 'fp_type': 'RDkitFP', 'split-time': 0, 'test_roc_auc': 0.6543501300703343}\n"
     ]
    },
    {
     "name": "stderr",
     "output_type": "stream",
     "text": [
      "100%|##########| 14/14 [00:29<00:00,  2.14s/it]\n",
      "  0%|          | 0/14 [00:00<?, ?it/s]"
     ]
    },
    {
     "name": "stdout",
     "output_type": "stream",
     "text": [
      "{'task_name': 'BBBP', 'fp_type': 'RDkitFP', 'split-time': 1, 'test_roc_auc': 0.6543501300703343}\n"
     ]
    },
    {
     "name": "stderr",
     "output_type": "stream",
     "text": [
      "100%|##########| 14/14 [00:29<00:00,  2.09s/it]\n",
      "  0%|          | 0/14 [00:00<?, ?it/s]"
     ]
    },
    {
     "name": "stdout",
     "output_type": "stream",
     "text": [
      "{'task_name': 'BBBP', 'fp_type': 'RDkitFP', 'split-time': 2, 'test_roc_auc': 0.6543501300703343}\n",
      "BBBP AtomPairFP\n",
      "loading dataset: BBBP number of split times: 3\n"
     ]
    },
    {
     "name": "stderr",
     "output_type": "stream",
     "text": [
      "100%|##########| 14/14 [00:29<00:00,  2.15s/it]\n",
      "  0%|          | 0/14 [00:00<?, ?it/s]"
     ]
    },
    {
     "name": "stdout",
     "output_type": "stream",
     "text": [
      "{'task_name': 'BBBP', 'fp_type': 'AtomPairFP', 'split-time': 0, 'test_roc_auc': 0.6577223239233067}\n"
     ]
    },
    {
     "name": "stderr",
     "output_type": "stream",
     "text": [
      "100%|##########| 14/14 [00:29<00:00,  2.09s/it]\n",
      "  0%|          | 0/14 [00:00<?, ?it/s]"
     ]
    },
    {
     "name": "stdout",
     "output_type": "stream",
     "text": [
      "{'task_name': 'BBBP', 'fp_type': 'AtomPairFP', 'split-time': 1, 'test_roc_auc': 0.6577223239233067}\n"
     ]
    },
    {
     "name": "stderr",
     "output_type": "stream",
     "text": [
      "100%|##########| 14/14 [00:30<00:00,  2.14s/it]\n",
      "  0%|          | 0/14 [00:00<?, ?it/s]"
     ]
    },
    {
     "name": "stdout",
     "output_type": "stream",
     "text": [
      "{'task_name': 'BBBP', 'fp_type': 'AtomPairFP', 'split-time': 2, 'test_roc_auc': 0.6577223239233067}\n",
      "BBBP TorsionFP\n",
      "loading dataset: BBBP number of split times: 3\n"
     ]
    },
    {
     "name": "stderr",
     "output_type": "stream",
     "text": [
      "100%|##########| 14/14 [00:26<00:00,  1.95s/it]\n",
      "  0%|          | 0/14 [00:00<?, ?it/s]"
     ]
    },
    {
     "name": "stdout",
     "output_type": "stream",
     "text": [
      "{'task_name': 'BBBP', 'fp_type': 'TorsionFP', 'split-time': 0, 'test_roc_auc': 0.6309374698911263}\n"
     ]
    },
    {
     "name": "stderr",
     "output_type": "stream",
     "text": [
      "100%|##########| 14/14 [00:26<00:00,  1.95s/it]\n",
      "  0%|          | 0/14 [00:00<?, ?it/s]"
     ]
    },
    {
     "name": "stdout",
     "output_type": "stream",
     "text": [
      "{'task_name': 'BBBP', 'fp_type': 'TorsionFP', 'split-time': 1, 'test_roc_auc': 0.6309374698911263}\n"
     ]
    },
    {
     "name": "stderr",
     "output_type": "stream",
     "text": [
      "100%|##########| 14/14 [00:26<00:00,  1.96s/it]\n",
      "  0%|          | 0/14 [00:00<?, ?it/s]"
     ]
    },
    {
     "name": "stdout",
     "output_type": "stream",
     "text": [
      "{'task_name': 'BBBP', 'fp_type': 'TorsionFP', 'split-time': 2, 'test_roc_auc': 0.6309374698911263}\n",
      "BBBP AvalonFP\n",
      "loading dataset: BBBP number of split times: 3\n"
     ]
    },
    {
     "name": "stderr",
     "output_type": "stream",
     "text": [
      "100%|##########| 14/14 [00:29<00:00,  2.13s/it]\n",
      "  0%|          | 0/14 [00:00<?, ?it/s]"
     ]
    },
    {
     "name": "stdout",
     "output_type": "stream",
     "text": [
      "{'task_name': 'BBBP', 'fp_type': 'AvalonFP', 'split-time': 0, 'test_roc_auc': 0.6141728490220638}\n"
     ]
    },
    {
     "name": "stderr",
     "output_type": "stream",
     "text": [
      "100%|##########| 14/14 [00:29<00:00,  2.13s/it]\n",
      "  0%|          | 0/14 [00:00<?, ?it/s]"
     ]
    },
    {
     "name": "stdout",
     "output_type": "stream",
     "text": [
      "{'task_name': 'BBBP', 'fp_type': 'AvalonFP', 'split-time': 1, 'test_roc_auc': 0.6141728490220638}\n"
     ]
    },
    {
     "name": "stderr",
     "output_type": "stream",
     "text": [
      "100%|##########| 14/14 [00:29<00:00,  2.13s/it]\n",
      " 14%|#4        | 2/14 [00:00<00:00, 14.30it/s]"
     ]
    },
    {
     "name": "stdout",
     "output_type": "stream",
     "text": [
      "{'task_name': 'BBBP', 'fp_type': 'AvalonFP', 'split-time': 2, 'test_roc_auc': 0.6141728490220638}\n",
      "BBBP EstateFP\n",
      "loading dataset: BBBP number of split times: 3\n"
     ]
    },
    {
     "name": "stderr",
     "output_type": "stream",
     "text": [
      "100%|##########| 14/14 [00:01<00:00, 13.89it/s]\n",
      " 14%|#4        | 2/14 [00:00<00:00, 15.13it/s]"
     ]
    },
    {
     "name": "stdout",
     "output_type": "stream",
     "text": [
      "{'task_name': 'BBBP', 'fp_type': 'EstateFP', 'split-time': 0, 'test_roc_auc': 0.6720300606994893}\n"
     ]
    },
    {
     "name": "stderr",
     "output_type": "stream",
     "text": [
      "100%|##########| 14/14 [00:00<00:00, 14.98it/s]\n",
      " 14%|#4        | 2/14 [00:00<00:00, 13.71it/s]"
     ]
    },
    {
     "name": "stdout",
     "output_type": "stream",
     "text": [
      "{'task_name': 'BBBP', 'fp_type': 'EstateFP', 'split-time': 1, 'test_roc_auc': 0.6720300606994893}\n"
     ]
    },
    {
     "name": "stderr",
     "output_type": "stream",
     "text": [
      "100%|##########| 14/14 [00:00<00:00, 14.14it/s]\n",
      "  0%|          | 0/14 [00:00<?, ?it/s]"
     ]
    },
    {
     "name": "stdout",
     "output_type": "stream",
     "text": [
      "{'task_name': 'BBBP', 'fp_type': 'EstateFP', 'split-time': 2, 'test_roc_auc': 0.6720300606994893}\n",
      "BBBP MACCSFP\n",
      "loading dataset: BBBP number of split times: 3\n"
     ]
    },
    {
     "name": "stderr",
     "output_type": "stream",
     "text": [
      "100%|##########| 14/14 [00:02<00:00,  5.44it/s]\n",
      "  7%|7         | 1/14 [00:00<00:02,  5.70it/s]"
     ]
    },
    {
     "name": "stdout",
     "output_type": "stream",
     "text": [
      "{'task_name': 'BBBP', 'fp_type': 'MACCSFP', 'split-time': 0, 'test_roc_auc': 0.6450525098757105}\n"
     ]
    },
    {
     "name": "stderr",
     "output_type": "stream",
     "text": [
      "100%|##########| 14/14 [00:02<00:00,  5.57it/s]\n",
      "  7%|7         | 1/14 [00:00<00:02,  5.90it/s]"
     ]
    },
    {
     "name": "stdout",
     "output_type": "stream",
     "text": [
      "{'task_name': 'BBBP', 'fp_type': 'MACCSFP', 'split-time': 1, 'test_roc_auc': 0.6450525098757105}\n"
     ]
    },
    {
     "name": "stderr",
     "output_type": "stream",
     "text": [
      "100%|##########| 14/14 [00:02<00:00,  5.51it/s]\n",
      "  0%|          | 0/14 [00:00<?, ?it/s]"
     ]
    },
    {
     "name": "stdout",
     "output_type": "stream",
     "text": [
      "{'task_name': 'BBBP', 'fp_type': 'MACCSFP', 'split-time': 2, 'test_roc_auc': 0.6450525098757105}\n",
      "BBBP PharmacoErGFP\n",
      "loading dataset: BBBP number of split times: 3\n"
     ]
    },
    {
     "name": "stderr",
     "output_type": "stream",
     "text": [
      "100%|##########| 14/14 [00:06<00:00,  2.20it/s]\n",
      "  0%|          | 0/14 [00:00<?, ?it/s]"
     ]
    },
    {
     "name": "stdout",
     "output_type": "stream",
     "text": [
      "{'task_name': 'BBBP', 'fp_type': 'PharmacoErGFP', 'split-time': 0, 'test_roc_auc': 0.6619134791405723}\n"
     ]
    },
    {
     "name": "stderr",
     "output_type": "stream",
     "text": [
      "100%|##########| 14/14 [00:06<00:00,  2.23it/s]\n",
      "  0%|          | 0/14 [00:00<?, ?it/s]"
     ]
    },
    {
     "name": "stdout",
     "output_type": "stream",
     "text": [
      "{'task_name': 'BBBP', 'fp_type': 'PharmacoErGFP', 'split-time': 1, 'test_roc_auc': 0.6619134791405723}\n"
     ]
    },
    {
     "name": "stderr",
     "output_type": "stream",
     "text": [
      "100%|##########| 14/14 [00:06<00:00,  2.18it/s]\n",
      "  0%|          | 0/14 [00:00<?, ?it/s]"
     ]
    },
    {
     "name": "stdout",
     "output_type": "stream",
     "text": [
      "{'task_name': 'BBBP', 'fp_type': 'PharmacoErGFP', 'split-time': 2, 'test_roc_auc': 0.6619134791405723}\n",
      "BBBP PharmacoPFP\n",
      "loading dataset: BBBP number of split times: 3\n"
     ]
    },
    {
     "name": "stderr",
     "output_type": "stream",
     "text": [
      "100%|##########| 14/14 [00:03<00:00,  3.46it/s]\n",
      "  0%|          | 0/14 [00:00<?, ?it/s]"
     ]
    },
    {
     "name": "stdout",
     "output_type": "stream",
     "text": [
      "{'task_name': 'BBBP', 'fp_type': 'PharmacoPFP', 'split-time': 0, 'test_roc_auc': 0.6334425281819057}\n"
     ]
    },
    {
     "name": "stderr",
     "output_type": "stream",
     "text": [
      "100%|##########| 14/14 [00:03<00:00,  3.48it/s]\n",
      "  0%|          | 0/14 [00:00<?, ?it/s]"
     ]
    },
    {
     "name": "stdout",
     "output_type": "stream",
     "text": [
      "{'task_name': 'BBBP', 'fp_type': 'PharmacoPFP', 'split-time': 1, 'test_roc_auc': 0.6334425281819057}\n"
     ]
    },
    {
     "name": "stderr",
     "output_type": "stream",
     "text": [
      "100%|##########| 14/14 [00:03<00:00,  3.75it/s]\n",
      "  0%|          | 0/14 [00:00<?, ?it/s]"
     ]
    },
    {
     "name": "stdout",
     "output_type": "stream",
     "text": [
      "{'task_name': 'BBBP', 'fp_type': 'PharmacoPFP', 'split-time': 2, 'test_roc_auc': 0.6334425281819057}\n",
      "BBBP PubChemFP\n",
      "loading dataset: BBBP number of split times: 3\n"
     ]
    },
    {
     "name": "stderr",
     "output_type": "stream",
     "text": [
      "100%|##########| 14/14 [00:10<00:00,  1.32it/s]\n",
      "  0%|          | 0/14 [00:00<?, ?it/s]"
     ]
    },
    {
     "name": "stdout",
     "output_type": "stream",
     "text": [
      "{'task_name': 'BBBP', 'fp_type': 'PubChemFP', 'split-time': 0, 'test_roc_auc': 0.6654301955872435}\n"
     ]
    },
    {
     "name": "stderr",
     "output_type": "stream",
     "text": [
      "100%|##########| 14/14 [00:10<00:00,  1.33it/s]\n",
      "  0%|          | 0/14 [00:00<?, ?it/s]"
     ]
    },
    {
     "name": "stdout",
     "output_type": "stream",
     "text": [
      "{'task_name': 'BBBP', 'fp_type': 'PubChemFP', 'split-time': 1, 'test_roc_auc': 0.6654301955872435}\n"
     ]
    },
    {
     "name": "stderr",
     "output_type": "stream",
     "text": [
      "100%|##########| 14/14 [00:10<00:00,  1.29it/s]\n",
      "  0%|          | 0/14 [00:00<?, ?it/s]"
     ]
    },
    {
     "name": "stdout",
     "output_type": "stream",
     "text": [
      "{'task_name': 'BBBP', 'fp_type': 'PubChemFP', 'split-time': 2, 'test_roc_auc': 0.6654301955872435}\n",
      "BBBP MHFP6\n",
      "loading dataset: BBBP number of split times: 3\n"
     ]
    },
    {
     "name": "stderr",
     "output_type": "stream",
     "text": [
      "100%|##########| 14/14 [00:29<00:00,  2.14s/it]\n",
      "  0%|          | 0/14 [00:00<?, ?it/s]"
     ]
    },
    {
     "name": "stdout",
     "output_type": "stream",
     "text": [
      "{'task_name': 'BBBP', 'fp_type': 'MHFP6', 'split-time': 0, 'test_roc_auc': 0.6324790442239137}\n"
     ]
    },
    {
     "name": "stderr",
     "output_type": "stream",
     "text": [
      "100%|##########| 14/14 [00:29<00:00,  2.05s/it]\n",
      "  0%|          | 0/14 [00:00<?, ?it/s]"
     ]
    },
    {
     "name": "stdout",
     "output_type": "stream",
     "text": [
      "{'task_name': 'BBBP', 'fp_type': 'MHFP6', 'split-time': 1, 'test_roc_auc': 0.6324790442239137}\n"
     ]
    },
    {
     "name": "stderr",
     "output_type": "stream",
     "text": [
      "100%|##########| 14/14 [00:28<00:00,  2.08s/it]\n",
      "  0%|          | 0/14 [00:00<?, ?it/s]"
     ]
    },
    {
     "name": "stdout",
     "output_type": "stream",
     "text": [
      "{'task_name': 'BBBP', 'fp_type': 'MHFP6', 'split-time': 2, 'test_roc_auc': 0.6324790442239137}\n",
      "BBBP MAP4\n",
      "loading dataset: BBBP number of split times: 3\n"
     ]
    },
    {
     "name": "stderr",
     "output_type": "stream",
     "text": [
      "100%|##########| 14/14 [00:28<00:00,  2.04s/it]\n",
      "  0%|          | 0/14 [00:00<?, ?it/s]"
     ]
    },
    {
     "name": "stdout",
     "output_type": "stream",
     "text": [
      "{'task_name': 'BBBP', 'fp_type': 'MAP4', 'split-time': 0, 'test_roc_auc': 0.6182676558435303}\n"
     ]
    },
    {
     "name": "stderr",
     "output_type": "stream",
     "text": [
      "100%|##########| 14/14 [00:28<00:00,  2.01s/it]\n",
      "  0%|          | 0/14 [00:00<?, ?it/s]"
     ]
    },
    {
     "name": "stdout",
     "output_type": "stream",
     "text": [
      "{'task_name': 'BBBP', 'fp_type': 'MAP4', 'split-time': 1, 'test_roc_auc': 0.6182676558435303}\n"
     ]
    },
    {
     "name": "stderr",
     "output_type": "stream",
     "text": [
      "100%|##########| 14/14 [00:27<00:00,  1.95s/it]\n"
     ]
    },
    {
     "name": "stdout",
     "output_type": "stream",
     "text": [
      "{'task_name': 'BBBP', 'fp_type': 'MAP4', 'split-time': 2, 'test_roc_auc': 0.6182676558435303}\n",
      "HIV MorganFP\n",
      "loading dataset: HIV number of split times: 3\n"
     ]
    },
    {
     "name": "stderr",
     "output_type": "stream",
     "text": [
      "100%|##########| 5/5 [1:18:24<00:00, 901.67s/it]\n"
     ]
    },
    {
     "name": "stdout",
     "output_type": "stream",
     "text": [
      "{'task_name': 'HIV', 'fp_type': 'MorganFP', 'split-time': 0, 'test_roc_auc': 0.7051845342706502}\n",
      "HIV RDkitFP\n",
      "loading dataset: HIV number of split times: 3\n"
     ]
    },
    {
     "name": "stderr",
     "output_type": "stream",
     "text": [
      "100%|##########| 5/5 [1:13:00<00:00, 875.97s/it]\n"
     ]
    },
    {
     "name": "stdout",
     "output_type": "stream",
     "text": [
      "{'task_name': 'HIV', 'fp_type': 'RDkitFP', 'split-time': 0, 'test_roc_auc': 0.74650340871782}\n",
      "HIV AtomPairFP\n",
      "loading dataset: HIV number of split times: 3\n"
     ]
    },
    {
     "name": "stderr",
     "output_type": "stream",
     "text": [
      "100%|##########| 5/5 [1:11:53<00:00, 863.00s/it]\n"
     ]
    },
    {
     "name": "stdout",
     "output_type": "stream",
     "text": [
      "{'task_name': 'HIV', 'fp_type': 'AtomPairFP', 'split-time': 0, 'test_roc_auc': 0.6956671623631202}\n",
      "HIV TorsionFP\n",
      "loading dataset: HIV number of split times: 3\n"
     ]
    },
    {
     "name": "stderr",
     "output_type": "stream",
     "text": [
      "100%|##########| 5/5 [1:04:46<00:00, 782.51s/it]\n"
     ]
    },
    {
     "name": "stdout",
     "output_type": "stream",
     "text": [
      "{'task_name': 'HIV', 'fp_type': 'TorsionFP', 'split-time': 0, 'test_roc_auc': 0.7046679155642249}\n",
      "HIV AvalonFP\n",
      "loading dataset: HIV number of split times: 3\n"
     ]
    },
    {
     "name": "stderr",
     "output_type": "stream",
     "text": [
      "100%|##########| 5/5 [1:11:15<00:00, 854.90s/it]\n",
      "  0%|          | 0/5 [00:00<?, ?it/s]"
     ]
    },
    {
     "name": "stdout",
     "output_type": "stream",
     "text": [
      "{'task_name': 'HIV', 'fp_type': 'AvalonFP', 'split-time': 0, 'test_roc_auc': 0.6986413410842234}\n",
      "HIV EstateFP\n",
      "loading dataset: HIV number of split times: 3\n"
     ]
    },
    {
     "name": "stderr",
     "output_type": "stream",
     "text": [
      "100%|##########| 5/5 [01:39<00:00, 19.91s/it]\n",
      "  0%|          | 0/5 [00:00<?, ?it/s]"
     ]
    },
    {
     "name": "stdout",
     "output_type": "stream",
     "text": [
      "{'task_name': 'HIV', 'fp_type': 'EstateFP', 'split-time': 0, 'test_roc_auc': 0.6875943915486973}\n",
      "HIV MACCSFP\n",
      "loading dataset: HIV number of split times: 3\n"
     ]
    },
    {
     "name": "stderr",
     "output_type": "stream",
     "text": [
      "100%|##########| 5/5 [05:40<00:00, 67.97s/it]\n"
     ]
    },
    {
     "name": "stdout",
     "output_type": "stream",
     "text": [
      "{'task_name': 'HIV', 'fp_type': 'MACCSFP', 'split-time': 0, 'test_roc_auc': 0.6807808184785338}\n",
      "HIV PharmacoErGFP\n",
      "loading dataset: HIV number of split times: 3\n"
     ]
    },
    {
     "name": "stderr",
     "output_type": "stream",
     "text": [
      "100%|##########| 5/5 [14:26<00:00, 173.48s/it]\n",
      "  0%|          | 0/5 [00:00<?, ?it/s]"
     ]
    },
    {
     "name": "stdout",
     "output_type": "stream",
     "text": [
      "{'task_name': 'HIV', 'fp_type': 'PharmacoErGFP', 'split-time': 0, 'test_roc_auc': 0.7561144479422159}\n",
      "HIV PharmacoPFP\n",
      "loading dataset: HIV number of split times: 3\n"
     ]
    },
    {
     "name": "stderr",
     "output_type": "stream",
     "text": [
      "100%|##########| 5/5 [06:13<00:00, 75.15s/it]\n"
     ]
    },
    {
     "name": "stdout",
     "output_type": "stream",
     "text": [
      "{'task_name': 'HIV', 'fp_type': 'PharmacoPFP', 'split-time': 0, 'test_roc_auc': 0.7076401630004443}\n",
      "HIV PubChemFP\n",
      "loading dataset: HIV number of split times: 3\n"
     ]
    },
    {
     "name": "stderr",
     "output_type": "stream",
     "text": [
      "100%|##########| 5/5 [25:22<00:00, 304.17s/it]\n"
     ]
    },
    {
     "name": "stdout",
     "output_type": "stream",
     "text": [
      "{'task_name': 'HIV', 'fp_type': 'PubChemFP', 'split-time': 0, 'test_roc_auc': 0.7147105969601577}\n",
      "HIV MHFP6\n",
      "loading dataset: HIV number of split times: 3\n"
     ]
    },
    {
     "name": "stderr",
     "output_type": "stream",
     "text": [
      "100%|##########| 5/5 [1:12:53<00:00, 874.68s/it]\n"
     ]
    },
    {
     "name": "stdout",
     "output_type": "stream",
     "text": [
      "{'task_name': 'HIV', 'fp_type': 'MHFP6', 'split-time': 0, 'test_roc_auc': 0.7592218853203035}\n",
      "HIV MAP4\n",
      "loading dataset: HIV number of split times: 3\n"
     ]
    },
    {
     "name": "stderr",
     "output_type": "stream",
     "text": [
      "100%|##########| 5/5 [1:13:03<00:00, 876.44s/it]\n"
     ]
    },
    {
     "name": "stdout",
     "output_type": "stream",
     "text": [
      "{'task_name': 'HIV', 'fp_type': 'MAP4', 'split-time': 0, 'test_roc_auc': 0.6985148419243322}\n"
     ]
    }
   ],
   "source": [
    "performance = []\n",
    "\n",
    "for data in datasets:\n",
    "    for fp_type in fp_types:\n",
    "        task_name = data.task_name\n",
    "        print(task_name, fp_type)\n",
    "        df, induces = load_data(task_name)\n",
    "        X2 = load('/raid/shenwanxiang/10_FP_effect/tempignore/X2_%s_%s.data' % (task_name, fp_type) )\n",
    "        n, w, c = X2.sum(axis=-1).shape\n",
    "        X2 = X2.reshape(n, w*c)\n",
    "        Y = data.y\n",
    "        if task_name == 'HIV':\n",
    "            induces = induces[:1]\n",
    "        \n",
    "        for sid, idx in enumerate(induces):\n",
    "            train_idx, valid_idx, test_idx = idx\n",
    "\n",
    "            X = X2[train_idx]\n",
    "            y = Y[train_idx]\n",
    "\n",
    "            X_valid = X2[valid_idx]\n",
    "            y_valid = Y[valid_idx]\n",
    "\n",
    "            X_test = X2[test_idx]\n",
    "            y_test = Y[test_idx] \n",
    "\n",
    "            # Set up possible values of parameters to optimize over\n",
    "            n_neighbors_list = np.arange(1,15,2)\n",
    "            if task_name == 'HIV':\n",
    "                n_neighbors_list = np.arange(1, 11, 2)\n",
    "                \n",
    "            weights_list =  ['uniform', 'distance']\n",
    "            res = []\n",
    "            for n_neighbors in tqdm(n_neighbors_list, ascii=True):\n",
    "                for weights in weights_list:                \n",
    "                    clf = KNeighborsClassifier(n_neighbors=n_neighbors, weights = weights)\n",
    "                    clf.fit(X, y)\n",
    "                    score = clf.score(X_valid, y_valid)\n",
    "                    res.append([n_neighbors, weights, score])\n",
    "\n",
    "            dfr = pd.DataFrame(res, columns = ['n_neighbors', 'weights', 'score'])\n",
    "            gidx = dfr['score'].idxmax()\n",
    "            best_params = dfr.iloc[gidx].to_dict()\n",
    "            best_params.pop('score')\n",
    "            best_params\n",
    "\n",
    "            clf = KNeighborsClassifier(**best_params)\n",
    "            clf.fit(X, y, )\n",
    "            \n",
    "            if Y.shape[1] >= 2:\n",
    "                probs =  clf.predict_proba(X_test)\n",
    "                test_roc_aucs = []\n",
    "                for i, y_probs in enumerate(probs):\n",
    "                    test_roc_auc = ROC_AUC(y_test[:, i],y_probs[:, 1])\n",
    "                    test_roc_aucs.append(test_roc_auc)\n",
    "                test_roc_auc = np.nanmean(test_roc_aucs)\n",
    "                print(test_roc_aucs)\n",
    "            else:\n",
    "                test_roc_auc = ROC_AUC(y_test,clf.predict_proba(X_test)[:, 1])\n",
    "                \n",
    "            results = {\"task_name\":task_name, 'fp_type':fp_type,\"split-time\":sid, \"test_roc_auc\":test_roc_auc}\n",
    "            \n",
    "            print(results)\n",
    "            performance.append(results)"
   ]
  },
  {
   "cell_type": "code",
   "execution_count": null,
   "metadata": {},
   "outputs": [],
   "source": []
  },
  {
   "cell_type": "code",
   "execution_count": 7,
   "metadata": {},
   "outputs": [],
   "source": [
    "pd.DataFrame(performance).to_csv('./knn_classification.csv')"
   ]
  },
  {
   "cell_type": "code",
   "execution_count": null,
   "metadata": {},
   "outputs": [],
   "source": []
  },
  {
   "cell_type": "code",
   "execution_count": 8,
   "metadata": {},
   "outputs": [
    {
     "data": {
      "text/html": [
       "<div>\n",
       "<style scoped>\n",
       "    .dataframe tbody tr th:only-of-type {\n",
       "        vertical-align: middle;\n",
       "    }\n",
       "\n",
       "    .dataframe tbody tr th {\n",
       "        vertical-align: top;\n",
       "    }\n",
       "\n",
       "    .dataframe thead th {\n",
       "        text-align: right;\n",
       "    }\n",
       "</style>\n",
       "<table border=\"1\" class=\"dataframe\">\n",
       "  <thead>\n",
       "    <tr style=\"text-align: right;\">\n",
       "      <th></th>\n",
       "      <th></th>\n",
       "      <th>test_roc_auc</th>\n",
       "    </tr>\n",
       "    <tr>\n",
       "      <th>task_name</th>\n",
       "      <th>fp_type</th>\n",
       "      <th></th>\n",
       "    </tr>\n",
       "  </thead>\n",
       "  <tbody>\n",
       "    <tr>\n",
       "      <th rowspan=\"12\" valign=\"top\">BACE</th>\n",
       "      <th>AtomPairFP</th>\n",
       "      <td>0.833243</td>\n",
       "    </tr>\n",
       "    <tr>\n",
       "      <th>AvalonFP</th>\n",
       "      <td>0.849457</td>\n",
       "    </tr>\n",
       "    <tr>\n",
       "      <th>EstateFP</th>\n",
       "      <td>0.796649</td>\n",
       "    </tr>\n",
       "    <tr>\n",
       "      <th>MACCSFP</th>\n",
       "      <td>0.846196</td>\n",
       "    </tr>\n",
       "    <tr>\n",
       "      <th>MAP4</th>\n",
       "      <td>0.730797</td>\n",
       "    </tr>\n",
       "    <tr>\n",
       "      <th>MHFP6</th>\n",
       "      <td>0.824819</td>\n",
       "    </tr>\n",
       "    <tr>\n",
       "      <th>MorganFP</th>\n",
       "      <td>0.841938</td>\n",
       "    </tr>\n",
       "    <tr>\n",
       "      <th>PharmacoErGFP</th>\n",
       "      <td>0.766033</td>\n",
       "    </tr>\n",
       "    <tr>\n",
       "      <th>PharmacoPFP</th>\n",
       "      <td>0.763859</td>\n",
       "    </tr>\n",
       "    <tr>\n",
       "      <th>PubChemFP</th>\n",
       "      <td>0.812953</td>\n",
       "    </tr>\n",
       "    <tr>\n",
       "      <th>RDkitFP</th>\n",
       "      <td>0.754710</td>\n",
       "    </tr>\n",
       "    <tr>\n",
       "      <th>TorsionFP</th>\n",
       "      <td>0.850362</td>\n",
       "    </tr>\n",
       "    <tr>\n",
       "      <th rowspan=\"12\" valign=\"top\">BBBP</th>\n",
       "      <th>AtomPairFP</th>\n",
       "      <td>0.657722</td>\n",
       "    </tr>\n",
       "    <tr>\n",
       "      <th>AvalonFP</th>\n",
       "      <td>0.614173</td>\n",
       "    </tr>\n",
       "    <tr>\n",
       "      <th>EstateFP</th>\n",
       "      <td>0.672030</td>\n",
       "    </tr>\n",
       "    <tr>\n",
       "      <th>MACCSFP</th>\n",
       "      <td>0.645053</td>\n",
       "    </tr>\n",
       "    <tr>\n",
       "      <th>MAP4</th>\n",
       "      <td>0.618268</td>\n",
       "    </tr>\n",
       "    <tr>\n",
       "      <th>MHFP6</th>\n",
       "      <td>0.632479</td>\n",
       "    </tr>\n",
       "    <tr>\n",
       "      <th>MorganFP</th>\n",
       "      <td>0.622652</td>\n",
       "    </tr>\n",
       "    <tr>\n",
       "      <th>PharmacoErGFP</th>\n",
       "      <td>0.661913</td>\n",
       "    </tr>\n",
       "    <tr>\n",
       "      <th>PharmacoPFP</th>\n",
       "      <td>0.633443</td>\n",
       "    </tr>\n",
       "    <tr>\n",
       "      <th>PubChemFP</th>\n",
       "      <td>0.665430</td>\n",
       "    </tr>\n",
       "    <tr>\n",
       "      <th>RDkitFP</th>\n",
       "      <td>0.654350</td>\n",
       "    </tr>\n",
       "    <tr>\n",
       "      <th>TorsionFP</th>\n",
       "      <td>0.630937</td>\n",
       "    </tr>\n",
       "    <tr>\n",
       "      <th rowspan=\"12\" valign=\"top\">ClinTox</th>\n",
       "      <th>AtomPairFP</th>\n",
       "      <td>0.740678</td>\n",
       "    </tr>\n",
       "    <tr>\n",
       "      <th>AvalonFP</th>\n",
       "      <td>0.664326</td>\n",
       "    </tr>\n",
       "    <tr>\n",
       "      <th>EstateFP</th>\n",
       "      <td>0.745102</td>\n",
       "    </tr>\n",
       "    <tr>\n",
       "      <th>MACCSFP</th>\n",
       "      <td>0.732980</td>\n",
       "    </tr>\n",
       "    <tr>\n",
       "      <th>MAP4</th>\n",
       "      <td>0.607512</td>\n",
       "    </tr>\n",
       "    <tr>\n",
       "      <th>MHFP6</th>\n",
       "      <td>0.713858</td>\n",
       "    </tr>\n",
       "    <tr>\n",
       "      <th>MorganFP</th>\n",
       "      <td>0.652936</td>\n",
       "    </tr>\n",
       "    <tr>\n",
       "      <th>PharmacoErGFP</th>\n",
       "      <td>0.774105</td>\n",
       "    </tr>\n",
       "    <tr>\n",
       "      <th>PharmacoPFP</th>\n",
       "      <td>0.783614</td>\n",
       "    </tr>\n",
       "    <tr>\n",
       "      <th>PubChemFP</th>\n",
       "      <td>0.703787</td>\n",
       "    </tr>\n",
       "    <tr>\n",
       "      <th>RDkitFP</th>\n",
       "      <td>0.681279</td>\n",
       "    </tr>\n",
       "    <tr>\n",
       "      <th>TorsionFP</th>\n",
       "      <td>0.639916</td>\n",
       "    </tr>\n",
       "    <tr>\n",
       "      <th rowspan=\"12\" valign=\"top\">HIV</th>\n",
       "      <th>AtomPairFP</th>\n",
       "      <td>0.695667</td>\n",
       "    </tr>\n",
       "    <tr>\n",
       "      <th>AvalonFP</th>\n",
       "      <td>0.698641</td>\n",
       "    </tr>\n",
       "    <tr>\n",
       "      <th>EstateFP</th>\n",
       "      <td>0.687594</td>\n",
       "    </tr>\n",
       "    <tr>\n",
       "      <th>MACCSFP</th>\n",
       "      <td>0.680781</td>\n",
       "    </tr>\n",
       "    <tr>\n",
       "      <th>MAP4</th>\n",
       "      <td>0.698515</td>\n",
       "    </tr>\n",
       "    <tr>\n",
       "      <th>MHFP6</th>\n",
       "      <td>0.759222</td>\n",
       "    </tr>\n",
       "    <tr>\n",
       "      <th>MorganFP</th>\n",
       "      <td>0.705185</td>\n",
       "    </tr>\n",
       "    <tr>\n",
       "      <th>PharmacoErGFP</th>\n",
       "      <td>0.756114</td>\n",
       "    </tr>\n",
       "    <tr>\n",
       "      <th>PharmacoPFP</th>\n",
       "      <td>0.707640</td>\n",
       "    </tr>\n",
       "    <tr>\n",
       "      <th>PubChemFP</th>\n",
       "      <td>0.714711</td>\n",
       "    </tr>\n",
       "    <tr>\n",
       "      <th>RDkitFP</th>\n",
       "      <td>0.746503</td>\n",
       "    </tr>\n",
       "    <tr>\n",
       "      <th>TorsionFP</th>\n",
       "      <td>0.704668</td>\n",
       "    </tr>\n",
       "    <tr>\n",
       "      <th rowspan=\"12\" valign=\"top\">SIDER</th>\n",
       "      <th>AtomPairFP</th>\n",
       "      <td>0.624285</td>\n",
       "    </tr>\n",
       "    <tr>\n",
       "      <th>AvalonFP</th>\n",
       "      <td>0.624734</td>\n",
       "    </tr>\n",
       "    <tr>\n",
       "      <th>EstateFP</th>\n",
       "      <td>0.612964</td>\n",
       "    </tr>\n",
       "    <tr>\n",
       "      <th>MACCSFP</th>\n",
       "      <td>0.603737</td>\n",
       "    </tr>\n",
       "    <tr>\n",
       "      <th>MAP4</th>\n",
       "      <td>0.586263</td>\n",
       "    </tr>\n",
       "    <tr>\n",
       "      <th>MHFP6</th>\n",
       "      <td>0.626298</td>\n",
       "    </tr>\n",
       "    <tr>\n",
       "      <th>MorganFP</th>\n",
       "      <td>0.621006</td>\n",
       "    </tr>\n",
       "    <tr>\n",
       "      <th>PharmacoErGFP</th>\n",
       "      <td>0.594410</td>\n",
       "    </tr>\n",
       "    <tr>\n",
       "      <th>PharmacoPFP</th>\n",
       "      <td>0.628017</td>\n",
       "    </tr>\n",
       "    <tr>\n",
       "      <th>PubChemFP</th>\n",
       "      <td>0.617368</td>\n",
       "    </tr>\n",
       "    <tr>\n",
       "      <th>RDkitFP</th>\n",
       "      <td>0.624938</td>\n",
       "    </tr>\n",
       "    <tr>\n",
       "      <th>TorsionFP</th>\n",
       "      <td>0.629307</td>\n",
       "    </tr>\n",
       "  </tbody>\n",
       "</table>\n",
       "</div>"
      ],
      "text/plain": [
       "                         test_roc_auc\n",
       "task_name fp_type                    \n",
       "BACE      AtomPairFP         0.833243\n",
       "          AvalonFP           0.849457\n",
       "          EstateFP           0.796649\n",
       "          MACCSFP            0.846196\n",
       "          MAP4               0.730797\n",
       "          MHFP6              0.824819\n",
       "          MorganFP           0.841938\n",
       "          PharmacoErGFP      0.766033\n",
       "          PharmacoPFP        0.763859\n",
       "          PubChemFP          0.812953\n",
       "          RDkitFP            0.754710\n",
       "          TorsionFP          0.850362\n",
       "BBBP      AtomPairFP         0.657722\n",
       "          AvalonFP           0.614173\n",
       "          EstateFP           0.672030\n",
       "          MACCSFP            0.645053\n",
       "          MAP4               0.618268\n",
       "          MHFP6              0.632479\n",
       "          MorganFP           0.622652\n",
       "          PharmacoErGFP      0.661913\n",
       "          PharmacoPFP        0.633443\n",
       "          PubChemFP          0.665430\n",
       "          RDkitFP            0.654350\n",
       "          TorsionFP          0.630937\n",
       "ClinTox   AtomPairFP         0.740678\n",
       "          AvalonFP           0.664326\n",
       "          EstateFP           0.745102\n",
       "          MACCSFP            0.732980\n",
       "          MAP4               0.607512\n",
       "          MHFP6              0.713858\n",
       "          MorganFP           0.652936\n",
       "          PharmacoErGFP      0.774105\n",
       "          PharmacoPFP        0.783614\n",
       "          PubChemFP          0.703787\n",
       "          RDkitFP            0.681279\n",
       "          TorsionFP          0.639916\n",
       "HIV       AtomPairFP         0.695667\n",
       "          AvalonFP           0.698641\n",
       "          EstateFP           0.687594\n",
       "          MACCSFP            0.680781\n",
       "          MAP4               0.698515\n",
       "          MHFP6              0.759222\n",
       "          MorganFP           0.705185\n",
       "          PharmacoErGFP      0.756114\n",
       "          PharmacoPFP        0.707640\n",
       "          PubChemFP          0.714711\n",
       "          RDkitFP            0.746503\n",
       "          TorsionFP          0.704668\n",
       "SIDER     AtomPairFP         0.624285\n",
       "          AvalonFP           0.624734\n",
       "          EstateFP           0.612964\n",
       "          MACCSFP            0.603737\n",
       "          MAP4               0.586263\n",
       "          MHFP6              0.626298\n",
       "          MorganFP           0.621006\n",
       "          PharmacoErGFP      0.594410\n",
       "          PharmacoPFP        0.628017\n",
       "          PubChemFP          0.617368\n",
       "          RDkitFP            0.624938\n",
       "          TorsionFP          0.629307"
      ]
     },
     "execution_count": 8,
     "metadata": {},
     "output_type": "execute_result"
    }
   ],
   "source": [
    "pd.DataFrame(performance).groupby(['task_name', 'fp_type'])[['test_roc_auc']].apply(np.mean)"
   ]
  },
  {
   "cell_type": "code",
   "execution_count": null,
   "metadata": {},
   "outputs": [],
   "source": []
  },
  {
   "cell_type": "code",
   "execution_count": null,
   "metadata": {},
   "outputs": [],
   "source": []
  },
  {
   "cell_type": "code",
   "execution_count": null,
   "metadata": {},
   "outputs": [],
   "source": []
  }
 ],
 "metadata": {
  "kernelspec": {
   "display_name": "Python 3",
   "language": "python",
   "name": "python3"
  },
  "language_info": {
   "codemirror_mode": {
    "name": "ipython",
    "version": 3
   },
   "file_extension": ".py",
   "mimetype": "text/x-python",
   "name": "python",
   "nbconvert_exporter": "python",
   "pygments_lexer": "ipython3",
   "version": "3.6.9"
  }
 },
 "nbformat": 4,
 "nbformat_minor": 4
}
