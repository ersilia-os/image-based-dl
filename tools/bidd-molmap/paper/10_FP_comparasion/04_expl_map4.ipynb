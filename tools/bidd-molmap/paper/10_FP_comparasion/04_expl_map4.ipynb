{
 "cells": [
  {
   "cell_type": "code",
   "execution_count": 63,
   "metadata": {},
   "outputs": [],
   "source": [
    "import molmap\n",
    "import os\n",
    "import pandas as pd\n",
    "\n",
    "import matplotlib.pyplot as plt\n",
    "import seaborn as sns\n",
    "from molmap import feature, dataset"
   ]
  },
  {
   "cell_type": "code",
   "execution_count": 60,
   "metadata": {},
   "outputs": [
    {
     "name": "stdout",
     "output_type": "stream",
     "text": [
      "total samples: 41127\n"
     ]
    }
   ],
   "source": [
    "data = dataset.load_HIV()"
   ]
  },
  {
   "cell_type": "code",
   "execution_count": 38,
   "metadata": {},
   "outputs": [],
   "source": [
    "aspirin = 'CC(=O)OC1=CC=CC=C1C(O)=O' #aspirin\n",
    "NAC = 'CC(=O)NC1=CC=CC=C1C(O)=O' #N_acetylanthranilic_acid\n",
    "smiles_list = [aspirin, NAC]"
   ]
  },
  {
   "cell_type": "code",
   "execution_count": 54,
   "metadata": {},
   "outputs": [],
   "source": [
    "E = feature.fingerprint.Extraction({'MAP4':{'nBits':64, 'fold_dimensions': 400}})"
   ]
  },
  {
   "cell_type": "code",
   "execution_count": 61,
   "metadata": {},
   "outputs": [
    {
     "name": "stderr",
     "output_type": "stream",
     "text": [
      "100%|##########| 41127/41127 [01:17<00:00, 527.65it/s]\n"
     ]
    }
   ],
   "source": [
    "X = E.batch_transform(data.x)"
   ]
  },
  {
   "cell_type": "code",
   "execution_count": 64,
   "metadata": {},
   "outputs": [],
   "source": [
    "dfx = pd.DataFrame(X*1)"
   ]
  },
  {
   "cell_type": "code",
   "execution_count": 69,
   "metadata": {},
   "outputs": [
    {
     "name": "stdout",
     "output_type": "stream",
     "text": [
      "2020-09-06 12:44:56,538 - \u001b[32mINFO\u001b[0m - [bidd-molmap]\u001b[0m - Calculating distance ...\u001b[0m\n",
      "2020-09-06 12:44:56,551 - \u001b[32mINFO\u001b[0m - [bidd-molmap]\u001b[0m - the number of process is 16\u001b[0m\n"
     ]
    },
    {
     "name": "stderr",
     "output_type": "stream",
     "text": [
      "100%|##########| 79800/79800 [00:11<00:00, 6997.32it/s]\n",
      "100%|##########| 79800/79800 [00:00<00:00, 1803515.69it/s]\n",
      "100%|##########| 400/400 [00:00<00:00, 407.47it/s]\n"
     ]
    }
   ],
   "source": [
    "mp = molmap.AggMap(dfx)"
   ]
  },
  {
   "cell_type": "code",
   "execution_count": 70,
   "metadata": {},
   "outputs": [
    {
     "name": "stdout",
     "output_type": "stream",
     "text": [
      "2020-09-06 12:45:22,546 - \u001b[32mINFO\u001b[0m - [bidd-molmap]\u001b[0m - applying hierarchical clustering to obtain group information ...\u001b[0m\n",
      "UMAP(metric='precomputed', random_state=32, verbose=2)\n",
      "Construct fuzzy simplicial set\n",
      "Sun Sep  6 12:45:22 2020 Finding Nearest Neighbors\n",
      "Sun Sep  6 12:45:22 2020 Finished Nearest Neighbor Search\n",
      "Sun Sep  6 12:45:24 2020 Construct embedding\n",
      "\tcompleted  0  /  500 epochs\n",
      "\tcompleted  50  /  500 epochs\n",
      "\tcompleted  100  /  500 epochs\n",
      "\tcompleted  150  /  500 epochs\n",
      "\tcompleted  200  /  500 epochs\n",
      "\tcompleted  250  /  500 epochs\n",
      "\tcompleted  300  /  500 epochs\n",
      "\tcompleted  350  /  500 epochs\n",
      "\tcompleted  400  /  500 epochs\n",
      "\tcompleted  450  /  500 epochs\n",
      "Sun Sep  6 12:45:26 2020 Finished embedding\n",
      "2020-09-06 12:45:26,500 - \u001b[32mINFO\u001b[0m - [bidd-molmap]\u001b[0m - Applying grid feature map(assignment), this may take several minutes(1~30 min)\u001b[0m\n",
      "2020-09-06 12:45:26,646 - \u001b[32mINFO\u001b[0m - [bidd-molmap]\u001b[0m - Finished\u001b[0m\n"
     ]
    }
   ],
   "source": [
    "mp = mp.fit(cluster_channels=1)"
   ]
  },
  {
   "cell_type": "code",
   "execution_count": 71,
   "metadata": {},
   "outputs": [
    {
     "name": "stdout",
     "output_type": "stream",
     "text": [
      "2020-09-06 12:45:40,572 - \u001b[32mINFO\u001b[0m - [bidd-molmap]\u001b[0m - generate file: ./feature points_400_correlation_umap_scatter\u001b[0m\n",
      "2020-09-06 12:45:40,591 - \u001b[32mINFO\u001b[0m - [bidd-molmap]\u001b[0m - save html file to ./feature points_400_correlation_umap_scatter\u001b[0m\n"
     ]
    },
    {
     "data": {
      "text/plain": [
       "<highcharts.highcharts.highcharts.Highchart at 0x7fdc37c51a20>"
      ]
     },
     "execution_count": 71,
     "metadata": {},
     "output_type": "execute_result"
    }
   ],
   "source": [
    "mp.plot_scatter()"
   ]
  },
  {
   "cell_type": "code",
   "execution_count": 73,
   "metadata": {},
   "outputs": [
    {
     "data": {
      "text/plain": [
       "(41127, 400)"
      ]
     },
     "execution_count": 73,
     "metadata": {},
     "output_type": "execute_result"
    }
   ],
   "source": [
    "X.shape"
   ]
  },
  {
   "cell_type": "code",
   "execution_count": 74,
   "metadata": {},
   "outputs": [
    {
     "name": "stderr",
     "output_type": "stream",
     "text": [
      "100%|##########| 41127/41127 [00:46<00:00, 883.89it/s]\n"
     ]
    }
   ],
   "source": [
    "X_ = mp.batch_transform(X)"
   ]
  },
  {
   "cell_type": "code",
   "execution_count": null,
   "metadata": {},
   "outputs": [],
   "source": []
  },
  {
   "cell_type": "code",
   "execution_count": null,
   "metadata": {},
   "outputs": [],
   "source": []
  },
  {
   "cell_type": "code",
   "execution_count": null,
   "metadata": {},
   "outputs": [],
   "source": []
  },
  {
   "cell_type": "code",
   "execution_count": null,
   "metadata": {},
   "outputs": [],
   "source": []
  },
  {
   "cell_type": "code",
   "execution_count": null,
   "metadata": {},
   "outputs": [],
   "source": []
  },
  {
   "cell_type": "code",
   "execution_count": null,
   "metadata": {},
   "outputs": [],
   "source": []
  },
  {
   "cell_type": "code",
   "execution_count": null,
   "metadata": {},
   "outputs": [],
   "source": []
  },
  {
   "cell_type": "code",
   "execution_count": null,
   "metadata": {},
   "outputs": [],
   "source": []
  },
  {
   "cell_type": "code",
   "execution_count": null,
   "metadata": {},
   "outputs": [],
   "source": []
  },
  {
   "cell_type": "code",
   "execution_count": null,
   "metadata": {},
   "outputs": [],
   "source": []
  },
  {
   "cell_type": "code",
   "execution_count": 55,
   "metadata": {},
   "outputs": [],
   "source": [
    "x = E.transform(aspirin)"
   ]
  },
  {
   "cell_type": "code",
   "execution_count": 56,
   "metadata": {},
   "outputs": [
    {
     "data": {
      "text/plain": [
       "(400,)"
      ]
     },
     "execution_count": 56,
     "metadata": {},
     "output_type": "execute_result"
    }
   ],
   "source": [
    "x.shape"
   ]
  },
  {
   "cell_type": "code",
   "execution_count": 57,
   "metadata": {},
   "outputs": [
    {
     "data": {
      "text/plain": [
       "<matplotlib.image.AxesImage at 0x7fdc29981c50>"
      ]
     },
     "execution_count": 57,
     "metadata": {},
     "output_type": "execute_result"
    },
    {
     "data": {
      "image/png": "[encoded data removed]",
      "text/plain": [
       "<Figure size 432x288 with 1 Axes>"
      ]
     },
     "metadata": {
      "needs_background": "light"
     },
     "output_type": "display_data"
    }
   ],
   "source": [
    "plt.imshow(x.reshape(20,20))"
   ]
  },
  {
   "cell_type": "code",
   "execution_count": 58,
   "metadata": {},
   "outputs": [
    {
     "data": {
      "text/plain": [
       "123"
      ]
     },
     "execution_count": 58,
     "metadata": {},
     "output_type": "execute_result"
    }
   ],
   "source": [
    "x.sum()"
   ]
  },
  {
   "cell_type": "code",
   "execution_count": null,
   "metadata": {},
   "outputs": [],
   "source": []
  },
  {
   "cell_type": "code",
   "execution_count": null,
   "metadata": {},
   "outputs": [],
   "source": []
  },
  {
   "cell_type": "code",
   "execution_count": null,
   "metadata": {},
   "outputs": [],
   "source": []
  },
  {
   "cell_type": "code",
   "execution_count": null,
   "metadata": {},
   "outputs": [],
   "source": []
  },
  {
   "cell_type": "code",
   "execution_count": null,
   "metadata": {},
   "outputs": [],
   "source": []
  },
  {
   "cell_type": "code",
   "execution_count": null,
   "metadata": {},
   "outputs": [],
   "source": []
  },
  {
   "cell_type": "code",
   "execution_count": null,
   "metadata": {},
   "outputs": [],
   "source": []
  },
  {
   "cell_type": "code",
   "execution_count": null,
   "metadata": {},
   "outputs": [],
   "source": []
  },
  {
   "cell_type": "code",
   "execution_count": null,
   "metadata": {},
   "outputs": [],
   "source": []
  },
  {
   "cell_type": "code",
   "execution_count": null,
   "metadata": {},
   "outputs": [],
   "source": []
  },
  {
   "cell_type": "code",
   "execution_count": 77,
   "metadata": {},
   "outputs": [
    {
     "data": {
      "text/plain": [
       "array(['MorganFP', 'RDkitFP', 'AtomPairFP', 'TorsionFP', 'AvalonFP',\n",
       "       'EstateFP', 'MACCSFP', 'PharmacoErGFP', 'PharmacoPFP', 'PubChemFP',\n",
       "       'MHFP6', 'MAP4'], dtype=object)"
      ]
     },
     "execution_count": 77,
     "metadata": {},
     "output_type": "execute_result"
    }
   ],
   "source": [
    "metric = 'cosine'\n",
    "method = 'tsne'\n",
    "n_neighbors = 30\n",
    "min_dist = 0.1\n",
    "bitsinfo = molmap.feature.fingerprint.Extraction().bitsinfo\n",
    "bitsinfo.Subtypes.unique()"
   ]
  },
  {
   "cell_type": "code",
   "execution_count": 78,
   "metadata": {},
   "outputs": [],
   "source": [
    "flist = bitsinfo[bitsinfo.Subtypes.isin([\"MAP4\"])].IDs.tolist()\n",
    "mp2 = molmap.MolMap(ftype = 'fingerprint', metric = metric, flist =flist,)\n",
    "flist = mp2.scale_info['var'].sort_values().index.tolist()"
   ]
  },
  {
   "cell_type": "code",
   "execution_count": 79,
   "metadata": {},
   "outputs": [
    {
     "name": "stdout",
     "output_type": "stream",
     "text": [
      "[t-SNE] Computing 91 nearest neighbors...\n",
      "[t-SNE] Indexed 2048 samples in 0.003s...\n",
      "[t-SNE] Computed neighbors for 2048 samples in 0.060s...\n",
      "[t-SNE] Computed conditional probabilities for sample 1000 / 2048\n",
      "[t-SNE] Computed conditional probabilities for sample 2000 / 2048\n",
      "[t-SNE] Computed conditional probabilities for sample 2048 / 2048\n",
      "[t-SNE] Mean sigma: 0.173238\n",
      "[t-SNE] Computed conditional probabilities in 0.090s\n",
      "[t-SNE] Iteration 50: error = 159.7397156, gradient norm = 0.2020307 (50 iterations in 0.477s)\n",
      "[t-SNE] Iteration 100: error = 179.1605988, gradient norm = 0.1579106 (50 iterations in 0.577s)\n",
      "[t-SNE] Iteration 150: error = 177.7334137, gradient norm = 0.1595853 (50 iterations in 0.332s)\n",
      "[t-SNE] Iteration 200: error = 170.3286438, gradient norm = 0.2017922 (50 iterations in 0.311s)\n",
      "[t-SNE] Iteration 250: error = 168.0076141, gradient norm = 0.1823181 (50 iterations in 0.313s)\n",
      "[t-SNE] KL divergence after 250 iterations with early exaggeration: 168.007614\n",
      "[t-SNE] Iteration 300: error = 6.3229232, gradient norm = 0.0138874 (50 iterations in 0.286s)\n",
      "[t-SNE] Iteration 350: error = 5.5064435, gradient norm = 0.0013117 (50 iterations in 0.265s)\n",
      "[t-SNE] Iteration 400: error = 4.9425292, gradient norm = 0.0016676 (50 iterations in 0.283s)\n",
      "[t-SNE] Iteration 450: error = 3.9356701, gradient norm = 0.0025994 (50 iterations in 0.277s)\n",
      "[t-SNE] Iteration 500: error = 3.8697708, gradient norm = 0.0003182 (50 iterations in 0.262s)\n",
      "[t-SNE] Iteration 550: error = 3.7989540, gradient norm = 0.0002838 (50 iterations in 0.242s)\n",
      "[t-SNE] Iteration 600: error = 3.7840493, gradient norm = 0.0001900 (50 iterations in 0.240s)\n",
      "[t-SNE] Iteration 650: error = 3.7514427, gradient norm = 0.0002646 (50 iterations in 0.243s)\n",
      "[t-SNE] Iteration 700: error = 3.6308868, gradient norm = 0.0005975 (50 iterations in 0.246s)\n",
      "[t-SNE] Iteration 750: error = 3.4736152, gradient norm = 0.0335672 (50 iterations in 0.238s)\n",
      "[t-SNE] Iteration 800: error = 3.4808934, gradient norm = 0.0510806 (50 iterations in 0.232s)\n",
      "[t-SNE] Iteration 850: error = 3.4155235, gradient norm = 0.0369295 (50 iterations in 0.245s)\n",
      "[t-SNE] Iteration 900: error = 3.5634310, gradient norm = 0.0544111 (50 iterations in 0.244s)\n",
      "[t-SNE] Iteration 950: error = 3.4315660, gradient norm = 0.0402455 (50 iterations in 0.217s)\n",
      "[t-SNE] Iteration 1000: error = 3.4013674, gradient norm = 0.0373656 (50 iterations in 0.220s)\n",
      "[t-SNE] KL divergence after 1000 iterations: 3.401367\n",
      "2020-09-06 12:53:10,452 - \u001b[32mINFO\u001b[0m - [bidd-molmap]\u001b[0m - Applying grid feature map(assignment), this may take several minutes(1~30 min)\u001b[0m\n",
      "2020-09-06 12:53:17,454 - \u001b[32mINFO\u001b[0m - [bidd-molmap]\u001b[0m - Finished\u001b[0m\n"
     ]
    }
   ],
   "source": [
    "mp2 = molmap.MolMap(ftype = 'fingerprint', metric = metric, flist =flist,)\n",
    "mp2.fit(method = method, n_neighbors = n_neighbors, min_dist = min_dist) "
   ]
  },
  {
   "cell_type": "code",
   "execution_count": 80,
   "metadata": {},
   "outputs": [
    {
     "name": "stdout",
     "output_type": "stream",
     "text": [
      "2020-09-06 12:53:17,461 - \u001b[32mINFO\u001b[0m - [bidd-molmap]\u001b[0m - generate file: ./fingerprint_2048_cosine_tsne_scatter\u001b[0m\n",
      "2020-09-06 12:53:17,509 - \u001b[32mINFO\u001b[0m - [bidd-molmap]\u001b[0m - save html file to ./fingerprint_2048_cosine_tsne_scatter\u001b[0m\n"
     ]
    },
    {
     "data": {
      "text/plain": [
       "<highcharts.highcharts.highcharts.Highchart at 0x7fdc29f0f748>"
      ]
     },
     "execution_count": 80,
     "metadata": {},
     "output_type": "execute_result"
    }
   ],
   "source": [
    "mp2.plot_scatter()"
   ]
  },
  {
   "cell_type": "code",
   "execution_count": null,
   "metadata": {},
   "outputs": [],
   "source": []
  },
  {
   "cell_type": "code",
   "execution_count": 84,
   "metadata": {},
   "outputs": [
    {
     "name": "stdout",
     "output_type": "stream",
     "text": [
      "total samples: 1128\n",
      "total samples: 4200\n"
     ]
    }
   ],
   "source": [
    "from molmap.model import RegressionEstimator, MultiClassEstimator, MultiLabelEstimator\n",
    "from molmap import loadmap, dataset,feature\n",
    "from molmap.show import imshow_wrap\n",
    "from chembench import load_data\n",
    "\n",
    "from sklearn.utils import shuffle \n",
    "from joblib import load, dump\n",
    "import numpy as np\n",
    "import pandas as pd\n",
    "import os\n",
    "\n",
    "bitsinfo = feature.fingerprint.Extraction().bitsinfo\n",
    "fp_types = bitsinfo.Subtypes.unique()\n",
    "\n",
    "esol = dataset.load_ESOL(True)\n",
    "lipop = dataset.load_Lipop(True)\n",
    "#malaria = dataset.load_malaria(True)\n"
   ]
  },
  {
   "cell_type": "code",
   "execution_count": 86,
   "metadata": {},
   "outputs": [
    {
     "name": "stderr",
     "output_type": "stream",
     "text": [
      "  0%|          | 0/1128 [00:00<?, ?it/s]"
     ]
    },
    {
     "name": "stdout",
     "output_type": "stream",
     "text": [
      "loading dataset: ESOL number of split times: 3\n"
     ]
    },
    {
     "name": "stderr",
     "output_type": "stream",
     "text": [
      " 84%|########4 | 951/1128 [00:03<00:00, 182.03it/s]"
     ]
    },
    {
     "name": "stdout",
     "output_type": "stream",
     "text": [
      "error when calculating C\n"
     ]
    },
    {
     "name": "stderr",
     "output_type": "stream",
     "text": [
      "100%|##########| 1128/1128 [00:04<00:00, 259.19it/s]\n",
      "100%|##########| 1128/1128 [00:05<00:00, 207.28it/s]\n"
     ]
    },
    {
     "name": "stdout",
     "output_type": "stream",
     "text": [
      "RegressionEstimator(gpuid='3')\n",
      "epoch: 0001, loss: 12.3393 - val_loss: 10.7823; rmse: 3.0940 - rmse_val: 3.2836;  r2: 0.2074 - r2_val: 0.1556                                                                                                    \n",
      "epoch: 0002, loss: 8.3557 - val_loss: 7.3857; rmse: 2.4956 - rmse_val: 2.7177;  r2: 0.2073 - r2_val: 0.1540                                                                                                    \n",
      "epoch: 0003, loss: 5.1078 - val_loss: 4.5783; rmse: 1.9061 - rmse_val: 2.1397;  r2: 0.2060 - r2_val: 0.1514                                                                                                    \n",
      "epoch: 0004, loss: 3.6904 - val_loss: 4.6412; rmse: 1.9948 - rmse_val: 2.1543;  r2: 0.2062 - r2_val: 0.1512                                                                                                    \n",
      "epoch: 0005, loss: 3.8144 - val_loss: 4.3266; rmse: 1.8713 - rmse_val: 2.0800;  r2: 0.2085 - r2_val: 0.1535                                                                                                    \n",
      "epoch: 0006, loss: 3.5527 - val_loss: 4.5545; rmse: 1.9023 - rmse_val: 2.1341;  r2: 0.2104 - r2_val: 0.1556                                                                                                    \n",
      "epoch: 0007, loss: 3.5961 - val_loss: 4.3673; rmse: 1.8648 - rmse_val: 2.0898;  r2: 0.2120 - r2_val: 0.1560                                                                                                    \n",
      "epoch: 0008, loss: 3.4538 - val_loss: 4.2510; rmse: 1.8543 - rmse_val: 2.0618;  r2: 0.2133 - r2_val: 0.1571                                                                                                    \n",
      "epoch: 0009, loss: 3.4425 - val_loss: 4.2328; rmse: 1.8466 - rmse_val: 2.0574;  r2: 0.2151 - r2_val: 0.1585                                                                                                    \n",
      "epoch: 0010, loss: 3.3939 - val_loss: 4.2570; rmse: 1.8446 - rmse_val: 2.0632;  r2: 0.2173 - r2_val: 0.1603                                                                                                    \n",
      "epoch: 0011, loss: 3.4440 - val_loss: 4.2909; rmse: 1.8497 - rmse_val: 2.0715;  r2: 0.2193 - r2_val: 0.1618                                                                                                    \n",
      "epoch: 0012, loss: 3.3867 - val_loss: 4.1776; rmse: 1.8350 - rmse_val: 2.0439;  r2: 0.2205 - r2_val: 0.1622                                                                                                    \n",
      "epoch: 0013, loss: 3.3808 - val_loss: 4.1627; rmse: 1.8335 - rmse_val: 2.0403;  r2: 0.2222 - r2_val: 0.1634                                                                                                    \n",
      "epoch: 0014, loss: 3.3798 - val_loss: 4.2665; rmse: 1.8437 - rmse_val: 2.0655;  r2: 0.2246 - r2_val: 0.1653                                                                                                    \n",
      "epoch: 0015, loss: 3.3928 - val_loss: 4.1906; rmse: 1.8294 - rmse_val: 2.0471;  r2: 0.2263 - r2_val: 0.1662                                                                                                    \n",
      "epoch: 0016, loss: 3.3313 - val_loss: 4.1496; rmse: 1.8237 - rmse_val: 2.0370;  r2: 0.2281 - r2_val: 0.1674                                                                                                    \n",
      "epoch: 0017, loss: 3.3854 - val_loss: 4.2910; rmse: 1.8476 - rmse_val: 2.0715;  r2: 0.2310 - r2_val: 0.1698                                                                                                    \n",
      "epoch: 0018, loss: 3.3742 - val_loss: 4.1315; rmse: 1.8189 - rmse_val: 2.0326;  r2: 0.2321 - r2_val: 0.1704                                                                                                    \n",
      "epoch: 0019, loss: 3.3067 - val_loss: 4.0980; rmse: 1.8199 - rmse_val: 2.0244;  r2: 0.2337 - r2_val: 0.1716                                                                                                    \n",
      "epoch: 0020, loss: 3.3387 - val_loss: 4.0949; rmse: 1.8205 - rmse_val: 2.0236;  r2: 0.2361 - r2_val: 0.1728                                                                                                    \n",
      "epoch: 0021, loss: 3.2936 - val_loss: 4.1132; rmse: 1.8115 - rmse_val: 2.0281;  r2: 0.2394 - r2_val: 0.1752                                                                                                    \n",
      "epoch: 0022, loss: 3.3097 - val_loss: 4.1534; rmse: 1.8171 - rmse_val: 2.0380;  r2: 0.2423 - r2_val: 0.1772                                                                                                    \n",
      "epoch: 0023, loss: 3.2513 - val_loss: 4.0719; rmse: 1.8164 - rmse_val: 2.0179;  r2: 0.2429 - r2_val: 0.1772                                                                                                    \n",
      "epoch: 0024, loss: 3.3850 - val_loss: 4.0600; rmse: 1.8140 - rmse_val: 2.0149;  r2: 0.2456 - r2_val: 0.1792                                                                                                    \n",
      "epoch: 0025, loss: 3.2712 - val_loss: 4.1866; rmse: 1.8237 - rmse_val: 2.0461;  r2: 0.2510 - r2_val: 0.1835                                                                                                    \n",
      "epoch: 0026, loss: 3.3444 - val_loss: 4.0719; rmse: 1.8003 - rmse_val: 2.0179;  r2: 0.2528 - r2_val: 0.1844                                                                                                    \n",
      "epoch: 0027, loss: 3.2401 - val_loss: 4.0558; rmse: 1.8169 - rmse_val: 2.0139;  r2: 0.2531 - r2_val: 0.1843                                                                                                    \n",
      "epoch: 0028, loss: 3.2769 - val_loss: 4.0117; rmse: 1.7895 - rmse_val: 2.0029;  r2: 0.2582 - r2_val: 0.1881                                                                                                    \n",
      "epoch: 0029, loss: 3.1985 - val_loss: 3.9990; rmse: 1.7874 - rmse_val: 1.9998;  r2: 0.2607 - r2_val: 0.1894                                                                                                    \n",
      "epoch: 0030, loss: 3.2127 - val_loss: 3.9974; rmse: 1.7822 - rmse_val: 1.9994;  r2: 0.2633 - r2_val: 0.1914                                                                                                    \n",
      "epoch: 0031, loss: 3.1984 - val_loss: 4.1259; rmse: 1.8012 - rmse_val: 2.0312;  r2: 0.2667 - r2_val: 0.1939                                                                                                    \n",
      "epoch: 0032, loss: 3.2229 - val_loss: 3.9792; rmse: 1.7757 - rmse_val: 1.9948;  r2: 0.2685 - r2_val: 0.1948                                                                                                    \n",
      "epoch: 0033, loss: 3.1653 - val_loss: 3.9700; rmse: 1.7809 - rmse_val: 1.9925;  r2: 0.2708 - r2_val: 0.1962                                                                                                    \n",
      "epoch: 0034, loss: 3.1551 - val_loss: 3.9552; rmse: 1.7668 - rmse_val: 1.9888;  r2: 0.2768 - r2_val: 0.2003                                                                                                    \n",
      "epoch: 0035, loss: 3.1240 - val_loss: 3.9542; rmse: 1.7641 - rmse_val: 1.9885;  r2: 0.2785 - r2_val: 0.2019                                                                                                    \n",
      "epoch: 0036, loss: 3.1232 - val_loss: 3.9297; rmse: 1.7630 - rmse_val: 1.9823;  r2: 0.2807 - r2_val: 0.2035                                                                                                    \n",
      "epoch: 0037, loss: 3.1038 - val_loss: 3.9681; rmse: 1.7604 - rmse_val: 1.9920;  r2: 0.2883 - r2_val: 0.2091                                                                                                    \n",
      "epoch: 0038, loss: 3.1080 - val_loss: 3.9225; rmse: 1.7505 - rmse_val: 1.9805;  r2: 0.2931 - r2_val: 0.2118                                                                                                    \n",
      "epoch: 0039, loss: 3.1064 - val_loss: 3.8828; rmse: 1.7456 - rmse_val: 1.9705;  r2: 0.2950 - r2_val: 0.2134                                                                                                    \n",
      "epoch: 0040, loss: 3.0792 - val_loss: 3.9748; rmse: 1.7567 - rmse_val: 1.9937;  r2: 0.3013 - r2_val: 0.2184                                                                                                    \n",
      "epoch: 0041, loss: 3.0627 - val_loss: 3.8549; rmse: 1.7388 - rmse_val: 1.9634;  r2: 0.3017 - r2_val: 0.2185                                                                                                    \n",
      "epoch: 0042, loss: 3.0589 - val_loss: 3.8306; rmse: 1.7306 - rmse_val: 1.9572;  r2: 0.3098 - r2_val: 0.2238                                                                                                    \n",
      "epoch: 0043, loss: 2.9835 - val_loss: 3.8417; rmse: 1.7245 - rmse_val: 1.9600;  r2: 0.3189 - r2_val: 0.2309                                                                                                    \n",
      "epoch: 0044, loss: 2.9703 - val_loss: 3.7855; rmse: 1.7191 - rmse_val: 1.9456;  r2: 0.3217 - r2_val: 0.2333                                                                                                    \n",
      "epoch: 0045, loss: 2.9584 - val_loss: 3.8381; rmse: 1.7205 - rmse_val: 1.9591;  r2: 0.3354 - r2_val: 0.2446                                                                                                    \n",
      "epoch: 0046, loss: 2.9411 - val_loss: 3.7380; rmse: 1.7027 - rmse_val: 1.9334;  r2: 0.3362 - r2_val: 0.2444                                                                                                    \n",
      "epoch: 0047, loss: 2.8976 - val_loss: 3.7227; rmse: 1.7015 - rmse_val: 1.9294;  r2: 0.3404 - r2_val: 0.2477                                                                                                    \n",
      "epoch: 0048, loss: 3.0121 - val_loss: 3.6821; rmse: 1.6869 - rmse_val: 1.9189;  r2: 0.3515 - r2_val: 0.2573                                                                                                    \n",
      "epoch: 0049, loss: 2.8927 - val_loss: 3.7593; rmse: 1.6982 - rmse_val: 1.9389;  r2: 0.3626 - r2_val: 0.2685                                                                                                    \n",
      "epoch: 0050, loss: 2.8350 - val_loss: 3.6571; rmse: 1.6857 - rmse_val: 1.9124;  r2: 0.3554 - r2_val: 0.2626                                                                                                    \n",
      "epoch: 0051, loss: 2.8500 - val_loss: 3.6348; rmse: 1.6661 - rmse_val: 1.9065;  r2: 0.3651 - r2_val: 0.2715                                                                                                    \n",
      "epoch: 0052, loss: 2.8736 - val_loss: 3.7003; rmse: 1.6783 - rmse_val: 1.9236;  r2: 0.3750 - r2_val: 0.2807                                                                                                    \n",
      "epoch: 0053, loss: 2.7903 - val_loss: 3.5761; rmse: 1.6565 - rmse_val: 1.8910;  r2: 0.3749 - r2_val: 0.2781                                                                                                    \n",
      "epoch: 0054, loss: 2.6861 - val_loss: 3.5901; rmse: 1.6466 - rmse_val: 1.8948;  r2: 0.3943 - r2_val: 0.2933                                                                                                    \n",
      "epoch: 0055, loss: 2.6701 - val_loss: 3.5551; rmse: 1.6495 - rmse_val: 1.8855;  r2: 0.3903 - r2_val: 0.2879                                                                                                    \n",
      "epoch: 0056, loss: 2.7347 - val_loss: 3.5233; rmse: 1.6238 - rmse_val: 1.8771;  r2: 0.4080 - r2_val: 0.3033                                                                                                    \n",
      "epoch: 0057, loss: 2.6760 - val_loss: 3.4595; rmse: 1.6069 - rmse_val: 1.8600;  r2: 0.4136 - r2_val: 0.3052                                                                                                    \n",
      "epoch: 0058, loss: 2.6802 - val_loss: 3.4389; rmse: 1.6037 - rmse_val: 1.8544;  r2: 0.4182 - r2_val: 0.3083                                                                                                    \n",
      "epoch: 0059, loss: 2.5699 - val_loss: 3.4347; rmse: 1.5935 - rmse_val: 1.8533;  r2: 0.4338 - r2_val: 0.3203                                                                                                    \n",
      "epoch: 0060, loss: 2.5613 - val_loss: 3.3868; rmse: 1.5830 - rmse_val: 1.8403;  r2: 0.4348 - r2_val: 0.3199                                                                                                    \n",
      "epoch: 0061, loss: 2.4910 - val_loss: 3.3788; rmse: 1.5716 - rmse_val: 1.8382;  r2: 0.4489 - r2_val: 0.3315                                                                                                    \n",
      "epoch: 0062, loss: 2.4760 - val_loss: 3.3225; rmse: 1.5532 - rmse_val: 1.8228;  r2: 0.4535 - r2_val: 0.3324                                                                                                    \n",
      "epoch: 0063, loss: 2.4065 - val_loss: 3.3179; rmse: 1.5422 - rmse_val: 1.8215;  r2: 0.4680 - r2_val: 0.3405                                                                                                    \n",
      "epoch: 0064, loss: 2.3847 - val_loss: 3.2811; rmse: 1.5264 - rmse_val: 1.8114;  r2: 0.4749 - r2_val: 0.3411                                                                                                    \n",
      "epoch: 0065, loss: 2.3173 - val_loss: 3.2451; rmse: 1.5139 - rmse_val: 1.8014;  r2: 0.4785 - r2_val: 0.3459                                                                                                    \n",
      "epoch: 0066, loss: 2.2873 - val_loss: 3.2646; rmse: 1.5095 - rmse_val: 1.8068;  r2: 0.4938 - r2_val: 0.3554                                                                                                    \n",
      "epoch: 0067, loss: 2.3688 - val_loss: 3.2525; rmse: 1.5129 - rmse_val: 1.8035;  r2: 0.4858 - r2_val: 0.3483                                                                                                    \n",
      "epoch: 0068, loss: 2.2803 - val_loss: 3.1952; rmse: 1.4782 - rmse_val: 1.7875;  r2: 0.5051 - r2_val: 0.3593                                                                                                    \n",
      "epoch: 0069, loss: 2.1650 - val_loss: 3.1853; rmse: 1.4640 - rmse_val: 1.7847;  r2: 0.5206 - r2_val: 0.3613                                                                                                    \n",
      "epoch: 0070, loss: 2.1386 - val_loss: 3.2198; rmse: 1.4663 - rmse_val: 1.7944;  r2: 0.5355 - r2_val: 0.3703                                                                                                    \n",
      "epoch: 0071, loss: 2.2114 - val_loss: 3.1597; rmse: 1.4617 - rmse_val: 1.7776;  r2: 0.5227 - r2_val: 0.3678                                                                                                    \n",
      "epoch: 0072, loss: 2.1033 - val_loss: 3.1353; rmse: 1.4345 - rmse_val: 1.7707;  r2: 0.5424 - r2_val: 0.3803                                                                                                    \n",
      "epoch: 0073, loss: 2.0287 - val_loss: 3.0835; rmse: 1.4124 - rmse_val: 1.7560;  r2: 0.5501 - r2_val: 0.3787                                                                                                    \n",
      "epoch: 0074, loss: 1.9915 - val_loss: 3.0842; rmse: 1.3973 - rmse_val: 1.7562;  r2: 0.5637 - r2_val: 0.3795                                                                                                    \n",
      "epoch: 0075, loss: 1.9776 - val_loss: 3.0597; rmse: 1.3777 - rmse_val: 1.7492;  r2: 0.5774 - r2_val: 0.3859                                                                                                    \n",
      "epoch: 0076, loss: 1.9168 - val_loss: 3.0775; rmse: 1.3787 - rmse_val: 1.7543;  r2: 0.5887 - r2_val: 0.3951                                                                                                    \n",
      "epoch: 0077, loss: 1.8800 - val_loss: 3.0923; rmse: 1.3942 - rmse_val: 1.7585;  r2: 0.5812 - r2_val: 0.3901                                                                                                    \n",
      "epoch: 0078, loss: 1.9042 - val_loss: 2.9781; rmse: 1.3383 - rmse_val: 1.7257;  r2: 0.5955 - r2_val: 0.4022                                                                                                    \n",
      "epoch: 0079, loss: 1.8100 - val_loss: 3.0158; rmse: 1.3305 - rmse_val: 1.7366;  r2: 0.6156 - r2_val: 0.4048                                                                                                    \n",
      "epoch: 0080, loss: 1.7843 - val_loss: 2.9691; rmse: 1.3064 - rmse_val: 1.7231;  r2: 0.6217 - r2_val: 0.4049                                                                                                    \n",
      "epoch: 0081, loss: 1.7429 - val_loss: 2.9972; rmse: 1.3190 - rmse_val: 1.7312;  r2: 0.6224 - r2_val: 0.4037                                                                                                    \n",
      "epoch: 0082, loss: 1.7111 - val_loss: 3.1664; rmse: 1.3529 - rmse_val: 1.7794;  r2: 0.6401 - r2_val: 0.4057                                                                                                    \n",
      "epoch: 0083, loss: 1.6945 - val_loss: 3.3564; rmse: 1.4509 - rmse_val: 1.8320;  r2: 0.6184 - r2_val: 0.3980                                                                                                    \n",
      "epoch: 0084, loss: 1.9492 - val_loss: 3.0603; rmse: 1.3038 - rmse_val: 1.7494;  r2: 0.6534 - r2_val: 0.4181                                                                                                    \n",
      "epoch: 0085, loss: 1.6827 - val_loss: 2.9192; rmse: 1.2375 - rmse_val: 1.7086;  r2: 0.6570 - r2_val: 0.4118                                                                                                    \n",
      "epoch: 0086, loss: 1.5156 - val_loss: 2.9121; rmse: 1.2160 - rmse_val: 1.7065;  r2: 0.6674 - r2_val: 0.4114                                                                                                    \n",
      "epoch: 0087, loss: 1.4635 - val_loss: 2.8812; rmse: 1.1977 - rmse_val: 1.6974;  r2: 0.6736 - r2_val: 0.4178                                                                                                    \n",
      "epoch: 0088, loss: 1.4327 - val_loss: 2.8677; rmse: 1.1865 - rmse_val: 1.6934;  r2: 0.6783 - r2_val: 0.4224                                                                                                    \n",
      "epoch: 0089, loss: 1.3923 - val_loss: 2.8746; rmse: 1.1874 - rmse_val: 1.6955;  r2: 0.6859 - r2_val: 0.4214                                                                                                    \n",
      "epoch: 0090, loss: 1.3877 - val_loss: 2.9016; rmse: 1.1660 - rmse_val: 1.7034;  r2: 0.7040 - r2_val: 0.4254                                                                                                    \n",
      "epoch: 0091, loss: 1.3427 - val_loss: 2.8805; rmse: 1.1667 - rmse_val: 1.6972;  r2: 0.7033 - r2_val: 0.4226                                                                                                    \n",
      "epoch: 0092, loss: 1.3171 - val_loss: 2.8117; rmse: 1.1277 - rmse_val: 1.6768;  r2: 0.7124 - r2_val: 0.4333                                                                                                    \n",
      "epoch: 0093, loss: 1.2736 - val_loss: 2.9336; rmse: 1.2118 - rmse_val: 1.7128;  r2: 0.7019 - r2_val: 0.4300                                                                                                    \n",
      "epoch: 0094, loss: 1.4348 - val_loss: 2.8673; rmse: 1.1204 - rmse_val: 1.6933;  r2: 0.7301 - r2_val: 0.4352                                                                                                    \n",
      "epoch: 0095, loss: 1.2703 - val_loss: 2.8155; rmse: 1.0970 - rmse_val: 1.6779;  r2: 0.7349 - r2_val: 0.4398                                                                                                    \n",
      "epoch: 0096, loss: 1.1932 - val_loss: 2.8739; rmse: 1.1089 - rmse_val: 1.6953;  r2: 0.7421 - r2_val: 0.4422                                                                                                    \n",
      "epoch: 0097, loss: 1.2566 - val_loss: 2.8164; rmse: 1.0804 - rmse_val: 1.6782;  r2: 0.7468 - r2_val: 0.4457                                                                                                    \n",
      "epoch: 0098, loss: 1.3268 - val_loss: 2.9712; rmse: 1.1851 - rmse_val: 1.7237;  r2: 0.7392 - r2_val: 0.4389                                                                                                    \n",
      "epoch: 0099, loss: 1.2582 - val_loss: 2.7218; rmse: 1.0451 - rmse_val: 1.6498;  r2: 0.7518 - r2_val: 0.4508                                                                                                    \n",
      "epoch: 0100, loss: 1.0922 - val_loss: 2.7210; rmse: 1.0288 - rmse_val: 1.6495;  r2: 0.7644 - r2_val: 0.4511                                                                                                    \n",
      "epoch: 0101, loss: 1.0806 - val_loss: 2.7624; rmse: 1.0258 - rmse_val: 1.6621;  r2: 0.7706 - r2_val: 0.4438                                                                                                    \n",
      "epoch: 0102, loss: 1.0296 - val_loss: 2.8250; rmse: 1.0415 - rmse_val: 1.6808;  r2: 0.7756 - r2_val: 0.4572                                                                                                    \n",
      "epoch: 0103, loss: 1.0926 - val_loss: 2.6949; rmse: 0.9916 - rmse_val: 1.6416;  r2: 0.7758 - r2_val: 0.4577                                                                                                    \n",
      "epoch: 0104, loss: 0.9925 - val_loss: 2.6803; rmse: 0.9745 - rmse_val: 1.6372;  r2: 0.7852 - r2_val: 0.4590                                                                                                    \n",
      "epoch: 0105, loss: 0.9594 - val_loss: 2.6865; rmse: 0.9692 - rmse_val: 1.6391;  r2: 0.7903 - r2_val: 0.4564                                                                                                    \n",
      "epoch: 0106, loss: 0.9407 - val_loss: 2.9290; rmse: 1.1162 - rmse_val: 1.7114;  r2: 0.7847 - r2_val: 0.4552                                                                                                    \n",
      "epoch: 0107, loss: 1.1047 - val_loss: 2.7883; rmse: 0.9794 - rmse_val: 1.6698;  r2: 0.8045 - r2_val: 0.4631                                                                                                    \n",
      "epoch: 0108, loss: 0.9095 - val_loss: 2.7283; rmse: 0.9549 - rmse_val: 1.6518;  r2: 0.8070 - r2_val: 0.4686                                                                                                    \n",
      "epoch: 0109, loss: 0.8867 - val_loss: 2.6712; rmse: 0.9238 - rmse_val: 1.6344;  r2: 0.8121 - r2_val: 0.4699                                                                                                    \n",
      "epoch: 0110, loss: 0.8559 - val_loss: 2.6240; rmse: 0.9005 - rmse_val: 1.6199;  r2: 0.8154 - r2_val: 0.4694                                                                                                    \n",
      "epoch: 0111, loss: 0.8078 - val_loss: 2.6307; rmse: 0.8868 - rmse_val: 1.6220;  r2: 0.8220 - r2_val: 0.4689                                                                                                    \n",
      "epoch: 0112, loss: 0.7851 - val_loss: 2.6255; rmse: 0.8747 - rmse_val: 1.6203;  r2: 0.8276 - r2_val: 0.4696                                                                                                    \n",
      "epoch: 0113, loss: 0.7927 - val_loss: 2.6161; rmse: 0.8697 - rmse_val: 1.6174;  r2: 0.8330 - r2_val: 0.4713                                                                                                    \n",
      "epoch: 0114, loss: 0.8408 - val_loss: 2.6197; rmse: 0.8590 - rmse_val: 1.6185;  r2: 0.8369 - r2_val: 0.4791                                                                                                    \n",
      "epoch: 0115, loss: 0.7402 - val_loss: 2.5985; rmse: 0.8420 - rmse_val: 1.6120;  r2: 0.8440 - r2_val: 0.4803                                                                                                    \n",
      "epoch: 0116, loss: 0.7059 - val_loss: 2.5786; rmse: 0.8351 - rmse_val: 1.6058;  r2: 0.8467 - r2_val: 0.4790                                                                                                    \n",
      "epoch: 0117, loss: 0.7218 - val_loss: 2.5831; rmse: 0.8269 - rmse_val: 1.6072;  r2: 0.8514 - r2_val: 0.4785                                                                                                    \n",
      "epoch: 0118, loss: 0.6691 - val_loss: 2.5547; rmse: 0.8208 - rmse_val: 1.5983;  r2: 0.8491 - r2_val: 0.4825                                                                                                    \n",
      "epoch: 0119, loss: 0.6692 - val_loss: 2.5481; rmse: 0.8016 - rmse_val: 1.5963;  r2: 0.8553 - r2_val: 0.4837                                                                                                    \n",
      "epoch: 0120, loss: 0.6388 - val_loss: 2.6623; rmse: 0.8845 - rmse_val: 1.6317;  r2: 0.8584 - r2_val: 0.4814                                                                                                    \n",
      "epoch: 0121, loss: 0.7340 - val_loss: 2.5791; rmse: 0.7769 - rmse_val: 1.6060;  r2: 0.8670 - r2_val: 0.4785                                                                                                    \n",
      "epoch: 0122, loss: 0.6100 - val_loss: 2.5906; rmse: 0.7610 - rmse_val: 1.6095;  r2: 0.8695 - r2_val: 0.4789                                                                                                    \n",
      "epoch: 0123, loss: 0.5996 - val_loss: 2.5626; rmse: 0.7568 - rmse_val: 1.6008;  r2: 0.8673 - r2_val: 0.4820                                                                                                    \n",
      "epoch: 0124, loss: 0.5607 - val_loss: 2.5493; rmse: 0.7510 - rmse_val: 1.5966;  r2: 0.8758 - r2_val: 0.4842                                                                                                    \n",
      "epoch: 0125, loss: 0.5534 - val_loss: 2.5630; rmse: 0.7855 - rmse_val: 1.6009;  r2: 0.8776 - r2_val: 0.4894                                                                                                    \n",
      "epoch: 0126, loss: 0.5781 - val_loss: 2.5338; rmse: 0.7152 - rmse_val: 1.5918;  r2: 0.8861 - r2_val: 0.4933                                                                                                    \n",
      "epoch: 0127, loss: 0.5802 - val_loss: 2.4946; rmse: 0.7094 - rmse_val: 1.5794;  r2: 0.8889 - r2_val: 0.4960                                                                                                    \n",
      "epoch: 0128, loss: 0.5061 - val_loss: 2.5012; rmse: 0.6991 - rmse_val: 1.5815;  r2: 0.8942 - r2_val: 0.4959                                                                                                    \n",
      "epoch: 0129, loss: 0.4967 - val_loss: 2.5716; rmse: 0.7158 - rmse_val: 1.6036;  r2: 0.8943 - r2_val: 0.4986                                                                                                    \n",
      "epoch: 0130, loss: 0.5214 - val_loss: 2.6962; rmse: 0.7619 - rmse_val: 1.6420;  r2: 0.8988 - r2_val: 0.4957                                                                                                    \n",
      "epoch: 0131, loss: 0.5292 - val_loss: 2.5309; rmse: 0.6746 - rmse_val: 1.5909;  r2: 0.9004 - r2_val: 0.4919                                                                                                    \n",
      "epoch: 0132, loss: 0.4544 - val_loss: 2.4761; rmse: 0.6723 - rmse_val: 1.5736;  r2: 0.8962 - r2_val: 0.4988                                                                                                    \n",
      "epoch: 0133, loss: 0.4388 - val_loss: 2.6050; rmse: 0.6852 - rmse_val: 1.6140;  r2: 0.9064 - r2_val: 0.4921                                                                                                    \n",
      "epoch: 0134, loss: 0.4956 - val_loss: 2.5097; rmse: 0.6517 - rmse_val: 1.5842;  r2: 0.9055 - r2_val: 0.4925                                                                                                    \n",
      "epoch: 0135, loss: 0.4714 - val_loss: 2.4646; rmse: 0.6628 - rmse_val: 1.5699;  r2: 0.9031 - r2_val: 0.5007                                                                                                    \n",
      "epoch: 0136, loss: 0.4296 - val_loss: 2.4707; rmse: 0.6592 - rmse_val: 1.5719;  r2: 0.9097 - r2_val: 0.5016                                                                                                    \n",
      "epoch: 0137, loss: 0.3991 - val_loss: 2.4627; rmse: 0.6122 - rmse_val: 1.5693;  r2: 0.9163 - r2_val: 0.5025                                                                                                    \n",
      "epoch: 0138, loss: 0.3739 - val_loss: 2.4690; rmse: 0.6130 - rmse_val: 1.5713;  r2: 0.9147 - r2_val: 0.5053                                                                                                    \n",
      "epoch: 0139, loss: 0.3820 - val_loss: 2.4890; rmse: 0.5987 - rmse_val: 1.5777;  r2: 0.9204 - r2_val: 0.5017                                                                                                    \n",
      "epoch: 0140, loss: 0.3584 - val_loss: 2.4869; rmse: 0.5878 - rmse_val: 1.5770;  r2: 0.9230 - r2_val: 0.4992                                                                                                    \n",
      "epoch: 0141, loss: 0.3508 - val_loss: 2.4576; rmse: 0.5808 - rmse_val: 1.5677;  r2: 0.9244 - r2_val: 0.5030                                                                                                    \n",
      "epoch: 0142, loss: 0.3351 - val_loss: 2.5500; rmse: 0.5927 - rmse_val: 1.5969;  r2: 0.9278 - r2_val: 0.4979                                                                                                    \n",
      "epoch: 0143, loss: 0.3378 - val_loss: 2.6264; rmse: 0.6244 - rmse_val: 1.6206;  r2: 0.9286 - r2_val: 0.4968                                                                                                    \n",
      "epoch: 0144, loss: 0.3426 - val_loss: 2.4730; rmse: 0.5612 - rmse_val: 1.5726;  r2: 0.9301 - r2_val: 0.4987                                                                                                    \n",
      "epoch: 0145, loss: 0.3293 - val_loss: 2.4786; rmse: 0.5441 - rmse_val: 1.5743;  r2: 0.9321 - r2_val: 0.4988                                                                                                    \n",
      "epoch: 0146, loss: 0.3071 - val_loss: 2.8187; rmse: 0.7130 - rmse_val: 1.6789;  r2: 0.9332 - r2_val: 0.4936                                                                                                    \n",
      "epoch: 0147, loss: 0.3908 - val_loss: 2.4781; rmse: 0.5284 - rmse_val: 1.5742;  r2: 0.9368 - r2_val: 0.5009                                                                                                    \n",
      "epoch: 0148, loss: 0.3191 - val_loss: 2.4512; rmse: 0.5321 - rmse_val: 1.5656;  r2: 0.9347 - r2_val: 0.5054                                                                                                    \n",
      "epoch: 0149, loss: 0.2818 - val_loss: 2.4693; rmse: 0.5173 - rmse_val: 1.5714;  r2: 0.9401 - r2_val: 0.5033                                                                                                    \n",
      "epoch: 0150, loss: 0.2731 - val_loss: 2.4552; rmse: 0.5135 - rmse_val: 1.5669;  r2: 0.9417 - r2_val: 0.5031                                                                                                    \n",
      "epoch: 0151, loss: 0.2836 - val_loss: 2.4502; rmse: 0.5242 - rmse_val: 1.5653;  r2: 0.9426 - r2_val: 0.5042                                                                                                    \n",
      "epoch: 0152, loss: 0.2662 - val_loss: 2.5929; rmse: 0.5585 - rmse_val: 1.6102;  r2: 0.9444 - r2_val: 0.4992                                                                                                    \n",
      "epoch: 0153, loss: 0.2756 - val_loss: 2.5230; rmse: 0.5142 - rmse_val: 1.5884;  r2: 0.9455 - r2_val: 0.5017                                                                                                    \n",
      "epoch: 0154, loss: 0.2443 - val_loss: 2.5016; rmse: 0.4919 - rmse_val: 1.5816;  r2: 0.9477 - r2_val: 0.5006                                                                                                    \n",
      "epoch: 0155, loss: 0.2355 - val_loss: 2.4624; rmse: 0.4761 - rmse_val: 1.5692;  r2: 0.9487 - r2_val: 0.5036                                                                                                    \n",
      "epoch: 0156, loss: 0.2331 - val_loss: 2.4984; rmse: 0.5841 - rmse_val: 1.5806;  r2: 0.9482 - r2_val: 0.5059                                                                                                    \n",
      "epoch: 0157, loss: 0.3000 - val_loss: 2.5803; rmse: 0.5295 - rmse_val: 1.6063;  r2: 0.9515 - r2_val: 0.5015                                                                                                    \n",
      "epoch: 0158, loss: 0.2833 - val_loss: 2.4337; rmse: 0.4881 - rmse_val: 1.5600;  r2: 0.9492 - r2_val: 0.5069                                                                                                    \n",
      "epoch: 0159, loss: 0.2842 - val_loss: 2.4765; rmse: 0.5434 - rmse_val: 1.5737;  r2: 0.9524 - r2_val: 0.5056                                                                                                    \n",
      "epoch: 0160, loss: 0.2737 - val_loss: 2.5977; rmse: 0.5256 - rmse_val: 1.6117;  r2: 0.9521 - r2_val: 0.4998                                                                                                    \n",
      "epoch: 0161, loss: 0.2530 - val_loss: 2.4518; rmse: 0.4453 - rmse_val: 1.5658;  r2: 0.9548 - r2_val: 0.5060                                                                                                    \n",
      "epoch: 0162, loss: 0.2081 - val_loss: 2.4463; rmse: 0.4397 - rmse_val: 1.5641;  r2: 0.9559 - r2_val: 0.5056                                                                                                    \n",
      "epoch: 0163, loss: 0.1973 - val_loss: 2.4568; rmse: 0.4351 - rmse_val: 1.5674;  r2: 0.9568 - r2_val: 0.5047                                                                                                    \n",
      "epoch: 0164, loss: 0.1887 - val_loss: 2.4442; rmse: 0.4280 - rmse_val: 1.5634;  r2: 0.9580 - r2_val: 0.5058                                                                                                    \n",
      "epoch: 0165, loss: 0.1823 - val_loss: 2.4315; rmse: 0.4372 - rmse_val: 1.5593;  r2: 0.9592 - r2_val: 0.5072                                                                                                    \n",
      "epoch: 0166, loss: 0.1824 - val_loss: 2.5165; rmse: 0.4500 - rmse_val: 1.5864;  r2: 0.9608 - r2_val: 0.5044                                                                                                    \n",
      "epoch: 0167, loss: 0.1854 - val_loss: 2.4246; rmse: 0.4287 - rmse_val: 1.5571;  r2: 0.9614 - r2_val: 0.5087                                                                                                    \n",
      "epoch: 0168, loss: 0.1913 - val_loss: 2.4459; rmse: 0.4068 - rmse_val: 1.5639;  r2: 0.9624 - r2_val: 0.5075                                                                                                    \n",
      "epoch: 0169, loss: 0.1800 - val_loss: 2.5352; rmse: 0.4452 - rmse_val: 1.5922;  r2: 0.9635 - r2_val: 0.5021                                                                                                    \n",
      "epoch: 0170, loss: 0.1708 - val_loss: 2.4365; rmse: 0.4034 - rmse_val: 1.5609;  r2: 0.9639 - r2_val: 0.5060                                                                                                    \n",
      "epoch: 0171, loss: 0.1610 - val_loss: 2.4748; rmse: 0.3960 - rmse_val: 1.5732;  r2: 0.9652 - r2_val: 0.5035                                                                                                    \n",
      "epoch: 0172, loss: 0.1664 - val_loss: 2.4593; rmse: 0.3863 - rmse_val: 1.5682;  r2: 0.9661 - r2_val: 0.5043                                                                                                    \n",
      "epoch: 0173, loss: 0.1605 - val_loss: 2.4314; rmse: 0.4100 - rmse_val: 1.5593;  r2: 0.9660 - r2_val: 0.5075                                                                                                    \n",
      "epoch: 0174, loss: 0.1578 - val_loss: 2.4937; rmse: 0.3954 - rmse_val: 1.5791;  r2: 0.9679 - r2_val: 0.5036                                                                                                    \n",
      "epoch: 0175, loss: 0.1528 - val_loss: 2.4753; rmse: 0.3801 - rmse_val: 1.5733;  r2: 0.9680 - r2_val: 0.5039                                                                                                    \n",
      "epoch: 0176, loss: 0.1449 - val_loss: 2.4557; rmse: 0.3753 - rmse_val: 1.5671;  r2: 0.9686 - r2_val: 0.5023                                                                                                    \n",
      "epoch: 0177, loss: 0.1377 - val_loss: 2.5790; rmse: 0.4432 - rmse_val: 1.6059;  r2: 0.9690 - r2_val: 0.5012                                                                                                    \n",
      "epoch: 0178, loss: 0.1718 - val_loss: 2.4811; rmse: 0.4761 - rmse_val: 1.5752;  r2: 0.9678 - r2_val: 0.5060                                                                                                    \n",
      "epoch: 0179, loss: 0.1818 - val_loss: 2.6651; rmse: 0.4889 - rmse_val: 1.6325;  r2: 0.9706 - r2_val: 0.4965                                                                                                    \n",
      "epoch: 0180, loss: 0.2088 - val_loss: 2.4566; rmse: 0.3552 - rmse_val: 1.5673;  r2: 0.9710 - r2_val: 0.5040                                                                                                    \n",
      "epoch: 0181, loss: 0.1441 - val_loss: 2.4735; rmse: 0.3492 - rmse_val: 1.5727;  r2: 0.9726 - r2_val: 0.5014                                                                                                    \n",
      "epoch: 0182, loss: 0.1341 - val_loss: 2.4787; rmse: 0.3460 - rmse_val: 1.5744;  r2: 0.9729 - r2_val: 0.4988                                                                                                    \n",
      "epoch: 0183, loss: 0.1236 - val_loss: 2.4878; rmse: 0.3419 - rmse_val: 1.5773;  r2: 0.9739 - r2_val: 0.4965                                                                                                    \n",
      "epoch: 0184, loss: 0.1203 - val_loss: 2.5050; rmse: 0.3447 - rmse_val: 1.5827;  r2: 0.9743 - r2_val: 0.4979                                                                                                    \n",
      "epoch: 0185, loss: 0.1171 - val_loss: 2.4713; rmse: 0.3344 - rmse_val: 1.5720;  r2: 0.9750 - r2_val: 0.4993                                                                                                    \n",
      "epoch: 0186, loss: 0.1106 - val_loss: 2.4662; rmse: 0.3271 - rmse_val: 1.5704;  r2: 0.9754 - r2_val: 0.5012                                                                                                    \n",
      "epoch: 0187, loss: 0.1077 - val_loss: 2.4627; rmse: 0.3241 - rmse_val: 1.5693;  r2: 0.9762 - r2_val: 0.5014                                                                                                    \n",
      "epoch: 0188, loss: 0.1066 - val_loss: 2.4777; rmse: 0.3224 - rmse_val: 1.5741;  r2: 0.9768 - r2_val: 0.5017                                                                                                    \n",
      "epoch: 0189, loss: 0.1067 - val_loss: 2.4466; rmse: 0.3677 - rmse_val: 1.5642;  r2: 0.9764 - r2_val: 0.5058                                                                                                    \n",
      "epoch: 0190, loss: 0.1123 - val_loss: 2.4594; rmse: 0.3784 - rmse_val: 1.5682;  r2: 0.9772 - r2_val: 0.5045                                                                                                    \n",
      "epoch: 0191, loss: 0.1341 - val_loss: 2.5346; rmse: 0.3455 - rmse_val: 1.5920;  r2: 0.9777 - r2_val: 0.4981                                                                                                    \n",
      "epoch: 0192, loss: 0.1138 - val_loss: 2.4912; rmse: 0.3114 - rmse_val: 1.5784;  r2: 0.9787 - r2_val: 0.5000                                                                                                    \n",
      "epoch: 0193, loss: 0.0951 - val_loss: 2.4551; rmse: 0.3055 - rmse_val: 1.5669;  r2: 0.9793 - r2_val: 0.5025                                                                                                    \n",
      "epoch: 0194, loss: 0.0925 - val_loss: 2.4522; rmse: 0.2985 - rmse_val: 1.5660;  r2: 0.9797 - r2_val: 0.5036                                                                                                    \n",
      "epoch: 0195, loss: 0.0963 - val_loss: 2.5068; rmse: 0.3119 - rmse_val: 1.5833;  r2: 0.9805 - r2_val: 0.5001                                                                                                    \n",
      "epoch: 0196, loss: 0.0930 - val_loss: 2.4568; rmse: 0.2908 - rmse_val: 1.5674;  r2: 0.9807 - r2_val: 0.5027                                                                                                    \n",
      "epoch: 0197, loss: 0.0849 - val_loss: 2.4687; rmse: 0.2846 - rmse_val: 1.5712;  r2: 0.9814 - r2_val: 0.5012                                                                                                    \n",
      "epoch: 0198, loss: 0.0830 - val_loss: 2.4750; rmse: 0.2832 - rmse_val: 1.5732;  r2: 0.9818 - r2_val: 0.5012                                                                                                    \n",
      "epoch: 0199, loss: 0.0795 - val_loss: 2.4659; rmse: 0.2783 - rmse_val: 1.5703;  r2: 0.9823 - r2_val: 0.5020                                                                                                    \n",
      "epoch: 0200, loss: 0.0780 - val_loss: 2.4565; rmse: 0.2821 - rmse_val: 1.5673;  r2: 0.9826 - r2_val: 0.5022                                                                                                    \n",
      "epoch: 0201, loss: 0.0780 - val_loss: 2.4858; rmse: 0.2739 - rmse_val: 1.5767;  r2: 0.9832 - r2_val: 0.4991                                                                                                    \n",
      "epoch: 0202, loss: 0.0766 - val_loss: 2.4700; rmse: 0.2759 - rmse_val: 1.5716;  r2: 0.9835 - r2_val: 0.4995                                                                                                    \n",
      "epoch: 0203, loss: 0.0751 - val_loss: 2.4886; rmse: 0.2663 - rmse_val: 1.5775;  r2: 0.9838 - r2_val: 0.4982                                                                                                    \n",
      "epoch: 0204, loss: 0.0719 - val_loss: 2.5351; rmse: 0.2927 - rmse_val: 1.5922;  r2: 0.9840 - r2_val: 0.4958                                                                                                    \n",
      "epoch: 0205, loss: 0.0810 - val_loss: 2.4777; rmse: 0.3697 - rmse_val: 1.5741;  r2: 0.9828 - r2_val: 0.5031                                                                                                    \n",
      "epoch: 0206, loss: 0.0977 - val_loss: 2.5705; rmse: 0.3199 - rmse_val: 1.6033;  r2: 0.9846 - r2_val: 0.4945                                                                                                    \n",
      "epoch: 0207, loss: 0.0856 - val_loss: 2.4685; rmse: 0.2668 - rmse_val: 1.5712;  r2: 0.9849 - r2_val: 0.4997                                                                                                    \n",
      "epoch: 0208, loss: 0.0680 - val_loss: 2.4946; rmse: 0.2530 - rmse_val: 1.5794;  r2: 0.9856 - r2_val: 0.4967                                                                                                    \n",
      "epoch: 0209, loss: 0.0638 - val_loss: 2.5840; rmse: 0.3237 - rmse_val: 1.6075;  r2: 0.9852 - r2_val: 0.4950                                                                                                    \n",
      "epoch: 0210, loss: 0.0895 - val_loss: 2.4669; rmse: 0.2548 - rmse_val: 1.5706;  r2: 0.9855 - r2_val: 0.5005                                                                                                    \n",
      "epoch: 0211, loss: 0.0696 - val_loss: 2.4562; rmse: 0.2469 - rmse_val: 1.5672;  r2: 0.9859 - r2_val: 0.5035                                                                                                    \n",
      "epoch: 0212, loss: 0.0617 - val_loss: 2.4792; rmse: 0.2447 - rmse_val: 1.5745;  r2: 0.9867 - r2_val: 0.5009                                                                                                    \n",
      "epoch: 0213, loss: 0.0609 - val_loss: 2.4819; rmse: 0.2421 - rmse_val: 1.5754;  r2: 0.9869 - r2_val: 0.5007                                                                                                    \n",
      "epoch: 0214, loss: 0.0585 - val_loss: 2.4966; rmse: 0.2409 - rmse_val: 1.5801;  r2: 0.9872 - r2_val: 0.4979                                                                                                    \n",
      "epoch: 0215, loss: 0.0573 - val_loss: 2.4915; rmse: 0.2371 - rmse_val: 1.5784;  r2: 0.9874 - r2_val: 0.4994                                                                                                    \n",
      "epoch: 0216, loss: 0.0569 - val_loss: 2.4943; rmse: 0.2295 - rmse_val: 1.5793;  r2: 0.9880 - r2_val: 0.4974                                                                                                    \n",
      "epoch: 0217, loss: 0.0530 - val_loss: 2.5019; rmse: 0.2314 - rmse_val: 1.5817;  r2: 0.9882 - r2_val: 0.4975                                                                                                    \n",
      "\n",
      "Restoring model weights from the end of the best epoch.\n",
      "\n",
      "Epoch 00217: early stopping\n",
      "RegressionEstimator(gpuid='3')\n",
      "epoch: 0001, loss: 12.8484 - val_loss: 7.6714; rmse: 3.1765 - rmse_val: 2.7697;  r2: 0.2058 - r2_val: 0.2571                                                                                                    \n",
      "epoch: 0002, loss: 8.8540 - val_loss: 4.8496; rmse: 2.5709 - rmse_val: 2.2022;  r2: 0.2042 - r2_val: 0.2526                                                                                                    \n",
      "epoch: 0003, loss: 5.3624 - val_loss: 2.8597; rmse: 1.9681 - rmse_val: 1.6911;  r2: 0.2019 - r2_val: 0.2512                                                                                                    \n",
      "epoch: 0004, loss: 3.8383 - val_loss: 3.1353; rmse: 1.9717 - rmse_val: 1.7707;  r2: 0.2023 - r2_val: 0.2515                                                                                                    \n",
      "epoch: 0005, loss: 3.7845 - val_loss: 2.8281; rmse: 1.9179 - rmse_val: 1.6817;  r2: 0.2048 - r2_val: 0.2537                                                                                                    \n",
      "epoch: 0006, loss: 3.6849 - val_loss: 2.7832; rmse: 1.9202 - rmse_val: 1.6683;  r2: 0.2071 - r2_val: 0.2556                                                                                                    \n",
      "epoch: 0007, loss: 3.6749 - val_loss: 2.7907; rmse: 1.9040 - rmse_val: 1.6705;  r2: 0.2091 - r2_val: 0.2571                                                                                                    \n",
      "epoch: 0008, loss: 3.6109 - val_loss: 2.8488; rmse: 1.8984 - rmse_val: 1.6878;  r2: 0.2113 - r2_val: 0.2589                                                                                                    \n",
      "epoch: 0009, loss: 3.6044 - val_loss: 2.8158; rmse: 1.8898 - rmse_val: 1.6780;  r2: 0.2140 - r2_val: 0.2610                                                                                                    \n",
      "epoch: 0010, loss: 3.5661 - val_loss: 2.7645; rmse: 1.8863 - rmse_val: 1.6627;  r2: 0.2166 - r2_val: 0.2626                                                                                                    \n",
      "epoch: 0011, loss: 3.5514 - val_loss: 2.8174; rmse: 1.8810 - rmse_val: 1.6785;  r2: 0.2187 - r2_val: 0.2644                                                                                                    \n",
      "epoch: 0012, loss: 3.5332 - val_loss: 2.7803; rmse: 1.8756 - rmse_val: 1.6674;  r2: 0.2216 - r2_val: 0.2665                                                                                                    \n",
      "epoch: 0013, loss: 3.5275 - val_loss: 2.8400; rmse: 1.8754 - rmse_val: 1.6852;  r2: 0.2235 - r2_val: 0.2677                                                                                                    \n",
      "epoch: 0014, loss: 3.5023 - val_loss: 2.8022; rmse: 1.8692 - rmse_val: 1.6740;  r2: 0.2264 - r2_val: 0.2698                                                                                                    \n",
      "epoch: 0015, loss: 3.5350 - val_loss: 2.8812; rmse: 1.8720 - rmse_val: 1.6974;  r2: 0.2288 - r2_val: 0.2716                                                                                                    \n",
      "epoch: 0016, loss: 3.4828 - val_loss: 2.7084; rmse: 1.8732 - rmse_val: 1.6457;  r2: 0.2333 - r2_val: 0.2735                                                                                                    \n",
      "epoch: 0017, loss: 3.5142 - val_loss: 2.7213; rmse: 1.8615 - rmse_val: 1.6496;  r2: 0.2357 - r2_val: 0.2752                                                                                                    \n",
      "epoch: 0018, loss: 3.4631 - val_loss: 2.7413; rmse: 1.8550 - rmse_val: 1.6557;  r2: 0.2381 - r2_val: 0.2768                                                                                                    \n",
      "epoch: 0019, loss: 3.4406 - val_loss: 2.7643; rmse: 1.8513 - rmse_val: 1.6626;  r2: 0.2404 - r2_val: 0.2782                                                                                                    \n",
      "epoch: 0020, loss: 3.4295 - val_loss: 2.7303; rmse: 1.8479 - rmse_val: 1.6524;  r2: 0.2440 - r2_val: 0.2801                                                                                                    \n",
      "epoch: 0021, loss: 3.4640 - val_loss: 2.6929; rmse: 1.8496 - rmse_val: 1.6410;  r2: 0.2480 - r2_val: 0.2819                                                                                                    \n",
      "epoch: 0022, loss: 3.4033 - val_loss: 2.7915; rmse: 1.8420 - rmse_val: 1.6708;  r2: 0.2498 - r2_val: 0.2836                                                                                                    \n",
      "epoch: 0023, loss: 3.4095 - val_loss: 2.6813; rmse: 1.8405 - rmse_val: 1.6375;  r2: 0.2557 - r2_val: 0.2863                                                                                                    \n",
      "epoch: 0024, loss: 3.3766 - val_loss: 2.7494; rmse: 1.8307 - rmse_val: 1.6581;  r2: 0.2588 - r2_val: 0.2885                                                                                                    \n",
      "epoch: 0025, loss: 3.3394 - val_loss: 2.7309; rmse: 1.8258 - rmse_val: 1.6525;  r2: 0.2630 - r2_val: 0.2909                                                                                                    \n",
      "epoch: 0026, loss: 3.3939 - val_loss: 2.8611; rmse: 1.8331 - rmse_val: 1.6915;  r2: 0.2659 - r2_val: 0.2938                                                                                                    \n",
      "epoch: 0027, loss: 3.3282 - val_loss: 2.6412; rmse: 1.8253 - rmse_val: 1.6252;  r2: 0.2753 - r2_val: 0.2972                                                                                                    \n",
      "epoch: 0028, loss: 3.3605 - val_loss: 2.6675; rmse: 1.8123 - rmse_val: 1.6332;  r2: 0.2791 - r2_val: 0.3002                                                                                                    \n",
      "epoch: 0029, loss: 3.3285 - val_loss: 2.8289; rmse: 1.8169 - rmse_val: 1.6819;  r2: 0.2798 - r2_val: 0.3018                                                                                                    \n",
      "epoch: 0030, loss: 3.2658 - val_loss: 2.6220; rmse: 1.8116 - rmse_val: 1.6193;  r2: 0.2891 - r2_val: 0.3045                                                                                                    \n",
      "epoch: 0031, loss: 3.2631 - val_loss: 2.8178; rmse: 1.8080 - rmse_val: 1.6786;  r2: 0.2876 - r2_val: 0.3057                                                                                                    \n",
      "epoch: 0032, loss: 3.2496 - val_loss: 2.6330; rmse: 1.7933 - rmse_val: 1.6226;  r2: 0.2942 - r2_val: 0.3083                                                                                                    \n",
      "epoch: 0033, loss: 3.2525 - val_loss: 2.5926; rmse: 1.7938 - rmse_val: 1.6101;  r2: 0.3010 - r2_val: 0.3126                                                                                                    \n",
      "epoch: 0034, loss: 3.2011 - val_loss: 2.8037; rmse: 1.7956 - rmse_val: 1.6744;  r2: 0.2999 - r2_val: 0.3140                                                                                                    \n",
      "epoch: 0035, loss: 3.2024 - val_loss: 2.6059; rmse: 1.7760 - rmse_val: 1.6143;  r2: 0.3099 - r2_val: 0.3185                                                                                                    \n",
      "epoch: 0036, loss: 3.1715 - val_loss: 2.5998; rmse: 1.7705 - rmse_val: 1.6124;  r2: 0.3118 - r2_val: 0.3201                                                                                                    \n",
      "epoch: 0037, loss: 3.1728 - val_loss: 2.5447; rmse: 1.7727 - rmse_val: 1.5952;  r2: 0.3173 - r2_val: 0.3235                                                                                                    \n",
      "epoch: 0038, loss: 3.1364 - val_loss: 2.6382; rmse: 1.7594 - rmse_val: 1.6242;  r2: 0.3207 - r2_val: 0.3276                                                                                                    \n",
      "epoch: 0039, loss: 3.1138 - val_loss: 2.5128; rmse: 1.7824 - rmse_val: 1.5852;  r2: 0.3345 - r2_val: 0.3336                                                                                                    \n",
      "epoch: 0040, loss: 3.1228 - val_loss: 2.5948; rmse: 1.7444 - rmse_val: 1.6108;  r2: 0.3321 - r2_val: 0.3358                                                                                                    \n",
      "epoch: 0041, loss: 3.0262 - val_loss: 2.4961; rmse: 1.7368 - rmse_val: 1.5799;  r2: 0.3443 - r2_val: 0.3418                                                                                                    \n",
      "epoch: 0042, loss: 3.0199 - val_loss: 2.5171; rmse: 1.7245 - rmse_val: 1.5865;  r2: 0.3513 - r2_val: 0.3466                                                                                                    \n",
      "epoch: 0043, loss: 3.0208 - val_loss: 2.5805; rmse: 1.7213 - rmse_val: 1.6064;  r2: 0.3540 - r2_val: 0.3492                                                                                                    \n",
      "epoch: 0044, loss: 2.9719 - val_loss: 2.4380; rmse: 1.7203 - rmse_val: 1.5614;  r2: 0.3643 - r2_val: 0.3535                                                                                                    \n",
      "epoch: 0045, loss: 2.9338 - val_loss: 2.6256; rmse: 1.7168 - rmse_val: 1.6204;  r2: 0.3620 - r2_val: 0.3554                                                                                                    \n",
      "epoch: 0046, loss: 2.9656 - val_loss: 2.4431; rmse: 1.6946 - rmse_val: 1.5630;  r2: 0.3752 - r2_val: 0.3612                                                                                                    \n",
      "epoch: 0047, loss: 2.8816 - val_loss: 2.4074; rmse: 1.6880 - rmse_val: 1.5516;  r2: 0.3844 - r2_val: 0.3669                                                                                                    \n",
      "epoch: 0048, loss: 2.8341 - val_loss: 2.5292; rmse: 1.6841 - rmse_val: 1.5904;  r2: 0.3858 - r2_val: 0.3703                                                                                                    \n",
      "epoch: 0049, loss: 2.8331 - val_loss: 2.4766; rmse: 1.6692 - rmse_val: 1.5737;  r2: 0.3973 - r2_val: 0.3764                                                                                                    \n",
      "epoch: 0050, loss: 2.7742 - val_loss: 2.3931; rmse: 1.6551 - rmse_val: 1.5470;  r2: 0.4084 - r2_val: 0.3815                                                                                                    \n",
      "epoch: 0051, loss: 2.7304 - val_loss: 2.4016; rmse: 1.6457 - rmse_val: 1.5497;  r2: 0.4167 - r2_val: 0.3869                                                                                                    \n",
      "epoch: 0052, loss: 2.7234 - val_loss: 2.3366; rmse: 1.6369 - rmse_val: 1.5286;  r2: 0.4250 - r2_val: 0.3910                                                                                                    \n",
      "epoch: 0053, loss: 2.6967 - val_loss: 2.3261; rmse: 1.6265 - rmse_val: 1.5252;  r2: 0.4269 - r2_val: 0.3931                                                                                                    \n",
      "epoch: 0054, loss: 2.6898 - val_loss: 2.2875; rmse: 1.6128 - rmse_val: 1.5125;  r2: 0.4419 - r2_val: 0.4018                                                                                                    \n",
      "epoch: 0055, loss: 2.7315 - val_loss: 2.2523; rmse: 1.6089 - rmse_val: 1.5008;  r2: 0.4552 - r2_val: 0.4114                                                                                                    \n",
      "epoch: 0056, loss: 2.6169 - val_loss: 2.2577; rmse: 1.5916 - rmse_val: 1.5026;  r2: 0.4597 - r2_val: 0.4139                                                                                                    \n",
      "epoch: 0057, loss: 2.7863 - val_loss: 2.2384; rmse: 1.5844 - rmse_val: 1.4961;  r2: 0.4628 - r2_val: 0.4140                                                                                                    \n",
      "epoch: 0058, loss: 2.6253 - val_loss: 2.2627; rmse: 1.5735 - rmse_val: 1.5042;  r2: 0.4645 - r2_val: 0.4152                                                                                                    \n",
      "epoch: 0059, loss: 2.5961 - val_loss: 2.2026; rmse: 1.5964 - rmse_val: 1.4841;  r2: 0.4796 - r2_val: 0.4237                                                                                                    \n",
      "epoch: 0060, loss: 2.4525 - val_loss: 2.3148; rmse: 1.5613 - rmse_val: 1.5215;  r2: 0.4769 - r2_val: 0.4242                                                                                                    \n",
      "epoch: 0061, loss: 2.4905 - val_loss: 2.1701; rmse: 1.5486 - rmse_val: 1.4731;  r2: 0.4857 - r2_val: 0.4283                                                                                                    \n",
      "epoch: 0062, loss: 2.3772 - val_loss: 2.2911; rmse: 1.5460 - rmse_val: 1.5136;  r2: 0.4837 - r2_val: 0.4292                                                                                                    \n",
      "epoch: 0063, loss: 2.3681 - val_loss: 2.1353; rmse: 1.5267 - rmse_val: 1.4613;  r2: 0.4997 - r2_val: 0.4378                                                                                                    \n",
      "epoch: 0064, loss: 2.3276 - val_loss: 2.1757; rmse: 1.5107 - rmse_val: 1.4750;  r2: 0.5045 - r2_val: 0.4418                                                                                                    \n",
      "epoch: 0065, loss: 2.2702 - val_loss: 2.1974; rmse: 1.5083 - rmse_val: 1.4824;  r2: 0.5049 - r2_val: 0.4434                                                                                                    \n",
      "epoch: 0066, loss: 2.3491 - val_loss: 2.0680; rmse: 1.5030 - rmse_val: 1.4380;  r2: 0.5081 - r2_val: 0.4470                                                                                                    \n",
      "epoch: 0067, loss: 2.2326 - val_loss: 2.1711; rmse: 1.4901 - rmse_val: 1.4735;  r2: 0.5176 - r2_val: 0.4524                                                                                                    \n",
      "epoch: 0068, loss: 2.2221 - val_loss: 2.0474; rmse: 1.4725 - rmse_val: 1.4309;  r2: 0.5363 - r2_val: 0.4600                                                                                                    \n",
      "epoch: 0069, loss: 2.1712 - val_loss: 2.0760; rmse: 1.4556 - rmse_val: 1.4408;  r2: 0.5405 - r2_val: 0.4628                                                                                                    \n",
      "epoch: 0070, loss: 2.1187 - val_loss: 2.0324; rmse: 1.4479 - rmse_val: 1.4256;  r2: 0.5514 - r2_val: 0.4672                                                                                                    \n",
      "epoch: 0071, loss: 2.0884 - val_loss: 2.0752; rmse: 1.4339 - rmse_val: 1.4406;  r2: 0.5555 - r2_val: 0.4705                                                                                                    \n",
      "epoch: 0072, loss: 2.0523 - val_loss: 2.1174; rmse: 1.4334 - rmse_val: 1.4551;  r2: 0.5597 - r2_val: 0.4741                                                                                                    \n",
      "epoch: 0073, loss: 2.0846 - val_loss: 1.9971; rmse: 1.4510 - rmse_val: 1.4132;  r2: 0.5752 - r2_val: 0.4825                                                                                                    \n",
      "epoch: 0074, loss: 2.0336 - val_loss: 2.0371; rmse: 1.3992 - rmse_val: 1.4273;  r2: 0.5812 - r2_val: 0.4843                                                                                                    \n",
      "epoch: 0075, loss: 1.9387 - val_loss: 2.0097; rmse: 1.3856 - rmse_val: 1.4176;  r2: 0.5872 - r2_val: 0.4879                                                                                                    \n",
      "epoch: 0076, loss: 1.9599 - val_loss: 1.9432; rmse: 1.3712 - rmse_val: 1.3940;  r2: 0.6009 - r2_val: 0.4941                                                                                                    \n",
      "epoch: 0077, loss: 1.9248 - val_loss: 1.9502; rmse: 1.3885 - rmse_val: 1.3965;  r2: 0.6108 - r2_val: 0.4982                                                                                                    \n",
      "epoch: 0078, loss: 1.9061 - val_loss: 2.1147; rmse: 1.3905 - rmse_val: 1.4542;  r2: 0.5967 - r2_val: 0.4915                                                                                                    \n",
      "epoch: 0079, loss: 1.8952 - val_loss: 1.8961; rmse: 1.3371 - rmse_val: 1.3770;  r2: 0.6181 - r2_val: 0.5018                                                                                                    \n",
      "epoch: 0080, loss: 1.7987 - val_loss: 1.9042; rmse: 1.3320 - rmse_val: 1.3799;  r2: 0.6298 - r2_val: 0.5052                                                                                                    \n",
      "epoch: 0081, loss: 1.8044 - val_loss: 2.2763; rmse: 1.4026 - rmse_val: 1.5087;  r2: 0.6207 - r2_val: 0.5018                                                                                                    \n",
      "epoch: 0082, loss: 1.8108 - val_loss: 1.8649; rmse: 1.3091 - rmse_val: 1.3656;  r2: 0.6398 - r2_val: 0.5113                                                                                                    \n",
      "epoch: 0083, loss: 1.7019 - val_loss: 1.8728; rmse: 1.3114 - rmse_val: 1.3685;  r2: 0.6514 - r2_val: 0.5168                                                                                                    \n",
      "epoch: 0084, loss: 1.7252 - val_loss: 1.9597; rmse: 1.2901 - rmse_val: 1.3999;  r2: 0.6480 - r2_val: 0.5144                                                                                                    \n",
      "epoch: 0085, loss: 1.6285 - val_loss: 1.8476; rmse: 1.2596 - rmse_val: 1.3593;  r2: 0.6571 - r2_val: 0.5173                                                                                                    \n",
      "epoch: 0086, loss: 1.5818 - val_loss: 1.8605; rmse: 1.2493 - rmse_val: 1.3640;  r2: 0.6599 - r2_val: 0.5171                                                                                                    \n",
      "epoch: 0087, loss: 1.5606 - val_loss: 1.8337; rmse: 1.2566 - rmse_val: 1.3542;  r2: 0.6745 - r2_val: 0.5225                                                                                                    \n",
      "epoch: 0088, loss: 1.5401 - val_loss: 1.8935; rmse: 1.2912 - rmse_val: 1.3761;  r2: 0.6824 - r2_val: 0.5258                                                                                                    \n",
      "epoch: 0089, loss: 1.7016 - val_loss: 2.0554; rmse: 1.2801 - rmse_val: 1.4337;  r2: 0.6724 - r2_val: 0.5219                                                                                                    \n",
      "epoch: 0090, loss: 1.5045 - val_loss: 1.8302; rmse: 1.1998 - rmse_val: 1.3529;  r2: 0.6949 - r2_val: 0.5335                                                                                                    \n",
      "epoch: 0091, loss: 1.4609 - val_loss: 1.7947; rmse: 1.1982 - rmse_val: 1.3397;  r2: 0.7073 - r2_val: 0.5378                                                                                                    \n",
      "epoch: 0092, loss: 1.3890 - val_loss: 1.7856; rmse: 1.1667 - rmse_val: 1.3363;  r2: 0.7074 - r2_val: 0.5359                                                                                                    \n",
      "epoch: 0093, loss: 1.3597 - val_loss: 1.7944; rmse: 1.1570 - rmse_val: 1.3396;  r2: 0.7114 - r2_val: 0.5386                                                                                                    \n",
      "epoch: 0094, loss: 1.3328 - val_loss: 1.7700; rmse: 1.1341 - rmse_val: 1.3304;  r2: 0.7233 - r2_val: 0.5443                                                                                                    \n",
      "epoch: 0095, loss: 1.2826 - val_loss: 1.7960; rmse: 1.1272 - rmse_val: 1.3401;  r2: 0.7290 - r2_val: 0.5459                                                                                                    \n",
      "epoch: 0096, loss: 1.2499 - val_loss: 1.7222; rmse: 1.0984 - rmse_val: 1.3123;  r2: 0.7391 - r2_val: 0.5499                                                                                                    \n",
      "epoch: 0097, loss: 1.2110 - val_loss: 1.7663; rmse: 1.0935 - rmse_val: 1.3290;  r2: 0.7451 - r2_val: 0.5529                                                                                                    \n",
      "epoch: 0098, loss: 1.2428 - val_loss: 2.0639; rmse: 1.1861 - rmse_val: 1.4366;  r2: 0.7436 - r2_val: 0.5501                                                                                                    \n",
      "epoch: 0099, loss: 1.3190 - val_loss: 1.7319; rmse: 1.1054 - rmse_val: 1.3160;  r2: 0.7656 - r2_val: 0.5606                                                                                                    \n",
      "epoch: 0100, loss: 1.1579 - val_loss: 1.7507; rmse: 1.1152 - rmse_val: 1.3231;  r2: 0.7696 - r2_val: 0.5610                                                                                                    \n",
      "epoch: 0101, loss: 1.2235 - val_loss: 1.7763; rmse: 1.0500 - rmse_val: 1.3328;  r2: 0.7702 - r2_val: 0.5587                                                                                                    \n",
      "epoch: 0102, loss: 1.0863 - val_loss: 1.7406; rmse: 1.0284 - rmse_val: 1.3193;  r2: 0.7782 - r2_val: 0.5634                                                                                                    \n",
      "epoch: 0103, loss: 1.0373 - val_loss: 1.8007; rmse: 1.0531 - rmse_val: 1.3419;  r2: 0.7747 - r2_val: 0.5619                                                                                                    \n",
      "epoch: 0104, loss: 1.0696 - val_loss: 1.7303; rmse: 1.0046 - rmse_val: 1.3154;  r2: 0.7890 - r2_val: 0.5664                                                                                                    \n",
      "epoch: 0105, loss: 1.0445 - val_loss: 1.6737; rmse: 0.9991 - rmse_val: 1.2937;  r2: 0.8004 - r2_val: 0.5677                                                                                                    \n",
      "epoch: 0106, loss: 0.9691 - val_loss: 1.6392; rmse: 0.9589 - rmse_val: 1.2803;  r2: 0.8047 - r2_val: 0.5729                                                                                                    \n",
      "epoch: 0107, loss: 0.9179 - val_loss: 1.7228; rmse: 0.9678 - rmse_val: 1.3126;  r2: 0.8067 - r2_val: 0.5727                                                                                                    \n",
      "epoch: 0108, loss: 0.9541 - val_loss: 1.6779; rmse: 0.9417 - rmse_val: 1.2953;  r2: 0.8139 - r2_val: 0.5759                                                                                                    \n",
      "epoch: 0109, loss: 0.9352 - val_loss: 1.6110; rmse: 0.9138 - rmse_val: 1.2693;  r2: 0.8232 - r2_val: 0.5789                                                                                                    \n",
      "epoch: 0110, loss: 0.8283 - val_loss: 1.5955; rmse: 0.9010 - rmse_val: 1.2631;  r2: 0.8276 - r2_val: 0.5794                                                                                                    \n",
      "epoch: 0111, loss: 0.8373 - val_loss: 1.6099; rmse: 0.9222 - rmse_val: 1.2688;  r2: 0.8336 - r2_val: 0.5804                                                                                                    \n",
      "epoch: 0112, loss: 0.8297 - val_loss: 1.5904; rmse: 0.8841 - rmse_val: 1.2611;  r2: 0.8390 - r2_val: 0.5824                                                                                                    \n",
      "epoch: 0113, loss: 0.7866 - val_loss: 1.5778; rmse: 0.8649 - rmse_val: 1.2561;  r2: 0.8438 - r2_val: 0.5850                                                                                                    \n",
      "epoch: 0114, loss: 0.7459 - val_loss: 1.5912; rmse: 0.8550 - rmse_val: 1.2614;  r2: 0.8508 - r2_val: 0.5847                                                                                                    \n",
      "epoch: 0115, loss: 0.7158 - val_loss: 1.7273; rmse: 0.9672 - rmse_val: 1.3143;  r2: 0.8531 - r2_val: 0.5801                                                                                                    \n",
      "epoch: 0116, loss: 0.8778 - val_loss: 1.7225; rmse: 0.9692 - rmse_val: 1.3124;  r2: 0.8565 - r2_val: 0.5842                                                                                                    \n",
      "epoch: 0117, loss: 0.7995 - val_loss: 1.5709; rmse: 0.8133 - rmse_val: 1.2534;  r2: 0.8608 - r2_val: 0.5864                                                                                                    \n",
      "epoch: 0118, loss: 0.6815 - val_loss: 1.6039; rmse: 0.8240 - rmse_val: 1.2664;  r2: 0.8657 - r2_val: 0.5824                                                                                                    \n",
      "epoch: 0119, loss: 0.6474 - val_loss: 1.5742; rmse: 0.8169 - rmse_val: 1.2547;  r2: 0.8686 - r2_val: 0.5861                                                                                                    \n",
      "epoch: 0120, loss: 0.6595 - val_loss: 1.5621; rmse: 0.7744 - rmse_val: 1.2498;  r2: 0.8728 - r2_val: 0.5874                                                                                                    \n",
      "epoch: 0121, loss: 0.6107 - val_loss: 1.6291; rmse: 0.7672 - rmse_val: 1.2764;  r2: 0.8775 - r2_val: 0.5871                                                                                                    \n",
      "epoch: 0122, loss: 0.5818 - val_loss: 1.7476; rmse: 0.8104 - rmse_val: 1.3220;  r2: 0.8782 - r2_val: 0.5884                                                                                                    \n",
      "epoch: 0123, loss: 0.5953 - val_loss: 1.8630; rmse: 0.8611 - rmse_val: 1.3649;  r2: 0.8791 - r2_val: 0.5891                                                                                                    \n",
      "epoch: 0124, loss: 0.6235 - val_loss: 1.5685; rmse: 0.7209 - rmse_val: 1.2524;  r2: 0.8889 - r2_val: 0.5925                                                                                                    \n",
      "epoch: 0125, loss: 0.5288 - val_loss: 1.5982; rmse: 0.7204 - rmse_val: 1.2642;  r2: 0.8914 - r2_val: 0.5937                                                                                                    \n",
      "epoch: 0126, loss: 0.5217 - val_loss: 1.5386; rmse: 0.6973 - rmse_val: 1.2404;  r2: 0.8964 - r2_val: 0.5935                                                                                                    \n",
      "epoch: 0127, loss: 0.4921 - val_loss: 1.5621; rmse: 0.7605 - rmse_val: 1.2498;  r2: 0.8986 - r2_val: 0.5943                                                                                                    \n",
      "epoch: 0128, loss: 0.5325 - val_loss: 1.6020; rmse: 0.7794 - rmse_val: 1.2657;  r2: 0.9030 - r2_val: 0.5903                                                                                                    \n",
      "epoch: 0129, loss: 0.5331 - val_loss: 1.5968; rmse: 0.6805 - rmse_val: 1.2637;  r2: 0.9047 - r2_val: 0.5977                                                                                                    \n",
      "epoch: 0130, loss: 0.4886 - val_loss: 1.7551; rmse: 0.7473 - rmse_val: 1.3248;  r2: 0.9046 - r2_val: 0.5965                                                                                                    \n",
      "epoch: 0131, loss: 0.5389 - val_loss: 1.5391; rmse: 0.6419 - rmse_val: 1.2406;  r2: 0.9135 - r2_val: 0.5966                                                                                                    \n",
      "epoch: 0132, loss: 0.4775 - val_loss: 1.5311; rmse: 0.6812 - rmse_val: 1.2374;  r2: 0.9151 - r2_val: 0.5963                                                                                                    \n",
      "epoch: 0133, loss: 0.4386 - val_loss: 1.7890; rmse: 0.8942 - rmse_val: 1.3376;  r2: 0.9113 - r2_val: 0.5810                                                                                                    \n",
      "epoch: 0134, loss: 0.5498 - val_loss: 1.5133; rmse: 0.6623 - rmse_val: 1.2301;  r2: 0.9189 - r2_val: 0.5992                                                                                                    \n",
      "epoch: 0135, loss: 0.3983 - val_loss: 1.5524; rmse: 0.6107 - rmse_val: 1.2460;  r2: 0.9211 - r2_val: 0.5988                                                                                                    \n",
      "epoch: 0136, loss: 0.4060 - val_loss: 1.5246; rmse: 0.5972 - rmse_val: 1.2347;  r2: 0.9226 - r2_val: 0.5976                                                                                                    \n",
      "epoch: 0137, loss: 0.3595 - val_loss: 1.5151; rmse: 0.5889 - rmse_val: 1.2309;  r2: 0.9243 - r2_val: 0.5984                                                                                                    \n",
      "epoch: 0138, loss: 0.3447 - val_loss: 1.5714; rmse: 0.5881 - rmse_val: 1.2535;  r2: 0.9281 - r2_val: 0.5992                                                                                                    \n",
      "epoch: 0139, loss: 0.3396 - val_loss: 1.5093; rmse: 0.5928 - rmse_val: 1.2286;  r2: 0.9315 - r2_val: 0.5987                                                                                                    \n",
      "epoch: 0140, loss: 0.3782 - val_loss: 1.5210; rmse: 0.5902 - rmse_val: 1.2333;  r2: 0.9336 - r2_val: 0.5964                                                                                                    \n",
      "epoch: 0141, loss: 0.3264 - val_loss: 1.5110; rmse: 0.5577 - rmse_val: 1.2292;  r2: 0.9333 - r2_val: 0.5989                                                                                                    \n",
      "epoch: 0142, loss: 0.3069 - val_loss: 1.6438; rmse: 0.5897 - rmse_val: 1.2821;  r2: 0.9367 - r2_val: 0.6005                                                                                                    \n",
      "epoch: 0143, loss: 0.3301 - val_loss: 1.6117; rmse: 0.5804 - rmse_val: 1.2695;  r2: 0.9370 - r2_val: 0.6036                                                                                                    \n",
      "epoch: 0144, loss: 0.3219 - val_loss: 1.4925; rmse: 0.5269 - rmse_val: 1.2217;  r2: 0.9409 - r2_val: 0.6053                                                                                                    \n",
      "epoch: 0145, loss: 0.2879 - val_loss: 1.5032; rmse: 0.5241 - rmse_val: 1.2260;  r2: 0.9418 - r2_val: 0.6038                                                                                                    \n",
      "epoch: 0146, loss: 0.2724 - val_loss: 1.4930; rmse: 0.5101 - rmse_val: 1.2219;  r2: 0.9434 - r2_val: 0.6074                                                                                                    \n",
      "epoch: 0147, loss: 0.2635 - val_loss: 1.4771; rmse: 0.5511 - rmse_val: 1.2154;  r2: 0.9459 - r2_val: 0.6070                                                                                                    \n",
      "epoch: 0148, loss: 0.2775 - val_loss: 1.5363; rmse: 0.5074 - rmse_val: 1.2395;  r2: 0.9470 - r2_val: 0.6086                                                                                                    \n",
      "epoch: 0149, loss: 0.2762 - val_loss: 1.4722; rmse: 0.4864 - rmse_val: 1.2134;  r2: 0.9489 - r2_val: 0.6102                                                                                                    \n",
      "epoch: 0150, loss: 0.2663 - val_loss: 1.4587; rmse: 0.5227 - rmse_val: 1.2078;  r2: 0.9504 - r2_val: 0.6105                                                                                                    \n",
      "epoch: 0151, loss: 0.2567 - val_loss: 1.5257; rmse: 0.4804 - rmse_val: 1.2352;  r2: 0.9511 - r2_val: 0.6067                                                                                                    \n",
      "epoch: 0152, loss: 0.2276 - val_loss: 1.5020; rmse: 0.4703 - rmse_val: 1.2256;  r2: 0.9523 - r2_val: 0.6090                                                                                                    \n",
      "epoch: 0153, loss: 0.2157 - val_loss: 1.4787; rmse: 0.4616 - rmse_val: 1.2160;  r2: 0.9551 - r2_val: 0.6055                                                                                                    \n",
      "epoch: 0154, loss: 0.2107 - val_loss: 1.4834; rmse: 0.4489 - rmse_val: 1.2180;  r2: 0.9564 - r2_val: 0.6078                                                                                                    \n",
      "epoch: 0155, loss: 0.2074 - val_loss: 1.4875; rmse: 0.4428 - rmse_val: 1.2196;  r2: 0.9580 - r2_val: 0.6070                                                                                                    \n",
      "epoch: 0156, loss: 0.2085 - val_loss: 1.5064; rmse: 0.5378 - rmse_val: 1.2274;  r2: 0.9586 - r2_val: 0.6040                                                                                                    \n",
      "epoch: 0157, loss: 0.2429 - val_loss: 1.5408; rmse: 0.4662 - rmse_val: 1.2413;  r2: 0.9575 - r2_val: 0.6104                                                                                                    \n",
      "epoch: 0158, loss: 0.2081 - val_loss: 1.5296; rmse: 0.4404 - rmse_val: 1.2368;  r2: 0.9606 - r2_val: 0.6089                                                                                                    \n",
      "epoch: 0159, loss: 0.1929 - val_loss: 1.5086; rmse: 0.4212 - rmse_val: 1.2283;  r2: 0.9621 - r2_val: 0.6068                                                                                                    \n",
      "epoch: 0160, loss: 0.1759 - val_loss: 1.5333; rmse: 0.4289 - rmse_val: 1.2383;  r2: 0.9625 - r2_val: 0.6070                                                                                                    \n",
      "epoch: 0161, loss: 0.1801 - val_loss: 1.4728; rmse: 0.4388 - rmse_val: 1.2136;  r2: 0.9640 - r2_val: 0.6053                                                                                                    \n",
      "epoch: 0162, loss: 0.1916 - val_loss: 1.4773; rmse: 0.4003 - rmse_val: 1.2154;  r2: 0.9656 - r2_val: 0.6083                                                                                                    \n",
      "epoch: 0163, loss: 0.1697 - val_loss: 1.5195; rmse: 0.4069 - rmse_val: 1.2327;  r2: 0.9665 - r2_val: 0.6102                                                                                                    \n",
      "epoch: 0164, loss: 0.1595 - val_loss: 1.4588; rmse: 0.4323 - rmse_val: 1.2078;  r2: 0.9675 - r2_val: 0.6097                                                                                                    \n",
      "epoch: 0165, loss: 0.1801 - val_loss: 1.5819; rmse: 0.4419 - rmse_val: 1.2577;  r2: 0.9667 - r2_val: 0.6111                                                                                                    \n",
      "epoch: 0166, loss: 0.1962 - val_loss: 1.5725; rmse: 0.4272 - rmse_val: 1.2540;  r2: 0.9679 - r2_val: 0.6096                                                                                                    \n",
      "epoch: 0167, loss: 0.1727 - val_loss: 1.4555; rmse: 0.4039 - rmse_val: 1.2064;  r2: 0.9688 - r2_val: 0.6090                                                                                                    \n",
      "epoch: 0168, loss: 0.1505 - val_loss: 1.5132; rmse: 0.3822 - rmse_val: 1.2301;  r2: 0.9702 - r2_val: 0.6107                                                                                                    \n",
      "epoch: 0169, loss: 0.1407 - val_loss: 1.4839; rmse: 0.3656 - rmse_val: 1.2181;  r2: 0.9711 - r2_val: 0.6108                                                                                                    \n",
      "epoch: 0170, loss: 0.1337 - val_loss: 1.4627; rmse: 0.3639 - rmse_val: 1.2094;  r2: 0.9723 - r2_val: 0.6099                                                                                                    \n",
      "epoch: 0171, loss: 0.1290 - val_loss: 1.4907; rmse: 0.3594 - rmse_val: 1.2209;  r2: 0.9726 - r2_val: 0.6123                                                                                                    \n",
      "epoch: 0172, loss: 0.1293 - val_loss: 1.4599; rmse: 0.3502 - rmse_val: 1.2082;  r2: 0.9735 - r2_val: 0.6116                                                                                                    \n",
      "epoch: 0173, loss: 0.1308 - val_loss: 1.4971; rmse: 0.3488 - rmse_val: 1.2235;  r2: 0.9741 - r2_val: 0.6099                                                                                                    \n",
      "epoch: 0174, loss: 0.1298 - val_loss: 1.4534; rmse: 0.3539 - rmse_val: 1.2056;  r2: 0.9750 - r2_val: 0.6109                                                                                                    \n",
      "epoch: 0175, loss: 0.1287 - val_loss: 1.5393; rmse: 0.3860 - rmse_val: 1.2407;  r2: 0.9737 - r2_val: 0.6145                                                                                                    \n",
      "epoch: 0176, loss: 0.1411 - val_loss: 1.4722; rmse: 0.3972 - rmse_val: 1.2133;  r2: 0.9754 - r2_val: 0.6066                                                                                                    \n",
      "epoch: 0177, loss: 0.1382 - val_loss: 1.4882; rmse: 0.3371 - rmse_val: 1.2199;  r2: 0.9754 - r2_val: 0.6103                                                                                                    \n",
      "epoch: 0178, loss: 0.1173 - val_loss: 1.4835; rmse: 0.3262 - rmse_val: 1.2180;  r2: 0.9770 - r2_val: 0.6066                                                                                                    \n",
      "epoch: 0179, loss: 0.1063 - val_loss: 1.5823; rmse: 0.3920 - rmse_val: 1.2579;  r2: 0.9765 - r2_val: 0.6111                                                                                                    \n",
      "epoch: 0180, loss: 0.1321 - val_loss: 1.4990; rmse: 0.3224 - rmse_val: 1.2243;  r2: 0.9784 - r2_val: 0.6106                                                                                                    \n",
      "epoch: 0181, loss: 0.1026 - val_loss: 1.4663; rmse: 0.3128 - rmse_val: 1.2109;  r2: 0.9788 - r2_val: 0.6103                                                                                                    \n",
      "epoch: 0182, loss: 0.1018 - val_loss: 1.5772; rmse: 0.3730 - rmse_val: 1.2559;  r2: 0.9786 - r2_val: 0.6105                                                                                                    \n",
      "epoch: 0183, loss: 0.1160 - val_loss: 1.4925; rmse: 0.4125 - rmse_val: 1.2217;  r2: 0.9787 - r2_val: 0.6031                                                                                                    \n",
      "epoch: 0184, loss: 0.1218 - val_loss: 1.5583; rmse: 0.3512 - rmse_val: 1.2483;  r2: 0.9796 - r2_val: 0.6102                                                                                                    \n",
      "epoch: 0185, loss: 0.1089 - val_loss: 1.4796; rmse: 0.2956 - rmse_val: 1.2164;  r2: 0.9808 - r2_val: 0.6086                                                                                                    \n",
      "epoch: 0186, loss: 0.0889 - val_loss: 1.5467; rmse: 0.3482 - rmse_val: 1.2437;  r2: 0.9797 - r2_val: 0.6109                                                                                                    \n",
      "epoch: 0187, loss: 0.1026 - val_loss: 1.4797; rmse: 0.3290 - rmse_val: 1.2164;  r2: 0.9812 - r2_val: 0.6033                                                                                                    \n",
      "epoch: 0188, loss: 0.0974 - val_loss: 1.5015; rmse: 0.2975 - rmse_val: 1.2253;  r2: 0.9821 - r2_val: 0.6115                                                                                                    \n",
      "epoch: 0189, loss: 0.0856 - val_loss: 1.4874; rmse: 0.2855 - rmse_val: 1.2196;  r2: 0.9828 - r2_val: 0.6120                                                                                                    \n",
      "epoch: 0190, loss: 0.0823 - val_loss: 1.4600; rmse: 0.3345 - rmse_val: 1.2083;  r2: 0.9830 - r2_val: 0.6083                                                                                                    \n",
      "epoch: 0191, loss: 0.0986 - val_loss: 1.5719; rmse: 0.3466 - rmse_val: 1.2538;  r2: 0.9828 - r2_val: 0.6113                                                                                                    \n",
      "epoch: 0192, loss: 0.0929 - val_loss: 1.4546; rmse: 0.3303 - rmse_val: 1.2061;  r2: 0.9839 - r2_val: 0.6097                                                                                                    \n",
      "epoch: 0193, loss: 0.0893 - val_loss: 1.5228; rmse: 0.3036 - rmse_val: 1.2340;  r2: 0.9840 - r2_val: 0.6145                                                                                                    \n",
      "epoch: 0194, loss: 0.0826 - val_loss: 1.4411; rmse: 0.3005 - rmse_val: 1.2005;  r2: 0.9848 - r2_val: 0.6133                                                                                                    \n",
      "epoch: 0195, loss: 0.0783 - val_loss: 1.4613; rmse: 0.2616 - rmse_val: 1.2088;  r2: 0.9850 - r2_val: 0.6146                                                                                                    \n",
      "epoch: 0196, loss: 0.0700 - val_loss: 1.4659; rmse: 0.2576 - rmse_val: 1.2107;  r2: 0.9854 - r2_val: 0.6131                                                                                                    \n",
      "epoch: 0197, loss: 0.0663 - val_loss: 1.4623; rmse: 0.2543 - rmse_val: 1.2093;  r2: 0.9859 - r2_val: 0.6119                                                                                                    \n",
      "epoch: 0198, loss: 0.0647 - val_loss: 1.4704; rmse: 0.2506 - rmse_val: 1.2126;  r2: 0.9863 - r2_val: 0.6116                                                                                                    \n",
      "epoch: 0199, loss: 0.0648 - val_loss: 1.4488; rmse: 0.2576 - rmse_val: 1.2036;  r2: 0.9867 - r2_val: 0.6128                                                                                                    \n",
      "epoch: 0200, loss: 0.0643 - val_loss: 1.4916; rmse: 0.2585 - rmse_val: 1.2213;  r2: 0.9868 - r2_val: 0.6137                                                                                                    \n",
      "epoch: 0201, loss: 0.0630 - val_loss: 1.4597; rmse: 0.2424 - rmse_val: 1.2082;  r2: 0.9873 - r2_val: 0.6128                                                                                                    \n",
      "epoch: 0202, loss: 0.0598 - val_loss: 1.4470; rmse: 0.2488 - rmse_val: 1.2029;  r2: 0.9875 - r2_val: 0.6132                                                                                                    \n",
      "epoch: 0203, loss: 0.0601 - val_loss: 1.4718; rmse: 0.2409 - rmse_val: 1.2132;  r2: 0.9877 - r2_val: 0.6149                                                                                                    \n",
      "epoch: 0204, loss: 0.0580 - val_loss: 1.4651; rmse: 0.2356 - rmse_val: 1.2104;  r2: 0.9880 - r2_val: 0.6151                                                                                                    \n",
      "epoch: 0205, loss: 0.0586 - val_loss: 1.4383; rmse: 0.2589 - rmse_val: 1.1993;  r2: 0.9884 - r2_val: 0.6143                                                                                                    \n",
      "epoch: 0206, loss: 0.0598 - val_loss: 1.4672; rmse: 0.2341 - rmse_val: 1.2113;  r2: 0.9884 - r2_val: 0.6158                                                                                                    \n",
      "epoch: 0207, loss: 0.0542 - val_loss: 1.4707; rmse: 0.2298 - rmse_val: 1.2127;  r2: 0.9887 - r2_val: 0.6141                                                                                                    \n",
      "epoch: 0208, loss: 0.0559 - val_loss: 1.4412; rmse: 0.2663 - rmse_val: 1.2005;  r2: 0.9888 - r2_val: 0.6128                                                                                                    \n",
      "epoch: 0209, loss: 0.0587 - val_loss: 1.4841; rmse: 0.2392 - rmse_val: 1.2182;  r2: 0.9890 - r2_val: 0.6158                                                                                                    \n",
      "epoch: 0210, loss: 0.0539 - val_loss: 1.4594; rmse: 0.2225 - rmse_val: 1.2081;  r2: 0.9893 - r2_val: 0.6163                                                                                                    \n",
      "epoch: 0211, loss: 0.0502 - val_loss: 1.4816; rmse: 0.2281 - rmse_val: 1.2172;  r2: 0.9897 - r2_val: 0.6149                                                                                                    \n",
      "epoch: 0212, loss: 0.0524 - val_loss: 1.5159; rmse: 0.2541 - rmse_val: 1.2312;  r2: 0.9899 - r2_val: 0.6147                                                                                                    \n",
      "epoch: 0213, loss: 0.0594 - val_loss: 1.4745; rmse: 0.2267 - rmse_val: 1.2143;  r2: 0.9896 - r2_val: 0.6150                                                                                                    \n",
      "epoch: 0214, loss: 0.0594 - val_loss: 1.4343; rmse: 0.2453 - rmse_val: 1.1976;  r2: 0.9893 - r2_val: 0.6150                                                                                                    \n",
      "epoch: 0215, loss: 0.0509 - val_loss: 1.4493; rmse: 0.2222 - rmse_val: 1.2039;  r2: 0.9897 - r2_val: 0.6205                                                                                                    \n",
      "epoch: 0216, loss: 0.0463 - val_loss: 1.4840; rmse: 0.2267 - rmse_val: 1.2182;  r2: 0.9905 - r2_val: 0.6165                                                                                                    \n",
      "epoch: 0217, loss: 0.0482 - val_loss: 1.4319; rmse: 0.2525 - rmse_val: 1.1966;  r2: 0.9904 - r2_val: 0.6155                                                                                                    \n",
      "epoch: 0218, loss: 0.0547 - val_loss: 1.4770; rmse: 0.2157 - rmse_val: 1.2153;  r2: 0.9906 - r2_val: 0.6149                                                                                                    \n",
      "epoch: 0219, loss: 0.0543 - val_loss: 1.4707; rmse: 0.2183 - rmse_val: 1.2127;  r2: 0.9902 - r2_val: 0.6147                                                                                                    \n",
      "epoch: 0220, loss: 0.0476 - val_loss: 1.4807; rmse: 0.2066 - rmse_val: 1.2168;  r2: 0.9910 - r2_val: 0.6097                                                                                                    \n",
      "epoch: 0221, loss: 0.0444 - val_loss: 1.4392; rmse: 0.2160 - rmse_val: 1.1997;  r2: 0.9909 - r2_val: 0.6142                                                                                                    \n",
      "epoch: 0222, loss: 0.0426 - val_loss: 1.4736; rmse: 0.2017 - rmse_val: 1.2139;  r2: 0.9915 - r2_val: 0.6139                                                                                                    \n",
      "epoch: 0223, loss: 0.0394 - val_loss: 1.4468; rmse: 0.1956 - rmse_val: 1.2028;  r2: 0.9916 - r2_val: 0.6178                                                                                                    \n",
      "epoch: 0224, loss: 0.0384 - val_loss: 1.4681; rmse: 0.1928 - rmse_val: 1.2117;  r2: 0.9921 - r2_val: 0.6147                                                                                                    \n",
      "epoch: 0225, loss: 0.0370 - val_loss: 1.4544; rmse: 0.1884 - rmse_val: 1.2060;  r2: 0.9922 - r2_val: 0.6158                                                                                                    \n",
      "epoch: 0226, loss: 0.0351 - val_loss: 1.4767; rmse: 0.1934 - rmse_val: 1.2152;  r2: 0.9926 - r2_val: 0.6147                                                                                                    \n",
      "epoch: 0227, loss: 0.0355 - val_loss: 1.4464; rmse: 0.3234 - rmse_val: 1.2026;  r2: 0.9921 - r2_val: 0.6152                                                                                                    \n",
      "epoch: 0228, loss: 0.0626 - val_loss: 1.4425; rmse: 0.1861 - rmse_val: 1.2010;  r2: 0.9927 - r2_val: 0.6151                                                                                                    \n",
      "epoch: 0229, loss: 0.0505 - val_loss: 1.5161; rmse: 0.2223 - rmse_val: 1.2313;  r2: 0.9925 - r2_val: 0.6120                                                                                                    \n",
      "epoch: 0230, loss: 0.0433 - val_loss: 1.4714; rmse: 0.1825 - rmse_val: 1.2130;  r2: 0.9928 - r2_val: 0.6115                                                                                                    \n",
      "epoch: 0231, loss: 0.0369 - val_loss: 1.4441; rmse: 0.1909 - rmse_val: 1.2017;  r2: 0.9930 - r2_val: 0.6133                                                                                                    \n",
      "epoch: 0232, loss: 0.0344 - val_loss: 1.4476; rmse: 0.1844 - rmse_val: 1.2032;  r2: 0.9932 - r2_val: 0.6132                                                                                                    \n",
      "epoch: 0233, loss: 0.0312 - val_loss: 1.4528; rmse: 0.1735 - rmse_val: 1.2053;  r2: 0.9934 - r2_val: 0.6154                                                                                                    \n",
      "epoch: 0234, loss: 0.0300 - val_loss: 1.4885; rmse: 0.1921 - rmse_val: 1.2200;  r2: 0.9935 - r2_val: 0.6144                                                                                                    \n",
      "epoch: 0235, loss: 0.0321 - val_loss: 1.4535; rmse: 0.1719 - rmse_val: 1.2056;  r2: 0.9936 - r2_val: 0.6161                                                                                                    \n",
      "epoch: 0236, loss: 0.0300 - val_loss: 1.4334; rmse: 0.2028 - rmse_val: 1.1973;  r2: 0.9938 - r2_val: 0.6151                                                                                                    \n",
      "epoch: 0237, loss: 0.0346 - val_loss: 1.4417; rmse: 0.1668 - rmse_val: 1.2007;  r2: 0.9940 - r2_val: 0.6162                                                                                                    \n",
      "epoch: 0238, loss: 0.0289 - val_loss: 1.4600; rmse: 0.1689 - rmse_val: 1.2083;  r2: 0.9941 - r2_val: 0.6165                                                                                                    \n",
      "epoch: 0239, loss: 0.0272 - val_loss: 1.4492; rmse: 0.1614 - rmse_val: 1.2038;  r2: 0.9943 - r2_val: 0.6165                                                                                                    \n",
      "epoch: 0240, loss: 0.0262 - val_loss: 1.4362; rmse: 0.1684 - rmse_val: 1.1984;  r2: 0.9944 - r2_val: 0.6161                                                                                                    \n",
      "epoch: 0241, loss: 0.0267 - val_loss: 1.4324; rmse: 0.1693 - rmse_val: 1.1968;  r2: 0.9945 - r2_val: 0.6165                                                                                                    \n",
      "epoch: 0242, loss: 0.0270 - val_loss: 1.4446; rmse: 0.1577 - rmse_val: 1.2019;  r2: 0.9946 - r2_val: 0.6156                                                                                                    \n",
      "epoch: 0243, loss: 0.0255 - val_loss: 1.4873; rmse: 0.1792 - rmse_val: 1.2195;  r2: 0.9947 - r2_val: 0.6148                                                                                                    \n",
      "epoch: 0244, loss: 0.0291 - val_loss: 1.4382; rmse: 0.1597 - rmse_val: 1.1993;  r2: 0.9944 - r2_val: 0.6172                                                                                                    \n",
      "epoch: 0245, loss: 0.0259 - val_loss: 1.4388; rmse: 0.1712 - rmse_val: 1.1995;  r2: 0.9946 - r2_val: 0.6154                                                                                                    \n",
      "epoch: 0246, loss: 0.0257 - val_loss: 1.4202; rmse: 0.1740 - rmse_val: 1.1917;  r2: 0.9948 - r2_val: 0.6189                                                                                                    \n",
      "epoch: 0247, loss: 0.0268 - val_loss: 1.4767; rmse: 0.1655 - rmse_val: 1.2152;  r2: 0.9948 - r2_val: 0.6148                                                                                                    \n",
      "epoch: 0248, loss: 0.0258 - val_loss: 1.4587; rmse: 0.1618 - rmse_val: 1.2078;  r2: 0.9947 - r2_val: 0.6171                                                                                                    \n",
      "epoch: 0249, loss: 0.0231 - val_loss: 1.4541; rmse: 0.1480 - rmse_val: 1.2059;  r2: 0.9952 - r2_val: 0.6154                                                                                                    \n",
      "epoch: 0250, loss: 0.0227 - val_loss: 1.4265; rmse: 0.1508 - rmse_val: 1.1943;  r2: 0.9954 - r2_val: 0.6190                                                                                                    \n",
      "epoch: 0251, loss: 0.0229 - val_loss: 1.4324; rmse: 0.1485 - rmse_val: 1.1968;  r2: 0.9955 - r2_val: 0.6178                                                                                                    \n",
      "epoch: 0252, loss: 0.0214 - val_loss: 1.4412; rmse: 0.1415 - rmse_val: 1.2005;  r2: 0.9956 - r2_val: 0.6173                                                                                                    \n",
      "epoch: 0253, loss: 0.0220 - val_loss: 1.4270; rmse: 0.1655 - rmse_val: 1.1946;  r2: 0.9956 - r2_val: 0.6172                                                                                                    \n",
      "epoch: 0254, loss: 0.0239 - val_loss: 1.4452; rmse: 0.1422 - rmse_val: 1.2021;  r2: 0.9957 - r2_val: 0.6158                                                                                                    \n",
      "epoch: 0255, loss: 0.0207 - val_loss: 1.4606; rmse: 0.1494 - rmse_val: 1.2086;  r2: 0.9956 - r2_val: 0.6172                                                                                                    \n",
      "epoch: 0256, loss: 0.0212 - val_loss: 1.4709; rmse: 0.1420 - rmse_val: 1.2128;  r2: 0.9960 - r2_val: 0.6144                                                                                                    \n",
      "epoch: 0257, loss: 0.0190 - val_loss: 1.4744; rmse: 0.1537 - rmse_val: 1.2143;  r2: 0.9960 - r2_val: 0.6166                                                                                                    \n",
      "epoch: 0258, loss: 0.0207 - val_loss: 1.4599; rmse: 0.1426 - rmse_val: 1.2082;  r2: 0.9961 - r2_val: 0.6175                                                                                                    \n",
      "epoch: 0259, loss: 0.0186 - val_loss: 1.4473; rmse: 0.1309 - rmse_val: 1.2031;  r2: 0.9962 - r2_val: 0.6171                                                                                                    \n",
      "epoch: 0260, loss: 0.0172 - val_loss: 1.4288; rmse: 0.1587 - rmse_val: 1.1953;  r2: 0.9962 - r2_val: 0.6167                                                                                                    \n",
      "epoch: 0261, loss: 0.0204 - val_loss: 1.4412; rmse: 0.1319 - rmse_val: 1.2005;  r2: 0.9963 - r2_val: 0.6163                                                                                                    \n",
      "epoch: 0262, loss: 0.0175 - val_loss: 1.4422; rmse: 0.1300 - rmse_val: 1.2009;  r2: 0.9965 - r2_val: 0.6158                                                                                                    \n",
      "epoch: 0263, loss: 0.0167 - val_loss: 1.4338; rmse: 0.1489 - rmse_val: 1.1974;  r2: 0.9965 - r2_val: 0.6158                                                                                                    \n",
      "epoch: 0264, loss: 0.0194 - val_loss: 1.4437; rmse: 0.1324 - rmse_val: 1.2015;  r2: 0.9966 - r2_val: 0.6150                                                                                                    \n",
      "epoch: 0265, loss: 0.0169 - val_loss: 1.4586; rmse: 0.1312 - rmse_val: 1.2077;  r2: 0.9965 - r2_val: 0.6164                                                                                                    \n",
      "epoch: 0266, loss: 0.0166 - val_loss: 1.4638; rmse: 0.1268 - rmse_val: 1.2099;  r2: 0.9966 - r2_val: 0.6148                                                                                                    \n",
      "epoch: 0267, loss: 0.0154 - val_loss: 1.4318; rmse: 0.2069 - rmse_val: 1.1966;  r2: 0.9964 - r2_val: 0.6151                                                                                                    \n",
      "epoch: 0268, loss: 0.0278 - val_loss: 1.4498; rmse: 0.1651 - rmse_val: 1.2041;  r2: 0.9963 - r2_val: 0.6108                                                                                                    \n",
      "epoch: 0269, loss: 0.0208 - val_loss: 1.4392; rmse: 0.1416 - rmse_val: 1.1997;  r2: 0.9967 - r2_val: 0.6147                                                                                                    \n",
      "epoch: 0270, loss: 0.0205 - val_loss: 1.4661; rmse: 0.1262 - rmse_val: 1.2108;  r2: 0.9967 - r2_val: 0.6145                                                                                                    \n",
      "epoch: 0271, loss: 0.0175 - val_loss: 1.5057; rmse: 0.1924 - rmse_val: 1.2271;  r2: 0.9963 - r2_val: 0.6175                                                                                                    \n",
      "epoch: 0272, loss: 0.0243 - val_loss: 1.4708; rmse: 0.1384 - rmse_val: 1.2128;  r2: 0.9968 - r2_val: 0.6176                                                                                                    \n",
      "epoch: 0273, loss: 0.0173 - val_loss: 1.4320; rmse: 0.1251 - rmse_val: 1.1967;  r2: 0.9967 - r2_val: 0.6190                                                                                                    \n",
      "epoch: 0274, loss: 0.0150 - val_loss: 1.4564; rmse: 0.1196 - rmse_val: 1.2068;  r2: 0.9969 - r2_val: 0.6154                                                                                                    \n",
      "epoch: 0275, loss: 0.0142 - val_loss: 1.4353; rmse: 0.1318 - rmse_val: 1.1980;  r2: 0.9969 - r2_val: 0.6162                                                                                                    \n",
      "epoch: 0276, loss: 0.0152 - val_loss: 1.4689; rmse: 0.1259 - rmse_val: 1.2120;  r2: 0.9970 - r2_val: 0.6157                                                                                                    \n",
      "epoch: 0277, loss: 0.0146 - val_loss: 1.4614; rmse: 0.1231 - rmse_val: 1.2089;  r2: 0.9971 - r2_val: 0.6167                                                                                                    \n",
      "epoch: 0278, loss: 0.0142 - val_loss: 1.4528; rmse: 0.1129 - rmse_val: 1.2053;  r2: 0.9972 - r2_val: 0.6162                                                                                                    \n",
      "epoch: 0279, loss: 0.0132 - val_loss: 1.4613; rmse: 0.1180 - rmse_val: 1.2088;  r2: 0.9973 - r2_val: 0.6166                                                                                                    \n",
      "epoch: 0280, loss: 0.0136 - val_loss: 1.4428; rmse: 0.1108 - rmse_val: 1.2012;  r2: 0.9973 - r2_val: 0.6176                                                                                                    \n",
      "epoch: 0281, loss: 0.0126 - val_loss: 1.4455; rmse: 0.1201 - rmse_val: 1.2023;  r2: 0.9973 - r2_val: 0.6146                                                                                                    \n",
      "epoch: 0282, loss: 0.0143 - val_loss: 1.4335; rmse: 0.1251 - rmse_val: 1.1973;  r2: 0.9974 - r2_val: 0.6164                                                                                                    \n",
      "epoch: 0283, loss: 0.0127 - val_loss: 1.4446; rmse: 0.1072 - rmse_val: 1.2019;  r2: 0.9975 - r2_val: 0.6162                                                                                                    \n",
      "epoch: 0284, loss: 0.0122 - val_loss: 1.4441; rmse: 0.1108 - rmse_val: 1.2017;  r2: 0.9975 - r2_val: 0.6157                                                                                                    \n",
      "epoch: 0285, loss: 0.0118 - val_loss: 1.4468; rmse: 0.1058 - rmse_val: 1.2028;  r2: 0.9976 - r2_val: 0.6158                                                                                                    \n",
      "epoch: 0286, loss: 0.0114 - val_loss: 1.4854; rmse: 0.1405 - rmse_val: 1.2188;  r2: 0.9976 - r2_val: 0.6163                                                                                                    \n",
      "epoch: 0287, loss: 0.0154 - val_loss: 1.4508; rmse: 0.1074 - rmse_val: 1.2045;  r2: 0.9976 - r2_val: 0.6175                                                                                                    \n",
      "epoch: 0288, loss: 0.0142 - val_loss: 1.4499; rmse: 0.1085 - rmse_val: 1.2041;  r2: 0.9976 - r2_val: 0.6184                                                                                                    \n",
      "epoch: 0289, loss: 0.0123 - val_loss: 1.4303; rmse: 0.1243 - rmse_val: 1.1960;  r2: 0.9975 - r2_val: 0.6173                                                                                                    \n",
      "epoch: 0290, loss: 0.0131 - val_loss: 1.4394; rmse: 0.1063 - rmse_val: 1.1997;  r2: 0.9975 - r2_val: 0.6175                                                                                                    \n",
      "epoch: 0291, loss: 0.0111 - val_loss: 1.4538; rmse: 0.1026 - rmse_val: 1.2057;  r2: 0.9977 - r2_val: 0.6156                                                                                                    \n",
      "epoch: 0292, loss: 0.0107 - val_loss: 1.4314; rmse: 0.1828 - rmse_val: 1.1964;  r2: 0.9975 - r2_val: 0.6152                                                                                                    \n",
      "epoch: 0293, loss: 0.0194 - val_loss: 1.4482; rmse: 0.1045 - rmse_val: 1.2034;  r2: 0.9976 - r2_val: 0.6152                                                                                                    \n",
      "epoch: 0294, loss: 0.0137 - val_loss: 1.4641; rmse: 0.1172 - rmse_val: 1.2100;  r2: 0.9976 - r2_val: 0.6169                                                                                                    \n",
      "epoch: 0295, loss: 0.0121 - val_loss: 1.4596; rmse: 0.1113 - rmse_val: 1.2081;  r2: 0.9977 - r2_val: 0.6173                                                                                                    \n",
      "epoch: 0296, loss: 0.0113 - val_loss: 1.4662; rmse: 0.1135 - rmse_val: 1.2109;  r2: 0.9978 - r2_val: 0.6167                                                                                                    \n",
      "\n",
      "Restoring model weights from the end of the best epoch.\n",
      "\n",
      "Epoch 00296: early stopping\n",
      "RegressionEstimator(gpuid='3')\n",
      "epoch: 0001, loss: 12.8119 - val_loss: 8.7941; rmse: 3.1610 - rmse_val: 2.9655;  r2: 0.1883 - r2_val: 0.2315                                                                                                    \n",
      "epoch: 0002, loss: 8.7379 - val_loss: 5.6161; rmse: 2.5673 - rmse_val: 2.3698;  r2: 0.1882 - r2_val: 0.2226                                                                                                    \n",
      "epoch: 0003, loss: 5.3461 - val_loss: 3.2344; rmse: 1.9780 - rmse_val: 1.7984;  r2: 0.1868 - r2_val: 0.2191                                                                                                    \n",
      "epoch: 0004, loss: 4.0635 - val_loss: 3.7600; rmse: 2.0724 - rmse_val: 1.9391;  r2: 0.1867 - r2_val: 0.2195                                                                                                    \n",
      "epoch: 0005, loss: 4.0455 - val_loss: 3.1720; rmse: 1.9450 - rmse_val: 1.7810;  r2: 0.1886 - r2_val: 0.2214                                                                                                    \n",
      "epoch: 0006, loss: 3.8210 - val_loss: 3.2794; rmse: 1.9933 - rmse_val: 1.8109;  r2: 0.1904 - r2_val: 0.2229                                                                                                    \n",
      "epoch: 0007, loss: 4.0521 - val_loss: 3.2536; rmse: 1.9847 - rmse_val: 1.8038;  r2: 0.1920 - r2_val: 0.2243                                                                                                    \n",
      "epoch: 0008, loss: 3.8035 - val_loss: 3.1320; rmse: 1.9268 - rmse_val: 1.7698;  r2: 0.1931 - r2_val: 0.2258                                                                                                    \n",
      "epoch: 0009, loss: 3.7279 - val_loss: 3.1851; rmse: 1.9291 - rmse_val: 1.7847;  r2: 0.1946 - r2_val: 0.2273                                                                                                    \n",
      "epoch: 0010, loss: 3.6974 - val_loss: 3.0937; rmse: 1.9213 - rmse_val: 1.7589;  r2: 0.1969 - r2_val: 0.2292                                                                                                    \n",
      "epoch: 0011, loss: 3.6861 - val_loss: 3.0869; rmse: 1.9114 - rmse_val: 1.7569;  r2: 0.1984 - r2_val: 0.2311                                                                                                    \n",
      "epoch: 0012, loss: 3.6586 - val_loss: 3.0804; rmse: 1.9083 - rmse_val: 1.7551;  r2: 0.1999 - r2_val: 0.2324                                                                                                    \n",
      "epoch: 0013, loss: 3.6361 - val_loss: 3.0901; rmse: 1.9046 - rmse_val: 1.7579;  r2: 0.2015 - r2_val: 0.2341                                                                                                    \n",
      "epoch: 0014, loss: 3.6279 - val_loss: 3.0826; rmse: 1.9005 - rmse_val: 1.7557;  r2: 0.2035 - r2_val: 0.2362                                                                                                    \n",
      "epoch: 0015, loss: 3.6080 - val_loss: 3.0694; rmse: 1.8961 - rmse_val: 1.7520;  r2: 0.2056 - r2_val: 0.2384                                                                                                    \n",
      "epoch: 0016, loss: 3.5948 - val_loss: 3.0456; rmse: 1.8943 - rmse_val: 1.7452;  r2: 0.2079 - r2_val: 0.2404                                                                                                    \n",
      "epoch: 0017, loss: 3.6075 - val_loss: 3.0466; rmse: 1.9055 - rmse_val: 1.7455;  r2: 0.2102 - r2_val: 0.2421                                                                                                    \n",
      "epoch: 0018, loss: 3.6459 - val_loss: 3.0306; rmse: 1.8944 - rmse_val: 1.7409;  r2: 0.2121 - r2_val: 0.2437                                                                                                    \n",
      "epoch: 0019, loss: 3.5565 - val_loss: 3.1212; rmse: 1.8934 - rmse_val: 1.7667;  r2: 0.2128 - r2_val: 0.2447                                                                                                    \n",
      "epoch: 0020, loss: 3.5809 - val_loss: 3.0263; rmse: 1.8830 - rmse_val: 1.7396;  r2: 0.2159 - r2_val: 0.2473                                                                                                    \n",
      "epoch: 0021, loss: 3.5955 - val_loss: 3.0160; rmse: 1.8931 - rmse_val: 1.7367;  r2: 0.2186 - r2_val: 0.2494                                                                                                    \n",
      "epoch: 0022, loss: 3.5598 - val_loss: 3.0158; rmse: 1.8777 - rmse_val: 1.7366;  r2: 0.2200 - r2_val: 0.2510                                                                                                    \n",
      "epoch: 0023, loss: 3.5323 - val_loss: 2.9921; rmse: 1.8806 - rmse_val: 1.7298;  r2: 0.2226 - r2_val: 0.2534                                                                                                    \n",
      "epoch: 0024, loss: 3.5335 - val_loss: 2.9864; rmse: 1.8736 - rmse_val: 1.7281;  r2: 0.2248 - r2_val: 0.2557                                                                                                    \n",
      "epoch: 0025, loss: 3.5082 - val_loss: 2.9957; rmse: 1.8688 - rmse_val: 1.7308;  r2: 0.2272 - r2_val: 0.2582                                                                                                    \n",
      "epoch: 0026, loss: 3.5397 - val_loss: 3.0969; rmse: 1.8785 - rmse_val: 1.7598;  r2: 0.2294 - r2_val: 0.2605                                                                                                    \n",
      "epoch: 0027, loss: 3.4975 - val_loss: 2.9710; rmse: 1.8596 - rmse_val: 1.7237;  r2: 0.2350 - r2_val: 0.2657                                                                                                    \n",
      "epoch: 0028, loss: 3.4593 - val_loss: 2.9419; rmse: 1.8598 - rmse_val: 1.7152;  r2: 0.2396 - r2_val: 0.2696                                                                                                    \n",
      "epoch: 0029, loss: 3.4576 - val_loss: 2.9458; rmse: 1.8526 - rmse_val: 1.7163;  r2: 0.2416 - r2_val: 0.2718                                                                                                    \n",
      "epoch: 0030, loss: 3.4441 - val_loss: 3.0618; rmse: 1.8637 - rmse_val: 1.7498;  r2: 0.2421 - r2_val: 0.2726                                                                                                    \n",
      "epoch: 0031, loss: 3.4569 - val_loss: 2.9139; rmse: 1.8470 - rmse_val: 1.7070;  r2: 0.2471 - r2_val: 0.2770                                                                                                    \n",
      "epoch: 0032, loss: 3.4732 - val_loss: 2.9051; rmse: 1.8562 - rmse_val: 1.7044;  r2: 0.2522 - r2_val: 0.2816                                                                                                    \n",
      "epoch: 0033, loss: 3.3974 - val_loss: 2.9305; rmse: 1.8389 - rmse_val: 1.7119;  r2: 0.2534 - r2_val: 0.2831                                                                                                    \n",
      "epoch: 0034, loss: 3.4004 - val_loss: 2.8720; rmse: 1.8382 - rmse_val: 1.6947;  r2: 0.2591 - r2_val: 0.2888                                                                                                    \n",
      "epoch: 0035, loss: 3.3659 - val_loss: 2.8828; rmse: 1.8285 - rmse_val: 1.6979;  r2: 0.2622 - r2_val: 0.2923                                                                                                    \n",
      "epoch: 0036, loss: 3.3808 - val_loss: 2.8419; rmse: 1.8337 - rmse_val: 1.6858;  r2: 0.2697 - r2_val: 0.2999                                                                                                    \n",
      "epoch: 0037, loss: 3.3243 - val_loss: 2.9237; rmse: 1.8256 - rmse_val: 1.7099;  r2: 0.2692 - r2_val: 0.2992                                                                                                    \n",
      "epoch: 0038, loss: 3.3296 - val_loss: 2.8944; rmse: 1.8175 - rmse_val: 1.7013;  r2: 0.2757 - r2_val: 0.3055                                                                                                    \n",
      "epoch: 0039, loss: 3.3302 - val_loss: 2.8562; rmse: 1.8089 - rmse_val: 1.6900;  r2: 0.2826 - r2_val: 0.3115                                                                                                    \n",
      "epoch: 0040, loss: 3.2751 - val_loss: 2.7968; rmse: 1.8212 - rmse_val: 1.6724;  r2: 0.2925 - r2_val: 0.3208                                                                                                    \n",
      "epoch: 0041, loss: 3.3007 - val_loss: 2.7670; rmse: 1.8007 - rmse_val: 1.6634;  r2: 0.2966 - r2_val: 0.3250                                                                                                    \n",
      "epoch: 0042, loss: 3.2319 - val_loss: 2.7759; rmse: 1.7901 - rmse_val: 1.6661;  r2: 0.2985 - r2_val: 0.3276                                                                                                    \n",
      "epoch: 0043, loss: 3.1965 - val_loss: 2.7291; rmse: 1.7853 - rmse_val: 1.6520;  r2: 0.3061 - r2_val: 0.3352                                                                                                    \n",
      "epoch: 0044, loss: 3.1935 - val_loss: 2.7043; rmse: 1.7810 - rmse_val: 1.6445;  r2: 0.3108 - r2_val: 0.3402                                                                                                    \n",
      "epoch: 0045, loss: 3.1618 - val_loss: 2.7201; rmse: 1.7707 - rmse_val: 1.6493;  r2: 0.3128 - r2_val: 0.3436                                                                                                    \n",
      "epoch: 0046, loss: 3.1384 - val_loss: 2.6419; rmse: 1.7678 - rmse_val: 1.6254;  r2: 0.3231 - r2_val: 0.3557                                                                                                    \n",
      "epoch: 0047, loss: 3.1414 - val_loss: 2.6230; rmse: 1.7546 - rmse_val: 1.6196;  r2: 0.3279 - r2_val: 0.3610                                                                                                    \n",
      "epoch: 0048, loss: 3.0927 - val_loss: 2.6734; rmse: 1.7525 - rmse_val: 1.6351;  r2: 0.3275 - r2_val: 0.3618                                                                                                    \n",
      "epoch: 0049, loss: 3.0631 - val_loss: 2.5668; rmse: 1.7431 - rmse_val: 1.6021;  r2: 0.3400 - r2_val: 0.3742                                                                                                    \n",
      "epoch: 0050, loss: 3.0276 - val_loss: 2.6429; rmse: 1.7365 - rmse_val: 1.6257;  r2: 0.3439 - r2_val: 0.3769                                                                                                    \n",
      "epoch: 0051, loss: 3.0298 - val_loss: 2.5325; rmse: 1.7242 - rmse_val: 1.5914;  r2: 0.3588 - r2_val: 0.3898                                                                                                    \n",
      "epoch: 0052, loss: 2.9611 - val_loss: 2.5726; rmse: 1.7168 - rmse_val: 1.6039;  r2: 0.3588 - r2_val: 0.3901                                                                                                    \n",
      "epoch: 0053, loss: 2.9703 - val_loss: 2.4966; rmse: 1.7055 - rmse_val: 1.5801;  r2: 0.3682 - r2_val: 0.3989                                                                                                    \n",
      "epoch: 0054, loss: 2.9473 - val_loss: 2.4707; rmse: 1.6967 - rmse_val: 1.5719;  r2: 0.3768 - r2_val: 0.4065                                                                                                    \n",
      "epoch: 0055, loss: 2.9419 - val_loss: 2.5174; rmse: 1.6927 - rmse_val: 1.5866;  r2: 0.3796 - r2_val: 0.4090                                                                                                    \n",
      "epoch: 0056, loss: 2.8938 - val_loss: 2.4016; rmse: 1.6884 - rmse_val: 1.5497;  r2: 0.3974 - r2_val: 0.4269                                                                                                    \n",
      "epoch: 0057, loss: 2.8568 - val_loss: 2.5466; rmse: 1.6828 - rmse_val: 1.5958;  r2: 0.3971 - r2_val: 0.4256                                                                                                    \n",
      "epoch: 0058, loss: 2.7973 - val_loss: 2.3403; rmse: 1.6672 - rmse_val: 1.5298;  r2: 0.4132 - r2_val: 0.4409                                                                                                    \n",
      "epoch: 0059, loss: 2.7415 - val_loss: 2.3719; rmse: 1.6447 - rmse_val: 1.5401;  r2: 0.4144 - r2_val: 0.4406                                                                                                    \n",
      "epoch: 0060, loss: 2.7161 - val_loss: 2.2794; rmse: 1.6327 - rmse_val: 1.5098;  r2: 0.4282 - r2_val: 0.4520                                                                                                    \n",
      "epoch: 0061, loss: 2.6451 - val_loss: 2.3164; rmse: 1.6210 - rmse_val: 1.5220;  r2: 0.4300 - r2_val: 0.4531                                                                                                    \n",
      "epoch: 0062, loss: 2.6156 - val_loss: 2.2183; rmse: 1.6110 - rmse_val: 1.4894;  r2: 0.4471 - r2_val: 0.4658                                                                                                    \n",
      "epoch: 0063, loss: 2.6466 - val_loss: 2.2167; rmse: 1.5941 - rmse_val: 1.4889;  r2: 0.4527 - r2_val: 0.4684                                                                                                    \n",
      "epoch: 0064, loss: 2.5512 - val_loss: 2.2218; rmse: 1.5823 - rmse_val: 1.4906;  r2: 0.4621 - r2_val: 0.4740                                                                                                    \n",
      "epoch: 0065, loss: 2.4987 - val_loss: 2.1624; rmse: 1.5692 - rmse_val: 1.4705;  r2: 0.4716 - r2_val: 0.4813                                                                                                    \n",
      "epoch: 0066, loss: 2.4741 - val_loss: 2.1341; rmse: 1.5555 - rmse_val: 1.4609;  r2: 0.4767 - r2_val: 0.4863                                                                                                    \n",
      "epoch: 0067, loss: 2.4130 - val_loss: 2.0988; rmse: 1.5426 - rmse_val: 1.4487;  r2: 0.4831 - r2_val: 0.4922                                                                                                    \n",
      "epoch: 0068, loss: 2.3646 - val_loss: 2.0717; rmse: 1.5272 - rmse_val: 1.4394;  r2: 0.4935 - r2_val: 0.4991                                                                                                    \n",
      "epoch: 0069, loss: 2.3351 - val_loss: 2.1296; rmse: 1.5196 - rmse_val: 1.4593;  r2: 0.4998 - r2_val: 0.5024                                                                                                    \n",
      "epoch: 0070, loss: 2.3067 - val_loss: 2.0243; rmse: 1.4975 - rmse_val: 1.4228;  r2: 0.5149 - r2_val: 0.5104                                                                                                    \n",
      "epoch: 0071, loss: 2.2397 - val_loss: 1.9970; rmse: 1.4892 - rmse_val: 1.4132;  r2: 0.5257 - r2_val: 0.5131                                                                                                    \n",
      "epoch: 0072, loss: 2.2050 - val_loss: 1.9759; rmse: 1.4697 - rmse_val: 1.4057;  r2: 0.5341 - r2_val: 0.5168                                                                                                    \n",
      "epoch: 0073, loss: 2.1806 - val_loss: 2.3068; rmse: 1.5092 - rmse_val: 1.5188;  r2: 0.5305 - r2_val: 0.5171                                                                                                    \n",
      "epoch: 0074, loss: 2.2098 - val_loss: 1.9119; rmse: 1.4405 - rmse_val: 1.3827;  r2: 0.5480 - r2_val: 0.5274                                                                                                    \n",
      "epoch: 0075, loss: 2.1005 - val_loss: 1.8906; rmse: 1.4371 - rmse_val: 1.3750;  r2: 0.5632 - r2_val: 0.5320                                                                                                    \n",
      "epoch: 0076, loss: 2.0376 - val_loss: 1.9577; rmse: 1.4105 - rmse_val: 1.3992;  r2: 0.5718 - r2_val: 0.5318                                                                                                    \n",
      "epoch: 0077, loss: 1.9804 - val_loss: 1.9563; rmse: 1.3961 - rmse_val: 1.3987;  r2: 0.5786 - r2_val: 0.5367                                                                                                    \n",
      "epoch: 0078, loss: 1.9540 - val_loss: 1.9980; rmse: 1.4068 - rmse_val: 1.4135;  r2: 0.5706 - r2_val: 0.5362                                                                                                    \n",
      "epoch: 0079, loss: 2.0000 - val_loss: 1.8764; rmse: 1.4134 - rmse_val: 1.3698;  r2: 0.6054 - r2_val: 0.5466                                                                                                    \n",
      "epoch: 0080, loss: 1.9619 - val_loss: 1.8502; rmse: 1.3688 - rmse_val: 1.3602;  r2: 0.6154 - r2_val: 0.5449                                                                                                    \n",
      "epoch: 0081, loss: 1.9360 - val_loss: 1.9937; rmse: 1.3588 - rmse_val: 1.4120;  r2: 0.6063 - r2_val: 0.5469                                                                                                    \n",
      "epoch: 0082, loss: 1.8006 - val_loss: 1.8542; rmse: 1.3282 - rmse_val: 1.3617;  r2: 0.6151 - r2_val: 0.5513                                                                                                    \n",
      "epoch: 0083, loss: 1.7777 - val_loss: 1.7861; rmse: 1.3168 - rmse_val: 1.3364;  r2: 0.6288 - r2_val: 0.5557                                                                                                    \n",
      "epoch: 0084, loss: 1.7345 - val_loss: 1.8094; rmse: 1.3386 - rmse_val: 1.3452;  r2: 0.6443 - r2_val: 0.5564                                                                                                    \n",
      "epoch: 0085, loss: 1.7451 - val_loss: 1.8262; rmse: 1.2813 - rmse_val: 1.3514;  r2: 0.6490 - r2_val: 0.5549                                                                                                    \n",
      "epoch: 0086, loss: 1.7315 - val_loss: 2.1372; rmse: 1.3285 - rmse_val: 1.4619;  r2: 0.6466 - r2_val: 0.5538                                                                                                    \n",
      "epoch: 0087, loss: 1.7003 - val_loss: 1.7798; rmse: 1.2613 - rmse_val: 1.3341;  r2: 0.6604 - r2_val: 0.5600                                                                                                    \n",
      "epoch: 0088, loss: 1.5895 - val_loss: 1.7580; rmse: 1.2633 - rmse_val: 1.3259;  r2: 0.6704 - r2_val: 0.5623                                                                                                    \n",
      "epoch: 0089, loss: 1.5781 - val_loss: 2.0033; rmse: 1.2652 - rmse_val: 1.4154;  r2: 0.6722 - r2_val: 0.5601                                                                                                    \n",
      "epoch: 0090, loss: 1.5544 - val_loss: 2.0175; rmse: 1.2564 - rmse_val: 1.4204;  r2: 0.6769 - r2_val: 0.5625                                                                                                    \n",
      "epoch: 0091, loss: 1.7394 - val_loss: 2.0194; rmse: 1.3986 - rmse_val: 1.4211;  r2: 0.6872 - r2_val: 0.5651                                                                                                    \n",
      "epoch: 0092, loss: 1.6597 - val_loss: 1.7649; rmse: 1.1979 - rmse_val: 1.3285;  r2: 0.6892 - r2_val: 0.5689                                                                                                    \n",
      "epoch: 0093, loss: 1.4941 - val_loss: 1.9721; rmse: 1.2299 - rmse_val: 1.4043;  r2: 0.6889 - r2_val: 0.5689                                                                                                    \n",
      "epoch: 0094, loss: 1.4847 - val_loss: 1.7390; rmse: 1.1784 - rmse_val: 1.3187;  r2: 0.7021 - r2_val: 0.5725                                                                                                    \n",
      "epoch: 0095, loss: 1.3943 - val_loss: 1.7895; rmse: 1.1673 - rmse_val: 1.3377;  r2: 0.7102 - r2_val: 0.5728                                                                                                    \n",
      "epoch: 0096, loss: 1.3772 - val_loss: 1.7516; rmse: 1.1484 - rmse_val: 1.3235;  r2: 0.7248 - r2_val: 0.5707                                                                                                    \n",
      "epoch: 0097, loss: 1.3420 - val_loss: 1.7138; rmse: 1.1496 - rmse_val: 1.3091;  r2: 0.7298 - r2_val: 0.5735                                                                                                    \n",
      "epoch: 0098, loss: 1.3128 - val_loss: 1.6885; rmse: 1.1405 - rmse_val: 1.2994;  r2: 0.7257 - r2_val: 0.5785                                                                                                    \n",
      "epoch: 0099, loss: 1.2832 - val_loss: 1.6998; rmse: 1.1030 - rmse_val: 1.3038;  r2: 0.7380 - r2_val: 0.5784                                                                                                    \n",
      "epoch: 0100, loss: 1.2084 - val_loss: 1.7164; rmse: 1.0867 - rmse_val: 1.3101;  r2: 0.7450 - r2_val: 0.5788                                                                                                    \n",
      "epoch: 0101, loss: 1.1736 - val_loss: 1.6862; rmse: 1.0764 - rmse_val: 1.2985;  r2: 0.7525 - r2_val: 0.5804                                                                                                    \n",
      "epoch: 0102, loss: 1.1624 - val_loss: 1.8651; rmse: 1.0945 - rmse_val: 1.3657;  r2: 0.7536 - r2_val: 0.5834                                                                                                    \n",
      "epoch: 0103, loss: 1.1686 - val_loss: 1.7041; rmse: 1.0459 - rmse_val: 1.3054;  r2: 0.7651 - r2_val: 0.5841                                                                                                    \n",
      "epoch: 0104, loss: 1.0877 - val_loss: 1.7102; rmse: 1.0354 - rmse_val: 1.3077;  r2: 0.7682 - r2_val: 0.5898                                                                                                    \n",
      "epoch: 0105, loss: 1.0485 - val_loss: 1.6712; rmse: 1.0574 - rmse_val: 1.2927;  r2: 0.7785 - r2_val: 0.5860                                                                                                    \n",
      "epoch: 0106, loss: 1.0748 - val_loss: 1.6199; rmse: 1.0067 - rmse_val: 1.2727;  r2: 0.7840 - r2_val: 0.5962                                                                                                    \n",
      "epoch: 0107, loss: 1.0124 - val_loss: 1.6041; rmse: 0.9996 - rmse_val: 1.2665;  r2: 0.7900 - r2_val: 0.5993                                                                                                    \n",
      "epoch: 0108, loss: 0.9766 - val_loss: 1.6775; rmse: 0.9801 - rmse_val: 1.2952;  r2: 0.7951 - r2_val: 0.6001                                                                                                    \n",
      "epoch: 0109, loss: 0.9591 - val_loss: 1.6924; rmse: 0.9700 - rmse_val: 1.3009;  r2: 0.8013 - r2_val: 0.6006                                                                                                    \n",
      "epoch: 0110, loss: 0.9568 - val_loss: 1.5806; rmse: 0.9513 - rmse_val: 1.2572;  r2: 0.8052 - r2_val: 0.6058                                                                                                    \n",
      "epoch: 0111, loss: 0.8981 - val_loss: 1.6028; rmse: 0.9308 - rmse_val: 1.2660;  r2: 0.8112 - r2_val: 0.6070                                                                                                    \n",
      "epoch: 0112, loss: 0.8608 - val_loss: 1.5822; rmse: 0.9369 - rmse_val: 1.2578;  r2: 0.8183 - r2_val: 0.6050                                                                                                    \n",
      "epoch: 0113, loss: 0.8681 - val_loss: 1.5880; rmse: 0.9146 - rmse_val: 1.2602;  r2: 0.8236 - r2_val: 0.6038                                                                                                    \n",
      "epoch: 0114, loss: 0.8425 - val_loss: 1.5768; rmse: 0.8895 - rmse_val: 1.2557;  r2: 0.8271 - r2_val: 0.6141                                                                                                    \n",
      "epoch: 0115, loss: 0.8344 - val_loss: 1.5956; rmse: 0.8766 - rmse_val: 1.2632;  r2: 0.8346 - r2_val: 0.6145                                                                                                    \n",
      "epoch: 0116, loss: 0.7685 - val_loss: 1.5507; rmse: 0.8940 - rmse_val: 1.2453;  r2: 0.8408 - r2_val: 0.6144                                                                                                    \n",
      "epoch: 0117, loss: 0.7810 - val_loss: 1.5809; rmse: 0.9148 - rmse_val: 1.2573;  r2: 0.8453 - r2_val: 0.6129                                                                                                    \n",
      "epoch: 0118, loss: 0.7396 - val_loss: 1.5560; rmse: 0.8339 - rmse_val: 1.2474;  r2: 0.8512 - r2_val: 0.6178                                                                                                    \n",
      "epoch: 0119, loss: 0.7002 - val_loss: 1.6450; rmse: 0.8484 - rmse_val: 1.2826;  r2: 0.8519 - r2_val: 0.6235                                                                                                    \n",
      "epoch: 0120, loss: 0.7055 - val_loss: 2.0324; rmse: 0.9832 - rmse_val: 1.4256;  r2: 0.8523 - r2_val: 0.6237                                                                                                    \n",
      "epoch: 0121, loss: 0.7956 - val_loss: 1.7435; rmse: 0.8631 - rmse_val: 1.3204;  r2: 0.8596 - r2_val: 0.6266                                                                                                    \n",
      "epoch: 0122, loss: 0.6742 - val_loss: 1.4875; rmse: 0.7964 - rmse_val: 1.2196;  r2: 0.8675 - r2_val: 0.6291                                                                                                    \n",
      "epoch: 0123, loss: 0.7015 - val_loss: 1.5600; rmse: 0.8983 - rmse_val: 1.2490;  r2: 0.8713 - r2_val: 0.6314                                                                                                    \n",
      "epoch: 0124, loss: 0.6907 - val_loss: 1.5077; rmse: 0.7744 - rmse_val: 1.2279;  r2: 0.8741 - r2_val: 0.6345                                                                                                    \n",
      "epoch: 0125, loss: 0.6080 - val_loss: 1.6060; rmse: 0.7873 - rmse_val: 1.2673;  r2: 0.8774 - r2_val: 0.6336                                                                                                    \n",
      "epoch: 0126, loss: 0.6052 - val_loss: 1.6897; rmse: 0.8154 - rmse_val: 1.2999;  r2: 0.8761 - r2_val: 0.6355                                                                                                    \n",
      "epoch: 0127, loss: 0.6170 - val_loss: 1.5853; rmse: 0.7549 - rmse_val: 1.2591;  r2: 0.8846 - r2_val: 0.6316                                                                                                    \n",
      "epoch: 0128, loss: 0.5461 - val_loss: 1.6435; rmse: 0.7784 - rmse_val: 1.2820;  r2: 0.8828 - r2_val: 0.6356                                                                                                    \n",
      "epoch: 0129, loss: 0.5627 - val_loss: 1.5443; rmse: 0.7227 - rmse_val: 1.2427;  r2: 0.8891 - r2_val: 0.6350                                                                                                    \n",
      "epoch: 0130, loss: 0.5334 - val_loss: 1.4957; rmse: 0.7016 - rmse_val: 1.2230;  r2: 0.8927 - r2_val: 0.6365                                                                                                    \n",
      "epoch: 0131, loss: 0.4957 - val_loss: 1.5879; rmse: 0.7266 - rmse_val: 1.2601;  r2: 0.8940 - r2_val: 0.6376                                                                                                    \n",
      "epoch: 0132, loss: 0.5166 - val_loss: 1.5836; rmse: 0.7084 - rmse_val: 1.2584;  r2: 0.9000 - r2_val: 0.6359                                                                                                    \n",
      "epoch: 0133, loss: 0.4867 - val_loss: 1.4475; rmse: 0.7043 - rmse_val: 1.2031;  r2: 0.9008 - r2_val: 0.6392                                                                                                    \n",
      "epoch: 0134, loss: 0.4847 - val_loss: 1.5374; rmse: 0.7777 - rmse_val: 1.2399;  r2: 0.9044 - r2_val: 0.6318                                                                                                    \n",
      "epoch: 0135, loss: 0.5203 - val_loss: 1.4753; rmse: 0.6520 - rmse_val: 1.2146;  r2: 0.9090 - r2_val: 0.6371                                                                                                    \n",
      "epoch: 0136, loss: 0.4556 - val_loss: 1.6823; rmse: 0.7270 - rmse_val: 1.2970;  r2: 0.9068 - r2_val: 0.6363                                                                                                    \n",
      "epoch: 0137, loss: 0.5524 - val_loss: 1.7248; rmse: 0.7344 - rmse_val: 1.3133;  r2: 0.9113 - r2_val: 0.6362                                                                                                    \n",
      "epoch: 0138, loss: 0.4994 - val_loss: 1.4310; rmse: 0.6572 - rmse_val: 1.1962;  r2: 0.9107 - r2_val: 0.6429                                                                                                    \n",
      "epoch: 0139, loss: 0.4567 - val_loss: 1.4720; rmse: 0.6833 - rmse_val: 1.2133;  r2: 0.9145 - r2_val: 0.6351                                                                                                    \n",
      "epoch: 0140, loss: 0.4330 - val_loss: 1.4847; rmse: 0.6166 - rmse_val: 1.2185;  r2: 0.9196 - r2_val: 0.6403                                                                                                    \n",
      "epoch: 0141, loss: 0.4122 - val_loss: 1.5337; rmse: 0.6326 - rmse_val: 1.2384;  r2: 0.9190 - r2_val: 0.6403                                                                                                    \n",
      "epoch: 0142, loss: 0.3845 - val_loss: 1.6106; rmse: 0.6569 - rmse_val: 1.2691;  r2: 0.9214 - r2_val: 0.6398                                                                                                    \n",
      "epoch: 0143, loss: 0.3922 - val_loss: 1.6213; rmse: 0.6501 - rmse_val: 1.2733;  r2: 0.9234 - r2_val: 0.6414                                                                                                    \n",
      "epoch: 0144, loss: 0.3892 - val_loss: 1.4381; rmse: 0.5853 - rmse_val: 1.1992;  r2: 0.9275 - r2_val: 0.6418                                                                                                    \n",
      "epoch: 0145, loss: 0.3703 - val_loss: 1.4384; rmse: 0.5859 - rmse_val: 1.1993;  r2: 0.9280 - r2_val: 0.6411                                                                                                    \n",
      "epoch: 0146, loss: 0.3505 - val_loss: 1.5463; rmse: 0.5917 - rmse_val: 1.2435;  r2: 0.9300 - r2_val: 0.6423                                                                                                    \n",
      "epoch: 0147, loss: 0.3489 - val_loss: 1.5464; rmse: 0.5859 - rmse_val: 1.2436;  r2: 0.9320 - r2_val: 0.6427                                                                                                    \n",
      "epoch: 0148, loss: 0.3168 - val_loss: 1.4384; rmse: 0.5503 - rmse_val: 1.1994;  r2: 0.9344 - r2_val: 0.6428                                                                                                    \n",
      "epoch: 0149, loss: 0.3350 - val_loss: 1.4341; rmse: 0.5589 - rmse_val: 1.1975;  r2: 0.9368 - r2_val: 0.6417                                                                                                    \n",
      "epoch: 0150, loss: 0.3092 - val_loss: 1.5237; rmse: 0.5559 - rmse_val: 1.2344;  r2: 0.9373 - r2_val: 0.6396                                                                                                    \n",
      "epoch: 0151, loss: 0.3021 - val_loss: 1.4619; rmse: 0.5282 - rmse_val: 1.2091;  r2: 0.9388 - r2_val: 0.6409                                                                                                    \n",
      "epoch: 0152, loss: 0.2774 - val_loss: 1.4744; rmse: 0.5342 - rmse_val: 1.2143;  r2: 0.9405 - r2_val: 0.6319                                                                                                    \n",
      "epoch: 0153, loss: 0.2817 - val_loss: 1.4605; rmse: 0.5118 - rmse_val: 1.2085;  r2: 0.9428 - r2_val: 0.6384                                                                                                    \n",
      "epoch: 0154, loss: 0.2610 - val_loss: 1.4572; rmse: 0.5198 - rmse_val: 1.2072;  r2: 0.9449 - r2_val: 0.6363                                                                                                    \n",
      "epoch: 0155, loss: 0.2580 - val_loss: 1.4542; rmse: 0.5028 - rmse_val: 1.2059;  r2: 0.9468 - r2_val: 0.6379                                                                                                    \n",
      "epoch: 0156, loss: 0.2501 - val_loss: 1.5296; rmse: 0.5046 - rmse_val: 1.2368;  r2: 0.9475 - r2_val: 0.6381                                                                                                    \n",
      "epoch: 0157, loss: 0.2455 - val_loss: 1.4776; rmse: 0.4834 - rmse_val: 1.2156;  r2: 0.9500 - r2_val: 0.6333                                                                                                    \n",
      "epoch: 0158, loss: 0.2355 - val_loss: 1.4651; rmse: 0.4770 - rmse_val: 1.2104;  r2: 0.9511 - r2_val: 0.6359                                                                                                    \n",
      "epoch: 0159, loss: 0.2277 - val_loss: 1.4882; rmse: 0.4697 - rmse_val: 1.2199;  r2: 0.9521 - r2_val: 0.6355                                                                                                    \n",
      "epoch: 0160, loss: 0.2301 - val_loss: 1.4822; rmse: 0.4667 - rmse_val: 1.2175;  r2: 0.9523 - r2_val: 0.6397                                                                                                    \n",
      "epoch: 0161, loss: 0.2266 - val_loss: 1.4560; rmse: 0.4814 - rmse_val: 1.2066;  r2: 0.9546 - r2_val: 0.6368                                                                                                    \n",
      "epoch: 0162, loss: 0.2128 - val_loss: 1.4561; rmse: 0.4856 - rmse_val: 1.2067;  r2: 0.9559 - r2_val: 0.6374                                                                                                    \n",
      "epoch: 0163, loss: 0.2147 - val_loss: 1.4661; rmse: 0.4428 - rmse_val: 1.2108;  r2: 0.9567 - r2_val: 0.6422                                                                                                    \n",
      "epoch: 0164, loss: 0.1982 - val_loss: 1.4795; rmse: 0.4367 - rmse_val: 1.2164;  r2: 0.9587 - r2_val: 0.6394                                                                                                    \n",
      "epoch: 0165, loss: 0.1922 - val_loss: 1.4954; rmse: 0.4380 - rmse_val: 1.2229;  r2: 0.9592 - r2_val: 0.6403                                                                                                    \n",
      "epoch: 0166, loss: 0.1955 - val_loss: 1.4865; rmse: 0.5178 - rmse_val: 1.2192;  r2: 0.9601 - r2_val: 0.6344                                                                                                    \n",
      "epoch: 0167, loss: 0.2248 - val_loss: 1.6595; rmse: 0.5306 - rmse_val: 1.2882;  r2: 0.9586 - r2_val: 0.6405                                                                                                    \n",
      "epoch: 0168, loss: 0.2294 - val_loss: 1.4556; rmse: 0.4208 - rmse_val: 1.2065;  r2: 0.9628 - r2_val: 0.6377                                                                                                    \n",
      "epoch: 0169, loss: 0.1801 - val_loss: 1.4599; rmse: 0.4101 - rmse_val: 1.2083;  r2: 0.9637 - r2_val: 0.6386                                                                                                    \n",
      "epoch: 0170, loss: 0.1689 - val_loss: 1.4703; rmse: 0.4026 - rmse_val: 1.2126;  r2: 0.9645 - r2_val: 0.6397                                                                                                    \n",
      "epoch: 0171, loss: 0.1635 - val_loss: 1.5465; rmse: 0.4296 - rmse_val: 1.2436;  r2: 0.9650 - r2_val: 0.6402                                                                                                    \n",
      "epoch: 0172, loss: 0.1745 - val_loss: 1.4637; rmse: 0.3954 - rmse_val: 1.2098;  r2: 0.9664 - r2_val: 0.6375                                                                                                    \n",
      "epoch: 0173, loss: 0.1667 - val_loss: 1.4891; rmse: 0.3915 - rmse_val: 1.2203;  r2: 0.9671 - r2_val: 0.6380                                                                                                    \n",
      "epoch: 0174, loss: 0.1546 - val_loss: 1.5164; rmse: 0.3958 - rmse_val: 1.2314;  r2: 0.9678 - r2_val: 0.6386                                                                                                    \n",
      "epoch: 0175, loss: 0.1551 - val_loss: 1.4636; rmse: 0.4070 - rmse_val: 1.2098;  r2: 0.9684 - r2_val: 0.6351                                                                                                    \n",
      "epoch: 0176, loss: 0.1567 - val_loss: 1.5265; rmse: 0.3944 - rmse_val: 1.2355;  r2: 0.9689 - r2_val: 0.6399                                                                                                    \n",
      "epoch: 0177, loss: 0.1471 - val_loss: 1.4650; rmse: 0.3861 - rmse_val: 1.2104;  r2: 0.9701 - r2_val: 0.6352                                                                                                    \n",
      "epoch: 0178, loss: 0.1527 - val_loss: 1.5238; rmse: 0.3835 - rmse_val: 1.2344;  r2: 0.9701 - r2_val: 0.6384                                                                                                    \n",
      "epoch: 0179, loss: 0.1515 - val_loss: 1.4737; rmse: 0.4062 - rmse_val: 1.2140;  r2: 0.9711 - r2_val: 0.6324                                                                                                    \n",
      "epoch: 0180, loss: 0.1502 - val_loss: 1.4669; rmse: 0.3595 - rmse_val: 1.2112;  r2: 0.9721 - r2_val: 0.6376                                                                                                    \n",
      "epoch: 0181, loss: 0.1348 - val_loss: 1.5636; rmse: 0.3961 - rmse_val: 1.2505;  r2: 0.9724 - r2_val: 0.6387                                                                                                    \n",
      "epoch: 0182, loss: 0.1573 - val_loss: 1.4632; rmse: 0.3610 - rmse_val: 1.2096;  r2: 0.9736 - r2_val: 0.6363                                                                                                    \n",
      "epoch: 0183, loss: 0.1255 - val_loss: 1.4918; rmse: 0.3469 - rmse_val: 1.2214;  r2: 0.9741 - r2_val: 0.6373                                                                                                    \n",
      "epoch: 0184, loss: 0.1211 - val_loss: 1.4637; rmse: 0.3476 - rmse_val: 1.2098;  r2: 0.9749 - r2_val: 0.6366                                                                                                    \n",
      "epoch: 0185, loss: 0.1184 - val_loss: 1.4912; rmse: 0.3409 - rmse_val: 1.2211;  r2: 0.9751 - r2_val: 0.6398                                                                                                    \n",
      "epoch: 0186, loss: 0.1140 - val_loss: 1.4529; rmse: 0.3540 - rmse_val: 1.2054;  r2: 0.9760 - r2_val: 0.6384                                                                                                    \n",
      "epoch: 0187, loss: 0.1180 - val_loss: 1.4636; rmse: 0.3324 - rmse_val: 1.2098;  r2: 0.9766 - r2_val: 0.6375                                                                                                    \n",
      "epoch: 0188, loss: 0.1083 - val_loss: 1.4598; rmse: 0.3656 - rmse_val: 1.2082;  r2: 0.9769 - r2_val: 0.6367                                                                                                    \n",
      "\n",
      "Restoring model weights from the end of the best epoch.\n",
      "\n",
      "Epoch 00188: early stopping\n"
     ]
    }
   ],
   "source": [
    "\n",
    "data = esol #malaria\n",
    "\n",
    "task_name = data.task_name\n",
    "task_type = data.task_type\n",
    "_, induces = load_data(task_name)\n",
    "smiles = data.x\n",
    "Y = data.y\n",
    "\n",
    "\n",
    "#X2 = mp.batch_transform(E.batch_transform(smiles), n_jobs = 16)\n",
    "\n",
    "X2 = mp2.batch_transform(smiles, n_jobs = 16)\n",
    "\n",
    "\n",
    "Regression_res = []\n",
    "for i, idx in enumerate(induces):\n",
    "    train_idx, valid_idx, test_idx = idx\n",
    "\n",
    "    X = X2[train_idx]\n",
    "    y = Y[train_idx]\n",
    "\n",
    "    X_valid = X2[valid_idx]\n",
    "    y_valid = Y[valid_idx]\n",
    "\n",
    "    X_test = X2[test_idx]\n",
    "    y_test = Y[test_idx]          \n",
    "\n",
    "    fmap_shape1 = X.shape[1:]\n",
    "    n_outputs = Y.shape[1]\n",
    "\n",
    "    clf = RegressionEstimator(n_outputs=n_outputs,  conv1_kernel_size = 11,\n",
    "                              fmap_shape1 = fmap_shape1, \n",
    "                              dense_layers = [128, 64],\n",
    "                              gpuid = 3,\n",
    "                             ) \n",
    "\n",
    "    clf.fit(X, y, X_valid, y_valid)\n",
    "\n",
    "    train_rmses, train_r2s = clf._performance.evaluate(X,y)\n",
    "    valid_rmses, valid_r2s = clf._performance.evaluate(X_valid,y_valid)            \n",
    "    test_rmses, test_r2s = clf._performance.evaluate(X_test,y_test)\n",
    "\n",
    "\n",
    "    final_res = {'task_name':task_name, \n",
    "                 'repeat_id':i,\n",
    "                 'train_rmse':np.nanmean(train_rmses), \n",
    "                 'valid_rmse':np.nanmean(valid_rmses),                      \n",
    "                 'test_rmse':np.nanmean(test_rmses),\n",
    "\n",
    "                 'train_r2':np.nanmean(train_r2s), \n",
    "                 'valid_r2':np.nanmean(valid_r2s),                      \n",
    "                 'test_r2':np.nanmean(test_r2s),                        \n",
    "                }\n",
    "\n",
    "    Regression_res.append(final_res)\n"
   ]
  },
  {
   "cell_type": "code",
   "execution_count": null,
   "metadata": {},
   "outputs": [],
   "source": []
  },
  {
   "cell_type": "code",
   "execution_count": null,
   "metadata": {},
   "outputs": [],
   "source": []
  },
  {
   "cell_type": "code",
   "execution_count": null,
   "metadata": {},
   "outputs": [],
   "source": []
  },
  {
   "cell_type": "code",
   "execution_count": null,
   "metadata": {},
   "outputs": [],
   "source": []
  },
  {
   "cell_type": "code",
   "execution_count": null,
   "metadata": {},
   "outputs": [],
   "source": []
  },
  {
   "cell_type": "code",
   "execution_count": null,
   "metadata": {},
   "outputs": [],
   "source": []
  },
  {
   "cell_type": "code",
   "execution_count": 87,
   "metadata": {},
   "outputs": [
    {
     "data": {
      "text/plain": [
       "0.6066820425492465"
      ]
     },
     "execution_count": 87,
     "metadata": {},
     "output_type": "execute_result"
    }
   ],
   "source": [
    "pd.DataFrame(Regression_res)['test_r2'].mean()"
   ]
  },
  {
   "cell_type": "code",
   "execution_count": null,
   "metadata": {},
   "outputs": [],
   "source": []
  },
  {
   "cell_type": "code",
   "execution_count": null,
   "metadata": {},
   "outputs": [],
   "source": []
  },
  {
   "cell_type": "code",
   "execution_count": null,
   "metadata": {},
   "outputs": [],
   "source": []
  },
  {
   "cell_type": "code",
   "execution_count": 38,
   "metadata": {},
   "outputs": [
    {
     "data": {
      "text/plain": [
       "0.6892917379198978"
      ]
     },
     "execution_count": 38,
     "metadata": {},
     "output_type": "execute_result"
    }
   ],
   "source": [
    "pd.DataFrame(Regression_res)['test_r2'].mean()"
   ]
  },
  {
   "cell_type": "code",
   "execution_count": 31,
   "metadata": {},
   "outputs": [
    {
     "data": {
      "text/plain": [
       "0.6687799024170524"
      ]
     },
     "execution_count": 31,
     "metadata": {},
     "output_type": "execute_result"
    }
   ],
   "source": [
    "pd.DataFrame(Regression_res)['test_r2'].mean()"
   ]
  },
  {
   "cell_type": "code",
   "execution_count": null,
   "metadata": {},
   "outputs": [],
   "source": []
  }
 ],
 "metadata": {
  "kernelspec": {
   "display_name": "Python 3",
   "language": "python",
   "name": "python3"
  },
  "language_info": {
   "codemirror_mode": {
    "name": "ipython",
    "version": 3
   },
   "file_extension": ".py",
   "mimetype": "text/x-python",
   "name": "python",
   "nbconvert_exporter": "python",
   "pygments_lexer": "ipython3",
   "version": "3.6.9"
  }
 },
 "nbformat": 4,
 "nbformat_minor": 4
}
