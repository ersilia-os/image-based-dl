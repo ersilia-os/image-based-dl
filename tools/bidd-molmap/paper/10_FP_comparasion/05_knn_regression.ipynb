{
 "cells": [
  {
   "cell_type": "code",
   "execution_count": 1,
   "metadata": {},
   "outputs": [],
   "source": [
    "from sklearn.neighbors import KNeighborsClassifier, KNeighborsRegressor\n",
    "from sklearn.model_selection import GridSearchCV, cross_val_score, KFold\n",
    "\n",
    "from sklearn.metrics import roc_auc_score, precision_recall_curve\n",
    "from sklearn.metrics import auc as calculate_auc\n",
    "from sklearn.metrics import mean_squared_error\n",
    "from sklearn.metrics import accuracy_score\n",
    "from tqdm import tqdm\n",
    "\n",
    "from sklearn.utils import shuffle \n",
    "from joblib import load, dump\n",
    "import numpy as np\n",
    "import pandas as pd\n",
    "import os"
   ]
  },
  {
   "cell_type": "code",
   "execution_count": 2,
   "metadata": {},
   "outputs": [],
   "source": [
    "from chembench import load_data, dataset\n",
    "from molmap import feature"
   ]
  },
  {
   "cell_type": "code",
   "execution_count": 3,
   "metadata": {},
   "outputs": [
    {
     "data": {
      "text/plain": [
       "array(['MorganFP', 'RDkitFP', 'AtomPairFP', 'TorsionFP', 'AvalonFP',\n",
       "       'EstateFP', 'MACCSFP', 'PharmacoErGFP', 'PharmacoPFP', 'PubChemFP',\n",
       "       'MHFP6', 'MAP4'], dtype=object)"
      ]
     },
     "execution_count": 3,
     "metadata": {},
     "output_type": "execute_result"
    }
   ],
   "source": [
    "bitsinfo = feature.fingerprint.Extraction().bitsinfo\n",
    "fp_types = bitsinfo.Subtypes.unique()\n",
    "fp_types"
   ]
  },
  {
   "cell_type": "code",
   "execution_count": 4,
   "metadata": {},
   "outputs": [],
   "source": [
    "from scipy.stats.stats import pearsonr\n",
    "def r2(y_true, y_pred):\n",
    "    pcc, _ = pearsonr(y_true,y_pred)\n",
    "    return pcc[0]**2\n",
    "\n",
    "def rmse(y_true, y_pred):\n",
    "    mse = mean_squared_error(y_true, y_pred)\n",
    "    rmse = np.sqrt(mse)  \n",
    "    return rmse\n",
    "\n",
    "\n",
    "def PRC_AUC(y_true, y_score):\n",
    "    precision, recall, threshold  = precision_recall_curve(y_true, y_score) #PRC_AUC\n",
    "    auc = calculate_auc(recall, precision)\n",
    "    return auc\n",
    "\n",
    "def ROC_AUC(y_true, y_score):\n",
    "    auc = roc_auc_score(y_true, y_score)\n",
    "    return auc"
   ]
  },
  {
   "cell_type": "code",
   "execution_count": 5,
   "metadata": {},
   "outputs": [
    {
     "name": "stdout",
     "output_type": "stream",
     "text": [
      "total samples: 1128\n",
      "total samples: 4200\n",
      "total samples: 642\n",
      "total samples: 9880\n"
     ]
    }
   ],
   "source": [
    "esol = dataset.load_ESOL()\n",
    "lipop = dataset.load_Lipop()\n",
    "FreeSolv = dataset.load_FreeSolv()\n",
    "PDBF = dataset.load_PDBF()\n",
    "\n",
    "datasets = [esol, lipop, FreeSolv] #malaria"
   ]
  },
  {
   "cell_type": "code",
   "execution_count": 6,
   "metadata": {},
   "outputs": [
    {
     "name": "stderr",
     "output_type": "stream",
     "text": [
      "  0%|          | 0/14 [00:00<?, ?it/s]"
     ]
    },
    {
     "name": "stdout",
     "output_type": "stream",
     "text": [
      "ESOL MorganFP\n",
      "loading dataset: ESOL number of split times: 3\n"
     ]
    },
    {
     "name": "stderr",
     "output_type": "stream",
     "text": [
      "100%|##########| 14/14 [00:08<00:00,  1.59it/s]\n",
      "100%|##########| 14/14 [00:08<00:00,  1.59it/s]\n",
      "100%|##########| 14/14 [00:08<00:00,  1.59it/s]\n",
      "  0%|          | 0/14 [00:00<?, ?it/s]"
     ]
    },
    {
     "name": "stdout",
     "output_type": "stream",
     "text": [
      "ESOL RDkitFP\n",
      "loading dataset: ESOL number of split times: 3\n"
     ]
    },
    {
     "name": "stderr",
     "output_type": "stream",
     "text": [
      "100%|##########| 14/14 [00:08<00:00,  1.59it/s]\n",
      "100%|##########| 14/14 [00:08<00:00,  1.59it/s]\n",
      "100%|##########| 14/14 [00:08<00:00,  1.59it/s]\n",
      "  0%|          | 0/14 [00:00<?, ?it/s]"
     ]
    },
    {
     "name": "stdout",
     "output_type": "stream",
     "text": [
      "ESOL AtomPairFP\n",
      "loading dataset: ESOL number of split times: 3\n"
     ]
    },
    {
     "name": "stderr",
     "output_type": "stream",
     "text": [
      "100%|##########| 14/14 [00:08<00:00,  1.59it/s]\n",
      "100%|##########| 14/14 [00:08<00:00,  1.59it/s]\n",
      "100%|##########| 14/14 [00:08<00:00,  1.59it/s]\n",
      "  0%|          | 0/14 [00:00<?, ?it/s]"
     ]
    },
    {
     "name": "stdout",
     "output_type": "stream",
     "text": [
      "ESOL TorsionFP\n",
      "loading dataset: ESOL number of split times: 3\n"
     ]
    },
    {
     "name": "stderr",
     "output_type": "stream",
     "text": [
      "100%|##########| 14/14 [00:08<00:00,  1.71it/s]\n",
      "100%|##########| 14/14 [00:08<00:00,  1.71it/s]\n",
      "100%|##########| 14/14 [00:08<00:00,  1.71it/s]\n",
      "  0%|          | 0/14 [00:00<?, ?it/s]"
     ]
    },
    {
     "name": "stdout",
     "output_type": "stream",
     "text": [
      "ESOL AvalonFP\n",
      "loading dataset: ESOL number of split times: 3\n"
     ]
    },
    {
     "name": "stderr",
     "output_type": "stream",
     "text": [
      "100%|##########| 14/14 [00:08<00:00,  1.60it/s]\n",
      "100%|##########| 14/14 [00:08<00:00,  1.60it/s]\n",
      "100%|##########| 14/14 [00:08<00:00,  1.62it/s]\n",
      " 36%|###5      | 5/14 [00:00<00:00, 49.14it/s]"
     ]
    },
    {
     "name": "stdout",
     "output_type": "stream",
     "text": [
      "ESOL EstateFP\n",
      "loading dataset: ESOL number of split times: 3\n"
     ]
    },
    {
     "name": "stderr",
     "output_type": "stream",
     "text": [
      "100%|##########| 14/14 [00:00<00:00, 48.14it/s]\n",
      "100%|##########| 14/14 [00:00<00:00, 50.20it/s]\n",
      "100%|##########| 14/14 [00:00<00:00, 49.75it/s]\n",
      " 14%|#4        | 2/14 [00:00<00:00, 19.19it/s]"
     ]
    },
    {
     "name": "stdout",
     "output_type": "stream",
     "text": [
      "ESOL MACCSFP\n",
      "loading dataset: ESOL number of split times: 3\n"
     ]
    },
    {
     "name": "stderr",
     "output_type": "stream",
     "text": [
      "100%|##########| 14/14 [00:00<00:00, 18.38it/s]\n",
      "100%|##########| 14/14 [00:00<00:00, 18.46it/s]\n",
      "100%|##########| 14/14 [00:00<00:00, 18.43it/s]\n",
      "  7%|7         | 1/14 [00:00<00:01,  7.43it/s]"
     ]
    },
    {
     "name": "stdout",
     "output_type": "stream",
     "text": [
      "ESOL PharmacoErGFP\n",
      "loading dataset: ESOL number of split times: 3\n"
     ]
    },
    {
     "name": "stderr",
     "output_type": "stream",
     "text": [
      "100%|##########| 14/14 [00:01<00:00,  7.30it/s]\n",
      "100%|##########| 14/14 [00:01<00:00,  7.28it/s]\n",
      "100%|##########| 14/14 [00:01<00:00,  7.30it/s]\n",
      " 14%|#4        | 2/14 [00:00<00:00, 12.09it/s]"
     ]
    },
    {
     "name": "stdout",
     "output_type": "stream",
     "text": [
      "ESOL PharmacoPFP\n",
      "loading dataset: ESOL number of split times: 3\n"
     ]
    },
    {
     "name": "stderr",
     "output_type": "stream",
     "text": [
      "100%|##########| 14/14 [00:01<00:00, 11.58it/s]\n",
      "100%|##########| 14/14 [00:01<00:00, 11.49it/s]\n",
      "100%|##########| 14/14 [00:01<00:00, 11.55it/s]\n",
      "  0%|          | 0/14 [00:00<?, ?it/s]"
     ]
    },
    {
     "name": "stdout",
     "output_type": "stream",
     "text": [
      "ESOL PubChemFP\n",
      "loading dataset: ESOL number of split times: 3\n"
     ]
    },
    {
     "name": "stderr",
     "output_type": "stream",
     "text": [
      "100%|##########| 14/14 [00:03<00:00,  4.41it/s]\n",
      "100%|##########| 14/14 [00:03<00:00,  4.44it/s]\n",
      "100%|##########| 14/14 [00:03<00:00,  4.43it/s]\n",
      "  0%|          | 0/14 [00:00<?, ?it/s]"
     ]
    },
    {
     "name": "stdout",
     "output_type": "stream",
     "text": [
      "ESOL MHFP6\n",
      "loading dataset: ESOL number of split times: 3\n"
     ]
    },
    {
     "name": "stderr",
     "output_type": "stream",
     "text": [
      "100%|##########| 14/14 [00:08<00:00,  1.59it/s]\n",
      "100%|##########| 14/14 [00:08<00:00,  1.58it/s]\n",
      "100%|##########| 14/14 [00:08<00:00,  1.59it/s]\n",
      "  0%|          | 0/14 [00:00<?, ?it/s]"
     ]
    },
    {
     "name": "stdout",
     "output_type": "stream",
     "text": [
      "ESOL MAP4\n",
      "loading dataset: ESOL number of split times: 3\n"
     ]
    },
    {
     "name": "stderr",
     "output_type": "stream",
     "text": [
      "100%|##########| 14/14 [00:08<00:00,  1.59it/s]\n",
      "100%|##########| 14/14 [00:08<00:00,  1.59it/s]\n",
      "100%|##########| 14/14 [00:08<00:00,  1.59it/s]\n",
      "  0%|          | 0/14 [00:00<?, ?it/s]"
     ]
    },
    {
     "name": "stdout",
     "output_type": "stream",
     "text": [
      "Lipop MorganFP\n",
      "loading dataset: Lipop number of split times: 3\n"
     ]
    },
    {
     "name": "stderr",
     "output_type": "stream",
     "text": [
      "100%|##########| 14/14 [01:53<00:00,  8.16s/it]\n",
      "100%|##########| 14/14 [01:54<00:00,  8.22s/it]\n",
      "100%|##########| 14/14 [01:53<00:00,  8.17s/it]\n",
      "  0%|          | 0/14 [00:00<?, ?it/s]"
     ]
    },
    {
     "name": "stdout",
     "output_type": "stream",
     "text": [
      "Lipop RDkitFP\n",
      "loading dataset: Lipop number of split times: 3\n"
     ]
    },
    {
     "name": "stderr",
     "output_type": "stream",
     "text": [
      "100%|##########| 14/14 [01:53<00:00,  8.12s/it]\n",
      "100%|##########| 14/14 [01:53<00:00,  8.15s/it]\n",
      "100%|##########| 14/14 [01:53<00:00,  8.12s/it]\n",
      "  0%|          | 0/14 [00:00<?, ?it/s]"
     ]
    },
    {
     "name": "stdout",
     "output_type": "stream",
     "text": [
      "Lipop AtomPairFP\n",
      "loading dataset: Lipop number of split times: 3\n"
     ]
    },
    {
     "name": "stderr",
     "output_type": "stream",
     "text": [
      "100%|##########| 14/14 [01:54<00:00,  8.20s/it]\n",
      "100%|##########| 14/14 [01:54<00:00,  8.22s/it]\n",
      "100%|##########| 14/14 [01:54<00:00,  8.24s/it]\n",
      "  0%|          | 0/14 [00:00<?, ?it/s]"
     ]
    },
    {
     "name": "stdout",
     "output_type": "stream",
     "text": [
      "Lipop TorsionFP\n",
      "loading dataset: Lipop number of split times: 3\n"
     ]
    },
    {
     "name": "stderr",
     "output_type": "stream",
     "text": [
      "100%|##########| 14/14 [01:46<00:00,  7.72s/it]\n",
      "100%|##########| 14/14 [01:55<00:00,  8.44s/it]\n",
      "100%|##########| 14/14 [02:09<00:00,  9.73s/it]\n",
      "  0%|          | 0/14 [00:00<?, ?it/s]"
     ]
    },
    {
     "name": "stdout",
     "output_type": "stream",
     "text": [
      "Lipop AvalonFP\n",
      "loading dataset: Lipop number of split times: 3\n"
     ]
    },
    {
     "name": "stderr",
     "output_type": "stream",
     "text": [
      "100%|##########| 14/14 [02:51<00:00, 12.90s/it]\n",
      "100%|##########| 14/14 [02:59<00:00, 13.11s/it]\n",
      "100%|##########| 14/14 [03:01<00:00, 12.94s/it]\n",
      "  0%|          | 0/14 [00:00<?, ?it/s]"
     ]
    },
    {
     "name": "stdout",
     "output_type": "stream",
     "text": [
      "Lipop EstateFP\n",
      "loading dataset: Lipop number of split times: 3\n"
     ]
    },
    {
     "name": "stderr",
     "output_type": "stream",
     "text": [
      "100%|##########| 14/14 [00:04<00:00,  3.00it/s]\n",
      "100%|##########| 14/14 [00:04<00:00,  3.07it/s]\n",
      "100%|##########| 14/14 [00:04<00:00,  3.11it/s]\n",
      "  0%|          | 0/14 [00:00<?, ?it/s]"
     ]
    },
    {
     "name": "stdout",
     "output_type": "stream",
     "text": [
      "Lipop MACCSFP\n",
      "loading dataset: Lipop number of split times: 3\n"
     ]
    },
    {
     "name": "stderr",
     "output_type": "stream",
     "text": [
      "100%|##########| 14/14 [00:13<00:00,  1.02it/s]\n",
      "100%|##########| 14/14 [00:13<00:00,  1.04it/s]\n",
      "100%|##########| 14/14 [00:13<00:00,  1.03it/s]\n",
      "  0%|          | 0/14 [00:00<?, ?it/s]"
     ]
    },
    {
     "name": "stdout",
     "output_type": "stream",
     "text": [
      "Lipop PharmacoErGFP\n",
      "loading dataset: Lipop number of split times: 3\n"
     ]
    },
    {
     "name": "stderr",
     "output_type": "stream",
     "text": [
      "100%|##########| 14/14 [00:36<00:00,  2.50s/it]\n",
      "100%|##########| 14/14 [00:34<00:00,  2.42s/it]\n",
      "100%|##########| 14/14 [00:32<00:00,  2.38s/it]\n",
      "  0%|          | 0/14 [00:00<?, ?it/s]"
     ]
    },
    {
     "name": "stdout",
     "output_type": "stream",
     "text": [
      "Lipop PharmacoPFP\n",
      "loading dataset: Lipop number of split times: 3\n"
     ]
    },
    {
     "name": "stderr",
     "output_type": "stream",
     "text": [
      "100%|##########| 14/14 [00:18<00:00,  1.40s/it]\n",
      "100%|##########| 14/14 [00:18<00:00,  1.39s/it]\n",
      "100%|##########| 14/14 [00:18<00:00,  1.40s/it]\n",
      "  0%|          | 0/14 [00:00<?, ?it/s]"
     ]
    },
    {
     "name": "stdout",
     "output_type": "stream",
     "text": [
      "Lipop PubChemFP\n",
      "loading dataset: Lipop number of split times: 3\n"
     ]
    },
    {
     "name": "stderr",
     "output_type": "stream",
     "text": [
      "100%|##########| 14/14 [00:54<00:00,  3.86s/it]\n",
      "100%|##########| 14/14 [00:45<00:00,  3.16s/it]\n",
      "100%|##########| 14/14 [00:44<00:00,  3.14s/it]\n",
      "  0%|          | 0/14 [00:00<?, ?it/s]"
     ]
    },
    {
     "name": "stdout",
     "output_type": "stream",
     "text": [
      "Lipop MHFP6\n",
      "loading dataset: Lipop number of split times: 3\n"
     ]
    },
    {
     "name": "stderr",
     "output_type": "stream",
     "text": [
      "100%|##########| 14/14 [01:55<00:00,  8.14s/it]\n",
      "100%|##########| 14/14 [01:53<00:00,  8.14s/it]\n",
      "100%|##########| 14/14 [01:54<00:00,  8.15s/it]\n",
      "  0%|          | 0/14 [00:00<?, ?it/s]"
     ]
    },
    {
     "name": "stdout",
     "output_type": "stream",
     "text": [
      "Lipop MAP4\n",
      "loading dataset: Lipop number of split times: 3\n"
     ]
    },
    {
     "name": "stderr",
     "output_type": "stream",
     "text": [
      "100%|##########| 14/14 [01:53<00:00,  8.08s/it]\n",
      "100%|##########| 14/14 [01:53<00:00,  8.10s/it]\n",
      "100%|##########| 14/14 [01:57<00:00,  8.83s/it]\n",
      "  0%|          | 0/14 [00:00<?, ?it/s]"
     ]
    },
    {
     "name": "stdout",
     "output_type": "stream",
     "text": [
      "FreeSolv MorganFP\n",
      "loading dataset: FreeSolv number of split times: 3\n"
     ]
    },
    {
     "name": "stderr",
     "output_type": "stream",
     "text": [
      "100%|##########| 14/14 [00:04<00:00,  3.45it/s]\n",
      "100%|##########| 14/14 [00:03<00:00,  3.54it/s]\n",
      "100%|##########| 14/14 [00:04<00:00,  3.45it/s]\n",
      "  0%|          | 0/14 [00:00<?, ?it/s]"
     ]
    },
    {
     "name": "stdout",
     "output_type": "stream",
     "text": [
      "FreeSolv RDkitFP\n",
      "loading dataset: FreeSolv number of split times: 3\n"
     ]
    },
    {
     "name": "stderr",
     "output_type": "stream",
     "text": [
      "100%|##########| 14/14 [00:04<00:00,  3.40it/s]\n",
      "100%|##########| 14/14 [00:04<00:00,  3.31it/s]\n",
      "100%|##########| 14/14 [00:04<00:00,  3.38it/s]\n",
      "  0%|          | 0/14 [00:00<?, ?it/s]"
     ]
    },
    {
     "name": "stdout",
     "output_type": "stream",
     "text": [
      "FreeSolv AtomPairFP\n",
      "loading dataset: FreeSolv number of split times: 3\n"
     ]
    },
    {
     "name": "stderr",
     "output_type": "stream",
     "text": [
      "100%|##########| 14/14 [00:04<00:00,  3.40it/s]\n",
      "100%|##########| 14/14 [00:04<00:00,  3.36it/s]\n",
      "100%|##########| 14/14 [00:04<00:00,  3.44it/s]\n",
      "  0%|          | 0/14 [00:00<?, ?it/s]"
     ]
    },
    {
     "name": "stdout",
     "output_type": "stream",
     "text": [
      "FreeSolv TorsionFP\n",
      "loading dataset: FreeSolv number of split times: 3\n"
     ]
    },
    {
     "name": "stderr",
     "output_type": "stream",
     "text": [
      "100%|##########| 14/14 [00:03<00:00,  3.55it/s]\n",
      "100%|##########| 14/14 [00:04<00:00,  3.68it/s]\n",
      "100%|##########| 14/14 [00:04<00:00,  3.51it/s]\n",
      "  0%|          | 0/14 [00:00<?, ?it/s]"
     ]
    },
    {
     "name": "stdout",
     "output_type": "stream",
     "text": [
      "FreeSolv AvalonFP\n",
      "loading dataset: FreeSolv number of split times: 3\n"
     ]
    },
    {
     "name": "stderr",
     "output_type": "stream",
     "text": [
      "100%|##########| 14/14 [00:04<00:00,  3.34it/s]\n",
      "100%|##########| 14/14 [00:04<00:00,  3.36it/s]\n",
      "100%|##########| 14/14 [00:04<00:00,  3.38it/s]\n",
      "100%|##########| 14/14 [00:00<00:00, 83.21it/s]\n",
      "  0%|          | 0/14 [00:00<?, ?it/s]"
     ]
    },
    {
     "name": "stdout",
     "output_type": "stream",
     "text": [
      "FreeSolv EstateFP\n",
      "loading dataset: FreeSolv number of split times: 3\n"
     ]
    },
    {
     "name": "stderr",
     "output_type": "stream",
     "text": [
      "100%|##########| 14/14 [00:00<00:00, 95.45it/s]\n",
      "100%|##########| 14/14 [00:00<00:00, 84.44it/s]\n",
      " 36%|###5      | 5/14 [00:00<00:00, 39.85it/s]"
     ]
    },
    {
     "name": "stdout",
     "output_type": "stream",
     "text": [
      "FreeSolv MACCSFP\n",
      "loading dataset: FreeSolv number of split times: 3\n"
     ]
    },
    {
     "name": "stderr",
     "output_type": "stream",
     "text": [
      "100%|##########| 14/14 [00:00<00:00, 38.17it/s]\n",
      "100%|##########| 14/14 [00:00<00:00, 36.53it/s]\n",
      "100%|##########| 14/14 [00:00<00:00, 36.34it/s]\n",
      " 14%|#4        | 2/14 [00:00<00:00, 16.03it/s]"
     ]
    },
    {
     "name": "stdout",
     "output_type": "stream",
     "text": [
      "FreeSolv PharmacoErGFP\n",
      "loading dataset: FreeSolv number of split times: 3\n"
     ]
    },
    {
     "name": "stderr",
     "output_type": "stream",
     "text": [
      "100%|##########| 14/14 [00:00<00:00, 15.20it/s]\n",
      "100%|##########| 14/14 [00:00<00:00, 15.20it/s]\n",
      "100%|##########| 14/14 [00:00<00:00, 15.19it/s]\n",
      " 21%|##1       | 3/14 [00:00<00:00, 23.17it/s]"
     ]
    },
    {
     "name": "stdout",
     "output_type": "stream",
     "text": [
      "FreeSolv PharmacoPFP\n",
      "loading dataset: FreeSolv number of split times: 3\n"
     ]
    },
    {
     "name": "stderr",
     "output_type": "stream",
     "text": [
      "100%|##########| 14/14 [00:00<00:00, 21.82it/s]\n",
      "100%|##########| 14/14 [00:00<00:00, 22.53it/s]\n",
      "100%|##########| 14/14 [00:00<00:00, 22.72it/s]\n",
      "  0%|          | 0/14 [00:00<?, ?it/s]"
     ]
    },
    {
     "name": "stdout",
     "output_type": "stream",
     "text": [
      "FreeSolv PubChemFP\n",
      "loading dataset: FreeSolv number of split times: 3\n"
     ]
    },
    {
     "name": "stderr",
     "output_type": "stream",
     "text": [
      "100%|##########| 14/14 [00:01<00:00,  8.72it/s]\n",
      "100%|##########| 14/14 [00:01<00:00,  8.49it/s]\n",
      "100%|##########| 14/14 [00:01<00:00,  8.64it/s]\n",
      "  0%|          | 0/14 [00:00<?, ?it/s]"
     ]
    },
    {
     "name": "stdout",
     "output_type": "stream",
     "text": [
      "FreeSolv MHFP6\n",
      "loading dataset: FreeSolv number of split times: 3\n"
     ]
    },
    {
     "name": "stderr",
     "output_type": "stream",
     "text": [
      "100%|##########| 14/14 [00:04<00:00,  3.12it/s]\n",
      "100%|##########| 14/14 [00:04<00:00,  3.32it/s]\n",
      "100%|##########| 14/14 [00:04<00:00,  3.24it/s]\n",
      "  0%|          | 0/14 [00:00<?, ?it/s]"
     ]
    },
    {
     "name": "stdout",
     "output_type": "stream",
     "text": [
      "FreeSolv MAP4\n",
      "loading dataset: FreeSolv number of split times: 3\n"
     ]
    },
    {
     "name": "stderr",
     "output_type": "stream",
     "text": [
      "100%|##########| 14/14 [00:04<00:00,  3.25it/s]\n",
      "100%|##########| 14/14 [00:04<00:00,  3.23it/s]\n",
      "100%|##########| 14/14 [00:04<00:00,  3.20it/s]\n"
     ]
    }
   ],
   "source": [
    "performance = []\n",
    "\n",
    "for data in datasets:\n",
    "    for fp_type in fp_types:\n",
    "        task_name = data.task_name\n",
    "        print(task_name, fp_type)\n",
    "        df, induces = load_data(task_name)\n",
    "        X2 = load('/raid/shenwanxiang/10_FP_effect/tempignore/X2_%s_%s.data' % (task_name, fp_type) )\n",
    "        n, w, c = X2.sum(axis=-1).shape\n",
    "        X2 = X2.reshape(n, w*c)\n",
    "        Y = data.y\n",
    "        for i, idx in enumerate(induces):\n",
    "            train_idx, valid_idx, test_idx = idx\n",
    "\n",
    "            X = X2[train_idx]\n",
    "            y = Y[train_idx]\n",
    "\n",
    "            X_valid = X2[valid_idx]\n",
    "            y_valid = Y[valid_idx]\n",
    "\n",
    "            X_test = X2[test_idx]\n",
    "            y_test = Y[test_idx] \n",
    "\n",
    "            # Set up possible values of parameters to optimize over\n",
    "            n_neighbors_list = np.arange(1, 15, 2)\n",
    "            weights_list =  ['uniform', 'distance']\n",
    "            res = []\n",
    "            for n_neighbors in tqdm(n_neighbors_list, ascii=True):\n",
    "                for weights in weights_list:\n",
    "                    clf = KNeighborsRegressor(n_neighbors=n_neighbors, weights = weights)\n",
    "                    clf.fit(X, y)\n",
    "                    score = clf.score(X_valid, y_valid)\n",
    "                    res.append([n_neighbors, weights, score])\n",
    "\n",
    "            dfr = pd.DataFrame(res, columns = ['n_neighbors', 'weights', 'score'])\n",
    "            gidx = dfr['score'].idxmax()\n",
    "            best_params = dfr.iloc[gidx].to_dict()\n",
    "            best_params.pop('score')\n",
    "            best_params\n",
    "\n",
    "            clf = KNeighborsRegressor(**best_params)\n",
    "            clf.fit(X, y, )\n",
    "\n",
    "            test_r2 = r2(y_test, clf.predict(X_test))\n",
    "            test_rmse = rmse(y_test, clf.predict(X_test))\n",
    "            results = {\"task_name\":task_name, 'fp_type':fp_type,\"split-time\":i, \"test_rmse\":test_rmse , \"test_r2\": test_r2}\n",
    "\n",
    "            performance.append(results)"
   ]
  },
  {
   "cell_type": "code",
   "execution_count": null,
   "metadata": {},
   "outputs": [],
   "source": []
  },
  {
   "cell_type": "code",
   "execution_count": 8,
   "metadata": {},
   "outputs": [],
   "source": [
    "pd.DataFrame(performance).to_csv('./knn_regression.csv')"
   ]
  },
  {
   "cell_type": "code",
   "execution_count": 16,
   "metadata": {},
   "outputs": [
    {
     "data": {
      "text/plain": [
       "task_name  fp_type      \n",
       "ESOL       AtomPairFP       0.723782\n",
       "           AvalonFP         0.703896\n",
       "           EstateFP         0.518462\n",
       "           MACCSFP          0.703028\n",
       "           MAP4             0.570213\n",
       "           MHFP6            0.642149\n",
       "           MorganFP         0.524776\n",
       "           PharmacoErGFP    0.560204\n",
       "           PharmacoPFP      0.695061\n",
       "           PubChemFP        0.730567\n",
       "           RDkitFP          0.676306\n",
       "           TorsionFP        0.508625\n",
       "FreeSolv   AtomPairFP       0.684389\n",
       "           AvalonFP         0.805264\n",
       "           EstateFP         0.781209\n",
       "           MACCSFP          0.818480\n",
       "           MAP4             0.352572\n",
       "           MHFP6            0.745899\n",
       "           MorganFP         0.501347\n",
       "           PharmacoErGFP    0.767449\n",
       "           PharmacoPFP      0.608869\n",
       "           PubChemFP        0.806931\n",
       "           RDkitFP          0.761272\n",
       "           TorsionFP        0.398211\n",
       "Lipop      AtomPairFP       0.436795\n",
       "           AvalonFP         0.390984\n",
       "           EstateFP         0.301671\n",
       "           MACCSFP          0.396843\n",
       "           MAP4             0.303400\n",
       "           MHFP6            0.367204\n",
       "           MorganFP         0.363647\n",
       "           PharmacoErGFP    0.478440\n",
       "           PharmacoPFP      0.451367\n",
       "           PubChemFP        0.418912\n",
       "           RDkitFP          0.373446\n",
       "           TorsionFP        0.379909\n",
       "Name: test_r2, dtype: float64"
      ]
     },
     "execution_count": 16,
     "metadata": {},
     "output_type": "execute_result"
    }
   ],
   "source": [
    "pd.DataFrame(performance).groupby(['task_name','fp_type'])['test_r2'].apply(lambda x:x.mean())"
   ]
  },
  {
   "cell_type": "code",
   "execution_count": null,
   "metadata": {},
   "outputs": [],
   "source": []
  },
  {
   "cell_type": "code",
   "execution_count": null,
   "metadata": {},
   "outputs": [],
   "source": []
  },
  {
   "cell_type": "code",
   "execution_count": null,
   "metadata": {},
   "outputs": [],
   "source": []
  },
  {
   "cell_type": "code",
   "execution_count": null,
   "metadata": {},
   "outputs": [],
   "source": []
  },
  {
   "cell_type": "code",
   "execution_count": null,
   "metadata": {},
   "outputs": [],
   "source": []
  },
  {
   "cell_type": "code",
   "execution_count": null,
   "metadata": {},
   "outputs": [],
   "source": []
  },
  {
   "cell_type": "code",
   "execution_count": null,
   "metadata": {},
   "outputs": [],
   "source": []
  }
 ],
 "metadata": {
  "kernelspec": {
   "display_name": "Python 3",
   "language": "python",
   "name": "python3"
  },
  "language_info": {
   "codemirror_mode": {
    "name": "ipython",
    "version": 3
   },
   "file_extension": ".py",
   "mimetype": "text/x-python",
   "name": "python",
   "nbconvert_exporter": "python",
   "pygments_lexer": "ipython3",
   "version": "3.6.10"
  }
 },
 "nbformat": 4,
 "nbformat_minor": 4
}
