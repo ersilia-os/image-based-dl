{
 "cells": [
  {
   "cell_type": "code",
   "execution_count": 1,
   "metadata": {},
   "outputs": [],
   "source": [
    "import numpy as np\n",
    "import pandas as pd\n",
    "from tqdm import tqdm\n",
    "tqdm.pandas(ascii=True)\n",
    "\n",
    "from rdkit import Chem\n",
    "import seaborn as sns\n",
    "\n",
    "from sklearn.cluster import AgglomerativeClustering, DBSCAN, SpectralClustering\n",
    "from scipy.stats import ks_2samp, chisquare,  power_divergence\n",
    "\n",
    "import tmap, os\n",
    "from faerun import Faerun\n",
    "from mhfp.encoder import MHFPEncoder\n",
    "from rdkit.Chem import AllChem\n",
    "from rdkit import DataStructs, Chem\n",
    "from rdkit import Chem\n",
    "from rdkit.Chem import rdMolDescriptors\n",
    "from sklearn.decomposition import PCA\n",
    "\n",
    "import seaborn as sns\n",
    "\n",
    "\n",
    "import matplotlib.pyplot as plt\n",
    "%matplotlib inline\n"
   ]
  },
  {
   "cell_type": "code",
   "execution_count": 2,
   "metadata": {},
   "outputs": [],
   "source": [
    "df_bace = pd.read_csv('../data/bace.csv')\n",
    "df_chembl = pd.read_csv('../data/bace_chembl.csv')\n",
    "tasks = 'Class'"
   ]
  },
  {
   "cell_type": "code",
   "execution_count": 3,
   "metadata": {},
   "outputs": [
    {
     "name": "stderr",
     "output_type": "stream",
     "text": [
      "/home/sxh/anaconda3/envs/rdkit2020/lib/python3.6/site-packages/pandas/core/frame.py:7138: FutureWarning: Sorting because non-concatenation axis is not aligned. A future version\n",
      "of pandas will change to not sort by default.\n",
      "\n",
      "To accept the future behavior, pass 'sort=False'.\n",
      "\n",
      "To retain the current behavior and silence the warning, pass 'sort=True'.\n",
      "\n",
      "  sort=sort,\n"
     ]
    }
   ],
   "source": [
    "df = df_bace.append(df_chembl)\n",
    "df = df.reset_index(drop=True)"
   ]
  },
  {
   "cell_type": "code",
   "execution_count": 4,
   "metadata": {},
   "outputs": [
    {
     "name": "stdout",
     "output_type": "stream",
     "text": [
      "1513 5720\n"
     ]
    }
   ],
   "source": [
    "bace_idx = df.index[:len(df_bace)]\n",
    "chembl_idx = df.index[len(df_bace): ]\n",
    "\n",
    "print(len(bace_idx), len(chembl_idx))"
   ]
  },
  {
   "cell_type": "code",
   "execution_count": null,
   "metadata": {},
   "outputs": [],
   "source": []
  },
  {
   "cell_type": "code",
   "execution_count": 5,
   "metadata": {},
   "outputs": [
    {
     "name": "stderr",
     "output_type": "stream",
     "text": [
      "100%|##########| 7233/7233 [00:01<00:00, 6472.74it/s]\n"
     ]
    }
   ],
   "source": [
    "dim = 2048\n",
    "mols = [Chem.MolFromSmiles(s) for s in df.smiles]\n",
    "ECFP4_fps = [AllChem.GetMorganFingerprintAsBitVect(x,2,dim) for x in tqdm(mols, ascii=True)]\n",
    "\n",
    "ecfps = [tmap.VectorUchar(list(fp)) for fp in ECFP4_fps]\n",
    "enc = tmap.Minhash(dim, seed = 2048)\n",
    "\n",
    "lf = tmap.LSHForest(dim)\n",
    "lf.batch_add(enc.batch_from_binary_array(ecfps))\n",
    "lf.index()"
   ]
  },
  {
   "cell_type": "code",
   "execution_count": 6,
   "metadata": {},
   "outputs": [],
   "source": [
    "x, y, s, t, gp = tmap.layout_from_lsh_forest(lf)\n",
    "X = np.array([x,y]).T"
   ]
  },
  {
   "cell_type": "code",
   "execution_count": 7,
   "metadata": {},
   "outputs": [
    {
     "name": "stderr",
     "output_type": "stream",
     "text": [
      "/home/sxh/anaconda3/envs/rdkit2020/lib/python3.6/site-packages/sklearn/cluster/_agglomerative.py:247: UserWarning: the number of connected components of the connectivity matrix is 534 > 1. Completing it to avoid stopping the tree early.\n",
      "  affinity='euclidean')\n"
     ]
    },
    {
     "data": {
      "text/plain": [
       "15    442\n",
       "23    412\n",
       "22    395\n",
       "12    350\n",
       "21    339\n",
       "16    311\n",
       "14    288\n",
       "27    285\n",
       "0     275\n",
       "13    272\n",
       "2     271\n",
       "7     265\n",
       "29    263\n",
       "6     258\n",
       "5     257\n",
       "28    223\n",
       "18    196\n",
       "11    195\n",
       "9     187\n",
       "19    186\n",
       "26    182\n",
       "8     182\n",
       "4     168\n",
       "10    165\n",
       "17    159\n",
       "24    147\n",
       "3     145\n",
       "1     143\n",
       "25    143\n",
       "20    129\n",
       "dtype: int64"
      ]
     },
     "execution_count": 7,
     "metadata": {},
     "output_type": "execute_result"
    }
   ],
   "source": [
    "\n",
    "def adj_list_to_matrix(adj_list):\n",
    "    n = len(adj_list)\n",
    "    adj_matrix = np.zeros((n,n))\n",
    "    for i,c in enumerate(adj_list):\n",
    "        for (j, weight) in c:\n",
    "            adj_matrix[i, j] = weight    \n",
    "    return adj_matrix\n",
    "\n",
    "adj_csr = adj_list_to_matrix(gp.adjacency_list)\n",
    "\n",
    "clustering  = AgglomerativeClustering(n_clusters = 30, connectivity = adj_csr,).fit(X)\n",
    "# clustering= SpectralClustering(n_clusters = n_clusters, random_state = 2, n_init = 100).fit(X)\n",
    "dft = pd.concat([pd.Series(clustering.labels_), pd.Series(x)], axis=1)\n",
    "order_dict = dft.groupby(0)[1].apply(np.min).sort_values().argsort().to_dict()\n",
    "\n",
    "clustering.labels_ = pd.Series(clustering.labels_).map(order_dict).values\n",
    "\n",
    "pd.Series(clustering.labels_).value_counts()"
   ]
  },
  {
   "cell_type": "code",
   "execution_count": 8,
   "metadata": {},
   "outputs": [],
   "source": [
    "s = pd.Series(clustering.labels_)"
   ]
  },
  {
   "cell_type": "code",
   "execution_count": 9,
   "metadata": {},
   "outputs": [
    {
     "data": {
      "text/plain": [
       "{0,\n",
       " 1,\n",
       " 2,\n",
       " 3,\n",
       " 4,\n",
       " 5,\n",
       " 6,\n",
       " 7,\n",
       " 8,\n",
       " 9,\n",
       " 10,\n",
       " 11,\n",
       " 12,\n",
       " 13,\n",
       " 14,\n",
       " 15,\n",
       " 16,\n",
       " 17,\n",
       " 18,\n",
       " 19,\n",
       " 21,\n",
       " 23,\n",
       " 26,\n",
       " 27,\n",
       " 28,\n",
       " 29}"
      ]
     },
     "execution_count": 9,
     "metadata": {},
     "output_type": "execute_result"
    }
   ],
   "source": [
    "occ = pd.Series(clustering.labels_[bace_idx]).unique()\n",
    "set(occ)"
   ]
  },
  {
   "cell_type": "code",
   "execution_count": 10,
   "metadata": {},
   "outputs": [
    {
     "data": {
      "text/plain": [
       "{20, 22, 24, 25}"
      ]
     },
     "execution_count": 10,
     "metadata": {},
     "output_type": "execute_result"
    }
   ],
   "source": [
    "select = set(pd.Series(clustering.labels_).unique()) - set(occ)\n",
    "select"
   ]
  },
  {
   "cell_type": "code",
   "execution_count": 11,
   "metadata": {},
   "outputs": [
    {
     "data": {
      "text/plain": [
       "24    147\n",
       "25    143\n",
       "20    129\n",
       "22    395\n",
       "dtype: int64"
      ]
     },
     "execution_count": 11,
     "metadata": {},
     "output_type": "execute_result"
    }
   ],
   "source": [
    "s.value_counts()[list(select)]"
   ]
  },
  {
   "cell_type": "code",
   "execution_count": 18,
   "metadata": {},
   "outputs": [
    {
     "data": {
      "text/plain": [
       "395"
      ]
     },
     "execution_count": 18,
     "metadata": {},
     "output_type": "execute_result"
    }
   ],
   "source": [
    "novel_idx = pd.Series(clustering.labels_)[pd.Series(clustering.labels_).isin({22})].index\n",
    "len(novel_idx)"
   ]
  },
  {
   "cell_type": "code",
   "execution_count": 19,
   "metadata": {},
   "outputs": [],
   "source": [
    "novel_idx = df.iloc[novel_idx].ID.tolist()\n",
    "novel_idx = df_chembl[df_chembl.ID.isin(novel_idx)].index"
   ]
  },
  {
   "cell_type": "code",
   "execution_count": null,
   "metadata": {},
   "outputs": [],
   "source": []
  },
  {
   "cell_type": "code",
   "execution_count": 20,
   "metadata": {},
   "outputs": [],
   "source": [
    "df_chembl_novel = df_chembl.iloc[novel_idx].reset_index(drop=True)\n",
    "df_chembl_common = df_chembl[~df_chembl.index.isin(novel_idx)].reset_index(drop=True)"
   ]
  },
  {
   "cell_type": "code",
   "execution_count": 21,
   "metadata": {},
   "outputs": [],
   "source": [
    "df_chembl_novel.to_csv('../data/bace_chembl_novel.csv')\n",
    "df_chembl_common.to_csv('../data/bace_chembl_common.csv')"
   ]
  },
  {
   "cell_type": "code",
   "execution_count": 22,
   "metadata": {},
   "outputs": [
    {
     "data": {
      "text/plain": [
       "1    216\n",
       "0    179\n",
       "Name: Class, dtype: int64"
      ]
     },
     "execution_count": 22,
     "metadata": {},
     "output_type": "execute_result"
    }
   ],
   "source": [
    "df_chembl_novel.Class.value_counts()"
   ]
  },
  {
   "cell_type": "code",
   "execution_count": 23,
   "metadata": {},
   "outputs": [
    {
     "data": {
      "text/plain": [
       "0    3248\n",
       "1    2077\n",
       "Name: Class, dtype: int64"
      ]
     },
     "execution_count": 23,
     "metadata": {},
     "output_type": "execute_result"
    }
   ],
   "source": [
    "df_chembl_common.Class.value_counts()"
   ]
  },
  {
   "cell_type": "code",
   "execution_count": null,
   "metadata": {},
   "outputs": [],
   "source": []
  },
  {
   "cell_type": "code",
   "execution_count": null,
   "metadata": {},
   "outputs": [],
   "source": []
  },
  {
   "cell_type": "code",
   "execution_count": null,
   "metadata": {},
   "outputs": [],
   "source": []
  }
 ],
 "metadata": {
  "kernelspec": {
   "display_name": "Python 3",
   "language": "python",
   "name": "python3"
  },
  "language_info": {
   "codemirror_mode": {
    "name": "ipython",
    "version": 3
   },
   "file_extension": ".py",
   "mimetype": "text/x-python",
   "name": "python",
   "nbconvert_exporter": "python",
   "pygments_lexer": "ipython3",
   "version": "3.6.9"
  }
 },
 "nbformat": 4,
 "nbformat_minor": 4
}
