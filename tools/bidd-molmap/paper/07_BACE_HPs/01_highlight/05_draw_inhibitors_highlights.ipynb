{
 "cells": [
  {
   "cell_type": "code",
   "execution_count": 1,
   "metadata": {},
   "outputs": [],
   "source": [
    "import matplotlib.pyplot as plt\n",
    "import matplotlib as mpl\n",
    "import matplotlib\n",
    "from matplotlib.colors import DivergingNorm\n",
    "from matplotlib.colors import to_rgba_array\n",
    "import numpy as np\n",
    "from joblib import dump, load\n",
    "from tqdm import tqdm\n",
    "import pandas as pd\n",
    "tqdm.pandas(ascii=True)\n",
    "import seaborn as sns\n",
    "\n",
    "import os\n",
    "\n",
    "from rdkit import Chem\n",
    "from rdkit.Chem import AllChem\n",
    "from rdkit.Chem.Draw import rdMolDraw2D\n",
    "from rdkit.Chem import rdFMCS\n",
    "\n",
    "\n",
    "\n",
    "from rdkit.Chem import Draw\n",
    "from IPython import display\n",
    "from base64 import b64decode\n",
    "import molmap\n",
    "extractor = molmap.feature.fingerprint.Extraction({'PubChemFP':{}, 'MACCSFP':{}, \"PharmacoErGFP\":{}})\n",
    "sns.set(style='white',  font='sans-serif', font_scale=1.5)"
   ]
  },
  {
   "cell_type": "code",
   "execution_count": 2,
   "metadata": {},
   "outputs": [
    {
     "data": {
      "image/png": "[encoded data removed]",
      "text/plain": [
       "<Figure size 720x72 with 1 Axes>"
      ]
     },
     "metadata": {
      "needs_background": "light"
     },
     "output_type": "display_data"
    }
   ],
   "source": [
    "s = sns.color_palette(\"bwr_r\", n_colors=10)\n",
    "sns.palplot(s)"
   ]
  },
  {
   "cell_type": "code",
   "execution_count": 3,
   "metadata": {},
   "outputs": [
    {
     "data": {
      "text/plain": [
       "'0.9.1'"
      ]
     },
     "execution_count": 3,
     "metadata": {},
     "output_type": "execute_result"
    }
   ],
   "source": [
    "sns.__version__"
   ]
  },
  {
   "cell_type": "code",
   "execution_count": 4,
   "metadata": {},
   "outputs": [
    {
     "name": "stdout",
     "output_type": "stream",
     "text": [
      "total samples: 1513\n"
     ]
    }
   ],
   "source": [
    "from chembench import dataset\n",
    "data = dataset.load_BACE()"
   ]
  },
  {
   "cell_type": "code",
   "execution_count": 5,
   "metadata": {},
   "outputs": [],
   "source": [
    "df = data.df\n",
    "df_feature_imp = pd.read_csv('./feature_importance.csv', index_col = 'v')"
   ]
  },
  {
   "cell_type": "code",
   "execution_count": 6,
   "metadata": {},
   "outputs": [
    {
     "name": "stderr",
     "output_type": "stream",
     "text": [
      "100%|##########| 1513/1513 [00:11<00:00, 136.53it/s]\n"
     ]
    }
   ],
   "source": [
    "X = extractor.batch_transform(df.smiles)\n",
    "dfx = pd.DataFrame(X, columns = extractor.bitsinfo.IDs)*1\n",
    "dfx.index = df.smiles\n",
    "weight = 'Feature importance based on training set'"
   ]
  },
  {
   "cell_type": "code",
   "execution_count": null,
   "metadata": {},
   "outputs": [],
   "source": []
  },
  {
   "cell_type": "code",
   "execution_count": null,
   "metadata": {},
   "outputs": [],
   "source": []
  },
  {
   "cell_type": "code",
   "execution_count": 7,
   "metadata": {},
   "outputs": [],
   "source": [
    "from molmap.feature.fingerprint import smarts_maccskey, smarts_pharmacophore, smarts_pubchem\n",
    "\n",
    "smt1 = smarts_pubchem.smartsPatts\n",
    "smt2 = smarts_maccskey.smartsPatts\n",
    "\n",
    "_, bits = molmap.feature.fingerprint.pharmErGfp.GetPharmacoErGFPs(Chem.MolFromSmiles('C'), return_bitInfo=True)\n",
    "erg = pd.DataFrame([bits]).T\n",
    "erg.index = ['PharmacoErGFP%s' % i for i in erg.index]\n",
    "\n",
    "smt3 = erg[0].to_dict()\n",
    "\n",
    "smt3_map = smarts_pharmacophore.pharmacophore_smarts"
   ]
  },
  {
   "cell_type": "code",
   "execution_count": 8,
   "metadata": {},
   "outputs": [],
   "source": [
    "smarts_all = []\n",
    "for fp, s in df_feature_imp.iterrows():\n",
    "    \n",
    "    if s.Subtypes == 'PubChemFP':\n",
    "        smarts = smt1.get(fp)\n",
    "        \n",
    "    if s.Subtypes == 'MACCSFP':\n",
    "        smarts = smt2.get(fp)\n",
    "        \n",
    "    if s.Subtypes == 'PharmacoErGFP':\n",
    "        smarts = smt3.get(fp)\n",
    "    \n",
    "    smarts_all.append(smarts)\n",
    "    \n",
    "df_feature_imp['smarts'] = smarts_all\n",
    "df_map = df_feature_imp\n",
    "df_map = df_map.dropna()"
   ]
  },
  {
   "cell_type": "code",
   "execution_count": 9,
   "metadata": {},
   "outputs": [
    {
     "data": {
      "text/html": [
       "<div>\n",
       "<style scoped>\n",
       "    .dataframe tbody tr th:only-of-type {\n",
       "        vertical-align: middle;\n",
       "    }\n",
       "\n",
       "    .dataframe tbody tr th {\n",
       "        vertical-align: top;\n",
       "    }\n",
       "\n",
       "    .dataframe thead th {\n",
       "        text-align: right;\n",
       "    }\n",
       "</style>\n",
       "<table border=\"1\" class=\"dataframe\">\n",
       "  <thead>\n",
       "    <tr style=\"text-align: right;\">\n",
       "      <th></th>\n",
       "      <th>Feature importance based on training set</th>\n",
       "      <th>Feature importance based on test set</th>\n",
       "      <th>Subtypes</th>\n",
       "      <th>colors</th>\n",
       "      <th>x</th>\n",
       "      <th>y</th>\n",
       "      <th>Bit Substructure</th>\n",
       "      <th>Proportion in inhibitors</th>\n",
       "      <th>Proportion in non-inhibitors</th>\n",
       "      <th>smarts</th>\n",
       "    </tr>\n",
       "    <tr>\n",
       "      <th>v</th>\n",
       "      <th></th>\n",
       "      <th></th>\n",
       "      <th></th>\n",
       "      <th></th>\n",
       "      <th></th>\n",
       "      <th></th>\n",
       "      <th></th>\n",
       "      <th></th>\n",
       "      <th></th>\n",
       "      <th></th>\n",
       "    </tr>\n",
       "  </thead>\n",
       "  <tbody>\n",
       "    <tr>\n",
       "      <th>PubChemFP797</th>\n",
       "      <td>0.051609</td>\n",
       "      <td>0.073840</td>\n",
       "      <td>PubChemFP</td>\n",
       "      <td>#d600ff</td>\n",
       "      <td>13</td>\n",
       "      <td>29</td>\n",
       "      <td>CC1CC(C)CCC1</td>\n",
       "      <td>0.687410</td>\n",
       "      <td>0.480535</td>\n",
       "      <td>([#6][#6]1[#6][#6]([#6])[#6][#6][#6]1, 0)</td>\n",
       "    </tr>\n",
       "    <tr>\n",
       "      <th>PubChemFP734</th>\n",
       "      <td>0.047897</td>\n",
       "      <td>0.085498</td>\n",
       "      <td>PubChemFP</td>\n",
       "      <td>#d600ff</td>\n",
       "      <td>16</td>\n",
       "      <td>31</td>\n",
       "      <td>Cc1cc(C)ccc1</td>\n",
       "      <td>0.683068</td>\n",
       "      <td>0.464720</td>\n",
       "      <td>([#6]c1cc([#6])ccc1, 0)</td>\n",
       "    </tr>\n",
       "    <tr>\n",
       "      <th>PharmacoErGFP148</th>\n",
       "      <td>0.046328</td>\n",
       "      <td>0.062735</td>\n",
       "      <td>PharmacoErGFP</td>\n",
       "      <td>#003fff</td>\n",
       "      <td>5</td>\n",
       "      <td>29</td>\n",
       "      <td>('Acceptor', 'Positive', 2)</td>\n",
       "      <td>0.739508</td>\n",
       "      <td>0.485401</td>\n",
       "      <td>(Acceptor, Positive, 2)</td>\n",
       "    </tr>\n",
       "    <tr>\n",
       "      <th>MACCSFP84</th>\n",
       "      <td>0.044342</td>\n",
       "      <td>0.042815</td>\n",
       "      <td>MACCSFP</td>\n",
       "      <td>#00c7ff</td>\n",
       "      <td>9</td>\n",
       "      <td>31</td>\n",
       "      <td>('[NH2]', 0)</td>\n",
       "      <td>0.953690</td>\n",
       "      <td>0.811436</td>\n",
       "      <td>([NH2], 0)</td>\n",
       "    </tr>\n",
       "    <tr>\n",
       "      <th>PharmacoErGFP24</th>\n",
       "      <td>0.039897</td>\n",
       "      <td>0.042800</td>\n",
       "      <td>PharmacoErGFP</td>\n",
       "      <td>#003fff</td>\n",
       "      <td>10</td>\n",
       "      <td>30</td>\n",
       "      <td>('Donor', 'Acceptor', 4)</td>\n",
       "      <td>0.986975</td>\n",
       "      <td>0.880779</td>\n",
       "      <td>(Donor, Acceptor, 4)</td>\n",
       "    </tr>\n",
       "  </tbody>\n",
       "</table>\n",
       "</div>"
      ],
      "text/plain": [
       "                  Feature importance based on training set  \\\n",
       "v                                                            \n",
       "PubChemFP797                                      0.051609   \n",
       "PubChemFP734                                      0.047897   \n",
       "PharmacoErGFP148                                  0.046328   \n",
       "MACCSFP84                                         0.044342   \n",
       "PharmacoErGFP24                                   0.039897   \n",
       "\n",
       "                  Feature importance based on test set       Subtypes  \\\n",
       "v                                                                       \n",
       "PubChemFP797                                  0.073840      PubChemFP   \n",
       "PubChemFP734                                  0.085498      PubChemFP   \n",
       "PharmacoErGFP148                              0.062735  PharmacoErGFP   \n",
       "MACCSFP84                                     0.042815        MACCSFP   \n",
       "PharmacoErGFP24                               0.042800  PharmacoErGFP   \n",
       "\n",
       "                   colors   x   y             Bit Substructure  \\\n",
       "v                                                                \n",
       "PubChemFP797      #d600ff  13  29                 CC1CC(C)CCC1   \n",
       "PubChemFP734      #d600ff  16  31                 Cc1cc(C)ccc1   \n",
       "PharmacoErGFP148  #003fff   5  29  ('Acceptor', 'Positive', 2)   \n",
       "MACCSFP84         #00c7ff   9  31                 ('[NH2]', 0)   \n",
       "PharmacoErGFP24   #003fff  10  30     ('Donor', 'Acceptor', 4)   \n",
       "\n",
       "                  Proportion in inhibitors  Proportion in non-inhibitors  \\\n",
       "v                                                                          \n",
       "PubChemFP797                      0.687410                      0.480535   \n",
       "PubChemFP734                      0.683068                      0.464720   \n",
       "PharmacoErGFP148                  0.739508                      0.485401   \n",
       "MACCSFP84                         0.953690                      0.811436   \n",
       "PharmacoErGFP24                   0.986975                      0.880779   \n",
       "\n",
       "                                                     smarts  \n",
       "v                                                            \n",
       "PubChemFP797      ([#6][#6]1[#6][#6]([#6])[#6][#6][#6]1, 0)  \n",
       "PubChemFP734                        ([#6]c1cc([#6])ccc1, 0)  \n",
       "PharmacoErGFP148                    (Acceptor, Positive, 2)  \n",
       "MACCSFP84                                        ([NH2], 0)  \n",
       "PharmacoErGFP24                        (Donor, Acceptor, 4)  "
      ]
     },
     "execution_count": 9,
     "metadata": {},
     "output_type": "execute_result"
    }
   ],
   "source": [
    "df_map.head(5)"
   ]
  },
  {
   "cell_type": "code",
   "execution_count": null,
   "metadata": {},
   "outputs": [],
   "source": []
  },
  {
   "cell_type": "code",
   "execution_count": null,
   "metadata": {},
   "outputs": [],
   "source": []
  },
  {
   "cell_type": "code",
   "execution_count": 351,
   "metadata": {},
   "outputs": [],
   "source": [
    "def hit_bonds_from_atoms(mol, patt, hit_ats):\n",
    "\n",
    "    bond_lists = []\n",
    "    for i, hit_at in enumerate(hit_ats):\n",
    "        hit_at = list(hit_at)\n",
    "        bond_list = []\n",
    "        for bond in patt.GetBonds():\n",
    "            a1 = hit_at[bond.GetBeginAtomIdx()]\n",
    "            a2 = hit_at[bond.GetEndAtomIdx()]\n",
    "            bond_list.append(mol.GetBondBetweenAtoms(a1, a2).GetIdx())\n",
    "        bond_lists.append(bond_list)\n",
    "    return bond_lists\n",
    "\n",
    "\n",
    "def _apply_mean(g): \n",
    "    \"\"\"\n",
    "    average to atom & bond's contribution\n",
    "    \"\"\"\n",
    "    color_weight = g.color_weight.mean()\n",
    "    radius_weight = g.radius_weight.mean()\n",
    "    return radius_weight, color_weight\n",
    "\n",
    "\n",
    "def _apply_scale(x, vmin, vmax):\n",
    "    \"\"\"\n",
    "    scale to 0,1 (the same level)\n",
    "    \"\"\"\n",
    "    #vmin= 0.008 #0.006\n",
    "    #vmax= 0.06 #0.021\n",
    "    return (x - vmin)/(vmax - vmin)\n",
    "\n",
    "\n",
    "def value2color(values, vmin, vmax, cmap):\n",
    "#     norm = DivergingNorm(vmin=values.min(), vcenter = values.mean(), vmax=values.max())\n",
    "#     v = norm(values)\n",
    "    v = _apply_scale(values, vmin, vmax)\n",
    "    weighted_colors = [matplotlib.colors.to_rgb(i) for i in cmap(v)]\n",
    "    return weighted_colors\n",
    "\n",
    "\n",
    "def plot_fp(fp , i = 0):\n",
    "    a = dfx[[fp]]\n",
    "    a['y'] = df['Class'].tolist()\n",
    "    a = a[a.y==1]\n",
    "    m = a[a[fp]==1].index[i]\n",
    "    mol = Chem.MolFromSmiles(m)\n",
    "\n",
    "    if \"MACCSFP\" in fp:\n",
    "        smt, count = smt2.get(fp)\n",
    "    if \"PubChemFP\" in fp:\n",
    "        smt, count = smt1.get(fp)\n",
    "\n",
    "    patt = Chem.MolFromSmarts(smt)\n",
    "    hit_ats = mol.GetSubstructMatches(patt)\n",
    "    \n",
    "    bond_lists = hit_bonds_from_atoms(mol, patt, hit_ats)\n",
    "\n",
    "    colours = [(1, 0, 0), (0, 1, 0), (0, 0, 1)]\n",
    "    atom_cols = {}\n",
    "    bond_cols = {}\n",
    "    atom_list = []\n",
    "    bond_list = []\n",
    "    for i, (hit_atom, hit_bond) in enumerate(zip(hit_ats, bond_lists)):\n",
    "        hit_atom = list(hit_atom)\n",
    "        for at in hit_atom:\n",
    "            atom_cols[at] = colours[1]\n",
    "            atom_list.append(at)\n",
    "        for bd in hit_bond:\n",
    "            bond_cols[bd] = colours[1]\n",
    "            bond_list.append(bd)\n",
    "        \n",
    "\n",
    "    d = rdMolDraw2D.MolDraw2DSVG(300, 300)\n",
    "    \n",
    "    rdMolDraw2D.PrepareAndDrawMolecule(d, mol, highlightAtoms=atom_list,\n",
    "                                       highlightAtomColors=atom_cols,\n",
    "                                       highlightBonds=bond_list, \n",
    "                                       highlightBondColors=bond_cols)\n",
    "\n",
    "    d.FinishDrawing()\n",
    "\n",
    "    svg = d.GetDrawingText()\n",
    "    \n",
    "    \n",
    "    return svg, hit_ats, bimg, patt, mol\n",
    "\n",
    "\n",
    "def highlight_important_atom(smiles, cmap, core_mol = None, vmin = 0.007, vmax = 0.025, top = 50, ):\n",
    "    \n",
    "    \"\"\"\n",
    "    #smiles = 'O1CC[C@@H](NC(=O)[C@@H](Cc2cc3cc(ccc3nc2N)-c2ccccc2C)C)CC1(C)C'\n",
    "    cmap: mpl color map\n",
    "    core_smiles: core to align the molecule\n",
    "    top: number of the top fingerprint to highlight, if -1, use all of it\n",
    "    \"\"\"\n",
    "    X = extractor.transform(smiles)\n",
    "    dfx = pd.DataFrame(X, index = extractor.bitsinfo.IDs, columns = [smiles])*1\n",
    "    dfxs = dfx.T[df_map.index]\n",
    "\n",
    "    ## make alignment\n",
    "    mol = Chem.MolFromSmiles(smiles)\n",
    "    \n",
    "    if core_mol != None:\n",
    "        AllChem.Compute2DCoords(core_mol)\n",
    "        AllChem.GenerateDepictionMatching2DStructure(mol, core_mol)\n",
    "\n",
    "    bits = dfxs.loc[smiles].to_frame(name = 'onbit').join(df_map)\n",
    "    onbits = bits[bits['onbit']==1]\n",
    "\n",
    "    all_hit = {}\n",
    "    for fp, series in onbits.iterrows():\n",
    "\n",
    "        color_weight = series[weight]\n",
    "\n",
    "        if series.Subtypes == 'PharmacoErGFP':\n",
    "            #continue\n",
    "            radius_weight = 0.2\n",
    "            p1, p2, erg_p = series.smarts\n",
    "            \n",
    "            hit_ats = []\n",
    "            hit_bonds = []\n",
    "            \n",
    "            # point-1\n",
    "            p1_hit_ats = []\n",
    "            p1_hit_bonds = []\n",
    "            for smt in smt3_map.get(p1):\n",
    "                patt = Chem.MolFromSmarts(smt)\n",
    "                hit_at = mol.GetSubstructMatches(patt)\n",
    "                hit_bond = hit_bonds_from_atoms(mol, patt, hit_at)   \n",
    "                p1_hit_ats.extend(hit_at)\n",
    "                p1_hit_bonds.extend(hit_bond)\n",
    "                \n",
    "            # point-2\n",
    "            p2_hit_ats = []\n",
    "            p2_hit_bonds = []\n",
    "            for smt in smt3_map.get(p2):\n",
    "                patt = Chem.MolFromSmarts(smt)\n",
    "                hit_at = mol.GetSubstructMatches(patt)\n",
    "                hit_bond = hit_bonds_from_atoms(mol, patt, hit_at)   \n",
    "                p2_hit_ats.extend(hit_at)\n",
    "                p2_hit_bonds.extend(hit_bond)\n",
    "            \n",
    "            if (len(p1_hit_ats) > 0) & (len(p2_hit_ats) > 0):\n",
    "                flag = False\n",
    "                for i in p1_hit_ats:\n",
    "                    for j in p2_hit_ats:\n",
    "                        for k in i:\n",
    "                            for l in j:\n",
    "                                v = abs(k-l)\n",
    "                                if v==erg_p:\n",
    "                                    flag = True\n",
    "                                    break\n",
    "                if flag:\n",
    "                    hit_ats.extend(p1_hit_ats)                \n",
    "                    hit_bonds.extend(p1_hit_bonds)\n",
    "                    hit_ats.extend(p2_hit_ats)                \n",
    "                    hit_bonds.extend(p2_hit_bonds) \n",
    "            else:\n",
    "                hit_ats = []\n",
    "                hit_bonds = []\n",
    " \n",
    "                    \n",
    "            #remove duplicates\n",
    "            atbd = pd.DataFrame([hit_ats, hit_bonds]).T.drop_duplicates(0)\n",
    "            hit_ats = atbd[0].tolist()\n",
    "            hit_bonds = atbd[1].tolist()  \n",
    "        else:\n",
    "            smarts = series.smarts[0]\n",
    "            try:\n",
    "                patt = Chem.MolFromSmarts(smarts)\n",
    "                hit_ats = list(mol.GetSubstructMatches(patt))\n",
    "                hit_bonds = hit_bonds_from_atoms(mol, patt, hit_ats)\n",
    "            except:\n",
    "                hit_ats = []\n",
    "                hit_bonds = []\n",
    "\n",
    "            radius_weight = 0.2\n",
    "\n",
    "        all_hit[fp] = {\"smarts\":series.smarts,\n",
    "                       'color_weight': color_weight,\n",
    "                       'radius_weight': radius_weight, \n",
    "                       \"hit_ats\":hit_ats, \n",
    "                       \"hit_bonds\":hit_bonds }\n",
    "\n",
    "\n",
    "    res = pd.Series(all_hit).apply(pd.Series)\n",
    "    res = res.iloc[:top]\n",
    "\n",
    "    \n",
    "    unstack_res_atom = []\n",
    "    unstack_res_bond = []\n",
    "\n",
    "    for fp, hits in res.iterrows():\n",
    "\n",
    "        color_weight = hits.color_weight\n",
    "        radius_weight = hits.radius_weight\n",
    "        #print(fp, radius_weight)\n",
    "        for hit_atom, hit_bond in zip(hits.hit_ats, hits.hit_bonds):\n",
    "\n",
    "            for at in hit_atom:\n",
    "                unstack_res_atom.append({'color_weight':color_weight, \n",
    "                                    'radius_weight':radius_weight,\n",
    "                                    'atom':at})\n",
    "            for bd in hit_bond:\n",
    "                unstack_res_bond.append({'color_weight':color_weight, \n",
    "                                    'radius_weight':radius_weight,\n",
    "                                    'bond':bd})\n",
    "\n",
    "    \n",
    "    dfres_atom = pd.DataFrame(unstack_res_atom)\n",
    "    dfres_bond = pd.DataFrame(unstack_res_bond)\n",
    "\n",
    "    atoms = dfres_atom.groupby('atom').apply(_apply_mean).apply(pd.Series)\n",
    "    atoms.columns = ['radii', 'color']\n",
    "    print(atoms.color.min(), atoms.color.max())\n",
    "\n",
    "    atoms.color = value2color(atoms.color.values, vmin, vmax, cmap)\n",
    "\n",
    "    atom_list = atoms.index.tolist()\n",
    "    atom_cols = atoms.color.to_dict()\n",
    "    atom_radis = atoms.radii.to_dict()\n",
    "\n",
    "    bonds = dfres_bond.groupby('bond').apply(_apply_mean).apply(pd.Series)\n",
    "    bonds.columns = ['radii', 'color']\n",
    "    print(bonds.color.min(), bonds.color.max())\n",
    "    \n",
    "    bonds.color = value2color(bonds.color.values, vmin, vmax, cmap)\n",
    "    bond_cols = bonds.color.to_dict()\n",
    "    bond_list = bonds.index.tolist()\n",
    "\n",
    "    d = rdMolDraw2D.MolDraw2DCairo(500, 500)\n",
    "    rdMolDraw2D.PrepareAndDrawMolecule(d, mol, highlightAtoms=atom_list,\n",
    "                                       highlightAtomColors=atom_cols,\n",
    "                                       highlightBonds=bond_list, \n",
    "                                       highlightAtomRadii = atom_radis,\n",
    "                                       highlightBondColors=bond_cols\n",
    "                                      )\n",
    "\n",
    "    bimg = d.GetDrawingText()\n",
    "    d = rdMolDraw2D.MolDraw2DSVG(300, 300)\n",
    "    rdMolDraw2D.PrepareAndDrawMolecule(d, mol, highlightAtoms=atom_list,\n",
    "                                       highlightAtomColors=atom_cols,\n",
    "                                       highlightBonds=bond_list, \n",
    "                                       highlightBondColors=bond_cols)\n",
    "\n",
    "    d.FinishDrawing()\n",
    "    svg = d.GetDrawingText()\n",
    "    \n",
    "    return bimg, svg, bits"
   ]
  },
  {
   "cell_type": "code",
   "execution_count": null,
   "metadata": {},
   "outputs": [],
   "source": []
  },
  {
   "cell_type": "markdown",
   "metadata": {},
   "source": [
    "## 01. define min,max and draw colorbar"
   ]
  },
  {
   "cell_type": "code",
   "execution_count": 437,
   "metadata": {},
   "outputs": [
    {
     "data": {
      "image/png": "[encoded data removed]",
      "text/plain": [
       "<Figure size 14.4x720 with 1 Axes>"
      ]
     },
     "metadata": {
      "needs_background": "light"
     },
     "output_type": "display_data"
    }
   ],
   "source": [
    "top = 50\n",
    "\n",
    "vmin = 0.008 #df_map[weight].iloc[:top].min() \n",
    "vmax = 0.02 #df_map[weight].iloc[:top].max()\n",
    "\n",
    "fig, ax = plt.subplots(figsize=(0.2, 10))\n",
    "fig.subplots_adjust(bottom=0.5)\n",
    "\n",
    "\n",
    "norm = mpl.colors.Normalize(vmin=vmin, vmax=vmax)\n",
    "\n",
    "cmap = mpl.colors.LinearSegmentedColormap.from_list(\"\", [\"red\", \"white\",\"green\"], N = 1000, gamma = 1.2)\n",
    "#cmap = mpl.cm.cool\n",
    "\n",
    "cb1 = mpl.colorbar.ColorbarBase(ax, cmap=cmap,\n",
    "                                norm=norm, #orientation='horizontal'\n",
    "                                )\n",
    "cb1.set_label('average importance')\n",
    "fig.show()\n",
    "fig.savefig('./cbar.svg', bbox_inches = 'tight')"
   ]
  },
  {
   "cell_type": "markdown",
   "metadata": {},
   "source": [
    "## 01) clinical drugs https://www.nature.com/articles/nrd.2017.43/tables/1\n"
   ]
  },
  {
   "cell_type": "code",
   "execution_count": 670,
   "metadata": {},
   "outputs": [
    {
     "data": {
      "text/html": [
       "<div>\n",
       "<style scoped>\n",
       "    .dataframe tbody tr th:only-of-type {\n",
       "        vertical-align: middle;\n",
       "    }\n",
       "\n",
       "    .dataframe tbody tr th {\n",
       "        vertical-align: top;\n",
       "    }\n",
       "\n",
       "    .dataframe thead th {\n",
       "        text-align: right;\n",
       "    }\n",
       "</style>\n",
       "<table border=\"1\" class=\"dataframe\">\n",
       "  <thead>\n",
       "    <tr style=\"text-align: right;\">\n",
       "      <th></th>\n",
       "      <th>smiles</th>\n",
       "      <th>status</th>\n",
       "      <th>name</th>\n",
       "      <th>company</th>\n",
       "      <th>Reference</th>\n",
       "      <th>MMNF</th>\n",
       "      <th>DMPNN</th>\n",
       "      <th>AttentiveFP</th>\n",
       "    </tr>\n",
       "  </thead>\n",
       "  <tbody>\n",
       "    <tr>\n",
       "      <th>0</th>\n",
       "      <td>CN1C(N)=N[C@](C)(c2cc(NC(=O)c3ccc(F)cn3)ccc2F)...</td>\n",
       "      <td>Phase III (discontinued)</td>\n",
       "      <td>Verubecestat</td>\n",
       "      <td>Merck &amp; Co.</td>\n",
       "      <td>PMID: 28248932</td>\n",
       "      <td>0.772816</td>\n",
       "      <td>0.583139</td>\n",
       "      <td>0.435961</td>\n",
       "    </tr>\n",
       "    <tr>\n",
       "      <th>1</th>\n",
       "      <td>CC1OCC2(c3cc(NC(=O)c4cnc(C(F)F)cn4)ccc3F)N=C(N...</td>\n",
       "      <td>Phase III (discontinued)</td>\n",
       "      <td>Elenbecestat</td>\n",
       "      <td>Biogen/Eisai</td>\n",
       "      <td>PMID: 28248932</td>\n",
       "      <td>0.813703</td>\n",
       "      <td>0.164422</td>\n",
       "      <td>0.875178</td>\n",
       "    </tr>\n",
       "    <tr>\n",
       "      <th>2</th>\n",
       "      <td>CC#Cc1cncc(-c2ccc3c(c2)[C@@]2(N=C(C)C(N)=N2)[C...</td>\n",
       "      <td>Phase III (discontinued)</td>\n",
       "      <td>Lanabecestat</td>\n",
       "      <td>AstraZeneca/Eli Lilly</td>\n",
       "      <td>PMID: 28248932</td>\n",
       "      <td>0.804224</td>\n",
       "      <td>0.835589</td>\n",
       "      <td>0.515956</td>\n",
       "    </tr>\n",
       "    <tr>\n",
       "      <th>3</th>\n",
       "      <td>CC1(c2cc(NC(=O)c3ccc(C#N)cn3)ccc2F)C=CSC(N)=N1</td>\n",
       "      <td>Phase III (discontinued)</td>\n",
       "      <td>Atabecestat</td>\n",
       "      <td>Johnson &amp; Johnson</td>\n",
       "      <td>PMID: 28248932</td>\n",
       "      <td>0.930097</td>\n",
       "      <td>0.854885</td>\n",
       "      <td>0.896908</td>\n",
       "    </tr>\n",
       "    <tr>\n",
       "      <th>4</th>\n",
       "      <td>CC1(c2nc(NC(=O)c3ncc(C(F)(F)F)cc3Cl)ccc2F)COC(...</td>\n",
       "      <td>Phase III (discontinued)</td>\n",
       "      <td>Umibecestat</td>\n",
       "      <td>Novartis</td>\n",
       "      <td>PMID: 28248932</td>\n",
       "      <td>0.830551</td>\n",
       "      <td>0.680630</td>\n",
       "      <td>0.947785</td>\n",
       "    </tr>\n",
       "  </tbody>\n",
       "</table>\n",
       "</div>"
      ],
      "text/plain": [
       "                                              smiles  \\\n",
       "0  CN1C(N)=N[C@](C)(c2cc(NC(=O)c3ccc(F)cn3)ccc2F)...   \n",
       "1  CC1OCC2(c3cc(NC(=O)c4cnc(C(F)F)cn4)ccc3F)N=C(N...   \n",
       "2  CC#Cc1cncc(-c2ccc3c(c2)[C@@]2(N=C(C)C(N)=N2)[C...   \n",
       "3     CC1(c2cc(NC(=O)c3ccc(C#N)cn3)ccc2F)C=CSC(N)=N1   \n",
       "4  CC1(c2nc(NC(=O)c3ncc(C(F)(F)F)cc3Cl)ccc2F)COC(...   \n",
       "\n",
       "                     status          name                company  \\\n",
       "0  Phase III (discontinued)  Verubecestat            Merck & Co.   \n",
       "1  Phase III (discontinued)  Elenbecestat           Biogen/Eisai   \n",
       "2  Phase III (discontinued)  Lanabecestat  AstraZeneca/Eli Lilly   \n",
       "3  Phase III (discontinued)   Atabecestat      Johnson & Johnson   \n",
       "4  Phase III (discontinued)   Umibecestat               Novartis   \n",
       "\n",
       "        Reference      MMNF     DMPNN  AttentiveFP  \n",
       "0  PMID: 28248932  0.772816  0.583139     0.435961  \n",
       "1  PMID: 28248932  0.813703  0.164422     0.875178  \n",
       "2  PMID: 28248932  0.804224  0.835589     0.515956  \n",
       "3  PMID: 28248932  0.930097  0.854885     0.896908  \n",
       "4  PMID: 28248932  0.830551  0.680630     0.947785  "
      ]
     },
     "execution_count": 670,
     "metadata": {},
     "output_type": "execute_result"
    }
   ],
   "source": [
    "dfd = pd.read_csv('../data/drugs_predict_all.csv')\n",
    "dfd.head(5)"
   ]
  },
  {
   "cell_type": "code",
   "execution_count": 673,
   "metadata": {},
   "outputs": [],
   "source": [
    "# s = [0, 1, 2]\n",
    "# dfb = dfd[dfd.index.isin(s)].reset_index(drop=True)\n",
    "# dfb = dfb.sort_values('MMNF', ascending=False).reset_index(drop=True)\n",
    "# dfb\n",
    "\n",
    "dfb = dfd.head(5)"
   ]
  },
  {
   "cell_type": "code",
   "execution_count": 642,
   "metadata": {},
   "outputs": [],
   "source": [
    "sms = ['CC(=O)Nc1ccc(F)cc1', 'CC#Cc1cncc(C)c1', 'CC(=O)Nc1ccc(F)cc1']\n"
   ]
  },
  {
   "cell_type": "code",
   "execution_count": 675,
   "metadata": {},
   "outputs": [
    {
     "name": "stdout",
     "output_type": "stream",
     "text": [
      "0 CN1C(N)=N[C@](C)(c2cc(NC(=O)c3ccc(F)cn3)ccc2F)CS1(=O)=O\n"
     ]
    },
    {
     "name": "stderr",
     "output_type": "stream",
     "text": [
      "RDKit ERROR: [11:53:28] SMARTS Parse Error: syntax error while parsing: ?\n",
      "RDKit ERROR: [11:53:28] SMARTS Parse Error: Failed parsing SMARTS '?' for input: '?'\n"
     ]
    },
    {
     "name": "stdout",
     "output_type": "stream",
     "text": [
      "0.014907901104099938 0.02575445592240813\n",
      "0.013876956613919078 0.027596720749842304\n",
      "1 CC1OCC2(c3cc(NC(=O)c4cnc(C(F)F)cn4)ccc3F)N=C(N)SCC12\n"
     ]
    },
    {
     "name": "stderr",
     "output_type": "stream",
     "text": [
      "RDKit ERROR: [11:53:28] SMARTS Parse Error: syntax error while parsing: ?\n",
      "RDKit ERROR: [11:53:28] SMARTS Parse Error: Failed parsing SMARTS '?' for input: '?'\n"
     ]
    },
    {
     "name": "stdout",
     "output_type": "stream",
     "text": [
      "0.015123778084945952 0.03053674379518556\n",
      "0.013876956613919078 0.0463282408317347\n",
      "2 CC#Cc1cncc(-c2ccc3c(c2)[C@@]2(N=C(C)C(N)=N2)[C@]2(CC[C@H](OC)CC2)C3)c1\n"
     ]
    },
    {
     "name": "stderr",
     "output_type": "stream",
     "text": [
      "RDKit ERROR: [11:53:29] SMARTS Parse Error: syntax error while parsing: ?\n",
      "RDKit ERROR: [11:53:29] SMARTS Parse Error: Failed parsing SMARTS '?' for input: '?'\n"
     ]
    },
    {
     "name": "stdout",
     "output_type": "stream",
     "text": [
      "0.013202512807908054 0.029667149241477314\n",
      "0.011047134606424877 0.029667149241477314\n",
      "3 CC1(c2cc(NC(=O)c3ccc(C#N)cn3)ccc2F)C=CSC(N)=N1\n"
     ]
    },
    {
     "name": "stderr",
     "output_type": "stream",
     "text": [
      "RDKit ERROR: [11:53:30] SMARTS Parse Error: syntax error while parsing: ?\n",
      "RDKit ERROR: [11:53:30] SMARTS Parse Error: Failed parsing SMARTS '?' for input: '?'\n"
     ]
    },
    {
     "name": "stdout",
     "output_type": "stream",
     "text": [
      "0.014149732041747742 0.02604331555104424\n",
      "0.012393131189183948 0.0463282408317347\n",
      "4 CC1(c2nc(NC(=O)c3ncc(C(F)(F)F)cc3Cl)ccc2F)COC(C)(C(F)(F)F)C(N)=N1\n"
     ]
    },
    {
     "name": "stderr",
     "output_type": "stream",
     "text": [
      "RDKit ERROR: [11:53:30] SMARTS Parse Error: syntax error while parsing: ?\n",
      "RDKit ERROR: [11:53:30] SMARTS Parse Error: Failed parsing SMARTS '?' for input: '?'\n"
     ]
    },
    {
     "name": "stdout",
     "output_type": "stream",
     "text": [
      "0.014581232672578392 0.02506815315545576\n",
      "0.011078534154740971 0.028084115200163223\n"
     ]
    }
   ],
   "source": [
    "for i in dfb.index:\n",
    "\n",
    "    s = dfb.iloc[i]\n",
    "    \n",
    "    print(i, s.smiles)\n",
    "    if i == 2:\n",
    "        core =Chem.MolFromSmiles('CC#Cc1cccnc1')\n",
    "    else:\n",
    "        core = Chem.MolFromSmiles('CNC(C)=O')\n",
    "\n",
    "    ids = \"drugs-%s-%s-%s\" % (i, s['name'],s.MMNF.round(3))\n",
    "    bimg, svg, bits = highlight_important_atom(s.smiles, cmap, core_mol = core, vmin = vmin, vmax =  vmax, top = top)\n",
    "    display.Image(bimg)\n",
    "    with open('./drugs/%s.svg' % ids , 'w') as f:\n",
    "        f.write(svg)"
   ]
  },
  {
   "cell_type": "code",
   "execution_count": 648,
   "metadata": {},
   "outputs": [
    {
     "data": {
      "text/html": [
       "<div>\n",
       "<style scoped>\n",
       "    .dataframe tbody tr th:only-of-type {\n",
       "        vertical-align: middle;\n",
       "    }\n",
       "\n",
       "    .dataframe tbody tr th {\n",
       "        vertical-align: top;\n",
       "    }\n",
       "\n",
       "    .dataframe thead th {\n",
       "        text-align: right;\n",
       "    }\n",
       "</style>\n",
       "<table border=\"1\" class=\"dataframe\">\n",
       "  <thead>\n",
       "    <tr style=\"text-align: right;\">\n",
       "      <th></th>\n",
       "      <th>smiles</th>\n",
       "      <th>status</th>\n",
       "      <th>name</th>\n",
       "      <th>company</th>\n",
       "      <th>Reference</th>\n",
       "      <th>MMNF</th>\n",
       "      <th>DMPNN</th>\n",
       "      <th>AttentiveFP</th>\n",
       "    </tr>\n",
       "  </thead>\n",
       "  <tbody>\n",
       "    <tr>\n",
       "      <th>5</th>\n",
       "      <td>NC1=N[C@@](c2cccc(-c3cncnc3)c2)(c2ccnc(C(F)F)c...</td>\n",
       "      <td>Phase II (discontinued)</td>\n",
       "      <td>AZD-3839</td>\n",
       "      <td>AstraZeneca</td>\n",
       "      <td>NCT01348737</td>\n",
       "      <td>0.538670</td>\n",
       "      <td>0.399974</td>\n",
       "      <td>0.880999</td>\n",
       "    </tr>\n",
       "    <tr>\n",
       "      <th>6</th>\n",
       "      <td>CC1(C#Cc2cnc3c(c2)[C@]2(COC(N)=N2)c2cc(-c4cccn...</td>\n",
       "      <td>Preclinical</td>\n",
       "      <td>AMG-8718</td>\n",
       "      <td>Amgen</td>\n",
       "      <td>CDDI database</td>\n",
       "      <td>0.501595</td>\n",
       "      <td>0.629554</td>\n",
       "      <td>0.854456</td>\n",
       "    </tr>\n",
       "    <tr>\n",
       "      <th>7</th>\n",
       "      <td>CC(C)Oc1cc(CN2CC[C@@]3(C[C@@H]2C)CN(C)S(=O)(=O...</td>\n",
       "      <td>Preclinical</td>\n",
       "      <td>PF-04976081</td>\n",
       "      <td>Pfizer</td>\n",
       "      <td>CDDI database</td>\n",
       "      <td>0.444775</td>\n",
       "      <td>0.064321</td>\n",
       "      <td>0.245601</td>\n",
       "    </tr>\n",
       "  </tbody>\n",
       "</table>\n",
       "</div>"
      ],
      "text/plain": [
       "                                              smiles                   status  \\\n",
       "5  NC1=N[C@@](c2cccc(-c3cncnc3)c2)(c2ccnc(C(F)F)c...  Phase II (discontinued)   \n",
       "6  CC1(C#Cc2cnc3c(c2)[C@]2(COC(N)=N2)c2cc(-c4cccn...              Preclinical   \n",
       "7  CC(C)Oc1cc(CN2CC[C@@]3(C[C@@H]2C)CN(C)S(=O)(=O...              Preclinical   \n",
       "\n",
       "          name      company      Reference      MMNF     DMPNN  AttentiveFP  \n",
       "5     AZD-3839  AstraZeneca    NCT01348737  0.538670  0.399974     0.880999  \n",
       "6     AMG-8718        Amgen  CDDI database  0.501595  0.629554     0.854456  \n",
       "7  PF-04976081       Pfizer  CDDI database  0.444775  0.064321     0.245601  "
      ]
     },
     "execution_count": 648,
     "metadata": {},
     "output_type": "execute_result"
    }
   ],
   "source": [
    "dfb = dfd.sort_values('MMNF', ascending=False).tail(3)\n",
    "dfb.index = [5,6,7]\n",
    "dfb"
   ]
  },
  {
   "cell_type": "code",
   "execution_count": 665,
   "metadata": {},
   "outputs": [
    {
     "data": {
      "text/plain": [
       "['NC1=N[C@@](c2cccc(-c3cncnc3)c2)(c2ccnc(C(F)F)c2)c2cccc(F)c21',\n",
       " 'CC1(C#Cc2cnc3c(c2)[C@]2(COC(N)=N2)c2cc(-c4cccnc4F)ccc2O3)COC1',\n",
       " 'CC(C)Oc1cc(CN2CC[C@@]3(C[C@@H]2C)CN(C)S(=O)(=O)N3c2cccc(F)c2)ccc1O']"
      ]
     },
     "execution_count": 665,
     "metadata": {},
     "output_type": "execute_result"
    }
   ],
   "source": [
    "dfb.smiles.tolist()"
   ]
  },
  {
   "cell_type": "code",
   "execution_count": 669,
   "metadata": {},
   "outputs": [
    {
     "name": "stdout",
     "output_type": "stream",
     "text": [
      "5 NC1=N[C@@](c2cccc(-c3cncnc3)c2)(c2ccnc(C(F)F)c2)c2cccc(F)c21\n"
     ]
    },
    {
     "name": "stderr",
     "output_type": "stream",
     "text": [
      "RDKit ERROR: [11:44:57] SMARTS Parse Error: syntax error while parsing: ?\n",
      "RDKit ERROR: [11:44:57] SMARTS Parse Error: Failed parsing SMARTS '?' for input: '?'\n"
     ]
    },
    {
     "name": "stdout",
     "output_type": "stream",
     "text": [
      "0.011512459925229646 0.022022100284796\n",
      "0.01090930576444882 0.02340466704593358\n",
      "6 CC1(C#Cc2cnc3c(c2)[C@]2(COC(N)=N2)c2cc(-c4cccnc4F)ccc2O3)COC1\n"
     ]
    },
    {
     "name": "stderr",
     "output_type": "stream",
     "text": [
      "RDKit ERROR: [11:44:58] SMARTS Parse Error: syntax error while parsing: ?\n",
      "RDKit ERROR: [11:44:58] SMARTS Parse Error: Failed parsing SMARTS '?' for input: '?'\n"
     ]
    },
    {
     "name": "stdout",
     "output_type": "stream",
     "text": [
      "0.010189220470410931 0.028028834894672804\n",
      "0.010189220470410931 0.031606204394147186\n",
      "7 CC(C)Oc1cc(CN2CC[C@@]3(C[C@@H]2C)CN(C)S(=O)(=O)N3c2cccc(F)c2)ccc1O\n"
     ]
    },
    {
     "name": "stderr",
     "output_type": "stream",
     "text": [
      "RDKit ERROR: [11:44:59] SMARTS Parse Error: syntax error while parsing: ?\n",
      "RDKit ERROR: [11:44:59] SMARTS Parse Error: Failed parsing SMARTS '?' for input: '?'\n"
     ]
    },
    {
     "name": "stdout",
     "output_type": "stream",
     "text": [
      "0.010189220470410931 0.02007250997846234\n",
      "0.010148504714139575 0.0215638291129532\n"
     ]
    }
   ],
   "source": [
    "for i in dfb.index:\n",
    "    s = dfb.loc[i]\n",
    "    print(i, s.smiles)\n",
    "    if i==6:\n",
    "        core = Chem.MolFromSmiles('Fc1ncccc1-c1ccccc1')\n",
    "        \n",
    "    elif i == 7:\n",
    "        core = Chem.MolFromSmiles('C[C@H]1C[C@@]2(CN(C)S(=O)(=O)N2C)CCN1C')\n",
    "    else:\n",
    "        core = None\n",
    "    ids = \"drugs-%s-%s-%s\" % (i, s['name'],s.MMNF.round(3))\n",
    "    bimg, svg, bits = highlight_important_atom(s.smiles, cmap, core_mol = core, vmin = vmin, vmax =  vmax, top = top)\n",
    "    display.Image(bimg)\n",
    "    with open('./drugs/%s.svg' % ids , 'w') as f:\n",
    "        f.write(svg)"
   ]
  },
  {
   "cell_type": "code",
   "execution_count": null,
   "metadata": {},
   "outputs": [],
   "source": []
  },
  {
   "cell_type": "markdown",
   "metadata": {},
   "source": [
    "## 02.draw scaffold-1"
   ]
  },
  {
   "cell_type": "code",
   "execution_count": 358,
   "metadata": {},
   "outputs": [],
   "source": [
    "dfs = pd.read_csv('../data/scaffold_1.csv')\n",
    "core = Chem.MolFromSmiles('Cc1ccccc1-c1ccc2nc(N)ccc2c1')\n",
    "for i in dfs.index[:5]:\n",
    "    s = dfs.iloc[i]\n",
    "    ids = \"scaffold1-%s-%s-%s\" % (i, s.ID, s.pIC50.round(3))\n",
    "    bimg, svg, bits = highlight_important_atom(s.smiles, cmap, core_mol = core, vmin = vmin, vmax =  vmax, top = top)\n",
    "    display.Image(bimg)\n",
    "    with open('./scaffold1/%s.svg' % ids , 'w') as f:\n",
    "        f.write(svg)\n",
    "        \n",
    "core = Chem.MolFromSmiles('CCn1c(N)nc2cc(Cl)ccc12')\n",
    "for i in dfs.index[5:]:\n",
    "    s = dfs.iloc[i]\n",
    "    ids = \"scaffold1-%s-%s-%s\" % (i, s.ID, s.pIC50.round(3))\n",
    "    bimg, svg, bits = highlight_important_atom(s.smiles, cmap, core_mol = core, vmin = vmin, vmax =  vmax, top = top)\n",
    "    display.Image(bimg)\n",
    "    with open('./scaffold1/%s.svg' % ids , 'w') as f:\n",
    "        f.write(svg)"
   ]
  },
  {
   "cell_type": "code",
   "execution_count": null,
   "metadata": {},
   "outputs": [],
   "source": []
  },
  {
   "cell_type": "code",
   "execution_count": null,
   "metadata": {},
   "outputs": [],
   "source": []
  },
  {
   "cell_type": "code",
   "execution_count": null,
   "metadata": {},
   "outputs": [],
   "source": []
  },
  {
   "cell_type": "code",
   "execution_count": null,
   "metadata": {},
   "outputs": [],
   "source": []
  },
  {
   "cell_type": "markdown",
   "metadata": {},
   "source": [
    "## 03.draw non-inhibitors"
   ]
  },
  {
   "cell_type": "code",
   "execution_count": 803,
   "metadata": {},
   "outputs": [],
   "source": [
    "dfs = pd.read_csv('../data/non-inhibitors.csv')\n"
   ]
  },
  {
   "cell_type": "code",
   "execution_count": 794,
   "metadata": {
    "collapsed": true,
    "jupyter": {
     "outputs_hidden": true
    }
   },
   "outputs": [
    {
     "name": "stderr",
     "output_type": "stream",
     "text": [
      "RDKit ERROR: [17:14:28] SMARTS Parse Error: syntax error while parsing: ?\n",
      "RDKit ERROR: [17:14:28] SMARTS Parse Error: Failed parsing SMARTS '?' for input: '?'\n"
     ]
    },
    {
     "name": "stdout",
     "output_type": "stream",
     "text": [
      "0.011344225998033355 0.023878065004419483\n",
      "0.008187872597712975 0.022073765711576005\n"
     ]
    },
    {
     "name": "stderr",
     "output_type": "stream",
     "text": [
      "RDKit ERROR: [17:14:29] SMARTS Parse Error: syntax error while parsing: ?\n",
      "RDKit ERROR: [17:14:29] SMARTS Parse Error: Failed parsing SMARTS '?' for input: '?'\n"
     ]
    },
    {
     "name": "stdout",
     "output_type": "stream",
     "text": [
      "0.00941446066141553 0.023878065004419483\n",
      "0.007693249692520804 0.022073765711576005\n"
     ]
    },
    {
     "name": "stderr",
     "output_type": "stream",
     "text": [
      "RDKit ERROR: [17:14:30] SMARTS Parse Error: syntax error while parsing: ?\n",
      "RDKit ERROR: [17:14:30] SMARTS Parse Error: Failed parsing SMARTS '?' for input: '?'\n"
     ]
    },
    {
     "name": "stdout",
     "output_type": "stream",
     "text": [
      "0.009529341995214506 0.023878065004419483\n",
      "0.007693249692520804 0.022073765711576005\n"
     ]
    },
    {
     "name": "stderr",
     "output_type": "stream",
     "text": [
      "RDKit ERROR: [17:14:30] SMARTS Parse Error: syntax error while parsing: ?\n",
      "RDKit ERROR: [17:14:30] SMARTS Parse Error: Failed parsing SMARTS '?' for input: '?'\n"
     ]
    },
    {
     "name": "stdout",
     "output_type": "stream",
     "text": [
      "0.010775164960381334 0.023878065004419483\n",
      "0.008187872597712975 0.022073765711576005\n"
     ]
    },
    {
     "name": "stderr",
     "output_type": "stream",
     "text": [
      "RDKit ERROR: [17:14:31] SMARTS Parse Error: syntax error while parsing: ?\n",
      "RDKit ERROR: [17:14:31] SMARTS Parse Error: Failed parsing SMARTS '?' for input: '?'\n"
     ]
    },
    {
     "name": "stdout",
     "output_type": "stream",
     "text": [
      "0.007682499577282864 0.023878065004419483\n",
      "0.006724542877968795 0.022073765711576005\n"
     ]
    },
    {
     "name": "stderr",
     "output_type": "stream",
     "text": [
      "RDKit ERROR: [17:14:32] SMARTS Parse Error: syntax error while parsing: ?\n",
      "RDKit ERROR: [17:14:32] SMARTS Parse Error: Failed parsing SMARTS '?' for input: '?'\n"
     ]
    },
    {
     "name": "stdout",
     "output_type": "stream",
     "text": [
      "0.009748631728536928 0.028765229379382057\n",
      "0.007249605418991056 0.0463282408317347\n"
     ]
    },
    {
     "name": "stderr",
     "output_type": "stream",
     "text": [
      "RDKit ERROR: [17:14:33] SMARTS Parse Error: syntax error while parsing: ?\n",
      "RDKit ERROR: [17:14:33] SMARTS Parse Error: Failed parsing SMARTS '?' for input: '?'\n"
     ]
    },
    {
     "name": "stdout",
     "output_type": "stream",
     "text": [
      "0.00913733225091776 0.0463282408317347\n",
      "0.007970909859185582 0.0463282408317347\n"
     ]
    },
    {
     "name": "stderr",
     "output_type": "stream",
     "text": [
      "RDKit ERROR: [17:14:34] SMARTS Parse Error: syntax error while parsing: ?\n",
      "RDKit ERROR: [17:14:34] SMARTS Parse Error: Failed parsing SMARTS '?' for input: '?'\n"
     ]
    },
    {
     "name": "stdout",
     "output_type": "stream",
     "text": [
      "0.009322257982607843 0.025190167296681443\n",
      "0.005380074393359191 0.019015797626431758\n"
     ]
    },
    {
     "name": "stderr",
     "output_type": "stream",
     "text": [
      "RDKit ERROR: [17:14:35] SMARTS Parse Error: syntax error while parsing: ?\n",
      "RDKit ERROR: [17:14:35] SMARTS Parse Error: Failed parsing SMARTS '?' for input: '?'\n"
     ]
    },
    {
     "name": "stdout",
     "output_type": "stream",
     "text": [
      "0.005647100828307066 0.023878065004419483\n",
      "0.0047919360081946916 0.022073765711576005\n"
     ]
    },
    {
     "name": "stderr",
     "output_type": "stream",
     "text": [
      "RDKit ERROR: [17:14:35] SMARTS Parse Error: syntax error while parsing: ?\n",
      "RDKit ERROR: [17:14:35] SMARTS Parse Error: Failed parsing SMARTS '?' for input: '?'\n"
     ]
    },
    {
     "name": "stdout",
     "output_type": "stream",
     "text": [
      "0.0047212479785200085 0.014920171206280187\n",
      "0.0047919360081946916 0.015507047457763323\n"
     ]
    },
    {
     "name": "stderr",
     "output_type": "stream",
     "text": [
      "RDKit ERROR: [17:14:36] SMARTS Parse Error: syntax error while parsing: ?\n",
      "RDKit ERROR: [17:14:36] SMARTS Parse Error: Failed parsing SMARTS '?' for input: '?'\n"
     ]
    },
    {
     "name": "stdout",
     "output_type": "stream",
     "text": [
      "0.009039040458723419 0.02007250997846234\n",
      "0.009039040458723419 0.019918789632554945\n"
     ]
    },
    {
     "name": "stderr",
     "output_type": "stream",
     "text": [
      "RDKit ERROR: [17:14:37] SMARTS Parse Error: syntax error while parsing: ?\n",
      "RDKit ERROR: [17:14:37] SMARTS Parse Error: Failed parsing SMARTS '?' for input: '?'\n"
     ]
    },
    {
     "name": "stdout",
     "output_type": "stream",
     "text": [
      "0.008430549049002395 0.02007250997846234\n",
      "0.008430549049002395 0.019918789632554945\n"
     ]
    },
    {
     "name": "stderr",
     "output_type": "stream",
     "text": [
      "RDKit ERROR: [17:14:38] SMARTS Parse Error: syntax error while parsing: ?\n",
      "RDKit ERROR: [17:14:38] SMARTS Parse Error: Failed parsing SMARTS '?' for input: '?'\n"
     ]
    },
    {
     "name": "stdout",
     "output_type": "stream",
     "text": [
      "0.00853370801778508 0.02007250997846234\n",
      "0.00853370801778508 0.019918789632554945\n"
     ]
    },
    {
     "name": "stderr",
     "output_type": "stream",
     "text": [
      "RDKit ERROR: [17:14:39] SMARTS Parse Error: syntax error while parsing: ?\n",
      "RDKit ERROR: [17:14:39] SMARTS Parse Error: Failed parsing SMARTS '?' for input: '?'\n"
     ]
    },
    {
     "name": "stdout",
     "output_type": "stream",
     "text": [
      "0.008119669253601136 0.02007250997846234\n",
      "0.009039040458723419 0.019918789632554945\n"
     ]
    },
    {
     "name": "stderr",
     "output_type": "stream",
     "text": [
      "RDKit ERROR: [17:14:40] SMARTS Parse Error: syntax error while parsing: ?\n",
      "RDKit ERROR: [17:14:40] SMARTS Parse Error: Failed parsing SMARTS '?' for input: '?'\n"
     ]
    },
    {
     "name": "stdout",
     "output_type": "stream",
     "text": [
      "0.008326688635693108 0.02007250997846234\n",
      "0.00853370801778508 0.019918789632554945\n"
     ]
    }
   ],
   "source": [
    "dfs = pd.read_csv('../data/non-inhibitors.csv')\n",
    "\n",
    "for i in dfs.index:\n",
    "    s = dfs.iloc[i]\n",
    "    core = Chem.MolFromSmiles(s.scaffold)\n",
    "    #print(i)\n",
    "\n",
    "    ids = \"scaffold2-%s-%s-%s-%s\" % (s.group, i, s.ID, s.pIC50.round(3))\n",
    "    bimg, svg, bits = highlight_important_atom(s.smiles, cmap, core_mol = core, vmin = vmin, vmax =  vmax, top = top)\n",
    "    display.Image(bimg)\n",
    "    with open('./non_inhibitor/%s.svg' % ids , 'w') as f:\n",
    "        f.write(svg)"
   ]
  },
  {
   "cell_type": "markdown",
   "metadata": {},
   "source": [
    "## 04.draw inhibitors"
   ]
  },
  {
   "cell_type": "code",
   "execution_count": 806,
   "metadata": {},
   "outputs": [
    {
     "data": {
      "text/html": [
       "<div>\n",
       "<style scoped>\n",
       "    .dataframe tbody tr th:only-of-type {\n",
       "        vertical-align: middle;\n",
       "    }\n",
       "\n",
       "    .dataframe tbody tr th {\n",
       "        vertical-align: top;\n",
       "    }\n",
       "\n",
       "    .dataframe thead th {\n",
       "        text-align: right;\n",
       "    }\n",
       "</style>\n",
       "<table border=\"1\" class=\"dataframe\">\n",
       "  <thead>\n",
       "    <tr style=\"text-align: right;\">\n",
       "      <th></th>\n",
       "      <th>smiles</th>\n",
       "      <th>ID</th>\n",
       "      <th>Class</th>\n",
       "      <th>pIC50</th>\n",
       "      <th>group</th>\n",
       "      <th>scaffold</th>\n",
       "    </tr>\n",
       "  </thead>\n",
       "  <tbody>\n",
       "    <tr>\n",
       "      <th>0</th>\n",
       "      <td>Fc1ncccc1-c1cc(ccc1)C1(N=C(N)N(C)C1=O)c1cn(nc1...</td>\n",
       "      <td>BACE_464</td>\n",
       "      <td>1</td>\n",
       "      <td>7.795880</td>\n",
       "      <td>1</td>\n",
       "      <td>CN1C(N)=NC(C)(C1=O)c1cccc(C)c1</td>\n",
       "    </tr>\n",
       "    <tr>\n",
       "      <th>1</th>\n",
       "      <td>Clc1cc(ccc1OC)C1(N=C(N)N(C)C1=O)c1cc(ccc1)-c1c...</td>\n",
       "      <td>BACE_627</td>\n",
       "      <td>1</td>\n",
       "      <td>7.443698</td>\n",
       "      <td>1</td>\n",
       "      <td>CN1C(N)=NC(C)(C1=O)c1cccc(C)c1</td>\n",
       "    </tr>\n",
       "    <tr>\n",
       "      <th>2</th>\n",
       "      <td>Fc1c(cccc1F)-c1cc(ccc1)C1(N=C(N)N(C)C1=O)c1ccncc1</td>\n",
       "      <td>BACE_646</td>\n",
       "      <td>1</td>\n",
       "      <td>7.397940</td>\n",
       "      <td>1</td>\n",
       "      <td>CN1C(N)=NC(C)(C1=O)c1cccc(C)c1</td>\n",
       "    </tr>\n",
       "    <tr>\n",
       "      <th>3</th>\n",
       "      <td>O(CCC)c1cc(ccc1OC)C1(N=C(N)N(C)C1=O)c1cc(ccc1)...</td>\n",
       "      <td>BACE_689</td>\n",
       "      <td>1</td>\n",
       "      <td>7.301030</td>\n",
       "      <td>1</td>\n",
       "      <td>CN1C(N)=NC(C)(C1=O)c1cccc(C)c1</td>\n",
       "    </tr>\n",
       "    <tr>\n",
       "      <th>4</th>\n",
       "      <td>Fc1ncccc1-c1cc(ccc1)C1(N=C(N)N(C)C1=O)c1cn(nc1...</td>\n",
       "      <td>BACE_699</td>\n",
       "      <td>1</td>\n",
       "      <td>7.301030</td>\n",
       "      <td>1</td>\n",
       "      <td>CN1C(N)=NC(C)(C1=O)c1cccc(C)c1</td>\n",
       "    </tr>\n",
       "    <tr>\n",
       "      <th>5</th>\n",
       "      <td>FC1(F)COC(=NC1(C)c1cc(NC(=O)c2ncc(OCC#CC)nc2)c...</td>\n",
       "      <td>BACE_350</td>\n",
       "      <td>1</td>\n",
       "      <td>8.221849</td>\n",
       "      <td>2</td>\n",
       "      <td>CC(=O)Nc1ccc(F)c(C)c1</td>\n",
       "    </tr>\n",
       "    <tr>\n",
       "      <th>6</th>\n",
       "      <td>Clc1ccc(nc1)C(=O)Nc1cc(C2(N=C(N)N(CC2)C)C)c(F)cc1</td>\n",
       "      <td>BACE_433</td>\n",
       "      <td>1</td>\n",
       "      <td>7.920819</td>\n",
       "      <td>2</td>\n",
       "      <td>CC(=O)Nc1ccc(F)c(C)c1</td>\n",
       "    </tr>\n",
       "    <tr>\n",
       "      <th>7</th>\n",
       "      <td>Fc1ccc(NC(=O)c2ncc(cc2)C#N)cc1[C@]1(N=C(O[C@H]...</td>\n",
       "      <td>BACE_40</td>\n",
       "      <td>1</td>\n",
       "      <td>7.886056</td>\n",
       "      <td>2</td>\n",
       "      <td>CC(=O)Nc1ccc(F)c(C)c1</td>\n",
       "    </tr>\n",
       "    <tr>\n",
       "      <th>8</th>\n",
       "      <td>Clc1ccc(nc1)C(=O)Nc1cc(C2(N=C(N)C(=O)N(C2)C)C)...</td>\n",
       "      <td>BACE_657</td>\n",
       "      <td>1</td>\n",
       "      <td>7.397940</td>\n",
       "      <td>2</td>\n",
       "      <td>CC(=O)Nc1ccc(F)c(C)c1</td>\n",
       "    </tr>\n",
       "    <tr>\n",
       "      <th>9</th>\n",
       "      <td>Clc1cc(Cl)cnc1C(=O)Nc1cc(C2(N=C(N)COC2)C)c(F)cc1</td>\n",
       "      <td>BACE_672</td>\n",
       "      <td>1</td>\n",
       "      <td>7.346787</td>\n",
       "      <td>2</td>\n",
       "      <td>CC(=O)Nc1ccc(F)c(C)c1</td>\n",
       "    </tr>\n",
       "    <tr>\n",
       "      <th>10</th>\n",
       "      <td>Fc1c2c(ccc1)C(N=C2N)(C=1C=C(C)C(=O)N(C=1)CC)c1...</td>\n",
       "      <td>BACE_297</td>\n",
       "      <td>1</td>\n",
       "      <td>8.603801</td>\n",
       "      <td>3</td>\n",
       "      <td>CC1(N=C(N)c2c1cccc2F)c1ccccc1</td>\n",
       "    </tr>\n",
       "    <tr>\n",
       "      <th>11</th>\n",
       "      <td>Fc1c2c(ccc1)C(N=C2N)(C=1C=C(C)C(=O)N(C=1)C)c1c...</td>\n",
       "      <td>BACE_351</td>\n",
       "      <td>1</td>\n",
       "      <td>8.216097</td>\n",
       "      <td>3</td>\n",
       "      <td>CC1(N=C(N)c2c1cccc2F)c1ccccc1</td>\n",
       "    </tr>\n",
       "    <tr>\n",
       "      <th>12</th>\n",
       "      <td>Fc1c2c(ccc1)C(N=C2N)(C=1C=C(C)C(=O)N(C=1)CC)c1...</td>\n",
       "      <td>BACE_377</td>\n",
       "      <td>1</td>\n",
       "      <td>8.083020</td>\n",
       "      <td>3</td>\n",
       "      <td>CC1(N=C(N)c2c1cccc2F)c1ccccc1</td>\n",
       "    </tr>\n",
       "    <tr>\n",
       "      <th>13</th>\n",
       "      <td>Fc1c2c(ccc1)C([NH+]=C2N)(c1cc(ccc1)-c1cncnc1)c...</td>\n",
       "      <td>BACE_253</td>\n",
       "      <td>1</td>\n",
       "      <td>7.583360</td>\n",
       "      <td>3</td>\n",
       "      <td>CC1(N=C(N)c2c1cccc2F)c1ccccc1</td>\n",
       "    </tr>\n",
       "    <tr>\n",
       "      <th>14</th>\n",
       "      <td>Fc1c2c(ccc1)C(N=C2N)(c1cc(ccc1)-c1cncnc1)c1cc(...</td>\n",
       "      <td>BACE_789</td>\n",
       "      <td>1</td>\n",
       "      <td>7.063486</td>\n",
       "      <td>3</td>\n",
       "      <td>CC1(N=C(N)c2c1cccc2F)c1ccccc1</td>\n",
       "    </tr>\n",
       "  </tbody>\n",
       "</table>\n",
       "</div>"
      ],
      "text/plain": [
       "                                               smiles        ID  Class  \\\n",
       "0   Fc1ncccc1-c1cc(ccc1)C1(N=C(N)N(C)C1=O)c1cn(nc1...  BACE_464      1   \n",
       "1   Clc1cc(ccc1OC)C1(N=C(N)N(C)C1=O)c1cc(ccc1)-c1c...  BACE_627      1   \n",
       "2   Fc1c(cccc1F)-c1cc(ccc1)C1(N=C(N)N(C)C1=O)c1ccncc1  BACE_646      1   \n",
       "3   O(CCC)c1cc(ccc1OC)C1(N=C(N)N(C)C1=O)c1cc(ccc1)...  BACE_689      1   \n",
       "4   Fc1ncccc1-c1cc(ccc1)C1(N=C(N)N(C)C1=O)c1cn(nc1...  BACE_699      1   \n",
       "5   FC1(F)COC(=NC1(C)c1cc(NC(=O)c2ncc(OCC#CC)nc2)c...  BACE_350      1   \n",
       "6   Clc1ccc(nc1)C(=O)Nc1cc(C2(N=C(N)N(CC2)C)C)c(F)cc1  BACE_433      1   \n",
       "7   Fc1ccc(NC(=O)c2ncc(cc2)C#N)cc1[C@]1(N=C(O[C@H]...   BACE_40      1   \n",
       "8   Clc1ccc(nc1)C(=O)Nc1cc(C2(N=C(N)C(=O)N(C2)C)C)...  BACE_657      1   \n",
       "9    Clc1cc(Cl)cnc1C(=O)Nc1cc(C2(N=C(N)COC2)C)c(F)cc1  BACE_672      1   \n",
       "10  Fc1c2c(ccc1)C(N=C2N)(C=1C=C(C)C(=O)N(C=1)CC)c1...  BACE_297      1   \n",
       "11  Fc1c2c(ccc1)C(N=C2N)(C=1C=C(C)C(=O)N(C=1)C)c1c...  BACE_351      1   \n",
       "12  Fc1c2c(ccc1)C(N=C2N)(C=1C=C(C)C(=O)N(C=1)CC)c1...  BACE_377      1   \n",
       "13  Fc1c2c(ccc1)C([NH+]=C2N)(c1cc(ccc1)-c1cncnc1)c...  BACE_253      1   \n",
       "14  Fc1c2c(ccc1)C(N=C2N)(c1cc(ccc1)-c1cncnc1)c1cc(...  BACE_789      1   \n",
       "\n",
       "       pIC50  group                        scaffold  \n",
       "0   7.795880      1  CN1C(N)=NC(C)(C1=O)c1cccc(C)c1  \n",
       "1   7.443698      1  CN1C(N)=NC(C)(C1=O)c1cccc(C)c1  \n",
       "2   7.397940      1  CN1C(N)=NC(C)(C1=O)c1cccc(C)c1  \n",
       "3   7.301030      1  CN1C(N)=NC(C)(C1=O)c1cccc(C)c1  \n",
       "4   7.301030      1  CN1C(N)=NC(C)(C1=O)c1cccc(C)c1  \n",
       "5   8.221849      2           CC(=O)Nc1ccc(F)c(C)c1  \n",
       "6   7.920819      2           CC(=O)Nc1ccc(F)c(C)c1  \n",
       "7   7.886056      2           CC(=O)Nc1ccc(F)c(C)c1  \n",
       "8   7.397940      2           CC(=O)Nc1ccc(F)c(C)c1  \n",
       "9   7.346787      2           CC(=O)Nc1ccc(F)c(C)c1  \n",
       "10  8.603801      3   CC1(N=C(N)c2c1cccc2F)c1ccccc1  \n",
       "11  8.216097      3   CC1(N=C(N)c2c1cccc2F)c1ccccc1  \n",
       "12  8.083020      3   CC1(N=C(N)c2c1cccc2F)c1ccccc1  \n",
       "13  7.583360      3   CC1(N=C(N)c2c1cccc2F)c1ccccc1  \n",
       "14  7.063486      3   CC1(N=C(N)c2c1cccc2F)c1ccccc1  "
      ]
     },
     "execution_count": 806,
     "metadata": {},
     "output_type": "execute_result"
    }
   ],
   "source": [
    "dfs = pd.read_csv('../data/inhibitors.csv')\n",
    "dfs"
   ]
  },
  {
   "cell_type": "code",
   "execution_count": 807,
   "metadata": {},
   "outputs": [
    {
     "name": "stdout",
     "output_type": "stream",
     "text": [
      "0\n"
     ]
    },
    {
     "name": "stderr",
     "output_type": "stream",
     "text": [
      "RDKit ERROR: [19:35:15] SMARTS Parse Error: syntax error while parsing: ?\n",
      "RDKit ERROR: [19:35:15] SMARTS Parse Error: Failed parsing SMARTS '?' for input: '?'\n"
     ]
    },
    {
     "name": "stdout",
     "output_type": "stream",
     "text": [
      "0.016361475004506687 0.027830145552211766\n",
      "0.01406875449172143 0.02672857046874878\n",
      "1\n"
     ]
    },
    {
     "name": "stderr",
     "output_type": "stream",
     "text": [
      "RDKit ERROR: [19:35:15] SMARTS Parse Error: syntax error while parsing: ?\n",
      "RDKit ERROR: [19:35:15] SMARTS Parse Error: Failed parsing SMARTS '?' for input: '?'\n"
     ]
    },
    {
     "name": "stdout",
     "output_type": "stream",
     "text": [
      "0.01500495627891918 0.03138253080703352\n",
      "0.01406875449172143 0.029438985577276477\n",
      "2\n"
     ]
    },
    {
     "name": "stderr",
     "output_type": "stream",
     "text": [
      "RDKit ERROR: [19:35:16] SMARTS Parse Error: syntax error while parsing: ?\n",
      "RDKit ERROR: [19:35:16] SMARTS Parse Error: Failed parsing SMARTS '?' for input: '?'\n"
     ]
    },
    {
     "name": "stdout",
     "output_type": "stream",
     "text": [
      "0.014951281569831477 0.02646952892104279\n",
      "0.012766615425251916 0.022069926267539786\n",
      "3\n"
     ]
    },
    {
     "name": "stderr",
     "output_type": "stream",
     "text": [
      "RDKit ERROR: [19:35:17] SMARTS Parse Error: syntax error while parsing: ?\n",
      "RDKit ERROR: [19:35:17] SMARTS Parse Error: Failed parsing SMARTS '?' for input: '?'\n"
     ]
    },
    {
     "name": "stdout",
     "output_type": "stream",
     "text": [
      "0.014232912041519406 0.03138253080703352\n",
      "0.012489030128085124 0.029438985577276477\n",
      "4\n"
     ]
    },
    {
     "name": "stderr",
     "output_type": "stream",
     "text": [
      "RDKit ERROR: [19:35:18] SMARTS Parse Error: syntax error while parsing: ?\n",
      "RDKit ERROR: [19:35:18] SMARTS Parse Error: Failed parsing SMARTS '?' for input: '?'\n"
     ]
    },
    {
     "name": "stdout",
     "output_type": "stream",
     "text": [
      "0.016003443702501174 0.02930648776542735\n",
      "0.01406875449172143 0.029438985577276477\n",
      "5\n"
     ]
    },
    {
     "name": "stderr",
     "output_type": "stream",
     "text": [
      "RDKit ERROR: [19:35:18] SMARTS Parse Error: syntax error while parsing: ?\n",
      "RDKit ERROR: [19:35:18] SMARTS Parse Error: Failed parsing SMARTS '?' for input: '?'\n"
     ]
    },
    {
     "name": "stdout",
     "output_type": "stream",
     "text": [
      "0.014853390888743934 0.026045811994231078\n",
      "0.013876956613919078 0.023169634816608886\n",
      "6\n"
     ]
    },
    {
     "name": "stderr",
     "output_type": "stream",
     "text": [
      "RDKit ERROR: [19:35:19] SMARTS Parse Error: syntax error while parsing: ?\n",
      "RDKit ERROR: [19:35:19] SMARTS Parse Error: Failed parsing SMARTS '?' for input: '?'\n"
     ]
    },
    {
     "name": "stdout",
     "output_type": "stream",
     "text": [
      "0.014907901104099938 0.027272400628539955\n",
      "0.013876956613919078 0.029431823933362855\n",
      "7\n"
     ]
    },
    {
     "name": "stderr",
     "output_type": "stream",
     "text": [
      "RDKit ERROR: [19:35:20] SMARTS Parse Error: syntax error while parsing: ?\n",
      "RDKit ERROR: [19:35:20] SMARTS Parse Error: Failed parsing SMARTS '?' for input: '?'\n"
     ]
    },
    {
     "name": "stdout",
     "output_type": "stream",
     "text": [
      "0.015067561766913295 0.024642884382596535\n",
      "0.013876956613919078 0.02710527871764978\n",
      "8\n"
     ]
    },
    {
     "name": "stderr",
     "output_type": "stream",
     "text": [
      "RDKit ERROR: [19:35:20] SMARTS Parse Error: syntax error while parsing: ?\n",
      "RDKit ERROR: [19:35:20] SMARTS Parse Error: Failed parsing SMARTS '?' for input: '?'\n"
     ]
    },
    {
     "name": "stdout",
     "output_type": "stream",
     "text": [
      "0.014907901104099938 0.02629092877898572\n",
      "0.013876956613919078 0.03026938332155278\n",
      "9\n"
     ]
    },
    {
     "name": "stderr",
     "output_type": "stream",
     "text": [
      "RDKit ERROR: [19:35:21] SMARTS Parse Error: syntax error while parsing: ?\n",
      "RDKit ERROR: [19:35:21] SMARTS Parse Error: Failed parsing SMARTS '?' for input: '?'\n"
     ]
    },
    {
     "name": "stdout",
     "output_type": "stream",
     "text": [
      "0.012965962521742452 0.03143425805354042\n",
      "0.011078534154740971 0.03143425805354042\n",
      "10\n"
     ]
    },
    {
     "name": "stderr",
     "output_type": "stream",
     "text": [
      "RDKit ERROR: [19:35:21] SMARTS Parse Error: syntax error while parsing: ?\n",
      "RDKit ERROR: [19:35:21] SMARTS Parse Error: Failed parsing SMARTS '?' for input: '?'\n"
     ]
    },
    {
     "name": "stdout",
     "output_type": "stream",
     "text": [
      "0.014907901104099938 0.02533956266765498\n",
      "0.013876956613919078 0.021989777668372984\n",
      "11\n"
     ]
    },
    {
     "name": "stderr",
     "output_type": "stream",
     "text": [
      "RDKit ERROR: [19:35:22] SMARTS Parse Error: syntax error while parsing: ?\n",
      "RDKit ERROR: [19:35:22] SMARTS Parse Error: Failed parsing SMARTS '?' for input: '?'\n"
     ]
    },
    {
     "name": "stdout",
     "output_type": "stream",
     "text": [
      "0.014147952183712167 0.024215450009328548\n",
      "0.013876956613919078 0.024215450009328548\n",
      "12\n"
     ]
    },
    {
     "name": "stderr",
     "output_type": "stream",
     "text": [
      "RDKit ERROR: [19:35:23] SMARTS Parse Error: syntax error while parsing: ?\n",
      "RDKit ERROR: [19:35:23] SMARTS Parse Error: Failed parsing SMARTS '?' for input: '?'\n"
     ]
    },
    {
     "name": "stdout",
     "output_type": "stream",
     "text": [
      "0.015515133021998279 0.023511554123209606\n",
      "0.01406875449172143 0.021989777668372984\n",
      "13\n"
     ]
    },
    {
     "name": "stderr",
     "output_type": "stream",
     "text": [
      "RDKit ERROR: [19:35:24] SMARTS Parse Error: syntax error while parsing: ?\n",
      "RDKit ERROR: [19:35:24] SMARTS Parse Error: Failed parsing SMARTS '?' for input: '?'\n"
     ]
    },
    {
     "name": "stdout",
     "output_type": "stream",
     "text": [
      "0.012467764742929335 0.022022100284796\n",
      "0.01090930576444882 0.02340466704593358\n",
      "14\n"
     ]
    },
    {
     "name": "stderr",
     "output_type": "stream",
     "text": [
      "RDKit ERROR: [19:35:25] SMARTS Parse Error: syntax error while parsing: ?\n",
      "RDKit ERROR: [19:35:25] SMARTS Parse Error: Failed parsing SMARTS '?' for input: '?'\n"
     ]
    },
    {
     "name": "stdout",
     "output_type": "stream",
     "text": [
      "0.012467764742929335 0.020594780066702043\n",
      "0.01090930576444882 0.021989777668372984\n"
     ]
    }
   ],
   "source": [
    "dfs = pd.read_csv('../data/inhibitors.csv')\n",
    "\n",
    "for i in dfs.index:\n",
    "    s = dfs.iloc[i]\n",
    "    core = Chem.MolFromSmiles(s.scaffold)\n",
    "    print(i)\n",
    "\n",
    "    ids = \"scaffold-%s-%s-%s-%s\" % (s.group, i, s.ID, s.pIC50.round(3))\n",
    "    bimg, svg, bits = highlight_important_atom(s.smiles, cmap, core_mol = core, vmin = vmin, vmax =  vmax, top = top)\n",
    "    display.Image(bimg)\n",
    "    with open('./inhibitor/%s.svg' % ids , 'w') as f:\n",
    "        f.write(svg)"
   ]
  },
  {
   "cell_type": "markdown",
   "metadata": {},
   "source": [
    "# scaffold-21"
   ]
  },
  {
   "cell_type": "code",
   "execution_count": 749,
   "metadata": {},
   "outputs": [
    {
     "data": {
      "text/html": [
       "<div>\n",
       "<style scoped>\n",
       "    .dataframe tbody tr th:only-of-type {\n",
       "        vertical-align: middle;\n",
       "    }\n",
       "\n",
       "    .dataframe tbody tr th {\n",
       "        vertical-align: top;\n",
       "    }\n",
       "\n",
       "    .dataframe thead th {\n",
       "        text-align: right;\n",
       "    }\n",
       "</style>\n",
       "<table border=\"1\" class=\"dataframe\">\n",
       "  <thead>\n",
       "    <tr style=\"text-align: right;\">\n",
       "      <th></th>\n",
       "      <th>Unnamed: 0</th>\n",
       "      <th>smiles</th>\n",
       "      <th>ID</th>\n",
       "      <th>Class</th>\n",
       "      <th>pIC50</th>\n",
       "    </tr>\n",
       "  </thead>\n",
       "  <tbody>\n",
       "    <tr>\n",
       "      <th>0</th>\n",
       "      <td>0</td>\n",
       "      <td>s1ccnc1-c1cc(ccc1)CC(NC(=O)C1OCCC1)C(O)C[NH2+]...</td>\n",
       "      <td>BACE_354</td>\n",
       "      <td>1</td>\n",
       "      <td>8.200660</td>\n",
       "    </tr>\n",
       "    <tr>\n",
       "      <th>1</th>\n",
       "      <td>1</td>\n",
       "      <td>Clc1ccc(cc1)CC(NC(=O)C)C(O)C[NH2+]C1CC2(Oc3ncc...</td>\n",
       "      <td>BACE_378</td>\n",
       "      <td>1</td>\n",
       "      <td>8.080922</td>\n",
       "    </tr>\n",
       "    <tr>\n",
       "      <th>2</th>\n",
       "      <td>2</td>\n",
       "      <td>s1c2OC(C[C@H]([NH2+]C[C@@H](O)[C@@H](NC(=O)C)C...</td>\n",
       "      <td>BACE_30</td>\n",
       "      <td>1</td>\n",
       "      <td>8.070581</td>\n",
       "    </tr>\n",
       "    <tr>\n",
       "      <th>3</th>\n",
       "      <td>3</td>\n",
       "      <td>Fc1c(cccc1C#C)CC(NC(=O)COC)C(O)C[NH2+]C1CC2(Oc...</td>\n",
       "      <td>BACE_427</td>\n",
       "      <td>1</td>\n",
       "      <td>7.958607</td>\n",
       "    </tr>\n",
       "    <tr>\n",
       "      <th>4</th>\n",
       "      <td>4</td>\n",
       "      <td>O=C(N[C@H]([C@H](O)C[NH2+][C@H]1CC(Cc2nn(cc12)...</td>\n",
       "      <td>BACE_71</td>\n",
       "      <td>1</td>\n",
       "      <td>7.356547</td>\n",
       "    </tr>\n",
       "    <tr>\n",
       "      <th>5</th>\n",
       "      <td>5</td>\n",
       "      <td>ClC1=CN=C(NC1=O)C(NC1=NC(Cc2c1ccc(Cl)c2)(C)C)C...</td>\n",
       "      <td>BACE_1045</td>\n",
       "      <td>0</td>\n",
       "      <td>6.251812</td>\n",
       "    </tr>\n",
       "    <tr>\n",
       "      <th>6</th>\n",
       "      <td>6</td>\n",
       "      <td>Clc1cc2CC([NH+]=C(N[C@@H](Cc3ccccc3)C3=NOC(=O)...</td>\n",
       "      <td>BACE_141</td>\n",
       "      <td>0</td>\n",
       "      <td>6.124939</td>\n",
       "    </tr>\n",
       "    <tr>\n",
       "      <th>7</th>\n",
       "      <td>7</td>\n",
       "      <td>O=C([O-])C(NC1=NC(Cc2c1ccc(c2)C)(C)C)Cc1ccccc1</td>\n",
       "      <td>BACE_1306</td>\n",
       "      <td>0</td>\n",
       "      <td>5.266803</td>\n",
       "    </tr>\n",
       "    <tr>\n",
       "      <th>8</th>\n",
       "      <td>8</td>\n",
       "      <td>Clc1cc2CC(N=C(NC(Cc3ccccc3)c3nc(ccn3)C)c2cc1)(C)C</td>\n",
       "      <td>BACE_1529</td>\n",
       "      <td>0</td>\n",
       "      <td>3.602060</td>\n",
       "    </tr>\n",
       "    <tr>\n",
       "      <th>9</th>\n",
       "      <td>9</td>\n",
       "      <td>Clc1cc2CC(N=C(NC(Cc3ccccc3)c3oc(nn3)C)c2cc1)(C)C</td>\n",
       "      <td>BACE_1533</td>\n",
       "      <td>0</td>\n",
       "      <td>3.468904</td>\n",
       "    </tr>\n",
       "  </tbody>\n",
       "</table>\n",
       "</div>"
      ],
      "text/plain": [
       "   Unnamed: 0                                             smiles         ID  \\\n",
       "0           0  s1ccnc1-c1cc(ccc1)CC(NC(=O)C1OCCC1)C(O)C[NH2+]...   BACE_354   \n",
       "1           1  Clc1ccc(cc1)CC(NC(=O)C)C(O)C[NH2+]C1CC2(Oc3ncc...   BACE_378   \n",
       "2           2  s1c2OC(C[C@H]([NH2+]C[C@@H](O)[C@@H](NC(=O)C)C...    BACE_30   \n",
       "3           3  Fc1c(cccc1C#C)CC(NC(=O)COC)C(O)C[NH2+]C1CC2(Oc...   BACE_427   \n",
       "4           4  O=C(N[C@H]([C@H](O)C[NH2+][C@H]1CC(Cc2nn(cc12)...    BACE_71   \n",
       "5           5  ClC1=CN=C(NC1=O)C(NC1=NC(Cc2c1ccc(Cl)c2)(C)C)C...  BACE_1045   \n",
       "6           6  Clc1cc2CC([NH+]=C(N[C@@H](Cc3ccccc3)C3=NOC(=O)...   BACE_141   \n",
       "7           7     O=C([O-])C(NC1=NC(Cc2c1ccc(c2)C)(C)C)Cc1ccccc1  BACE_1306   \n",
       "8           8  Clc1cc2CC(N=C(NC(Cc3ccccc3)c3nc(ccn3)C)c2cc1)(C)C  BACE_1529   \n",
       "9           9   Clc1cc2CC(N=C(NC(Cc3ccccc3)c3oc(nn3)C)c2cc1)(C)C  BACE_1533   \n",
       "\n",
       "   Class     pIC50  \n",
       "0      1  8.200660  \n",
       "1      1  8.080922  \n",
       "2      1  8.070581  \n",
       "3      1  7.958607  \n",
       "4      1  7.356547  \n",
       "5      0  6.251812  \n",
       "6      0  6.124939  \n",
       "7      0  5.266803  \n",
       "8      0  3.602060  \n",
       "9      0  3.468904  "
      ]
     },
     "execution_count": 749,
     "metadata": {},
     "output_type": "execute_result"
    }
   ],
   "source": [
    "dfs = pd.read_csv('../data/scaffold_21.csv')\n",
    "dfs"
   ]
  },
  {
   "cell_type": "code",
   "execution_count": 752,
   "metadata": {},
   "outputs": [
    {
     "data": {
      "text/plain": [
       "['s1ccnc1-c1cc(ccc1)CC(NC(=O)C1OCCC1)C(O)C[NH2+]C1CC2(Oc3ncc(cc13)CC(C)(C)C)CCC2',\n",
       " 'Clc1ccc(cc1)CC(NC(=O)C)C(O)C[NH2+]C1CC2(Oc3ncc(cc13)CC(C)(C)C)CCC2',\n",
       " 's1c2OC(C[C@H]([NH2+]C[C@@H](O)[C@@H](NC(=O)C)Cc3ccccc3)c2cc1CC(C)(C)C)(C)C',\n",
       " 'Fc1c(cccc1C#C)CC(NC(=O)COC)C(O)C[NH2+]C1CC2(Oc3ncc(cc13)CC(C)(C)C)CCC2',\n",
       " 'O=C(N[C@H]([C@H](O)C[NH2+][C@H]1CC(Cc2nn(cc12)CC(C)(C)C)(C)C)Cc1ccccc1)C']"
      ]
     },
     "execution_count": 752,
     "metadata": {},
     "output_type": "execute_result"
    }
   ],
   "source": [
    "dfs.iloc[:5].smiles.tolist()"
   ]
  },
  {
   "cell_type": "code",
   "execution_count": 754,
   "metadata": {},
   "outputs": [
    {
     "name": "stdout",
     "output_type": "stream",
     "text": [
      "0\n"
     ]
    },
    {
     "name": "stderr",
     "output_type": "stream",
     "text": [
      "RDKit ERROR: [14:58:15] SMARTS Parse Error: syntax error while parsing: ?\n",
      "RDKit ERROR: [14:58:15] SMARTS Parse Error: Failed parsing SMARTS '?' for input: '?'\n"
     ]
    },
    {
     "name": "stdout",
     "output_type": "stream",
     "text": [
      "0.013448298628345054 0.024549687255616064\n",
      "0.011832226005446334 0.027556391122532126\n",
      "1\n"
     ]
    },
    {
     "name": "stderr",
     "output_type": "stream",
     "text": [
      "RDKit ERROR: [14:58:16] SMARTS Parse Error: syntax error while parsing: ?\n",
      "RDKit ERROR: [14:58:16] SMARTS Parse Error: Failed parsing SMARTS '?' for input: '?'\n"
     ]
    },
    {
     "name": "stdout",
     "output_type": "stream",
     "text": [
      "0.01341094832785844 0.023878065004419483\n",
      "0.011832226005446334 0.022073765711576005\n",
      "2\n"
     ]
    },
    {
     "name": "stderr",
     "output_type": "stream",
     "text": [
      "RDKit ERROR: [14:58:17] SMARTS Parse Error: syntax error while parsing: ?\n",
      "RDKit ERROR: [14:58:17] SMARTS Parse Error: Failed parsing SMARTS '?' for input: '?'\n"
     ]
    },
    {
     "name": "stdout",
     "output_type": "stream",
     "text": [
      "0.013591259466557945 0.01992974065134518\n",
      "0.011338132639395482 0.020579108663407467\n",
      "3\n"
     ]
    },
    {
     "name": "stderr",
     "output_type": "stream",
     "text": [
      "RDKit ERROR: [14:58:18] SMARTS Parse Error: syntax error while parsing: ?\n",
      "RDKit ERROR: [14:58:18] SMARTS Parse Error: Failed parsing SMARTS '?' for input: '?'\n"
     ]
    },
    {
     "name": "stdout",
     "output_type": "stream",
     "text": [
      "0.013906792322104441 0.02650823517829879\n",
      "0.013591259466557945 0.027556391122532126\n",
      "4\n"
     ]
    },
    {
     "name": "stderr",
     "output_type": "stream",
     "text": [
      "RDKit ERROR: [14:58:19] SMARTS Parse Error: syntax error while parsing: ?\n",
      "RDKit ERROR: [14:58:19] SMARTS Parse Error: Failed parsing SMARTS '?' for input: '?'\n"
     ]
    },
    {
     "name": "stdout",
     "output_type": "stream",
     "text": [
      "0.010549263117429875 0.019782524967317645\n",
      "0.010189220470410931 0.02248048965505534\n"
     ]
    }
   ],
   "source": [
    "for i in dfs.index[:5]:\n",
    "    core = Chem.MolFromSmiles('CC(O)C(Cc1ccccc1)NC(C)=O')\n",
    "    print(i)\n",
    "    s = dfs.iloc[i]\n",
    "    ids = \"scaffold2-%s-%s-%s\" % (i, s.ID, s.pIC50.round(3))\n",
    "    bimg, svg, bits = highlight_important_atom(s.smiles, cmap, core_mol = core, vmin = vmin, vmax =  vmax, top = top)\n",
    "    display.Image(bimg)\n",
    "    with open('./scaffold21/%s.svg' % ids , 'w') as f:\n",
    "        f.write(svg)"
   ]
  },
  {
   "cell_type": "code",
   "execution_count": 751,
   "metadata": {},
   "outputs": [
    {
     "name": "stdout",
     "output_type": "stream",
     "text": [
      "5\n"
     ]
    },
    {
     "name": "stderr",
     "output_type": "stream",
     "text": [
      "RDKit ERROR: [14:54:04] SMARTS Parse Error: syntax error while parsing: ?\n",
      "RDKit ERROR: [14:54:04] SMARTS Parse Error: Failed parsing SMARTS '?' for input: '?'\n"
     ]
    },
    {
     "name": "stdout",
     "output_type": "stream",
     "text": [
      "0.011344225998033355 0.023878065004419483\n",
      "0.008187872597712975 0.022073765711576005\n",
      "6\n"
     ]
    },
    {
     "name": "stderr",
     "output_type": "stream",
     "text": [
      "RDKit ERROR: [14:54:05] SMARTS Parse Error: syntax error while parsing: ?\n",
      "RDKit ERROR: [14:54:05] SMARTS Parse Error: Failed parsing SMARTS '?' for input: '?'\n"
     ]
    },
    {
     "name": "stdout",
     "output_type": "stream",
     "text": [
      "0.00941446066141553 0.023878065004419483\n",
      "0.007693249692520804 0.022073765711576005\n",
      "7\n"
     ]
    },
    {
     "name": "stderr",
     "output_type": "stream",
     "text": [
      "RDKit ERROR: [14:54:06] SMARTS Parse Error: syntax error while parsing: ?\n",
      "RDKit ERROR: [14:54:06] SMARTS Parse Error: Failed parsing SMARTS '?' for input: '?'\n"
     ]
    },
    {
     "name": "stdout",
     "output_type": "stream",
     "text": [
      "0.009100453808667006 0.022791131010610026\n",
      "0.007693249692520804 0.024568652607322248\n",
      "8\n"
     ]
    },
    {
     "name": "stderr",
     "output_type": "stream",
     "text": [
      "RDKit ERROR: [14:54:07] SMARTS Parse Error: syntax error while parsing: ?\n",
      "RDKit ERROR: [14:54:07] SMARTS Parse Error: Failed parsing SMARTS '?' for input: '?'\n"
     ]
    },
    {
     "name": "stdout",
     "output_type": "stream",
     "text": [
      "0.007107105500652633 0.023878065004419483\n",
      "0.006724542877968795 0.022073765711576005\n",
      "9\n"
     ]
    },
    {
     "name": "stderr",
     "output_type": "stream",
     "text": [
      "RDKit ERROR: [14:54:08] SMARTS Parse Error: syntax error while parsing: ?\n",
      "RDKit ERROR: [14:54:08] SMARTS Parse Error: Failed parsing SMARTS '?' for input: '?'\n"
     ]
    },
    {
     "name": "stdout",
     "output_type": "stream",
     "text": [
      "0.010437397164269202 0.023878065004419483\n",
      "0.007693249692520804 0.022073765711576005\n"
     ]
    }
   ],
   "source": [
    "for i in dfs.index[5:]:\n",
    "    core = Chem.MolFromSmiles('CC(Cc1ccccc1)NC1=NC(C)(C)Cc2ccccc12')\n",
    "    print(i)\n",
    "    s = dfs.iloc[i]\n",
    "    ids = \"scaffold2-%s-%s-%s\" % (i, s.ID, s.pIC50.round(3))\n",
    "    bimg, svg, bits = highlight_important_atom(s.smiles, cmap, core_mol = core, vmin = vmin, vmax =  vmax, top = top)\n",
    "    display.Image(bimg)\n",
    "    with open('./scaffold21/%s.svg' % ids , 'w') as f:\n",
    "        f.write(svg)"
   ]
  },
  {
   "cell_type": "code",
   "execution_count": null,
   "metadata": {},
   "outputs": [],
   "source": []
  },
  {
   "cell_type": "code",
   "execution_count": 755,
   "metadata": {},
   "outputs": [
    {
     "data": {
      "text/html": [
       "<div>\n",
       "<style scoped>\n",
       "    .dataframe tbody tr th:only-of-type {\n",
       "        vertical-align: middle;\n",
       "    }\n",
       "\n",
       "    .dataframe tbody tr th {\n",
       "        vertical-align: top;\n",
       "    }\n",
       "\n",
       "    .dataframe thead th {\n",
       "        text-align: right;\n",
       "    }\n",
       "</style>\n",
       "<table border=\"1\" class=\"dataframe\">\n",
       "  <thead>\n",
       "    <tr style=\"text-align: right;\">\n",
       "      <th></th>\n",
       "      <th>Unnamed: 0</th>\n",
       "      <th>smiles</th>\n",
       "      <th>ID</th>\n",
       "      <th>Class</th>\n",
       "      <th>pIC50</th>\n",
       "    </tr>\n",
       "  </thead>\n",
       "  <tbody>\n",
       "    <tr>\n",
       "      <th>0</th>\n",
       "      <td>0</td>\n",
       "      <td>Brc1cc2c(cc1)C1(CCC2)C[NH2+]CC1C(=O)N1CCC(CC1C...</td>\n",
       "      <td>BACE_543</td>\n",
       "      <td>1</td>\n",
       "      <td>7.619789</td>\n",
       "    </tr>\n",
       "    <tr>\n",
       "      <th>1</th>\n",
       "      <td>1</td>\n",
       "      <td>Clc1nc2c(cc1)C1(CCC2)C[NH2+]CC1C(=O)N1CCC(CC1C...</td>\n",
       "      <td>BACE_576</td>\n",
       "      <td>1</td>\n",
       "      <td>7.537602</td>\n",
       "    </tr>\n",
       "    <tr>\n",
       "      <th>2</th>\n",
       "      <td>2</td>\n",
       "      <td>O=C(N1CCC(CC1C1CCCCC1)c1ccccc1)C1C[NH2+]CC12CC...</td>\n",
       "      <td>BACE_628</td>\n",
       "      <td>1</td>\n",
       "      <td>7.443698</td>\n",
       "    </tr>\n",
       "    <tr>\n",
       "      <th>3</th>\n",
       "      <td>3</td>\n",
       "      <td>Brc1ccccc1C1C[NH2+]CC1C(=O)N1CCC(CC1c1ccccc1)c...</td>\n",
       "      <td>BACE_1054</td>\n",
       "      <td>0</td>\n",
       "      <td>6.221849</td>\n",
       "    </tr>\n",
       "    <tr>\n",
       "      <th>4</th>\n",
       "      <td>4</td>\n",
       "      <td>Brc1ccccc1C1C[NH2+]CC1C(=O)N1CCC(CC1)c1ccccc1</td>\n",
       "      <td>BACE_1405</td>\n",
       "      <td>0</td>\n",
       "      <td>4.721246</td>\n",
       "    </tr>\n",
       "    <tr>\n",
       "      <th>5</th>\n",
       "      <td>5</td>\n",
       "      <td>O=C(N1CCC(CC1)c1ccccc1)C1C[NH2+]CC1c1ccccc1</td>\n",
       "      <td>BACE_1406</td>\n",
       "      <td>0</td>\n",
       "      <td>4.721246</td>\n",
       "    </tr>\n",
       "    <tr>\n",
       "      <th>6</th>\n",
       "      <td>6</td>\n",
       "      <td>Brc1ccccc1C1C[NH2+]CC1C(=O)N1CCCCC1c1ccccc1</td>\n",
       "      <td>BACE_1482</td>\n",
       "      <td>0</td>\n",
       "      <td>4.244125</td>\n",
       "    </tr>\n",
       "  </tbody>\n",
       "</table>\n",
       "</div>"
      ],
      "text/plain": [
       "   Unnamed: 0                                             smiles         ID  \\\n",
       "0           0  Brc1cc2c(cc1)C1(CCC2)C[NH2+]CC1C(=O)N1CCC(CC1C...   BACE_543   \n",
       "1           1  Clc1nc2c(cc1)C1(CCC2)C[NH2+]CC1C(=O)N1CCC(CC1C...   BACE_576   \n",
       "2           2  O=C(N1CCC(CC1C1CCCCC1)c1ccccc1)C1C[NH2+]CC12CC...   BACE_628   \n",
       "3           3  Brc1ccccc1C1C[NH2+]CC1C(=O)N1CCC(CC1c1ccccc1)c...  BACE_1054   \n",
       "4           4      Brc1ccccc1C1C[NH2+]CC1C(=O)N1CCC(CC1)c1ccccc1  BACE_1405   \n",
       "5           5        O=C(N1CCC(CC1)c1ccccc1)C1C[NH2+]CC1c1ccccc1  BACE_1406   \n",
       "6           6        Brc1ccccc1C1C[NH2+]CC1C(=O)N1CCCCC1c1ccccc1  BACE_1482   \n",
       "\n",
       "   Class     pIC50  \n",
       "0      1  7.619789  \n",
       "1      1  7.537602  \n",
       "2      1  7.443698  \n",
       "3      0  6.221849  \n",
       "4      0  4.721246  \n",
       "5      0  4.721246  \n",
       "6      0  4.244125  "
      ]
     },
     "execution_count": 755,
     "metadata": {},
     "output_type": "execute_result"
    }
   ],
   "source": [
    "dfs = pd.read_csv('../data/scaffold_22.csv')\n",
    "dfs"
   ]
  },
  {
   "cell_type": "code",
   "execution_count": 756,
   "metadata": {},
   "outputs": [
    {
     "data": {
      "text/plain": [
       "['Brc1ccccc1C1C[NH2+]CC1C(=O)N1CCC(CC1c1ccccc1)c1ccccc1',\n",
       " 'Brc1ccccc1C1C[NH2+]CC1C(=O)N1CCC(CC1)c1ccccc1',\n",
       " 'O=C(N1CCC(CC1)c1ccccc1)C1C[NH2+]CC1c1ccccc1',\n",
       " 'Brc1ccccc1C1C[NH2+]CC1C(=O)N1CCCCC1c1ccccc1']"
      ]
     },
     "execution_count": 756,
     "metadata": {},
     "output_type": "execute_result"
    }
   ],
   "source": [
    "dfs.iloc[3:].smiles.tolist()"
   ]
  },
  {
   "cell_type": "code",
   "execution_count": 757,
   "metadata": {},
   "outputs": [
    {
     "name": "stdout",
     "output_type": "stream",
     "text": [
      "3\n"
     ]
    },
    {
     "name": "stderr",
     "output_type": "stream",
     "text": [
      "RDKit ERROR: [15:13:46] SMARTS Parse Error: syntax error while parsing: ?\n",
      "RDKit ERROR: [15:13:46] SMARTS Parse Error: Failed parsing SMARTS '?' for input: '?'\n"
     ]
    },
    {
     "name": "stdout",
     "output_type": "stream",
     "text": [
      "0.011475230530093394 0.02127616471385989\n",
      "0.010072534689429572 0.019761603641161456\n",
      "4\n"
     ]
    },
    {
     "name": "stderr",
     "output_type": "stream",
     "text": [
      "RDKit ERROR: [15:13:47] SMARTS Parse Error: syntax error while parsing: ?\n",
      "RDKit ERROR: [15:13:47] SMARTS Parse Error: Failed parsing SMARTS '?' for input: '?'\n"
     ]
    },
    {
     "name": "stdout",
     "output_type": "stream",
     "text": [
      "0.010803332369530204 0.02127616471385989\n",
      "0.010001616145513976 0.019761603641161456\n",
      "5\n"
     ]
    },
    {
     "name": "stderr",
     "output_type": "stream",
     "text": [
      "RDKit ERROR: [15:13:48] SMARTS Parse Error: syntax error while parsing: ?\n",
      "RDKit ERROR: [15:13:48] SMARTS Parse Error: Failed parsing SMARTS '?' for input: '?'\n"
     ]
    },
    {
     "name": "stdout",
     "output_type": "stream",
     "text": [
      "0.010167448880941106 0.017414415060130733\n",
      "0.009504863223567707 0.019761603641161456\n",
      "6\n"
     ]
    },
    {
     "name": "stderr",
     "output_type": "stream",
     "text": [
      "RDKit ERROR: [15:13:48] SMARTS Parse Error: syntax error while parsing: ?\n",
      "RDKit ERROR: [15:13:48] SMARTS Parse Error: Failed parsing SMARTS '?' for input: '?'\n"
     ]
    },
    {
     "name": "stdout",
     "output_type": "stream",
     "text": [
      "0.011004608882988685 0.02127616471385989\n",
      "0.010072534689429572 0.019761603641161456\n"
     ]
    }
   ],
   "source": [
    "for i in dfs.index[3:]:\n",
    "    core = Chem.MolFromSmiles('O=C(C1C[NH2+]CC1c1ccccc1)N1CCCCC1')\n",
    "    print(i)\n",
    "    s = dfs.iloc[i]\n",
    "    ids = \"scaffold2-%s-%s-%s\" % (i, s.ID, s.pIC50.round(3))\n",
    "    bimg, svg, bits = highlight_important_atom(s.smiles, cmap, core_mol = core, vmin = vmin, vmax =  vmax, top = top)\n",
    "    display.Image(bimg)\n",
    "    with open('./scaffold22/%s.svg' % ids , 'w') as f:\n",
    "        f.write(svg)"
   ]
  },
  {
   "cell_type": "code",
   "execution_count": null,
   "metadata": {},
   "outputs": [],
   "source": []
  },
  {
   "cell_type": "code",
   "execution_count": 343,
   "metadata": {},
   "outputs": [
    {
     "name": "stderr",
     "output_type": "stream",
     "text": [
      "RDKit ERROR: [20:50:30] SMARTS Parse Error: syntax error while parsing: ?\n",
      "RDKit ERROR: [20:50:30] SMARTS Parse Error: Failed parsing SMARTS '?' for input: '?'\n"
     ]
    },
    {
     "name": "stdout",
     "output_type": "stream",
     "text": [
      "0.01500495627891918 0.03138253080703352\n",
      "0.01406875449172143 0.029438985577276477\n"
     ]
    },
    {
     "name": "stderr",
     "output_type": "stream",
     "text": [
      "RDKit ERROR: [20:50:32] SMARTS Parse Error: syntax error while parsing: ?\n",
      "RDKit ERROR: [20:50:32] SMARTS Parse Error: Failed parsing SMARTS '?' for input: '?'\n"
     ]
    },
    {
     "name": "stdout",
     "output_type": "stream",
     "text": [
      "0.01500495627891918 0.03138253080703352\n",
      "0.01406875449172143 0.029438985577276477\n"
     ]
    },
    {
     "name": "stderr",
     "output_type": "stream",
     "text": [
      "RDKit ERROR: [20:50:33] SMARTS Parse Error: syntax error while parsing: ?\n",
      "RDKit ERROR: [20:50:33] SMARTS Parse Error: Failed parsing SMARTS '?' for input: '?'\n"
     ]
    },
    {
     "name": "stdout",
     "output_type": "stream",
     "text": [
      "0.014232912041519406 0.03138253080703352\n",
      "0.012489030128085124 0.029438985577276477\n"
     ]
    },
    {
     "name": "stderr",
     "output_type": "stream",
     "text": [
      "RDKit ERROR: [20:50:35] SMARTS Parse Error: syntax error while parsing: ?\n",
      "RDKit ERROR: [20:50:35] SMARTS Parse Error: Failed parsing SMARTS '?' for input: '?'\n"
     ]
    },
    {
     "name": "stdout",
     "output_type": "stream",
     "text": [
      "0.014232912041519406 0.03138253080703352\n",
      "0.012489030128085124 0.029438985577276477\n"
     ]
    },
    {
     "name": "stderr",
     "output_type": "stream",
     "text": [
      "RDKit ERROR: [20:50:37] SMARTS Parse Error: syntax error while parsing: ?\n",
      "RDKit ERROR: [20:50:37] SMARTS Parse Error: Failed parsing SMARTS '?' for input: '?'\n"
     ]
    },
    {
     "name": "stdout",
     "output_type": "stream",
     "text": [
      "0.014232912041519406 0.03138253080703352\n",
      "0.012489030128085124 0.029438985577276477\n"
     ]
    }
   ],
   "source": [
    "core = Chem.MolFromSmiles('CN1C(N)=NC(C1=O)(c1ccccc1)c1cccc(c1)-c1cccnc1')\n",
    "#core = None\n",
    "for i in dfs.index[5:]:\n",
    "    s = dfs.iloc[i]\n",
    "    ids = \"scaffold2-%s-%s-%s\" % (i, s.ID, s.pIC50.round(3))\n",
    "    bimg, svg, bits = highlight_important_atom(s.smiles, cmap, core_mol = core, vmin = vmin, vmax =  vmax, top = top)\n",
    "    display.Image(bimg)\n",
    "    with open('./scaffold2/%s.svg' % ids , 'w') as f:\n",
    "        f.write(svg)"
   ]
  },
  {
   "cell_type": "code",
   "execution_count": null,
   "metadata": {},
   "outputs": [],
   "source": []
  },
  {
   "cell_type": "code",
   "execution_count": null,
   "metadata": {},
   "outputs": [],
   "source": []
  },
  {
   "cell_type": "markdown",
   "metadata": {},
   "source": [
    "# scaffold 3"
   ]
  },
  {
   "cell_type": "code",
   "execution_count": 369,
   "metadata": {},
   "outputs": [
    {
     "data": {
      "text/html": [
       "<div>\n",
       "<style scoped>\n",
       "    .dataframe tbody tr th:only-of-type {\n",
       "        vertical-align: middle;\n",
       "    }\n",
       "\n",
       "    .dataframe tbody tr th {\n",
       "        vertical-align: top;\n",
       "    }\n",
       "\n",
       "    .dataframe thead th {\n",
       "        text-align: right;\n",
       "    }\n",
       "</style>\n",
       "<table border=\"1\" class=\"dataframe\">\n",
       "  <thead>\n",
       "    <tr style=\"text-align: right;\">\n",
       "      <th></th>\n",
       "      <th>Unnamed: 0</th>\n",
       "      <th>smiles</th>\n",
       "      <th>ID</th>\n",
       "      <th>Class</th>\n",
       "      <th>pIC50</th>\n",
       "    </tr>\n",
       "  </thead>\n",
       "  <tbody>\n",
       "    <tr>\n",
       "      <th>0</th>\n",
       "      <td>0</td>\n",
       "      <td>Clc1cc2CC([NH+]=C(N[C@@H](Cc3ccccc3)C3=NOC(=O)...</td>\n",
       "      <td>BACE_141</td>\n",
       "      <td>0</td>\n",
       "      <td>6.124939</td>\n",
       "    </tr>\n",
       "    <tr>\n",
       "      <th>1</th>\n",
       "      <td>6</td>\n",
       "      <td>ClC1=CN=C(NC1=O)C(NC1=NC(Cc2c1ccc(Cl)c2)(C)C)C...</td>\n",
       "      <td>BACE_1045</td>\n",
       "      <td>0</td>\n",
       "      <td>6.251812</td>\n",
       "    </tr>\n",
       "    <tr>\n",
       "      <th>2</th>\n",
       "      <td>7</td>\n",
       "      <td>Clc1cc2CC(N=C(NC(Cc3ccccc3)C=3NC(ON=3)=O)c2cc1...</td>\n",
       "      <td>BACE_1076</td>\n",
       "      <td>0</td>\n",
       "      <td>6.124939</td>\n",
       "    </tr>\n",
       "    <tr>\n",
       "      <th>3</th>\n",
       "      <td>8</td>\n",
       "      <td>Clc1cc2CC(N=C(NC(Cc3ccccc3)C=3NC(=O)C=CN=3)c2c...</td>\n",
       "      <td>BACE_1238</td>\n",
       "      <td>0</td>\n",
       "      <td>5.567031</td>\n",
       "    </tr>\n",
       "    <tr>\n",
       "      <th>4</th>\n",
       "      <td>9</td>\n",
       "      <td>Clc1cc2CC(N=C(NC(Cc3ccccc3)c3ncccn3)c2cc1)(C)C</td>\n",
       "      <td>BACE_1510</td>\n",
       "      <td>0</td>\n",
       "      <td>3.862963</td>\n",
       "    </tr>\n",
       "    <tr>\n",
       "      <th>5</th>\n",
       "      <td>1</td>\n",
       "      <td>Fc1ccc(cc1OC(F)(F)F)CC(NC(=O)C)C(O)C[NH2+]C1CC...</td>\n",
       "      <td>BACE_294</td>\n",
       "      <td>1</td>\n",
       "      <td>8.677781</td>\n",
       "    </tr>\n",
       "    <tr>\n",
       "      <th>6</th>\n",
       "      <td>2</td>\n",
       "      <td>Fc1cc(ccc1OC)CC(NC(=O)C)C(O)C[NH2+]C1CC2(Oc3nc...</td>\n",
       "      <td>BACE_317</td>\n",
       "      <td>1</td>\n",
       "      <td>8.443698</td>\n",
       "    </tr>\n",
       "    <tr>\n",
       "      <th>7</th>\n",
       "      <td>3</td>\n",
       "      <td>Fc1ccc(cc1C(F)(F)F)CC(NC(=O)C)C(O)C[NH2+]C1CC2...</td>\n",
       "      <td>BACE_418</td>\n",
       "      <td>1</td>\n",
       "      <td>7.958607</td>\n",
       "    </tr>\n",
       "    <tr>\n",
       "      <th>8</th>\n",
       "      <td>4</td>\n",
       "      <td>O1c2ncc(cc2C([NH2+]CC(O)C(NC(=O)C)Cc2cc(OC)c(O...</td>\n",
       "      <td>BACE_479</td>\n",
       "      <td>1</td>\n",
       "      <td>7.739929</td>\n",
       "    </tr>\n",
       "    <tr>\n",
       "      <th>9</th>\n",
       "      <td>5</td>\n",
       "      <td>FC(F)Oc1cc(ccc1OC(F)F)CC(NC(=O)C)C(O)C[NH2+]C1...</td>\n",
       "      <td>BACE_626</td>\n",
       "      <td>1</td>\n",
       "      <td>7.453457</td>\n",
       "    </tr>\n",
       "  </tbody>\n",
       "</table>\n",
       "</div>"
      ],
      "text/plain": [
       "   Unnamed: 0                                             smiles         ID  \\\n",
       "0           0  Clc1cc2CC([NH+]=C(N[C@@H](Cc3ccccc3)C3=NOC(=O)...   BACE_141   \n",
       "1           6  ClC1=CN=C(NC1=O)C(NC1=NC(Cc2c1ccc(Cl)c2)(C)C)C...  BACE_1045   \n",
       "2           7  Clc1cc2CC(N=C(NC(Cc3ccccc3)C=3NC(ON=3)=O)c2cc1...  BACE_1076   \n",
       "3           8  Clc1cc2CC(N=C(NC(Cc3ccccc3)C=3NC(=O)C=CN=3)c2c...  BACE_1238   \n",
       "4           9     Clc1cc2CC(N=C(NC(Cc3ccccc3)c3ncccn3)c2cc1)(C)C  BACE_1510   \n",
       "5           1  Fc1ccc(cc1OC(F)(F)F)CC(NC(=O)C)C(O)C[NH2+]C1CC...   BACE_294   \n",
       "6           2  Fc1cc(ccc1OC)CC(NC(=O)C)C(O)C[NH2+]C1CC2(Oc3nc...   BACE_317   \n",
       "7           3  Fc1ccc(cc1C(F)(F)F)CC(NC(=O)C)C(O)C[NH2+]C1CC2...   BACE_418   \n",
       "8           4  O1c2ncc(cc2C([NH2+]CC(O)C(NC(=O)C)Cc2cc(OC)c(O...   BACE_479   \n",
       "9           5  FC(F)Oc1cc(ccc1OC(F)F)CC(NC(=O)C)C(O)C[NH2+]C1...   BACE_626   \n",
       "\n",
       "   Class     pIC50  \n",
       "0      0  6.124939  \n",
       "1      0  6.251812  \n",
       "2      0  6.124939  \n",
       "3      0  5.567031  \n",
       "4      0  3.862963  \n",
       "5      1  8.677781  \n",
       "6      1  8.443698  \n",
       "7      1  7.958607  \n",
       "8      1  7.739929  \n",
       "9      1  7.453457  "
      ]
     },
     "execution_count": 369,
     "metadata": {},
     "output_type": "execute_result"
    }
   ],
   "source": [
    "dfs = pd.read_csv('../data/scaffold_3.csv')\n",
    "dfs"
   ]
  },
  {
   "cell_type": "code",
   "execution_count": 370,
   "metadata": {},
   "outputs": [
    {
     "name": "stdout",
     "output_type": "stream",
     "text": [
      "0\n"
     ]
    },
    {
     "name": "stderr",
     "output_type": "stream",
     "text": [
      "RDKit ERROR: [21:19:03] SMARTS Parse Error: syntax error while parsing: ?\n",
      "RDKit ERROR: [21:19:03] SMARTS Parse Error: Failed parsing SMARTS '?' for input: '?'\n"
     ]
    },
    {
     "name": "stdout",
     "output_type": "stream",
     "text": [
      "0.00941446066141553 0.023878065004419483\n",
      "0.007693249692520804 0.022073765711576005\n",
      "1\n"
     ]
    },
    {
     "name": "stderr",
     "output_type": "stream",
     "text": [
      "RDKit ERROR: [21:19:04] SMARTS Parse Error: syntax error while parsing: ?\n",
      "RDKit ERROR: [21:19:04] SMARTS Parse Error: Failed parsing SMARTS '?' for input: '?'\n"
     ]
    },
    {
     "name": "stdout",
     "output_type": "stream",
     "text": [
      "0.011344225998033355 0.023878065004419483\n",
      "0.008187872597712975 0.022073765711576005\n",
      "2\n"
     ]
    },
    {
     "name": "stderr",
     "output_type": "stream",
     "text": [
      "RDKit ERROR: [21:19:06] SMARTS Parse Error: syntax error while parsing: ?\n",
      "RDKit ERROR: [21:19:06] SMARTS Parse Error: Failed parsing SMARTS '?' for input: '?'\n"
     ]
    },
    {
     "name": "stdout",
     "output_type": "stream",
     "text": [
      "0.009529341995214506 0.023878065004419483\n",
      "0.007693249692520804 0.022073765711576005\n",
      "3\n"
     ]
    },
    {
     "name": "stderr",
     "output_type": "stream",
     "text": [
      "RDKit ERROR: [21:19:07] SMARTS Parse Error: syntax error while parsing: ?\n",
      "RDKit ERROR: [21:19:07] SMARTS Parse Error: Failed parsing SMARTS '?' for input: '?'\n"
     ]
    },
    {
     "name": "stdout",
     "output_type": "stream",
     "text": [
      "0.010775164960381334 0.023878065004419483\n",
      "0.008187872597712975 0.022073765711576005\n",
      "4\n"
     ]
    },
    {
     "name": "stderr",
     "output_type": "stream",
     "text": [
      "RDKit ERROR: [21:19:09] SMARTS Parse Error: syntax error while parsing: ?\n",
      "RDKit ERROR: [21:19:09] SMARTS Parse Error: Failed parsing SMARTS '?' for input: '?'\n"
     ]
    },
    {
     "name": "stdout",
     "output_type": "stream",
     "text": [
      "0.007682499577282864 0.023878065004419483\n",
      "0.006724542877968795 0.022073765711576005\n"
     ]
    }
   ],
   "source": [
    "core = Chem.MolFromSmiles('Clc1ccc2C(NCCc3ccccc3)=NCCc2c1')\n",
    "\n",
    "for i in dfs.index[:5]:\n",
    "    print(i)\n",
    "    s = dfs.iloc[i]\n",
    "    ids = \"scaffold3-%s-%s-%s\" % (i, s.ID, s.pIC50.round(3))\n",
    "    bimg, svg, bits = highlight_important_atom(s.smiles, cmap, core_mol = core, vmin = vmin, vmax =  vmax, top = top)\n",
    "    display.Image(bimg)\n",
    "    with open('./scaffold3/%s.svg' % ids , 'w') as f:\n",
    "        f.write(svg)"
   ]
  },
  {
   "cell_type": "code",
   "execution_count": 371,
   "metadata": {},
   "outputs": [
    {
     "name": "stdout",
     "output_type": "stream",
     "text": [
      "5\n"
     ]
    },
    {
     "name": "stderr",
     "output_type": "stream",
     "text": [
      "RDKit ERROR: [21:20:52] SMARTS Parse Error: syntax error while parsing: ?\n",
      "RDKit ERROR: [21:20:52] SMARTS Parse Error: Failed parsing SMARTS '?' for input: '?'\n"
     ]
    },
    {
     "name": "stdout",
     "output_type": "stream",
     "text": [
      "0.013591259466557945 0.02566688337925175\n",
      "0.013591259466557945 0.030805890389365983\n",
      "6\n"
     ]
    },
    {
     "name": "stderr",
     "output_type": "stream",
     "text": [
      "RDKit ERROR: [21:20:54] SMARTS Parse Error: syntax error while parsing: ?\n",
      "RDKit ERROR: [21:20:54] SMARTS Parse Error: Failed parsing SMARTS '?' for input: '?'\n"
     ]
    },
    {
     "name": "stdout",
     "output_type": "stream",
     "text": [
      "0.013591259466557945 0.023873323634472157\n",
      "0.013591259466557945 0.02216879316926423\n",
      "7\n"
     ]
    },
    {
     "name": "stderr",
     "output_type": "stream",
     "text": [
      "RDKit ERROR: [21:20:55] SMARTS Parse Error: syntax error while parsing: ?\n",
      "RDKit ERROR: [21:20:55] SMARTS Parse Error: Failed parsing SMARTS '?' for input: '?'\n"
     ]
    },
    {
     "name": "stdout",
     "output_type": "stream",
     "text": [
      "0.013591259466557945 0.025553318272757187\n",
      "0.013591259466557945 0.029194616780298204\n",
      "8\n"
     ]
    },
    {
     "name": "stderr",
     "output_type": "stream",
     "text": [
      "RDKit ERROR: [21:20:57] SMARTS Parse Error: syntax error while parsing: ?\n",
      "RDKit ERROR: [21:20:57] SMARTS Parse Error: Failed parsing SMARTS '?' for input: '?'\n"
     ]
    },
    {
     "name": "stdout",
     "output_type": "stream",
     "text": [
      "0.01341094832785844 0.020697944975385456\n",
      "0.011832226005446334 0.022069926267539786\n",
      "9\n"
     ]
    },
    {
     "name": "stderr",
     "output_type": "stream",
     "text": [
      "RDKit ERROR: [21:20:59] SMARTS Parse Error: syntax error while parsing: ?\n",
      "RDKit ERROR: [21:20:59] SMARTS Parse Error: Failed parsing SMARTS '?' for input: '?'\n"
     ]
    },
    {
     "name": "stdout",
     "output_type": "stream",
     "text": [
      "0.013591259466557945 0.024160347199913442\n",
      "0.012336819732741958 0.02340466704593358\n"
     ]
    }
   ],
   "source": [
    "core = Chem.MolFromSmiles('CC(=O)NC(Cc1ccccc1)C(O)C[NH2+]C1CC2(CCC2)Oc2ncc(CC(C)(C)C)cc12')\n",
    "\n",
    "for i in dfs.index[5:]:\n",
    "    print(i)\n",
    "    s = dfs.iloc[i]\n",
    "    ids = \"scaffold3-%s-%s-%s\" % (i, s.ID, s.pIC50.round(3))\n",
    "    bimg, svg, bits = highlight_important_atom(s.smiles, cmap, core_mol = core, vmin = vmin, vmax =  vmax, top = top)\n",
    "    display.Image(bimg)\n",
    "    with open('./scaffold3/%s.svg' % ids , 'w') as f:\n",
    "        f.write(svg)"
   ]
  },
  {
   "cell_type": "code",
   "execution_count": null,
   "metadata": {},
   "outputs": [],
   "source": []
  },
  {
   "cell_type": "markdown",
   "metadata": {},
   "source": [
    "# One Smiles"
   ]
  },
  {
   "cell_type": "code",
   "execution_count": null,
   "metadata": {},
   "outputs": [],
   "source": []
  },
  {
   "cell_type": "code",
   "execution_count": null,
   "metadata": {},
   "outputs": [],
   "source": [
    "Clc1cc2nc(n(c2cc1)CCCC(=O)NC(C)C)N\n",
    "Clc1cc2nc(n(c2cc1)CCCO)N\n"
   ]
  },
  {
   "cell_type": "code",
   "execution_count": 795,
   "metadata": {},
   "outputs": [
    {
     "name": "stderr",
     "output_type": "stream",
     "text": [
      "RDKit ERROR: [17:50:19] SMARTS Parse Error: syntax error while parsing: ?\n",
      "RDKit ERROR: [17:50:19] SMARTS Parse Error: Failed parsing SMARTS '?' for input: '?'\n"
     ]
    },
    {
     "name": "stdout",
     "output_type": "stream",
     "text": [
      "0.016361475004506687 0.027830145552211766\n",
      "0.01406875449172143 0.02672857046874878\n"
     ]
    },
    {
     "data": {
      "image/png": "[encoded data removed]",
      "text/plain": [
       "<IPython.core.display.Image object>"
      ]
     },
     "execution_count": 795,
     "metadata": {},
     "output_type": "execute_result"
    }
   ],
   "source": [
    "s = 'Fc1ncccc1-c1cc(ccc1)C1(N=C(N)N(C)C1=O)c1cn(nc1)CCC(C)C'\n",
    "bimg, svg, bits = highlight_important_atom(s,cmap,  vmin = vmin,  vmax = vmax,  top = top)\n",
    "display.Image(bimg)"
   ]
  },
  {
   "cell_type": "code",
   "execution_count": null,
   "metadata": {},
   "outputs": [],
   "source": [
    "\n"
   ]
  },
  {
   "cell_type": "code",
   "execution_count": 44,
   "metadata": {},
   "outputs": [],
   "source": [
    "smiles = \"O=C(NCC1CCCCC1)CCc1cc2c(nc1N)cccc2\" #\"Clc1cc2nc(n(c2cc1)CCCC(=O)N(CC1CCCCC1)C)N\"#\"O=C(N(C)C1CCCCC1)CCc1cc2cc(ccc2nc1N)-c1ccccc1C\"\n",
    "# \n",
    "# smiles = \"Clc1cc2nc(n(c2cc1)CCCC(=O)N(CC1CCCCC1)C)N\"\n",
    "\n",
    "# smiles = \"O=C(N(C)C1CCCCC1)CCc1cc2cc(ccc2nc1N)-c1ccccc1C\"\n",
    "\n",
    "# smiles = \"Clc1ccccc1-c1n(Cc2nc(N)ccc2)c(cc1)-c1ccc(Oc2cncnc2)cc1\"\n",
    "# smiles = \"Clc1ccccc1-c1n(Cc2nc(N)ccc2)c(cc1)-c1ccc(Nc2cncnc2)cc1\"\n",
    "\n",
    "smiles = \"O1CC[C@@H](NC(=O)[C@@H](Cc2cc3cc(ccc3nc2N)-c2ccccc2C)C)CC1(C)C\"\n",
    "smiles = \"O=C(NCCC(C)(C)C)C(Cc1cc2cc(ccc2nc1N)-c1ccccc1C)C\""
   ]
  },
  {
   "cell_type": "markdown",
   "metadata": {},
   "source": [
    "## 01) Helogen Group"
   ]
  },
  {
   "cell_type": "code",
   "execution_count": 45,
   "metadata": {},
   "outputs": [
    {
     "data": {
      "text/plain": [
       "('[F,Cl,Br,I]!@*@*', 0)"
      ]
     },
     "execution_count": 45,
     "metadata": {},
     "output_type": "execute_result"
    }
   ],
   "source": [
    "smt2.get(\"MACCSFP87\")"
   ]
  },
  {
   "cell_type": "code",
   "execution_count": 46,
   "metadata": {},
   "outputs": [
    {
     "data": {
      "text/plain": [
       "('[F,Cl,Br,I]~*(~*)~*', 0)"
      ]
     },
     "execution_count": 46,
     "metadata": {},
     "output_type": "execute_result"
    }
   ],
   "source": [
    "smt2.get(\"MACCSFP107\")"
   ]
  },
  {
   "cell_type": "code",
   "execution_count": 47,
   "metadata": {},
   "outputs": [
    {
     "data": {
      "text/plain": [
       "('[F,Cl,Br,I]', 0)"
      ]
     },
     "execution_count": 47,
     "metadata": {},
     "output_type": "execute_result"
    }
   ],
   "source": [
    "smt2.get(\"MACCSFP134\")"
   ]
  },
  {
   "cell_type": "code",
   "execution_count": 48,
   "metadata": {},
   "outputs": [
    {
     "data": {
      "text/plain": [
       "('F', 0)"
      ]
     },
     "execution_count": 48,
     "metadata": {},
     "output_type": "execute_result"
    }
   ],
   "source": [
    "smt2.get(\"MACCSFP42\")"
   ]
  },
  {
   "cell_type": "code",
   "execution_count": 49,
   "metadata": {},
   "outputs": [
    {
     "data": {
      "text/plain": [
       "('[#6]~[F]', 0)"
      ]
     },
     "execution_count": 49,
     "metadata": {},
     "output_type": "execute_result"
    }
   ],
   "source": [
    "smt1.get(\"PubChemFP287\")"
   ]
  },
  {
   "cell_type": "code",
   "execution_count": 50,
   "metadata": {},
   "outputs": [
    {
     "data": {
      "text/plain": [
       "('[#6](~[F])(:c)', 0)"
      ]
     },
     "execution_count": 50,
     "metadata": {},
     "output_type": "execute_result"
    }
   ],
   "source": [
    "smt1.get(\"PubChemFP364\")"
   ]
  },
  {
   "cell_type": "code",
   "execution_count": 51,
   "metadata": {},
   "outputs": [
    {
     "data": {
      "text/plain": [
       "('[#6](~[F])(:c)', 0)"
      ]
     },
     "execution_count": 51,
     "metadata": {},
     "output_type": "execute_result"
    }
   ],
   "source": [
    "smt1.get(\"PubChemFP364\")"
   ]
  },
  {
   "cell_type": "code",
   "execution_count": 52,
   "metadata": {},
   "outputs": [
    {
     "data": {
      "text/plain": [
       "('[#6](~[F])(~[F])', 0)"
      ]
     },
     "execution_count": 52,
     "metadata": {},
     "output_type": "execute_result"
    }
   ],
   "source": [
    "smt1.get(\"PubChemFP363\")"
   ]
  },
  {
   "cell_type": "code",
   "execution_count": null,
   "metadata": {},
   "outputs": [],
   "source": []
  },
  {
   "cell_type": "markdown",
   "metadata": {},
   "source": [
    "## 02) Chalcogen group"
   ]
  },
  {
   "cell_type": "code",
   "execution_count": 53,
   "metadata": {},
   "outputs": [
    {
     "data": {
      "image/png": "[encoded data removed]",
      "text/plain": [
       "<rdkit.Chem.rdchem.Mol at 0x7f2a75f99da0>"
      ]
     },
     "execution_count": 53,
     "metadata": {},
     "output_type": "execute_result"
    }
   ],
   "source": [
    "smt2.get(\"MACCSFP127\")\n",
    "smt2.get(\"MACCSFP143\")\n",
    "Chem.MolFromSmarts(smt2.get(\"MACCSFP143\")[0])"
   ]
  },
  {
   "cell_type": "code",
   "execution_count": null,
   "metadata": {},
   "outputs": [],
   "source": []
  },
  {
   "cell_type": "code",
   "execution_count": null,
   "metadata": {},
   "outputs": [],
   "source": []
  },
  {
   "cell_type": "markdown",
   "metadata": {},
   "source": [
    "## 03)Donor, Acceptor"
   ]
  },
  {
   "cell_type": "code",
   "execution_count": 54,
   "metadata": {},
   "outputs": [
    {
     "data": {
      "text/plain": [
       "('[!#6;!#1;!H0]~*~*~*~[!#6;!#1;!H0]', 0)"
      ]
     },
     "execution_count": 54,
     "metadata": {},
     "output_type": "execute_result"
    }
   ],
   "source": [
    "smt2.get(\"MACCSFP53\")"
   ]
  },
  {
   "cell_type": "code",
   "execution_count": 55,
   "metadata": {},
   "outputs": [
    {
     "data": {
      "text/plain": [
       "('[NH2]', 0)"
      ]
     },
     "execution_count": 55,
     "metadata": {},
     "output_type": "execute_result"
    }
   ],
   "source": [
    "smt2.get(\"MACCSFP84\")"
   ]
  },
  {
   "cell_type": "code",
   "execution_count": 56,
   "metadata": {},
   "outputs": [
    {
     "data": {
      "text/plain": [
       "('[!#6;!#1;!H0]', 1)"
      ]
     },
     "execution_count": 56,
     "metadata": {},
     "output_type": "execute_result"
    }
   ],
   "source": [
    "smt2.get(\"MACCSFP131\")"
   ]
  },
  {
   "cell_type": "code",
   "execution_count": 57,
   "metadata": {},
   "outputs": [
    {
     "data": {
      "text/plain": [
       "('[N]', 3)"
      ]
     },
     "execution_count": 57,
     "metadata": {},
     "output_type": "execute_result"
    }
   ],
   "source": [
    "smt1.get(\"PubChemFP16\")"
   ]
  },
  {
   "cell_type": "code",
   "execution_count": 58,
   "metadata": {},
   "outputs": [
    {
     "data": {
      "text/plain": [
       "('Donor', 'Donor', 5)"
      ]
     },
     "execution_count": 58,
     "metadata": {},
     "output_type": "execute_result"
    }
   ],
   "source": [
    "smt3.get('PharmacoErGFP4')"
   ]
  },
  {
   "cell_type": "code",
   "execution_count": 59,
   "metadata": {},
   "outputs": [
    {
     "data": {
      "text/plain": [
       "('Donor', 'Donor', 6)"
      ]
     },
     "execution_count": 59,
     "metadata": {},
     "output_type": "execute_result"
    }
   ],
   "source": [
    "smt3.get('PharmacoErGFP5')"
   ]
  },
  {
   "cell_type": "code",
   "execution_count": null,
   "metadata": {},
   "outputs": [],
   "source": []
  },
  {
   "cell_type": "code",
   "execution_count": 60,
   "metadata": {},
   "outputs": [
    {
     "data": {
      "text/plain": [
       "('Donor', 'Acceptor', 4)"
      ]
     },
     "execution_count": 60,
     "metadata": {},
     "output_type": "execute_result"
    }
   ],
   "source": [
    "smt3.get('PharmacoErGFP24')"
   ]
  },
  {
   "cell_type": "code",
   "execution_count": 61,
   "metadata": {},
   "outputs": [
    {
     "data": {
      "text/plain": [
       "('Donor', 'Acceptor', 6)"
      ]
     },
     "execution_count": 61,
     "metadata": {},
     "output_type": "execute_result"
    }
   ],
   "source": [
    "smt3.get('PharmacoErGFP26')"
   ]
  },
  {
   "cell_type": "code",
   "execution_count": 62,
   "metadata": {},
   "outputs": [
    {
     "data": {
      "text/plain": [
       "('Donor', 'Hydrophobic', 20)"
      ]
     },
     "execution_count": 62,
     "metadata": {},
     "output_type": "execute_result"
    }
   ],
   "source": [
    "smt3.get('PharmacoErGFP103')"
   ]
  },
  {
   "cell_type": "code",
   "execution_count": 63,
   "metadata": {},
   "outputs": [
    {
     "data": {
      "text/plain": [
       "('Donor', 'Hydrophobic', 21)"
      ]
     },
     "execution_count": 63,
     "metadata": {},
     "output_type": "execute_result"
    }
   ],
   "source": [
    "smt3.get('PharmacoErGFP104')"
   ]
  },
  {
   "cell_type": "code",
   "execution_count": 64,
   "metadata": {},
   "outputs": [
    {
     "data": {
      "text/plain": [
       "['[N;!H0;v3,v4&+1]', '[O,S;H1;+0]', '[n&H1&+0]']"
      ]
     },
     "execution_count": 64,
     "metadata": {},
     "output_type": "execute_result"
    }
   ],
   "source": [
    "smt3_map.get('Donor')"
   ]
  },
  {
   "cell_type": "code",
   "execution_count": 65,
   "metadata": {},
   "outputs": [
    {
     "data": {
      "text/plain": [
       "['[O,S;H1;v2;!$(*-*=[O,N,P,S])]',\n",
       " '[O;H0;v2]',\n",
       " '[O,S;v1;-]',\n",
       " '[N;v3;!$(N-*=[O,N,P,S])]',\n",
       " '[n&H0&+0]',\n",
       " '[o;+0;!$([o]:n);!$([o]:c:n)]']"
      ]
     },
     "execution_count": 65,
     "metadata": {},
     "output_type": "execute_result"
    }
   ],
   "source": [
    "smt3_map.get('Acceptor')"
   ]
  },
  {
   "cell_type": "code",
   "execution_count": null,
   "metadata": {},
   "outputs": [],
   "source": []
  },
  {
   "cell_type": "code",
   "execution_count": null,
   "metadata": {},
   "outputs": [],
   "source": []
  },
  {
   "cell_type": "code",
   "execution_count": null,
   "metadata": {},
   "outputs": [],
   "source": []
  },
  {
   "cell_type": "markdown",
   "metadata": {},
   "source": [
    "## 04) Group4: Aromatic Ring"
   ]
  },
  {
   "cell_type": "code",
   "execution_count": 66,
   "metadata": {},
   "outputs": [
    {
     "data": {
      "text/plain": [
       "('[#6][#6]1[#6][#6]([#6])[#6][#6][#6]1', 0)"
      ]
     },
     "execution_count": 66,
     "metadata": {},
     "output_type": "execute_result"
    }
   ],
   "source": [
    "smt1.get(\"PubChemFP797\")"
   ]
  },
  {
   "cell_type": "code",
   "execution_count": 67,
   "metadata": {},
   "outputs": [
    {
     "data": {
      "text/plain": [
       "('[#6]-,:[#6]-,:[#6]-,:[#6]-,:[#6]-,:[#6]-,:[#6]-,:[#6]', 0)"
      ]
     },
     "execution_count": 67,
     "metadata": {},
     "output_type": "execute_result"
    }
   ],
   "source": [
    "smt1.get(\"PubChemFP696\")"
   ]
  },
  {
   "cell_type": "code",
   "execution_count": 68,
   "metadata": {},
   "outputs": [
    {
     "data": {
      "text/plain": [
       "('[#6]-,:[#6]-,:[#6]-,:[#6]-,:[#6]-,:[#6](-,:[#6])-,:[#6]', 0)"
      ]
     },
     "execution_count": 68,
     "metadata": {},
     "output_type": "execute_result"
    }
   ],
   "source": [
    "smt1.get(\"PubChemFP697\")"
   ]
  },
  {
   "cell_type": "code",
   "execution_count": 69,
   "metadata": {},
   "outputs": [
    {
     "data": {
      "text/plain": [
       "('[#6]-,:[#6](-,:[#6])-,:[#6](-,:[#6])-,:[#6]', 0)"
      ]
     },
     "execution_count": 69,
     "metadata": {},
     "output_type": "execute_result"
    }
   ],
   "source": [
    "smt1.get(\"PubChemFP712\")"
   ]
  },
  {
   "cell_type": "code",
   "execution_count": 70,
   "metadata": {},
   "outputs": [
    {
     "data": {
      "text/plain": [
       "('[#6]c1cc([#6])ccc1', 0)"
      ]
     },
     "execution_count": 70,
     "metadata": {},
     "output_type": "execute_result"
    }
   ],
   "source": [
    "smt1.get(\"PubChemFP734\")"
   ]
  },
  {
   "cell_type": "code",
   "execution_count": null,
   "metadata": {},
   "outputs": [],
   "source": []
  },
  {
   "cell_type": "code",
   "execution_count": null,
   "metadata": {},
   "outputs": [],
   "source": []
  },
  {
   "cell_type": "markdown",
   "metadata": {},
   "source": [
    "# 05) Group5: -N-O-"
   ]
  },
  {
   "cell_type": "code",
   "execution_count": 71,
   "metadata": {},
   "outputs": [
    {
     "data": {
      "text/plain": [
       "('[#7]~[#6]~[#8]', 0)"
      ]
     },
     "execution_count": 71,
     "metadata": {},
     "output_type": "execute_result"
    }
   ],
   "source": [
    "smt2.get(\"MACCSFP110\")"
   ]
  },
  {
   "cell_type": "code",
   "execution_count": 72,
   "metadata": {},
   "outputs": [
    {
     "data": {
      "text/plain": [
       "('[#8]~[#6](~[#7])~[#6]', 0)"
      ]
     },
     "execution_count": 72,
     "metadata": {},
     "output_type": "execute_result"
    }
   ],
   "source": [
    "smt2.get(\"MACCSFP92\")"
   ]
  },
  {
   "cell_type": "code",
   "execution_count": 73,
   "metadata": {},
   "outputs": [
    {
     "data": {
      "text/plain": [
       "('[#8]=,:[#6]-,:[#6]-,:[#7]', 0)"
      ]
     },
     "execution_count": 73,
     "metadata": {},
     "output_type": "execute_result"
    }
   ],
   "source": [
    "smt1.get(\"PubChemFP536\")"
   ]
  },
  {
   "cell_type": "code",
   "execution_count": 74,
   "metadata": {},
   "outputs": [
    {
     "data": {
      "text/plain": [
       "('[#6](-,:[#7])(=,:[#8])', 0)"
      ]
     },
     "execution_count": 74,
     "metadata": {},
     "output_type": "execute_result"
    }
   ],
   "source": [
    "smt1.get(\"PubChemFP451\")"
   ]
  },
  {
   "cell_type": "code",
   "execution_count": 75,
   "metadata": {},
   "outputs": [
    {
     "data": {
      "text/plain": [
       "('[#6]=[#8]', 0)"
      ]
     },
     "execution_count": 75,
     "metadata": {},
     "output_type": "execute_result"
    }
   ],
   "source": [
    "smt2.get(\"MACCSFP154\")"
   ]
  },
  {
   "cell_type": "code",
   "execution_count": 76,
   "metadata": {},
   "outputs": [
    {
     "data": {
      "text/plain": [
       "('[#6]=,:[#8]', 0)"
      ]
     },
     "execution_count": 76,
     "metadata": {},
     "output_type": "execute_result"
    }
   ],
   "source": [
    "smt1.get(\"PubChemFP420\")"
   ]
  },
  {
   "cell_type": "code",
   "execution_count": null,
   "metadata": {},
   "outputs": [],
   "source": []
  },
  {
   "cell_type": "code",
   "execution_count": 77,
   "metadata": {},
   "outputs": [
    {
     "data": {
      "text/plain": [
       "('[#6](-,:[#6])(-,:[#7])(=,:[#8])', 0)"
      ]
     },
     "execution_count": 77,
     "metadata": {},
     "output_type": "execute_result"
    }
   ],
   "source": [
    "smt1.get(\"PubChemFP439\") #31, 29"
   ]
  },
  {
   "cell_type": "code",
   "execution_count": 78,
   "metadata": {},
   "outputs": [
    {
     "data": {
      "text/plain": [
       "('[#6](-,:[#6])(=,:[#8])', 0)"
      ]
     },
     "execution_count": 78,
     "metadata": {},
     "output_type": "execute_result"
    }
   ],
   "source": [
    "smt1.get(\"PubChemFP443\") #32, 29"
   ]
  },
  {
   "cell_type": "code",
   "execution_count": 79,
   "metadata": {},
   "outputs": [
    {
     "data": {
      "text/plain": [
       "('[#8]=,:[#6]-,:[#6]-,:[#6]-,:[#6]', 0)"
      ]
     },
     "execution_count": 79,
     "metadata": {},
     "output_type": "execute_result"
    }
   ],
   "source": [
    "smt1.get(\"PubChemFP579\") #33, 28"
   ]
  },
  {
   "cell_type": "code",
   "execution_count": null,
   "metadata": {},
   "outputs": [],
   "source": []
  },
  {
   "cell_type": "code",
   "execution_count": 80,
   "metadata": {},
   "outputs": [
    {
     "data": {
      "text/plain": [
       "('[#8]=,:[#6]-,:[#6]-,:[#6]-,:[#6]-,:[#7]', 0)"
      ]
     },
     "execution_count": 80,
     "metadata": {},
     "output_type": "execute_result"
    }
   ],
   "source": [
    "smt1.get(\"PubChemFP685\") #34, 28"
   ]
  },
  {
   "cell_type": "code",
   "execution_count": 81,
   "metadata": {},
   "outputs": [
    {
     "data": {
      "text/plain": [
       "('[#8]=,:[#6]-,:[#6]-,:[#6]-,:[#6]-,:[#6]', 0)"
      ]
     },
     "execution_count": 81,
     "metadata": {},
     "output_type": "execute_result"
    }
   ],
   "source": [
    "smt1.get(\"PubChemFP684\") #34, 29"
   ]
  },
  {
   "cell_type": "code",
   "execution_count": 82,
   "metadata": {},
   "outputs": [
    {
     "data": {
      "text/plain": [
       "('[#8]=,:[#6]-,:[#6]-,:[#6]-,:[#6]-,:[#6]-,:[#6]', 0)"
      ]
     },
     "execution_count": 82,
     "metadata": {},
     "output_type": "execute_result"
    }
   ],
   "source": [
    "smt1.get(\"PubChemFP692\") #35, 29"
   ]
  },
  {
   "cell_type": "code",
   "execution_count": 83,
   "metadata": {},
   "outputs": [
    {
     "data": {
      "text/plain": [
       "('[#8]=,:[#6]-,:[#6]-,:[#6]-,:[#6]-,:[#6]-,:[#6]-,:[#6]', 0)"
      ]
     },
     "execution_count": 83,
     "metadata": {},
     "output_type": "execute_result"
    }
   ],
   "source": [
    "smt1.get(\"PubChemFP704\") #35, 30"
   ]
  },
  {
   "cell_type": "code",
   "execution_count": null,
   "metadata": {},
   "outputs": [],
   "source": []
  },
  {
   "cell_type": "code",
   "execution_count": null,
   "metadata": {},
   "outputs": [],
   "source": []
  },
  {
   "cell_type": "markdown",
   "metadata": {},
   "source": [
    "# 06) Group6: Phamarcophore"
   ]
  },
  {
   "cell_type": "code",
   "execution_count": 84,
   "metadata": {},
   "outputs": [],
   "source": [
    "#smt3_map.get('Hydrophobic')"
   ]
  },
  {
   "cell_type": "code",
   "execution_count": 85,
   "metadata": {},
   "outputs": [
    {
     "data": {
      "text/plain": [
       "('Positive', 'Hydrophobic', 14)"
      ]
     },
     "execution_count": 85,
     "metadata": {},
     "output_type": "execute_result"
    }
   ],
   "source": [
    "smt3.get('PharmacoErGFP286') #3, 32"
   ]
  },
  {
   "cell_type": "code",
   "execution_count": 86,
   "metadata": {},
   "outputs": [
    {
     "data": {
      "text/plain": [
       "('Acceptor', 'Acceptor', 19)"
      ]
     },
     "execution_count": 86,
     "metadata": {},
     "output_type": "execute_result"
    }
   ],
   "source": [
    "smt3.get('PharmacoErGFP144') #3, 33"
   ]
  },
  {
   "cell_type": "code",
   "execution_count": 87,
   "metadata": {},
   "outputs": [
    {
     "data": {
      "text/plain": [
       "('Positive', 'Hydrophobic', 15)"
      ]
     },
     "execution_count": 87,
     "metadata": {},
     "output_type": "execute_result"
    }
   ],
   "source": [
    "smt3.get('PharmacoErGFP287') #4, 30"
   ]
  },
  {
   "cell_type": "code",
   "execution_count": 88,
   "metadata": {},
   "outputs": [
    {
     "data": {
      "text/plain": [
       "('Positive', 'Hydrophobic', 11)"
      ]
     },
     "execution_count": 88,
     "metadata": {},
     "output_type": "execute_result"
    }
   ],
   "source": [
    "smt3.get('PharmacoErGFP283') #4, 34"
   ]
  },
  {
   "cell_type": "code",
   "execution_count": 89,
   "metadata": {},
   "outputs": [
    {
     "data": {
      "text/plain": [
       "('Acceptor', 'Positive', 3)"
      ]
     },
     "execution_count": 89,
     "metadata": {},
     "output_type": "execute_result"
    }
   ],
   "source": [
    "smt3.get('PharmacoErGFP149') #5, 26"
   ]
  },
  {
   "cell_type": "code",
   "execution_count": 90,
   "metadata": {},
   "outputs": [
    {
     "data": {
      "text/plain": [
       "('Positive', 'Hydrophobic', 17)"
      ]
     },
     "execution_count": 90,
     "metadata": {},
     "output_type": "execute_result"
    }
   ],
   "source": [
    "smt3.get('PharmacoErGFP289') #5, 27"
   ]
  },
  {
   "cell_type": "code",
   "execution_count": 91,
   "metadata": {},
   "outputs": [
    {
     "data": {
      "text/plain": [
       "('Acceptor', 'Positive', 2)"
      ]
     },
     "execution_count": 91,
     "metadata": {},
     "output_type": "execute_result"
    }
   ],
   "source": [
    "smt3.get('PharmacoErGFP148') #5, 29"
   ]
  },
  {
   "cell_type": "code",
   "execution_count": 92,
   "metadata": {},
   "outputs": [
    {
     "data": {
      "text/plain": [
       "('Acceptor', 'Acceptor', 21)"
      ]
     },
     "execution_count": 92,
     "metadata": {},
     "output_type": "execute_result"
    }
   ],
   "source": [
    "smt3.get('PharmacoErGFP146') #5, 31"
   ]
  },
  {
   "cell_type": "code",
   "execution_count": 93,
   "metadata": {},
   "outputs": [
    {
     "data": {
      "text/plain": [
       "('Donor', 'Positive', 3)"
      ]
     },
     "execution_count": 93,
     "metadata": {},
     "output_type": "execute_result"
    }
   ],
   "source": [
    "smt3.get('PharmacoErGFP44') #6, 32"
   ]
  },
  {
   "cell_type": "code",
   "execution_count": 94,
   "metadata": {},
   "outputs": [
    {
     "data": {
      "text/plain": [
       "('Donor', 'Positive', 1)"
      ]
     },
     "execution_count": 94,
     "metadata": {},
     "output_type": "execute_result"
    }
   ],
   "source": [
    "smt3.get('PharmacoErGFP42') #7, 33"
   ]
  },
  {
   "cell_type": "code",
   "execution_count": 95,
   "metadata": {},
   "outputs": [
    {
     "data": {
      "text/plain": [
       "('Donor', 'Acceptor', 21)"
      ]
     },
     "execution_count": 95,
     "metadata": {},
     "output_type": "execute_result"
    }
   ],
   "source": [
    "smt3.get('PharmacoErGFP41') #7, 34"
   ]
  },
  {
   "cell_type": "code",
   "execution_count": null,
   "metadata": {},
   "outputs": [],
   "source": []
  },
  {
   "cell_type": "code",
   "execution_count": null,
   "metadata": {},
   "outputs": [],
   "source": []
  },
  {
   "cell_type": "code",
   "execution_count": 96,
   "metadata": {},
   "outputs": [],
   "source": [
    "Donor = [\"[N;!H0;v3,v4&+1]\", \"[O,S;H1;+0]\", \"[n&H1&+0]\"]\n",
    "\n",
    "\n",
    "Acceptor = [\"[O,S;H1;v2;!$(*-*=[O,N,P,S])]\",  \"[O;H0;v2]\", \"[O,S;v1;-]\", \n",
    "            \"[N;v3;!$(N-*=[O,N,P,S])]\", \"[n&H0&+0]\", \"[o;+0;!$([o]:n);!$([o]:c:n)]\"]\n",
    "\n",
    "\n",
    "Positive = [\"[#7;+]\", \"[N;H2&+0][$([C,a]);!$([C,a](=O))]\", \n",
    "            \"[N;H1&+0]([$([C,a]);!$([C,a](=O))])[$([C,a]);!$([C,a](=O))]\", \n",
    "            \"[N;H0&+0]([C;!$(C(=O))])([C;!$(C(=O))])[C;!$(C(=O))]\"]\n",
    "\n",
    "Negative = [\"[C,S](=[O,S,P])-[O;H1,-1]\"]\n",
    "\n",
    "Hydrophobic = [\"[C;D3,D4](-[CH3])-[CH3]\", \"[S;D2](-C)-C\"]\n",
    "\n",
    "Aromatic = [\"a\"]"
   ]
  },
  {
   "cell_type": "code",
   "execution_count": null,
   "metadata": {},
   "outputs": [],
   "source": []
  },
  {
   "cell_type": "code",
   "execution_count": 97,
   "metadata": {},
   "outputs": [
    {
     "data": {
      "image/png": "[encoded data removed]",
      "text/plain": [
       "<rdkit.Chem.rdchem.Mol at 0x7f2a75e384e0>"
      ]
     },
     "execution_count": 97,
     "metadata": {},
     "output_type": "execute_result"
    }
   ],
   "source": [
    "Chem.MolFromSmarts('[#6]=[#8]')"
   ]
  },
  {
   "cell_type": "code",
   "execution_count": 98,
   "metadata": {},
   "outputs": [
    {
     "data": {
      "image/png": "[encoded data removed]",
      "text/plain": [
       "<rdkit.Chem.rdchem.Mol at 0x7f2a75ceead0>"
      ]
     },
     "execution_count": 98,
     "metadata": {},
     "output_type": "execute_result"
    }
   ],
   "source": [
    "Chem.MolFromSmarts(smt3_map.get('Positive')[0])"
   ]
  },
  {
   "cell_type": "code",
   "execution_count": 99,
   "metadata": {},
   "outputs": [
    {
     "data": {
      "image/png": "[encoded data removed]",
      "text/plain": [
       "<rdkit.Chem.rdchem.Mol at 0x7f2a75e7e3f0>"
      ]
     },
     "execution_count": 99,
     "metadata": {},
     "output_type": "execute_result"
    }
   ],
   "source": [
    "Chem.MolFromSmarts(smt3_map.get('Positive')[2])"
   ]
  },
  {
   "cell_type": "code",
   "execution_count": 100,
   "metadata": {},
   "outputs": [
    {
     "data": {
      "image/png": "[encoded data removed]",
      "text/plain": [
       "<rdkit.Chem.rdchem.Mol at 0x7f2a75e7e580>"
      ]
     },
     "execution_count": 100,
     "metadata": {},
     "output_type": "execute_result"
    }
   ],
   "source": [
    "Chem.MolFromSmarts(smt3_map.get('Positive')[3])"
   ]
  },
  {
   "cell_type": "code",
   "execution_count": null,
   "metadata": {},
   "outputs": [],
   "source": []
  },
  {
   "cell_type": "code",
   "execution_count": null,
   "metadata": {},
   "outputs": [],
   "source": []
  },
  {
   "cell_type": "code",
   "execution_count": null,
   "metadata": {},
   "outputs": [],
   "source": []
  },
  {
   "cell_type": "code",
   "execution_count": null,
   "metadata": {},
   "outputs": [],
   "source": []
  },
  {
   "cell_type": "code",
   "execution_count": null,
   "metadata": {},
   "outputs": [],
   "source": []
  },
  {
   "cell_type": "code",
   "execution_count": null,
   "metadata": {},
   "outputs": [],
   "source": []
  },
  {
   "cell_type": "code",
   "execution_count": 101,
   "metadata": {},
   "outputs": [
    {
     "name": "stderr",
     "output_type": "stream",
     "text": [
      "/home/sxh/anaconda3/envs/rdkit2020/lib/python3.6/site-packages/ipykernel_launcher.py:43: SettingWithCopyWarning: \n",
      "A value is trying to be set on a copy of a slice from a DataFrame.\n",
      "Try using .loc[row_indexer,col_indexer] = value instead\n",
      "\n",
      "See the caveats in the documentation: http://pandas.pydata.org/pandas-docs/stable/user_guide/indexing.html#returning-a-view-versus-a-copy\n"
     ]
    }
   ],
   "source": [
    "fp = \"MACCSFP127\" #,\"PubChemFP734\"\n",
    "svg, hit_ats, bimg, patt, mol = plot_fp(fp, i = -10)\n",
    "with open('./%s.svg' % fp , 'w') as f:\n",
    "    f.write(svg)"
   ]
  },
  {
   "cell_type": "code",
   "execution_count": null,
   "metadata": {},
   "outputs": [],
   "source": []
  },
  {
   "cell_type": "code",
   "execution_count": null,
   "metadata": {},
   "outputs": [],
   "source": []
  },
  {
   "cell_type": "code",
   "execution_count": null,
   "metadata": {},
   "outputs": [],
   "source": []
  },
  {
   "cell_type": "code",
   "execution_count": null,
   "metadata": {},
   "outputs": [],
   "source": []
  }
 ],
 "metadata": {
  "kernelspec": {
   "display_name": "Python 3",
   "language": "python",
   "name": "python3"
  },
  "language_info": {
   "codemirror_mode": {
    "name": "ipython",
    "version": 3
   },
   "file_extension": ".py",
   "mimetype": "text/x-python",
   "name": "python",
   "nbconvert_exporter": "python",
   "pygments_lexer": "ipython3",
   "version": "3.6.10"
  }
 },
 "nbformat": 4,
 "nbformat_minor": 4
}
