{
 "cells": [
  {
   "cell_type": "code",
   "execution_count": 1,
   "metadata": {},
   "outputs": [],
   "source": [
    "import pandas as pd\n",
    "import numpy as np\n",
    "from tqdm import tqdm\n",
    "from joblib import load, dump\n",
    "import matplotlib.pyplot as plt\n",
    "\n",
    "\n",
    "from molmap import loadmap\n",
    "from molmap.model import RegressionEstimator, MultiClassEstimator, MultiLabelEstimator\n",
    "from molmap import loadmap, dataset\n",
    "from molmap.show import imshow_wrap\n",
    "import molmap\n",
    "import os"
   ]
  },
  {
   "cell_type": "code",
   "execution_count": 2,
   "metadata": {},
   "outputs": [
    {
     "name": "stdout",
     "output_type": "stream",
     "text": [
      "total samples: 1513\n"
     ]
    }
   ],
   "source": [
    "## fix random seed to get repeatale results\n",
    "seed = 123\n",
    "tqdm.pandas(ascii=True)\n",
    "np.random.seed(seed)\n",
    "\n",
    "from chembench import dataset, load_data\n",
    "#load dataset\n",
    "data = dataset.load_BACE()\n",
    "df = data.df\n",
    "Y = data.y\n",
    "task_name = data.task_name\n"
   ]
  },
  {
   "cell_type": "code",
   "execution_count": 3,
   "metadata": {},
   "outputs": [
    {
     "data": {
      "text/plain": [
       "(1210, 151, 152)"
      ]
     },
     "execution_count": 3,
     "metadata": {},
     "output_type": "execute_result"
    }
   ],
   "source": [
    "train_df = pd.read_csv('../data/train.csv')\n",
    "valid_df = pd.read_csv('../data/val.csv')\n",
    "test_df = pd.read_csv('../data/test.csv')\n",
    "\n",
    "\n",
    "train_idx = df[df.smiles.isin(train_df.smiles)].index\n",
    "valid_idx = df[df.smiles.isin(valid_df.smiles)].index\n",
    "test_idx = df[df.smiles.isin(test_df.smiles)].index\n",
    "\n",
    "len(train_idx), len(valid_idx), len(test_idx)"
   ]
  },
  {
   "cell_type": "markdown",
   "metadata": {},
   "source": [
    "## load optimized molmaps"
   ]
  },
  {
   "cell_type": "code",
   "execution_count": 4,
   "metadata": {},
   "outputs": [
    {
     "name": "stdout",
     "output_type": "stream",
     "text": [
      "loading dataset: BACE number of split times: 3\n",
      "UMAP(metric='precomputed', min_dist=0.75, random_state=1, verbose=2)\n",
      "Construct fuzzy simplicial set\n",
      "Thu Sep 24 11:00:28 2020 Finding Nearest Neighbors\n",
      "Thu Sep 24 11:00:28 2020 Finished Nearest Neighbor Search\n",
      "Thu Sep 24 11:00:30 2020 Construct embedding\n",
      "\tcompleted  0  /  500 epochs\n",
      "\tcompleted  50  /  500 epochs\n",
      "\tcompleted  100  /  500 epochs\n",
      "\tcompleted  150  /  500 epochs\n",
      "\tcompleted  200  /  500 epochs\n",
      "\tcompleted  250  /  500 epochs\n",
      "\tcompleted  300  /  500 epochs\n",
      "\tcompleted  350  /  500 epochs\n",
      "\tcompleted  400  /  500 epochs\n",
      "\tcompleted  450  /  500 epochs\n",
      "Thu Sep 24 11:00:33 2020 Finished embedding\n",
      "2020-09-24 11:00:33,628 - \u001b[32mINFO\u001b[0m - [bidd-molmap]\u001b[0m - Applying grid feature map(assignment), this may take several minutes(1~30 min)\u001b[0m\n",
      "2020-09-24 11:00:35,746 - \u001b[32mINFO\u001b[0m - [bidd-molmap]\u001b[0m - Finished\u001b[0m\n"
     ]
    }
   ],
   "source": [
    "### optimized hyper-parameters\n",
    "n_neighbors = 15\n",
    "min_dist = 0.75\n",
    "\n",
    "task_name = data.task_name\n",
    "_, induces = load_data(task_name)\n",
    "\n",
    "mp2 = molmap.loadmap('../../fingerprint.mp')\n",
    "mp2.fit(method = 'umap', min_dist = min_dist, n_neighbors = n_neighbors)"
   ]
  },
  {
   "cell_type": "code",
   "execution_count": 5,
   "metadata": {},
   "outputs": [
    {
     "name": "stderr",
     "output_type": "stream",
     "text": [
      "100%|##########| 1513/1513 [00:33<00:00, 45.15it/s]\n"
     ]
    }
   ],
   "source": [
    "X2 = mp2.batch_transform(df.smiles, n_jobs = 8)"
   ]
  },
  {
   "cell_type": "code",
   "execution_count": 6,
   "metadata": {},
   "outputs": [],
   "source": [
    "trainX = X2[train_idx]\n",
    "trainY = Y[train_idx]\n",
    "\n",
    "validX = X2[valid_idx]\n",
    "validY = Y[valid_idx]\n",
    "\n",
    "testX = X2[test_idx]\n",
    "testY = Y[test_idx]\n"
   ]
  },
  {
   "cell_type": "code",
   "execution_count": 7,
   "metadata": {},
   "outputs": [
    {
     "name": "stdout",
     "output_type": "stream",
     "text": [
      "MultiLabelEstimator(dense_layers=[128, 32], gpuid='3', monitor='val_auc')\n",
      "epoch: 0001, loss: 0.6895 - val_loss: 0.6867; auc: 0.7861 - val_auc: 0.6488                                                                                                    \n",
      "epoch: 0002, loss: 0.6715 - val_loss: 0.6824; auc: 0.8401 - val_auc: 0.7519                                                                                                    \n",
      "epoch: 0003, loss: 0.6538 - val_loss: 0.6642; auc: 0.8453 - val_auc: 0.7732                                                                                                    \n",
      "epoch: 0004, loss: 0.6366 - val_loss: 0.6626; auc: 0.8549 - val_auc: 0.7842                                                                                                    \n",
      "epoch: 0005, loss: 0.6144 - val_loss: 0.6390; auc: 0.8560 - val_auc: 0.7921                                                                                                    \n",
      "epoch: 0006, loss: 0.5918 - val_loss: 0.6284; auc: 0.8607 - val_auc: 0.7939                                                                                                    \n",
      "epoch: 0007, loss: 0.5680 - val_loss: 0.6556; auc: 0.8694 - val_auc: 0.8016                                                                                                    \n",
      "epoch: 0008, loss: 0.5514 - val_loss: 0.6230; auc: 0.8736 - val_auc: 0.8053                                                                                                    \n",
      "epoch: 0009, loss: 0.5308 - val_loss: 0.6374; auc: 0.8790 - val_auc: 0.8106                                                                                                    \n",
      "epoch: 0010, loss: 0.5113 - val_loss: 0.5772; auc: 0.8810 - val_auc: 0.8136                                                                                                    \n",
      "epoch: 0011, loss: 0.4935 - val_loss: 0.5628; auc: 0.8851 - val_auc: 0.8184                                                                                                    \n",
      "epoch: 0012, loss: 0.5009 - val_loss: 0.5449; auc: 0.8887 - val_auc: 0.8214                                                                                                    \n",
      "epoch: 0013, loss: 0.4751 - val_loss: 0.5432; auc: 0.8954 - val_auc: 0.8234                                                                                                    \n",
      "epoch: 0014, loss: 0.4617 - val_loss: 0.5251; auc: 0.8973 - val_auc: 0.8252                                                                                                    \n",
      "epoch: 0015, loss: 0.4543 - val_loss: 0.5249; auc: 0.9015 - val_auc: 0.8273                                                                                                    \n",
      "epoch: 0016, loss: 0.4299 - val_loss: 0.5686; auc: 0.9069 - val_auc: 0.8291                                                                                                    \n",
      "epoch: 0017, loss: 0.4193 - val_loss: 0.5489; auc: 0.9116 - val_auc: 0.8326                                                                                                    \n",
      "epoch: 0018, loss: 0.4088 - val_loss: 0.5355; auc: 0.9153 - val_auc: 0.8350                                                                                                    \n",
      "epoch: 0019, loss: 0.4037 - val_loss: 0.4983; auc: 0.9176 - val_auc: 0.8373                                                                                                    \n",
      "epoch: 0020, loss: 0.3903 - val_loss: 0.5094; auc: 0.9221 - val_auc: 0.8394                                                                                                    \n",
      "epoch: 0021, loss: 0.3831 - val_loss: 0.4966; auc: 0.9249 - val_auc: 0.8419                                                                                                    \n",
      "epoch: 0022, loss: 0.3758 - val_loss: 0.4983; auc: 0.9284 - val_auc: 0.8440                                                                                                    \n",
      "epoch: 0023, loss: 0.3688 - val_loss: 0.5180; auc: 0.9320 - val_auc: 0.8479                                                                                                    \n",
      "epoch: 0024, loss: 0.3581 - val_loss: 0.5183; auc: 0.9341 - val_auc: 0.8480                                                                                                    \n",
      "epoch: 0025, loss: 0.3611 - val_loss: 0.5714; auc: 0.9375 - val_auc: 0.8498                                                                                                    \n",
      "epoch: 0026, loss: 0.3450 - val_loss: 0.5562; auc: 0.9395 - val_auc: 0.8518                                                                                                    \n",
      "epoch: 0027, loss: 0.3495 - val_loss: 0.4974; auc: 0.9414 - val_auc: 0.8521                                                                                                    \n",
      "epoch: 0028, loss: 0.3391 - val_loss: 0.4942; auc: 0.9434 - val_auc: 0.8538                                                                                                    \n",
      "epoch: 0029, loss: 0.3240 - val_loss: 0.5631; auc: 0.9467 - val_auc: 0.8545                                                                                                    \n",
      "epoch: 0030, loss: 0.3190 - val_loss: 0.5103; auc: 0.9485 - val_auc: 0.8559                                                                                                    \n",
      "epoch: 0031, loss: 0.3115 - val_loss: 0.4685; auc: 0.9505 - val_auc: 0.8573                                                                                                    \n",
      "epoch: 0032, loss: 0.3224 - val_loss: 0.5199; auc: 0.9530 - val_auc: 0.8596                                                                                                    \n",
      "epoch: 0033, loss: 0.3080 - val_loss: 0.5079; auc: 0.9546 - val_auc: 0.8592                                                                                                    \n",
      "epoch: 0034, loss: 0.2966 - val_loss: 0.4957; auc: 0.9564 - val_auc: 0.8614                                                                                                    \n",
      "epoch: 0035, loss: 0.2901 - val_loss: 0.4986; auc: 0.9583 - val_auc: 0.8633                                                                                                    \n",
      "epoch: 0036, loss: 0.2882 - val_loss: 0.4639; auc: 0.9595 - val_auc: 0.8628                                                                                                    \n",
      "epoch: 0037, loss: 0.2836 - val_loss: 0.4802; auc: 0.9613 - val_auc: 0.8619                                                                                                    \n",
      "epoch: 0038, loss: 0.2900 - val_loss: 0.7035; auc: 0.9634 - val_auc: 0.8631                                                                                                    \n",
      "epoch: 0039, loss: 0.3098 - val_loss: 0.4660; auc: 0.9629 - val_auc: 0.8654                                                                                                    \n",
      "epoch: 0040, loss: 0.3004 - val_loss: 0.4633; auc: 0.9627 - val_auc: 0.8646                                                                                                    \n",
      "epoch: 0041, loss: 0.2752 - val_loss: 0.4723; auc: 0.9653 - val_auc: 0.8645                                                                                                    \n",
      "epoch: 0042, loss: 0.2598 - val_loss: 0.4829; auc: 0.9673 - val_auc: 0.8662                                                                                                    \n",
      "epoch: 0043, loss: 0.2596 - val_loss: 0.4636; auc: 0.9688 - val_auc: 0.8663                                                                                                    \n",
      "epoch: 0044, loss: 0.2624 - val_loss: 0.4650; auc: 0.9698 - val_auc: 0.8649                                                                                                    \n",
      "epoch: 0045, loss: 0.2512 - val_loss: 0.4927; auc: 0.9707 - val_auc: 0.8665                                                                                                    \n",
      "epoch: 0046, loss: 0.2528 - val_loss: 0.5452; auc: 0.9722 - val_auc: 0.8697                                                                                                    \n",
      "epoch: 0047, loss: 0.2516 - val_loss: 0.4738; auc: 0.9729 - val_auc: 0.8677                                                                                                    \n",
      "epoch: 0048, loss: 0.2376 - val_loss: 0.4625; auc: 0.9738 - val_auc: 0.8677                                                                                                    \n",
      "epoch: 0049, loss: 0.2338 - val_loss: 0.4583; auc: 0.9753 - val_auc: 0.8689                                                                                                    \n",
      "epoch: 0050, loss: 0.2300 - val_loss: 0.4544; auc: 0.9757 - val_auc: 0.8700                                                                                                    \n",
      "epoch: 0051, loss: 0.2379 - val_loss: 0.4704; auc: 0.9770 - val_auc: 0.8700                                                                                                    \n",
      "epoch: 0052, loss: 0.2229 - val_loss: 0.4861; auc: 0.9788 - val_auc: 0.8711                                                                                                    \n",
      "epoch: 0053, loss: 0.2218 - val_loss: 0.4628; auc: 0.9789 - val_auc: 0.8714                                                                                                    \n",
      "epoch: 0054, loss: 0.2249 - val_loss: 0.4724; auc: 0.9791 - val_auc: 0.8710                                                                                                    \n",
      "epoch: 0055, loss: 0.2409 - val_loss: 0.5719; auc: 0.9811 - val_auc: 0.8714                                                                                                    \n",
      "epoch: 0056, loss: 0.2267 - val_loss: 0.4917; auc: 0.9811 - val_auc: 0.8712                                                                                                    \n",
      "epoch: 0057, loss: 0.2272 - val_loss: 0.4776; auc: 0.9814 - val_auc: 0.8698                                                                                                    \n",
      "epoch: 0058, loss: 0.2235 - val_loss: 0.4666; auc: 0.9819 - val_auc: 0.8715                                                                                                    \n",
      "epoch: 0059, loss: 0.2135 - val_loss: 0.4748; auc: 0.9830 - val_auc: 0.8725                                                                                                    \n",
      "epoch: 0060, loss: 0.2007 - val_loss: 0.4589; auc: 0.9843 - val_auc: 0.8717                                                                                                    \n",
      "epoch: 0061, loss: 0.1996 - val_loss: 0.4742; auc: 0.9850 - val_auc: 0.8722                                                                                                    \n",
      "epoch: 0062, loss: 0.1940 - val_loss: 0.4697; auc: 0.9858 - val_auc: 0.8733                                                                                                    \n",
      "epoch: 0063, loss: 0.1890 - val_loss: 0.4797; auc: 0.9865 - val_auc: 0.8731                                                                                                    \n",
      "epoch: 0064, loss: 0.1914 - val_loss: 0.4624; auc: 0.9871 - val_auc: 0.8717                                                                                                    \n",
      "epoch: 0065, loss: 0.1871 - val_loss: 0.4598; auc: 0.9871 - val_auc: 0.8729                                                                                                    \n",
      "epoch: 0066, loss: 0.1833 - val_loss: 0.4694; auc: 0.9883 - val_auc: 0.8726                                                                                                    \n",
      "epoch: 0067, loss: 0.1763 - val_loss: 0.4630; auc: 0.9886 - val_auc: 0.8727                                                                                                    \n",
      "epoch: 0068, loss: 0.1831 - val_loss: 0.4764; auc: 0.9891 - val_auc: 0.8717                                                                                                    \n",
      "epoch: 0069, loss: 0.1783 - val_loss: 0.4741; auc: 0.9900 - val_auc: 0.8741                                                                                                    \n",
      "epoch: 0070, loss: 0.1734 - val_loss: 0.4856; auc: 0.9901 - val_auc: 0.8725                                                                                                    \n",
      "epoch: 0071, loss: 0.1781 - val_loss: 0.4758; auc: 0.9906 - val_auc: 0.8735                                                                                                    \n",
      "epoch: 0072, loss: 0.1733 - val_loss: 0.5050; auc: 0.9909 - val_auc: 0.8729                                                                                                    \n",
      "epoch: 0073, loss: 0.1689 - val_loss: 0.4668; auc: 0.9911 - val_auc: 0.8724                                                                                                    \n",
      "epoch: 0074, loss: 0.1712 - val_loss: 0.4941; auc: 0.9916 - val_auc: 0.8701                                                                                                    \n",
      "epoch: 0075, loss: 0.1615 - val_loss: 0.5411; auc: 0.9921 - val_auc: 0.8719                                                                                                    \n",
      "epoch: 0076, loss: 0.1623 - val_loss: 0.4722; auc: 0.9921 - val_auc: 0.8714                                                                                                    \n",
      "epoch: 0077, loss: 0.1789 - val_loss: 0.5393; auc: 0.9925 - val_auc: 0.8732                                                                                                    \n",
      "epoch: 0078, loss: 0.1684 - val_loss: 0.4701; auc: 0.9924 - val_auc: 0.8752                                                                                                    \n",
      "epoch: 0079, loss: 0.1607 - val_loss: 0.5337; auc: 0.9933 - val_auc: 0.8733                                                                                                    \n",
      "epoch: 0080, loss: 0.1630 - val_loss: 0.4876; auc: 0.9931 - val_auc: 0.8705                                                                                                    \n",
      "epoch: 0081, loss: 0.1660 - val_loss: 0.5659; auc: 0.9936 - val_auc: 0.8714                                                                                                    \n",
      "epoch: 0082, loss: 0.1678 - val_loss: 0.4947; auc: 0.9937 - val_auc: 0.8724                                                                                                    \n",
      "epoch: 0083, loss: 0.1492 - val_loss: 0.4798; auc: 0.9940 - val_auc: 0.8737                                                                                                    \n",
      "epoch: 0084, loss: 0.1559 - val_loss: 0.4855; auc: 0.9946 - val_auc: 0.8739                                                                                                    \n",
      "epoch: 0085, loss: 0.1443 - val_loss: 0.4778; auc: 0.9941 - val_auc: 0.8757                                                                                                    \n",
      "epoch: 0086, loss: 0.1429 - val_loss: 0.5449; auc: 0.9951 - val_auc: 0.8714                                                                                                    \n",
      "epoch: 0087, loss: 0.1449 - val_loss: 0.4840; auc: 0.9949 - val_auc: 0.8733                                                                                                    \n",
      "epoch: 0088, loss: 0.1327 - val_loss: 0.4842; auc: 0.9950 - val_auc: 0.8740                                                                                                    \n",
      "epoch: 0089, loss: 0.1348 - val_loss: 0.5004; auc: 0.9957 - val_auc: 0.8717                                                                                                    \n",
      "epoch: 0090, loss: 0.1340 - val_loss: 0.4905; auc: 0.9954 - val_auc: 0.8731                                                                                                    \n",
      "epoch: 0091, loss: 0.1355 - val_loss: 0.5834; auc: 0.9957 - val_auc: 0.8729                                                                                                    \n",
      "epoch: 0092, loss: 0.1392 - val_loss: 0.5320; auc: 0.9955 - val_auc: 0.8732                                                                                                    \n",
      "epoch: 0093, loss: 0.1358 - val_loss: 0.4899; auc: 0.9958 - val_auc: 0.8734                                                                                                    \n",
      "epoch: 0094, loss: 0.1248 - val_loss: 0.4899; auc: 0.9963 - val_auc: 0.8737                                                                                                    \n",
      "epoch: 0095, loss: 0.1261 - val_loss: 0.4921; auc: 0.9961 - val_auc: 0.8749                                                                                                    \n",
      "epoch: 0096, loss: 0.1237 - val_loss: 0.5204; auc: 0.9966 - val_auc: 0.8724                                                                                                    \n",
      "epoch: 0097, loss: 0.1227 - val_loss: 0.5138; auc: 0.9967 - val_auc: 0.8728                                                                                                    \n",
      "epoch: 0098, loss: 0.1190 - val_loss: 0.5069; auc: 0.9970 - val_auc: 0.8717                                                                                                    \n",
      "epoch: 0099, loss: 0.1151 - val_loss: 0.5148; auc: 0.9970 - val_auc: 0.8731                                                                                                    \n",
      "epoch: 0100, loss: 0.1183 - val_loss: 0.5016; auc: 0.9971 - val_auc: 0.8731                                                                                                    \n",
      "epoch: 0101, loss: 0.1145 - val_loss: 0.5401; auc: 0.9971 - val_auc: 0.8719                                                                                                    \n",
      "epoch: 0102, loss: 0.1141 - val_loss: 0.5162; auc: 0.9971 - val_auc: 0.8725                                                                                                    \n",
      "epoch: 0103, loss: 0.1167 - val_loss: 0.5278; auc: 0.9973 - val_auc: 0.8702                                                                                                    \n",
      "epoch: 0104, loss: 0.1076 - val_loss: 0.5284; auc: 0.9970 - val_auc: 0.8719                                                                                                    \n",
      "epoch: 0105, loss: 0.1135 - val_loss: 0.5513; auc: 0.9972 - val_auc: 0.8712                                                                                                    \n",
      "epoch: 0106, loss: 0.1095 - val_loss: 0.5170; auc: 0.9972 - val_auc: 0.8707                                                                                                    \n",
      "epoch: 0107, loss: 0.1092 - val_loss: 0.5164; auc: 0.9976 - val_auc: 0.8721                                                                                                    \n",
      "epoch: 0108, loss: 0.1087 - val_loss: 0.5199; auc: 0.9971 - val_auc: 0.8729                                                                                                    \n",
      "epoch: 0109, loss: 0.1069 - val_loss: 0.5287; auc: 0.9976 - val_auc: 0.8693                                                                                                    \n",
      "epoch: 0110, loss: 0.1011 - val_loss: 0.5211; auc: 0.9978 - val_auc: 0.8716                                                                                                    \n",
      "epoch: 0111, loss: 0.0991 - val_loss: 0.5327; auc: 0.9980 - val_auc: 0.8712                                                                                                    \n",
      "epoch: 0112, loss: 0.0998 - val_loss: 0.5360; auc: 0.9980 - val_auc: 0.8712                                                                                                    \n",
      "epoch: 0113, loss: 0.1009 - val_loss: 0.5402; auc: 0.9980 - val_auc: 0.8725                                                                                                    \n",
      "epoch: 0114, loss: 0.0993 - val_loss: 0.5358; auc: 0.9982 - val_auc: 0.8705                                                                                                    \n",
      "epoch: 0115, loss: 0.0943 - val_loss: 0.5820; auc: 0.9981 - val_auc: 0.8719                                                                                                    \n",
      "epoch: 0116, loss: 0.0987 - val_loss: 0.5397; auc: 0.9982 - val_auc: 0.8706                                                                                                    \n",
      "epoch: 0117, loss: 0.0923 - val_loss: 0.5591; auc: 0.9982 - val_auc: 0.8712                                                                                                    \n",
      "epoch: 0118, loss: 0.1079 - val_loss: 0.5527; auc: 0.9979 - val_auc: 0.8733                                                                                                    \n",
      "epoch: 0119, loss: 0.0987 - val_loss: 0.5433; auc: 0.9982 - val_auc: 0.8715                                                                                                    \n",
      "epoch: 0120, loss: 0.0932 - val_loss: 0.5453; auc: 0.9981 - val_auc: 0.8717                                                                                                    \n",
      "epoch: 0121, loss: 0.0874 - val_loss: 0.5502; auc: 0.9985 - val_auc: 0.8717                                                                                                    \n",
      "epoch: 0122, loss: 0.0901 - val_loss: 0.5454; auc: 0.9984 - val_auc: 0.8719                                                                                                    \n",
      "epoch: 0123, loss: 0.0852 - val_loss: 0.5462; auc: 0.9985 - val_auc: 0.8731                                                                                                    \n",
      "epoch: 0124, loss: 0.0844 - val_loss: 0.5524; auc: 0.9986 - val_auc: 0.8710                                                                                                    \n",
      "epoch: 0125, loss: 0.0935 - val_loss: 0.5994; auc: 0.9986 - val_auc: 0.8701                                                                                                    \n",
      "epoch: 0126, loss: 0.0880 - val_loss: 0.5862; auc: 0.9987 - val_auc: 0.8719                                                                                                    \n",
      "epoch: 0127, loss: 0.0933 - val_loss: 0.6901; auc: 0.9984 - val_auc: 0.8725                                                                                                    \n",
      "epoch: 0128, loss: 0.1853 - val_loss: 0.6329; auc: 0.9976 - val_auc: 0.8717                                                                                                    \n",
      "epoch: 0129, loss: 0.1322 - val_loss: 0.6499; auc: 0.9973 - val_auc: 0.8716                                                                                                    \n",
      "epoch: 0130, loss: 0.0984 - val_loss: 0.5640; auc: 0.9983 - val_auc: 0.8715                                                                                                    \n",
      "epoch: 0131, loss: 0.0921 - val_loss: 0.5576; auc: 0.9985 - val_auc: 0.8730                                                                                                    \n",
      "epoch: 0132, loss: 0.0822 - val_loss: 0.5666; auc: 0.9986 - val_auc: 0.8734                                                                                                    \n",
      "epoch: 0133, loss: 0.0814 - val_loss: 0.5617; auc: 0.9986 - val_auc: 0.8722                                                                                                    \n",
      "epoch: 0134, loss: 0.0784 - val_loss: 0.5687; auc: 0.9988 - val_auc: 0.8723                                                                                                    \n",
      "epoch: 0135, loss: 0.0804 - val_loss: 0.5719; auc: 0.9988 - val_auc: 0.8708                                                                                                    \n",
      "\n",
      "Restoring model weights from the end of the best epoch.\n",
      "\n",
      "Epoch 00135: early stopping\n"
     ]
    },
    {
     "data": {
      "text/plain": [
       "MultiLabelEstimator(dense_layers=[128, 32], gpuid='3', monitor='val_auc')"
      ]
     },
     "execution_count": 7,
     "metadata": {},
     "output_type": "execute_result"
    }
   ],
   "source": [
    "clf = MultiLabelEstimator(n_outputs = 1,\n",
    "                          fmap_shape1 = trainX.shape[1:],\n",
    "                          batch_size = 128, \n",
    "                          lr = 1e-4, \n",
    "                          dense_layers = [128, 32],\n",
    "                          gpuid = \"3\",\n",
    "                          monitor = 'val_auc',)             \n",
    "\n",
    "clf.fit(trainX, trainY, validX, validY) "
   ]
  },
  {
   "cell_type": "code",
   "execution_count": 8,
   "metadata": {},
   "outputs": [],
   "source": [
    "pd.DataFrame(clf._performance.history).to_csv('./training_process.csv')"
   ]
  },
  {
   "cell_type": "code",
   "execution_count": 9,
   "metadata": {},
   "outputs": [
    {
     "data": {
      "text/plain": [
       "<matplotlib.axes._subplots.AxesSubplot at 0x7f46d170a208>"
      ]
     },
     "execution_count": 9,
     "metadata": {},
     "output_type": "execute_result"
    },
    {
     "data": {
      "image/png": "[encoded data removed]",
      "text/plain": [
       "<Figure size 432x288 with 1 Axes>"
      ]
     },
     "metadata": {
      "needs_background": "light"
     },
     "output_type": "display_data"
    }
   ],
   "source": [
    "dfp = pd.DataFrame(clf._performance.history)[['auc', 'val_auc']].iloc[:100]\n",
    "dfp.plot()"
   ]
  },
  {
   "cell_type": "code",
   "execution_count": 10,
   "metadata": {},
   "outputs": [
    {
     "data": {
      "text/plain": [
       "<matplotlib.axes._subplots.AxesSubplot at 0x7f44701a2780>"
      ]
     },
     "execution_count": 10,
     "metadata": {},
     "output_type": "execute_result"
    },
    {
     "data": {
      "image/png": "[encoded data removed]",
      "text/plain": [
       "<Figure size 432x288 with 1 Axes>"
      ]
     },
     "metadata": {
      "needs_background": "light"
     },
     "output_type": "display_data"
    }
   ],
   "source": [
    "dfp = pd.DataFrame(clf._performance.history)[['loss', 'val_loss']].iloc[:100]\n",
    "dfp.plot()"
   ]
  },
  {
   "cell_type": "code",
   "execution_count": 11,
   "metadata": {},
   "outputs": [
    {
     "data": {
      "text/plain": [
       "[0.9940880047427707]"
      ]
     },
     "execution_count": 11,
     "metadata": {},
     "output_type": "execute_result"
    }
   ],
   "source": [
    "clf._performance.evaluate(trainX, trainY) # RMSE, R^2"
   ]
  },
  {
   "cell_type": "code",
   "execution_count": 12,
   "metadata": {},
   "outputs": [
    {
     "data": {
      "text/plain": [
       "[0.8757458757458758]"
      ]
     },
     "execution_count": 12,
     "metadata": {},
     "output_type": "execute_result"
    }
   ],
   "source": [
    "clf._performance.evaluate(validX, validY) # RMSE, R^2"
   ]
  },
  {
   "cell_type": "code",
   "execution_count": 13,
   "metadata": {},
   "outputs": [
    {
     "data": {
      "text/plain": [
       "[0.8945098039215685]"
      ]
     },
     "execution_count": 13,
     "metadata": {},
     "output_type": "execute_result"
    }
   ],
   "source": [
    "clf._performance.evaluate(testX, testY) # RMSE, R^2"
   ]
  },
  {
   "cell_type": "code",
   "execution_count": 14,
   "metadata": {},
   "outputs": [],
   "source": [
    "model_name = 'BACE_MODEL_OPT.h5'"
   ]
  },
  {
   "cell_type": "code",
   "execution_count": 15,
   "metadata": {},
   "outputs": [],
   "source": [
    "clf._performance.model.save(model_name)"
   ]
  },
  {
   "cell_type": "code",
   "execution_count": null,
   "metadata": {},
   "outputs": [],
   "source": []
  },
  {
   "cell_type": "code",
   "execution_count": null,
   "metadata": {},
   "outputs": [],
   "source": []
  }
 ],
 "metadata": {
  "kernelspec": {
   "display_name": "Python 3",
   "language": "python",
   "name": "python3"
  },
  "language_info": {
   "codemirror_mode": {
    "name": "ipython",
    "version": 3
   },
   "file_extension": ".py",
   "mimetype": "text/x-python",
   "name": "python",
   "nbconvert_exporter": "python",
   "pygments_lexer": "ipython3",
   "version": "3.6.9"
  }
 },
 "nbformat": 4,
 "nbformat_minor": 4
}
