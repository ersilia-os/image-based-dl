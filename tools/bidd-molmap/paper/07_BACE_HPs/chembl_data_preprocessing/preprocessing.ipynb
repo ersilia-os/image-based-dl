{
 "cells": [
  {
   "cell_type": "code",
   "execution_count": 1,
   "metadata": {},
   "outputs": [],
   "source": [
    "import pandas as pd\n",
    "import numpy as np\n",
    "import seaborn as sns\n",
    "%matplotlib inline"
   ]
  },
  {
   "cell_type": "code",
   "execution_count": 2,
   "metadata": {},
   "outputs": [],
   "source": [
    "res = []\n",
    "for i in ['ic', 'ki', 'ec', 'kd']:\n",
    "\n",
    "    df = pd.read_csv('./%s.csv' % i,sep=';')\n",
    "    # drop the compounds that has no pChEMBL Value \n",
    "    df = df.iloc[df['pChEMBL Value'].dropna().index]\n",
    "    df = df[[\"Molecule ChEMBL ID\", 'Smiles', 'pChEMBL Value']]\n",
    "    df.columns = ['ID', 'smiles', 'pCheMBL', ]\n",
    "    df['Assay'] = i\n",
    "    res.append(df)"
   ]
  },
  {
   "cell_type": "code",
   "execution_count": 3,
   "metadata": {},
   "outputs": [],
   "source": [
    "df = pd.concat(res).reset_index(drop=True)\n",
    "df['Class'] = df.pCheMBL.apply(lambda x: 1 if x > 7 else 0) #inhibitor condition, pChembl > 7"
   ]
  },
  {
   "cell_type": "code",
   "execution_count": 4,
   "metadata": {},
   "outputs": [
    {
     "data": {
      "text/html": [
       "<div>\n",
       "<style scoped>\n",
       "    .dataframe tbody tr th:only-of-type {\n",
       "        vertical-align: middle;\n",
       "    }\n",
       "\n",
       "    .dataframe tbody tr th {\n",
       "        vertical-align: top;\n",
       "    }\n",
       "\n",
       "    .dataframe thead th {\n",
       "        text-align: right;\n",
       "    }\n",
       "</style>\n",
       "<table border=\"1\" class=\"dataframe\">\n",
       "  <thead>\n",
       "    <tr style=\"text-align: right;\">\n",
       "      <th></th>\n",
       "      <th>ID</th>\n",
       "      <th>smiles</th>\n",
       "      <th>pCheMBL</th>\n",
       "      <th>Assay</th>\n",
       "      <th>Class</th>\n",
       "    </tr>\n",
       "  </thead>\n",
       "  <tbody>\n",
       "    <tr>\n",
       "      <th>0</th>\n",
       "      <td>CHEMBL1923700</td>\n",
       "      <td>C[C@H](NC(=O)c1cc(-c2nc3ccccc3[nH]2)cc(N(C)S(C...</td>\n",
       "      <td>5.97</td>\n",
       "      <td>ic</td>\n",
       "      <td>0</td>\n",
       "    </tr>\n",
       "    <tr>\n",
       "      <th>1</th>\n",
       "      <td>CHEMBL2181911</td>\n",
       "      <td>CO[C@H](C)C(=O)N[C@@H](Cc1cccc(-c2nccs2)c1)[C@...</td>\n",
       "      <td>8.00</td>\n",
       "      <td>ic</td>\n",
       "      <td>1</td>\n",
       "    </tr>\n",
       "    <tr>\n",
       "      <th>2</th>\n",
       "      <td>CHEMBL2181907</td>\n",
       "      <td>C#Cc1ccc(F)c(C[C@H](NC(=O)COC)[C@H](O)CN[C@H]2...</td>\n",
       "      <td>7.96</td>\n",
       "      <td>ic</td>\n",
       "      <td>1</td>\n",
       "    </tr>\n",
       "    <tr>\n",
       "      <th>3</th>\n",
       "      <td>CHEMBL2181911</td>\n",
       "      <td>CO[C@H](C)C(=O)N[C@@H](Cc1cccc(-c2nccs2)c1)[C@...</td>\n",
       "      <td>8.26</td>\n",
       "      <td>ic</td>\n",
       "      <td>1</td>\n",
       "    </tr>\n",
       "    <tr>\n",
       "      <th>4</th>\n",
       "      <td>CHEMBL2181890</td>\n",
       "      <td>COCC(=O)N[C@@H](Cc1cccc(-c2ncco2)c1)[C@H](O)CN...</td>\n",
       "      <td>8.02</td>\n",
       "      <td>ic</td>\n",
       "      <td>1</td>\n",
       "    </tr>\n",
       "    <tr>\n",
       "      <th>...</th>\n",
       "      <td>...</td>\n",
       "      <td>...</td>\n",
       "      <td>...</td>\n",
       "      <td>...</td>\n",
       "      <td>...</td>\n",
       "    </tr>\n",
       "    <tr>\n",
       "      <th>9223</th>\n",
       "      <td>CHEMBL4128727</td>\n",
       "      <td>CCOc1cccc(-c2nc(SC(C(N)=O)c3nc(-c4ccc([N+](=O)...</td>\n",
       "      <td>5.91</td>\n",
       "      <td>kd</td>\n",
       "      <td>0</td>\n",
       "    </tr>\n",
       "    <tr>\n",
       "      <th>9224</th>\n",
       "      <td>CHEMBL4128447</td>\n",
       "      <td>COc1cccc(-c2nc(SCC(=O)Nc3nc(-c4cc(Cl)c(N)c(Cl)...</td>\n",
       "      <td>6.77</td>\n",
       "      <td>kd</td>\n",
       "      <td>0</td>\n",
       "    </tr>\n",
       "    <tr>\n",
       "      <th>9225</th>\n",
       "      <td>CHEMBL4127412</td>\n",
       "      <td>N#Cc1c(-c2cccc(C(F)(F)F)c2)nc(SCC(=O)Nc2nc(-c3...</td>\n",
       "      <td>5.88</td>\n",
       "      <td>kd</td>\n",
       "      <td>0</td>\n",
       "    </tr>\n",
       "    <tr>\n",
       "      <th>9226</th>\n",
       "      <td>CHEMBL4127550</td>\n",
       "      <td>N#Cc1c(-c2cccc(OC(F)(F)F)c2)nc(SC(C(N)=O)c2nc(...</td>\n",
       "      <td>5.73</td>\n",
       "      <td>kd</td>\n",
       "      <td>0</td>\n",
       "    </tr>\n",
       "    <tr>\n",
       "      <th>9227</th>\n",
       "      <td>CHEMBL4127986</td>\n",
       "      <td>COc1ccccc1-c1nc(SC(C(N)=O)c2nc(-c3cccc([N+](=O...</td>\n",
       "      <td>5.84</td>\n",
       "      <td>kd</td>\n",
       "      <td>0</td>\n",
       "    </tr>\n",
       "  </tbody>\n",
       "</table>\n",
       "<p>9228 rows × 5 columns</p>\n",
       "</div>"
      ],
      "text/plain": [
       "                 ID                                             smiles  \\\n",
       "0     CHEMBL1923700  C[C@H](NC(=O)c1cc(-c2nc3ccccc3[nH]2)cc(N(C)S(C...   \n",
       "1     CHEMBL2181911  CO[C@H](C)C(=O)N[C@@H](Cc1cccc(-c2nccs2)c1)[C@...   \n",
       "2     CHEMBL2181907  C#Cc1ccc(F)c(C[C@H](NC(=O)COC)[C@H](O)CN[C@H]2...   \n",
       "3     CHEMBL2181911  CO[C@H](C)C(=O)N[C@@H](Cc1cccc(-c2nccs2)c1)[C@...   \n",
       "4     CHEMBL2181890  COCC(=O)N[C@@H](Cc1cccc(-c2ncco2)c1)[C@H](O)CN...   \n",
       "...             ...                                                ...   \n",
       "9223  CHEMBL4128727  CCOc1cccc(-c2nc(SC(C(N)=O)c3nc(-c4ccc([N+](=O)...   \n",
       "9224  CHEMBL4128447  COc1cccc(-c2nc(SCC(=O)Nc3nc(-c4cc(Cl)c(N)c(Cl)...   \n",
       "9225  CHEMBL4127412  N#Cc1c(-c2cccc(C(F)(F)F)c2)nc(SCC(=O)Nc2nc(-c3...   \n",
       "9226  CHEMBL4127550  N#Cc1c(-c2cccc(OC(F)(F)F)c2)nc(SC(C(N)=O)c2nc(...   \n",
       "9227  CHEMBL4127986  COc1ccccc1-c1nc(SC(C(N)=O)c2nc(-c3cccc([N+](=O...   \n",
       "\n",
       "      pCheMBL Assay  Class  \n",
       "0        5.97    ic      0  \n",
       "1        8.00    ic      1  \n",
       "2        7.96    ic      1  \n",
       "3        8.26    ic      1  \n",
       "4        8.02    ic      1  \n",
       "...       ...   ...    ...  \n",
       "9223     5.91    kd      0  \n",
       "9224     6.77    kd      0  \n",
       "9225     5.88    kd      0  \n",
       "9226     5.73    kd      0  \n",
       "9227     5.84    kd      0  \n",
       "\n",
       "[9228 rows x 5 columns]"
      ]
     },
     "execution_count": 4,
     "metadata": {},
     "output_type": "execute_result"
    }
   ],
   "source": [
    "df"
   ]
  },
  {
   "cell_type": "code",
   "execution_count": 5,
   "metadata": {},
   "outputs": [
    {
     "data": {
      "text/plain": [
       "<matplotlib.axes._subplots.AxesSubplot at 0x7fb6b404be80>"
      ]
     },
     "execution_count": 5,
     "metadata": {},
     "output_type": "execute_result"
    },
    {
     "data": {
      "image/png": "[encoded data removed]",
      "text/plain": [
       "<Figure size 432x288 with 1 Axes>"
      ]
     },
     "metadata": {
      "needs_background": "light"
     },
     "output_type": "display_data"
    }
   ],
   "source": [
    "hue_order = ['ic', 'ki', 'kd', 'ec']\n",
    "sns.boxplot(x = 'Assay',y = 'pCheMBL',data = df, hue = 'Assay', hue_order = hue_order)"
   ]
  },
  {
   "cell_type": "code",
   "execution_count": 6,
   "metadata": {},
   "outputs": [
    {
     "data": {
      "text/plain": [
       "<matplotlib.axes._subplots.AxesSubplot at 0x7fb6b3cbd7f0>"
      ]
     },
     "execution_count": 6,
     "metadata": {},
     "output_type": "execute_result"
    },
    {
     "data": {
      "image/png": "[encoded data removed]",
      "text/plain": [
       "<Figure size 432x288 with 1 Axes>"
      ]
     },
     "metadata": {
      "needs_background": "light"
     },
     "output_type": "display_data"
    }
   ],
   "source": [
    "hue_order = ['ic', 'ki', 'ec', 'kd']\n",
    "sns.stripplot(x = 'Assay',y = 'pCheMBL',data = df, hue = 'Assay', hue_order = hue_order)"
   ]
  },
  {
   "cell_type": "code",
   "execution_count": 7,
   "metadata": {},
   "outputs": [
    {
     "data": {
      "text/plain": [
       "Class\n",
       "0    5352\n",
       "1    3876\n",
       "dtype: int64"
      ]
     },
     "execution_count": 7,
     "metadata": {},
     "output_type": "execute_result"
    }
   ],
   "source": [
    "df.groupby('Class').size()"
   ]
  },
  {
   "cell_type": "markdown",
   "metadata": {},
   "source": [
    "## remove duplicates"
   ]
  },
  {
   "cell_type": "code",
   "execution_count": 8,
   "metadata": {},
   "outputs": [],
   "source": [
    "from rdkit import Chem"
   ]
  },
  {
   "cell_type": "code",
   "execution_count": 9,
   "metadata": {},
   "outputs": [],
   "source": [
    "toCanonical = lambda x:Chem.MolToSmiles(Chem.MolFromSmiles(x), canonical=True)"
   ]
  },
  {
   "cell_type": "code",
   "execution_count": 10,
   "metadata": {},
   "outputs": [],
   "source": [
    "df.smiles = df.smiles.apply(toCanonical)"
   ]
  },
  {
   "cell_type": "code",
   "execution_count": 11,
   "metadata": {},
   "outputs": [],
   "source": [
    "df_nodup = df.drop_duplicates('smiles')"
   ]
  },
  {
   "cell_type": "code",
   "execution_count": 12,
   "metadata": {},
   "outputs": [
    {
     "data": {
      "text/plain": [
       "((9228, 5), (6149, 5))"
      ]
     },
     "execution_count": 12,
     "metadata": {},
     "output_type": "execute_result"
    }
   ],
   "source": [
    "df.shape, df_nodup.shape"
   ]
  },
  {
   "cell_type": "code",
   "execution_count": 13,
   "metadata": {},
   "outputs": [],
   "source": [
    "dfo = pd.read_csv('../data/bace.csv')"
   ]
  },
  {
   "cell_type": "code",
   "execution_count": 14,
   "metadata": {},
   "outputs": [],
   "source": [
    "dfo.smiles = dfo.smiles.apply(toCanonical)"
   ]
  },
  {
   "cell_type": "markdown",
   "metadata": {},
   "source": [
    "## remove the same data with the molnet bace dataset"
   ]
  },
  {
   "cell_type": "code",
   "execution_count": 15,
   "metadata": {},
   "outputs": [],
   "source": [
    "df_nodup_exclude_bace = df_nodup[~df_nodup.smiles.isin(dfo.smiles)]\n",
    "dfn = df_nodup_exclude_bace.reset_index(drop=True)"
   ]
  },
  {
   "cell_type": "code",
   "execution_count": 16,
   "metadata": {},
   "outputs": [],
   "source": [
    "dfn.set_index('ID').to_csv('../data/bace_chembl.csv')"
   ]
  },
  {
   "cell_type": "code",
   "execution_count": 17,
   "metadata": {},
   "outputs": [
    {
     "data": {
      "text/plain": [
       "Assay  Class\n",
       "ec     0           1\n",
       "ic     0        3024\n",
       "       1        1988\n",
       "kd     0          12\n",
       "       1           2\n",
       "ki     0         390\n",
       "       1         303\n",
       "dtype: int64"
      ]
     },
     "execution_count": 17,
     "metadata": {},
     "output_type": "execute_result"
    }
   ],
   "source": [
    "dfn.groupby(['Assay', 'Class']).size()"
   ]
  },
  {
   "cell_type": "code",
   "execution_count": 18,
   "metadata": {},
   "outputs": [
    {
     "data": {
      "text/plain": [
       "5720"
      ]
     },
     "execution_count": 18,
     "metadata": {},
     "output_type": "execute_result"
    }
   ],
   "source": [
    "len(dfn)"
   ]
  },
  {
   "cell_type": "code",
   "execution_count": 4,
   "metadata": {},
   "outputs": [],
   "source": [
    "import pandas as pd\n",
    "a = pd.read_csv('../data/bace_chembl.csv')"
   ]
  },
  {
   "cell_type": "code",
   "execution_count": 5,
   "metadata": {},
   "outputs": [
    {
     "data": {
      "text/plain": [
       "0    3427\n",
       "1    2293\n",
       "Name: Class, dtype: int64"
      ]
     },
     "execution_count": 5,
     "metadata": {},
     "output_type": "execute_result"
    }
   ],
   "source": [
    "a.Class.value_counts()"
   ]
  },
  {
   "cell_type": "code",
   "execution_count": null,
   "metadata": {},
   "outputs": [],
   "source": []
  }
 ],
 "metadata": {
  "kernelspec": {
   "display_name": "Python 3",
   "language": "python",
   "name": "python3"
  },
  "language_info": {
   "codemirror_mode": {
    "name": "ipython",
    "version": 3
   },
   "file_extension": ".py",
   "mimetype": "text/x-python",
   "name": "python",
   "nbconvert_exporter": "python",
   "pygments_lexer": "ipython3",
   "version": "3.6.10"
  }
 },
 "nbformat": 4,
 "nbformat_minor": 4
}
