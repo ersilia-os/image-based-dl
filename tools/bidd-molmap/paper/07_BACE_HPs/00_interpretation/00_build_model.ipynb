{
 "cells": [
  {
   "cell_type": "code",
   "execution_count": 1,
   "metadata": {},
   "outputs": [],
   "source": [
    "import pandas as pd\n",
    "import numpy as np\n",
    "from tqdm import tqdm\n",
    "from joblib import load, dump\n",
    "import matplotlib.pyplot as plt\n",
    "\n",
    "\n",
    "from molmap import loadmap\n",
    "from molmap.model import RegressionEstimator, MultiClassEstimator, MultiLabelEstimator\n",
    "from molmap import loadmap, dataset\n",
    "from molmap.show import imshow_wrap\n",
    "import molmap\n",
    "import os\n",
    "\n"
   ]
  },
  {
   "cell_type": "markdown",
   "metadata": {},
   "source": [
    "## build model by optimized feature parameters only, other parameters remain default"
   ]
  },
  {
   "cell_type": "code",
   "execution_count": 2,
   "metadata": {},
   "outputs": [
    {
     "name": "stdout",
     "output_type": "stream",
     "text": [
      "total samples: 1513\n"
     ]
    }
   ],
   "source": [
    "## fix random seed to get repeatale results\n",
    "seed = 123\n",
    "tqdm.pandas(ascii=True)\n",
    "np.random.seed(seed)\n",
    "\n",
    "from chembench import dataset, load_data\n",
    "#load dataset\n",
    "data = dataset.load_BACE()\n",
    "df = data.df\n",
    "Y = data.y\n",
    "task_name = data.task_name\n"
   ]
  },
  {
   "cell_type": "code",
   "execution_count": 3,
   "metadata": {},
   "outputs": [
    {
     "data": {
      "text/plain": [
       "(1210, 151, 152)"
      ]
     },
     "execution_count": 3,
     "metadata": {},
     "output_type": "execute_result"
    }
   ],
   "source": [
    "train_df = pd.read_csv('../data/train.csv')\n",
    "valid_df = pd.read_csv('../data/val.csv')\n",
    "test_df = pd.read_csv('../data/test.csv')\n",
    "\n",
    "\n",
    "train_idx = df[df.smiles.isin(train_df.smiles)].index\n",
    "valid_idx = df[df.smiles.isin(valid_df.smiles)].index\n",
    "test_idx = df[df.smiles.isin(test_df.smiles)].index\n",
    "\n",
    "len(train_idx), len(valid_idx), len(test_idx)"
   ]
  },
  {
   "cell_type": "code",
   "execution_count": null,
   "metadata": {},
   "outputs": [],
   "source": []
  },
  {
   "cell_type": "markdown",
   "metadata": {},
   "source": [
    "## load optimized molmaps"
   ]
  },
  {
   "cell_type": "code",
   "execution_count": 4,
   "metadata": {},
   "outputs": [
    {
     "name": "stdout",
     "output_type": "stream",
     "text": [
      "loading dataset: BACE number of split times: 3\n",
      "UMAP(metric='precomputed', min_dist=0.75, random_state=1, verbose=2)\n",
      "Construct fuzzy simplicial set\n",
      "Mon Sep 21 16:02:49 2020 Finding Nearest Neighbors\n",
      "Mon Sep 21 16:02:49 2020 Finished Nearest Neighbor Search\n",
      "Mon Sep 21 16:02:51 2020 Construct embedding\n",
      "\tcompleted  0  /  500 epochs\n",
      "\tcompleted  50  /  500 epochs\n",
      "\tcompleted  100  /  500 epochs\n",
      "\tcompleted  150  /  500 epochs\n",
      "\tcompleted  200  /  500 epochs\n",
      "\tcompleted  250  /  500 epochs\n",
      "\tcompleted  300  /  500 epochs\n",
      "\tcompleted  350  /  500 epochs\n",
      "\tcompleted  400  /  500 epochs\n",
      "\tcompleted  450  /  500 epochs\n",
      "Mon Sep 21 16:02:57 2020 Finished embedding\n",
      "2020-09-21 16:02:57,066 - \u001b[32mINFO\u001b[0m - [bidd-molmap]\u001b[0m - Applying grid feature map(assignment), this may take several minutes(1~30 min)\u001b[0m\n",
      "2020-09-21 16:02:59,939 - \u001b[32mINFO\u001b[0m - [bidd-molmap]\u001b[0m - Finished\u001b[0m\n"
     ]
    }
   ],
   "source": [
    "### optimized hyper-parameters\n",
    "n_neighbors = 15\n",
    "min_dist = 0.75\n",
    "\n",
    "task_name = data.task_name\n",
    "_, induces = load_data(task_name)\n",
    "\n",
    "\n",
    "mp2 = molmap.loadmap('../../fingerprint.mp')\n",
    "mp2.fit(method = 'umap', min_dist = min_dist, n_neighbors = n_neighbors)"
   ]
  },
  {
   "cell_type": "code",
   "execution_count": null,
   "metadata": {},
   "outputs": [],
   "source": [
    "mp2.save('../optimized_fingerprint.mp')"
   ]
  },
  {
   "cell_type": "code",
   "execution_count": 6,
   "metadata": {},
   "outputs": [
    {
     "name": "stdout",
     "output_type": "stream",
     "text": [
      "2020-09-21 13:46:43,021 - \u001b[32mINFO\u001b[0m - [bidd-molmap]\u001b[0m - generate file: ./fingerprint_1303_cosine_umap_molmap\u001b[0m\n",
      "2020-09-21 13:46:43,073 - \u001b[32mINFO\u001b[0m - [bidd-molmap]\u001b[0m - save html file to ./fingerprint_1303_cosine_umap_molmap\u001b[0m\n",
      "2020-09-21 13:46:43,074 - \u001b[32mINFO\u001b[0m - [bidd-molmap]\u001b[0m - generate file: ./fingerprint_1303_cosine_umap_scatter\u001b[0m\n",
      "2020-09-21 13:46:43,113 - \u001b[32mINFO\u001b[0m - [bidd-molmap]\u001b[0m - save html file to ./fingerprint_1303_cosine_umap_scatter\u001b[0m\n"
     ]
    }
   ],
   "source": [
    "_ = mp2.plot_grid()\n",
    "_ = mp2.plot_scatter()"
   ]
  },
  {
   "cell_type": "code",
   "execution_count": 7,
   "metadata": {},
   "outputs": [
    {
     "name": "stderr",
     "output_type": "stream",
     "text": [
      "100%|##########| 1513/1513 [00:50<00:00, 29.71it/s]\n"
     ]
    }
   ],
   "source": [
    "X2 = mp2.batch_transform(df.smiles, n_jobs = 8)"
   ]
  },
  {
   "cell_type": "code",
   "execution_count": 8,
   "metadata": {},
   "outputs": [],
   "source": [
    "trainX = X2[train_idx]\n",
    "trainY = Y[train_idx]\n",
    "\n",
    "validX = X2[valid_idx]\n",
    "validY = Y[valid_idx]\n",
    "\n",
    "testX = X2[test_idx]\n",
    "testY = Y[test_idx]"
   ]
  },
  {
   "cell_type": "code",
   "execution_count": 9,
   "metadata": {},
   "outputs": [
    {
     "name": "stdout",
     "output_type": "stream",
     "text": [
      "MultiLabelEstimator(dense_layers=[128, 32], gpuid='3', lr=0.001,\n",
      "                    monitor='val_auc')\n",
      "epoch: 0001, loss: 0.7023 - val_loss: 0.6928; auc: 0.7821 - val_auc: 0.7349                                                                                                    \n",
      "epoch: 0002, loss: 0.6835 - val_loss: 0.6847; auc: 0.7910 - val_auc: 0.7435                                                                                                    \n",
      "epoch: 0003, loss: 0.6599 - val_loss: 0.6575; auc: 0.7918 - val_auc: 0.7658                                                                                                    \n",
      "epoch: 0004, loss: 0.6228 - val_loss: 0.6054; auc: 0.8321 - val_auc: 0.7834                                                                                                    \n",
      "epoch: 0005, loss: 0.5528 - val_loss: 0.6477; auc: 0.8592 - val_auc: 0.7998                                                                                                    \n",
      "epoch: 0006, loss: 0.5091 - val_loss: 0.5734; auc: 0.8763 - val_auc: 0.8202                                                                                                    \n",
      "epoch: 0007, loss: 0.4566 - val_loss: 0.5788; auc: 0.8940 - val_auc: 0.8349                                                                                                    \n",
      "epoch: 0008, loss: 0.4309 - val_loss: 0.7223; auc: 0.9096 - val_auc: 0.8380                                                                                                    \n",
      "epoch: 0009, loss: 0.4004 - val_loss: 0.5052; auc: 0.9216 - val_auc: 0.8487                                                                                                    \n",
      "epoch: 0010, loss: 0.3631 - val_loss: 0.4819; auc: 0.9333 - val_auc: 0.8587                                                                                                    \n",
      "epoch: 0011, loss: 0.3700 - val_loss: 0.4718; auc: 0.9412 - val_auc: 0.8600                                                                                                    \n",
      "epoch: 0012, loss: 0.3355 - val_loss: 0.4752; auc: 0.9464 - val_auc: 0.8658                                                                                                    \n",
      "epoch: 0013, loss: 0.3192 - val_loss: 0.4626; auc: 0.9529 - val_auc: 0.8680                                                                                                    \n",
      "epoch: 0014, loss: 0.3454 - val_loss: 0.4616; auc: 0.9558 - val_auc: 0.8681                                                                                                    \n",
      "epoch: 0015, loss: 0.3299 - val_loss: 0.5264; auc: 0.9597 - val_auc: 0.8698                                                                                                    \n",
      "epoch: 0016, loss: 0.2896 - val_loss: 0.5877; auc: 0.9644 - val_auc: 0.8697                                                                                                    \n",
      "epoch: 0017, loss: 0.2784 - val_loss: 0.4762; auc: 0.9675 - val_auc: 0.8656                                                                                                    \n",
      "epoch: 0018, loss: 0.2503 - val_loss: 0.4771; auc: 0.9740 - val_auc: 0.8710                                                                                                    \n",
      "epoch: 0019, loss: 0.2757 - val_loss: 0.4645; auc: 0.9728 - val_auc: 0.8707                                                                                                    \n",
      "epoch: 0020, loss: 0.2289 - val_loss: 0.5016; auc: 0.9787 - val_auc: 0.8721                                                                                                    \n",
      "epoch: 0021, loss: 0.2558 - val_loss: 0.4950; auc: 0.9788 - val_auc: 0.8697                                                                                                    \n",
      "epoch: 0022, loss: 0.2630 - val_loss: 0.4625; auc: 0.9817 - val_auc: 0.8698                                                                                                    \n",
      "epoch: 0023, loss: 0.2084 - val_loss: 0.4693; auc: 0.9832 - val_auc: 0.8738                                                                                                    \n",
      "epoch: 0024, loss: 0.2090 - val_loss: 0.5127; auc: 0.9846 - val_auc: 0.8625                                                                                                    \n",
      "epoch: 0025, loss: 0.1981 - val_loss: 0.4972; auc: 0.9836 - val_auc: 0.8700                                                                                                    \n",
      "epoch: 0026, loss: 0.2132 - val_loss: 0.5038; auc: 0.9891 - val_auc: 0.8662                                                                                                    \n",
      "epoch: 0027, loss: 0.2042 - val_loss: 0.5889; auc: 0.9882 - val_auc: 0.8661                                                                                                    \n",
      "epoch: 0028, loss: 0.2054 - val_loss: 0.4864; auc: 0.9885 - val_auc: 0.8779                                                                                                    \n",
      "epoch: 0029, loss: 0.1738 - val_loss: 0.4905; auc: 0.9892 - val_auc: 0.8730                                                                                                    \n",
      "epoch: 0030, loss: 0.1740 - val_loss: 0.5355; auc: 0.9921 - val_auc: 0.8668                                                                                                    \n",
      "epoch: 0031, loss: 0.1510 - val_loss: 0.5747; auc: 0.9912 - val_auc: 0.8707                                                                                                    \n",
      "epoch: 0032, loss: 0.1606 - val_loss: 0.5886; auc: 0.9943 - val_auc: 0.8551                                                                                                    \n",
      "epoch: 0033, loss: 0.1582 - val_loss: 0.5478; auc: 0.9923 - val_auc: 0.8763                                                                                                    \n",
      "epoch: 0034, loss: 0.1356 - val_loss: 0.5923; auc: 0.9927 - val_auc: 0.8730                                                                                                    \n",
      "epoch: 0035, loss: 0.1449 - val_loss: 0.5889; auc: 0.9917 - val_auc: 0.8612                                                                                                    \n",
      "epoch: 0036, loss: 0.1253 - val_loss: 0.5786; auc: 0.9954 - val_auc: 0.8649                                                                                                    \n",
      "epoch: 0037, loss: 0.1205 - val_loss: 0.5841; auc: 0.9953 - val_auc: 0.8630                                                                                                    \n",
      "epoch: 0038, loss: 0.1251 - val_loss: 0.5816; auc: 0.9965 - val_auc: 0.8735                                                                                                    \n",
      "epoch: 0039, loss: 0.1116 - val_loss: 0.6656; auc: 0.9963 - val_auc: 0.8605                                                                                                    \n",
      "epoch: 0040, loss: 0.1825 - val_loss: 0.5815; auc: 0.9942 - val_auc: 0.8633                                                                                                    \n",
      "epoch: 0041, loss: 0.1577 - val_loss: 0.6103; auc: 0.9920 - val_auc: 0.8486                                                                                                    \n",
      "epoch: 0042, loss: 0.1389 - val_loss: 0.5662; auc: 0.9958 - val_auc: 0.8712                                                                                                    \n",
      "epoch: 0043, loss: 0.1103 - val_loss: 0.6910; auc: 0.9977 - val_auc: 0.8553                                                                                                    \n",
      "epoch: 0044, loss: 0.1249 - val_loss: 0.6759; auc: 0.9957 - val_auc: 0.8582                                                                                                    \n",
      "epoch: 0045, loss: 0.1300 - val_loss: 0.6507; auc: 0.9928 - val_auc: 0.8461                                                                                                    \n",
      "epoch: 0046, loss: 0.1208 - val_loss: 0.5869; auc: 0.9956 - val_auc: 0.8693                                                                                                    \n",
      "epoch: 0047, loss: 0.1050 - val_loss: 0.6793; auc: 0.9973 - val_auc: 0.8462                                                                                                    \n",
      "epoch: 0048, loss: 0.1127 - val_loss: 0.6692; auc: 0.9975 - val_auc: 0.8627                                                                                                    \n",
      "epoch: 0049, loss: 0.1007 - val_loss: 0.6958; auc: 0.9973 - val_auc: 0.8621                                                                                                    \n",
      "epoch: 0050, loss: 0.1225 - val_loss: 0.6931; auc: 0.9957 - val_auc: 0.8607                                                                                                    \n",
      "epoch: 0051, loss: 0.1053 - val_loss: 0.6385; auc: 0.9979 - val_auc: 0.8661                                                                                                    \n",
      "epoch: 0052, loss: 0.0872 - val_loss: 0.6972; auc: 0.9980 - val_auc: 0.8678                                                                                                    \n",
      "epoch: 0053, loss: 0.1025 - val_loss: 0.7080; auc: 0.9978 - val_auc: 0.8557                                                                                                    \n",
      "epoch: 0054, loss: 0.0926 - val_loss: 0.6783; auc: 0.9974 - val_auc: 0.8711                                                                                                    \n",
      "epoch: 0055, loss: 0.0916 - val_loss: 0.8102; auc: 0.9977 - val_auc: 0.8144                                                                                                    \n",
      "epoch: 0056, loss: 0.0877 - val_loss: 0.7632; auc: 0.9990 - val_auc: 0.8517                                                                                                    \n",
      "epoch: 0057, loss: 0.0739 - val_loss: 0.7360; auc: 0.9987 - val_auc: 0.8663                                                                                                    \n",
      "epoch: 0058, loss: 0.0776 - val_loss: 0.7534; auc: 0.9983 - val_auc: 0.8607                                                                                                    \n",
      "epoch: 0059, loss: 0.0805 - val_loss: 0.7796; auc: 0.9984 - val_auc: 0.8635                                                                                                    \n",
      "epoch: 0060, loss: 0.0802 - val_loss: 0.7350; auc: 0.9988 - val_auc: 0.8520                                                                                                    \n",
      "epoch: 0061, loss: 0.0680 - val_loss: 0.7377; auc: 0.9979 - val_auc: 0.8651                                                                                                    \n",
      "epoch: 0062, loss: 0.0867 - val_loss: 0.8632; auc: 0.9989 - val_auc: 0.8600                                                                                                    \n",
      "epoch: 0063, loss: 0.0867 - val_loss: 0.7079; auc: 0.9981 - val_auc: 0.8487                                                                                                    \n",
      "epoch: 0064, loss: 0.0708 - val_loss: 0.7172; auc: 0.9986 - val_auc: 0.8678                                                                                                    \n",
      "epoch: 0065, loss: 0.0665 - val_loss: 0.7589; auc: 0.9986 - val_auc: 0.8663                                                                                                    \n",
      "epoch: 0066, loss: 0.0801 - val_loss: 0.9217; auc: 0.9983 - val_auc: 0.8523                                                                                                    \n",
      "epoch: 0067, loss: 0.0759 - val_loss: 0.7590; auc: 0.9980 - val_auc: 0.8611                                                                                                    \n",
      "epoch: 0068, loss: 0.0724 - val_loss: 0.8073; auc: 0.9990 - val_auc: 0.8500                                                                                                    \n",
      "epoch: 0069, loss: 0.0569 - val_loss: 0.7834; auc: 0.9990 - val_auc: 0.8532                                                                                                    \n",
      "epoch: 0070, loss: 0.0677 - val_loss: 0.7856; auc: 0.9991 - val_auc: 0.8601                                                                                                    \n",
      "epoch: 0071, loss: 0.0556 - val_loss: 0.7866; auc: 0.9989 - val_auc: 0.8690                                                                                                    \n",
      "epoch: 0072, loss: 0.0523 - val_loss: 0.7929; auc: 0.9989 - val_auc: 0.8661                                                                                                    \n",
      "epoch: 0073, loss: 0.0508 - val_loss: 0.8754; auc: 0.9988 - val_auc: 0.8490                                                                                                    \n",
      "epoch: 0074, loss: 0.0662 - val_loss: 0.8988; auc: 0.9989 - val_auc: 0.8653                                                                                                    \n",
      "epoch: 0075, loss: 0.1169 - val_loss: 0.9097; auc: 0.9973 - val_auc: 0.8626                                                                                                    \n",
      "epoch: 0076, loss: 0.1482 - val_loss: 0.6201; auc: 0.9971 - val_auc: 0.8697                                                                                                    \n",
      "epoch: 0077, loss: 0.0831 - val_loss: 0.6780; auc: 0.9987 - val_auc: 0.8757                                                                                                    \n",
      "epoch: 0078, loss: 0.0678 - val_loss: 0.6933; auc: 0.9988 - val_auc: 0.8622                                                                                                    \n",
      "\n",
      "Restoring model weights from the end of the best epoch.\n",
      "\n",
      "Epoch 00078: early stopping\n"
     ]
    },
    {
     "data": {
      "text/plain": [
       "MultiLabelEstimator(dense_layers=[128, 32], gpuid='3', lr=0.001,\n",
       "                    monitor='val_auc')"
      ]
     },
     "execution_count": 9,
     "metadata": {},
     "output_type": "execute_result"
    }
   ],
   "source": [
    "### optimized hyper-parameters\n",
    "\n",
    "clf = MultiLabelEstimator(n_outputs = 1,\n",
    "                          fmap_shape1 = trainX.shape[1:],\n",
    "                          batch_size = 128, \n",
    "                          lr = 1e-3, \n",
    "                          dense_layers = [128, 32],\n",
    "                          gpuid = \"3\", \n",
    "                          monitor = 'val_auc',\n",
    "                          )             \n",
    "\n",
    "clf.fit(trainX, trainY, validX, validY) "
   ]
  },
  {
   "cell_type": "code",
   "execution_count": 10,
   "metadata": {},
   "outputs": [],
   "source": [
    "pd.DataFrame(clf._performance.history).to_csv('./training.csv')"
   ]
  },
  {
   "cell_type": "code",
   "execution_count": 11,
   "metadata": {},
   "outputs": [
    {
     "data": {
      "text/plain": [
       "<matplotlib.axes._subplots.AxesSubplot at 0x7f4df18e30b8>"
      ]
     },
     "execution_count": 11,
     "metadata": {},
     "output_type": "execute_result"
    },
    {
     "data": {
      "image/png": "[encoded data removed]",
      "text/plain": [
       "<Figure size 432x288 with 1 Axes>"
      ]
     },
     "metadata": {
      "needs_background": "light"
     },
     "output_type": "display_data"
    }
   ],
   "source": [
    "dfp = pd.DataFrame(clf._performance.history)[['auc', 'val_auc']].iloc[:100]\n",
    "dfp.plot()"
   ]
  },
  {
   "cell_type": "code",
   "execution_count": 12,
   "metadata": {},
   "outputs": [
    {
     "data": {
      "text/plain": [
       "<matplotlib.axes._subplots.AxesSubplot at 0x7f4ba0148d30>"
      ]
     },
     "execution_count": 12,
     "metadata": {},
     "output_type": "execute_result"
    },
    {
     "data": {
      "image/png": "[encoded data removed]",
      "text/plain": [
       "<Figure size 432x288 with 1 Axes>"
      ]
     },
     "metadata": {
      "needs_background": "light"
     },
     "output_type": "display_data"
    }
   ],
   "source": [
    "dfp = pd.DataFrame(clf._performance.history)[['loss', 'val_loss']].iloc[:100]\n",
    "dfp.plot()"
   ]
  },
  {
   "cell_type": "code",
   "execution_count": null,
   "metadata": {},
   "outputs": [],
   "source": []
  },
  {
   "cell_type": "code",
   "execution_count": null,
   "metadata": {},
   "outputs": [],
   "source": []
  },
  {
   "cell_type": "code",
   "execution_count": 13,
   "metadata": {},
   "outputs": [
    {
     "data": {
      "text/plain": [
       "[0.9885136025294777]"
      ]
     },
     "execution_count": 13,
     "metadata": {},
     "output_type": "execute_result"
    }
   ],
   "source": [
    "clf._performance.evaluate(trainX, trainY) # RMSE, R^2"
   ]
  },
  {
   "cell_type": "code",
   "execution_count": 14,
   "metadata": {},
   "outputs": [
    {
     "data": {
      "text/plain": [
       "[0.8778518778518778]"
      ]
     },
     "execution_count": 14,
     "metadata": {},
     "output_type": "execute_result"
    }
   ],
   "source": [
    "clf._performance.evaluate(validX, validY) # RMSE, R^2"
   ]
  },
  {
   "cell_type": "code",
   "execution_count": 15,
   "metadata": {},
   "outputs": [
    {
     "data": {
      "text/plain": [
       "[0.8954901960784314]"
      ]
     },
     "execution_count": 15,
     "metadata": {},
     "output_type": "execute_result"
    }
   ],
   "source": [
    "clf._performance.evaluate(testX, testY) # RMSE, R^2"
   ]
  },
  {
   "cell_type": "code",
   "execution_count": 16,
   "metadata": {},
   "outputs": [],
   "source": [
    "clf._performance.model.save('./model.h5')"
   ]
  },
  {
   "cell_type": "code",
   "execution_count": null,
   "metadata": {},
   "outputs": [],
   "source": []
  },
  {
   "cell_type": "code",
   "execution_count": null,
   "metadata": {},
   "outputs": [],
   "source": []
  },
  {
   "cell_type": "code",
   "execution_count": null,
   "metadata": {},
   "outputs": [],
   "source": []
  },
  {
   "cell_type": "code",
   "execution_count": null,
   "metadata": {},
   "outputs": [],
   "source": []
  }
 ],
 "metadata": {
  "kernelspec": {
   "display_name": "Python 3",
   "language": "python",
   "name": "python3"
  },
  "language_info": {
   "codemirror_mode": {
    "name": "ipython",
    "version": 3
   },
   "file_extension": ".py",
   "mimetype": "text/x-python",
   "name": "python",
   "nbconvert_exporter": "python",
   "pygments_lexer": "ipython3",
   "version": "3.6.9"
  }
 },
 "nbformat": 4,
 "nbformat_minor": 4
}
