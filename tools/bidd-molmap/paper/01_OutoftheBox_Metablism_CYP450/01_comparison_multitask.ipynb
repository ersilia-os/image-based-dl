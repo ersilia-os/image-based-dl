{
 "cells": [
  {
   "cell_type": "code",
   "execution_count": 17,
   "metadata": {},
   "outputs": [],
   "source": [
    "from molmap import model as molmodel\n",
    "import molmap\n",
    "\n",
    "import matplotlib.pyplot as plt\n",
    "\n",
    "import pandas as pd\n",
    "from tqdm import tqdm\n",
    "from joblib import load, dump\n",
    "tqdm.pandas(ascii=True)\n",
    "import numpy as np\n",
    "\n",
    "import tensorflow as tf\n",
    "import os\n",
    "os.environ[\"CUDA_VISIBLE_DEVICES\"]=\"0\"\n",
    "np.random.seed(123)\n",
    "tf.compat.v1.set_random_seed(123)\n"
   ]
  },
  {
   "cell_type": "code",
   "execution_count": 18,
   "metadata": {},
   "outputs": [],
   "source": [
    "tmp_feature_dir = './tmpignore'\n",
    "if not os.path.exists(tmp_feature_dir):\n",
    "    os.makedirs(tmp_feature_dir)"
   ]
  },
  {
   "cell_type": "code",
   "execution_count": 19,
   "metadata": {},
   "outputs": [
    {
     "name": "stdout",
     "output_type": "stream",
     "text": [
      "total samples: 16896\n"
     ]
    }
   ],
   "source": [
    "#load dataset\n",
    "from molmap import dataset\n",
    "data = dataset.load_CYP450()\n",
    "df = data.data\n",
    "X_smiles = df.smiles.tolist()\n",
    "task_name = 'CYP450'\n"
   ]
  },
  {
   "cell_type": "code",
   "execution_count": 20,
   "metadata": {},
   "outputs": [],
   "source": [
    "MASK = -1\n",
    "tasks = ['label_1a2', 'label_2c19', 'label_2c9', 'label_2d6', 'label_3a4']\n",
    "Y = df[tasks].astype('float').fillna(MASK).values\n",
    "if Y.shape[1] == 0:\n",
    "    Y = Y.reshape(-1, 1)"
   ]
  },
  {
   "cell_type": "markdown",
   "metadata": {},
   "source": [
    "# featurizer"
   ]
  },
  {
   "cell_type": "code",
   "execution_count": 21,
   "metadata": {},
   "outputs": [],
   "source": [
    "mp1 = molmap.loadmap('../descriptor.mp')\n",
    "mp2 = molmap.loadmap('../fingerprint.mp')\n",
    "\n",
    "X1_name = os.path.join(tmp_feature_dir, 'X1_%s.data' % task_name)\n",
    "X2_name = os.path.join(tmp_feature_dir, 'X2_%s.data' % task_name)\n",
    "if not os.path.exists(X1_name):\n",
    "    X1 = mp1.batch_transform(df.smiles, n_jobs = 8)\n",
    "    dump(X1, X1_name)\n",
    "else:\n",
    "    X1 = load(X1_name)\n",
    "\n",
    "if not os.path.exists(X2_name): \n",
    "    X2 = mp2.batch_transform(df.smiles, n_jobs = 8)\n",
    "    dump(X2, X2_name)\n",
    "else:\n",
    "    X2 = load(X2_name)\n",
    "\n",
    "molmap1_size = X1.shape[1:]\n",
    "molmap2_size = X2.shape[1:]"
   ]
  },
  {
   "cell_type": "markdown",
   "metadata": {},
   "source": [
    "# splitting valid set from training set by scaffold"
   ]
  },
  {
   "cell_type": "code",
   "execution_count": 22,
   "metadata": {},
   "outputs": [
    {
     "name": "stderr",
     "output_type": "stream",
     "text": [
      "100%|##########| 16896/16896 [00:05<00:00, 2865.82it/s]\n",
      "100%|##########| 8163/8163 [00:00<00:00, 84210.42it/s]\n"
     ]
    },
    {
     "name": "stdout",
     "output_type": "stream",
     "text": [
      "12827 760 3309\n"
     ]
    }
   ],
   "source": [
    "from rdkit.Chem.Scaffolds.MurckoScaffold import GetScaffoldForMol\n",
    "from rdkit import Chem\n",
    "getSFD = lambda x:Chem.MolToSmiles(GetScaffoldForMol(Chem.MolFromSmiles(x)))\n",
    "\n",
    "df['scaffold'] = df.smiles.progress_apply(getSFD)\n",
    "df_train = df[df['group'] == 'training set'][['scaffold']]\n",
    "def getValidIdx(x):\n",
    "    if (len(x) > 2): # set as valid only if this scaffold group larger than 5\n",
    "        return x.index.tolist()[0]\n",
    "    else:\n",
    "        return \n",
    "valid_idx = df_train.groupby('scaffold').progress_apply(getValidIdx).dropna().astype(int).tolist()\n",
    "train_idx = list(set(df_train.index.tolist()) - set(valid_idx))\n",
    "test_idx = df[df.group == 'test set'].index.tolist()\n",
    "print(len(train_idx), len(valid_idx), len(test_idx))\n",
    "\n",
    "train_df = df.iloc[train_idx]\n",
    "valid_df = df.iloc[valid_idx]\n",
    "test_df = df.iloc[test_idx]\n",
    "\n",
    "train_df.to_csv('./train.csv')\n",
    "valid_df.to_csv('./valid.csv')\n",
    "test_df.to_csv('./test.csv')"
   ]
  },
  {
   "cell_type": "code",
   "execution_count": 23,
   "metadata": {},
   "outputs": [],
   "source": [
    "trainX = (X1[train_idx], X2[train_idx])\n",
    "trainY = Y[train_idx]\n",
    "\n",
    "validX = (X1[valid_idx], X2[valid_idx])\n",
    "validY = Y[valid_idx]\n",
    "\n",
    "testX = (X1[test_idx], X2[test_idx])\n",
    "testY = Y[test_idx]"
   ]
  },
  {
   "cell_type": "code",
   "execution_count": 24,
   "metadata": {},
   "outputs": [
    {
     "data": {
      "text/plain": [
       "array([1.66239571, 1.23172738, 2.6004065 , 6.43569758, 1.93945648])"
      ]
     },
     "execution_count": 24,
     "metadata": {},
     "output_type": "execute_result"
    }
   ],
   "source": [
    "def get_pos_weights(trainY):\n",
    "    \"\"\"pos_weights: neg_n / pos_n \"\"\"\n",
    "    dfY = pd.DataFrame(trainY)\n",
    "    pos = dfY == 1\n",
    "    pos_n = pos.sum(axis=0)\n",
    "    neg = dfY == 0\n",
    "    neg_n = neg.sum(axis=0)\n",
    "    pos_weights = (neg_n / pos_n).values\n",
    "    neg_weights = (pos_n / neg_n).values\n",
    "    return pos_weights, neg_weights\n",
    "\n",
    "pos_weights, neg_weights = get_pos_weights(Y[train_idx])\n",
    "pos_weights"
   ]
  },
  {
   "cell_type": "code",
   "execution_count": 25,
   "metadata": {},
   "outputs": [],
   "source": [
    "epochs = 800\n",
    "patience = 50 #early stopping\n",
    "\n",
    "dense_layers = [256, 128, 32]\n",
    "batch_size = 128\n",
    "lr = 1e-4\n",
    "weight_decay = 0\n",
    "monitor = 'val_loss'\n",
    "\n",
    "dense_avf = 'relu'\n",
    "last_avf = None #sigmoid in loss"
   ]
  },
  {
   "cell_type": "code",
   "execution_count": 26,
   "metadata": {},
   "outputs": [],
   "source": [
    "import tensorflow_addons as tfa\n",
    "loss = lambda y_true, y_pred: molmodel.loss.weighted_cross_entropy(y_true,y_pred, pos_weights, MASK = -1)\n",
    "opt = tfa.optimizers.AdamW(weight_decay = 0.0,learning_rate=lr)\n",
    "\n",
    "model = molmodel.net.DoublePathNet(molmap1_size, molmap2_size, \n",
    "                                   n_outputs=Y.shape[-1], \n",
    "                                   dense_layers=dense_layers, \n",
    "                                   dense_avf = dense_avf, \n",
    "                                   last_avf=last_avf)\n",
    "model.compile(optimizer = opt, loss = loss)\n",
    "\n",
    "performance = molmodel.cbks.CLA_EarlyStoppingAndPerformance((trainX, trainY), \n",
    "                                                            (validX, validY), \n",
    "                                                            metric = 'ROC',\n",
    "                                                            patience = patience, \n",
    "                                                            criteria = monitor)\n"
   ]
  },
  {
   "cell_type": "code",
   "execution_count": 27,
   "metadata": {},
   "outputs": [
    {
     "name": "stdout",
     "output_type": "stream",
     "text": [
      "epoch: 0001, loss: 0.8363 - val_loss: 0.7283; auc: 0.7827 - val_auc: 0.8124                                                                                                    \n",
      "epoch: 0002, loss: 0.7417 - val_loss: 0.6499; auc: 0.8377 - val_auc: 0.8700                                                                                                    \n",
      "epoch: 0003, loss: 0.6926 - val_loss: 0.6338; auc: 0.8573 - val_auc: 0.8852                                                                                                    \n",
      "epoch: 0004, loss: 0.6648 - val_loss: 0.5954; auc: 0.8699 - val_auc: 0.8952                                                                                                    \n",
      "epoch: 0005, loss: 0.6516 - val_loss: 0.5825; auc: 0.8769 - val_auc: 0.9017                                                                                                    \n",
      "epoch: 0006, loss: 0.6406 - val_loss: 0.5672; auc: 0.8828 - val_auc: 0.9062                                                                                                    \n",
      "epoch: 0007, loss: 0.6264 - val_loss: 0.5518; auc: 0.8880 - val_auc: 0.9112                                                                                                    \n",
      "epoch: 0008, loss: 0.6210 - val_loss: 0.5832; auc: 0.8911 - val_auc: 0.9113                                                                                                    \n",
      "epoch: 0009, loss: 0.6119 - val_loss: 0.5468; auc: 0.8970 - val_auc: 0.9161                                                                                                    \n",
      "epoch: 0010, loss: 0.6056 - val_loss: 0.5422; auc: 0.9003 - val_auc: 0.9185                                                                                                    \n",
      "epoch: 0011, loss: 0.5985 - val_loss: 0.5329; auc: 0.9039 - val_auc: 0.9201                                                                                                    \n",
      "epoch: 0012, loss: 0.5961 - val_loss: 0.6047; auc: 0.9051 - val_auc: 0.9211                                                                                                    \n",
      "epoch: 0013, loss: 0.5875 - val_loss: 0.5286; auc: 0.9103 - val_auc: 0.9241                                                                                                    \n",
      "epoch: 0014, loss: 0.5850 - val_loss: 0.5407; auc: 0.9124 - val_auc: 0.9262                                                                                                    \n",
      "epoch: 0015, loss: 0.5740 - val_loss: 0.5312; auc: 0.9152 - val_auc: 0.9276                                                                                                    \n",
      "epoch: 0016, loss: 0.5766 - val_loss: 0.5241; auc: 0.9181 - val_auc: 0.9299                                                                                                    \n",
      "epoch: 0017, loss: 0.5655 - val_loss: 0.5174; auc: 0.9211 - val_auc: 0.9297                                                                                                    \n",
      "epoch: 0018, loss: 0.5588 - val_loss: 0.5115; auc: 0.9249 - val_auc: 0.9323                                                                                                    \n",
      "epoch: 0019, loss: 0.5534 - val_loss: 0.5102; auc: 0.9262 - val_auc: 0.9328                                                                                                    \n",
      "epoch: 0020, loss: 0.5456 - val_loss: 0.5100; auc: 0.9289 - val_auc: 0.9344                                                                                                    \n",
      "epoch: 0021, loss: 0.5391 - val_loss: 0.5045; auc: 0.9330 - val_auc: 0.9354                                                                                                    \n",
      "epoch: 0022, loss: 0.5364 - val_loss: 0.4954; auc: 0.9354 - val_auc: 0.9367                                                                                                    \n",
      "epoch: 0023, loss: 0.5269 - val_loss: 0.5314; auc: 0.9374 - val_auc: 0.9360                                                                                                    \n",
      "epoch: 0024, loss: 0.5226 - val_loss: 0.5104; auc: 0.9399 - val_auc: 0.9392                                                                                                    \n",
      "epoch: 0025, loss: 0.5184 - val_loss: 0.4941; auc: 0.9426 - val_auc: 0.9397                                                                                                    \n",
      "epoch: 0026, loss: 0.5156 - val_loss: 0.5139; auc: 0.9431 - val_auc: 0.9393                                                                                                    \n",
      "epoch: 0027, loss: 0.5060 - val_loss: 0.5072; auc: 0.9468 - val_auc: 0.9395                                                                                                    \n",
      "epoch: 0028, loss: 0.4972 - val_loss: 0.4962; auc: 0.9487 - val_auc: 0.9396                                                                                                    \n",
      "epoch: 0029, loss: 0.4938 - val_loss: 0.4982; auc: 0.9512 - val_auc: 0.9409                                                                                                    \n",
      "epoch: 0030, loss: 0.4871 - val_loss: 0.5010; auc: 0.9518 - val_auc: 0.9413                                                                                                    \n",
      "epoch: 0031, loss: 0.4790 - val_loss: 0.5028; auc: 0.9543 - val_auc: 0.9414                                                                                                    \n",
      "epoch: 0032, loss: 0.4722 - val_loss: 0.4840; auc: 0.9573 - val_auc: 0.9416                                                                                                    \n",
      "epoch: 0033, loss: 0.4656 - val_loss: 0.4861; auc: 0.9590 - val_auc: 0.9419                                                                                                    \n",
      "epoch: 0034, loss: 0.4544 - val_loss: 0.4978; auc: 0.9597 - val_auc: 0.9435                                                                                                    \n",
      "epoch: 0035, loss: 0.4538 - val_loss: 0.4894; auc: 0.9627 - val_auc: 0.9417                                                                                                    \n",
      "epoch: 0036, loss: 0.4469 - val_loss: 0.4900; auc: 0.9635 - val_auc: 0.9432                                                                                                    \n",
      "epoch: 0037, loss: 0.4412 - val_loss: 0.5270; auc: 0.9661 - val_auc: 0.9416                                                                                                    \n",
      "epoch: 0038, loss: 0.4417 - val_loss: 0.5150; auc: 0.9671 - val_auc: 0.9431                                                                                                    \n",
      "epoch: 0039, loss: 0.4305 - val_loss: 0.5015; auc: 0.9675 - val_auc: 0.9431                                                                                                    \n",
      "epoch: 0040, loss: 0.4256 - val_loss: 0.5349; auc: 0.9692 - val_auc: 0.9435                                                                                                    \n",
      "epoch: 0041, loss: 0.4231 - val_loss: 0.5081; auc: 0.9709 - val_auc: 0.9446                                                                                                    \n",
      "epoch: 0042, loss: 0.4181 - val_loss: 0.5111; auc: 0.9713 - val_auc: 0.9444                                                                                                    \n",
      "epoch: 0043, loss: 0.4236 - val_loss: 0.5071; auc: 0.9725 - val_auc: 0.9433                                                                                                    \n",
      "epoch: 0044, loss: 0.4068 - val_loss: 0.5429; auc: 0.9737 - val_auc: 0.9420                                                                                                    \n",
      "epoch: 0045, loss: 0.3993 - val_loss: 0.5170; auc: 0.9747 - val_auc: 0.9432                                                                                                    \n",
      "epoch: 0046, loss: 0.3944 - val_loss: 0.5423; auc: 0.9758 - val_auc: 0.9431                                                                                                    \n",
      "epoch: 0047, loss: 0.4016 - val_loss: 0.4988; auc: 0.9773 - val_auc: 0.9433                                                                                                    \n",
      "epoch: 0048, loss: 0.3905 - val_loss: 0.5342; auc: 0.9778 - val_auc: 0.9438                                                                                                    \n",
      "epoch: 0049, loss: 0.3826 - val_loss: 0.5085; auc: 0.9793 - val_auc: 0.9431                                                                                                    \n",
      "epoch: 0050, loss: 0.3808 - val_loss: 0.5244; auc: 0.9795 - val_auc: 0.9436                                                                                                    \n",
      "epoch: 0051, loss: 0.3758 - val_loss: 0.5114; auc: 0.9806 - val_auc: 0.9428                                                                                                    \n",
      "epoch: 0052, loss: 0.3748 - val_loss: 0.5297; auc: 0.9817 - val_auc: 0.9426                                                                                                    \n",
      "epoch: 0053, loss: 0.3656 - val_loss: 0.5244; auc: 0.9823 - val_auc: 0.9440                                                                                                    \n",
      "epoch: 0054, loss: 0.3667 - val_loss: 0.5257; auc: 0.9828 - val_auc: 0.9427                                                                                                    \n",
      "epoch: 0055, loss: 0.3621 - val_loss: 0.5194; auc: 0.9839 - val_auc: 0.9415                                                                                                    \n",
      "epoch: 0056, loss: 0.3563 - val_loss: 0.5972; auc: 0.9843 - val_auc: 0.9411                                                                                                    \n",
      "epoch: 0057, loss: 0.3574 - val_loss: 0.5792; auc: 0.9857 - val_auc: 0.9414                                                                                                    \n",
      "epoch: 0058, loss: 0.3529 - val_loss: 0.5197; auc: 0.9857 - val_auc: 0.9424                                                                                                    \n",
      "epoch: 0059, loss: 0.3467 - val_loss: 0.5304; auc: 0.9869 - val_auc: 0.9431                                                                                                    \n",
      "epoch: 0060, loss: 0.3417 - val_loss: 0.5382; auc: 0.9876 - val_auc: 0.9405                                                                                                    \n",
      "epoch: 0061, loss: 0.3378 - val_loss: 0.5353; auc: 0.9877 - val_auc: 0.9427                                                                                                    \n",
      "epoch: 0062, loss: 0.3339 - val_loss: 0.5510; auc: 0.9890 - val_auc: 0.9405                                                                                                    \n",
      "epoch: 0063, loss: 0.3354 - val_loss: 0.5463; auc: 0.9891 - val_auc: 0.9402                                                                                                    \n",
      "epoch: 0064, loss: 0.3285 - val_loss: 0.5608; auc: 0.9898 - val_auc: 0.9396                                                                                                    \n",
      "epoch: 0065, loss: 0.3300 - val_loss: 0.5698; auc: 0.9905 - val_auc: 0.9406                                                                                                    \n",
      "epoch: 0066, loss: 0.3320 - val_loss: 0.5443; auc: 0.9902 - val_auc: 0.9429                                                                                                    \n",
      "epoch: 0067, loss: 0.3182 - val_loss: 0.6068; auc: 0.9913 - val_auc: 0.9412                                                                                                    \n",
      "epoch: 0068, loss: 0.3197 - val_loss: 0.6040; auc: 0.9915 - val_auc: 0.9414                                                                                                    \n",
      "epoch: 0069, loss: 0.3229 - val_loss: 0.5766; auc: 0.9923 - val_auc: 0.9403                                                                                                    \n",
      "epoch: 0070, loss: 0.3124 - val_loss: 0.5700; auc: 0.9927 - val_auc: 0.9389                                                                                                    \n",
      "epoch: 0071, loss: 0.3066 - val_loss: 0.5980; auc: 0.9932 - val_auc: 0.9392                                                                                                    \n",
      "epoch: 0072, loss: 0.3108 - val_loss: 0.5634; auc: 0.9924 - val_auc: 0.9398                                                                                                    \n",
      "epoch: 0073, loss: 0.3152 - val_loss: 0.6108; auc: 0.9936 - val_auc: 0.9400                                                                                                    \n",
      "epoch: 0074, loss: 0.3023 - val_loss: 0.6416; auc: 0.9940 - val_auc: 0.9400                                                                                                    \n",
      "epoch: 0075, loss: 0.3039 - val_loss: 0.5966; auc: 0.9941 - val_auc: 0.9397                                                                                                    \n",
      "epoch: 0076, loss: 0.3041 - val_loss: 0.7150; auc: 0.9944 - val_auc: 0.9405                                                                                                    \n",
      "epoch: 0077, loss: 0.3019 - val_loss: 0.6269; auc: 0.9944 - val_auc: 0.9407                                                                                                    \n",
      "epoch: 0078, loss: 0.2998 - val_loss: 0.5845; auc: 0.9950 - val_auc: 0.9408                                                                                                    \n",
      "epoch: 0079, loss: 0.2958 - val_loss: 0.6004; auc: 0.9949 - val_auc: 0.9407                                                                                                    \n",
      "epoch: 0080, loss: 0.2929 - val_loss: 0.6002; auc: 0.9956 - val_auc: 0.9403                                                                                                    \n",
      "epoch: 0081, loss: 0.3024 - val_loss: 0.6420; auc: 0.9958 - val_auc: 0.9381                                                                                                    \n",
      "epoch: 0082, loss: 0.2901 - val_loss: 0.5880; auc: 0.9958 - val_auc: 0.9384                                                                                                    \n",
      "\n",
      "Restoring model weights from the end of the best epoch.\n",
      "\n",
      "Epoch 00082: early stopping\n"
     ]
    },
    {
     "data": {
      "text/plain": [
       "<tensorflow.python.keras.callbacks.History at 0x7ff61b16f940>"
      ]
     },
     "execution_count": 27,
     "metadata": {},
     "output_type": "execute_result"
    }
   ],
   "source": [
    "model.fit(trainX, trainY, batch_size=batch_size, \n",
    "          epochs=epochs, verbose= 0, shuffle = True, \n",
    "          validation_data = (validX, validY), \n",
    "          callbacks=[performance]) "
   ]
  },
  {
   "cell_type": "code",
   "execution_count": 28,
   "metadata": {},
   "outputs": [
    {
     "data": {
      "text/plain": [
       "<matplotlib.axes._subplots.AxesSubplot at 0x7ff4d9b679b0>"
      ]
     },
     "execution_count": 28,
     "metadata": {},
     "output_type": "execute_result"
    },
    {
     "data": {
      "image/png": "[encoded data removed]",
      "text/plain": [
       "<Figure size 432x288 with 1 Axes>"
      ]
     },
     "metadata": {
      "needs_background": "light"
     },
     "output_type": "display_data"
    }
   ],
   "source": [
    "pd.DataFrame(performance.history)[['auc', 'val_auc']].plot()"
   ]
  },
  {
   "cell_type": "code",
   "execution_count": 29,
   "metadata": {},
   "outputs": [
    {
     "data": {
      "text/plain": [
       "<matplotlib.axes._subplots.AxesSubplot at 0x7ff4ddac8710>"
      ]
     },
     "execution_count": 29,
     "metadata": {},
     "output_type": "execute_result"
    },
    {
     "data": {
      "image/png": "[encoded data removed]",
      "text/plain": [
       "<Figure size 432x288 with 1 Axes>"
      ]
     },
     "metadata": {
      "needs_background": "light"
     },
     "output_type": "display_data"
    }
   ],
   "source": [
    "pd.DataFrame(performance.history)[['loss', 'val_loss']].plot()"
   ]
  },
  {
   "cell_type": "code",
   "execution_count": 30,
   "metadata": {},
   "outputs": [
    {
     "data": {
      "text/plain": [
       "{'task_name': 'CYP450',\n",
       " 'train_auc': 0.9573297428637668,\n",
       " 'valid_auc': 0.9415995864301809,\n",
       " 'test_auc': 0.8748443095521777,\n",
       " '# trainable params': 803813,\n",
       " 'best_epoch': 31,\n",
       " 'batch_size': 128,\n",
       " 'lr': 0.0001,\n",
       " 'weight_decay': 0}"
      ]
     },
     "execution_count": 30,
     "metadata": {},
     "output_type": "execute_result"
    }
   ],
   "source": [
    "best_epoch = performance.best_epoch\n",
    "trainable_params = model.count_params()\n",
    "\n",
    "train_aucs = performance.evaluate(trainX, trainY)            \n",
    "valid_aucs = performance.evaluate(validX, validY)            \n",
    "test_aucs = performance.evaluate(testX, testY)\n",
    "\n",
    "\n",
    "final_res = {\n",
    "                 'task_name':task_name,            \n",
    "                 'train_auc':np.nanmean(train_aucs), \n",
    "                 'valid_auc':np.nanmean(valid_aucs),                      \n",
    "                 'test_auc':np.nanmean(test_aucs), \n",
    "                 '# trainable params': trainable_params,\n",
    "                 'best_epoch': best_epoch,\n",
    "                 'batch_size':batch_size,\n",
    "                 'lr': lr,\n",
    "                 'weight_decay':weight_decay\n",
    "                }\n",
    "\n",
    "final_res"
   ]
  },
  {
   "cell_type": "code",
   "execution_count": 31,
   "metadata": {},
   "outputs": [
    {
     "data": {
      "text/plain": [
       "[0.976, 0.801, 0.799, 0.879, 0.919]"
      ]
     },
     "execution_count": 31,
     "metadata": {},
     "output_type": "execute_result"
    }
   ],
   "source": [
    "[round(i, 3) for i in performance.evaluate(testX, testY)]"
   ]
  },
  {
   "cell_type": "code",
   "execution_count": 32,
   "metadata": {},
   "outputs": [],
   "source": [
    "model.save('./model_final.h5')"
   ]
  },
  {
   "cell_type": "code",
   "execution_count": null,
   "metadata": {},
   "outputs": [],
   "source": []
  },
  {
   "cell_type": "code",
   "execution_count": null,
   "metadata": {},
   "outputs": [],
   "source": []
  },
  {
   "cell_type": "code",
   "execution_count": null,
   "metadata": {},
   "outputs": [],
   "source": []
  },
  {
   "cell_type": "code",
   "execution_count": null,
   "metadata": {},
   "outputs": [],
   "source": []
  },
  {
   "cell_type": "code",
   "execution_count": null,
   "metadata": {},
   "outputs": [],
   "source": []
  },
  {
   "cell_type": "code",
   "execution_count": null,
   "metadata": {},
   "outputs": [],
   "source": []
  },
  {
   "cell_type": "code",
   "execution_count": null,
   "metadata": {},
   "outputs": [],
   "source": []
  }
 ],
 "metadata": {
  "kernelspec": {
   "display_name": "Python 3",
   "language": "python",
   "name": "python3"
  },
  "language_info": {
   "codemirror_mode": {
    "name": "ipython",
    "version": 3
   },
   "file_extension": ".py",
   "mimetype": "text/x-python",
   "name": "python",
   "nbconvert_exporter": "python",
   "pygments_lexer": "ipython3",
   "version": "3.6.5"
  }
 },
 "nbformat": 4,
 "nbformat_minor": 4
}
