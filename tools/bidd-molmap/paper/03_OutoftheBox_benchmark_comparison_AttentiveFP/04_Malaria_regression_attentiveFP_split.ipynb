{
 "cells": [
  {
   "cell_type": "code",
   "execution_count": 1,
   "metadata": {},
   "outputs": [
    {
     "name": "stderr",
     "output_type": "stream",
     "text": [
      "RDKit WARNING: [17:06:06] Enabling RDKit 2019.09.2 jupyter extensions\n"
     ]
    }
   ],
   "source": [
    "from molmap import model as molmodel\n",
    "import molmap\n",
    "from molmap import dataset\n",
    "import matplotlib.pyplot as plt\n",
    "\n",
    "import pandas as pd\n",
    "from tqdm import tqdm\n",
    "from joblib import load, dump\n",
    "tqdm.pandas(ascii=True)\n",
    "import numpy as np\n",
    "\n",
    "import tensorflow as tf\n",
    "import os\n",
    "os.environ[\"CUDA_VISIBLE_DEVICES\"]=\"1\""
   ]
  },
  {
   "cell_type": "code",
   "execution_count": 2,
   "metadata": {},
   "outputs": [],
   "source": [
    "def get_attentiveFP_idx(df, file = './split_and_data/04_Malaria_attentiveFP.data'):\n",
    "    \"\"\" attentiveFP dataset\"\"\"\n",
    "    train, valid = load(file)\n",
    "    test = valid\n",
    "    \n",
    "    # only train, valid\n",
    "    \n",
    "    print('training set: %s, valid set: %s, test set %s' % (len(train), len(valid), len(test)))\n",
    "    train_idx = df[df.smiles.isin(train.smiles)].index\n",
    "    valid_idx = df[df.smiles.isin(valid.smiles)].index\n",
    "    test_idx = df[df.smiles.isin(test.smiles)].index\n",
    "    print('training set: %s, valid set: %s, test set %s' % (len(train_idx), len(valid_idx), len(test_idx)))\n",
    "    return train_idx, valid_idx, test_idx "
   ]
  },
  {
   "cell_type": "code",
   "execution_count": 3,
   "metadata": {},
   "outputs": [
    {
     "name": "stdout",
     "output_type": "stream",
     "text": [
      "total samples: 9999\n"
     ]
    }
   ],
   "source": [
    "mp1 = molmap.loadmap('../descriptor.mp')\n",
    "mp2 = molmap.loadmap('../fingerprint.mp')\n",
    "\n",
    "task_name = 'Malaria'\n",
    "\n",
    "data = dataset.load_malaria()\n"
   ]
  },
  {
   "cell_type": "code",
   "execution_count": 4,
   "metadata": {},
   "outputs": [],
   "source": [
    "df = data.data"
   ]
  },
  {
   "cell_type": "code",
   "execution_count": 5,
   "metadata": {},
   "outputs": [
    {
     "name": "stdout",
     "output_type": "stream",
     "text": [
      "training set: 7999, valid set: 2000, test set 2000\n",
      "training set: 7999, valid set: 2000, test set 2000\n"
     ]
    },
    {
     "data": {
      "text/plain": [
       "(7999, 2000, 2000)"
      ]
     },
     "execution_count": 5,
     "metadata": {},
     "output_type": "execute_result"
    }
   ],
   "source": [
    "train_idx, valid_idx, test_idx = get_attentiveFP_idx(df) #random seed has no effects\n",
    "len(train_idx), len(valid_idx), len(test_idx)"
   ]
  },
  {
   "cell_type": "code",
   "execution_count": 6,
   "metadata": {},
   "outputs": [],
   "source": [
    "tmp_feature_dir = './tmpignore'\n",
    "if not os.path.exists(tmp_feature_dir):\n",
    "    os.makedirs(tmp_feature_dir)\n",
    "\n",
    "smiles_col = df.columns[0]\n",
    "values_col = df.columns[1:]\n",
    "Y = df[values_col].astype('float').values\n",
    "Y = Y.reshape(-1, 1)\n",
    "\n",
    "\n",
    "X1_name = os.path.join(tmp_feature_dir, 'X1_%s.data' % task_name)\n",
    "X2_name = os.path.join(tmp_feature_dir, 'X2_%s.data' % task_name)\n",
    "if not os.path.exists(X1_name):\n",
    "    X1 = mp1.batch_transform(df.smiles, n_jobs = 8)\n",
    "    dump(X1, X1_name)\n",
    "else:\n",
    "    X1 = load(X1_name)\n",
    "\n",
    "if not os.path.exists(X2_name): \n",
    "    X2 = mp2.batch_transform(df.smiles, n_jobs = 8)\n",
    "    dump(X2, X2_name)\n",
    "else:\n",
    "    X2 = load(X2_name)\n",
    "\n",
    "molmap1_size = X1.shape[1:]\n",
    "molmap2_size = X2.shape[1:]"
   ]
  },
  {
   "cell_type": "code",
   "execution_count": 7,
   "metadata": {},
   "outputs": [],
   "source": [
    "epochs = 800\n",
    "patience = 50 #early stopping\n",
    "\n",
    "dense_layers = [256, 128, 32]\n",
    "batch_size = 128\n",
    "lr = 1e-4\n",
    "weight_decay = 0\n",
    "\n",
    "loss = 'mse'\n",
    "monitor = 'val_loss'\n",
    "dense_avf = 'relu'\n",
    "last_avf = 'linear'\n"
   ]
  },
  {
   "cell_type": "code",
   "execution_count": 8,
   "metadata": {},
   "outputs": [
    {
     "name": "stdout",
     "output_type": "stream",
     "text": [
      "7999 2000 2000\n"
     ]
    }
   ],
   "source": [
    "print(len(train_idx), len(valid_idx), len(test_idx))\n",
    "\n",
    "trainX = (X1[train_idx], X2[train_idx])\n",
    "trainY = Y[train_idx]\n",
    "\n",
    "validX = (X1[valid_idx], X2[valid_idx])\n",
    "validY = Y[valid_idx]\n",
    "\n",
    "testX = (X1[test_idx], X2[test_idx])\n",
    "testY = Y[test_idx]            "
   ]
  },
  {
   "cell_type": "code",
   "execution_count": 9,
   "metadata": {},
   "outputs": [
    {
     "name": "stdout",
     "output_type": "stream",
     "text": [
      "epoch: 0001, loss: 1.4488 - val_loss: 1.4894; rmse: 1.1883 - rmse_val: 1.2204;  r2: 0.0958 - r2_val: 0.1011                                                                                                    \n",
      "epoch: 0002, loss: 1.3676 - val_loss: 1.3819; rmse: 1.1449 - rmse_val: 1.1755;  r2: 0.1340 - r2_val: 0.1414                                                                                                    \n",
      "epoch: 0003, loss: 1.2681 - val_loss: 1.2623; rmse: 1.0960 - rmse_val: 1.1235;  r2: 0.2168 - r2_val: 0.2235                                                                                                    \n",
      "epoch: 0004, loss: 1.1962 - val_loss: 1.1879; rmse: 1.0615 - rmse_val: 1.0899;  r2: 0.2496 - r2_val: 0.2481                                                                                                    \n",
      "epoch: 0005, loss: 1.1333 - val_loss: 1.1647; rmse: 1.0421 - rmse_val: 1.0792;  r2: 0.2739 - r2_val: 0.2605                                                                                                    \n",
      "epoch: 0006, loss: 1.0789 - val_loss: 1.1346; rmse: 1.0174 - rmse_val: 1.0652;  r2: 0.3050 - r2_val: 0.2769                                                                                                    \n",
      "epoch: 0007, loss: 1.0387 - val_loss: 1.1045; rmse: 0.9990 - rmse_val: 1.0510;  r2: 0.3330 - r2_val: 0.2883                                                                                                    \n",
      "epoch: 0008, loss: 0.9967 - val_loss: 1.1287; rmse: 1.0050 - rmse_val: 1.0624;  r2: 0.3652 - r2_val: 0.3002                                                                                                    \n",
      "epoch: 0009, loss: 0.9624 - val_loss: 1.0680; rmse: 0.9479 - rmse_val: 1.0334;  r2: 0.3975 - r2_val: 0.3082                                                                                                    \n",
      "epoch: 0010, loss: 0.9141 - val_loss: 1.1677; rmse: 0.9701 - rmse_val: 1.0806;  r2: 0.4270 - r2_val: 0.3126                                                                                                    \n",
      "epoch: 0011, loss: 0.8839 - val_loss: 1.0670; rmse: 0.9048 - rmse_val: 1.0330;  r2: 0.4604 - r2_val: 0.3199                                                                                                    \n",
      "epoch: 0012, loss: 0.8323 - val_loss: 1.0547; rmse: 0.8886 - rmse_val: 1.0270;  r2: 0.4840 - r2_val: 0.3262                                                                                                    \n",
      "epoch: 0013, loss: 0.8094 - val_loss: 1.0362; rmse: 0.8510 - rmse_val: 1.0180;  r2: 0.5216 - r2_val: 0.3308                                                                                                    \n",
      "epoch: 0014, loss: 0.7425 - val_loss: 1.0900; rmse: 0.8657 - rmse_val: 1.0440;  r2: 0.5469 - r2_val: 0.3323                                                                                                    \n",
      "epoch: 0015, loss: 0.7251 - val_loss: 1.1753; rmse: 0.8686 - rmse_val: 1.0841;  r2: 0.5878 - r2_val: 0.3343                                                                                                    \n",
      "epoch: 0016, loss: 0.7047 - val_loss: 1.0293; rmse: 0.7794 - rmse_val: 1.0145;  r2: 0.6020 - r2_val: 0.3382                                                                                                    \n",
      "epoch: 0017, loss: 0.6637 - val_loss: 1.0671; rmse: 0.7931 - rmse_val: 1.0330;  r2: 0.6285 - r2_val: 0.3399                                                                                                    \n",
      "epoch: 0018, loss: 0.6096 - val_loss: 1.1392; rmse: 0.7816 - rmse_val: 1.0674;  r2: 0.6397 - r2_val: 0.3355                                                                                                    \n",
      "epoch: 0019, loss: 0.5902 - val_loss: 1.0386; rmse: 0.7072 - rmse_val: 1.0191;  r2: 0.6728 - r2_val: 0.3441                                                                                                    \n",
      "epoch: 0020, loss: 0.5285 - val_loss: 1.0686; rmse: 0.7124 - rmse_val: 1.0337;  r2: 0.6965 - r2_val: 0.3421                                                                                                    \n",
      "epoch: 0021, loss: 0.4909 - val_loss: 1.0498; rmse: 0.6538 - rmse_val: 1.0246;  r2: 0.7260 - r2_val: 0.3396                                                                                                    \n",
      "epoch: 0022, loss: 0.4737 - val_loss: 1.3923; rmse: 0.8380 - rmse_val: 1.1800;  r2: 0.7380 - r2_val: 0.3383                                                                                                    \n",
      "epoch: 0023, loss: 0.4420 - val_loss: 1.0720; rmse: 0.6475 - rmse_val: 1.0354;  r2: 0.7616 - r2_val: 0.3408                                                                                                    \n",
      "epoch: 0024, loss: 0.4280 - val_loss: 1.0626; rmse: 0.6340 - rmse_val: 1.0309;  r2: 0.7704 - r2_val: 0.3358                                                                                                    \n",
      "epoch: 0025, loss: 0.3945 - val_loss: 1.0540; rmse: 0.5619 - rmse_val: 1.0266;  r2: 0.7981 - r2_val: 0.3442                                                                                                    \n",
      "epoch: 0026, loss: 0.3383 - val_loss: 1.0629; rmse: 0.5494 - rmse_val: 1.0310;  r2: 0.8109 - r2_val: 0.3389                                                                                                    \n",
      "epoch: 0027, loss: 0.3536 - val_loss: 1.0716; rmse: 0.5285 - rmse_val: 1.0352;  r2: 0.8230 - r2_val: 0.3406                                                                                                    \n",
      "epoch: 0028, loss: 0.3055 - val_loss: 1.0595; rmse: 0.5020 - rmse_val: 1.0293;  r2: 0.8403 - r2_val: 0.3373                                                                                                    \n",
      "epoch: 0029, loss: 0.2744 - val_loss: 1.0792; rmse: 0.5135 - rmse_val: 1.0389;  r2: 0.8566 - r2_val: 0.3362                                                                                                    \n",
      "epoch: 0030, loss: 0.2868 - val_loss: 1.0741; rmse: 0.4781 - rmse_val: 1.0364;  r2: 0.8592 - r2_val: 0.3384                                                                                                    \n",
      "epoch: 0031, loss: 0.2369 - val_loss: 1.0916; rmse: 0.4412 - rmse_val: 1.0448;  r2: 0.8738 - r2_val: 0.3372                                                                                                    \n",
      "epoch: 0032, loss: 0.2285 - val_loss: 1.1018; rmse: 0.4402 - rmse_val: 1.0497;  r2: 0.8816 - r2_val: 0.3416                                                                                                    \n",
      "epoch: 0033, loss: 0.2161 - val_loss: 1.2905; rmse: 0.5799 - rmse_val: 1.1360;  r2: 0.8878 - r2_val: 0.3326                                                                                                    \n",
      "epoch: 0034, loss: 0.2368 - val_loss: 1.1510; rmse: 0.5064 - rmse_val: 1.0728;  r2: 0.8986 - r2_val: 0.3325                                                                                                    \n",
      "epoch: 0035, loss: 0.1843 - val_loss: 1.1154; rmse: 0.3972 - rmse_val: 1.0561;  r2: 0.9091 - r2_val: 0.3322                                                                                                    \n",
      "epoch: 0036, loss: 0.1707 - val_loss: 1.1078; rmse: 0.4038 - rmse_val: 1.0525;  r2: 0.9117 - r2_val: 0.3290                                                                                                    \n",
      "epoch: 0037, loss: 0.1603 - val_loss: 1.1278; rmse: 0.3714 - rmse_val: 1.0619;  r2: 0.9207 - r2_val: 0.3309                                                                                                    \n",
      "epoch: 0038, loss: 0.1619 - val_loss: 1.2648; rmse: 0.4955 - rmse_val: 1.1246;  r2: 0.9256 - r2_val: 0.3262                                                                                                    \n",
      "epoch: 0039, loss: 0.1575 - val_loss: 1.0919; rmse: 0.3324 - rmse_val: 1.0449;  r2: 0.9323 - r2_val: 0.3260                                                                                                    \n",
      "epoch: 0040, loss: 0.1265 - val_loss: 1.1296; rmse: 0.3265 - rmse_val: 1.0628;  r2: 0.9325 - r2_val: 0.3298                                                                                                    \n",
      "epoch: 0041, loss: 0.1291 - val_loss: 1.2416; rmse: 0.4373 - rmse_val: 1.1143;  r2: 0.9363 - r2_val: 0.3264                                                                                                    \n",
      "epoch: 0042, loss: 0.1264 - val_loss: 1.1272; rmse: 0.3640 - rmse_val: 1.0617;  r2: 0.9411 - r2_val: 0.3235                                                                                                    \n",
      "epoch: 0043, loss: 0.1165 - val_loss: 1.1206; rmse: 0.3182 - rmse_val: 1.0586;  r2: 0.9442 - r2_val: 0.3288                                                                                                    \n",
      "epoch: 0044, loss: 0.1405 - val_loss: 1.1907; rmse: 0.3808 - rmse_val: 1.0912;  r2: 0.9484 - r2_val: 0.3235                                                                                                    \n",
      "epoch: 0045, loss: 0.1067 - val_loss: 1.1408; rmse: 0.3401 - rmse_val: 1.0681;  r2: 0.9499 - r2_val: 0.3296                                                                                                    \n",
      "epoch: 0046, loss: 0.1063 - val_loss: 1.2341; rmse: 0.3966 - rmse_val: 1.1109;  r2: 0.9506 - r2_val: 0.3216                                                                                                    \n",
      "epoch: 0047, loss: 0.0925 - val_loss: 1.1545; rmse: 0.2908 - rmse_val: 1.0745;  r2: 0.9560 - r2_val: 0.3210                                                                                                    \n",
      "epoch: 0048, loss: 0.0841 - val_loss: 1.1186; rmse: 0.2427 - rmse_val: 1.0577;  r2: 0.9621 - r2_val: 0.3232                                                                                                    \n",
      "epoch: 0049, loss: 0.0955 - val_loss: 1.1421; rmse: 0.3281 - rmse_val: 1.0687;  r2: 0.9594 - r2_val: 0.3257                                                                                                    \n",
      "epoch: 0050, loss: 0.0889 - val_loss: 1.1330; rmse: 0.2378 - rmse_val: 1.0644;  r2: 0.9624 - r2_val: 0.3170                                                                                                    \n",
      "epoch: 0051, loss: 0.0718 - val_loss: 1.1292; rmse: 0.2327 - rmse_val: 1.0626;  r2: 0.9656 - r2_val: 0.3221                                                                                                    \n",
      "epoch: 0052, loss: 0.0639 - val_loss: 1.1383; rmse: 0.2321 - rmse_val: 1.0669;  r2: 0.9672 - r2_val: 0.3240                                                                                                    \n",
      "epoch: 0053, loss: 0.0685 - val_loss: 1.1969; rmse: 0.3001 - rmse_val: 1.0940;  r2: 0.9693 - r2_val: 0.3216                                                                                                    \n",
      "epoch: 0054, loss: 0.0647 - val_loss: 1.1474; rmse: 0.2534 - rmse_val: 1.0711;  r2: 0.9706 - r2_val: 0.3128                                                                                                    \n",
      "epoch: 0055, loss: 0.0694 - val_loss: 1.2184; rmse: 0.3020 - rmse_val: 1.1038;  r2: 0.9668 - r2_val: 0.3216                                                                                                    \n",
      "epoch: 0056, loss: 0.0782 - val_loss: 1.2412; rmse: 0.3455 - rmse_val: 1.1141;  r2: 0.9698 - r2_val: 0.3203                                                                                                    \n",
      "epoch: 0057, loss: 0.0604 - val_loss: 1.1476; rmse: 0.2159 - rmse_val: 1.0713;  r2: 0.9732 - r2_val: 0.3155                                                                                                    \n",
      "epoch: 0058, loss: 0.0556 - val_loss: 1.1424; rmse: 0.1934 - rmse_val: 1.0688;  r2: 0.9752 - r2_val: 0.3189                                                                                                    \n",
      "epoch: 0059, loss: 0.0551 - val_loss: 1.1480; rmse: 0.2004 - rmse_val: 1.0714;  r2: 0.9751 - r2_val: 0.3155                                                                                                    \n",
      "epoch: 0060, loss: 0.0584 - val_loss: 1.1798; rmse: 0.2503 - rmse_val: 1.0862;  r2: 0.9745 - r2_val: 0.3179                                                                                                    \n",
      "epoch: 0061, loss: 0.0619 - val_loss: 1.1680; rmse: 0.2469 - rmse_val: 1.0808;  r2: 0.9740 - r2_val: 0.3170                                                                                                    \n",
      "epoch: 0062, loss: 0.0683 - val_loss: 1.1836; rmse: 0.2452 - rmse_val: 1.0879;  r2: 0.9729 - r2_val: 0.3181                                                                                                    \n",
      "epoch: 0063, loss: 0.0534 - val_loss: 1.1753; rmse: 0.2162 - rmse_val: 1.0841;  r2: 0.9775 - r2_val: 0.3108                                                                                                    \n",
      "epoch: 0064, loss: 0.0640 - val_loss: 1.1669; rmse: 0.1981 - rmse_val: 1.0802;  r2: 0.9787 - r2_val: 0.3152                                                                                                    \n",
      "epoch: 0065, loss: 0.0547 - val_loss: 1.1431; rmse: 0.1798 - rmse_val: 1.0691;  r2: 0.9784 - r2_val: 0.3195                                                                                                    \n",
      "epoch: 0066, loss: 0.0402 - val_loss: 1.1467; rmse: 0.1846 - rmse_val: 1.0709;  r2: 0.9821 - r2_val: 0.3134                                                                                                    \n",
      "\n",
      "Restoring model weights from the end of the best epoch.\n",
      "\n",
      "Epoch 00066: early stopping\n"
     ]
    }
   ],
   "source": [
    "np.random.seed(77)\n",
    "tf.compat.v1.set_random_seed(77)\n",
    "\n",
    "model = molmodel.net.DoublePathNet(molmap1_size, molmap2_size, \n",
    "                                   n_outputs=Y.shape[-1], \n",
    "                                   dense_layers=dense_layers, \n",
    "                                   dense_avf = dense_avf, \n",
    "                                   last_avf=last_avf)\n",
    "\n",
    "opt = tf.keras.optimizers.Adam(lr=lr, beta_1=0.9, beta_2=0.999, epsilon=1e-08, decay=0.0) #\n",
    "#import tensorflow_addons as tfa\n",
    "#opt = tfa.optimizers.AdamW(weight_decay = 0.1,learning_rate=0.001,beta1=0.9,beta2=0.999, epsilon=1e-08)\n",
    "model.compile(optimizer = opt, loss = loss)\n",
    "performance = molmodel.cbks.Reg_EarlyStoppingAndPerformance((trainX, trainY), \n",
    "                                                           (validX, validY), \n",
    "                                                           patience = patience, \n",
    "                                                           criteria = monitor)\n",
    "model.fit(trainX, trainY, batch_size=batch_size, \n",
    "      epochs=epochs, verbose= 0, shuffle = True, \n",
    "      validation_data = (validX, validY), \n",
    "      callbacks=[performance]) \n",
    "\n",
    "\n",
    "best_epoch = performance.best_epoch\n",
    "trainable_params = model.count_params()\n",
    "\n",
    "train_rmses, train_r2s = performance.evaluate(trainX, trainY)            \n",
    "valid_rmses, valid_r2s = performance.evaluate(validX, validY)            \n",
    "test_rmses, test_r2s = performance.evaluate(testX, testY)\n",
    "\n",
    "\n",
    "final_res = {\n",
    "             'task_name':task_name,            \n",
    "             'train_rmse':np.nanmean(train_rmses), \n",
    "             'valid_rmse':np.nanmean(valid_rmses),                      \n",
    "             'test_rmse':np.nanmean(test_rmses), \n",
    "\n",
    "             'train_r2':np.nanmean(train_r2s), \n",
    "             'valid_r2':np.nanmean(valid_r2s),                      \n",
    "             'test_r2':np.nanmean(test_r2s), \n",
    "\n",
    "             '# trainable params': trainable_params,\n",
    "             'best_epoch': best_epoch,\n",
    "             'batch_size':batch_size,\n",
    "             'lr': lr,\n",
    "             'weight_decay':weight_decay\n",
    "            }"
   ]
  },
  {
   "cell_type": "code",
   "execution_count": 10,
   "metadata": {},
   "outputs": [
    {
     "data": {
      "text/plain": [
       "<matplotlib.axes._subplots.AxesSubplot at 0x7fcb9b4af400>"
      ]
     },
     "execution_count": 10,
     "metadata": {},
     "output_type": "execute_result"
    },
    {
     "data": {
      "image/png": "[encoded data removed]",
      "text/plain": [
       "<Figure size 432x288 with 1 Axes>"
      ]
     },
     "metadata": {
      "needs_background": "light"
     },
     "output_type": "display_data"
    }
   ],
   "source": [
    "dfp = pd.DataFrame(performance.history)[['loss', 'val_loss']]\n",
    "dfp.plot()"
   ]
  },
  {
   "cell_type": "code",
   "execution_count": 11,
   "metadata": {},
   "outputs": [
    {
     "data": {
      "text/plain": [
       "([0.7793529139521367], [0.6019533197410153])"
      ]
     },
     "execution_count": 11,
     "metadata": {},
     "output_type": "execute_result"
    }
   ],
   "source": [
    "performance.evaluate(trainX, trainY)"
   ]
  },
  {
   "cell_type": "code",
   "execution_count": 12,
   "metadata": {},
   "outputs": [
    {
     "data": {
      "text/plain": [
       "([1.014532645969422], [0.3382343546134524])"
      ]
     },
     "execution_count": 12,
     "metadata": {},
     "output_type": "execute_result"
    }
   ],
   "source": [
    "performance.evaluate(validX, validY)"
   ]
  },
  {
   "cell_type": "code",
   "execution_count": 13,
   "metadata": {},
   "outputs": [
    {
     "data": {
      "text/plain": [
       "([1.014532645969422], [0.3382343546134524])"
      ]
     },
     "execution_count": 13,
     "metadata": {},
     "output_type": "execute_result"
    }
   ],
   "source": [
    "performance.evaluate(testX, testY)"
   ]
  },
  {
   "cell_type": "code",
   "execution_count": null,
   "metadata": {},
   "outputs": [],
   "source": []
  },
  {
   "cell_type": "code",
   "execution_count": null,
   "metadata": {},
   "outputs": [],
   "source": []
  },
  {
   "cell_type": "code",
   "execution_count": null,
   "metadata": {},
   "outputs": [],
   "source": []
  },
  {
   "cell_type": "code",
   "execution_count": null,
   "metadata": {},
   "outputs": [],
   "source": []
  }
 ],
 "metadata": {
  "kernelspec": {
   "display_name": "Python 3",
   "language": "python",
   "name": "python3"
  },
  "language_info": {
   "codemirror_mode": {
    "name": "ipython",
    "version": 3
   },
   "file_extension": ".py",
   "mimetype": "text/x-python",
   "name": "python",
   "nbconvert_exporter": "python",
   "pygments_lexer": "ipython3",
   "version": "3.6.9"
  }
 },
 "nbformat": 4,
 "nbformat_minor": 4
}
