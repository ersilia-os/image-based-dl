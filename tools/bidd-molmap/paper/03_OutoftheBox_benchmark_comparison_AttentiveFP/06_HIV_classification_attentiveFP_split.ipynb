{
 "cells": [
  {
   "cell_type": "code",
   "execution_count": 1,
   "metadata": {},
   "outputs": [
    {
     "name": "stderr",
     "output_type": "stream",
     "text": [
      "RDKit WARNING: [20:14:03] Enabling RDKit 2019.09.2 jupyter extensions\n"
     ]
    }
   ],
   "source": [
    "from molmap import model as molmodel\n",
    "import molmap\n",
    "\n",
    "import matplotlib.pyplot as plt\n",
    "\n",
    "import pandas as pd\n",
    "from tqdm import tqdm\n",
    "from joblib import load, dump\n",
    "tqdm.pandas(ascii=True)\n",
    "import numpy as np\n",
    "\n",
    "import tensorflow as tf\n",
    "import os\n",
    "os.environ[\"CUDA_VISIBLE_DEVICES\"]=\"0\"\n",
    "\n",
    "def get_attentiveFP_idx(df, file = './split_and_data/06_HIV_attentiveFP.data'):\n",
    "    \"\"\" attentiveFP dataset\"\"\"\n",
    "    train, valid,test = load(file)\n",
    "    print('training set: %s, valid set: %s, test set %s' % (len(train), len(valid), len(test)))\n",
    "    train_idx = df[df.smiles.isin(train.smiles)].index\n",
    "    valid_idx = df[df.smiles.isin(valid.smiles)].index\n",
    "    test_idx = df[df.smiles.isin(test.smiles)].index\n",
    "    print('training set: %s, valid set: %s, test set %s' % (len(train_idx), len(valid_idx), len(test_idx)))\n",
    "    return train_idx, valid_idx, test_idx "
   ]
  },
  {
   "cell_type": "code",
   "execution_count": 2,
   "metadata": {},
   "outputs": [],
   "source": [
    "mp1 = molmap.loadmap('../descriptor.mp')\n",
    "mp2 = molmap.loadmap('../fingerprint.mp')"
   ]
  },
  {
   "cell_type": "code",
   "execution_count": 3,
   "metadata": {},
   "outputs": [
    {
     "name": "stdout",
     "output_type": "stream",
     "text": [
      "loading dataset: HIV number of split times: 3\n",
      "training set: 32598, valid set: 4075, test set 4075\n",
      "training set: 32598, valid set: 4075, test set 4075\n"
     ]
    },
    {
     "data": {
      "text/plain": [
       "(32598, 4075, 4075)"
      ]
     },
     "execution_count": 3,
     "metadata": {},
     "output_type": "execute_result"
    }
   ],
   "source": [
    "task_name = 'HIV'\n",
    "from chembench import load_data\n",
    "df, _ = load_data(task_name)\n",
    "\n",
    "train_idx, valid_idx, test_idx = get_attentiveFP_idx(df) \n",
    "len(train_idx), len(valid_idx), len(test_idx)"
   ]
  },
  {
   "cell_type": "code",
   "execution_count": 4,
   "metadata": {},
   "outputs": [],
   "source": [
    "tmp_feature_dir = '../02_OutofTheBox_benchmark_comparison_DMPNN/tmpignore'\n",
    "if not os.path.exists(tmp_feature_dir):\n",
    "    os.makedirs(tmp_feature_dir)\n",
    "\n",
    "    \n",
    "smiles_col = df.columns[0]\n",
    "values_col = df.columns[1:]\n",
    "Y = df[values_col].astype('float').values\n",
    "Y = Y.reshape(-1, 1)\n",
    "\n",
    "\n",
    "X1_name = os.path.join(tmp_feature_dir, 'X1_%s.data' % task_name)\n",
    "X2_name = os.path.join(tmp_feature_dir, 'X2_%s.data' % task_name)\n",
    "if not os.path.exists(X1_name):\n",
    "    X1 = mp1.batch_transform(df.smiles, n_jobs = 8)\n",
    "    dump(X1, X1_name)\n",
    "else:\n",
    "    X1 = load(X1_name)\n",
    "\n",
    "if not os.path.exists(X2_name): \n",
    "    X2 = mp2.batch_transform(df.smiles, n_jobs = 8)\n",
    "    dump(X2, X2_name)\n",
    "else:\n",
    "    X2 = load(X2_name)\n",
    "\n",
    "molmap1_size = X1.shape[1:]\n",
    "molmap2_size = X2.shape[1:]"
   ]
  },
  {
   "cell_type": "code",
   "execution_count": 5,
   "metadata": {},
   "outputs": [],
   "source": [
    "def get_pos_weights(trainY):\n",
    "    \"\"\"pos_weights: neg_n / pos_n \"\"\"\n",
    "    dfY = pd.DataFrame(trainY)\n",
    "    pos = dfY == 1\n",
    "    pos_n = pos.sum(axis=0)\n",
    "    neg = dfY == 0\n",
    "    neg_n = neg.sum(axis=0)\n",
    "    pos_weights = (neg_n / pos_n).values\n",
    "    neg_weights = (pos_n / neg_n).values\n",
    "    return pos_weights, neg_weights\n",
    "\n",
    "\n",
    "prcs_metrics = ['MUV', 'PCBA']"
   ]
  },
  {
   "cell_type": "code",
   "execution_count": 6,
   "metadata": {},
   "outputs": [
    {
     "name": "stdout",
     "output_type": "stream",
     "text": [
      "32598 4075 4075\n"
     ]
    }
   ],
   "source": [
    "print(len(train_idx), len(valid_idx), len(test_idx))\n",
    "\n",
    "trainX = (X1[train_idx], X2[train_idx])\n",
    "trainY = Y[train_idx]\n",
    "\n",
    "validX = (X1[valid_idx], X2[valid_idx])\n",
    "validY = Y[valid_idx]\n",
    "\n",
    "testX = (X1[test_idx], X2[test_idx])\n",
    "testY = Y[test_idx]            "
   ]
  },
  {
   "cell_type": "code",
   "execution_count": 7,
   "metadata": {},
   "outputs": [],
   "source": [
    "epochs = 800\n",
    "patience = 10 #early stopping\n",
    "\n",
    "dense_layers = [256, 128]\n",
    "\n",
    "batch_size = 128\n",
    "lr = 1e-4\n",
    "weight_decay = 0\n",
    "\n",
    "monitor = 'val_loss'\n",
    "dense_avf = 'relu'\n",
    "last_avf = None #sigmoid in loss\n",
    "\n",
    "if task_name in prcs_metrics:\n",
    "    metric = 'PRC'\n",
    "else:\n",
    "    metric = 'ROC'"
   ]
  },
  {
   "cell_type": "code",
   "execution_count": 8,
   "metadata": {},
   "outputs": [
    {
     "name": "stdout",
     "output_type": "stream",
     "text": [
      "epoch: 0001, loss: 1.2272 - val_loss: 0.9984; auc: 0.7653 - val_auc: 0.7462                                                                                                    \n",
      "epoch: 0002, loss: 1.1208 - val_loss: 0.9248; auc: 0.8049 - val_auc: 0.7852                                                                                                    \n",
      "epoch: 0003, loss: 1.0363 - val_loss: 0.9350; auc: 0.8259 - val_auc: 0.7828                                                                                                    \n",
      "epoch: 0004, loss: 0.9919 - val_loss: 0.8627; auc: 0.8657 - val_auc: 0.8086                                                                                                    \n",
      "epoch: 0005, loss: 0.9168 - val_loss: 0.9333; auc: 0.8908 - val_auc: 0.8118                                                                                                    \n",
      "epoch: 0006, loss: 0.8659 - val_loss: 0.8450; auc: 0.9100 - val_auc: 0.8165                                                                                                    \n",
      "epoch: 0007, loss: 0.8007 - val_loss: 0.8808; auc: 0.9331 - val_auc: 0.8155                                                                                                    \n",
      "epoch: 0008, loss: 0.7398 - val_loss: 0.9268; auc: 0.9632 - val_auc: 0.8206                                                                                                    \n",
      "epoch: 0009, loss: 0.6484 - val_loss: 0.8425; auc: 0.9692 - val_auc: 0.8338                                                                                                    \n",
      "epoch: 0010, loss: 0.5863 - val_loss: 0.9915; auc: 0.9810 - val_auc: 0.8359                                                                                                    \n",
      "epoch: 0011, loss: 0.4905 - val_loss: 0.9478; auc: 0.9862 - val_auc: 0.8431                                                                                                    \n",
      "epoch: 0012, loss: 0.4228 - val_loss: 0.8611; auc: 0.9896 - val_auc: 0.8350                                                                                                    \n",
      "epoch: 0013, loss: 0.3323 - val_loss: 0.9512; auc: 0.9919 - val_auc: 0.8393                                                                                                    \n",
      "epoch: 0014, loss: 0.2748 - val_loss: 1.0704; auc: 0.9932 - val_auc: 0.8314                                                                                                    \n",
      "epoch: 0015, loss: 0.2382 - val_loss: 1.0896; auc: 0.9946 - val_auc: 0.8434                                                                                                    \n",
      "epoch: 0016, loss: 0.1909 - val_loss: 1.8189; auc: 0.9952 - val_auc: 0.8460                                                                                                    \n",
      "epoch: 0017, loss: 0.1564 - val_loss: 1.1880; auc: 0.9956 - val_auc: 0.8423                                                                                                    \n",
      "epoch: 0018, loss: 0.1520 - val_loss: 1.5488; auc: 0.9965 - val_auc: 0.8461                                                                                                    \n",
      "epoch: 0019, loss: 0.1553 - val_loss: 1.6056; auc: 0.9963 - val_auc: 0.8421                                                                                                    \n",
      "\n",
      "Restoring model weights from the end of the best epoch.\n",
      "\n",
      "Epoch 00019: early stopping\n",
      "Train on 32598 samples, validate on 4075 samples\n",
      "Epoch 1/9\n",
      "32598/32598 [==============================] - 16s 498us/sample - loss: 1.2471 - val_loss: 1.0319\n",
      "Epoch 2/9\n",
      "32598/32598 [==============================] - 14s 432us/sample - loss: 1.1176 - val_loss: 0.9469\n",
      "Epoch 3/9\n",
      "32598/32598 [==============================] - 14s 429us/sample - loss: 1.0396 - val_loss: 0.8860\n",
      "Epoch 4/9\n",
      "32598/32598 [==============================] - 14s 438us/sample - loss: 0.9920 - val_loss: 0.8897\n",
      "Epoch 5/9\n",
      "32598/32598 [==============================] - 14s 439us/sample - loss: 0.9161 - val_loss: 0.9147\n",
      "Epoch 6/9\n",
      "32598/32598 [==============================] - 14s 433us/sample - loss: 0.8642 - val_loss: 0.8327\n",
      "Epoch 7/9\n",
      "32598/32598 [==============================] - 14s 440us/sample - loss: 0.8072 - val_loss: 0.8636\n",
      "Epoch 8/9\n",
      "32598/32598 [==============================] - 14s 442us/sample - loss: 0.7260 - val_loss: 0.8289\n",
      "Epoch 9/9\n",
      "32598/32598 [==============================] - 14s 436us/sample - loss: 0.6695 - val_loss: 0.8443\n",
      "Train on 32598 samples, validate on 4075 samples\n",
      "Epoch 1/9\n",
      "32598/32598 [==============================] - 16s 485us/sample - loss: 1.2483 - val_loss: 1.0446\n",
      "Epoch 2/9\n",
      "32598/32598 [==============================] - 14s 433us/sample - loss: 1.1212 - val_loss: 0.9474\n",
      "Epoch 3/9\n",
      "32598/32598 [==============================] - 14s 432us/sample - loss: 1.0416 - val_loss: 0.8862\n",
      "Epoch 4/9\n",
      "32598/32598 [==============================] - 14s 431us/sample - loss: 0.9916 - val_loss: 0.8787\n",
      "Epoch 5/9\n",
      "32598/32598 [==============================] - 14s 423us/sample - loss: 0.9127 - val_loss: 0.8978\n",
      "Epoch 6/9\n",
      "32598/32598 [==============================] - 14s 420us/sample - loss: 0.8600 - val_loss: 0.8279\n",
      "Epoch 7/9\n",
      "32598/32598 [==============================] - 14s 427us/sample - loss: 0.8032 - val_loss: 0.8778\n",
      "Epoch 8/9\n",
      "32598/32598 [==============================] - 14s 440us/sample - loss: 0.7201 - val_loss: 0.8221\n",
      "Epoch 9/9\n",
      "32598/32598 [==============================] - 14s 431us/sample - loss: 0.6629 - val_loss: 0.8434\n"
     ]
    }
   ],
   "source": [
    "results = []\n",
    "for i, seed in enumerate([7, 77, 77]):\n",
    "\n",
    "    np.random.seed(seed)\n",
    "    tf.compat.v1.set_random_seed(seed)\n",
    "\n",
    "    pos_weights, neg_weights = get_pos_weights(trainY)\n",
    "    loss = lambda y_true, y_pred: molmodel.loss.weighted_cross_entropy(y_true,y_pred, pos_weights, MASK = -1)\n",
    "\n",
    "    model = molmodel.net.DoublePathNet(molmap1_size, molmap2_size, \n",
    "                                       n_outputs=Y.shape[-1], \n",
    "                                       dense_layers=dense_layers, \n",
    "                                       dense_avf = dense_avf, \n",
    "                                       last_avf=last_avf)\n",
    "\n",
    "    opt = tf.keras.optimizers.Adam(lr=lr, beta_1=0.9, beta_2=0.999, epsilon=1e-08, decay=0.0) #\n",
    "    #import tensorflow_addons as tfa\n",
    "    #opt = tfa.optimizers.AdamW(weight_decay = 0.1,learning_rate=0.001,beta1=0.9,beta2=0.999, epsilon=1e-08)\n",
    "    model.compile(optimizer = opt, loss = loss)\n",
    "    \n",
    "    if i == 0:\n",
    "        performance = molmodel.cbks.CLA_EarlyStoppingAndPerformance((trainX, trainY), \n",
    "                                                                       (validX, validY), \n",
    "                                                                       patience = patience, \n",
    "                                                                       criteria = monitor,\n",
    "                                                                       metric = metric,\n",
    "                                                                      )\n",
    "        model.fit(trainX, trainY, batch_size=batch_size, \n",
    "              epochs=epochs, verbose= 0, shuffle = True, \n",
    "              validation_data = (validX, validY), \n",
    "              callbacks=[performance]) \n",
    "\n",
    "\n",
    "    else:\n",
    "        model.fit(trainX, trainY, batch_size=batch_size, \n",
    "              epochs = performance.best_epoch + 1, verbose = 1, shuffle = True, \n",
    "              validation_data = (validX, validY)) \n",
    "            \n",
    "    performance.model.set_weights(model.get_weights())\n",
    "    \n",
    "    best_epoch = performance.best_epoch\n",
    "    trainable_params = model.count_params()\n",
    "    \n",
    "    train_aucs = performance.evaluate(trainX, trainY)            \n",
    "    valid_aucs = performance.evaluate(validX, validY)            \n",
    "    test_aucs = performance.evaluate(testX, testY)\n",
    "\n",
    "\n",
    "    final_res = {\n",
    "                     'task_name':task_name,            \n",
    "                     'train_auc':np.nanmean(train_aucs), \n",
    "                     'valid_auc':np.nanmean(valid_aucs),                      \n",
    "                     'test_auc':np.nanmean(test_aucs), \n",
    "                     'metric':metric,\n",
    "                     '# trainable params': trainable_params,\n",
    "                     'best_epoch': best_epoch,\n",
    "                     'batch_size':batch_size,\n",
    "                     'lr': lr,\n",
    "                     'weight_decay':weight_decay\n",
    "                    }\n",
    "    \n",
    "    results.append(final_res)"
   ]
  },
  {
   "cell_type": "code",
   "execution_count": 9,
   "metadata": {},
   "outputs": [
    {
     "data": {
      "text/plain": [
       "<matplotlib.axes._subplots.AxesSubplot at 0x7f7835cf4b70>"
      ]
     },
     "execution_count": 9,
     "metadata": {},
     "output_type": "execute_result"
    },
    {
     "data": {
      "image/png": "[encoded data removed]",
      "text/plain": [
       "<Figure size 432x288 with 1 Axes>"
      ]
     },
     "metadata": {
      "needs_background": "light"
     },
     "output_type": "display_data"
    }
   ],
   "source": [
    "pd.DataFrame(performance.history)[['loss', 'val_loss']].plot()"
   ]
  },
  {
   "cell_type": "code",
   "execution_count": 10,
   "metadata": {},
   "outputs": [
    {
     "data": {
      "text/plain": [
       "0.8652147464318892"
      ]
     },
     "execution_count": 10,
     "metadata": {},
     "output_type": "execute_result"
    }
   ],
   "source": [
    "pd.DataFrame(results).test_auc.mean()"
   ]
  },
  {
   "cell_type": "code",
   "execution_count": 11,
   "metadata": {},
   "outputs": [
    {
     "data": {
      "text/plain": [
       "0.0030805642037164413"
      ]
     },
     "execution_count": 11,
     "metadata": {},
     "output_type": "execute_result"
    }
   ],
   "source": [
    "pd.DataFrame(results).test_auc.std()"
   ]
  },
  {
   "cell_type": "code",
   "execution_count": 12,
   "metadata": {},
   "outputs": [
    {
     "data": {
      "text/html": [
       "<div>\n",
       "<style scoped>\n",
       "    .dataframe tbody tr th:only-of-type {\n",
       "        vertical-align: middle;\n",
       "    }\n",
       "\n",
       "    .dataframe tbody tr th {\n",
       "        vertical-align: top;\n",
       "    }\n",
       "\n",
       "    .dataframe thead th {\n",
       "        text-align: right;\n",
       "    }\n",
       "</style>\n",
       "<table border=\"1\" class=\"dataframe\">\n",
       "  <thead>\n",
       "    <tr style=\"text-align: right;\">\n",
       "      <th></th>\n",
       "      <th>task_name</th>\n",
       "      <th>train_auc</th>\n",
       "      <th>valid_auc</th>\n",
       "      <th>test_auc</th>\n",
       "      <th>metric</th>\n",
       "      <th># trainable params</th>\n",
       "      <th>best_epoch</th>\n",
       "      <th>batch_size</th>\n",
       "      <th>lr</th>\n",
       "      <th>weight_decay</th>\n",
       "    </tr>\n",
       "  </thead>\n",
       "  <tbody>\n",
       "    <tr>\n",
       "      <td>0</td>\n",
       "      <td>HIV</td>\n",
       "      <td>0.969231</td>\n",
       "      <td>0.833755</td>\n",
       "      <td>0.861667</td>\n",
       "      <td>ROC</td>\n",
       "      <td>799649</td>\n",
       "      <td>8</td>\n",
       "      <td>128</td>\n",
       "      <td>0.0001</td>\n",
       "      <td>0</td>\n",
       "    </tr>\n",
       "    <tr>\n",
       "      <td>1</td>\n",
       "      <td>HIV</td>\n",
       "      <td>0.966617</td>\n",
       "      <td>0.814389</td>\n",
       "      <td>0.866764</td>\n",
       "      <td>ROC</td>\n",
       "      <td>799649</td>\n",
       "      <td>8</td>\n",
       "      <td>128</td>\n",
       "      <td>0.0001</td>\n",
       "      <td>0</td>\n",
       "    </tr>\n",
       "    <tr>\n",
       "      <td>2</td>\n",
       "      <td>HIV</td>\n",
       "      <td>0.967272</td>\n",
       "      <td>0.811450</td>\n",
       "      <td>0.867213</td>\n",
       "      <td>ROC</td>\n",
       "      <td>799649</td>\n",
       "      <td>8</td>\n",
       "      <td>128</td>\n",
       "      <td>0.0001</td>\n",
       "      <td>0</td>\n",
       "    </tr>\n",
       "  </tbody>\n",
       "</table>\n",
       "</div>"
      ],
      "text/plain": [
       "  task_name  train_auc  valid_auc  test_auc metric  # trainable params  \\\n",
       "0       HIV   0.969231   0.833755  0.861667    ROC              799649   \n",
       "1       HIV   0.966617   0.814389  0.866764    ROC              799649   \n",
       "2       HIV   0.967272   0.811450  0.867213    ROC              799649   \n",
       "\n",
       "   best_epoch  batch_size      lr  weight_decay  \n",
       "0           8         128  0.0001             0  \n",
       "1           8         128  0.0001             0  \n",
       "2           8         128  0.0001             0  "
      ]
     },
     "execution_count": 12,
     "metadata": {},
     "output_type": "execute_result"
    }
   ],
   "source": [
    "pd.DataFrame(results)"
   ]
  },
  {
   "cell_type": "code",
   "execution_count": 13,
   "metadata": {},
   "outputs": [],
   "source": [
    "pd.DataFrame(results).to_csv('./results/%s.csv' % task_name)"
   ]
  },
  {
   "cell_type": "code",
   "execution_count": null,
   "metadata": {},
   "outputs": [],
   "source": []
  }
 ],
 "metadata": {
  "kernelspec": {
   "display_name": "Python 3",
   "language": "python",
   "name": "python3"
  },
  "language_info": {
   "codemirror_mode": {
    "name": "ipython",
    "version": 3
   },
   "file_extension": ".py",
   "mimetype": "text/x-python",
   "name": "python",
   "nbconvert_exporter": "python",
   "pygments_lexer": "ipython3",
   "version": "3.6.9"
  }
 },
 "nbformat": 4,
 "nbformat_minor": 4
}
