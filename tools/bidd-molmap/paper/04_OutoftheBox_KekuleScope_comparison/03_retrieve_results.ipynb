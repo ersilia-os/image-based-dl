{
 "cells": [
  {
   "cell_type": "code",
   "execution_count": 1,
   "metadata": {},
   "outputs": [],
   "source": [
    "import pandas as pd\n",
    "from glob import glob"
   ]
  },
  {
   "cell_type": "code",
   "execution_count": 2,
   "metadata": {},
   "outputs": [],
   "source": [
    "csvs = glob('./results/*.csv')\n",
    "r = []\n",
    "for csv in csvs:\n",
    "    df = pd.read_csv(csv, index_col = 0)\n",
    "    df['model'] = csv.split('results_')[1].split('_')[0]\n",
    "    r.append(df)"
   ]
  },
  {
   "cell_type": "code",
   "execution_count": 3,
   "metadata": {},
   "outputs": [],
   "source": [
    "dfres = pd.concat(r)"
   ]
  },
  {
   "cell_type": "code",
   "execution_count": 4,
   "metadata": {},
   "outputs": [],
   "source": [
    "def format_groud(df):\n",
    "    res = {  \n",
    "            'train_rmse': '%.3f ± %.3f' % (df.train_rmse.mean(), df.train_rmse.std()),  \n",
    "            'valid_rmse': '%.3f ± %.3f' % (df.valid_rmse.mean(), df.valid_rmse.std()),            \n",
    "            'test_rmse': '%.3f ± %.3f' % (df.test_rmse.mean(), df.test_rmse.std()),  \n",
    "           \n",
    "            'train_r2': '%.3f ± %.3f' % (df.train_r2.mean(), df.train_r2.std()), \n",
    "            'valid_r2': '%.3f ± %.3f' % (df.valid_r2.mean(), df.valid_r2.std()),\n",
    "            'test_r2': '%.3f ± %.3f' % (df.test_r2.mean(), df.test_r2.std()), \n",
    "        \n",
    "            'random_seed': df.random_seed.tolist(),\n",
    "            'best_epoch': df.best_epoch.tolist(),\n",
    "            'batch_size': df.batch_size.iloc[0],\n",
    "            'lr': df.lr.iloc[0],\n",
    "            'data_split_seed': df.data_split_seed.iloc[0],\n",
    "            '# trainable params': df['# trainable params'].iloc[0],\n",
    " \n",
    "          }\n",
    "    return res"
   ]
  },
  {
   "cell_type": "code",
   "execution_count": 5,
   "metadata": {},
   "outputs": [],
   "source": [
    "dfx = dfres.groupby(['model', 'cell_line']).apply(format_groud).apply(pd.Series)"
   ]
  },
  {
   "cell_type": "code",
   "execution_count": 6,
   "metadata": {},
   "outputs": [],
   "source": [
    "dfx.reset_index().to_csv('results.csv')"
   ]
  },
  {
   "cell_type": "code",
   "execution_count": 7,
   "metadata": {},
   "outputs": [
    {
     "data": {
      "text/plain": [
       "'/home/sxh/Research/bidd-molmap/paper/03_KekuleScope_comparison'"
      ]
     },
     "execution_count": 7,
     "metadata": {},
     "output_type": "execute_result"
    }
   ],
   "source": [
    "pwd"
   ]
  },
  {
   "cell_type": "code",
   "execution_count": null,
   "metadata": {},
   "outputs": [],
   "source": []
  }
 ],
 "metadata": {
  "kernelspec": {
   "display_name": "Python 3",
   "language": "python",
   "name": "python3"
  },
  "language_info": {
   "codemirror_mode": {
    "name": "ipython",
    "version": 3
   },
   "file_extension": ".py",
   "mimetype": "text/x-python",
   "name": "python",
   "nbconvert_exporter": "python",
   "pygments_lexer": "ipython3",
   "version": "3.6.9"
  }
 },
 "nbformat": 4,
 "nbformat_minor": 4
}
