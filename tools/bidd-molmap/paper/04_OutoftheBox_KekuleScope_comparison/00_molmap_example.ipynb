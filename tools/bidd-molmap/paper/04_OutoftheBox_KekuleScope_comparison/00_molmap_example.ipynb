{
 "cells": [
  {
   "cell_type": "code",
   "execution_count": 1,
   "metadata": {},
   "outputs": [],
   "source": [
    "from molmap.extend.kekulescope import dataset\n",
    "from molmap.extend.kekulescope import featurizer\n",
    "from molmap import model as molmodel\n",
    "import molmap\n",
    "\n",
    "import matplotlib.pyplot as plt\n",
    "\n",
    "import pandas as pd\n",
    "from tqdm import tqdm\n",
    "from joblib import load, dump\n",
    "tqdm.pandas(ascii=True)\n",
    "import numpy as np\n",
    "\n",
    "\n",
    "%matplotlib inline\n",
    "#use GPU, if negative value, CPUs will be used\n",
    "import os\n",
    "os.environ[\"CUDA_VISIBLE_DEVICES\"]=\"6\"\n",
    "\n",
    "\n",
    "import tensorflow as tf\n",
    "seed = 777\n",
    "np.random.seed(seed)\n",
    "tf.compat.v1.set_random_seed(seed)\n"
   ]
  },
  {
   "cell_type": "code",
   "execution_count": 2,
   "metadata": {},
   "outputs": [
    {
     "data": {
      "text/plain": [
       "['A2780', 'CCRF-CEM', 'DU-145', 'HCT-15', 'KB', 'LoVo', 'PC-3', 'SK-OV-3']"
      ]
     },
     "execution_count": 2,
     "metadata": {},
     "output_type": "execute_result"
    }
   ],
   "source": [
    "dataset.cell_lines"
   ]
  },
  {
   "cell_type": "code",
   "execution_count": 3,
   "metadata": {},
   "outputs": [],
   "source": [
    "cell_line = 'HCT-15'"
   ]
  },
  {
   "cell_type": "code",
   "execution_count": 4,
   "metadata": {},
   "outputs": [],
   "source": [
    "df = dataset.load_data(cell_line)\n",
    "df = df[~df.pIC50.isna()].reset_index(drop=True)"
   ]
  },
  {
   "cell_type": "code",
   "execution_count": 5,
   "metadata": {},
   "outputs": [],
   "source": [
    "mp1 = molmap.loadmap('../descriptor_grid_split.mp')\n",
    "mp2 = molmap.loadmap('../fingerprint_grid_split.mp')\n",
    "\n",
    "\n",
    "if not os.path.exists('X1.data'):\n",
    "    X1 = mp1.batch_transform(df.smiles, n_jobs = 8)\n",
    "    dump(X1, './X1.data')\n",
    "else:\n",
    "    X1 = load('./X1.data')\n",
    "    \n",
    "    \n",
    "if not os.path.exists('X2.data'): \n",
    "    X2 = mp2.batch_transform(df.smiles)\n",
    "    dump(X2, './X2.data')\n",
    "else:\n",
    "    X2 = load('./X2.data')"
   ]
  },
  {
   "cell_type": "code",
   "execution_count": 6,
   "metadata": {},
   "outputs": [],
   "source": [
    "Y = df['pIC50'].astype('float').values.reshape(-1,1)"
   ]
  },
  {
   "cell_type": "code",
   "execution_count": 7,
   "metadata": {},
   "outputs": [
    {
     "name": "stdout",
     "output_type": "stream",
     "text": [
      "695 148 148\n"
     ]
    }
   ],
   "source": [
    "def split(df, random_state = 123, split_size = [0.7, 0.15, 0.15]):\n",
    "    from sklearn.utils import shuffle\n",
    "    base_indices = np.arange(len(df))\n",
    "    base_indices = shuffle(base_indices, random_state  = random_state)\n",
    "    nb_test = int(len(base_indices) * split_size[2])\n",
    "    nb_val = int(len(base_indices) * split_size[1])\n",
    "\n",
    "    test_idx = base_indices[1:nb_test]\n",
    "    valid_idx = base_indices[(nb_test+1):(nb_test+nb_val)]\n",
    "    train_idx = base_indices[(nb_test+nb_val+1):len(base_indices)]\n",
    "\n",
    "    print(len(train_idx), len(valid_idx), len(test_idx))\n",
    "    return train_idx, valid_idx, test_idx\n",
    "train_idx, valid_idx, test_idx = split(df, random_state = 1)"
   ]
  },
  {
   "cell_type": "code",
   "execution_count": 8,
   "metadata": {},
   "outputs": [],
   "source": [
    "trainX = (X1[train_idx], X2[train_idx])\n",
    "trainY = Y[train_idx]\n",
    "\n",
    "validX = (X1[valid_idx], X2[valid_idx])\n",
    "validY = Y[valid_idx]\n",
    "\n",
    "testX = (X1[test_idx], X2[test_idx])\n",
    "testY = Y[test_idx]"
   ]
  },
  {
   "cell_type": "code",
   "execution_count": 9,
   "metadata": {},
   "outputs": [
    {
     "data": {
      "text/plain": [
       "136767"
      ]
     },
     "execution_count": 9,
     "metadata": {},
     "output_type": "execute_result"
    }
   ],
   "source": [
    "molmap1_size = X1.shape[1:]\n",
    "molmap2_size = X2.shape[1:]\n",
    "\n",
    "\n",
    "performace = molmodel.cbks.Reg_EarlyStoppingAndPerformance((trainX, trainY), \n",
    "                                                           (validX, validY), \n",
    "                                                           patience = 20, \n",
    "                                                           criteria = 'val_loss')\n",
    "\n",
    "model = molmodel.net.DoublePathNet(molmap1_size, molmap2_size, \n",
    "                                   n_outputs=1, dense_layers=[256, 128, 32], \n",
    "                                   dense_avf='relu', last_avf='linear')\n",
    "\n",
    "opt = tf.keras.optimizers.Adam(lr=0.0001, beta_1=0.9, beta_2=0.999, epsilon=1e-08, decay=0.0) #\n",
    "#import tensorflow_addons as tfa\n",
    "#opt = tfa.optimizers.AdamW(weight_decay = 0.1,learning_rate=0.001,beta1=0.9,beta2=0.999, epsilon=1e-08)\n",
    "model.compile(optimizer = opt, loss = 'mse')\n",
    "model.count_params()"
   ]
  },
  {
   "cell_type": "code",
   "execution_count": 10,
   "metadata": {},
   "outputs": [
    {
     "name": "stdout",
     "output_type": "stream",
     "text": [
      "epoch: 0001, loss: 34.5207 - val_loss: 32.1990; rmse: 5.5960 - rmse_val: 5.6744;  r2: 0.0002 - r2_val: 0.0029                                                                                                    \n",
      "epoch: 0002, loss: 29.2995 - val_loss: 26.1972; rmse: 5.0401 - rmse_val: 5.1183;  r2: 0.0009 - r2_val: 0.0105                                                                                                    \n",
      "epoch: 0003, loss: 22.3314 - val_loss: 17.0460; rmse: 4.0517 - rmse_val: 4.1287;  r2: 0.0013 - r2_val: 0.0134                                                                                                    \n",
      "epoch: 0004, loss: 12.1950 - val_loss: 5.6846; rmse: 2.3380 - rmse_val: 2.3842;  r2: 0.0018 - r2_val: 0.0194                                                                                                    \n",
      "epoch: 0005, loss: 3.2080 - val_loss: 2.4967; rmse: 1.7739 - rmse_val: 1.5801;  r2: 0.0020 - r2_val: 0.0224                                                                                                    \n",
      "epoch: 0006, loss: 4.0826 - val_loss: 2.6009; rmse: 1.8073 - rmse_val: 1.6127;  r2: 0.0027 - r2_val: 0.0246                                                                                                    \n",
      "epoch: 0007, loss: 2.4247 - val_loss: 1.9780; rmse: 1.4673 - rmse_val: 1.4064;  r2: 0.0034 - r2_val: 0.0254                                                                                                    \n",
      "epoch: 0008, loss: 2.3955 - val_loss: 2.4074; rmse: 1.5783 - rmse_val: 1.5516;  r2: 0.0044 - r2_val: 0.0276                                                                                                    \n",
      "epoch: 0009, loss: 2.2816 - val_loss: 1.7636; rmse: 1.4158 - rmse_val: 1.3280;  r2: 0.0052 - r2_val: 0.0294                                                                                                    \n",
      "epoch: 0010, loss: 2.0113 - val_loss: 1.6906; rmse: 1.4408 - rmse_val: 1.3002;  r2: 0.0064 - r2_val: 0.0321                                                                                                    \n",
      "epoch: 0011, loss: 2.0474 - val_loss: 1.6476; rmse: 1.4021 - rmse_val: 1.2836;  r2: 0.0082 - r2_val: 0.0354                                                                                                    \n",
      "epoch: 0012, loss: 1.9529 - val_loss: 1.7442; rmse: 1.4028 - rmse_val: 1.3207;  r2: 0.0105 - r2_val: 0.0394                                                                                                    \n",
      "epoch: 0013, loss: 1.9657 - val_loss: 1.6813; rmse: 1.3878 - rmse_val: 1.2967;  r2: 0.0133 - r2_val: 0.0441                                                                                                    \n",
      "epoch: 0014, loss: 1.9014 - val_loss: 1.6063; rmse: 1.3824 - rmse_val: 1.2674;  r2: 0.0162 - r2_val: 0.0489                                                                                                    \n",
      "epoch: 0015, loss: 1.9142 - val_loss: 1.5917; rmse: 1.3756 - rmse_val: 1.2616;  r2: 0.0200 - r2_val: 0.0546                                                                                                    \n",
      "epoch: 0016, loss: 1.8731 - val_loss: 1.6095; rmse: 1.3650 - rmse_val: 1.2687;  r2: 0.0248 - r2_val: 0.0613                                                                                                    \n",
      "epoch: 0017, loss: 1.8635 - val_loss: 1.6219; rmse: 1.3621 - rmse_val: 1.2735;  r2: 0.0299 - r2_val: 0.0680                                                                                                    \n",
      "epoch: 0018, loss: 1.8400 - val_loss: 1.5633; rmse: 1.3515 - rmse_val: 1.2503;  r2: 0.0351 - r2_val: 0.0748                                                                                                    \n",
      "epoch: 0019, loss: 1.8328 - val_loss: 1.5335; rmse: 1.3507 - rmse_val: 1.2383;  r2: 0.0410 - r2_val: 0.0822                                                                                                    \n",
      "epoch: 0020, loss: 1.8105 - val_loss: 1.5481; rmse: 1.3385 - rmse_val: 1.2442;  r2: 0.0492 - r2_val: 0.0915                                                                                                    \n",
      "epoch: 0021, loss: 1.7867 - val_loss: 1.5323; rmse: 1.3316 - rmse_val: 1.2378;  r2: 0.0574 - r2_val: 0.1010                                                                                                    \n",
      "epoch: 0022, loss: 1.7661 - val_loss: 1.4980; rmse: 1.3240 - rmse_val: 1.2239;  r2: 0.0664 - r2_val: 0.1113                                                                                                    \n",
      "epoch: 0023, loss: 1.7603 - val_loss: 1.4714; rmse: 1.3209 - rmse_val: 1.2130;  r2: 0.0756 - r2_val: 0.1215                                                                                                    \n",
      "epoch: 0024, loss: 1.7378 - val_loss: 1.4865; rmse: 1.3102 - rmse_val: 1.2192;  r2: 0.0884 - r2_val: 0.1333                                                                                                    \n",
      "epoch: 0025, loss: 1.7135 - val_loss: 1.4777; rmse: 1.3040 - rmse_val: 1.2156;  r2: 0.1004 - r2_val: 0.1450                                                                                                    \n",
      "epoch: 0026, loss: 1.6875 - val_loss: 1.4325; rmse: 1.2964 - rmse_val: 1.1969;  r2: 0.1110 - r2_val: 0.1549                                                                                                    \n",
      "epoch: 0027, loss: 1.6783 - val_loss: 1.4192; rmse: 1.2886 - rmse_val: 1.1913;  r2: 0.1246 - r2_val: 0.1666                                                                                                    \n",
      "epoch: 0028, loss: 1.6640 - val_loss: 1.4362; rmse: 1.2831 - rmse_val: 1.1984;  r2: 0.1403 - r2_val: 0.1796                                                                                                    \n",
      "epoch: 0029, loss: 1.6342 - val_loss: 1.3880; rmse: 1.2753 - rmse_val: 1.1781;  r2: 0.1515 - r2_val: 0.1884                                                                                                    \n",
      "epoch: 0030, loss: 1.6203 - val_loss: 1.3828; rmse: 1.2662 - rmse_val: 1.1759;  r2: 0.1679 - r2_val: 0.2012                                                                                                    \n",
      "epoch: 0031, loss: 1.5986 - val_loss: 1.3711; rmse: 1.2585 - rmse_val: 1.1710;  r2: 0.1845 - r2_val: 0.2141                                                                                                    \n",
      "epoch: 0032, loss: 1.5834 - val_loss: 1.3566; rmse: 1.2511 - rmse_val: 1.1647;  r2: 0.2007 - r2_val: 0.2269                                                                                                    \n",
      "epoch: 0033, loss: 1.5828 - val_loss: 1.3278; rmse: 1.2442 - rmse_val: 1.1523;  r2: 0.2156 - r2_val: 0.2388                                                                                                    \n",
      "epoch: 0034, loss: 1.5414 - val_loss: 1.3537; rmse: 1.2398 - rmse_val: 1.1635;  r2: 0.2363 - r2_val: 0.2534                                                                                                    \n",
      "epoch: 0035, loss: 1.5263 - val_loss: 1.2982; rmse: 1.2279 - rmse_val: 1.1394;  r2: 0.2483 - r2_val: 0.2614                                                                                                    \n",
      "epoch: 0036, loss: 1.5020 - val_loss: 1.2923; rmse: 1.2187 - rmse_val: 1.1368;  r2: 0.2660 - r2_val: 0.2730                                                                                                    \n",
      "epoch: 0037, loss: 1.4788 - val_loss: 1.2777; rmse: 1.2098 - rmse_val: 1.1304;  r2: 0.2798 - r2_val: 0.2821                                                                                                    \n",
      "epoch: 0038, loss: 1.4673 - val_loss: 1.2568; rmse: 1.1980 - rmse_val: 1.1211;  r2: 0.2919 - r2_val: 0.2882                                                                                                    \n",
      "epoch: 0039, loss: 1.4542 - val_loss: 1.2489; rmse: 1.1887 - rmse_val: 1.1176;  r2: 0.3098 - r2_val: 0.2997                                                                                                    \n",
      "epoch: 0040, loss: 1.4064 - val_loss: 1.2099; rmse: 1.1773 - rmse_val: 1.0999;  r2: 0.3244 - r2_val: 0.3105                                                                                                    \n",
      "epoch: 0041, loss: 1.3782 - val_loss: 1.1958; rmse: 1.1661 - rmse_val: 1.0935;  r2: 0.3443 - r2_val: 0.3252                                                                                                    \n",
      "epoch: 0042, loss: 1.3493 - val_loss: 1.1687; rmse: 1.1554 - rmse_val: 1.0811;  r2: 0.3619 - r2_val: 0.3379                                                                                                    \n",
      "epoch: 0043, loss: 1.3318 - val_loss: 1.1594; rmse: 1.1427 - rmse_val: 1.0767;  r2: 0.3813 - r2_val: 0.3506                                                                                                    \n",
      "epoch: 0044, loss: 1.3000 - val_loss: 1.1378; rmse: 1.1299 - rmse_val: 1.0667;  r2: 0.3969 - r2_val: 0.3598                                                                                                    \n",
      "epoch: 0045, loss: 1.2702 - val_loss: 1.1116; rmse: 1.1179 - rmse_val: 1.0543;  r2: 0.4095 - r2_val: 0.3674                                                                                                    \n",
      "epoch: 0046, loss: 1.2455 - val_loss: 1.1005; rmse: 1.1042 - rmse_val: 1.0491;  r2: 0.4269 - r2_val: 0.3791                                                                                                    \n",
      "epoch: 0047, loss: 1.2138 - val_loss: 1.0890; rmse: 1.0919 - rmse_val: 1.0436;  r2: 0.4413 - r2_val: 0.3880                                                                                                    \n",
      "epoch: 0048, loss: 1.1740 - val_loss: 1.0573; rmse: 1.0844 - rmse_val: 1.0282;  r2: 0.4530 - r2_val: 0.3961                                                                                                    \n",
      "epoch: 0049, loss: 1.1660 - val_loss: 1.0853; rmse: 1.0766 - rmse_val: 1.0418;  r2: 0.4727 - r2_val: 0.4111                                                                                                    \n",
      "epoch: 0050, loss: 1.1762 - val_loss: 1.0167; rmse: 1.0579 - rmse_val: 1.0083;  r2: 0.4812 - r2_val: 0.4187                                                                                                    \n",
      "epoch: 0051, loss: 1.1238 - val_loss: 1.0364; rmse: 1.0483 - rmse_val: 1.0180;  r2: 0.4983 - r2_val: 0.4319                                                                                                    \n",
      "epoch: 0052, loss: 1.1262 - val_loss: 0.9757; rmse: 1.0292 - rmse_val: 0.9878;  r2: 0.5085 - r2_val: 0.4401                                                                                                    \n",
      "epoch: 0053, loss: 1.0936 - val_loss: 0.9908; rmse: 1.0203 - rmse_val: 0.9954;  r2: 0.5229 - r2_val: 0.4516                                                                                                    \n",
      "epoch: 0054, loss: 1.0888 - val_loss: 0.9369; rmse: 1.0004 - rmse_val: 0.9679;  r2: 0.5319 - r2_val: 0.4590                                                                                                    \n",
      "epoch: 0055, loss: 1.0288 - val_loss: 0.9408; rmse: 0.9900 - rmse_val: 0.9699;  r2: 0.5430 - r2_val: 0.4679                                                                                                    \n",
      "epoch: 0056, loss: 0.9968 - val_loss: 0.9033; rmse: 0.9739 - rmse_val: 0.9504;  r2: 0.5518 - r2_val: 0.4748                                                                                                    \n",
      "epoch: 0057, loss: 0.9567 - val_loss: 0.8991; rmse: 0.9617 - rmse_val: 0.9482;  r2: 0.5619 - r2_val: 0.4832                                                                                                    \n",
      "epoch: 0058, loss: 0.9422 - val_loss: 0.8744; rmse: 0.9516 - rmse_val: 0.9351;  r2: 0.5705 - r2_val: 0.4901                                                                                                    \n",
      "epoch: 0059, loss: 0.8987 - val_loss: 0.8630; rmse: 0.9357 - rmse_val: 0.9290;  r2: 0.5796 - r2_val: 0.4984                                                                                                    \n",
      "epoch: 0060, loss: 0.8702 - val_loss: 0.8504; rmse: 0.9355 - rmse_val: 0.9222;  r2: 0.5898 - r2_val: 0.5090                                                                                                    \n",
      "epoch: 0061, loss: 0.8642 - val_loss: 0.8462; rmse: 0.9181 - rmse_val: 0.9199;  r2: 0.5986 - r2_val: 0.5170                                                                                                    \n",
      "epoch: 0062, loss: 0.8335 - val_loss: 0.8106; rmse: 0.9017 - rmse_val: 0.9003;  r2: 0.6051 - r2_val: 0.5222                                                                                                    \n",
      "epoch: 0063, loss: 0.8116 - val_loss: 0.7968; rmse: 0.8867 - rmse_val: 0.8926;  r2: 0.6125 - r2_val: 0.5280                                                                                                    \n",
      "epoch: 0064, loss: 0.7809 - val_loss: 0.7843; rmse: 0.8765 - rmse_val: 0.8856;  r2: 0.6193 - r2_val: 0.5341                                                                                                    \n",
      "epoch: 0065, loss: 0.7622 - val_loss: 0.7921; rmse: 0.8720 - rmse_val: 0.8900;  r2: 0.6262 - r2_val: 0.5408                                                                                                    \n",
      "epoch: 0066, loss: 0.7548 - val_loss: 0.7616; rmse: 0.8554 - rmse_val: 0.8727;  r2: 0.6320 - r2_val: 0.5457                                                                                                    \n",
      "epoch: 0067, loss: 0.7410 - val_loss: 0.7647; rmse: 0.8567 - rmse_val: 0.8744;  r2: 0.6378 - r2_val: 0.5502                                                                                                    \n",
      "epoch: 0068, loss: 0.7230 - val_loss: 0.7612; rmse: 0.8429 - rmse_val: 0.8725;  r2: 0.6435 - r2_val: 0.5549                                                                                                    \n",
      "epoch: 0069, loss: 0.7054 - val_loss: 0.7379; rmse: 0.8279 - rmse_val: 0.8590;  r2: 0.6490 - r2_val: 0.5584                                                                                                    \n",
      "epoch: 0070, loss: 0.6831 - val_loss: 0.7335; rmse: 0.8201 - rmse_val: 0.8564;  r2: 0.6546 - r2_val: 0.5626                                                                                                    \n",
      "epoch: 0071, loss: 0.6677 - val_loss: 0.7240; rmse: 0.8124 - rmse_val: 0.8509;  r2: 0.6605 - r2_val: 0.5668                                                                                                    \n",
      "epoch: 0072, loss: 0.6590 - val_loss: 0.7162; rmse: 0.8031 - rmse_val: 0.8463;  r2: 0.6662 - r2_val: 0.5712                                                                                                    \n",
      "epoch: 0073, loss: 0.6468 - val_loss: 0.7456; rmse: 0.8148 - rmse_val: 0.8635;  r2: 0.6717 - r2_val: 0.5776                                                                                                    \n",
      "epoch: 0074, loss: 0.6721 - val_loss: 0.7113; rmse: 0.7998 - rmse_val: 0.8434;  r2: 0.6771 - r2_val: 0.5815                                                                                                    \n",
      "epoch: 0075, loss: 0.6325 - val_loss: 0.6925; rmse: 0.7815 - rmse_val: 0.8322;  r2: 0.6827 - r2_val: 0.5854                                                                                                    \n",
      "epoch: 0076, loss: 0.6104 - val_loss: 0.6868; rmse: 0.7762 - rmse_val: 0.8287;  r2: 0.6881 - r2_val: 0.5897                                                                                                    \n",
      "epoch: 0077, loss: 0.6110 - val_loss: 0.7597; rmse: 0.8118 - rmse_val: 0.8716;  r2: 0.6921 - r2_val: 0.5926                                                                                                    \n",
      "epoch: 0078, loss: 0.6143 - val_loss: 0.6808; rmse: 0.7651 - rmse_val: 0.8251;  r2: 0.6973 - r2_val: 0.5947                                                                                                    \n",
      "epoch: 0079, loss: 0.5785 - val_loss: 0.6795; rmse: 0.7577 - rmse_val: 0.8243;  r2: 0.7020 - r2_val: 0.5984                                                                                                    \n",
      "epoch: 0080, loss: 0.5733 - val_loss: 0.6659; rmse: 0.7485 - rmse_val: 0.8160;  r2: 0.7073 - r2_val: 0.6029                                                                                                    \n",
      "epoch: 0081, loss: 0.5605 - val_loss: 0.6616; rmse: 0.7425 - rmse_val: 0.8134;  r2: 0.7121 - r2_val: 0.6064                                                                                                    \n",
      "epoch: 0082, loss: 0.5625 - val_loss: 0.6859; rmse: 0.7530 - rmse_val: 0.8282;  r2: 0.7162 - r2_val: 0.6092                                                                                                    \n",
      "epoch: 0083, loss: 0.5494 - val_loss: 0.6499; rmse: 0.7299 - rmse_val: 0.8062;  r2: 0.7216 - r2_val: 0.6130                                                                                                    \n",
      "epoch: 0084, loss: 0.5313 - val_loss: 0.6417; rmse: 0.7228 - rmse_val: 0.8010;  r2: 0.7263 - r2_val: 0.6167                                                                                                    \n",
      "epoch: 0085, loss: 0.5218 - val_loss: 0.6377; rmse: 0.7170 - rmse_val: 0.7986;  r2: 0.7308 - r2_val: 0.6201                                                                                                    \n",
      "epoch: 0086, loss: 0.5224 - val_loss: 0.6387; rmse: 0.7125 - rmse_val: 0.7992;  r2: 0.7353 - r2_val: 0.6218                                                                                                    \n",
      "epoch: 0087, loss: 0.5036 - val_loss: 0.6294; rmse: 0.7039 - rmse_val: 0.7933;  r2: 0.7402 - r2_val: 0.6247                                                                                                    \n",
      "epoch: 0088, loss: 0.5079 - val_loss: 0.6269; rmse: 0.6992 - rmse_val: 0.7918;  r2: 0.7446 - r2_val: 0.6276                                                                                                    \n",
      "epoch: 0089, loss: 0.4959 - val_loss: 0.6636; rmse: 0.7230 - rmse_val: 0.8146;  r2: 0.7494 - r2_val: 0.6288                                                                                                    \n",
      "epoch: 0090, loss: 0.4904 - val_loss: 0.6241; rmse: 0.6895 - rmse_val: 0.7900;  r2: 0.7531 - r2_val: 0.6303                                                                                                    \n",
      "epoch: 0091, loss: 0.4805 - val_loss: 0.6156; rmse: 0.6810 - rmse_val: 0.7846;  r2: 0.7575 - r2_val: 0.6339                                                                                                    \n",
      "epoch: 0092, loss: 0.4636 - val_loss: 0.6234; rmse: 0.6838 - rmse_val: 0.7895;  r2: 0.7613 - r2_val: 0.6364                                                                                                    \n",
      "epoch: 0093, loss: 0.4551 - val_loss: 0.6346; rmse: 0.6908 - rmse_val: 0.7966;  r2: 0.7671 - r2_val: 0.6391                                                                                                    \n",
      "epoch: 0094, loss: 0.4668 - val_loss: 0.6493; rmse: 0.6978 - rmse_val: 0.8058;  r2: 0.7714 - r2_val: 0.6409                                                                                                    \n",
      "epoch: 0095, loss: 0.4662 - val_loss: 0.6175; rmse: 0.6707 - rmse_val: 0.7858;  r2: 0.7738 - r2_val: 0.6430                                                                                                    \n",
      "epoch: 0096, loss: 0.4449 - val_loss: 0.6285; rmse: 0.6776 - rmse_val: 0.7928;  r2: 0.7772 - r2_val: 0.6461                                                                                                    \n",
      "epoch: 0097, loss: 0.4641 - val_loss: 0.6244; rmse: 0.6716 - rmse_val: 0.7902;  r2: 0.7808 - r2_val: 0.6481                                                                                                    \n",
      "epoch: 0098, loss: 0.4276 - val_loss: 0.5917; rmse: 0.6425 - rmse_val: 0.7692;  r2: 0.7851 - r2_val: 0.6489                                                                                                    \n",
      "epoch: 0099, loss: 0.4140 - val_loss: 0.5862; rmse: 0.6361 - rmse_val: 0.7656;  r2: 0.7890 - r2_val: 0.6516                                                                                                    \n",
      "epoch: 0100, loss: 0.4044 - val_loss: 0.5861; rmse: 0.6350 - rmse_val: 0.7656;  r2: 0.7923 - r2_val: 0.6543                                                                                                    \n",
      "epoch: 0101, loss: 0.4030 - val_loss: 0.6238; rmse: 0.6639 - rmse_val: 0.7898;  r2: 0.7946 - r2_val: 0.6567                                                                                                    \n",
      "epoch: 0102, loss: 0.4126 - val_loss: 0.5746; rmse: 0.6200 - rmse_val: 0.7581;  r2: 0.7994 - r2_val: 0.6579                                                                                                    \n",
      "epoch: 0103, loss: 0.4138 - val_loss: 0.6100; rmse: 0.6425 - rmse_val: 0.7810;  r2: 0.8031 - r2_val: 0.6583                                                                                                    \n",
      "epoch: 0104, loss: 0.3947 - val_loss: 0.5896; rmse: 0.6241 - rmse_val: 0.7678;  r2: 0.8062 - r2_val: 0.6604                                                                                                    \n",
      "epoch: 0105, loss: 0.3863 - val_loss: 0.5683; rmse: 0.6064 - rmse_val: 0.7538;  r2: 0.8091 - r2_val: 0.6635                                                                                                    \n",
      "epoch: 0106, loss: 0.3654 - val_loss: 0.5654; rmse: 0.6074 - rmse_val: 0.7519;  r2: 0.8116 - r2_val: 0.6674                                                                                                    \n",
      "epoch: 0107, loss: 0.3630 - val_loss: 0.5653; rmse: 0.6020 - rmse_val: 0.7519;  r2: 0.8146 - r2_val: 0.6676                                                                                                    \n",
      "epoch: 0108, loss: 0.3697 - val_loss: 0.5600; rmse: 0.5899 - rmse_val: 0.7483;  r2: 0.8181 - r2_val: 0.6676                                                                                                    \n",
      "epoch: 0109, loss: 0.3520 - val_loss: 0.5945; rmse: 0.6115 - rmse_val: 0.7710;  r2: 0.8216 - r2_val: 0.6683                                                                                                    \n",
      "epoch: 0110, loss: 0.3502 - val_loss: 0.5579; rmse: 0.5800 - rmse_val: 0.7469;  r2: 0.8238 - r2_val: 0.6691                                                                                                    \n",
      "epoch: 0111, loss: 0.3479 - val_loss: 0.5527; rmse: 0.5748 - rmse_val: 0.7435;  r2: 0.8271 - r2_val: 0.6716                                                                                                    \n",
      "epoch: 0112, loss: 0.3414 - val_loss: 0.5683; rmse: 0.5815 - rmse_val: 0.7538;  r2: 0.8300 - r2_val: 0.6727                                                                                                    \n",
      "epoch: 0113, loss: 0.3357 - val_loss: 0.5782; rmse: 0.5878 - rmse_val: 0.7604;  r2: 0.8328 - r2_val: 0.6743                                                                                                    \n",
      "epoch: 0114, loss: 0.3401 - val_loss: 0.5724; rmse: 0.5797 - rmse_val: 0.7566;  r2: 0.8357 - r2_val: 0.6744                                                                                                    \n",
      "epoch: 0115, loss: 0.3226 - val_loss: 0.5698; rmse: 0.5714 - rmse_val: 0.7548;  r2: 0.8375 - r2_val: 0.6737                                                                                                    \n",
      "epoch: 0116, loss: 0.3280 - val_loss: 0.5694; rmse: 0.5677 - rmse_val: 0.7546;  r2: 0.8397 - r2_val: 0.6749                                                                                                    \n",
      "epoch: 0117, loss: 0.3172 - val_loss: 0.5527; rmse: 0.5555 - rmse_val: 0.7434;  r2: 0.8432 - r2_val: 0.6786                                                                                                    \n",
      "epoch: 0118, loss: 0.3034 - val_loss: 0.5407; rmse: 0.5459 - rmse_val: 0.7353;  r2: 0.8458 - r2_val: 0.6810                                                                                                    \n",
      "epoch: 0119, loss: 0.2956 - val_loss: 0.5473; rmse: 0.5578 - rmse_val: 0.7398;  r2: 0.8470 - r2_val: 0.6834                                                                                                    \n",
      "epoch: 0120, loss: 0.3097 - val_loss: 0.5949; rmse: 0.5976 - rmse_val: 0.7713;  r2: 0.8477 - r2_val: 0.6831                                                                                                    \n",
      "epoch: 0121, loss: 0.3199 - val_loss: 0.5630; rmse: 0.5646 - rmse_val: 0.7503;  r2: 0.8506 - r2_val: 0.6835                                                                                                    \n",
      "epoch: 0122, loss: 0.3012 - val_loss: 0.5690; rmse: 0.5741 - rmse_val: 0.7543;  r2: 0.8529 - r2_val: 0.6863                                                                                                    \n",
      "epoch: 0123, loss: 0.3101 - val_loss: 0.5596; rmse: 0.5630 - rmse_val: 0.7481;  r2: 0.8554 - r2_val: 0.6875                                                                                                    \n",
      "epoch: 0124, loss: 0.3089 - val_loss: 0.5448; rmse: 0.5448 - rmse_val: 0.7381;  r2: 0.8573 - r2_val: 0.6887                                                                                                    \n",
      "epoch: 0125, loss: 0.3038 - val_loss: 0.5915; rmse: 0.5908 - rmse_val: 0.7691;  r2: 0.8572 - r2_val: 0.6898                                                                                                    \n",
      "epoch: 0126, loss: 0.3102 - val_loss: 0.6469; rmse: 0.6384 - rmse_val: 0.8043;  r2: 0.8569 - r2_val: 0.6895                                                                                                    \n",
      "epoch: 0127, loss: 0.3189 - val_loss: 0.5199; rmse: 0.5143 - rmse_val: 0.7210;  r2: 0.8633 - r2_val: 0.6910                                                                                                    \n",
      "epoch: 0128, loss: 0.2661 - val_loss: 0.5189; rmse: 0.5099 - rmse_val: 0.7203;  r2: 0.8653 - r2_val: 0.6921                                                                                                    \n",
      "epoch: 0129, loss: 0.2596 - val_loss: 0.5236; rmse: 0.5055 - rmse_val: 0.7236;  r2: 0.8671 - r2_val: 0.6920                                                                                                    \n",
      "epoch: 0130, loss: 0.2561 - val_loss: 0.5222; rmse: 0.5008 - rmse_val: 0.7226;  r2: 0.8688 - r2_val: 0.6926                                                                                                    \n",
      "epoch: 0131, loss: 0.2543 - val_loss: 0.5175; rmse: 0.4964 - rmse_val: 0.7194;  r2: 0.8705 - r2_val: 0.6941                                                                                                    \n",
      "epoch: 0132, loss: 0.2463 - val_loss: 0.5204; rmse: 0.4991 - rmse_val: 0.7214;  r2: 0.8720 - r2_val: 0.6947                                                                                                    \n",
      "epoch: 0133, loss: 0.2455 - val_loss: 0.5299; rmse: 0.5015 - rmse_val: 0.7280;  r2: 0.8745 - r2_val: 0.6962                                                                                                    \n",
      "epoch: 0134, loss: 0.2485 - val_loss: 0.5156; rmse: 0.4881 - rmse_val: 0.7181;  r2: 0.8759 - r2_val: 0.6982                                                                                                    \n",
      "epoch: 0135, loss: 0.2427 - val_loss: 0.5118; rmse: 0.4850 - rmse_val: 0.7154;  r2: 0.8775 - r2_val: 0.6983                                                                                                    \n",
      "epoch: 0136, loss: 0.2329 - val_loss: 0.5662; rmse: 0.5271 - rmse_val: 0.7525;  r2: 0.8798 - r2_val: 0.6979                                                                                                    \n",
      "epoch: 0137, loss: 0.2513 - val_loss: 0.5798; rmse: 0.5360 - rmse_val: 0.7615;  r2: 0.8812 - r2_val: 0.6982                                                                                                    \n",
      "epoch: 0138, loss: 0.2622 - val_loss: 0.5639; rmse: 0.5191 - rmse_val: 0.7510;  r2: 0.8824 - r2_val: 0.6980                                                                                                    \n",
      "epoch: 0139, loss: 0.2324 - val_loss: 0.5036; rmse: 0.4713 - rmse_val: 0.7097;  r2: 0.8841 - r2_val: 0.7016                                                                                                    \n",
      "epoch: 0140, loss: 0.2283 - val_loss: 0.5030; rmse: 0.4670 - rmse_val: 0.7092;  r2: 0.8857 - r2_val: 0.7025                                                                                                    \n",
      "epoch: 0141, loss: 0.2342 - val_loss: 0.4977; rmse: 0.4644 - rmse_val: 0.7055;  r2: 0.8874 - r2_val: 0.7049                                                                                                    \n",
      "epoch: 0142, loss: 0.2404 - val_loss: 0.4995; rmse: 0.4616 - rmse_val: 0.7068;  r2: 0.8886 - r2_val: 0.7055                                                                                                    \n",
      "epoch: 0143, loss: 0.2548 - val_loss: 0.5002; rmse: 0.4593 - rmse_val: 0.7072;  r2: 0.8896 - r2_val: 0.7056                                                                                                    \n",
      "epoch: 0144, loss: 0.2253 - val_loss: 0.5501; rmse: 0.4984 - rmse_val: 0.7417;  r2: 0.8899 - r2_val: 0.7037                                                                                                    \n",
      "epoch: 0145, loss: 0.2296 - val_loss: 0.5508; rmse: 0.4983 - rmse_val: 0.7422;  r2: 0.8909 - r2_val: 0.7051                                                                                                    \n",
      "epoch: 0146, loss: 0.2524 - val_loss: 0.5088; rmse: 0.4631 - rmse_val: 0.7133;  r2: 0.8927 - r2_val: 0.7086                                                                                                    \n",
      "epoch: 0147, loss: 0.2142 - val_loss: 0.4930; rmse: 0.4516 - rmse_val: 0.7021;  r2: 0.8946 - r2_val: 0.7105                                                                                                    \n",
      "epoch: 0148, loss: 0.2225 - val_loss: 0.4966; rmse: 0.4637 - rmse_val: 0.7047;  r2: 0.8954 - r2_val: 0.7118                                                                                                    \n",
      "epoch: 0149, loss: 0.2149 - val_loss: 0.4911; rmse: 0.4496 - rmse_val: 0.7008;  r2: 0.8964 - r2_val: 0.7107                                                                                                    \n",
      "epoch: 0150, loss: 0.2083 - val_loss: 0.4940; rmse: 0.4504 - rmse_val: 0.7029;  r2: 0.8972 - r2_val: 0.7112                                                                                                    \n",
      "epoch: 0151, loss: 0.1992 - val_loss: 0.4875; rmse: 0.4381 - rmse_val: 0.6982;  r2: 0.8990 - r2_val: 0.7120                                                                                                    \n",
      "epoch: 0152, loss: 0.1942 - val_loss: 0.4965; rmse: 0.4515 - rmse_val: 0.7046;  r2: 0.8997 - r2_val: 0.7124                                                                                                    \n",
      "epoch: 0153, loss: 0.1986 - val_loss: 0.5468; rmse: 0.5089 - rmse_val: 0.7394;  r2: 0.8997 - r2_val: 0.7123                                                                                                    \n",
      "epoch: 0154, loss: 0.2304 - val_loss: 0.5486; rmse: 0.5115 - rmse_val: 0.7407;  r2: 0.9009 - r2_val: 0.7138                                                                                                    \n",
      "epoch: 0155, loss: 0.2149 - val_loss: 0.5760; rmse: 0.5365 - rmse_val: 0.7589;  r2: 0.9017 - r2_val: 0.7136                                                                                                    \n",
      "epoch: 0156, loss: 0.2407 - val_loss: 0.5518; rmse: 0.5128 - rmse_val: 0.7428;  r2: 0.9030 - r2_val: 0.7143                                                                                                    \n",
      "epoch: 0157, loss: 0.2184 - val_loss: 0.4832; rmse: 0.4264 - rmse_val: 0.6951;  r2: 0.9054 - r2_val: 0.7136                                                                                                    \n",
      "epoch: 0158, loss: 0.1858 - val_loss: 0.5038; rmse: 0.4544 - rmse_val: 0.7098;  r2: 0.9048 - r2_val: 0.7145                                                                                                    \n",
      "epoch: 0159, loss: 0.2000 - val_loss: 0.5193; rmse: 0.4759 - rmse_val: 0.7206;  r2: 0.9052 - r2_val: 0.7162                                                                                                    \n",
      "epoch: 0160, loss: 0.2055 - val_loss: 0.5235; rmse: 0.4583 - rmse_val: 0.7236;  r2: 0.9082 - r2_val: 0.7152                                                                                                    \n",
      "epoch: 0161, loss: 0.1899 - val_loss: 0.5188; rmse: 0.4503 - rmse_val: 0.7203;  r2: 0.9086 - r2_val: 0.7157                                                                                                    \n",
      "epoch: 0162, loss: 0.1942 - val_loss: 0.4905; rmse: 0.4206 - rmse_val: 0.7003;  r2: 0.9097 - r2_val: 0.7168                                                                                                    \n",
      "epoch: 0163, loss: 0.1873 - val_loss: 0.4778; rmse: 0.4116 - rmse_val: 0.6912;  r2: 0.9107 - r2_val: 0.7179                                                                                                    \n",
      "epoch: 0164, loss: 0.1894 - val_loss: 0.4977; rmse: 0.4448 - rmse_val: 0.7055;  r2: 0.9107 - r2_val: 0.7188                                                                                                    \n",
      "epoch: 0165, loss: 0.1841 - val_loss: 0.4721; rmse: 0.4079 - rmse_val: 0.6871;  r2: 0.9131 - r2_val: 0.7200                                                                                                    \n",
      "epoch: 0166, loss: 0.1708 - val_loss: 0.4743; rmse: 0.4053 - rmse_val: 0.6887;  r2: 0.9137 - r2_val: 0.7196                                                                                                    \n",
      "epoch: 0167, loss: 0.1657 - val_loss: 0.4761; rmse: 0.4116 - rmse_val: 0.6900;  r2: 0.9140 - r2_val: 0.7208                                                                                                    \n",
      "epoch: 0168, loss: 0.1665 - val_loss: 0.4719; rmse: 0.4010 - rmse_val: 0.6869;  r2: 0.9153 - r2_val: 0.7213                                                                                                    \n",
      "epoch: 0169, loss: 0.1628 - val_loss: 0.4715; rmse: 0.4052 - rmse_val: 0.6866;  r2: 0.9161 - r2_val: 0.7228                                                                                                    \n",
      "epoch: 0170, loss: 0.1650 - val_loss: 0.4667; rmse: 0.3986 - rmse_val: 0.6832;  r2: 0.9171 - r2_val: 0.7241                                                                                                    \n",
      "epoch: 0171, loss: 0.1586 - val_loss: 0.4776; rmse: 0.4127 - rmse_val: 0.6911;  r2: 0.9174 - r2_val: 0.7236                                                                                                    \n",
      "epoch: 0172, loss: 0.1635 - val_loss: 0.4692; rmse: 0.3949 - rmse_val: 0.6850;  r2: 0.9184 - r2_val: 0.7225                                                                                                    \n",
      "epoch: 0173, loss: 0.1607 - val_loss: 0.4729; rmse: 0.3925 - rmse_val: 0.6876;  r2: 0.9196 - r2_val: 0.7219                                                                                                    \n",
      "epoch: 0174, loss: 0.1654 - val_loss: 0.4797; rmse: 0.3982 - rmse_val: 0.6926;  r2: 0.9204 - r2_val: 0.7226                                                                                                    \n",
      "epoch: 0175, loss: 0.1540 - val_loss: 0.4713; rmse: 0.3943 - rmse_val: 0.6865;  r2: 0.9209 - r2_val: 0.7233                                                                                                    \n",
      "epoch: 0176, loss: 0.1563 - val_loss: 0.4687; rmse: 0.3858 - rmse_val: 0.6846;  r2: 0.9218 - r2_val: 0.7245                                                                                                    \n",
      "epoch: 0177, loss: 0.1824 - val_loss: 0.4819; rmse: 0.4010 - rmse_val: 0.6942;  r2: 0.9226 - r2_val: 0.7259                                                                                                    \n",
      "epoch: 0178, loss: 0.1545 - val_loss: 0.4635; rmse: 0.3815 - rmse_val: 0.6808;  r2: 0.9233 - r2_val: 0.7259                                                                                                    \n",
      "epoch: 0179, loss: 0.1504 - val_loss: 0.4858; rmse: 0.4044 - rmse_val: 0.6970;  r2: 0.9238 - r2_val: 0.7267                                                                                                    \n",
      "epoch: 0180, loss: 0.1557 - val_loss: 0.5140; rmse: 0.4326 - rmse_val: 0.7169;  r2: 0.9239 - r2_val: 0.7263                                                                                                    \n",
      "epoch: 0181, loss: 0.1690 - val_loss: 0.4673; rmse: 0.3831 - rmse_val: 0.6836;  r2: 0.9243 - r2_val: 0.7254                                                                                                    \n",
      "epoch: 0182, loss: 0.1498 - val_loss: 0.4646; rmse: 0.3768 - rmse_val: 0.6816;  r2: 0.9260 - r2_val: 0.7268                                                                                                    \n",
      "epoch: 0183, loss: 0.1455 - val_loss: 0.4865; rmse: 0.4143 - rmse_val: 0.6975;  r2: 0.9255 - r2_val: 0.7280                                                                                                    \n",
      "epoch: 0184, loss: 0.1572 - val_loss: 0.5167; rmse: 0.4304 - rmse_val: 0.7188;  r2: 0.9267 - r2_val: 0.7268                                                                                                    \n",
      "epoch: 0185, loss: 0.1775 - val_loss: 0.5031; rmse: 0.4166 - rmse_val: 0.7093;  r2: 0.9269 - r2_val: 0.7286                                                                                                    \n",
      "epoch: 0186, loss: 0.1497 - val_loss: 0.4601; rmse: 0.3707 - rmse_val: 0.6783;  r2: 0.9278 - r2_val: 0.7300                                                                                                    \n",
      "epoch: 0187, loss: 0.1532 - val_loss: 0.4566; rmse: 0.3742 - rmse_val: 0.6757;  r2: 0.9287 - r2_val: 0.7318                                                                                                    \n",
      "epoch: 0188, loss: 0.1422 - val_loss: 0.4555; rmse: 0.3726 - rmse_val: 0.6749;  r2: 0.9293 - r2_val: 0.7325                                                                                                    \n",
      "epoch: 0189, loss: 0.1392 - val_loss: 0.4560; rmse: 0.3669 - rmse_val: 0.6753;  r2: 0.9299 - r2_val: 0.7311                                                                                                    \n",
      "epoch: 0190, loss: 0.1428 - val_loss: 0.4670; rmse: 0.3750 - rmse_val: 0.6834;  r2: 0.9309 - r2_val: 0.7315                                                                                                    \n",
      "epoch: 0191, loss: 0.1525 - val_loss: 0.4580; rmse: 0.3625 - rmse_val: 0.6767;  r2: 0.9312 - r2_val: 0.7302                                                                                                    \n",
      "epoch: 0192, loss: 0.1398 - val_loss: 0.5541; rmse: 0.4887 - rmse_val: 0.7444;  r2: 0.9291 - r2_val: 0.7304                                                                                                    \n",
      "epoch: 0193, loss: 0.1909 - val_loss: 0.4579; rmse: 0.3643 - rmse_val: 0.6767;  r2: 0.9323 - r2_val: 0.7313                                                                                                    \n",
      "epoch: 0194, loss: 0.1481 - val_loss: 0.4598; rmse: 0.3670 - rmse_val: 0.6781;  r2: 0.9326 - r2_val: 0.7327                                                                                                    \n",
      "epoch: 0195, loss: 0.1338 - val_loss: 0.4492; rmse: 0.3568 - rmse_val: 0.6702;  r2: 0.9328 - r2_val: 0.7348                                                                                                    \n",
      "epoch: 0196, loss: 0.1378 - val_loss: 0.5065; rmse: 0.4228 - rmse_val: 0.7117;  r2: 0.9332 - r2_val: 0.7344                                                                                                    \n",
      "epoch: 0197, loss: 0.1605 - val_loss: 0.4488; rmse: 0.3541 - rmse_val: 0.6699;  r2: 0.9340 - r2_val: 0.7353                                                                                                    \n",
      "epoch: 0198, loss: 0.1454 - val_loss: 0.4810; rmse: 0.3991 - rmse_val: 0.6936;  r2: 0.9334 - r2_val: 0.7346                                                                                                    \n",
      "epoch: 0199, loss: 0.1733 - val_loss: 0.5092; rmse: 0.4350 - rmse_val: 0.7136;  r2: 0.9328 - r2_val: 0.7346                                                                                                    \n",
      "epoch: 0200, loss: 0.1638 - val_loss: 0.4541; rmse: 0.3552 - rmse_val: 0.6739;  r2: 0.9348 - r2_val: 0.7348                                                                                                    \n",
      "epoch: 0201, loss: 0.1463 - val_loss: 0.4746; rmse: 0.3783 - rmse_val: 0.6889;  r2: 0.9350 - r2_val: 0.7340                                                                                                    \n",
      "epoch: 0202, loss: 0.1348 - val_loss: 0.4497; rmse: 0.3507 - rmse_val: 0.6706;  r2: 0.9359 - r2_val: 0.7345                                                                                                    \n",
      "epoch: 0203, loss: 0.1248 - val_loss: 0.4534; rmse: 0.3516 - rmse_val: 0.6733;  r2: 0.9363 - r2_val: 0.7342                                                                                                    \n",
      "epoch: 0204, loss: 0.1220 - val_loss: 0.4460; rmse: 0.3458 - rmse_val: 0.6679;  r2: 0.9368 - r2_val: 0.7370                                                                                                    \n",
      "epoch: 0205, loss: 0.1293 - val_loss: 0.4596; rmse: 0.3628 - rmse_val: 0.6779;  r2: 0.9374 - r2_val: 0.7372                                                                                                    \n",
      "epoch: 0206, loss: 0.1213 - val_loss: 0.4473; rmse: 0.3440 - rmse_val: 0.6688;  r2: 0.9379 - r2_val: 0.7362                                                                                                    \n",
      "epoch: 0207, loss: 0.1215 - val_loss: 0.4976; rmse: 0.4171 - rmse_val: 0.7054;  r2: 0.9369 - r2_val: 0.7357                                                                                                    \n",
      "epoch: 0208, loss: 0.1478 - val_loss: 0.4474; rmse: 0.3432 - rmse_val: 0.6689;  r2: 0.9387 - r2_val: 0.7362                                                                                                    \n",
      "epoch: 0209, loss: 0.1267 - val_loss: 0.4463; rmse: 0.3432 - rmse_val: 0.6681;  r2: 0.9390 - r2_val: 0.7378                                                                                                    \n",
      "epoch: 0210, loss: 0.1211 - val_loss: 0.4438; rmse: 0.3394 - rmse_val: 0.6661;  r2: 0.9395 - r2_val: 0.7381                                                                                                    \n",
      "epoch: 0211, loss: 0.1188 - val_loss: 0.4449; rmse: 0.3429 - rmse_val: 0.6670;  r2: 0.9397 - r2_val: 0.7389                                                                                                    \n",
      "epoch: 0212, loss: 0.1159 - val_loss: 0.4471; rmse: 0.3395 - rmse_val: 0.6686;  r2: 0.9404 - r2_val: 0.7385                                                                                                    \n",
      "epoch: 0213, loss: 0.1197 - val_loss: 0.4414; rmse: 0.3345 - rmse_val: 0.6644;  r2: 0.9408 - r2_val: 0.7396                                                                                                    \n",
      "epoch: 0214, loss: 0.1142 - val_loss: 0.4430; rmse: 0.3340 - rmse_val: 0.6656;  r2: 0.9415 - r2_val: 0.7388                                                                                                    \n",
      "epoch: 0215, loss: 0.1126 - val_loss: 0.4430; rmse: 0.3339 - rmse_val: 0.6656;  r2: 0.9417 - r2_val: 0.7385                                                                                                    \n",
      "epoch: 0216, loss: 0.1141 - val_loss: 0.4461; rmse: 0.3386 - rmse_val: 0.6679;  r2: 0.9417 - r2_val: 0.7392                                                                                                    \n",
      "epoch: 0217, loss: 0.1130 - val_loss: 0.4495; rmse: 0.3387 - rmse_val: 0.6705;  r2: 0.9425 - r2_val: 0.7392                                                                                                    \n",
      "epoch: 0218, loss: 0.1278 - val_loss: 0.4431; rmse: 0.3290 - rmse_val: 0.6657;  r2: 0.9425 - r2_val: 0.7389                                                                                                    \n",
      "epoch: 0219, loss: 0.1104 - val_loss: 0.4484; rmse: 0.3451 - rmse_val: 0.6697;  r2: 0.9423 - r2_val: 0.7410                                                                                                    \n",
      "epoch: 0220, loss: 0.1160 - val_loss: 0.4600; rmse: 0.3664 - rmse_val: 0.6782;  r2: 0.9424 - r2_val: 0.7417                                                                                                    \n",
      "epoch: 0221, loss: 0.1323 - val_loss: 0.4523; rmse: 0.3476 - rmse_val: 0.6725;  r2: 0.9432 - r2_val: 0.7401                                                                                                    \n",
      "epoch: 0222, loss: 0.1384 - val_loss: 0.4787; rmse: 0.3751 - rmse_val: 0.6918;  r2: 0.9429 - r2_val: 0.7378                                                                                                    \n",
      "epoch: 0223, loss: 0.1226 - val_loss: 0.4405; rmse: 0.3265 - rmse_val: 0.6637;  r2: 0.9442 - r2_val: 0.7405                                                                                                    \n",
      "epoch: 0224, loss: 0.1092 - val_loss: 0.4479; rmse: 0.3439 - rmse_val: 0.6692;  r2: 0.9439 - r2_val: 0.7411                                                                                                    \n",
      "epoch: 0225, loss: 0.1104 - val_loss: 0.4758; rmse: 0.3816 - rmse_val: 0.6898;  r2: 0.9439 - r2_val: 0.7406                                                                                                    \n",
      "epoch: 0226, loss: 0.1292 - val_loss: 0.4496; rmse: 0.3368 - rmse_val: 0.6705;  r2: 0.9452 - r2_val: 0.7400                                                                                                    \n",
      "epoch: 0227, loss: 0.1132 - val_loss: 0.4442; rmse: 0.3226 - rmse_val: 0.6665;  r2: 0.9454 - r2_val: 0.7390                                                                                                    \n",
      "epoch: 0228, loss: 0.1076 - val_loss: 0.4598; rmse: 0.3510 - rmse_val: 0.6781;  r2: 0.9451 - r2_val: 0.7395                                                                                                    \n",
      "epoch: 0229, loss: 0.1092 - val_loss: 0.4402; rmse: 0.3199 - rmse_val: 0.6635;  r2: 0.9459 - r2_val: 0.7403                                                                                                    \n",
      "epoch: 0230, loss: 0.1060 - val_loss: 0.4512; rmse: 0.3425 - rmse_val: 0.6717;  r2: 0.9460 - r2_val: 0.7417                                                                                                    \n",
      "epoch: 0231, loss: 0.1089 - val_loss: 0.4356; rmse: 0.3178 - rmse_val: 0.6600;  r2: 0.9468 - r2_val: 0.7427                                                                                                    \n",
      "epoch: 0232, loss: 0.1038 - val_loss: 0.4379; rmse: 0.3168 - rmse_val: 0.6617;  r2: 0.9470 - r2_val: 0.7417                                                                                                    \n",
      "epoch: 0233, loss: 0.1028 - val_loss: 0.4356; rmse: 0.3154 - rmse_val: 0.6600;  r2: 0.9475 - r2_val: 0.7425                                                                                                    \n",
      "epoch: 0234, loss: 0.1027 - val_loss: 0.4370; rmse: 0.3136 - rmse_val: 0.6611;  r2: 0.9479 - r2_val: 0.7422                                                                                                    \n",
      "epoch: 0235, loss: 0.0989 - val_loss: 0.4455; rmse: 0.3240 - rmse_val: 0.6675;  r2: 0.9482 - r2_val: 0.7420                                                                                                    \n",
      "epoch: 0236, loss: 0.1071 - val_loss: 0.4384; rmse: 0.3141 - rmse_val: 0.6621;  r2: 0.9484 - r2_val: 0.7420                                                                                                    \n",
      "epoch: 0237, loss: 0.1170 - val_loss: 0.4514; rmse: 0.3365 - rmse_val: 0.6719;  r2: 0.9483 - r2_val: 0.7420                                                                                                    \n",
      "epoch: 0238, loss: 0.1079 - val_loss: 0.4420; rmse: 0.3187 - rmse_val: 0.6648;  r2: 0.9482 - r2_val: 0.7430                                                                                                    \n",
      "epoch: 0239, loss: 0.1043 - val_loss: 0.4540; rmse: 0.3351 - rmse_val: 0.6738;  r2: 0.9487 - r2_val: 0.7427                                                                                                    \n",
      "epoch: 0240, loss: 0.1235 - val_loss: 0.4645; rmse: 0.3580 - rmse_val: 0.6815;  r2: 0.9484 - r2_val: 0.7422                                                                                                    \n",
      "epoch: 0241, loss: 0.1196 - val_loss: 0.4366; rmse: 0.3096 - rmse_val: 0.6607;  r2: 0.9493 - r2_val: 0.7420                                                                                                    \n",
      "epoch: 0242, loss: 0.0975 - val_loss: 0.4603; rmse: 0.3394 - rmse_val: 0.6784;  r2: 0.9493 - r2_val: 0.7402                                                                                                    \n",
      "epoch: 0243, loss: 0.1162 - val_loss: 0.4409; rmse: 0.3113 - rmse_val: 0.6640;  r2: 0.9496 - r2_val: 0.7419                                                                                                    \n",
      "epoch: 0244, loss: 0.1043 - val_loss: 0.4378; rmse: 0.3096 - rmse_val: 0.6617;  r2: 0.9497 - r2_val: 0.7429                                                                                                    \n",
      "epoch: 0245, loss: 0.0968 - val_loss: 0.4684; rmse: 0.3534 - rmse_val: 0.6844;  r2: 0.9501 - r2_val: 0.7430                                                                                                    \n",
      "epoch: 0246, loss: 0.1070 - val_loss: 0.4351; rmse: 0.3055 - rmse_val: 0.6596;  r2: 0.9507 - r2_val: 0.7435                                                                                                    \n",
      "epoch: 0247, loss: 0.1049 - val_loss: 0.4383; rmse: 0.3126 - rmse_val: 0.6621;  r2: 0.9509 - r2_val: 0.7437                                                                                                    \n",
      "epoch: 0248, loss: 0.0977 - val_loss: 0.4367; rmse: 0.3069 - rmse_val: 0.6608;  r2: 0.9512 - r2_val: 0.7435                                                                                                    \n",
      "epoch: 0249, loss: 0.0995 - val_loss: 0.4355; rmse: 0.3041 - rmse_val: 0.6599;  r2: 0.9515 - r2_val: 0.7430                                                                                                    \n",
      "epoch: 0250, loss: 0.0985 - val_loss: 0.4417; rmse: 0.3096 - rmse_val: 0.6646;  r2: 0.9517 - r2_val: 0.7426                                                                                                    \n",
      "epoch: 0251, loss: 0.0946 - val_loss: 0.4696; rmse: 0.3498 - rmse_val: 0.6852;  r2: 0.9514 - r2_val: 0.7428                                                                                                    \n",
      "epoch: 0252, loss: 0.1037 - val_loss: 0.4508; rmse: 0.3221 - rmse_val: 0.6714;  r2: 0.9520 - r2_val: 0.7427                                                                                                    \n",
      "epoch: 0253, loss: 0.1076 - val_loss: 0.4939; rmse: 0.3920 - rmse_val: 0.7027;  r2: 0.9509 - r2_val: 0.7442                                                                                                    \n",
      "epoch: 0254, loss: 0.1336 - val_loss: 0.4503; rmse: 0.3257 - rmse_val: 0.6711;  r2: 0.9521 - r2_val: 0.7438                                                                                                    \n",
      "epoch: 0255, loss: 0.1051 - val_loss: 0.4786; rmse: 0.3660 - rmse_val: 0.6918;  r2: 0.9506 - r2_val: 0.7428                                                                                                    \n",
      "epoch: 0256, loss: 0.1106 - val_loss: 0.4389; rmse: 0.3065 - rmse_val: 0.6625;  r2: 0.9522 - r2_val: 0.7434                                                                                                    \n",
      "epoch: 0257, loss: 0.0936 - val_loss: 0.4353; rmse: 0.2992 - rmse_val: 0.6598;  r2: 0.9526 - r2_val: 0.7430                                                                                                    \n",
      "epoch: 0258, loss: 0.1037 - val_loss: 0.4390; rmse: 0.3060 - rmse_val: 0.6626;  r2: 0.9531 - r2_val: 0.7430                                                                                                    \n",
      "epoch: 0259, loss: 0.1005 - val_loss: 0.4349; rmse: 0.2984 - rmse_val: 0.6595;  r2: 0.9534 - r2_val: 0.7436                                                                                                    \n",
      "epoch: 0260, loss: 0.0890 - val_loss: 0.4430; rmse: 0.3025 - rmse_val: 0.6655;  r2: 0.9537 - r2_val: 0.7417                                                                                                    \n",
      "epoch: 0261, loss: 0.0905 - val_loss: 0.4398; rmse: 0.2982 - rmse_val: 0.6632;  r2: 0.9539 - r2_val: 0.7415                                                                                                    \n",
      "epoch: 0262, loss: 0.0972 - val_loss: 0.4523; rmse: 0.3208 - rmse_val: 0.6725;  r2: 0.9537 - r2_val: 0.7412                                                                                                    \n",
      "epoch: 0263, loss: 0.0960 - val_loss: 0.4412; rmse: 0.2956 - rmse_val: 0.6642;  r2: 0.9542 - r2_val: 0.7401                                                                                                    \n",
      "epoch: 0264, loss: 0.0895 - val_loss: 0.4795; rmse: 0.3486 - rmse_val: 0.6925;  r2: 0.9539 - r2_val: 0.7390                                                                                                    \n",
      "epoch: 0265, loss: 0.1115 - val_loss: 0.4715; rmse: 0.3504 - rmse_val: 0.6867;  r2: 0.9535 - r2_val: 0.7423                                                                                                    \n",
      "epoch: 0266, loss: 0.1156 - val_loss: 0.4364; rmse: 0.2987 - rmse_val: 0.6606;  r2: 0.9541 - r2_val: 0.7438                                                                                                    \n",
      "epoch: 0267, loss: 0.0913 - val_loss: 0.4366; rmse: 0.2990 - rmse_val: 0.6608;  r2: 0.9545 - r2_val: 0.7440                                                                                                    \n",
      "epoch: 0268, loss: 0.0890 - val_loss: 0.4521; rmse: 0.3228 - rmse_val: 0.6724;  r2: 0.9547 - r2_val: 0.7442                                                                                                    \n",
      "epoch: 0269, loss: 0.0912 - val_loss: 0.4330; rmse: 0.2921 - rmse_val: 0.6580;  r2: 0.9552 - r2_val: 0.7452                                                                                                    \n",
      "epoch: 0270, loss: 0.0881 - val_loss: 0.4333; rmse: 0.2907 - rmse_val: 0.6583;  r2: 0.9552 - r2_val: 0.7442                                                                                                    \n",
      "epoch: 0271, loss: 0.0974 - val_loss: 0.4419; rmse: 0.2948 - rmse_val: 0.6648;  r2: 0.9554 - r2_val: 0.7419                                                                                                    \n",
      "epoch: 0272, loss: 0.0866 - val_loss: 0.4383; rmse: 0.2888 - rmse_val: 0.6621;  r2: 0.9556 - r2_val: 0.7424                                                                                                    \n",
      "epoch: 0273, loss: 0.0875 - val_loss: 0.4403; rmse: 0.2899 - rmse_val: 0.6636;  r2: 0.9560 - r2_val: 0.7419                                                                                                    \n",
      "epoch: 0274, loss: 0.1118 - val_loss: 0.4424; rmse: 0.3015 - rmse_val: 0.6651;  r2: 0.9559 - r2_val: 0.7433                                                                                                    \n",
      "epoch: 0275, loss: 0.0898 - val_loss: 0.4534; rmse: 0.3181 - rmse_val: 0.6734;  r2: 0.9559 - r2_val: 0.7439                                                                                                    \n",
      "epoch: 0276, loss: 0.1099 - val_loss: 0.4467; rmse: 0.3067 - rmse_val: 0.6684;  r2: 0.9561 - r2_val: 0.7440                                                                                                    \n",
      "epoch: 0277, loss: 0.0987 - val_loss: 0.4357; rmse: 0.2940 - rmse_val: 0.6601;  r2: 0.9565 - r2_val: 0.7445                                                                                                    \n",
      "epoch: 0278, loss: 0.0849 - val_loss: 0.4329; rmse: 0.2863 - rmse_val: 0.6579;  r2: 0.9567 - r2_val: 0.7439                                                                                                    \n",
      "epoch: 0279, loss: 0.0879 - val_loss: 0.4709; rmse: 0.3408 - rmse_val: 0.6862;  r2: 0.9566 - r2_val: 0.7425                                                                                                    \n",
      "epoch: 0280, loss: 0.1125 - val_loss: 0.5741; rmse: 0.4717 - rmse_val: 0.7577;  r2: 0.9547 - r2_val: 0.7430                                                                                                    \n",
      "epoch: 0281, loss: 0.1831 - val_loss: 0.4322; rmse: 0.2872 - rmse_val: 0.6574;  r2: 0.9572 - r2_val: 0.7433                                                                                                    \n",
      "epoch: 0282, loss: 0.1584 - val_loss: 0.6649; rmse: 0.5599 - rmse_val: 0.8154;  r2: 0.9517 - r2_val: 0.7400                                                                                                    \n",
      "epoch: 0283, loss: 0.2030 - val_loss: 0.4613; rmse: 0.3379 - rmse_val: 0.6792;  r2: 0.9553 - r2_val: 0.7426                                                                                                    \n",
      "epoch: 0284, loss: 0.1261 - val_loss: 0.4413; rmse: 0.3058 - rmse_val: 0.6643;  r2: 0.9545 - r2_val: 0.7432                                                                                                    \n",
      "epoch: 0285, loss: 0.0992 - val_loss: 0.4791; rmse: 0.3616 - rmse_val: 0.6921;  r2: 0.9533 - r2_val: 0.7432                                                                                                    \n",
      "epoch: 0286, loss: 0.1077 - val_loss: 0.4496; rmse: 0.3151 - rmse_val: 0.6705;  r2: 0.9548 - r2_val: 0.7434                                                                                                    \n",
      "epoch: 0287, loss: 0.0914 - val_loss: 0.4404; rmse: 0.2929 - rmse_val: 0.6636;  r2: 0.9558 - r2_val: 0.7422                                                                                                    \n",
      "epoch: 0288, loss: 0.0949 - val_loss: 0.4510; rmse: 0.3046 - rmse_val: 0.6716;  r2: 0.9567 - r2_val: 0.7421                                                                                                    \n",
      "epoch: 0289, loss: 0.0937 - val_loss: 0.4536; rmse: 0.3064 - rmse_val: 0.6735;  r2: 0.9567 - r2_val: 0.7411                                                                                                    \n",
      "epoch: 0290, loss: 0.1031 - val_loss: 0.4560; rmse: 0.3176 - rmse_val: 0.6753;  r2: 0.9567 - r2_val: 0.7421                                                                                                    \n",
      "epoch: 0291, loss: 0.0964 - val_loss: 0.4492; rmse: 0.3088 - rmse_val: 0.6702;  r2: 0.9573 - r2_val: 0.7441                                                                                                    \n",
      "epoch: 0292, loss: 0.0877 - val_loss: 0.4749; rmse: 0.3408 - rmse_val: 0.6891;  r2: 0.9572 - r2_val: 0.7426                                                                                                    \n",
      "epoch: 0293, loss: 0.0975 - val_loss: 0.4632; rmse: 0.3204 - rmse_val: 0.6806;  r2: 0.9574 - r2_val: 0.7424                                                                                                    \n",
      "epoch: 0294, loss: 0.0973 - val_loss: 0.4331; rmse: 0.2819 - rmse_val: 0.6581;  r2: 0.9577 - r2_val: 0.7455                                                                                                    \n",
      "epoch: 0295, loss: 0.0863 - val_loss: 0.4330; rmse: 0.2876 - rmse_val: 0.6581;  r2: 0.9576 - r2_val: 0.7470                                                                                                    \n",
      "epoch: 0296, loss: 0.0858 - val_loss: 0.4290; rmse: 0.2799 - rmse_val: 0.6550;  r2: 0.9584 - r2_val: 0.7472                                                                                                    \n",
      "epoch: 0297, loss: 0.0922 - val_loss: 0.4470; rmse: 0.3021 - rmse_val: 0.6686;  r2: 0.9588 - r2_val: 0.7449                                                                                                    \n",
      "epoch: 0298, loss: 0.0914 - val_loss: 0.4388; rmse: 0.2883 - rmse_val: 0.6624;  r2: 0.9590 - r2_val: 0.7445                                                                                                    \n",
      "epoch: 0299, loss: 0.0802 - val_loss: 0.4351; rmse: 0.2822 - rmse_val: 0.6597;  r2: 0.9593 - r2_val: 0.7444                                                                                                    \n",
      "epoch: 0300, loss: 0.0847 - val_loss: 0.4409; rmse: 0.2860 - rmse_val: 0.6640;  r2: 0.9592 - r2_val: 0.7430                                                                                                    \n",
      "epoch: 0301, loss: 0.0845 - val_loss: 0.4423; rmse: 0.2857 - rmse_val: 0.6650;  r2: 0.9591 - r2_val: 0.7427                                                                                                    \n",
      "epoch: 0302, loss: 0.0984 - val_loss: 0.4919; rmse: 0.3606 - rmse_val: 0.7014;  r2: 0.9585 - r2_val: 0.7424                                                                                                    \n",
      "epoch: 0303, loss: 0.1138 - val_loss: 0.4415; rmse: 0.2847 - rmse_val: 0.6645;  r2: 0.9595 - r2_val: 0.7428                                                                                                    \n",
      "epoch: 0304, loss: 0.1013 - val_loss: 0.4768; rmse: 0.3461 - rmse_val: 0.6905;  r2: 0.9585 - r2_val: 0.7437                                                                                                    \n",
      "epoch: 0305, loss: 0.1162 - val_loss: 0.4394; rmse: 0.2881 - rmse_val: 0.6629;  r2: 0.9595 - r2_val: 0.7448                                                                                                    \n",
      "epoch: 0306, loss: 0.1084 - val_loss: 0.4850; rmse: 0.3607 - rmse_val: 0.6964;  r2: 0.9576 - r2_val: 0.7452                                                                                                    \n",
      "epoch: 0307, loss: 0.1071 - val_loss: 0.4339; rmse: 0.2776 - rmse_val: 0.6587;  r2: 0.9595 - r2_val: 0.7433                                                                                                    \n",
      "epoch: 0308, loss: 0.0826 - val_loss: 0.4607; rmse: 0.3225 - rmse_val: 0.6787;  r2: 0.9599 - r2_val: 0.7435                                                                                                    \n",
      "epoch: 0309, loss: 0.1025 - val_loss: 0.4309; rmse: 0.2757 - rmse_val: 0.6565;  r2: 0.9597 - r2_val: 0.7456                                                                                                    \n",
      "epoch: 0310, loss: 0.0920 - val_loss: 0.4393; rmse: 0.2904 - rmse_val: 0.6628;  r2: 0.9600 - r2_val: 0.7463                                                                                                    \n",
      "epoch: 0311, loss: 0.0883 - val_loss: 0.4331; rmse: 0.2755 - rmse_val: 0.6581;  r2: 0.9602 - r2_val: 0.7455                                                                                                    \n",
      "epoch: 0312, loss: 0.0774 - val_loss: 0.4325; rmse: 0.2767 - rmse_val: 0.6576;  r2: 0.9606 - r2_val: 0.7464                                                                                                    \n",
      "epoch: 0313, loss: 0.0823 - val_loss: 0.4604; rmse: 0.3209 - rmse_val: 0.6786;  r2: 0.9604 - r2_val: 0.7451                                                                                                    \n",
      "epoch: 0314, loss: 0.0952 - val_loss: 0.4362; rmse: 0.2827 - rmse_val: 0.6604;  r2: 0.9609 - r2_val: 0.7468                                                                                                    \n",
      "epoch: 0315, loss: 0.1008 - val_loss: 0.4768; rmse: 0.3462 - rmse_val: 0.6905;  r2: 0.9601 - r2_val: 0.7466                                                                                                    \n",
      "epoch: 0316, loss: 0.0992 - val_loss: 0.4302; rmse: 0.2741 - rmse_val: 0.6559;  r2: 0.9609 - r2_val: 0.7462                                                                                                    \n",
      "\n",
      "Restoring model weights from the end of the best epoch.\n",
      "\n",
      "Epoch 00316: early stopping\n"
     ]
    },
    {
     "data": {
      "text/plain": [
       "<tensorflow.python.keras.callbacks.History at 0x7fad1583fb70>"
      ]
     },
     "execution_count": 10,
     "metadata": {},
     "output_type": "execute_result"
    }
   ],
   "source": [
    "model.fit(trainX, trainY, batch_size=128, \n",
    "      epochs=500, verbose= 0, shuffle = True, \n",
    "      validation_data = (validX, validY), \n",
    "      callbacks=[performace]) "
   ]
  },
  {
   "cell_type": "code",
   "execution_count": 18,
   "metadata": {},
   "outputs": [
    {
     "data": {
      "text/plain": [
       "<matplotlib.axes._subplots.AxesSubplot at 0x7fa7087e7128>"
      ]
     },
     "execution_count": 18,
     "metadata": {},
     "output_type": "execute_result"
    },
    {
     "data": {
      "image/png": "[encoded data removed]",
      "text/plain": [
       "<Figure size 432x288 with 1 Axes>"
      ]
     },
     "metadata": {
      "needs_background": "light"
     },
     "output_type": "display_data"
    }
   ],
   "source": [
    "dfp = pd.DataFrame(performace.history)[['r2', 'val_r2']]\n",
    "dfp.plot()"
   ]
  },
  {
   "cell_type": "code",
   "execution_count": 12,
   "metadata": {},
   "outputs": [
    {
     "data": {
      "text/plain": [
       "([0.27987170382719045], [0.9583731286788505])"
      ]
     },
     "execution_count": 12,
     "metadata": {},
     "output_type": "execute_result"
    }
   ],
   "source": [
    "performace.evaluate(trainX, trainY) # RMSE, R^2"
   ]
  },
  {
   "cell_type": "code",
   "execution_count": 13,
   "metadata": {},
   "outputs": [
    {
     "data": {
      "text/plain": [
       "([0.6549937275073038], [0.7471698486130297])"
      ]
     },
     "execution_count": 13,
     "metadata": {},
     "output_type": "execute_result"
    }
   ],
   "source": [
    "performace.evaluate(validX, validY) # RMSE, R^2"
   ]
  },
  {
   "cell_type": "code",
   "execution_count": 14,
   "metadata": {},
   "outputs": [
    {
     "data": {
      "text/plain": [
       "([0.7146983690417512], [0.7232110065052503])"
      ]
     },
     "execution_count": 14,
     "metadata": {},
     "output_type": "execute_result"
    }
   ],
   "source": [
    "performace.evaluate(testX, testY) # RMSE, R^2"
   ]
  },
  {
   "cell_type": "code",
   "execution_count": 15,
   "metadata": {},
   "outputs": [
    {
     "data": {
      "text/plain": [
       "<matplotlib.collections.PathCollection at 0x7fa728104ba8>"
      ]
     },
     "execution_count": 15,
     "metadata": {},
     "output_type": "execute_result"
    },
    {
     "data": {
      "image/png": "[encoded data removed]",
      "text/plain": [
       "<Figure size 432x288 with 1 Axes>"
      ]
     },
     "metadata": {
      "needs_background": "light"
     },
     "output_type": "display_data"
    }
   ],
   "source": [
    "plt.scatter(performace.model.predict(testX), testY)"
   ]
  },
  {
   "cell_type": "code",
   "execution_count": null,
   "metadata": {},
   "outputs": [],
   "source": []
  }
 ],
 "metadata": {
  "kernelspec": {
   "display_name": "Python 3",
   "language": "python",
   "name": "python3"
  },
  "language_info": {
   "codemirror_mode": {
    "name": "ipython",
    "version": 3
   },
   "file_extension": ".py",
   "mimetype": "text/x-python",
   "name": "python",
   "nbconvert_exporter": "python",
   "pygments_lexer": "ipython3",
   "version": "3.6.9"
  }
 },
 "nbformat": 4,
 "nbformat_minor": 4
}
