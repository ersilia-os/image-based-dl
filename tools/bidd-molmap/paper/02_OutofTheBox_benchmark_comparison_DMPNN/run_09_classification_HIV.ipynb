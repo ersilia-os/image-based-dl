{
 "cells": [
  {
   "cell_type": "code",
   "execution_count": 14,
   "metadata": {},
   "outputs": [],
   "source": [
    "from molmap import model as molmodel\n",
    "import molmap\n",
    "\n",
    "import matplotlib.pyplot as plt\n",
    "\n",
    "import pandas as pd\n",
    "from tqdm import tqdm\n",
    "from joblib import load, dump\n",
    "tqdm.pandas(ascii=True)\n",
    "import numpy as np\n",
    "\n",
    "import tensorflow as tf\n",
    "import os\n",
    "os.environ[\"CUDA_VISIBLE_DEVICES\"]=\"0\"\n",
    "np.random.seed(123)\n",
    "tf.compat.v1.set_random_seed(123)\n",
    "\n",
    "\n",
    "tmp_feature_dir = './tmpignore'\n",
    "if not os.path.exists(tmp_feature_dir):\n",
    "    os.makedirs(tmp_feature_dir)"
   ]
  },
  {
   "cell_type": "code",
   "execution_count": 15,
   "metadata": {},
   "outputs": [],
   "source": [
    "\n",
    "mp1 = molmap.loadmap('../descriptor.mp')\n",
    "mp2 = molmap.loadmap('../fingerprint.mp')\n"
   ]
  },
  {
   "cell_type": "code",
   "execution_count": 16,
   "metadata": {},
   "outputs": [
    {
     "name": "stdout",
     "output_type": "stream",
     "text": [
      "loading dataset: HIV number of split times: 3\n"
     ]
    }
   ],
   "source": [
    "task_name = 'HIV'\n",
    "from chembench import load_data\n",
    "df, induces = load_data(task_name)"
   ]
  },
  {
   "cell_type": "code",
   "execution_count": 17,
   "metadata": {},
   "outputs": [],
   "source": [
    "MASK = -1\n",
    "smiles_col = df.columns[0]\n",
    "values_col = df.columns[1:]\n",
    "Y = df[values_col].astype('float').fillna(MASK).values\n",
    "if Y.shape[1] == 0:\n",
    "    Y = Y.reshape(-1, 1)"
   ]
  },
  {
   "cell_type": "code",
   "execution_count": 18,
   "metadata": {},
   "outputs": [],
   "source": [
    "X1_name = os.path.join(tmp_feature_dir, 'X1_%s.data' % task_name)\n",
    "X2_name = os.path.join(tmp_feature_dir, 'X2_%s.data' % task_name)\n",
    "if not os.path.exists(X1_name):\n",
    "    X1 = mp1.batch_transform(df.smiles, n_jobs = 8)\n",
    "    dump(X1, X1_name)\n",
    "else:\n",
    "    X1 = load(X1_name)\n",
    "\n",
    "if not os.path.exists(X2_name): \n",
    "    X2 = mp2.batch_transform(df.smiles, n_jobs = 8)\n",
    "    dump(X2, X2_name)\n",
    "else:\n",
    "    X2 = load(X2_name)\n",
    "\n",
    "molmap1_size = X1.shape[1:]\n",
    "molmap2_size = X2.shape[1:]"
   ]
  },
  {
   "cell_type": "code",
   "execution_count": 27,
   "metadata": {},
   "outputs": [],
   "source": [
    "def get_pos_weights(trainY):\n",
    "    \"\"\"pos_weights: neg_n / pos_n \"\"\"\n",
    "    dfY = pd.DataFrame(trainY)\n",
    "    pos = dfY == 1\n",
    "    pos_n = pos.sum(axis=0)\n",
    "    neg = dfY == 0\n",
    "    neg_n = neg.sum(axis=0)\n",
    "    pos_weights = (neg_n / pos_n).values\n",
    "    neg_weights = (pos_n / neg_n).values\n",
    "    return pos_weights, neg_weights\n",
    "\n",
    "\n",
    "\n",
    "prcs_metrics = ['MUV', 'PCBA']"
   ]
  },
  {
   "cell_type": "code",
   "execution_count": 28,
   "metadata": {},
   "outputs": [],
   "source": [
    "epochs = 800\n",
    "patience = 10 #early stopping, dual to large computation cost, the larger dataset  set small waitig patience for early stopping\n",
    "\n",
    "dense_layers = [256, 128]\n",
    "\n",
    "\n",
    "batch_size = 128\n",
    "lr = 1e-4\n",
    "weight_decay = 0\n",
    "\n",
    "monitor = 'val_loss'\n",
    "dense_avf = 'relu'\n",
    "last_avf = None #sigmoid in loss\n",
    "\n",
    "if task_name in prcs_metrics:\n",
    "    metric = 'PRC'\n",
    "else:\n",
    "    metric = 'ROC'"
   ]
  },
  {
   "cell_type": "code",
   "execution_count": 29,
   "metadata": {},
   "outputs": [
    {
     "name": "stdout",
     "output_type": "stream",
     "text": [
      "32901 4113 4113\n",
      "epoch: 0001, loss: 1.2236 - val_loss: 0.9031; auc: 0.7568 - val_auc: 0.7869                                                                                                    \n",
      "epoch: 0002, loss: 1.1056 - val_loss: 0.7371; auc: 0.8188 - val_auc: 0.8136                                                                                                    \n",
      "epoch: 0003, loss: 1.0319 - val_loss: 0.7910; auc: 0.8422 - val_auc: 0.8248                                                                                                    \n",
      "epoch: 0004, loss: 0.9507 - val_loss: 0.8147; auc: 0.8713 - val_auc: 0.8347                                                                                                    \n",
      "epoch: 0005, loss: 0.9078 - val_loss: 0.6495; auc: 0.8940 - val_auc: 0.8333                                                                                                    \n",
      "epoch: 0006, loss: 0.8328 - val_loss: 0.6718; auc: 0.9213 - val_auc: 0.8426                                                                                                    \n",
      "epoch: 0007, loss: 0.7763 - val_loss: 0.6424; auc: 0.9439 - val_auc: 0.8430                                                                                                    \n",
      "epoch: 0008, loss: 0.6916 - val_loss: 0.6344; auc: 0.9589 - val_auc: 0.8469                                                                                                    \n",
      "epoch: 0009, loss: 0.6197 - val_loss: 0.6834; auc: 0.9667 - val_auc: 0.8362                                                                                                    \n",
      "epoch: 0010, loss: 0.5324 - val_loss: 0.6889; auc: 0.9824 - val_auc: 0.8197                                                                                                    \n",
      "epoch: 0011, loss: 0.4342 - val_loss: 0.8285; auc: 0.9869 - val_auc: 0.8304                                                                                                    \n",
      "epoch: 0012, loss: 0.3574 - val_loss: 0.7212; auc: 0.9898 - val_auc: 0.8164                                                                                                    \n",
      "epoch: 0013, loss: 0.3069 - val_loss: 0.7782; auc: 0.9910 - val_auc: 0.8168                                                                                                    \n",
      "epoch: 0014, loss: 0.2570 - val_loss: 0.8121; auc: 0.9929 - val_auc: 0.8071                                                                                                    \n",
      "epoch: 0015, loss: 0.2291 - val_loss: 0.8545; auc: 0.9939 - val_auc: 0.8270                                                                                                    \n",
      "epoch: 0016, loss: 0.2011 - val_loss: 0.9687; auc: 0.9955 - val_auc: 0.7994                                                                                                    \n",
      "epoch: 0017, loss: 0.1690 - val_loss: 1.0974; auc: 0.9963 - val_auc: 0.8008                                                                                                    \n",
      "epoch: 0018, loss: 0.1831 - val_loss: 1.1322; auc: 0.9950 - val_auc: 0.8068                                                                                                    \n",
      "\n",
      "Restoring model weights from the end of the best epoch.\n",
      "\n",
      "Epoch 00018: early stopping\n",
      "{'task_name': 'HIV', 'train_auc': 0.9589433575912861, 'valid_auc': 0.8469405251812658, 'test_auc': 0.773043125591456, 'metric': 'ROC', '# trainable params': 799649, 'best_epoch': 7, 'batch_size': 128, 'lr': 0.0001, 'weight_decay': 0}\n",
      "32901 4113 4113\n",
      "epoch: 0001, loss: 1.2311 - val_loss: 0.8350; auc: 0.7614 - val_auc: 0.7838                                                                                                    \n",
      "epoch: 0002, loss: 1.0997 - val_loss: 0.7761; auc: 0.8098 - val_auc: 0.7991                                                                                                    \n",
      "epoch: 0003, loss: 1.0292 - val_loss: 0.7236; auc: 0.8422 - val_auc: 0.8092                                                                                                    \n",
      "epoch: 0004, loss: 0.9540 - val_loss: 0.8081; auc: 0.8758 - val_auc: 0.8324                                                                                                    \n",
      "epoch: 0005, loss: 0.8846 - val_loss: 0.6761; auc: 0.8991 - val_auc: 0.8280                                                                                                    \n",
      "epoch: 0006, loss: 0.8206 - val_loss: 0.6913; auc: 0.9270 - val_auc: 0.8412                                                                                                    \n",
      "epoch: 0007, loss: 0.7601 - val_loss: 0.6692; auc: 0.9409 - val_auc: 0.8324                                                                                                    \n",
      "epoch: 0008, loss: 0.7179 - val_loss: 0.6434; auc: 0.9511 - val_auc: 0.8409                                                                                                    \n",
      "epoch: 0009, loss: 0.6163 - val_loss: 0.6300; auc: 0.9687 - val_auc: 0.8465                                                                                                    \n",
      "epoch: 0010, loss: 0.5452 - val_loss: 0.6711; auc: 0.9815 - val_auc: 0.8281                                                                                                    \n",
      "epoch: 0011, loss: 0.5720 - val_loss: 0.7104; auc: 0.9839 - val_auc: 0.8193                                                                                                    \n",
      "epoch: 0012, loss: 0.4155 - val_loss: 0.9796; auc: 0.9864 - val_auc: 0.8039                                                                                                    \n",
      "epoch: 0013, loss: 0.4206 - val_loss: 0.7288; auc: 0.9900 - val_auc: 0.8134                                                                                                    \n",
      "epoch: 0014, loss: 0.3084 - val_loss: 0.9213; auc: 0.9922 - val_auc: 0.7819                                                                                                    \n",
      "epoch: 0015, loss: 0.2701 - val_loss: 1.2122; auc: 0.9930 - val_auc: 0.7935                                                                                                    \n",
      "epoch: 0016, loss: 0.2320 - val_loss: 0.9183; auc: 0.9934 - val_auc: 0.8142                                                                                                    \n",
      "epoch: 0017, loss: 0.2203 - val_loss: 1.0358; auc: 0.9950 - val_auc: 0.7914                                                                                                    \n",
      "epoch: 0018, loss: 0.1627 - val_loss: 0.9844; auc: 0.9953 - val_auc: 0.8087                                                                                                    \n",
      "epoch: 0019, loss: 0.1494 - val_loss: 1.0620; auc: 0.9962 - val_auc: 0.7530                                                                                                    \n",
      "\n",
      "Restoring model weights from the end of the best epoch.\n",
      "\n",
      "Epoch 00019: early stopping\n",
      "{'task_name': 'HIV', 'train_auc': 0.9686574999805209, 'valid_auc': 0.8465485988634135, 'test_auc': 0.775439850132293, 'metric': 'ROC', '# trainable params': 799649, 'best_epoch': 8, 'batch_size': 128, 'lr': 0.0001, 'weight_decay': 0}\n",
      "32901 4113 4113\n",
      "epoch: 0001, loss: 1.2352 - val_loss: 0.9147; auc: 0.7477 - val_auc: 0.7837                                                                                                    \n",
      "epoch: 0002, loss: 1.1050 - val_loss: 0.8075; auc: 0.8142 - val_auc: 0.8119                                                                                                    \n",
      "epoch: 0003, loss: 1.0206 - val_loss: 0.7524; auc: 0.8536 - val_auc: 0.8239                                                                                                    \n",
      "epoch: 0004, loss: 0.9629 - val_loss: 0.7418; auc: 0.8711 - val_auc: 0.8326                                                                                                    \n",
      "epoch: 0005, loss: 0.9129 - val_loss: 0.6936; auc: 0.8976 - val_auc: 0.8159                                                                                                    \n",
      "epoch: 0006, loss: 0.8264 - val_loss: 0.7084; auc: 0.9242 - val_auc: 0.8228                                                                                                    \n",
      "epoch: 0007, loss: 0.7790 - val_loss: 0.6554; auc: 0.9368 - val_auc: 0.8256                                                                                                    \n",
      "epoch: 0008, loss: 0.7044 - val_loss: 0.7417; auc: 0.9569 - val_auc: 0.8203                                                                                                    \n",
      "epoch: 0009, loss: 0.6442 - val_loss: 0.6904; auc: 0.9688 - val_auc: 0.8278                                                                                                    \n",
      "epoch: 0010, loss: 0.5569 - val_loss: 0.7170; auc: 0.9791 - val_auc: 0.7981                                                                                                    \n",
      "epoch: 0011, loss: 0.4779 - val_loss: 0.7762; auc: 0.9824 - val_auc: 0.7830                                                                                                    \n",
      "epoch: 0012, loss: 0.4330 - val_loss: 0.8291; auc: 0.9892 - val_auc: 0.7963                                                                                                    \n",
      "epoch: 0013, loss: 0.3340 - val_loss: 0.8959; auc: 0.9909 - val_auc: 0.8060                                                                                                    \n",
      "epoch: 0014, loss: 0.2840 - val_loss: 0.8617; auc: 0.9928 - val_auc: 0.7893                                                                                                    \n",
      "epoch: 0015, loss: 0.2460 - val_loss: 0.8557; auc: 0.9934 - val_auc: 0.8108                                                                                                    \n",
      "epoch: 0016, loss: 0.2312 - val_loss: 1.0415; auc: 0.9940 - val_auc: 0.7939                                                                                                    \n",
      "epoch: 0017, loss: 0.2066 - val_loss: 1.5871; auc: 0.9951 - val_auc: 0.7811                                                                                                    \n",
      "\n",
      "Restoring model weights from the end of the best epoch.\n",
      "\n",
      "Epoch 00017: early stopping\n",
      "{'task_name': 'HIV', 'train_auc': 0.9368272154997739, 'valid_auc': 0.825586664707035, 'test_auc': 0.7820487070047702, 'metric': 'ROC', '# trainable params': 799649, 'best_epoch': 6, 'batch_size': 128, 'lr': 0.0001, 'weight_decay': 0}\n"
     ]
    }
   ],
   "source": [
    "results = []\n",
    "for i, split_idxs in enumerate(induces):\n",
    "\n",
    "    train_idx, valid_idx, test_idx = split_idxs\n",
    "    print(len(train_idx), len(valid_idx), len(test_idx))\n",
    "\n",
    "    trainX = (X1[train_idx], X2[train_idx])\n",
    "    trainY = Y[train_idx]\n",
    "\n",
    "    validX = (X1[valid_idx], X2[valid_idx])\n",
    "    validY = Y[valid_idx]\n",
    "\n",
    "    testX = (X1[test_idx], X2[test_idx])\n",
    "    testY = Y[test_idx]            \n",
    "\n",
    "    pos_weights, neg_weights = get_pos_weights(trainY)\n",
    "    loss = lambda y_true, y_pred: molmodel.loss.weighted_cross_entropy(y_true,y_pred, pos_weights, MASK = -1)\n",
    "\n",
    "    model = molmodel.net.DoublePathNet(molmap1_size, molmap2_size, \n",
    "                                       n_outputs=Y.shape[-1], \n",
    "                                       dense_layers=dense_layers, \n",
    "                                       dense_avf = dense_avf, \n",
    "                                       last_avf=last_avf)\n",
    "\n",
    "    opt = tf.keras.optimizers.Adam(lr=lr, beta_1=0.9, beta_2=0.999, epsilon=1e-08, decay=0.0) #\n",
    "    #import tensorflow_addons as tfa\n",
    "    #opt = tfa.optimizers.AdamW(weight_decay = 0.1,learning_rate=0.001,beta1=0.9,beta2=0.999, epsilon=1e-08)\n",
    "    model.compile(optimizer = opt, loss = loss)\n",
    "\n",
    "    performance = molmodel.cbks.CLA_EarlyStoppingAndPerformance((trainX, trainY), \n",
    "                                                                   (validX, validY), \n",
    "                                                                   patience = patience, \n",
    "                                                                   criteria = monitor,\n",
    "                                                                   metric = metric,\n",
    "                                                                  )\n",
    "    model.fit(trainX, trainY, batch_size=batch_size, \n",
    "          epochs=epochs, verbose= 0, shuffle = True, \n",
    "          validation_data = (validX, validY), \n",
    "          callbacks=[performance]) \n",
    "\n",
    "    \n",
    "    best_epoch = performance.best_epoch\n",
    "    trainable_params = model.count_params()\n",
    "    \n",
    "    train_aucs = performance.evaluate(trainX, trainY)            \n",
    "    valid_aucs = performance.evaluate(validX, validY)            \n",
    "    test_aucs = performance.evaluate(testX, testY)\n",
    "\n",
    "\n",
    "    final_res = {\n",
    "                     'task_name':task_name,            \n",
    "                     'train_auc':np.nanmean(train_aucs), \n",
    "                     'valid_auc':np.nanmean(valid_aucs),                      \n",
    "                     'test_auc':np.nanmean(test_aucs), \n",
    "                     'metric':metric,\n",
    "                     '# trainable params': trainable_params,\n",
    "                     'best_epoch': best_epoch,\n",
    "                     'batch_size':batch_size,\n",
    "                     'lr': lr,\n",
    "                     'weight_decay':weight_decay\n",
    "                    }\n",
    "    \n",
    "    results.append(final_res)\n",
    "    print(final_res)"
   ]
  },
  {
   "cell_type": "code",
   "execution_count": 30,
   "metadata": {},
   "outputs": [
    {
     "data": {
      "text/plain": [
       "<matplotlib.axes._subplots.AxesSubplot at 0x7efbdaaf6ef0>"
      ]
     },
     "execution_count": 30,
     "metadata": {},
     "output_type": "execute_result"
    },
    {
     "data": {
      "image/png": "[encoded data removed]",
      "text/plain": [
       "<Figure size 432x288 with 1 Axes>"
      ]
     },
     "metadata": {
      "needs_background": "light"
     },
     "output_type": "display_data"
    }
   ],
   "source": [
    "pd.DataFrame(performance.history)[['loss', 'val_loss']].plot()"
   ]
  },
  {
   "cell_type": "code",
   "execution_count": 31,
   "metadata": {},
   "outputs": [
    {
     "data": {
      "text/plain": [
       "0.7768438942428397"
      ]
     },
     "execution_count": 31,
     "metadata": {},
     "output_type": "execute_result"
    }
   ],
   "source": [
    "pd.DataFrame(results).test_auc.mean()"
   ]
  },
  {
   "cell_type": "code",
   "execution_count": 32,
   "metadata": {},
   "outputs": [
    {
     "data": {
      "text/plain": [
       "0.004664078584911317"
      ]
     },
     "execution_count": 32,
     "metadata": {},
     "output_type": "execute_result"
    }
   ],
   "source": [
    "pd.DataFrame(results).test_auc.std()"
   ]
  },
  {
   "cell_type": "code",
   "execution_count": 33,
   "metadata": {},
   "outputs": [
    {
     "data": {
      "text/html": [
       "<div>\n",
       "<style scoped>\n",
       "    .dataframe tbody tr th:only-of-type {\n",
       "        vertical-align: middle;\n",
       "    }\n",
       "\n",
       "    .dataframe tbody tr th {\n",
       "        vertical-align: top;\n",
       "    }\n",
       "\n",
       "    .dataframe thead th {\n",
       "        text-align: right;\n",
       "    }\n",
       "</style>\n",
       "<table border=\"1\" class=\"dataframe\">\n",
       "  <thead>\n",
       "    <tr style=\"text-align: right;\">\n",
       "      <th></th>\n",
       "      <th>task_name</th>\n",
       "      <th>train_auc</th>\n",
       "      <th>valid_auc</th>\n",
       "      <th>test_auc</th>\n",
       "      <th>metric</th>\n",
       "      <th># trainable params</th>\n",
       "      <th>best_epoch</th>\n",
       "      <th>batch_size</th>\n",
       "      <th>lr</th>\n",
       "      <th>weight_decay</th>\n",
       "    </tr>\n",
       "  </thead>\n",
       "  <tbody>\n",
       "    <tr>\n",
       "      <td>0</td>\n",
       "      <td>HIV</td>\n",
       "      <td>0.958943</td>\n",
       "      <td>0.846941</td>\n",
       "      <td>0.773043</td>\n",
       "      <td>ROC</td>\n",
       "      <td>799649</td>\n",
       "      <td>7</td>\n",
       "      <td>128</td>\n",
       "      <td>0.0001</td>\n",
       "      <td>0</td>\n",
       "    </tr>\n",
       "    <tr>\n",
       "      <td>1</td>\n",
       "      <td>HIV</td>\n",
       "      <td>0.968657</td>\n",
       "      <td>0.846549</td>\n",
       "      <td>0.775440</td>\n",
       "      <td>ROC</td>\n",
       "      <td>799649</td>\n",
       "      <td>8</td>\n",
       "      <td>128</td>\n",
       "      <td>0.0001</td>\n",
       "      <td>0</td>\n",
       "    </tr>\n",
       "    <tr>\n",
       "      <td>2</td>\n",
       "      <td>HIV</td>\n",
       "      <td>0.936827</td>\n",
       "      <td>0.825587</td>\n",
       "      <td>0.782049</td>\n",
       "      <td>ROC</td>\n",
       "      <td>799649</td>\n",
       "      <td>6</td>\n",
       "      <td>128</td>\n",
       "      <td>0.0001</td>\n",
       "      <td>0</td>\n",
       "    </tr>\n",
       "  </tbody>\n",
       "</table>\n",
       "</div>"
      ],
      "text/plain": [
       "  task_name  train_auc  valid_auc  test_auc metric  # trainable params  \\\n",
       "0       HIV   0.958943   0.846941  0.773043    ROC              799649   \n",
       "1       HIV   0.968657   0.846549  0.775440    ROC              799649   \n",
       "2       HIV   0.936827   0.825587  0.782049    ROC              799649   \n",
       "\n",
       "   best_epoch  batch_size      lr  weight_decay  \n",
       "0           7         128  0.0001             0  \n",
       "1           8         128  0.0001             0  \n",
       "2           6         128  0.0001             0  "
      ]
     },
     "execution_count": 33,
     "metadata": {},
     "output_type": "execute_result"
    }
   ],
   "source": [
    "pd.DataFrame(results)"
   ]
  },
  {
   "cell_type": "code",
   "execution_count": 26,
   "metadata": {},
   "outputs": [],
   "source": [
    "pd.DataFrame(results).to_csv('./results/%s.csv' % task_name)"
   ]
  },
  {
   "cell_type": "code",
   "execution_count": null,
   "metadata": {},
   "outputs": [],
   "source": []
  },
  {
   "cell_type": "code",
   "execution_count": null,
   "metadata": {},
   "outputs": [],
   "source": []
  },
  {
   "cell_type": "code",
   "execution_count": null,
   "metadata": {},
   "outputs": [],
   "source": []
  }
 ],
 "metadata": {
  "kernelspec": {
   "display_name": "Python 3",
   "language": "python",
   "name": "python3"
  },
  "language_info": {
   "codemirror_mode": {
    "name": "ipython",
    "version": 3
   },
   "file_extension": ".py",
   "mimetype": "text/x-python",
   "name": "python",
   "nbconvert_exporter": "python",
   "pygments_lexer": "ipython3",
   "version": "3.6.9"
  }
 },
 "nbformat": 4,
 "nbformat_minor": 4
}
