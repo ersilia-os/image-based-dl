{
 "cells": [
  {
   "cell_type": "code",
   "execution_count": 1,
   "metadata": {},
   "outputs": [],
   "source": [
    "from molmap import model as molmodel\n",
    "import molmap\n",
    "import matplotlib.pyplot as plt\n",
    "\n",
    "import pandas as pd\n",
    "from tqdm import tqdm\n",
    "from joblib import load, dump\n",
    "tqdm.pandas(ascii=True)\n",
    "import numpy as np\n",
    "\n",
    "import tensorflow as tf\n",
    "import os\n",
    "os.environ[\"CUDA_VISIBLE_DEVICES\"]=\"6\"\n",
    "\n",
    "np.random.seed(123)\n",
    "tf.compat.v1.set_random_seed(123)\n",
    "\n",
    "#tmp_feature_dir = './tmpignore'\n",
    "tmp_feature_dir = '/raid/shenwanxiang/tempignore'\n",
    "\n",
    "if not os.path.exists(tmp_feature_dir):\n",
    "    os.makedirs(tmp_feature_dir)"
   ]
  },
  {
   "cell_type": "code",
   "execution_count": 2,
   "metadata": {},
   "outputs": [],
   "source": [
    "mp1 = molmap.loadmap('../descriptor.mp')\n",
    "mp2 = molmap.loadmap('../fingerprint.mp')"
   ]
  },
  {
   "cell_type": "code",
   "execution_count": 3,
   "metadata": {},
   "outputs": [
    {
     "name": "stdout",
     "output_type": "stream",
     "text": [
      "loading dataset: ChEMBL number of split times: 3\n"
     ]
    }
   ],
   "source": [
    "task_name = 'ChEMBL'\n",
    "from chembench import load_data\n",
    "df, induces = load_data(task_name)"
   ]
  },
  {
   "cell_type": "code",
   "execution_count": 4,
   "metadata": {},
   "outputs": [
    {
     "name": "stdout",
     "output_type": "stream",
     "text": [
      "365047 45631 45631\n"
     ]
    }
   ],
   "source": [
    "print(len(induces[0][0]), len(induces[0][1]), len(induces[0][2]))"
   ]
  },
  {
   "cell_type": "markdown",
   "metadata": {},
   "source": [
    "## 22 compounds has no smiles"
   ]
  },
  {
   "cell_type": "code",
   "execution_count": 5,
   "metadata": {},
   "outputs": [
    {
     "data": {
      "text/plain": [
       "[226200,\n",
       " 379799,\n",
       " 380656,\n",
       " 381454,\n",
       " 393024,\n",
       " 393968,\n",
       " 396794,\n",
       " 397302,\n",
       " 400352,\n",
       " 402496,\n",
       " 404107,\n",
       " 406599,\n",
       " 407755,\n",
       " 408279,\n",
       " 418481,\n",
       " 419581,\n",
       " 419589,\n",
       " 419590,\n",
       " 441931,\n",
       " 442248,\n",
       " 447060,\n",
       " 453014]"
      ]
     },
     "execution_count": 5,
     "metadata": {},
     "output_type": "execute_result"
    }
   ],
   "source": [
    "nan_idx = df[df.smiles.isna()].index.to_list()\n",
    "nan_idx"
   ]
  },
  {
   "cell_type": "code",
   "execution_count": 6,
   "metadata": {},
   "outputs": [],
   "source": [
    "MASK = -1\n",
    "smiles_col = df.columns[0]\n",
    "values_col = df.columns[1:]\n",
    "Y = df[values_col].astype('float').fillna(MASK).values\n",
    "if Y.shape[1] == 0:\n",
    "    Y = Y.reshape(-1, 1)\n",
    "    Y = Y.astype('float32')"
   ]
  },
  {
   "cell_type": "code",
   "execution_count": 7,
   "metadata": {},
   "outputs": [
    {
     "data": {
      "text/plain": [
       "(456331, 1310)"
      ]
     },
     "execution_count": 7,
     "metadata": {},
     "output_type": "execute_result"
    }
   ],
   "source": [
    "Y.shape"
   ]
  },
  {
   "cell_type": "markdown",
   "metadata": {},
   "source": [
    "### batch extract features"
   ]
  },
  {
   "cell_type": "code",
   "execution_count": 8,
   "metadata": {},
   "outputs": [],
   "source": [
    "batch = 30\n",
    "xs = np.array_split(df.smiles.to_list(), batch)"
   ]
  },
  {
   "cell_type": "code",
   "execution_count": 9,
   "metadata": {},
   "outputs": [],
   "source": [
    "\n",
    "X1_name_all = os.path.join(tmp_feature_dir, 'X1_%s.data' % (task_name))\n",
    "X2_name_all = os.path.join(tmp_feature_dir, 'X2_%s.data' % (task_name))\n",
    "\n",
    "if os.path.exists(X1_name_all) & os.path.exists(X2_name_all):\n",
    "    X1 = load(X1_name_all)\n",
    "    X2 = load(X2_name_all)\n",
    "else:\n",
    "    ## descriptors\n",
    "    X1s = []\n",
    "    for i, batch_smiles in tqdm(enumerate(xs), ascii=True):\n",
    "        ii = str(i).zfill(2)\n",
    "        X1_name = os.path.join(tmp_feature_dir, 'X1_%s_%s.data' % (task_name, ii))\n",
    "        print('save to %s' % X1_name)\n",
    "        if not os.path.exists(X1_name):\n",
    "            X1 = mp1.batch_transform(batch_smiles, n_jobs = 8)\n",
    "            X1 = X1.astype('float32')\n",
    "            dump(X1, X1_name)\n",
    "            \n",
    "        else:\n",
    "            X1 = load(X1_name)\n",
    "        X1s.append(X1)\n",
    "        del X1\n",
    "        \n",
    "    X1 = np.concatenate(X1s)\n",
    "    del X1s\n",
    "    \n",
    "    dump(X1, X1_name_all)\n",
    "    \n",
    "    ## fingerprint\n",
    "    X2s = []      \n",
    "    for i, batch_smiles in tqdm(enumerate(xs), ascii=True):\n",
    "        ii = str(i).zfill(2)\n",
    "        X2_name = os.path.join(tmp_feature_dir, 'X2_%s_%s.data' % (task_name, ii))\n",
    "        if not os.path.exists(X2_name):\n",
    "            X2 = mp2.batch_transform(batch_smiles, n_jobs = 8)\n",
    "            X2 = X2.astype('float32')\n",
    "            dump(X2, X2_name)\n",
    "            \n",
    "        else:\n",
    "            X2 = load(X2_name)\n",
    "            \n",
    "        X2s.append(X2)\n",
    "        del X2\n",
    "        \n",
    "    X2 = np.concatenate(X2s)\n",
    "    del X2s\n",
    "    dump(X2, X2_name_all)"
   ]
  },
  {
   "cell_type": "code",
   "execution_count": 10,
   "metadata": {},
   "outputs": [
    {
     "data": {
      "text/plain": [
       "(456331, 37, 37, 13)"
      ]
     },
     "execution_count": 10,
     "metadata": {},
     "output_type": "execute_result"
    }
   ],
   "source": [
    "molmap1_size = X1.shape[1:]\n",
    "molmap2_size = X2.shape[1:]\n",
    "X1.shape"
   ]
  },
  {
   "cell_type": "code",
   "execution_count": 11,
   "metadata": {},
   "outputs": [],
   "source": [
    "def get_pos_weights(trainY):\n",
    "    \"\"\"pos_weights: neg_n / pos_n \"\"\"\n",
    "    dfY = pd.DataFrame(trainY)\n",
    "    pos = dfY == 1\n",
    "    pos_n = pos.sum(axis=0)\n",
    "    neg = dfY == 0\n",
    "    neg_n = neg.sum(axis=0)\n",
    "    pos_weights = (neg_n / pos_n).values\n",
    "    neg_weights = (pos_n / neg_n).values\n",
    "    return pos_weights, neg_weights\n",
    "\n",
    "prcs_metrics = ['MUV', 'PCBA']"
   ]
  },
  {
   "cell_type": "code",
   "execution_count": 12,
   "metadata": {},
   "outputs": [],
   "source": [
    "epochs = 800\n",
    "patience = 10 #early stopping, dual to large computation cost, the larger dataset  set small waitig patience for early stopping\n",
    "dense_layers = [2048]  #1310 outputs\n",
    "\n",
    "batch_size = 128\n",
    "lr = 1e-4\n",
    "weight_decay = 0\n",
    "\n",
    "monitor = 'val_auc'\n",
    "dense_avf = 'relu'\n",
    "last_avf = None #sigmoid in loss\n",
    "\n",
    "if task_name in prcs_metrics:\n",
    "    metric = 'PRC'\n",
    "else:\n",
    "    metric = 'ROC'"
   ]
  },
  {
   "cell_type": "code",
   "execution_count": 13,
   "metadata": {},
   "outputs": [
    {
     "name": "stdout",
     "output_type": "stream",
     "text": [
      "365047 45631 45631\n",
      "epoch: 0001, loss: 0.6953 - val_loss: 0.6948; auc: 0.6349 - val_auc: 0.6179                                                                                                    \n",
      "epoch: 0002, loss: 0.6944 - val_loss: 0.6944; auc: 0.6898 - val_auc: 0.6903                                                                                                    \n",
      "epoch: 0003, loss: 0.6939 - val_loss: 0.6942; auc: 0.7209 - val_auc: 0.7077                                                                                                    \n",
      "epoch: 0004, loss: 0.6934 - val_loss: 0.6939; auc: 0.7386 - val_auc: 0.7166                                                                                                    \n",
      "epoch: 0005, loss: 0.6931 - val_loss: 0.6939; auc: 0.7649 - val_auc: 0.7240                                                                                                    \n",
      "epoch: 0006, loss: 0.6929 - val_loss: 0.6936; auc: 0.7747 - val_auc: 0.7250                                                                                                    \n",
      "epoch: 0007, loss: 0.6926 - val_loss: 0.6939; auc: 0.7897 - val_auc: 0.7325                                                                                                    \n",
      "epoch: 0008, loss: 0.6924 - val_loss: 0.6935; auc: 0.8012 - val_auc: 0.7403                                                                                                    \n",
      "epoch: 0009, loss: 0.6922 - val_loss: 0.6942; auc: 0.8101 - val_auc: 0.7153                                                                                                    \n",
      "epoch: 0010, loss: 0.6921 - val_loss: 0.6942; auc: 0.8232 - val_auc: 0.7398                                                                                                    \n",
      "epoch: 0011, loss: 0.6920 - val_loss: 0.6937; auc: 0.8321 - val_auc: 0.7470                                                                                                    \n",
      "epoch: 0012, loss: 0.6919 - val_loss: 0.6937; auc: 0.8386 - val_auc: 0.7479                                                                                                    \n",
      "epoch: 0013, loss: 0.6918 - val_loss: 0.6939; auc: 0.8484 - val_auc: 0.7518                                                                                                    \n",
      "epoch: 0014, loss: 0.6917 - val_loss: 0.6941; auc: 0.8549 - val_auc: 0.7508                                                                                                    \n",
      "epoch: 0015, loss: 0.6916 - val_loss: 0.6942; auc: 0.8636 - val_auc: 0.7626                                                                                                    \n",
      "epoch: 0016, loss: 0.6915 - val_loss: 0.6941; auc: 0.8704 - val_auc: 0.7579                                                                                                    \n",
      "epoch: 0017, loss: 0.6914 - val_loss: 0.6941; auc: 0.8768 - val_auc: 0.7549                                                                                                    \n",
      "epoch: 0018, loss: 0.6913 - val_loss: 0.6940; auc: 0.8811 - val_auc: 0.7560                                                                                                    \n",
      "epoch: 0019, loss: 0.6913 - val_loss: 0.6942; auc: 0.8879 - val_auc: 0.7601                                                                                                    \n",
      "epoch: 0020, loss: 0.6912 - val_loss: 0.6944; auc: 0.8946 - val_auc: 0.7520                                                                                                    \n",
      "epoch: 0021, loss: 0.6911 - val_loss: 0.6940; auc: 0.8992 - val_auc: 0.7577                                                                                                    \n",
      "epoch: 0022, loss: 0.6911 - val_loss: 0.6945; auc: 0.9052 - val_auc: 0.7557                                                                                                    \n",
      "epoch: 0023, loss: 0.6910 - val_loss: 0.6944; auc: 0.9078 - val_auc: 0.7648                                                                                                    \n",
      "epoch: 0024, loss: 0.6909 - val_loss: 0.6953; auc: 0.9133 - val_auc: 0.7607                                                                                                    \n",
      "epoch: 0025, loss: 0.6909 - val_loss: 0.6958; auc: 0.9179 - val_auc: 0.7607                                                                                                    \n",
      "epoch: 0026, loss: 0.6908 - val_loss: 0.6952; auc: 0.9223 - val_auc: 0.7598                                                                                                    \n",
      "epoch: 0027, loss: 0.6907 - val_loss: 0.6954; auc: 0.9263 - val_auc: 0.7458                                                                                                    \n",
      "epoch: 0028, loss: 0.6907 - val_loss: 0.6955; auc: 0.9300 - val_auc: 0.7622                                                                                                    \n",
      "epoch: 0029, loss: 0.6907 - val_loss: 0.6954; auc: 0.9332 - val_auc: 0.7603                                                                                                    \n",
      "epoch: 0030, loss: 0.6906 - val_loss: 0.6959; auc: 0.9378 - val_auc: 0.7521                                                                                                    \n",
      "epoch: 0031, loss: 0.6905 - val_loss: 0.6957; auc: 0.9414 - val_auc: 0.7584                                                                                                    \n",
      "epoch: 0032, loss: 0.6905 - val_loss: 0.6965; auc: 0.9440 - val_auc: 0.7573                                                                                                    \n",
      "epoch: 0033, loss: 0.6904 - val_loss: 0.6958; auc: 0.9471 - val_auc: 0.7605                                                                                                    \n",
      "\n",
      "Restoring model weights from the end of the best epoch.\n",
      "\n",
      "Epoch 00033: early stopping\n",
      "365047 45631 45631\n",
      "epoch: 0001, loss: 0.6953 - val_loss: 0.6944; auc: 0.6486 - val_auc: 0.6630                                                                                                    \n",
      "epoch: 0002, loss: 0.6943 - val_loss: 0.6941; auc: 0.7041 - val_auc: 0.6891                                                                                                    \n",
      "epoch: 0003, loss: 0.6938 - val_loss: 0.6935; auc: 0.7284 - val_auc: 0.7165                                                                                                    \n",
      "epoch: 0004, loss: 0.6934 - val_loss: 0.6934; auc: 0.7460 - val_auc: 0.7267                                                                                                    \n",
      "epoch: 0005, loss: 0.6931 - val_loss: 0.6936; auc: 0.7582 - val_auc: 0.7365                                                                                                    \n",
      "epoch: 0006, loss: 0.6928 - val_loss: 0.6934; auc: 0.7763 - val_auc: 0.7319                                                                                                    \n",
      "epoch: 0007, loss: 0.6926 - val_loss: 0.6933; auc: 0.7913 - val_auc: 0.7408                                                                                                    \n",
      "epoch: 0008, loss: 0.6924 - val_loss: 0.6935; auc: 0.8038 - val_auc: 0.7430                                                                                                    \n",
      "epoch: 0009, loss: 0.6922 - val_loss: 0.6935; auc: 0.8152 - val_auc: 0.7326                                                                                                    \n",
      "epoch: 0010, loss: 0.6921 - val_loss: 0.6933; auc: 0.8240 - val_auc: 0.7375                                                                                                    \n",
      "epoch: 0011, loss: 0.6920 - val_loss: 0.6935; auc: 0.8303 - val_auc: 0.7411                                                                                                    \n",
      "epoch: 0012, loss: 0.6919 - val_loss: 0.6936; auc: 0.8412 - val_auc: 0.7323                                                                                                    \n",
      "epoch: 0013, loss: 0.6918 - val_loss: 0.6933; auc: 0.8457 - val_auc: 0.7490                                                                                                    \n",
      "epoch: 0014, loss: 0.6917 - val_loss: 0.6935; auc: 0.8568 - val_auc: 0.7420                                                                                                    \n",
      "epoch: 0015, loss: 0.6916 - val_loss: 0.6935; auc: 0.8632 - val_auc: 0.7405                                                                                                    \n",
      "epoch: 0016, loss: 0.6915 - val_loss: 0.6934; auc: 0.8697 - val_auc: 0.7434                                                                                                    \n",
      "epoch: 0017, loss: 0.6914 - val_loss: 0.6936; auc: 0.8733 - val_auc: 0.7501                                                                                                    \n",
      "epoch: 0018, loss: 0.6914 - val_loss: 0.6940; auc: 0.8804 - val_auc: 0.7402                                                                                                    \n",
      "epoch: 0019, loss: 0.6913 - val_loss: 0.6943; auc: 0.8857 - val_auc: 0.7453                                                                                                    \n",
      "epoch: 0020, loss: 0.6912 - val_loss: 0.6941; auc: 0.8912 - val_auc: 0.7669                                                                                                    \n",
      "epoch: 0021, loss: 0.6911 - val_loss: 0.6942; auc: 0.8960 - val_auc: 0.7445                                                                                                    \n",
      "epoch: 0022, loss: 0.6911 - val_loss: 0.6943; auc: 0.9005 - val_auc: 0.7594                                                                                                    \n",
      "epoch: 0023, loss: 0.6910 - val_loss: 0.6942; auc: 0.9070 - val_auc: 0.7574                                                                                                    \n",
      "epoch: 0024, loss: 0.6910 - val_loss: 0.6943; auc: 0.9108 - val_auc: 0.7507                                                                                                    \n",
      "epoch: 0025, loss: 0.6909 - val_loss: 0.6944; auc: 0.9154 - val_auc: 0.7582                                                                                                    \n",
      "epoch: 0026, loss: 0.6909 - val_loss: 0.6946; auc: 0.9189 - val_auc: 0.7479                                                                                                    \n",
      "epoch: 0027, loss: 0.6908 - val_loss: 0.6950; auc: 0.9240 - val_auc: 0.7503                                                                                                    \n",
      "epoch: 0028, loss: 0.6908 - val_loss: 0.6953; auc: 0.9243 - val_auc: 0.7444                                                                                                    \n",
      "epoch: 0029, loss: 0.6907 - val_loss: 0.6952; auc: 0.9305 - val_auc: 0.7495                                                                                                    \n",
      "epoch: 0030, loss: 0.6906 - val_loss: 0.6966; auc: 0.9331 - val_auc: 0.7570                                                                                                    \n",
      "\n",
      "Restoring model weights from the end of the best epoch.\n",
      "\n",
      "Epoch 00030: early stopping\n",
      "365048 45630 45631\n",
      "epoch: 0001, loss: 0.6954 - val_loss: 0.6948; auc: 0.6512 - val_auc: 0.6060                                                                                                    \n",
      "epoch: 0002, loss: 0.6944 - val_loss: 0.6941; auc: 0.7088 - val_auc: 0.6594                                                                                                    \n",
      "epoch: 0003, loss: 0.6939 - val_loss: 0.6938; auc: 0.7361 - val_auc: 0.6605                                                                                                    \n",
      "epoch: 0004, loss: 0.6934 - val_loss: 0.6938; auc: 0.7587 - val_auc: 0.6768                                                                                                    \n",
      "epoch: 0005, loss: 0.6931 - val_loss: 0.6939; auc: 0.7664 - val_auc: 0.6818                                                                                                    \n",
      "epoch: 0006, loss: 0.6928 - val_loss: 0.6936; auc: 0.7863 - val_auc: 0.6868                                                                                                    \n",
      "epoch: 0007, loss: 0.6926 - val_loss: 0.6936; auc: 0.7982 - val_auc: 0.6901                                                                                                    \n",
      "epoch: 0008, loss: 0.6924 - val_loss: 0.6934; auc: 0.8003 - val_auc: 0.6955                                                                                                    \n",
      "epoch: 0009, loss: 0.6923 - val_loss: 0.6934; auc: 0.8172 - val_auc: 0.6832                                                                                                    \n",
      "epoch: 0010, loss: 0.6921 - val_loss: 0.6933; auc: 0.8271 - val_auc: 0.6993                                                                                                    \n",
      "epoch: 0011, loss: 0.6920 - val_loss: 0.6935; auc: 0.8366 - val_auc: 0.7069                                                                                                    \n",
      "epoch: 0012, loss: 0.6919 - val_loss: 0.6936; auc: 0.8454 - val_auc: 0.7114                                                                                                    \n",
      "epoch: 0013, loss: 0.6918 - val_loss: 0.6939; auc: 0.8526 - val_auc: 0.7156                                                                                                    \n",
      "epoch: 0014, loss: 0.6917 - val_loss: 0.6934; auc: 0.8572 - val_auc: 0.7153                                                                                                    \n",
      "epoch: 0015, loss: 0.6916 - val_loss: 0.6938; auc: 0.8623 - val_auc: 0.7169                                                                                                    \n",
      "epoch: 0016, loss: 0.6915 - val_loss: 0.6941; auc: 0.8712 - val_auc: 0.7170                                                                                                    \n",
      "epoch: 0017, loss: 0.6915 - val_loss: 0.6941; auc: 0.8768 - val_auc: 0.7267                                                                                                    \n",
      "epoch: 0018, loss: 0.6914 - val_loss: 0.6938; auc: 0.8801 - val_auc: 0.7260                                                                                                    \n",
      "epoch: 0019, loss: 0.6913 - val_loss: 0.6939; auc: 0.8873 - val_auc: 0.7292                                                                                                    \n",
      "epoch: 0020, loss: 0.6913 - val_loss: 0.6944; auc: 0.8930 - val_auc: 0.7210                                                                                                    \n",
      "epoch: 0021, loss: 0.6912 - val_loss: 0.6938; auc: 0.8972 - val_auc: 0.7262                                                                                                    \n",
      "epoch: 0022, loss: 0.6911 - val_loss: 0.6946; auc: 0.9028 - val_auc: 0.7280                                                                                                    \n",
      "epoch: 0023, loss: 0.6911 - val_loss: 0.6943; auc: 0.9058 - val_auc: 0.7288                                                                                                    \n",
      "epoch: 0024, loss: 0.6910 - val_loss: 0.6939; auc: 0.9109 - val_auc: 0.7352                                                                                                    \n",
      "epoch: 0025, loss: 0.6910 - val_loss: 0.6945; auc: 0.9137 - val_auc: 0.7233                                                                                                    \n",
      "epoch: 0026, loss: 0.6909 - val_loss: 0.6949; auc: 0.9184 - val_auc: 0.7310                                                                                                    \n",
      "epoch: 0027, loss: 0.6908 - val_loss: 0.6955; auc: 0.9219 - val_auc: 0.7360                                                                                                    \n",
      "epoch: 0028, loss: 0.6908 - val_loss: 0.6948; auc: 0.9265 - val_auc: 0.7315                                                                                                    \n",
      "epoch: 0029, loss: 0.6908 - val_loss: 0.6949; auc: 0.9294 - val_auc: 0.7423                                                                                                    \n",
      "epoch: 0030, loss: 0.6907 - val_loss: 0.6955; auc: 0.9322 - val_auc: 0.7341                                                                                                    \n",
      "epoch: 0031, loss: 0.6906 - val_loss: 0.6955; auc: 0.9364 - val_auc: 0.7364                                                                                                    \n",
      "epoch: 0032, loss: 0.6906 - val_loss: 0.6953; auc: 0.9405 - val_auc: 0.7217                                                                                                    \n",
      "epoch: 0033, loss: 0.6905 - val_loss: 0.6955; auc: 0.9428 - val_auc: 0.7277                                                                                                    \n",
      "epoch: 0034, loss: 0.6905 - val_loss: 0.6959; auc: 0.9461 - val_auc: 0.7312                                                                                                    \n",
      "epoch: 0035, loss: 0.6905 - val_loss: 0.6954; auc: 0.9474 - val_auc: 0.7316                                                                                                    \n",
      "epoch: 0036, loss: 0.6904 - val_loss: 0.6958; auc: 0.9508 - val_auc: 0.7284                                                                                                    \n",
      "epoch: 0037, loss: 0.6904 - val_loss: 0.6963; auc: 0.9532 - val_auc: 0.7335                                                                                                    \n",
      "epoch: 0038, loss: 0.6903 - val_loss: 0.6967; auc: 0.9562 - val_auc: 0.7346                                                                                                    \n",
      "epoch: 0039, loss: 0.6903 - val_loss: 0.6971; auc: 0.9585 - val_auc: 0.7344                                                                                                    \n",
      "\n",
      "Restoring model weights from the end of the best epoch.\n",
      "\n",
      "Epoch 00039: early stopping\n"
     ]
    }
   ],
   "source": [
    "results = []\n",
    "for i, split_idxs in enumerate(induces):\n",
    "\n",
    "    train_idx, valid_idx, test_idx = split_idxs\n",
    "    \n",
    "    print(len(train_idx), len(valid_idx), len(test_idx))\n",
    "    \n",
    "    train_idx = list(set(train_idx) - set(nan_idx))\n",
    "    valid_idx = list(set(valid_idx) - set(nan_idx))\n",
    "    test_idx = list(set(test_idx) - set(nan_idx))\n",
    "\n",
    "    trainX = (X1[train_idx], X2[train_idx])\n",
    "    trainY = Y[train_idx]\n",
    "\n",
    "    validX = (X1[valid_idx], X2[valid_idx])\n",
    "    validY = Y[valid_idx]\n",
    "\n",
    "    testX = (X1[test_idx], X2[test_idx])\n",
    "    testY = Y[test_idx]            \n",
    "\n",
    "    pos_weights, neg_weights = get_pos_weights(trainY)\n",
    "    loss = lambda y_true, y_pred: molmodel.loss.weighted_cross_entropy(y_true,y_pred, pos_weights, MASK = -1)\n",
    "\n",
    "    model = molmodel.net.DoublePathNet(molmap1_size, molmap2_size, \n",
    "                                       n_outputs=Y.shape[-1], \n",
    "                                       dense_layers=dense_layers, \n",
    "                                       dense_avf = dense_avf, \n",
    "                                       last_avf=last_avf)\n",
    "\n",
    "    opt = tf.keras.optimizers.Adam(lr=lr, beta_1=0.9, beta_2=0.999, epsilon=1e-08, decay=0.0) #\n",
    "    #import tensorflow_addons as tfa\n",
    "    #opt = tfa.optimizers.AdamW(weight_decay = 0.1,learning_rate=0.001,beta1=0.9,beta2=0.999, epsilon=1e-08)\n",
    "    model.compile(optimizer = opt, loss = loss)\n",
    "\n",
    "    performance = molmodel.cbks.CLA_EarlyStoppingAndPerformance((trainX, trainY), \n",
    "                                                                   (validX, validY), \n",
    "                                                                   patience = patience, \n",
    "                                                                   criteria = monitor,\n",
    "                                                                   metric = metric,\n",
    "                                                                  )\n",
    "    model.fit(trainX, trainY, batch_size=batch_size, \n",
    "          epochs=epochs, verbose= 0, shuffle = True, \n",
    "          validation_data = (validX, validY), \n",
    "          callbacks=[performance]) \n",
    "\n",
    "\n",
    "    best_epoch = performance.best_epoch\n",
    "    trainable_params = model.count_params()\n",
    "    \n",
    "    train_aucs = performance.evaluate(trainX, trainY)            \n",
    "    valid_aucs = performance.evaluate(validX, validY)            \n",
    "    test_aucs = performance.evaluate(testX, testY)\n",
    "\n",
    "    final_res = {\n",
    "                     'task_name':task_name,            \n",
    "                     'train_auc':np.nanmean(train_aucs), \n",
    "                     'valid_auc':np.nanmean(valid_aucs),                      \n",
    "                     'test_auc':np.nanmean(test_aucs), \n",
    "                     'metric':metric,\n",
    "                     '# trainable params': trainable_params,\n",
    "                     'best_epoch': best_epoch,\n",
    "                     'batch_size':batch_size,\n",
    "                     'lr': lr,\n",
    "                     'weight_decay':weight_decay\n",
    "                    }\n",
    "    \n",
    "    results.append(final_res)"
   ]
  },
  {
   "cell_type": "code",
   "execution_count": 14,
   "metadata": {},
   "outputs": [
    {
     "data": {
      "text/plain": [
       "<matplotlib.axes._subplots.AxesSubplot at 0x7f1eb85a3588>"
      ]
     },
     "execution_count": 14,
     "metadata": {},
     "output_type": "execute_result"
    },
    {
     "data": {
      "image/png": "[encoded data removed]",
      "text/plain": [
       "<Figure size 432x288 with 1 Axes>"
      ]
     },
     "metadata": {
      "needs_background": "light"
     },
     "output_type": "display_data"
    }
   ],
   "source": [
    "pd.DataFrame(performance.history)[['auc', 'val_auc']].plot()"
   ]
  },
  {
   "cell_type": "code",
   "execution_count": 15,
   "metadata": {},
   "outputs": [
    {
     "data": {
      "text/html": [
       "<div>\n",
       "<style scoped>\n",
       "    .dataframe tbody tr th:only-of-type {\n",
       "        vertical-align: middle;\n",
       "    }\n",
       "\n",
       "    .dataframe tbody tr th {\n",
       "        vertical-align: top;\n",
       "    }\n",
       "\n",
       "    .dataframe thead th {\n",
       "        text-align: right;\n",
       "    }\n",
       "</style>\n",
       "<table border=\"1\" class=\"dataframe\">\n",
       "  <thead>\n",
       "    <tr style=\"text-align: right;\">\n",
       "      <th></th>\n",
       "      <th>task_name</th>\n",
       "      <th>train_auc</th>\n",
       "      <th>valid_auc</th>\n",
       "      <th>test_auc</th>\n",
       "      <th>metric</th>\n",
       "      <th># trainable params</th>\n",
       "      <th>best_epoch</th>\n",
       "      <th>batch_size</th>\n",
       "      <th>lr</th>\n",
       "      <th>weight_decay</th>\n",
       "    </tr>\n",
       "  </thead>\n",
       "  <tbody>\n",
       "    <tr>\n",
       "      <th>0</th>\n",
       "      <td>ChEMBL</td>\n",
       "      <td>0.907848</td>\n",
       "      <td>0.764787</td>\n",
       "      <td>0.760440</td>\n",
       "      <td>ROC</td>\n",
       "      <td>4140734</td>\n",
       "      <td>22</td>\n",
       "      <td>128</td>\n",
       "      <td>0.0001</td>\n",
       "      <td>0</td>\n",
       "    </tr>\n",
       "    <tr>\n",
       "      <th>1</th>\n",
       "      <td>ChEMBL</td>\n",
       "      <td>0.891207</td>\n",
       "      <td>0.766938</td>\n",
       "      <td>0.745258</td>\n",
       "      <td>ROC</td>\n",
       "      <td>4140734</td>\n",
       "      <td>19</td>\n",
       "      <td>128</td>\n",
       "      <td>0.0001</td>\n",
       "      <td>0</td>\n",
       "    </tr>\n",
       "    <tr>\n",
       "      <th>2</th>\n",
       "      <td>ChEMBL</td>\n",
       "      <td>0.929407</td>\n",
       "      <td>0.742331</td>\n",
       "      <td>0.745781</td>\n",
       "      <td>ROC</td>\n",
       "      <td>4140734</td>\n",
       "      <td>28</td>\n",
       "      <td>128</td>\n",
       "      <td>0.0001</td>\n",
       "      <td>0</td>\n",
       "    </tr>\n",
       "  </tbody>\n",
       "</table>\n",
       "</div>"
      ],
      "text/plain": [
       "  task_name  train_auc  valid_auc  test_auc metric  # trainable params  \\\n",
       "0    ChEMBL   0.907848   0.764787  0.760440    ROC             4140734   \n",
       "1    ChEMBL   0.891207   0.766938  0.745258    ROC             4140734   \n",
       "2    ChEMBL   0.929407   0.742331  0.745781    ROC             4140734   \n",
       "\n",
       "   best_epoch  batch_size      lr  weight_decay  \n",
       "0          22         128  0.0001             0  \n",
       "1          19         128  0.0001             0  \n",
       "2          28         128  0.0001             0  "
      ]
     },
     "execution_count": 15,
     "metadata": {},
     "output_type": "execute_result"
    }
   ],
   "source": [
    "pd.DataFrame(results)"
   ]
  },
  {
   "cell_type": "code",
   "execution_count": 16,
   "metadata": {},
   "outputs": [
    {
     "data": {
      "text/plain": [
       "0.008618132842095953"
      ]
     },
     "execution_count": 16,
     "metadata": {},
     "output_type": "execute_result"
    }
   ],
   "source": [
    "pd.DataFrame(results).test_auc.std()"
   ]
  },
  {
   "cell_type": "code",
   "execution_count": 17,
   "metadata": {},
   "outputs": [
    {
     "data": {
      "text/plain": [
       "0.7504929158022563"
      ]
     },
     "execution_count": 17,
     "metadata": {},
     "output_type": "execute_result"
    }
   ],
   "source": [
    "pd.DataFrame(results).test_auc.mean()"
   ]
  },
  {
   "cell_type": "code",
   "execution_count": 18,
   "metadata": {},
   "outputs": [],
   "source": [
    "pd.DataFrame(results).to_csv('./results/%s.csv' % task_name)"
   ]
  },
  {
   "cell_type": "code",
   "execution_count": null,
   "metadata": {},
   "outputs": [],
   "source": []
  },
  {
   "cell_type": "code",
   "execution_count": null,
   "metadata": {},
   "outputs": [],
   "source": []
  },
  {
   "cell_type": "code",
   "execution_count": null,
   "metadata": {},
   "outputs": [],
   "source": []
  }
 ],
 "metadata": {
  "kernelspec": {
   "display_name": "Python 3",
   "language": "python",
   "name": "python3"
  },
  "language_info": {
   "codemirror_mode": {
    "name": "ipython",
    "version": 3
   },
   "file_extension": ".py",
   "mimetype": "text/x-python",
   "name": "python",
   "nbconvert_exporter": "python",
   "pygments_lexer": "ipython3",
   "version": "3.6.9"
  }
 },
 "nbformat": 4,
 "nbformat_minor": 4
}
