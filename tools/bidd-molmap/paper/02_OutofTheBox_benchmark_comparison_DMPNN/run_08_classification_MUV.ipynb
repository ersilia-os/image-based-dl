{
 "cells": [
  {
   "cell_type": "code",
   "execution_count": 1,
   "metadata": {},
   "outputs": [
    {
     "name": "stderr",
     "output_type": "stream",
     "text": [
      "RDKit WARNING: [17:37:09] Enabling RDKit 2019.09.2 jupyter extensions\n",
      "/home/shenwanxiang/anaconda3/envs/deepchem23/lib/python3.6/site-packages/tensorflow/python/framework/dtypes.py:516: FutureWarning: Passing (type, 1) or '1type' as a synonym of type is deprecated; in a future version of numpy, it will be understood as (type, (1,)) / '(1,)type'.\n",
      "  _np_qint8 = np.dtype([(\"qint8\", np.int8, 1)])\n",
      "/home/shenwanxiang/anaconda3/envs/deepchem23/lib/python3.6/site-packages/tensorflow/python/framework/dtypes.py:517: FutureWarning: Passing (type, 1) or '1type' as a synonym of type is deprecated; in a future version of numpy, it will be understood as (type, (1,)) / '(1,)type'.\n",
      "  _np_quint8 = np.dtype([(\"quint8\", np.uint8, 1)])\n",
      "/home/shenwanxiang/anaconda3/envs/deepchem23/lib/python3.6/site-packages/tensorflow/python/framework/dtypes.py:518: FutureWarning: Passing (type, 1) or '1type' as a synonym of type is deprecated; in a future version of numpy, it will be understood as (type, (1,)) / '(1,)type'.\n",
      "  _np_qint16 = np.dtype([(\"qint16\", np.int16, 1)])\n",
      "/home/shenwanxiang/anaconda3/envs/deepchem23/lib/python3.6/site-packages/tensorflow/python/framework/dtypes.py:519: FutureWarning: Passing (type, 1) or '1type' as a synonym of type is deprecated; in a future version of numpy, it will be understood as (type, (1,)) / '(1,)type'.\n",
      "  _np_quint16 = np.dtype([(\"quint16\", np.uint16, 1)])\n",
      "/home/shenwanxiang/anaconda3/envs/deepchem23/lib/python3.6/site-packages/tensorflow/python/framework/dtypes.py:520: FutureWarning: Passing (type, 1) or '1type' as a synonym of type is deprecated; in a future version of numpy, it will be understood as (type, (1,)) / '(1,)type'.\n",
      "  _np_qint32 = np.dtype([(\"qint32\", np.int32, 1)])\n",
      "/home/shenwanxiang/anaconda3/envs/deepchem23/lib/python3.6/site-packages/tensorflow/python/framework/dtypes.py:525: FutureWarning: Passing (type, 1) or '1type' as a synonym of type is deprecated; in a future version of numpy, it will be understood as (type, (1,)) / '(1,)type'.\n",
      "  np_resource = np.dtype([(\"resource\", np.ubyte, 1)])\n",
      "/home/shenwanxiang/anaconda3/envs/deepchem23/lib/python3.6/site-packages/tensorboard/compat/tensorflow_stub/dtypes.py:541: FutureWarning: Passing (type, 1) or '1type' as a synonym of type is deprecated; in a future version of numpy, it will be understood as (type, (1,)) / '(1,)type'.\n",
      "  _np_qint8 = np.dtype([(\"qint8\", np.int8, 1)])\n",
      "/home/shenwanxiang/anaconda3/envs/deepchem23/lib/python3.6/site-packages/tensorboard/compat/tensorflow_stub/dtypes.py:542: FutureWarning: Passing (type, 1) or '1type' as a synonym of type is deprecated; in a future version of numpy, it will be understood as (type, (1,)) / '(1,)type'.\n",
      "  _np_quint8 = np.dtype([(\"quint8\", np.uint8, 1)])\n",
      "/home/shenwanxiang/anaconda3/envs/deepchem23/lib/python3.6/site-packages/tensorboard/compat/tensorflow_stub/dtypes.py:543: FutureWarning: Passing (type, 1) or '1type' as a synonym of type is deprecated; in a future version of numpy, it will be understood as (type, (1,)) / '(1,)type'.\n",
      "  _np_qint16 = np.dtype([(\"qint16\", np.int16, 1)])\n",
      "/home/shenwanxiang/anaconda3/envs/deepchem23/lib/python3.6/site-packages/tensorboard/compat/tensorflow_stub/dtypes.py:544: FutureWarning: Passing (type, 1) or '1type' as a synonym of type is deprecated; in a future version of numpy, it will be understood as (type, (1,)) / '(1,)type'.\n",
      "  _np_quint16 = np.dtype([(\"quint16\", np.uint16, 1)])\n",
      "/home/shenwanxiang/anaconda3/envs/deepchem23/lib/python3.6/site-packages/tensorboard/compat/tensorflow_stub/dtypes.py:545: FutureWarning: Passing (type, 1) or '1type' as a synonym of type is deprecated; in a future version of numpy, it will be understood as (type, (1,)) / '(1,)type'.\n",
      "  _np_qint32 = np.dtype([(\"qint32\", np.int32, 1)])\n",
      "/home/shenwanxiang/anaconda3/envs/deepchem23/lib/python3.6/site-packages/tensorboard/compat/tensorflow_stub/dtypes.py:550: FutureWarning: Passing (type, 1) or '1type' as a synonym of type is deprecated; in a future version of numpy, it will be understood as (type, (1,)) / '(1,)type'.\n",
      "  np_resource = np.dtype([(\"resource\", np.ubyte, 1)])\n"
     ]
    }
   ],
   "source": [
    "from molmap import model as molmodel\n",
    "import molmap\n",
    "\n",
    "import matplotlib.pyplot as plt\n",
    "\n",
    "import pandas as pd\n",
    "from tqdm import tqdm\n",
    "from joblib import load, dump\n",
    "tqdm.pandas(ascii=True)\n",
    "import numpy as np\n",
    "\n",
    "import tensorflow as tf\n",
    "import os\n",
    "os.environ[\"CUDA_VISIBLE_DEVICES\"]=\"1\"\n",
    "np.random.seed(123)\n",
    "tf.compat.v1.set_random_seed(123)\n",
    "\n",
    "\n",
    "tmp_feature_dir = './tmpignore'\n",
    "if not os.path.exists(tmp_feature_dir):\n",
    "    os.makedirs(tmp_feature_dir)"
   ]
  },
  {
   "cell_type": "code",
   "execution_count": 2,
   "metadata": {},
   "outputs": [],
   "source": [
    "\n",
    "mp1 = molmap.loadmap('../descriptor.mp')\n",
    "mp2 = molmap.loadmap('../fingerprint.mp')\n"
   ]
  },
  {
   "cell_type": "code",
   "execution_count": 3,
   "metadata": {},
   "outputs": [
    {
     "name": "stdout",
     "output_type": "stream",
     "text": [
      "loading dataset: MUV number of split times: 3\n"
     ]
    }
   ],
   "source": [
    "task_name = 'MUV'\n",
    "from chembench import load_data\n",
    "df, induces = load_data(task_name)"
   ]
  },
  {
   "cell_type": "code",
   "execution_count": 4,
   "metadata": {},
   "outputs": [],
   "source": [
    "MASK = -1\n",
    "smiles_col = df.columns[0]\n",
    "values_col = df.columns[1:]\n",
    "Y = df[values_col].astype('float').fillna(MASK).values\n",
    "if Y.shape[1] == 0:\n",
    "    Y = Y.reshape(-1, 1)\n",
    "\n",
    "\n",
    "\n",
    "X1_name = os.path.join(tmp_feature_dir, 'X1_%s.data' % task_name)\n",
    "X2_name = os.path.join(tmp_feature_dir, 'X2_%s.data' % task_name)\n",
    "if not os.path.exists(X1_name):\n",
    "    X1 = mp1.batch_transform(df.smiles, n_jobs = 8)\n",
    "    dump(X1, X1_name)\n",
    "else:\n",
    "    X1 = load(X1_name)\n",
    "\n",
    "if not os.path.exists(X2_name): \n",
    "    X2 = mp2.batch_transform(df.smiles, n_jobs = 8)\n",
    "    dump(X2, X2_name)\n",
    "else:\n",
    "    X2 = load(X2_name)\n",
    "\n",
    "molmap1_size = X1.shape[1:]\n",
    "molmap2_size = X2.shape[1:]"
   ]
  },
  {
   "cell_type": "code",
   "execution_count": 5,
   "metadata": {},
   "outputs": [],
   "source": [
    "def get_pos_weights(trainY):\n",
    "    \"\"\"pos_weights: neg_n / pos_n \"\"\"\n",
    "    dfY = pd.DataFrame(trainY)\n",
    "    pos = dfY == 1\n",
    "    pos_n = pos.sum(axis=0)\n",
    "    neg = dfY == 0\n",
    "    neg_n = neg.sum(axis=0)\n",
    "    pos_weights = (neg_n / pos_n).values\n",
    "    neg_weights = (pos_n / neg_n).values\n",
    "    return pos_weights, neg_weights\n",
    "\n",
    "prcs_metrics = ['MUV', 'PCBA']"
   ]
  },
  {
   "cell_type": "code",
   "execution_count": 6,
   "metadata": {},
   "outputs": [],
   "source": [
    "epochs = 800\n",
    "patience = 10 #early stopping, dual to large computation cost, the larger dataset  set small waitig patience for early stopping\n",
    "\n",
    "dense_layers = [128] #17\n",
    "\n",
    "batch_size = 128\n",
    "lr = 1e-4\n",
    "weight_decay = 0\n",
    "\n",
    "monitor = 'val_auc'\n",
    "dense_avf = 'relu'\n",
    "last_avf = None #sigmoid in loss\n",
    "\n",
    "if task_name in prcs_metrics:\n",
    "    metric = 'PRC'\n",
    "else:\n",
    "    metric = 'ROC'"
   ]
  },
  {
   "cell_type": "code",
   "execution_count": 7,
   "metadata": {},
   "outputs": [
    {
     "name": "stdout",
     "output_type": "stream",
     "text": [
      "74469 9309 9309\n",
      "WARNING:tensorflow:From /home/shenwanxiang/anaconda3/envs/deepchem23/lib/python3.6/site-packages/tensorflow/python/ops/init_ops.py:1251: calling VarianceScaling.__init__ (from tensorflow.python.ops.init_ops) with dtype is deprecated and will be removed in a future version.\n",
      "Instructions for updating:\n",
      "Call initializer instance with the dtype argument instead of passing it to the constructor\n",
      "epoch: 0001, loss: 0.8050 - val_loss: 0.8089; auc: 0.0216 - val_auc: 0.0050                                                                                                    \n",
      "epoch: 0002, loss: 0.8025 - val_loss: 0.8079; auc: 0.0596 - val_auc: 0.0070                                                                                                    \n",
      "epoch: 0003, loss: 0.8008 - val_loss: 0.8046; auc: 0.0413 - val_auc: 0.0062                                                                                                    \n",
      "epoch: 0004, loss: 0.7956 - val_loss: 0.7958; auc: 0.0343 - val_auc: 0.0078                                                                                                    \n",
      "epoch: 0005, loss: 0.7882 - val_loss: 0.7989; auc: 0.0210 - val_auc: 0.0124                                                                                                    \n",
      "epoch: 0006, loss: 0.7813 - val_loss: 0.7844; auc: 0.0304 - val_auc: 0.0092                                                                                                    \n",
      "epoch: 0007, loss: 0.7733 - val_loss: 0.7806; auc: 0.0350 - val_auc: 0.0118                                                                                                    \n",
      "epoch: 0008, loss: 0.7647 - val_loss: 0.7736; auc: 0.0546 - val_auc: 0.0094                                                                                                    \n",
      "epoch: 0009, loss: 0.7551 - val_loss: 0.7754; auc: 0.0470 - val_auc: 0.0158                                                                                                    \n",
      "epoch: 0010, loss: 0.7471 - val_loss: 0.7713; auc: 0.0533 - val_auc: 0.0109                                                                                                    \n",
      "epoch: 0011, loss: 0.7405 - val_loss: 0.7725; auc: 0.0581 - val_auc: 0.0127                                                                                                    \n",
      "epoch: 0012, loss: 0.7293 - val_loss: 0.7781; auc: 0.0488 - val_auc: 0.0172                                                                                                    \n",
      "epoch: 0013, loss: 0.7211 - val_loss: 0.7657; auc: 0.0718 - val_auc: 0.0162                                                                                                    \n",
      "epoch: 0014, loss: 0.7125 - val_loss: 0.7868; auc: 0.0591 - val_auc: 0.0358                                                                                                    \n",
      "epoch: 0015, loss: 0.7060 - val_loss: 0.7773; auc: 0.0753 - val_auc: 0.0377                                                                                                    \n",
      "epoch: 0016, loss: 0.6978 - val_loss: 0.7927; auc: 0.0808 - val_auc: 0.0393                                                                                                    \n",
      "epoch: 0017, loss: 0.6909 - val_loss: 0.7963; auc: 0.0944 - val_auc: 0.0372                                                                                                    \n",
      "epoch: 0018, loss: 0.6814 - val_loss: 0.8214; auc: 0.0986 - val_auc: 0.0394                                                                                                    \n",
      "epoch: 0019, loss: 0.6793 - val_loss: 0.7644; auc: 0.1630 - val_auc: 0.0224                                                                                                    \n",
      "epoch: 0020, loss: 0.6704 - val_loss: 0.8092; auc: 0.1395 - val_auc: 0.0424                                                                                                    \n",
      "epoch: 0021, loss: 0.6632 - val_loss: 0.8010; auc: 0.1635 - val_auc: 0.0318                                                                                                    \n",
      "epoch: 0022, loss: 0.6561 - val_loss: 0.8448; auc: 0.1584 - val_auc: 0.0756                                                                                                    \n",
      "epoch: 0023, loss: 0.6508 - val_loss: 0.8161; auc: 0.2297 - val_auc: 0.0510                                                                                                    \n",
      "epoch: 0024, loss: 0.6453 - val_loss: 0.8439; auc: 0.2389 - val_auc: 0.0338                                                                                                    \n",
      "epoch: 0025, loss: 0.6410 - val_loss: 0.8405; auc: 0.2888 - val_auc: 0.0422                                                                                                    \n",
      "epoch: 0026, loss: 0.6327 - val_loss: 0.8433; auc: 0.3349 - val_auc: 0.0419                                                                                                    \n",
      "epoch: 0027, loss: 0.6297 - val_loss: 0.8824; auc: 0.3614 - val_auc: 0.0464                                                                                                    \n",
      "epoch: 0028, loss: 0.6293 - val_loss: 0.8245; auc: 0.3736 - val_auc: 0.0371                                                                                                    \n",
      "epoch: 0029, loss: 0.6225 - val_loss: 0.9618; auc: 0.4127 - val_auc: 0.0589                                                                                                    \n",
      "epoch: 0030, loss: 0.6190 - val_loss: 0.9545; auc: 0.4654 - val_auc: 0.0440                                                                                                    \n",
      "epoch: 0031, loss: 0.6160 - val_loss: 1.0102; auc: 0.4906 - val_auc: 0.0500                                                                                                    \n",
      "epoch: 0032, loss: 0.6109 - val_loss: 0.9936; auc: 0.5269 - val_auc: 0.0504                                                                                                    \n",
      "\n",
      "Restoring model weights from the end of the best epoch.\n",
      "\n",
      "Epoch 00032: early stopping\n"
     ]
    },
    {
     "name": "stderr",
     "output_type": "stream",
     "text": [
      "/home/shenwanxiang/.local/lib/python3.6/site-packages/sklearn/metrics/ranking.py:444: RuntimeWarning: invalid value encountered in true_divide\n",
      "  recall = tps / tps[-1]\n"
     ]
    },
    {
     "name": "stdout",
     "output_type": "stream",
     "text": [
      "74469 9309 9309\n",
      "epoch: 0001, loss: 0.8045 - val_loss: 0.7756; auc: 0.0269 - val_auc: 0.0036                                                                                                    \n",
      "epoch: 0002, loss: 0.8031 - val_loss: 0.7731; auc: 0.0672 - val_auc: 0.0247                                                                                                    \n",
      "epoch: 0003, loss: 0.7995 - val_loss: 0.7692; auc: 0.0659 - val_auc: 0.0773                                                                                                    \n",
      "epoch: 0004, loss: 0.7896 - val_loss: 0.7635; auc: 0.0288 - val_auc: 0.0750                                                                                                    \n",
      "epoch: 0005, loss: 0.7799 - val_loss: 0.7647; auc: 0.0328 - val_auc: 0.0763                                                                                                    \n",
      "epoch: 0006, loss: 0.7681 - val_loss: 0.7548; auc: 0.0445 - val_auc: 0.0273                                                                                                    \n",
      "epoch: 0007, loss: 0.7575 - val_loss: 0.7545; auc: 0.0600 - val_auc: 0.0789                                                                                                    \n",
      "epoch: 0008, loss: 0.7483 - val_loss: 0.7558; auc: 0.0557 - val_auc: 0.0285                                                                                                    \n",
      "epoch: 0009, loss: 0.7403 - val_loss: 0.7493; auc: 0.0653 - val_auc: 0.0798                                                                                                    \n",
      "epoch: 0010, loss: 0.7316 - val_loss: 0.7582; auc: 0.0625 - val_auc: 0.0298                                                                                                    \n",
      "epoch: 0011, loss: 0.7236 - val_loss: 0.7637; auc: 0.0615 - val_auc: 0.0164                                                                                                    \n",
      "epoch: 0012, loss: 0.7150 - val_loss: 0.7669; auc: 0.0675 - val_auc: 0.0194                                                                                                    \n",
      "epoch: 0013, loss: 0.7089 - val_loss: 0.7518; auc: 0.0927 - val_auc: 0.0319                                                                                                    \n",
      "epoch: 0014, loss: 0.6996 - val_loss: 0.7553; auc: 0.0933 - val_auc: 0.0269                                                                                                    \n",
      "epoch: 0015, loss: 0.6931 - val_loss: 0.7640; auc: 0.0971 - val_auc: 0.0250                                                                                                    \n",
      "epoch: 0016, loss: 0.6871 - val_loss: 0.7519; auc: 0.1180 - val_auc: 0.0825                                                                                                    \n",
      "epoch: 0017, loss: 0.6786 - val_loss: 0.7555; auc: 0.1419 - val_auc: 0.0847                                                                                                    \n",
      "epoch: 0018, loss: 0.6726 - val_loss: 0.7941; auc: 0.1236 - val_auc: 0.0972                                                                                                    \n",
      "epoch: 0019, loss: 0.6654 - val_loss: 0.8164; auc: 0.1548 - val_auc: 0.0280                                                                                                    \n",
      "epoch: 0020, loss: 0.6621 - val_loss: 0.7994; auc: 0.2061 - val_auc: 0.0871                                                                                                    \n",
      "epoch: 0021, loss: 0.6534 - val_loss: 0.8135; auc: 0.2228 - val_auc: 0.0895                                                                                                    \n",
      "epoch: 0022, loss: 0.6484 - val_loss: 0.7969; auc: 0.2284 - val_auc: 0.1051                                                                                                    \n",
      "epoch: 0023, loss: 0.6429 - val_loss: 0.8130; auc: 0.2548 - val_auc: 0.1006                                                                                                    \n",
      "epoch: 0024, loss: 0.6372 - val_loss: 0.8005; auc: 0.2899 - val_auc: 0.1006                                                                                                    \n",
      "epoch: 0025, loss: 0.6327 - val_loss: 0.7821; auc: 0.3295 - val_auc: 0.0965                                                                                                    \n",
      "epoch: 0026, loss: 0.6275 - val_loss: 0.8552; auc: 0.3222 - val_auc: 0.1195                                                                                                    \n",
      "epoch: 0027, loss: 0.6231 - val_loss: 0.8581; auc: 0.3584 - val_auc: 0.1011                                                                                                    \n",
      "epoch: 0028, loss: 0.6233 - val_loss: 0.8739; auc: 0.4096 - val_auc: 0.1005                                                                                                    \n",
      "epoch: 0029, loss: 0.6170 - val_loss: 0.9295; auc: 0.3853 - val_auc: 0.1013                                                                                                    \n",
      "epoch: 0030, loss: 0.6139 - val_loss: 0.9059; auc: 0.4491 - val_auc: 0.1084                                                                                                    \n",
      "epoch: 0031, loss: 0.6150 - val_loss: 0.8942; auc: 0.5204 - val_auc: 0.1079                                                                                                    \n",
      "epoch: 0032, loss: 0.6108 - val_loss: 0.9158; auc: 0.5035 - val_auc: 0.0977                                                                                                    \n",
      "epoch: 0033, loss: 0.6079 - val_loss: 0.9389; auc: 0.5116 - val_auc: 0.0971                                                                                                    \n",
      "epoch: 0034, loss: 0.6068 - val_loss: 1.0424; auc: 0.6032 - val_auc: 0.1375                                                                                                    \n",
      "epoch: 0035, loss: 0.6013 - val_loss: 0.9592; auc: 0.5829 - val_auc: 0.1231                                                                                                    \n",
      "epoch: 0036, loss: 0.6050 - val_loss: 0.9754; auc: 0.6163 - val_auc: 0.1316                                                                                                    \n",
      "epoch: 0037, loss: 0.5999 - val_loss: 0.9551; auc: 0.6261 - val_auc: 0.1210                                                                                                    \n",
      "epoch: 0038, loss: 0.6010 - val_loss: 1.0122; auc: 0.6222 - val_auc: 0.1222                                                                                                    \n",
      "epoch: 0039, loss: 0.6019 - val_loss: 1.1244; auc: 0.6858 - val_auc: 0.1029                                                                                                    \n",
      "epoch: 0040, loss: 0.5962 - val_loss: 1.0749; auc: 0.7281 - val_auc: 0.1425                                                                                                    \n",
      "epoch: 0041, loss: 0.5948 - val_loss: 1.1353; auc: 0.7508 - val_auc: 0.1251                                                                                                    \n",
      "epoch: 0042, loss: 0.5962 - val_loss: 1.0716; auc: 0.7216 - val_auc: 0.1086                                                                                                    \n",
      "epoch: 0043, loss: 0.5958 - val_loss: 1.2303; auc: 0.6562 - val_auc: 0.1518                                                                                                    \n",
      "epoch: 0044, loss: 0.5958 - val_loss: 1.2247; auc: 0.7633 - val_auc: 0.1364                                                                                                    \n",
      "epoch: 0045, loss: 0.5958 - val_loss: 0.9618; auc: 0.7333 - val_auc: 0.1092                                                                                                    \n",
      "epoch: 0046, loss: 0.6031 - val_loss: 1.2602; auc: 0.6985 - val_auc: 0.1366                                                                                                    \n",
      "epoch: 0047, loss: 0.5911 - val_loss: 1.2000; auc: 0.8004 - val_auc: 0.1176                                                                                                    \n",
      "epoch: 0048, loss: 0.5903 - val_loss: 1.2915; auc: 0.8094 - val_auc: 0.1130                                                                                                    \n",
      "epoch: 0049, loss: 0.5934 - val_loss: 0.9285; auc: 0.7498 - val_auc: 0.1318                                                                                                    \n",
      "epoch: 0050, loss: 0.5946 - val_loss: 1.2918; auc: 0.8112 - val_auc: 0.1351                                                                                                    \n",
      "epoch: 0051, loss: 0.5906 - val_loss: 1.2277; auc: 0.8156 - val_auc: 0.1380                                                                                                    \n",
      "epoch: 0052, loss: 0.5906 - val_loss: 1.3763; auc: 0.7955 - val_auc: 0.1327                                                                                                    \n",
      "epoch: 0053, loss: 0.5897 - val_loss: 1.3532; auc: 0.8663 - val_auc: 0.1279                                                                                                    \n",
      "\n",
      "Restoring model weights from the end of the best epoch.\n",
      "\n",
      "Epoch 00053: early stopping\n",
      "74469 9309 9309\n",
      "epoch: 0001, loss: 0.8055 - val_loss: 0.8431; auc: 0.0211 - val_auc: 0.0071                                                                                                    \n",
      "epoch: 0002, loss: 0.8027 - val_loss: 0.8423; auc: 0.0600 - val_auc: 0.0056                                                                                                    \n",
      "epoch: 0003, loss: 0.8022 - val_loss: 0.8422; auc: 0.0637 - val_auc: 0.0056                                                                                                    \n",
      "epoch: 0004, loss: 0.8005 - val_loss: 0.8381; auc: 0.0771 - val_auc: 0.0064                                                                                                    \n",
      "epoch: 0005, loss: 0.7973 - val_loss: 0.8392; auc: 0.0704 - val_auc: 0.0094                                                                                                    \n",
      "epoch: 0006, loss: 0.7907 - val_loss: 0.8279; auc: 0.0414 - val_auc: 0.0058                                                                                                    \n",
      "epoch: 0007, loss: 0.7831 - val_loss: 0.8227; auc: 0.0575 - val_auc: 0.0069                                                                                                    \n",
      "epoch: 0008, loss: 0.7717 - val_loss: 0.8198; auc: 0.0626 - val_auc: 0.0088                                                                                                    \n",
      "epoch: 0009, loss: 0.7589 - val_loss: 0.8206; auc: 0.0630 - val_auc: 0.0088                                                                                                    \n",
      "epoch: 0010, loss: 0.7482 - val_loss: 0.8174; auc: 0.0710 - val_auc: 0.0085                                                                                                    \n",
      "epoch: 0011, loss: 0.7388 - val_loss: 0.8133; auc: 0.0777 - val_auc: 0.0118                                                                                                    \n",
      "epoch: 0012, loss: 0.7300 - val_loss: 0.8312; auc: 0.0745 - val_auc: 0.0124                                                                                                    \n",
      "epoch: 0013, loss: 0.7205 - val_loss: 0.8794; auc: 0.0718 - val_auc: 0.0119                                                                                                    \n",
      "epoch: 0014, loss: 0.7141 - val_loss: 0.8472; auc: 0.0780 - val_auc: 0.0125                                                                                                    \n",
      "epoch: 0015, loss: 0.7056 - val_loss: 0.8187; auc: 0.1018 - val_auc: 0.0115                                                                                                    \n",
      "epoch: 0016, loss: 0.6994 - val_loss: 0.8351; auc: 0.1218 - val_auc: 0.0137                                                                                                    \n",
      "epoch: 0017, loss: 0.6945 - val_loss: 0.8565; auc: 0.1086 - val_auc: 0.0149                                                                                                    \n",
      "epoch: 0018, loss: 0.6866 - val_loss: 0.8889; auc: 0.1098 - val_auc: 0.0157                                                                                                    \n",
      "epoch: 0019, loss: 0.6821 - val_loss: 0.8423; auc: 0.1396 - val_auc: 0.0152                                                                                                    \n",
      "epoch: 0020, loss: 0.6727 - val_loss: 0.9264; auc: 0.1437 - val_auc: 0.0149                                                                                                    \n",
      "epoch: 0021, loss: 0.6707 - val_loss: 0.8703; auc: 0.1630 - val_auc: 0.0151                                                                                                    \n",
      "epoch: 0022, loss: 0.6655 - val_loss: 0.8761; auc: 0.1784 - val_auc: 0.0137                                                                                                    \n",
      "epoch: 0023, loss: 0.6597 - val_loss: 0.8667; auc: 0.1950 - val_auc: 0.0141                                                                                                    \n",
      "epoch: 0024, loss: 0.6526 - val_loss: 0.9360; auc: 0.1945 - val_auc: 0.0169                                                                                                    \n",
      "epoch: 0025, loss: 0.6479 - val_loss: 0.9153; auc: 0.2335 - val_auc: 0.0143                                                                                                    \n",
      "epoch: 0026, loss: 0.6431 - val_loss: 1.0224; auc: 0.2455 - val_auc: 0.0166                                                                                                    \n",
      "epoch: 0027, loss: 0.6400 - val_loss: 0.9032; auc: 0.2486 - val_auc: 0.0126                                                                                                    \n",
      "epoch: 0028, loss: 0.6364 - val_loss: 0.9822; auc: 0.2915 - val_auc: 0.0162                                                                                                    \n",
      "epoch: 0029, loss: 0.6319 - val_loss: 1.0002; auc: 0.3045 - val_auc: 0.0136                                                                                                    \n",
      "epoch: 0030, loss: 0.6306 - val_loss: 1.0403; auc: 0.3433 - val_auc: 0.0156                                                                                                    \n",
      "epoch: 0031, loss: 0.6259 - val_loss: 1.0278; auc: 0.3638 - val_auc: 0.0146                                                                                                    \n",
      "epoch: 0032, loss: 0.6222 - val_loss: 1.0715; auc: 0.3927 - val_auc: 0.0143                                                                                                    \n",
      "epoch: 0033, loss: 0.6204 - val_loss: 1.1010; auc: 0.3922 - val_auc: 0.0151                                                                                                    \n",
      "epoch: 0034, loss: 0.6169 - val_loss: 1.1295; auc: 0.4382 - val_auc: 0.0154                                                                                                    \n",
      "\n",
      "Restoring model weights from the end of the best epoch.\n",
      "\n",
      "Epoch 00034: early stopping\n"
     ]
    }
   ],
   "source": [
    "results = []\n",
    "for i, split_idxs in enumerate(induces):\n",
    "\n",
    "    train_idx, valid_idx, test_idx = split_idxs\n",
    "    print(len(train_idx), len(valid_idx), len(test_idx))\n",
    "\n",
    "    trainX = (X1[train_idx], X2[train_idx])\n",
    "    trainY = Y[train_idx]\n",
    "\n",
    "    validX = (X1[valid_idx], X2[valid_idx])\n",
    "    validY = Y[valid_idx]\n",
    "\n",
    "    testX = (X1[test_idx], X2[test_idx])\n",
    "    testY = Y[test_idx]            \n",
    "\n",
    "    pos_weights, neg_weights = get_pos_weights(trainY)\n",
    "    loss = lambda y_true, y_pred: molmodel.loss.weighted_cross_entropy(y_true,y_pred, pos_weights, MASK = -1)\n",
    "\n",
    "    model = molmodel.net.DoublePathNet(molmap1_size, molmap2_size, \n",
    "                                       n_outputs=Y.shape[-1], \n",
    "                                       dense_layers=dense_layers, \n",
    "                                       dense_avf = dense_avf, \n",
    "                                       last_avf=last_avf)\n",
    "\n",
    "    opt = tf.keras.optimizers.Adam(lr=lr, beta_1=0.9, beta_2=0.999, epsilon=1e-08, decay=0.0) #\n",
    "    #import tensorflow_addons as tfa\n",
    "    #opt = tfa.optimizers.AdamW(weight_decay = 0.1,learning_rate=0.001,beta1=0.9,beta2=0.999, epsilon=1e-08)\n",
    "    model.compile(optimizer = opt, loss = loss)\n",
    "\n",
    "    performance = molmodel.cbks.CLA_EarlyStoppingAndPerformance((trainX, trainY), \n",
    "                                                                   (validX, validY), \n",
    "                                                                   patience = patience, \n",
    "                                                                   criteria = monitor,\n",
    "                                                                   metric = metric,\n",
    "                                                                  )\n",
    "    model.fit(trainX, trainY, batch_size=batch_size, \n",
    "          epochs=epochs, verbose= 0, shuffle = True, \n",
    "          validation_data = (validX, validY), \n",
    "          callbacks=[performance]) \n",
    "\n",
    "\n",
    "    best_epoch = performance.best_epoch\n",
    "    trainable_params = model.count_params()\n",
    "    \n",
    "    train_aucs = performance.evaluate(trainX, trainY)            \n",
    "    valid_aucs = performance.evaluate(validX, validY)            \n",
    "    test_aucs = performance.evaluate(testX, testY)\n",
    "\n",
    "    final_res = {\n",
    "                     'task_name':task_name,            \n",
    "                     'train_auc':np.nanmean(train_aucs), \n",
    "                     'valid_auc':np.nanmean(valid_aucs),                      \n",
    "                     'test_auc':np.nanmean(test_aucs), \n",
    "                     'metric':metric,\n",
    "                     '# trainable params': trainable_params,\n",
    "                     'best_epoch': best_epoch,\n",
    "                     'batch_size':batch_size,\n",
    "                     'lr': lr,\n",
    "                     'weight_decay':weight_decay\n",
    "                    }\n",
    "    \n",
    "    results.append(final_res)"
   ]
  },
  {
   "cell_type": "code",
   "execution_count": 8,
   "metadata": {},
   "outputs": [
    {
     "data": {
      "text/plain": [
       "<matplotlib.axes._subplots.AxesSubplot at 0x7f74d1dde518>"
      ]
     },
     "execution_count": 8,
     "metadata": {},
     "output_type": "execute_result"
    },
    {
     "data": {
      "image/png": "[encoded data removed]",
      "text/plain": [
       "<Figure size 432x288 with 1 Axes>"
      ]
     },
     "metadata": {
      "needs_background": "light"
     },
     "output_type": "display_data"
    }
   ],
   "source": [
    "pd.DataFrame(performance.history)[['auc', 'val_auc']].plot()"
   ]
  },
  {
   "cell_type": "code",
   "execution_count": 9,
   "metadata": {},
   "outputs": [
    {
     "data": {
      "text/plain": [
       "0.09577824485433067"
      ]
     },
     "execution_count": 9,
     "metadata": {},
     "output_type": "execute_result"
    }
   ],
   "source": [
    "pd.DataFrame(results).test_auc.mean()"
   ]
  },
  {
   "cell_type": "code",
   "execution_count": 10,
   "metadata": {},
   "outputs": [
    {
     "data": {
      "text/plain": [
       "0.03853965267093655"
      ]
     },
     "execution_count": 10,
     "metadata": {},
     "output_type": "execute_result"
    }
   ],
   "source": [
    "pd.DataFrame(results).test_auc.std()"
   ]
  },
  {
   "cell_type": "code",
   "execution_count": 11,
   "metadata": {},
   "outputs": [
    {
     "data": {
      "text/html": [
       "<div>\n",
       "<style scoped>\n",
       "    .dataframe tbody tr th:only-of-type {\n",
       "        vertical-align: middle;\n",
       "    }\n",
       "\n",
       "    .dataframe tbody tr th {\n",
       "        vertical-align: top;\n",
       "    }\n",
       "\n",
       "    .dataframe thead th {\n",
       "        text-align: right;\n",
       "    }\n",
       "</style>\n",
       "<table border=\"1\" class=\"dataframe\">\n",
       "  <thead>\n",
       "    <tr style=\"text-align: right;\">\n",
       "      <th></th>\n",
       "      <th>task_name</th>\n",
       "      <th>train_auc</th>\n",
       "      <th>valid_auc</th>\n",
       "      <th>test_auc</th>\n",
       "      <th>metric</th>\n",
       "      <th># trainable params</th>\n",
       "      <th>best_epoch</th>\n",
       "      <th>batch_size</th>\n",
       "      <th>lr</th>\n",
       "      <th>weight_decay</th>\n",
       "    </tr>\n",
       "  </thead>\n",
       "  <tbody>\n",
       "    <tr>\n",
       "      <td>0</td>\n",
       "      <td>MUV</td>\n",
       "      <td>0.158415</td>\n",
       "      <td>0.075642</td>\n",
       "      <td>0.055068</td>\n",
       "      <td>PRC</td>\n",
       "      <td>719537</td>\n",
       "      <td>21</td>\n",
       "      <td>128</td>\n",
       "      <td>0.0001</td>\n",
       "      <td>0</td>\n",
       "    </tr>\n",
       "    <tr>\n",
       "      <td>1</td>\n",
       "      <td>MUV</td>\n",
       "      <td>0.656168</td>\n",
       "      <td>0.151842</td>\n",
       "      <td>0.131699</td>\n",
       "      <td>PRC</td>\n",
       "      <td>719537</td>\n",
       "      <td>42</td>\n",
       "      <td>128</td>\n",
       "      <td>0.0001</td>\n",
       "      <td>0</td>\n",
       "    </tr>\n",
       "    <tr>\n",
       "      <td>2</td>\n",
       "      <td>MUV</td>\n",
       "      <td>0.194501</td>\n",
       "      <td>0.016884</td>\n",
       "      <td>0.100568</td>\n",
       "      <td>PRC</td>\n",
       "      <td>719537</td>\n",
       "      <td>23</td>\n",
       "      <td>128</td>\n",
       "      <td>0.0001</td>\n",
       "      <td>0</td>\n",
       "    </tr>\n",
       "  </tbody>\n",
       "</table>\n",
       "</div>"
      ],
      "text/plain": [
       "  task_name  train_auc  valid_auc  test_auc metric  # trainable params  \\\n",
       "0       MUV   0.158415   0.075642  0.055068    PRC              719537   \n",
       "1       MUV   0.656168   0.151842  0.131699    PRC              719537   \n",
       "2       MUV   0.194501   0.016884  0.100568    PRC              719537   \n",
       "\n",
       "   best_epoch  batch_size      lr  weight_decay  \n",
       "0          21         128  0.0001             0  \n",
       "1          42         128  0.0001             0  \n",
       "2          23         128  0.0001             0  "
      ]
     },
     "execution_count": 11,
     "metadata": {},
     "output_type": "execute_result"
    }
   ],
   "source": [
    "pd.DataFrame(results)"
   ]
  },
  {
   "cell_type": "code",
   "execution_count": 13,
   "metadata": {},
   "outputs": [],
   "source": [
    "pd.DataFrame(results).to_csv('./results/%s.csv' % task_name)"
   ]
  },
  {
   "cell_type": "code",
   "execution_count": null,
   "metadata": {},
   "outputs": [],
   "source": []
  },
  {
   "cell_type": "code",
   "execution_count": null,
   "metadata": {},
   "outputs": [],
   "source": []
  },
  {
   "cell_type": "code",
   "execution_count": null,
   "metadata": {},
   "outputs": [],
   "source": []
  },
  {
   "cell_type": "code",
   "execution_count": null,
   "metadata": {},
   "outputs": [],
   "source": []
  }
 ],
 "metadata": {
  "kernelspec": {
   "display_name": "Python 3",
   "language": "python",
   "name": "python3"
  },
  "language_info": {
   "codemirror_mode": {
    "name": "ipython",
    "version": 3
   },
   "file_extension": ".py",
   "mimetype": "text/x-python",
   "name": "python",
   "nbconvert_exporter": "python",
   "pygments_lexer": "ipython3",
   "version": "3.6.9"
  }
 },
 "nbformat": 4,
 "nbformat_minor": 4
}
