{
 "cells": [
  {
   "cell_type": "code",
   "execution_count": 4,
   "metadata": {},
   "outputs": [],
   "source": [
    "from molmap import model as molmodel\n",
    "import molmap\n",
    "\n",
    "import matplotlib.pyplot as plt\n",
    "\n",
    "import pandas as pd\n",
    "from tqdm import tqdm\n",
    "from joblib import load, dump\n",
    "tqdm.pandas(ascii=True)\n",
    "import numpy as np\n",
    "\n",
    "import tensorflow as tf\n",
    "import os\n",
    "os.environ[\"CUDA_VISIBLE_DEVICES\"]=\"1\"\n",
    "np.random.seed(123)\n",
    "tf.compat.v1.set_random_seed(123)\n",
    "\n",
    "\n",
    "tmp_feature_dir = './tmpignore'\n",
    "if not os.path.exists(tmp_feature_dir):\n",
    "    os.makedirs(tmp_feature_dir)"
   ]
  },
  {
   "cell_type": "code",
   "execution_count": 5,
   "metadata": {},
   "outputs": [],
   "source": [
    "\n",
    "mp1 = molmap.loadmap('../descriptor.mp')\n",
    "mp2 = molmap.loadmap('../fingerprint.mp')\n"
   ]
  },
  {
   "cell_type": "code",
   "execution_count": 6,
   "metadata": {},
   "outputs": [
    {
     "name": "stdout",
     "output_type": "stream",
     "text": [
      "loading dataset: PDBbind-full number of split times: 1\n"
     ]
    }
   ],
   "source": [
    "task_name = 'PDBbind-full'\n",
    "\n",
    "from chembench import load_data\n",
    "\n",
    "df, induces = load_data(task_name)\n",
    "if len(induces) == 1: # run 3 times\n",
    "    induces = induces*3"
   ]
  },
  {
   "cell_type": "code",
   "execution_count": 7,
   "metadata": {},
   "outputs": [],
   "source": [
    "smiles_col = df.columns[0]\n",
    "values_col = df.columns[1:]\n",
    "Y = df[values_col].astype('float').values\n",
    "Y = Y.reshape(-1, 1)\n",
    "\n",
    "\n",
    "X1_name = os.path.join(tmp_feature_dir, 'X1_%s.data' % task_name)\n",
    "X2_name = os.path.join(tmp_feature_dir, 'X2_%s.data' % task_name)\n",
    "if not os.path.exists(X1_name):\n",
    "    X1 = mp1.batch_transform(df.smiles, n_jobs = 8)\n",
    "    dump(X1, X1_name)\n",
    "else:\n",
    "    X1 = load(X1_name)\n",
    "\n",
    "if not os.path.exists(X2_name): \n",
    "    X2 = mp2.batch_transform(df.smiles, n_jobs = 8)\n",
    "    dump(X2, X2_name)\n",
    "else:\n",
    "    X2 = load(X2_name)\n",
    "\n",
    "molmap1_size = X1.shape[1:]\n",
    "molmap2_size = X2.shape[1:]\n"
   ]
  },
  {
   "cell_type": "code",
   "execution_count": 8,
   "metadata": {},
   "outputs": [],
   "source": [
    "epochs = 800\n",
    "patience = 50 #early stopping\n",
    "\n",
    "dense_layers = [256, 128, 32]\n",
    "batch_size = 128\n",
    "lr = 1e-4\n",
    "weight_decay = 0\n",
    "\n",
    "loss = 'mse'\n",
    "monitor = 'val_loss'\n",
    "dense_avf = 'relu'\n",
    "last_avf = 'linear'\n"
   ]
  },
  {
   "cell_type": "code",
   "execution_count": 9,
   "metadata": {},
   "outputs": [
    {
     "name": "stdout",
     "output_type": "stream",
     "text": [
      "7904 988 988\n",
      "WARNING:tensorflow:From /home/shenwanxiang/anaconda3/envs/deepchem23/lib/python3.6/site-packages/tensorflow/python/ops/init_ops.py:1251: calling VarianceScaling.__init__ (from tensorflow.python.ops.init_ops) with dtype is deprecated and will be removed in a future version.\n",
      "Instructions for updating:\n",
      "Call initializer instance with the dtype argument instead of passing it to the constructor\n",
      "epoch: 0001, loss: 0.8314 - val_loss: 0.5990; rmse: 0.8533 - rmse_val: 0.7740;  r2: 0.2787 - r2_val: 0.2726                                                                                                    \n",
      "epoch: 0002, loss: 0.7096 - val_loss: 0.5606; rmse: 0.8344 - rmse_val: 0.7487;  r2: 0.3266 - r2_val: 0.3158                                                                                                    \n",
      "epoch: 0003, loss: 0.6763 - val_loss: 0.5547; rmse: 0.7998 - rmse_val: 0.7448;  r2: 0.3650 - r2_val: 0.3414                                                                                                    \n",
      "epoch: 0004, loss: 0.6661 - val_loss: 0.5750; rmse: 0.7945 - rmse_val: 0.7583;  r2: 0.3869 - r2_val: 0.3538                                                                                                    \n",
      "epoch: 0005, loss: 0.6192 - val_loss: 0.5172; rmse: 0.7756 - rmse_val: 0.7192;  r2: 0.4082 - r2_val: 0.3680                                                                                                    \n",
      "epoch: 0006, loss: 0.6065 - val_loss: 0.5330; rmse: 0.7573 - rmse_val: 0.7301;  r2: 0.4379 - r2_val: 0.3808                                                                                                    \n",
      "epoch: 0007, loss: 0.5791 - val_loss: 0.5073; rmse: 0.7530 - rmse_val: 0.7122;  r2: 0.4576 - r2_val: 0.3876                                                                                                    \n",
      "epoch: 0008, loss: 0.5585 - val_loss: 0.5078; rmse: 0.7197 - rmse_val: 0.7126;  r2: 0.4904 - r2_val: 0.3947                                                                                                    \n",
      "epoch: 0009, loss: 0.5216 - val_loss: 0.5008; rmse: 0.7267 - rmse_val: 0.7077;  r2: 0.5176 - r2_val: 0.3964                                                                                                    \n",
      "epoch: 0010, loss: 0.5052 - val_loss: 0.4887; rmse: 0.6848 - rmse_val: 0.6990;  r2: 0.5447 - r2_val: 0.4029                                                                                                    \n",
      "epoch: 0011, loss: 0.4802 - val_loss: 0.5156; rmse: 0.6606 - rmse_val: 0.7180;  r2: 0.5674 - r2_val: 0.3860                                                                                                    \n",
      "epoch: 0012, loss: 0.4621 - val_loss: 0.5464; rmse: 0.6589 - rmse_val: 0.7392;  r2: 0.5908 - r2_val: 0.3912                                                                                                    \n",
      "epoch: 0013, loss: 0.4299 - val_loss: 0.5050; rmse: 0.6231 - rmse_val: 0.7106;  r2: 0.6173 - r2_val: 0.3974                                                                                                    \n",
      "epoch: 0014, loss: 0.4158 - val_loss: 0.5595; rmse: 0.6884 - rmse_val: 0.7480;  r2: 0.6405 - r2_val: 0.3963                                                                                                    \n",
      "epoch: 0015, loss: 0.3810 - val_loss: 0.5006; rmse: 0.5918 - rmse_val: 0.7075;  r2: 0.6679 - r2_val: 0.3946                                                                                                    \n",
      "epoch: 0016, loss: 0.3673 - val_loss: 0.5494; rmse: 0.5738 - rmse_val: 0.7412;  r2: 0.6926 - r2_val: 0.3801                                                                                                    \n",
      "epoch: 0017, loss: 0.3407 - val_loss: 0.5743; rmse: 0.5692 - rmse_val: 0.7578;  r2: 0.7142 - r2_val: 0.3774                                                                                                    \n",
      "epoch: 0018, loss: 0.3396 - val_loss: 0.5380; rmse: 0.5329 - rmse_val: 0.7335;  r2: 0.7213 - r2_val: 0.3791                                                                                                    \n",
      "epoch: 0019, loss: 0.3060 - val_loss: 0.5695; rmse: 0.5776 - rmse_val: 0.7547;  r2: 0.7289 - r2_val: 0.3858                                                                                                    \n",
      "epoch: 0020, loss: 0.2971 - val_loss: 0.5409; rmse: 0.5035 - rmse_val: 0.7354;  r2: 0.7492 - r2_val: 0.3826                                                                                                    \n",
      "epoch: 0021, loss: 0.2680 - val_loss: 0.6545; rmse: 0.5476 - rmse_val: 0.8090;  r2: 0.7759 - r2_val: 0.3641                                                                                                    \n",
      "epoch: 0022, loss: 0.2682 - val_loss: 0.6518; rmse: 0.5332 - rmse_val: 0.8073;  r2: 0.7828 - r2_val: 0.3712                                                                                                    \n",
      "epoch: 0023, loss: 0.2491 - val_loss: 0.5647; rmse: 0.4605 - rmse_val: 0.7515;  r2: 0.7938 - r2_val: 0.3703                                                                                                    \n",
      "epoch: 0024, loss: 0.2540 - val_loss: 0.5864; rmse: 0.4610 - rmse_val: 0.7658;  r2: 0.8023 - r2_val: 0.3604                                                                                                    \n",
      "epoch: 0025, loss: 0.2379 - val_loss: 0.5526; rmse: 0.4611 - rmse_val: 0.7434;  r2: 0.8149 - r2_val: 0.3683                                                                                                    \n",
      "epoch: 0026, loss: 0.2386 - val_loss: 0.5647; rmse: 0.4720 - rmse_val: 0.7515;  r2: 0.8195 - r2_val: 0.3690                                                                                                    \n",
      "epoch: 0027, loss: 0.2120 - val_loss: 0.5559; rmse: 0.4179 - rmse_val: 0.7456;  r2: 0.8302 - r2_val: 0.3634                                                                                                    \n",
      "epoch: 0028, loss: 0.1950 - val_loss: 0.5728; rmse: 0.4325 - rmse_val: 0.7569;  r2: 0.8236 - r2_val: 0.3687                                                                                                    \n",
      "epoch: 0029, loss: 0.1984 - val_loss: 0.7011; rmse: 0.4964 - rmse_val: 0.8373;  r2: 0.8435 - r2_val: 0.3518                                                                                                    \n",
      "epoch: 0030, loss: 0.1829 - val_loss: 0.6718; rmse: 0.4567 - rmse_val: 0.8196;  r2: 0.8465 - r2_val: 0.3459                                                                                                    \n",
      "epoch: 0031, loss: 0.1891 - val_loss: 0.6289; rmse: 0.4216 - rmse_val: 0.7930;  r2: 0.8471 - r2_val: 0.3632                                                                                                    \n",
      "epoch: 0032, loss: 0.1857 - val_loss: 0.5657; rmse: 0.4024 - rmse_val: 0.7522;  r2: 0.8565 - r2_val: 0.3594                                                                                                    \n",
      "epoch: 0033, loss: 0.1691 - val_loss: 0.5896; rmse: 0.3737 - rmse_val: 0.7679;  r2: 0.8624 - r2_val: 0.3506                                                                                                    \n",
      "epoch: 0034, loss: 0.1716 - val_loss: 0.5679; rmse: 0.3789 - rmse_val: 0.7536;  r2: 0.8653 - r2_val: 0.3529                                                                                                    \n",
      "epoch: 0035, loss: 0.1974 - val_loss: 0.5650; rmse: 0.3798 - rmse_val: 0.7516;  r2: 0.8580 - r2_val: 0.3667                                                                                                    \n",
      "epoch: 0036, loss: 0.1611 - val_loss: 0.6029; rmse: 0.3646 - rmse_val: 0.7765;  r2: 0.8697 - r2_val: 0.3399                                                                                                    \n",
      "epoch: 0037, loss: 0.1473 - val_loss: 0.5966; rmse: 0.3564 - rmse_val: 0.7724;  r2: 0.8732 - r2_val: 0.3533                                                                                                    \n",
      "epoch: 0038, loss: 0.1537 - val_loss: 0.5850; rmse: 0.3584 - rmse_val: 0.7648;  r2: 0.8766 - r2_val: 0.3392                                                                                                    \n",
      "epoch: 0039, loss: 0.1423 - val_loss: 0.6106; rmse: 0.3520 - rmse_val: 0.7814;  r2: 0.8800 - r2_val: 0.3434                                                                                                    \n",
      "epoch: 0040, loss: 0.1546 - val_loss: 0.5974; rmse: 0.3466 - rmse_val: 0.7729;  r2: 0.8804 - r2_val: 0.3489                                                                                                    \n",
      "epoch: 0041, loss: 0.1416 - val_loss: 0.6094; rmse: 0.4087 - rmse_val: 0.7806;  r2: 0.8835 - r2_val: 0.3417                                                                                                    \n",
      "epoch: 0042, loss: 0.1446 - val_loss: 0.6136; rmse: 0.4560 - rmse_val: 0.7833;  r2: 0.8779 - r2_val: 0.3564                                                                                                    \n",
      "epoch: 0043, loss: 0.1541 - val_loss: 0.6318; rmse: 0.3633 - rmse_val: 0.7948;  r2: 0.8837 - r2_val: 0.3391                                                                                                    \n",
      "epoch: 0044, loss: 0.1395 - val_loss: 0.5963; rmse: 0.3413 - rmse_val: 0.7722;  r2: 0.8865 - r2_val: 0.3424                                                                                                    \n",
      "epoch: 0045, loss: 0.1544 - val_loss: 0.6996; rmse: 0.4313 - rmse_val: 0.8364;  r2: 0.8828 - r2_val: 0.3504                                                                                                    \n",
      "epoch: 0046, loss: 0.1595 - val_loss: 0.5874; rmse: 0.4207 - rmse_val: 0.7664;  r2: 0.8807 - r2_val: 0.3533                                                                                                    \n",
      "epoch: 0047, loss: 0.1451 - val_loss: 0.6004; rmse: 0.3369 - rmse_val: 0.7749;  r2: 0.8890 - r2_val: 0.3362                                                                                                    \n",
      "epoch: 0048, loss: 0.1461 - val_loss: 0.7552; rmse: 0.4687 - rmse_val: 0.8690;  r2: 0.8891 - r2_val: 0.3439                                                                                                    \n",
      "epoch: 0049, loss: 0.1382 - val_loss: 0.6240; rmse: 0.3322 - rmse_val: 0.7899;  r2: 0.8929 - r2_val: 0.3354                                                                                                    \n",
      "epoch: 0050, loss: 0.1378 - val_loss: 0.5917; rmse: 0.4178 - rmse_val: 0.7692;  r2: 0.8880 - r2_val: 0.3481                                                                                                    \n",
      "epoch: 0051, loss: 0.1305 - val_loss: 0.6255; rmse: 0.3375 - rmse_val: 0.7909;  r2: 0.8944 - r2_val: 0.3395                                                                                                    \n",
      "epoch: 0052, loss: 0.1323 - val_loss: 0.6274; rmse: 0.3364 - rmse_val: 0.7921;  r2: 0.8945 - r2_val: 0.3320                                                                                                    \n",
      "epoch: 0053, loss: 0.1350 - val_loss: 0.6218; rmse: 0.4205 - rmse_val: 0.7886;  r2: 0.8933 - r2_val: 0.3372                                                                                                    \n",
      "epoch: 0054, loss: 0.1302 - val_loss: 0.5917; rmse: 0.3465 - rmse_val: 0.7692;  r2: 0.8915 - r2_val: 0.3431                                                                                                    \n",
      "epoch: 0055, loss: 0.1258 - val_loss: 0.6379; rmse: 0.3352 - rmse_val: 0.7987;  r2: 0.8914 - r2_val: 0.3224                                                                                                    \n",
      "epoch: 0056, loss: 0.1236 - val_loss: 0.5937; rmse: 0.3255 - rmse_val: 0.7705;  r2: 0.8953 - r2_val: 0.3441                                                                                                    \n",
      "epoch: 0057, loss: 0.1279 - val_loss: 0.6194; rmse: 0.3328 - rmse_val: 0.7870;  r2: 0.8967 - r2_val: 0.3359                                                                                                    \n",
      "epoch: 0058, loss: 0.1218 - val_loss: 0.6093; rmse: 0.3257 - rmse_val: 0.7806;  r2: 0.8973 - r2_val: 0.3234                                                                                                    \n",
      "epoch: 0059, loss: 0.1271 - val_loss: 0.6018; rmse: 0.3442 - rmse_val: 0.7757;  r2: 0.8951 - r2_val: 0.3471                                                                                                    \n",
      "epoch: 0060, loss: 0.1177 - val_loss: 0.6121; rmse: 0.3226 - rmse_val: 0.7824;  r2: 0.9003 - r2_val: 0.3301                                                                                                    \n",
      "\n",
      "Restoring model weights from the end of the best epoch.\n",
      "\n",
      "Epoch 00060: early stopping\n",
      "7904 988 988\n",
      "Train on 7904 samples, validate on 988 samples\n",
      "Epoch 1/10\n",
      "7904/7904 [==============================] - 3s 372us/sample - loss: 0.8394 - val_loss: 0.6178\n",
      "Epoch 2/10\n",
      "7904/7904 [==============================] - 2s 242us/sample - loss: 0.7137 - val_loss: 0.5683\n",
      "Epoch 3/10\n",
      "7904/7904 [==============================] - 2s 244us/sample - loss: 0.6894 - val_loss: 0.5606\n",
      "Epoch 4/10\n",
      "7904/7904 [==============================] - 2s 244us/sample - loss: 0.6441 - val_loss: 0.5295\n",
      "Epoch 5/10\n",
      "7904/7904 [==============================] - 2s 241us/sample - loss: 0.6275 - val_loss: 0.5129\n",
      "Epoch 6/10\n",
      "7904/7904 [==============================] - 2s 240us/sample - loss: 0.5988 - val_loss: 0.5145\n",
      "Epoch 7/10\n",
      "7904/7904 [==============================] - 2s 239us/sample - loss: 0.5790 - val_loss: 0.6494\n",
      "Epoch 8/10\n",
      "7904/7904 [==============================] - 2s 242us/sample - loss: 0.5663 - val_loss: 0.5010\n",
      "Epoch 9/10\n",
      "7904/7904 [==============================] - 2s 244us/sample - loss: 0.5405 - val_loss: 0.4955\n",
      "Epoch 10/10\n",
      "7904/7904 [==============================] - 2s 242us/sample - loss: 0.5246 - val_loss: 0.5134\n",
      "7904 988 988\n",
      "Train on 7904 samples, validate on 988 samples\n",
      "Epoch 1/10\n",
      "7904/7904 [==============================] - 3s 420us/sample - loss: 0.8364 - val_loss: 0.5936\n",
      "Epoch 2/10\n",
      "7904/7904 [==============================] - 2s 250us/sample - loss: 0.7086 - val_loss: 0.6128\n",
      "Epoch 3/10\n",
      "7904/7904 [==============================] - 2s 255us/sample - loss: 0.6697 - val_loss: 0.5704\n",
      "Epoch 4/10\n",
      "7904/7904 [==============================] - 2s 249us/sample - loss: 0.6312 - val_loss: 0.5428\n",
      "Epoch 5/10\n",
      "7904/7904 [==============================] - 2s 245us/sample - loss: 0.6057 - val_loss: 0.5483\n",
      "Epoch 6/10\n",
      "7904/7904 [==============================] - 2s 250us/sample - loss: 0.5812 - val_loss: 0.5268\n",
      "Epoch 7/10\n",
      "7904/7904 [==============================] - 2s 244us/sample - loss: 0.5552 - val_loss: 0.5132\n",
      "Epoch 8/10\n",
      "7904/7904 [==============================] - 2s 239us/sample - loss: 0.5301 - val_loss: 0.5046\n",
      "Epoch 9/10\n",
      "7904/7904 [==============================] - 2s 239us/sample - loss: 0.5305 - val_loss: 0.6403\n",
      "Epoch 10/10\n",
      "7904/7904 [==============================] - 2s 242us/sample - loss: 0.4988 - val_loss: 0.5154\n"
     ]
    }
   ],
   "source": [
    "results = []\n",
    "\n",
    "for i, split_idxs in enumerate(induces):\n",
    "\n",
    "    train_idx, valid_idx, test_idx = split_idxs\n",
    "    \n",
    "    train_idx = [i for i in train_idx if i < len(df)]\n",
    "    valid_idx = [i for i in valid_idx if i < len(df)]    \n",
    "    test_idx = [i for i in test_idx if i < len(df)]\n",
    "    \n",
    "    print(len(train_idx), len(valid_idx), len(test_idx))\n",
    "\n",
    "    trainX = (X1[train_idx], X2[train_idx])\n",
    "    trainY = Y[train_idx]\n",
    "\n",
    "    validX = (X1[valid_idx], X2[valid_idx])\n",
    "    validY = Y[valid_idx]\n",
    "\n",
    "    testX = (X1[test_idx], X2[test_idx])\n",
    "    testY = Y[test_idx]            \n",
    "\n",
    "\n",
    "    model = molmodel.net.DoublePathNet(molmap1_size, molmap2_size, \n",
    "                                       n_outputs=Y.shape[-1], \n",
    "                                       dense_layers=dense_layers, \n",
    "                                       dense_avf = dense_avf, \n",
    "                                       last_avf=last_avf)\n",
    "\n",
    "    opt = tf.keras.optimizers.Adam(lr=lr, beta_1=0.9, beta_2=0.999, epsilon=1e-08, decay=0.0) #\n",
    "    #import tensorflow_addons as tfa\n",
    "    #opt = tfa.optimizers.AdamW(weight_decay = 0.1,learning_rate=0.001,beta1=0.9,beta2=0.999, epsilon=1e-08)\n",
    "    model.compile(optimizer = opt, loss = loss)\n",
    "    \n",
    "\n",
    "    if i == 0:\n",
    "        performance = molmodel.cbks.Reg_EarlyStoppingAndPerformance((trainX, trainY), \n",
    "                                                                   (validX, validY), \n",
    "                                                                   patience = patience, \n",
    "                                                                   criteria = monitor)\n",
    "        model.fit(trainX, trainY, batch_size=batch_size, \n",
    "              epochs=epochs, verbose= 0, shuffle = True, \n",
    "              validation_data = (validX, validY), \n",
    "              callbacks=[performance]) \n",
    "    else:\n",
    "        model.fit(trainX, trainY, batch_size=batch_size, \n",
    "              epochs = performance.best_epoch + 1, verbose = 1, shuffle = True, \n",
    "              validation_data = (validX, validY)) \n",
    "            \n",
    "    performance.model.set_weights(model.get_weights())\n",
    "    \n",
    "    best_epoch = performance.best_epoch\n",
    "    trainable_params = model.count_params()\n",
    "\n",
    "    train_rmses, train_r2s = performance.evaluate(trainX, trainY)            \n",
    "    valid_rmses, valid_r2s = performance.evaluate(validX, validY)            \n",
    "    test_rmses, test_r2s = performance.evaluate(testX, testY)\n",
    "\n",
    "\n",
    "    final_res = {\n",
    "                 'task_name':task_name,            \n",
    "                 'train_rmse':np.nanmean(train_rmses), \n",
    "                 'valid_rmse':np.nanmean(valid_rmses),                      \n",
    "                 'test_rmse':np.nanmean(test_rmses), \n",
    "\n",
    "                 'train_r2':np.nanmean(train_r2s), \n",
    "                 'valid_r2':np.nanmean(valid_r2s),                      \n",
    "                 'test_r2':np.nanmean(test_r2s), \n",
    "\n",
    "                 '# trainable params': trainable_params,\n",
    "                 'best_epoch': best_epoch,\n",
    "                 'batch_size':batch_size,\n",
    "                 'lr': lr,\n",
    "                 'weight_decay':weight_decay\n",
    "                }\n",
    "    results.append(final_res)\n",
    "    "
   ]
  },
  {
   "cell_type": "code",
   "execution_count": 10,
   "metadata": {},
   "outputs": [
    {
     "data": {
      "text/plain": [
       "<matplotlib.axes._subplots.AxesSubplot at 0x7fa1116877b8>"
      ]
     },
     "execution_count": 10,
     "metadata": {},
     "output_type": "execute_result"
    },
    {
     "data": {
      "image/png": "[encoded data removed]",
      "text/plain": [
       "<Figure size 432x288 with 1 Axes>"
      ]
     },
     "metadata": {
      "needs_background": "light"
     },
     "output_type": "display_data"
    }
   ],
   "source": [
    "pd.DataFrame(performance.history)[['rmse', 'val_rmse']].plot()"
   ]
  },
  {
   "cell_type": "code",
   "execution_count": 11,
   "metadata": {},
   "outputs": [
    {
     "data": {
      "text/plain": [
       "0.7206731481127103"
      ]
     },
     "execution_count": 11,
     "metadata": {},
     "output_type": "execute_result"
    }
   ],
   "source": [
    "pd.DataFrame(results).test_rmse.mean()"
   ]
  },
  {
   "cell_type": "code",
   "execution_count": 12,
   "metadata": {},
   "outputs": [
    {
     "data": {
      "text/plain": [
       "0.004487990864246145"
      ]
     },
     "execution_count": 12,
     "metadata": {},
     "output_type": "execute_result"
    }
   ],
   "source": [
    "pd.DataFrame(results).test_rmse.std()"
   ]
  },
  {
   "cell_type": "code",
   "execution_count": 13,
   "metadata": {},
   "outputs": [],
   "source": [
    "pd.DataFrame(results).to_csv('./results/%s.csv' % task_name)"
   ]
  },
  {
   "cell_type": "code",
   "execution_count": 14,
   "metadata": {},
   "outputs": [
    {
     "data": {
      "text/html": [
       "<div>\n",
       "<style scoped>\n",
       "    .dataframe tbody tr th:only-of-type {\n",
       "        vertical-align: middle;\n",
       "    }\n",
       "\n",
       "    .dataframe tbody tr th {\n",
       "        vertical-align: top;\n",
       "    }\n",
       "\n",
       "    .dataframe thead th {\n",
       "        text-align: right;\n",
       "    }\n",
       "</style>\n",
       "<table border=\"1\" class=\"dataframe\">\n",
       "  <thead>\n",
       "    <tr style=\"text-align: right;\">\n",
       "      <th></th>\n",
       "      <th>task_name</th>\n",
       "      <th>train_rmse</th>\n",
       "      <th>valid_rmse</th>\n",
       "      <th>test_rmse</th>\n",
       "      <th>train_r2</th>\n",
       "      <th>valid_r2</th>\n",
       "      <th>test_r2</th>\n",
       "      <th># trainable params</th>\n",
       "      <th>best_epoch</th>\n",
       "      <th>batch_size</th>\n",
       "      <th>lr</th>\n",
       "      <th>weight_decay</th>\n",
       "    </tr>\n",
       "  </thead>\n",
       "  <tbody>\n",
       "    <tr>\n",
       "      <td>0</td>\n",
       "      <td>PDBbind-full</td>\n",
       "      <td>0.684850</td>\n",
       "      <td>0.699041</td>\n",
       "      <td>0.720948</td>\n",
       "      <td>0.544711</td>\n",
       "      <td>0.402919</td>\n",
       "      <td>0.250289</td>\n",
       "      <td>803681</td>\n",
       "      <td>9</td>\n",
       "      <td>128</td>\n",
       "      <td>0.0001</td>\n",
       "      <td>0</td>\n",
       "    </tr>\n",
       "    <tr>\n",
       "      <td>1</td>\n",
       "      <td>PDBbind-full</td>\n",
       "      <td>0.698996</td>\n",
       "      <td>0.716491</td>\n",
       "      <td>0.725017</td>\n",
       "      <td>0.524649</td>\n",
       "      <td>0.397860</td>\n",
       "      <td>0.235890</td>\n",
       "      <td>803681</td>\n",
       "      <td>9</td>\n",
       "      <td>128</td>\n",
       "      <td>0.0001</td>\n",
       "      <td>0</td>\n",
       "    </tr>\n",
       "    <tr>\n",
       "      <td>2</td>\n",
       "      <td>PDBbind-full</td>\n",
       "      <td>0.675493</td>\n",
       "      <td>0.717936</td>\n",
       "      <td>0.716054</td>\n",
       "      <td>0.561555</td>\n",
       "      <td>0.391397</td>\n",
       "      <td>0.246253</td>\n",
       "      <td>803681</td>\n",
       "      <td>9</td>\n",
       "      <td>128</td>\n",
       "      <td>0.0001</td>\n",
       "      <td>0</td>\n",
       "    </tr>\n",
       "  </tbody>\n",
       "</table>\n",
       "</div>"
      ],
      "text/plain": [
       "      task_name  train_rmse  valid_rmse  test_rmse  train_r2  valid_r2  \\\n",
       "0  PDBbind-full    0.684850    0.699041   0.720948  0.544711  0.402919   \n",
       "1  PDBbind-full    0.698996    0.716491   0.725017  0.524649  0.397860   \n",
       "2  PDBbind-full    0.675493    0.717936   0.716054  0.561555  0.391397   \n",
       "\n",
       "    test_r2  # trainable params  best_epoch  batch_size      lr  weight_decay  \n",
       "0  0.250289              803681           9         128  0.0001             0  \n",
       "1  0.235890              803681           9         128  0.0001             0  \n",
       "2  0.246253              803681           9         128  0.0001             0  "
      ]
     },
     "execution_count": 14,
     "metadata": {},
     "output_type": "execute_result"
    }
   ],
   "source": [
    "pd.DataFrame(results)"
   ]
  },
  {
   "cell_type": "code",
   "execution_count": null,
   "metadata": {},
   "outputs": [],
   "source": []
  },
  {
   "cell_type": "code",
   "execution_count": null,
   "metadata": {},
   "outputs": [],
   "source": []
  },
  {
   "cell_type": "code",
   "execution_count": null,
   "metadata": {},
   "outputs": [],
   "source": []
  },
  {
   "cell_type": "code",
   "execution_count": null,
   "metadata": {},
   "outputs": [],
   "source": []
  },
  {
   "cell_type": "code",
   "execution_count": null,
   "metadata": {},
   "outputs": [],
   "source": []
  }
 ],
 "metadata": {
  "kernelspec": {
   "display_name": "Python 3",
   "language": "python",
   "name": "python3"
  },
  "language_info": {
   "codemirror_mode": {
    "name": "ipython",
    "version": 3
   },
   "file_extension": ".py",
   "mimetype": "text/x-python",
   "name": "python",
   "nbconvert_exporter": "python",
   "pygments_lexer": "ipython3",
   "version": "3.6.5"
  }
 },
 "nbformat": 4,
 "nbformat_minor": 4
}
