{
 "cells": [
  {
   "cell_type": "code",
   "execution_count": 2,
   "metadata": {},
   "outputs": [],
   "source": [
    "import pandas as pd\n",
    "from glob import glob"
   ]
  },
  {
   "cell_type": "code",
   "execution_count": 3,
   "metadata": {},
   "outputs": [],
   "source": [
    "csvs = glob('./*.csv')"
   ]
  },
  {
   "cell_type": "code",
   "execution_count": 4,
   "metadata": {},
   "outputs": [],
   "source": [
    "data = {'./HIV.csv': 'Classification',\n",
    "         './Tox21.csv': 'Classification',\n",
    "         './PDBbind-full.csv': 'Regression',\n",
    "         './ClinTox.csv': 'Classification',\n",
    "         './ToxCast.csv': 'Classification',\n",
    "         './PDBbind-core.csv': 'Regression',\n",
    "         './BACE.csv': 'Classification',\n",
    "         './ChEMBL.csv': 'Classification',\n",
    "         './PCBA.csv': 'Classification',\n",
    "         './BBBP.csv': 'Classification',\n",
    "         './SIDER.csv': 'Classification',\n",
    "         './ESOL.csv': 'Regression',\n",
    "         './FreeSolv.csv': 'Regression',\n",
    "         './MUV.csv': 'Classification',\n",
    "         './PDBbind-refined.csv': 'Regression',\n",
    "         './Lipop.csv': 'Regression'}"
   ]
  },
  {
   "cell_type": "code",
   "execution_count": 5,
   "metadata": {},
   "outputs": [],
   "source": [
    "Regs  = []\n",
    "Clas = []\n",
    "for csv, tasktype in data.items():\n",
    "    df = pd.read_csv(csv,index_col = 0)\n",
    "    if tasktype == 'Regression':\n",
    "        Regs.append(df)\n",
    "    else:\n",
    "        Clas.append(df)\n"
   ]
  },
  {
   "cell_type": "code",
   "execution_count": 13,
   "metadata": {},
   "outputs": [],
   "source": [
    "dfr = pd.concat(Regs)\n",
    "dfc = pd.concat(Clas)"
   ]
  },
  {
   "cell_type": "code",
   "execution_count": 21,
   "metadata": {},
   "outputs": [],
   "source": [
    "def _process_r(df):\n",
    "\n",
    "    res = { \n",
    "            'best_epoch': df.best_epoch.tolist(),\n",
    "            'batch_size': df.batch_size.iloc[0],\n",
    "            'lr': df.lr.iloc[0],\n",
    "            'trainable params': df['# trainable params'].iloc[0],\n",
    "            'train_rmse': '%.3f ± %.3f' % (df.train_rmse.mean(), df.train_rmse.std()),  \n",
    "            'valid_rmse': '%.3f ± %.3f' % (df.valid_rmse.mean(), df.valid_rmse.std()),            \n",
    "            'test_rmse': '%.3f ± %.3f' % (df.test_rmse.mean(), df.test_rmse.std()),  \n",
    "\n",
    "            'train_r2': '%.3f ± %.3f' % (df.train_r2.mean(), df.train_r2.std()), \n",
    "            'valid_r2': '%.3f ± %.3f' % (df.valid_r2.mean(), df.train_r2.std()),\n",
    "            'test_r2': '%.3f ± %.3f' % (df.test_r2.mean(), df.test_r2.std())}    \n",
    "    \n",
    "    return res\n",
    "\n",
    "def _process_c(df):\n",
    "\n",
    "    res = { \n",
    "            'best_epoch': df.best_epoch.tolist(),\n",
    "            'batch_size': df.batch_size.iloc[0],\n",
    "            'lr': df.lr.iloc[0],\n",
    "            'trainable params': df['# trainable params'].iloc[0],\n",
    "            'train_auc': '%.3f ± %.3f' % (df.train_auc.mean(), df.train_auc.std()),  \n",
    "            'valid_auc': '%.3f ± %.3f' % (df.valid_auc.mean(), df.valid_auc.std()),            \n",
    "            'test_auc': '%.3f ± %.3f' % (df.test_auc.mean(), df.test_auc.std())\n",
    "    }    \n",
    "    \n",
    "    return res"
   ]
  },
  {
   "cell_type": "code",
   "execution_count": 22,
   "metadata": {},
   "outputs": [],
   "source": [
    "dfrr = dfr.groupby('task_name').apply(_process_r).apply(pd.Series)\n",
    "dfrr.to_excel('dfr.xlsx')"
   ]
  },
  {
   "cell_type": "code",
   "execution_count": 24,
   "metadata": {},
   "outputs": [],
   "source": [
    "dfcr = dfc.groupby('task_name').apply(_process_c).apply(pd.Series)\n",
    "dfcr.to_excel('dfc.xlsx')"
   ]
  },
  {
   "cell_type": "code",
   "execution_count": null,
   "metadata": {},
   "outputs": [],
   "source": []
  }
 ],
 "metadata": {
  "kernelspec": {
   "display_name": "Python 3",
   "language": "python",
   "name": "python3"
  },
  "language_info": {
   "codemirror_mode": {
    "name": "ipython",
    "version": 3
   },
   "file_extension": ".py",
   "mimetype": "text/x-python",
   "name": "python",
   "nbconvert_exporter": "python",
   "pygments_lexer": "ipython3",
   "version": "3.6.9"
  }
 },
 "nbformat": 4,
 "nbformat_minor": 4
}
