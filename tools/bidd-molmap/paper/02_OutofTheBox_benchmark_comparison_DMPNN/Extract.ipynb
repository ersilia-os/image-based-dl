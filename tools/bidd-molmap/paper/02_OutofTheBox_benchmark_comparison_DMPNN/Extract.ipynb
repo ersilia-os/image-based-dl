{
 "cells": [
  {
   "cell_type": "code",
   "execution_count": 9,
   "metadata": {},
   "outputs": [],
   "source": [
    "from chembench import load_data\n",
    "import molmap, os\n",
    "from joblib import dump, load"
   ]
  },
  {
   "cell_type": "code",
   "execution_count": 10,
   "metadata": {},
   "outputs": [],
   "source": [
    "mp1 = molmap.loadmap('../descriptor.mp')\n",
    "mp2 = molmap.loadmap('../fingerprint.mp')\n",
    "\n",
    "tmp_feature_dir = './tmpignore'\n",
    "if not os.path.exists(tmp_feature_dir):\n",
    "    os.makedirs(tmp_feature_dir)"
   ]
  },
  {
   "cell_type": "code",
   "execution_count": 11,
   "metadata": {},
   "outputs": [
    {
     "name": "stderr",
     "output_type": "stream",
     "text": [
      "  0%|          | 0/2050 [00:00<?, ?it/s]"
     ]
    },
    {
     "name": "stdout",
     "output_type": "stream",
     "text": [
      "loading dataset: BBBP number of split times: 3\n"
     ]
    },
    {
     "name": "stderr",
     "output_type": "stream",
     "text": [
      "100%|##########| 2050/2050 [03:41<00:00, 10.38it/s]\n",
      "100%|##########| 2050/2050 [00:20<00:00, 102.39it/s]\n",
      "  0%|          | 0/7831 [00:00<?, ?it/s]"
     ]
    },
    {
     "name": "stdout",
     "output_type": "stream",
     "text": [
      "loading dataset: Tox21 number of split times: 3\n"
     ]
    },
    {
     "name": "stderr",
     "output_type": "stream",
     "text": [
      "100%|##########| 7831/7831 [13:10<00:00,  9.91it/s]\n",
      "100%|##########| 7831/7831 [00:48<00:00, 162.59it/s]\n"
     ]
    },
    {
     "name": "stdout",
     "output_type": "stream",
     "text": [
      "loading dataset: ToxCast number of split times: 3\n"
     ]
    },
    {
     "name": "stderr",
     "output_type": "stream",
     "text": [
      "100%|##########| 8597/8597 [14:24<00:00,  5.52it/s]\n",
      "100%|##########| 8597/8597 [01:06<00:00, 130.18it/s]\n"
     ]
    },
    {
     "name": "stdout",
     "output_type": "stream",
     "text": [
      "loading dataset: SIDER number of split times: 3\n"
     ]
    },
    {
     "name": "stderr",
     "output_type": "stream",
     "text": [
      "100%|##########| 1427/1427 [26:16<00:00,  3.30it/s]  \n",
      "  0%|          | 0/1484 [00:00<?, ?it/s]"
     ]
    },
    {
     "name": "stdout",
     "output_type": "stream",
     "text": [
      "loading dataset: ClinTox number of split times: 3\n"
     ]
    },
    {
     "name": "stderr",
     "output_type": "stream",
     "text": [
      "100%|##########| 1484/1484 [03:54<00:00,  6.34it/s]\n",
      "100%|##########| 1484/1484 [00:19<00:00, 60.40it/s]\n"
     ]
    }
   ],
   "source": [
    "for task_name in ['BBBP', 'Tox21', 'ToxCast', 'SIDER', 'ClinTox']:\n",
    "    \n",
    "    df, _ = load_data(task_name)\n",
    "    \n",
    "\n",
    "    X1_name = os.path.join(tmp_feature_dir, 'X1_%s.data' % task_name)\n",
    "    X2_name = os.path.join(tmp_feature_dir, 'X2_%s.data' % task_name)\n",
    "    if not os.path.exists(X1_name):\n",
    "        X1 = mp1.batch_transform(df.smiles, n_jobs = 8)\n",
    "        dump(X1, X1_name)\n",
    "    else:\n",
    "        X1 = load(X1_name)\n",
    "\n",
    "    if not os.path.exists(X2_name): \n",
    "        X2 = mp2.batch_transform(df.smiles, n_jobs = 8)\n",
    "        dump(X2, X2_name)\n",
    "    else:\n",
    "        X2 = load(X2_name)\n",
    "\n",
    "    del X1\n",
    "    del X2"
   ]
  },
  {
   "cell_type": "code",
   "execution_count": null,
   "metadata": {},
   "outputs": [],
   "source": []
  },
  {
   "cell_type": "code",
   "execution_count": 13,
   "metadata": {},
   "outputs": [],
   "source": [
    "import pandas as pd"
   ]
  },
  {
   "cell_type": "code",
   "execution_count": 14,
   "metadata": {},
   "outputs": [
    {
     "name": "stderr",
     "output_type": "stream",
     "text": [
      "100%|##########| 8755/8755 [17:45<00:00,  8.22it/s]  \n",
      "100%|##########| 8755/8755 [02:16<00:00, 64.06it/s] \n"
     ]
    }
   ],
   "source": [
    "df = pd.read_csv('/home/shenwanxiang/Research/bidd-molmap/paper/00_OutoftheBox_Metablism_LMCL/Dataset_chembl_clearcaco.txt',sep=';')\n",
    "X_smiles = df.Canonical_Smiles.tolist()\n",
    "task_name = 'chembl_clearcaco'\n",
    "tmp_feature_dir = '/home/shenwanxiang/Research/bidd-molmap/paper/00_OutoftheBox_Metablism_LMCL/tmpignore'\n",
    "if not os.path.exists(tmp_feature_dir):\n",
    "    os.makedirs(tmp_feature_dir)\n",
    "    \n",
    "X1_name = os.path.join(tmp_feature_dir, 'X1_%s.data' % task_name)\n",
    "X2_name = os.path.join(tmp_feature_dir, 'X2_%s.data' % task_name)\n",
    "if not os.path.exists(X1_name):\n",
    "    X1 = mp1.batch_transform(X_smiles, n_jobs = 8)\n",
    "    dump(X1, X1_name)\n",
    "\n",
    "if not os.path.exists(X2_name): \n",
    "    X2 = mp2.batch_transform(X_smiles, n_jobs = 8)\n",
    "    dump(X2, X2_name)\n",
    "\n"
   ]
  },
  {
   "cell_type": "code",
   "execution_count": 15,
   "metadata": {},
   "outputs": [
    {
     "name": "stderr",
     "output_type": "stream",
     "text": [
      "  0%|          | 0/16896 [00:00<?, ?it/s]"
     ]
    },
    {
     "name": "stdout",
     "output_type": "stream",
     "text": [
      "total samples: 16896\n"
     ]
    },
    {
     "name": "stderr",
     "output_type": "stream",
     "text": [
      "100%|##########| 16896/16896 [30:46<00:00,  8.62it/s] \n",
      "100%|##########| 16896/16896 [02:40<00:00, 105.59it/s]\n"
     ]
    }
   ],
   "source": [
    "from molmap import dataset\n",
    "#load dataset\n",
    "data = dataset.load_CYP450()\n",
    "df = data.data\n",
    "X_smiles = df.smiles.tolist()\n",
    "task_name = 'CYP450'\n",
    "\n",
    "tmp_feature_dir = '/home/shenwanxiang/Research/bidd-molmap/paper/01_OutoftheBox_Metablism_CYP450/tmpignore'\n",
    "if not os.path.exists(tmp_feature_dir):\n",
    "    os.makedirs(tmp_feature_dir)\n",
    "    \n",
    "X1_name = os.path.join(tmp_feature_dir, 'X1_%s.data' % task_name)\n",
    "X2_name = os.path.join(tmp_feature_dir, 'X2_%s.data' % task_name)\n",
    "if not os.path.exists(X1_name):\n",
    "    X1 = mp1.batch_transform(X_smiles, n_jobs = 8)\n",
    "    dump(X1, X1_name)\n",
    "\n",
    "if not os.path.exists(X2_name): \n",
    "    X2 = mp2.batch_transform(X_smiles, n_jobs = 8)\n",
    "    dump(X2, X2_name)\n",
    "\n"
   ]
  },
  {
   "cell_type": "code",
   "execution_count": null,
   "metadata": {},
   "outputs": [],
   "source": []
  }
 ],
 "metadata": {
  "kernelspec": {
   "display_name": "Python 3",
   "language": "python",
   "name": "python3"
  },
  "language_info": {
   "codemirror_mode": {
    "name": "ipython",
    "version": 3
   },
   "file_extension": ".py",
   "mimetype": "text/x-python",
   "name": "python",
   "nbconvert_exporter": "python",
   "pygments_lexer": "ipython3",
   "version": "3.6.9"
  }
 },
 "nbformat": 4,
 "nbformat_minor": 4
}
