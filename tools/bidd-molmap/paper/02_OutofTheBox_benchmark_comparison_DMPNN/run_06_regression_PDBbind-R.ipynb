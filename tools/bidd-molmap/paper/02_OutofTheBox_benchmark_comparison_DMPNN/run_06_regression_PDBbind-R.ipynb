{
 "cells": [
  {
   "cell_type": "code",
   "execution_count": 2,
   "metadata": {},
   "outputs": [],
   "source": [
    "from molmap import model as molmodel\n",
    "import molmap\n",
    "\n",
    "import matplotlib.pyplot as plt\n",
    "\n",
    "import pandas as pd\n",
    "from tqdm import tqdm\n",
    "from joblib import load, dump\n",
    "tqdm.pandas(ascii=True)\n",
    "import numpy as np\n",
    "\n",
    "import tensorflow as tf\n",
    "import os\n",
    "os.environ[\"CUDA_VISIBLE_DEVICES\"]=\"0\"\n",
    "np.random.seed(123)\n",
    "tf.compat.v1.set_random_seed(123)\n",
    "\n",
    "\n",
    "tmp_feature_dir = './tmpignore'\n",
    "if not os.path.exists(tmp_feature_dir):\n",
    "    os.makedirs(tmp_feature_dir)"
   ]
  },
  {
   "cell_type": "code",
   "execution_count": 3,
   "metadata": {},
   "outputs": [],
   "source": [
    "\n",
    "mp1 = molmap.loadmap('../descriptor.mp')\n",
    "mp2 = molmap.loadmap('../fingerprint.mp')\n"
   ]
  },
  {
   "cell_type": "code",
   "execution_count": 4,
   "metadata": {},
   "outputs": [
    {
     "name": "stdout",
     "output_type": "stream",
     "text": [
      "loading dataset: PDBbind-refined number of split times: 1\n"
     ]
    }
   ],
   "source": [
    "task_name = 'PDBbind-refined'\n",
    "\n",
    "from chembench import load_data\n",
    "\n",
    "df, induces = load_data(task_name)\n"
   ]
  },
  {
   "cell_type": "code",
   "execution_count": 5,
   "metadata": {},
   "outputs": [],
   "source": [
    "induces = induces*3"
   ]
  },
  {
   "cell_type": "code",
   "execution_count": 6,
   "metadata": {},
   "outputs": [
    {
     "name": "stderr",
     "output_type": "stream",
     "text": [
      "100%|##########| 3040/3040 [12:01<00:00,  3.61it/s]\n",
      "100%|##########| 3040/3040 [01:07<00:00, 45.14it/s]\n"
     ]
    }
   ],
   "source": [
    "smiles_col = df.columns[0]\n",
    "values_col = df.columns[1:]\n",
    "Y = df[values_col].astype('float').values\n",
    "Y = Y.reshape(-1, 1)\n",
    "\n",
    "\n",
    "X1_name = os.path.join(tmp_feature_dir, 'X1_%s.data' % task_name)\n",
    "X2_name = os.path.join(tmp_feature_dir, 'X2_%s.data' % task_name)\n",
    "if not os.path.exists(X1_name):\n",
    "    X1 = mp1.batch_transform(df.smiles, n_jobs = 8)\n",
    "    dump(X1, X1_name)\n",
    "else:\n",
    "    X1 = load(X1_name)\n",
    "\n",
    "if not os.path.exists(X2_name): \n",
    "    X2 = mp2.batch_transform(df.smiles, n_jobs = 8)\n",
    "    dump(X2, X2_name)\n",
    "else:\n",
    "    X2 = load(X2_name)\n",
    "\n",
    "molmap1_size = X1.shape[1:]\n",
    "molmap2_size = X2.shape[1:]\n"
   ]
  },
  {
   "cell_type": "code",
   "execution_count": 7,
   "metadata": {},
   "outputs": [],
   "source": [
    "epochs = 800\n",
    "patience = 50 #early stopping\n",
    "\n",
    "dense_layers = [256, 128, 32]\n",
    "batch_size = 128\n",
    "lr = 1e-4\n",
    "weight_decay = 0\n",
    "\n",
    "loss = 'mse'\n",
    "monitor = 'val_loss'\n",
    "dense_avf = 'relu'\n",
    "last_avf = 'linear'\n"
   ]
  },
  {
   "cell_type": "code",
   "execution_count": 8,
   "metadata": {},
   "outputs": [
    {
     "name": "stdout",
     "output_type": "stream",
     "text": [
      "2432 304 304\n",
      "WARNING:tensorflow:From /home/shenwanxiang/anaconda3/envs/deepchem23/lib/python3.6/site-packages/tensorflow/python/ops/init_ops.py:1251: calling VarianceScaling.__init__ (from tensorflow.python.ops.init_ops) with dtype is deprecated and will be removed in a future version.\n",
      "Instructions for updating:\n",
      "Call initializer instance with the dtype argument instead of passing it to the constructor\n",
      "epoch: 0001, loss: 0.9188 - val_loss: 0.8743; rmse: 0.9147 - rmse_val: 0.9351;  r2: 0.2211 - r2_val: 0.3798                                                                                                    \n",
      "epoch: 0002, loss: 0.8030 - val_loss: 0.7799; rmse: 0.8763 - rmse_val: 0.8831;  r2: 0.2549 - r2_val: 0.3826                                                                                                    \n",
      "epoch: 0003, loss: 0.7527 - val_loss: 0.7422; rmse: 0.8450 - rmse_val: 0.8615;  r2: 0.2957 - r2_val: 0.3834                                                                                                    \n",
      "epoch: 0004, loss: 0.7083 - val_loss: 0.7151; rmse: 0.8250 - rmse_val: 0.8456;  r2: 0.3281 - r2_val: 0.3932                                                                                                    \n",
      "epoch: 0005, loss: 0.6776 - val_loss: 0.7204; rmse: 0.8136 - rmse_val: 0.8488;  r2: 0.3537 - r2_val: 0.4018                                                                                                    \n",
      "epoch: 0006, loss: 0.6491 - val_loss: 0.7056; rmse: 0.7954 - rmse_val: 0.8400;  r2: 0.3821 - r2_val: 0.4093                                                                                                    \n",
      "epoch: 0007, loss: 0.6277 - val_loss: 0.6648; rmse: 0.7719 - rmse_val: 0.8153;  r2: 0.4143 - r2_val: 0.4244                                                                                                    \n",
      "epoch: 0008, loss: 0.6289 - val_loss: 0.6638; rmse: 0.7784 - rmse_val: 0.8147;  r2: 0.4403 - r2_val: 0.4393                                                                                                    \n",
      "epoch: 0009, loss: 0.6018 - val_loss: 0.6556; rmse: 0.7479 - rmse_val: 0.8097;  r2: 0.4541 - r2_val: 0.4441                                                                                                    \n",
      "epoch: 0010, loss: 0.5547 - val_loss: 0.7919; rmse: 0.8042 - rmse_val: 0.8899;  r2: 0.4714 - r2_val: 0.4493                                                                                                    \n",
      "epoch: 0011, loss: 0.5905 - val_loss: 0.6443; rmse: 0.7438 - rmse_val: 0.8027;  r2: 0.5007 - r2_val: 0.4545                                                                                                    \n",
      "epoch: 0012, loss: 0.5492 - val_loss: 0.6925; rmse: 0.7375 - rmse_val: 0.8321;  r2: 0.5141 - r2_val: 0.4647                                                                                                    \n",
      "epoch: 0013, loss: 0.5222 - val_loss: 0.6266; rmse: 0.6950 - rmse_val: 0.7916;  r2: 0.5349 - r2_val: 0.4661                                                                                                    \n",
      "epoch: 0014, loss: 0.4982 - val_loss: 0.6066; rmse: 0.6810 - rmse_val: 0.7789;  r2: 0.5476 - r2_val: 0.4750                                                                                                    \n",
      "epoch: 0015, loss: 0.4651 - val_loss: 0.6357; rmse: 0.6764 - rmse_val: 0.7973;  r2: 0.5675 - r2_val: 0.4723                                                                                                    \n",
      "epoch: 0016, loss: 0.4474 - val_loss: 0.5919; rmse: 0.6558 - rmse_val: 0.7693;  r2: 0.5953 - r2_val: 0.4794                                                                                                    \n",
      "epoch: 0017, loss: 0.4291 - val_loss: 0.5961; rmse: 0.6342 - rmse_val: 0.7721;  r2: 0.6083 - r2_val: 0.4772                                                                                                    \n",
      "epoch: 0018, loss: 0.4082 - val_loss: 0.5868; rmse: 0.6193 - rmse_val: 0.7660;  r2: 0.6283 - r2_val: 0.4886                                                                                                    \n",
      "epoch: 0019, loss: 0.3826 - val_loss: 0.5881; rmse: 0.6011 - rmse_val: 0.7669;  r2: 0.6483 - r2_val: 0.4808                                                                                                    \n",
      "epoch: 0020, loss: 0.3642 - val_loss: 0.6744; rmse: 0.6304 - rmse_val: 0.8212;  r2: 0.6687 - r2_val: 0.4871                                                                                                    \n",
      "epoch: 0021, loss: 0.3688 - val_loss: 0.6243; rmse: 0.5875 - rmse_val: 0.7902;  r2: 0.6867 - r2_val: 0.4878                                                                                                    \n",
      "epoch: 0022, loss: 0.3698 - val_loss: 0.5889; rmse: 0.5590 - rmse_val: 0.7674;  r2: 0.7056 - r2_val: 0.4766                                                                                                    \n",
      "epoch: 0023, loss: 0.3462 - val_loss: 0.5984; rmse: 0.5561 - rmse_val: 0.7736;  r2: 0.7120 - r2_val: 0.4942                                                                                                    \n",
      "epoch: 0024, loss: 0.3048 - val_loss: 0.5972; rmse: 0.5348 - rmse_val: 0.7728;  r2: 0.7329 - r2_val: 0.4884                                                                                                    \n",
      "epoch: 0025, loss: 0.3065 - val_loss: 0.5718; rmse: 0.5253 - rmse_val: 0.7562;  r2: 0.7459 - r2_val: 0.4874                                                                                                    \n",
      "epoch: 0026, loss: 0.2780 - val_loss: 0.5998; rmse: 0.5146 - rmse_val: 0.7745;  r2: 0.7487 - r2_val: 0.4920                                                                                                    \n",
      "epoch: 0027, loss: 0.2915 - val_loss: 0.5868; rmse: 0.4943 - rmse_val: 0.7660;  r2: 0.7655 - r2_val: 0.4767                                                                                                    \n",
      "epoch: 0028, loss: 0.2556 - val_loss: 0.6004; rmse: 0.4871 - rmse_val: 0.7749;  r2: 0.7735 - r2_val: 0.4860                                                                                                    \n",
      "epoch: 0029, loss: 0.2476 - val_loss: 0.5985; rmse: 0.4728 - rmse_val: 0.7736;  r2: 0.7897 - r2_val: 0.4858                                                                                                    \n",
      "epoch: 0030, loss: 0.2447 - val_loss: 0.6166; rmse: 0.4730 - rmse_val: 0.7852;  r2: 0.7922 - r2_val: 0.4840                                                                                                    \n",
      "epoch: 0031, loss: 0.2300 - val_loss: 0.5779; rmse: 0.4693 - rmse_val: 0.7602;  r2: 0.8046 - r2_val: 0.4849                                                                                                    \n",
      "epoch: 0032, loss: 0.2214 - val_loss: 0.5850; rmse: 0.4427 - rmse_val: 0.7649;  r2: 0.8151 - r2_val: 0.4762                                                                                                    \n",
      "epoch: 0033, loss: 0.1992 - val_loss: 0.6263; rmse: 0.4369 - rmse_val: 0.7914;  r2: 0.8255 - r2_val: 0.4736                                                                                                    \n",
      "epoch: 0034, loss: 0.2055 - val_loss: 0.6159; rmse: 0.4258 - rmse_val: 0.7848;  r2: 0.8273 - r2_val: 0.4778                                                                                                    \n",
      "epoch: 0035, loss: 0.1967 - val_loss: 0.6025; rmse: 0.4095 - rmse_val: 0.7762;  r2: 0.8392 - r2_val: 0.4680                                                                                                    \n",
      "epoch: 0036, loss: 0.1772 - val_loss: 0.6098; rmse: 0.4042 - rmse_val: 0.7809;  r2: 0.8452 - r2_val: 0.4774                                                                                                    \n",
      "epoch: 0037, loss: 0.1723 - val_loss: 0.6193; rmse: 0.4040 - rmse_val: 0.7869;  r2: 0.8455 - r2_val: 0.4790                                                                                                    \n",
      "epoch: 0038, loss: 0.1619 - val_loss: 0.6328; rmse: 0.3960 - rmse_val: 0.7955;  r2: 0.8531 - r2_val: 0.4727                                                                                                    \n",
      "epoch: 0039, loss: 0.1599 - val_loss: 0.6159; rmse: 0.3772 - rmse_val: 0.7848;  r2: 0.8633 - r2_val: 0.4610                                                                                                    \n",
      "epoch: 0040, loss: 0.1508 - val_loss: 0.6189; rmse: 0.3854 - rmse_val: 0.7867;  r2: 0.8666 - r2_val: 0.4479                                                                                                    \n",
      "epoch: 0041, loss: 0.1690 - val_loss: 0.6092; rmse: 0.3735 - rmse_val: 0.7805;  r2: 0.8715 - r2_val: 0.4630                                                                                                    \n",
      "epoch: 0042, loss: 0.1516 - val_loss: 0.6463; rmse: 0.3836 - rmse_val: 0.8039;  r2: 0.8686 - r2_val: 0.4746                                                                                                    \n",
      "epoch: 0043, loss: 0.1622 - val_loss: 0.6029; rmse: 0.3595 - rmse_val: 0.7765;  r2: 0.8744 - r2_val: 0.4668                                                                                                    \n",
      "epoch: 0044, loss: 0.1496 - val_loss: 0.6012; rmse: 0.3732 - rmse_val: 0.7754;  r2: 0.8788 - r2_val: 0.4673                                                                                                    \n",
      "epoch: 0045, loss: 0.1376 - val_loss: 0.6328; rmse: 0.3572 - rmse_val: 0.7955;  r2: 0.8800 - r2_val: 0.4651                                                                                                    \n",
      "epoch: 0046, loss: 0.1391 - val_loss: 0.6209; rmse: 0.3580 - rmse_val: 0.7880;  r2: 0.8818 - r2_val: 0.4549                                                                                                    \n",
      "epoch: 0047, loss: 0.1453 - val_loss: 0.6043; rmse: 0.3440 - rmse_val: 0.7774;  r2: 0.8879 - r2_val: 0.4657                                                                                                    \n",
      "epoch: 0048, loss: 0.1510 - val_loss: 0.6277; rmse: 0.3401 - rmse_val: 0.7923;  r2: 0.8868 - r2_val: 0.4576                                                                                                    \n",
      "epoch: 0049, loss: 0.1284 - val_loss: 0.6246; rmse: 0.3358 - rmse_val: 0.7903;  r2: 0.8884 - r2_val: 0.4668                                                                                                    \n",
      "epoch: 0050, loss: 0.1383 - val_loss: 0.6532; rmse: 0.3434 - rmse_val: 0.8082;  r2: 0.8892 - r2_val: 0.4598                                                                                                    \n",
      "epoch: 0051, loss: 0.1287 - val_loss: 0.6599; rmse: 0.3496 - rmse_val: 0.8123;  r2: 0.8908 - r2_val: 0.4607                                                                                                    \n",
      "epoch: 0052, loss: 0.1239 - val_loss: 0.6489; rmse: 0.3315 - rmse_val: 0.8056;  r2: 0.8964 - r2_val: 0.4519                                                                                                    \n",
      "epoch: 0053, loss: 0.1220 - val_loss: 0.7309; rmse: 0.4010 - rmse_val: 0.8549;  r2: 0.8954 - r2_val: 0.4576                                                                                                    \n",
      "epoch: 0054, loss: 0.1399 - val_loss: 0.6173; rmse: 0.3474 - rmse_val: 0.7857;  r2: 0.8950 - r2_val: 0.4595                                                                                                    \n",
      "epoch: 0055, loss: 0.1308 - val_loss: 0.6472; rmse: 0.3387 - rmse_val: 0.8045;  r2: 0.8934 - r2_val: 0.4689                                                                                                    \n",
      "epoch: 0056, loss: 0.1248 - val_loss: 0.6209; rmse: 0.3431 - rmse_val: 0.7879;  r2: 0.8999 - r2_val: 0.4530                                                                                                    \n",
      "epoch: 0057, loss: 0.1159 - val_loss: 0.6344; rmse: 0.3194 - rmse_val: 0.7965;  r2: 0.9003 - r2_val: 0.4565                                                                                                    \n",
      "epoch: 0058, loss: 0.1214 - val_loss: 0.7718; rmse: 0.4118 - rmse_val: 0.8785;  r2: 0.8991 - r2_val: 0.4440                                                                                                    \n",
      "epoch: 0059, loss: 0.1258 - val_loss: 0.6368; rmse: 0.3250 - rmse_val: 0.7980;  r2: 0.9025 - r2_val: 0.4412                                                                                                    \n",
      "epoch: 0060, loss: 0.1196 - val_loss: 0.6359; rmse: 0.3586 - rmse_val: 0.7974;  r2: 0.9019 - r2_val: 0.4391                                                                                                    \n",
      "epoch: 0061, loss: 0.1289 - val_loss: 0.7015; rmse: 0.3609 - rmse_val: 0.8375;  r2: 0.9033 - r2_val: 0.4502                                                                                                    \n",
      "epoch: 0062, loss: 0.1137 - val_loss: 0.6326; rmse: 0.3091 - rmse_val: 0.7953;  r2: 0.9060 - r2_val: 0.4518                                                                                                    \n",
      "epoch: 0063, loss: 0.1039 - val_loss: 0.6660; rmse: 0.3226 - rmse_val: 0.8161;  r2: 0.9069 - r2_val: 0.4533                                                                                                    \n",
      "epoch: 0064, loss: 0.1220 - val_loss: 0.6395; rmse: 0.3428 - rmse_val: 0.7997;  r2: 0.9039 - r2_val: 0.4379                                                                                                    \n",
      "epoch: 0065, loss: 0.1239 - val_loss: 0.6438; rmse: 0.3144 - rmse_val: 0.8024;  r2: 0.9062 - r2_val: 0.4572                                                                                                    \n",
      "epoch: 0066, loss: 0.1037 - val_loss: 0.6408; rmse: 0.3061 - rmse_val: 0.8005;  r2: 0.9064 - r2_val: 0.4535                                                                                                    \n",
      "epoch: 0067, loss: 0.1011 - val_loss: 0.6572; rmse: 0.3060 - rmse_val: 0.8107;  r2: 0.9088 - r2_val: 0.4443                                                                                                    \n",
      "epoch: 0068, loss: 0.1189 - val_loss: 0.6745; rmse: 0.3245 - rmse_val: 0.8213;  r2: 0.9086 - r2_val: 0.4529                                                                                                    \n",
      "epoch: 0069, loss: 0.1272 - val_loss: 0.6415; rmse: 0.3320 - rmse_val: 0.8009;  r2: 0.9067 - r2_val: 0.4403                                                                                                    \n",
      "epoch: 0070, loss: 0.1126 - val_loss: 0.6318; rmse: 0.3182 - rmse_val: 0.7948;  r2: 0.9083 - r2_val: 0.4449                                                                                                    \n",
      "epoch: 0071, loss: 0.1057 - val_loss: 0.6739; rmse: 0.3254 - rmse_val: 0.8209;  r2: 0.9103 - r2_val: 0.4555                                                                                                    \n",
      "epoch: 0072, loss: 0.1110 - val_loss: 0.6514; rmse: 0.3034 - rmse_val: 0.8071;  r2: 0.9110 - r2_val: 0.4510                                                                                                    \n",
      "epoch: 0073, loss: 0.1024 - val_loss: 0.6447; rmse: 0.3017 - rmse_val: 0.8029;  r2: 0.9115 - r2_val: 0.4386                                                                                                    \n",
      "epoch: 0074, loss: 0.1009 - val_loss: 0.6374; rmse: 0.3040 - rmse_val: 0.7983;  r2: 0.9108 - r2_val: 0.4417                                                                                                    \n",
      "epoch: 0075, loss: 0.0997 - val_loss: 0.6598; rmse: 0.2989 - rmse_val: 0.8123;  r2: 0.9112 - r2_val: 0.4460                                                                                                    \n",
      "\n",
      "Restoring model weights from the end of the best epoch.\n",
      "\n",
      "Epoch 00075: early stopping\n",
      "2432 304 304\n",
      "Train on 2432 samples, validate on 304 samples\n",
      "Epoch 1/25\n",
      "2432/2432 [==============================] - 2s 751us/sample - loss: 0.9555 - val_loss: 0.9896\n",
      "Epoch 2/25\n",
      "2432/2432 [==============================] - 1s 233us/sample - loss: 0.8457 - val_loss: 0.8027\n",
      "Epoch 3/25\n",
      "2432/2432 [==============================] - 1s 225us/sample - loss: 0.7748 - val_loss: 0.7392\n",
      "Epoch 4/25\n",
      "2432/2432 [==============================] - 1s 242us/sample - loss: 0.7744 - val_loss: 0.7748\n",
      "Epoch 5/25\n",
      "2432/2432 [==============================] - 1s 264us/sample - loss: 0.7062 - val_loss: 0.7072\n",
      "Epoch 6/25\n",
      "2432/2432 [==============================] - 1s 292us/sample - loss: 0.6590 - val_loss: 0.6886\n",
      "Epoch 7/25\n",
      "2432/2432 [==============================] - 1s 273us/sample - loss: 0.6381 - val_loss: 0.6798\n",
      "Epoch 8/25\n",
      "2432/2432 [==============================] - 1s 266us/sample - loss: 0.6120 - val_loss: 0.6652\n",
      "Epoch 9/25\n",
      "2432/2432 [==============================] - 1s 265us/sample - loss: 0.5825 - val_loss: 0.6445\n",
      "Epoch 10/25\n",
      "2432/2432 [==============================] - 1s 256us/sample - loss: 0.5561 - val_loss: 0.6379\n",
      "Epoch 11/25\n",
      "2432/2432 [==============================] - 1s 250us/sample - loss: 0.5340 - val_loss: 0.6347\n",
      "Epoch 12/25\n",
      "2432/2432 [==============================] - 1s 237us/sample - loss: 0.5087 - val_loss: 0.6967\n",
      "Epoch 13/25\n",
      "2432/2432 [==============================] - 1s 256us/sample - loss: 0.5077 - val_loss: 0.6290\n",
      "Epoch 14/25\n",
      "2432/2432 [==============================] - 1s 265us/sample - loss: 0.5196 - val_loss: 0.6275\n",
      "Epoch 15/25\n",
      "2432/2432 [==============================] - 1s 253us/sample - loss: 0.5470 - val_loss: 0.6472\n",
      "Epoch 16/25\n",
      "2432/2432 [==============================] - 1s 252us/sample - loss: 0.4628 - val_loss: 0.5982\n",
      "Epoch 17/25\n",
      "2432/2432 [==============================] - 1s 259us/sample - loss: 0.4312 - val_loss: 0.6275\n",
      "Epoch 18/25\n",
      "2432/2432 [==============================] - 1s 245us/sample - loss: 0.4198 - val_loss: 0.5939\n",
      "Epoch 19/25\n",
      "2432/2432 [==============================] - 1s 251us/sample - loss: 0.4021 - val_loss: 0.5923\n",
      "Epoch 20/25\n",
      "2432/2432 [==============================] - 1s 243us/sample - loss: 0.3768 - val_loss: 0.6181\n",
      "Epoch 21/25\n",
      "2432/2432 [==============================] - 1s 242us/sample - loss: 0.3642 - val_loss: 0.6021\n",
      "Epoch 22/25\n",
      "2432/2432 [==============================] - 1s 241us/sample - loss: 0.3517 - val_loss: 0.5996\n",
      "Epoch 23/25\n",
      "2432/2432 [==============================] - 1s 238us/sample - loss: 0.3798 - val_loss: 0.6196\n",
      "Epoch 24/25\n",
      "2432/2432 [==============================] - 1s 236us/sample - loss: 0.3790 - val_loss: 0.6356\n",
      "Epoch 25/25\n",
      "2432/2432 [==============================] - 1s 236us/sample - loss: 0.3165 - val_loss: 0.5998\n",
      "2432 304 304\n",
      "Train on 2432 samples, validate on 304 samples\n",
      "Epoch 1/25\n",
      "2432/2432 [==============================] - 2s 745us/sample - loss: 0.9676 - val_loss: 0.9885\n",
      "Epoch 2/25\n",
      "2432/2432 [==============================] - 1s 324us/sample - loss: 0.8494 - val_loss: 0.8020\n",
      "Epoch 3/25\n",
      "2432/2432 [==============================] - 1s 300us/sample - loss: 0.7700 - val_loss: 0.7495\n",
      "Epoch 4/25\n",
      "2432/2432 [==============================] - 1s 293us/sample - loss: 0.7227 - val_loss: 0.7252\n",
      "Epoch 5/25\n",
      "2432/2432 [==============================] - 1s 292us/sample - loss: 0.6910 - val_loss: 0.7648\n",
      "Epoch 6/25\n",
      "2432/2432 [==============================] - 1s 312us/sample - loss: 0.6557 - val_loss: 0.6774\n",
      "Epoch 7/25\n",
      "2432/2432 [==============================] - 1s 317us/sample - loss: 0.6222 - val_loss: 0.6704\n",
      "Epoch 8/25\n",
      "2432/2432 [==============================] - 1s 314us/sample - loss: 0.6171 - val_loss: 0.6570\n",
      "Epoch 9/25\n",
      "2432/2432 [==============================] - 1s 294us/sample - loss: 0.5794 - val_loss: 0.6626\n",
      "Epoch 10/25\n",
      "2432/2432 [==============================] - 1s 303us/sample - loss: 0.6106 - val_loss: 0.7351\n",
      "Epoch 11/25\n",
      "2432/2432 [==============================] - 1s 317us/sample - loss: 0.5588 - val_loss: 0.6933\n",
      "Epoch 12/25\n",
      "2432/2432 [==============================] - 1s 319us/sample - loss: 0.5323 - val_loss: 0.6429\n",
      "Epoch 13/25\n",
      "2432/2432 [==============================] - 1s 329us/sample - loss: 0.5134 - val_loss: 0.6567\n",
      "Epoch 14/25\n",
      "2432/2432 [==============================] - 1s 320us/sample - loss: 0.4815 - val_loss: 0.6107\n",
      "Epoch 15/25\n",
      "2432/2432 [==============================] - 1s 300us/sample - loss: 0.4604 - val_loss: 0.6118\n",
      "Epoch 16/25\n",
      "2432/2432 [==============================] - 1s 335us/sample - loss: 0.4387 - val_loss: 0.5989\n",
      "Epoch 17/25\n",
      "2432/2432 [==============================] - 1s 325us/sample - loss: 0.4130 - val_loss: 0.6261\n",
      "Epoch 18/25\n",
      "2432/2432 [==============================] - 1s 312us/sample - loss: 0.4109 - val_loss: 0.5862\n",
      "Epoch 19/25\n",
      "2432/2432 [==============================] - 1s 293us/sample - loss: 0.3724 - val_loss: 0.6885\n",
      "Epoch 20/25\n",
      "2432/2432 [==============================] - 1s 339us/sample - loss: 0.3662 - val_loss: 0.6113\n",
      "Epoch 21/25\n",
      "2432/2432 [==============================] - 1s 346us/sample - loss: 0.3553 - val_loss: 0.5971\n",
      "Epoch 22/25\n",
      "2432/2432 [==============================] - 1s 282us/sample - loss: 0.3307 - val_loss: 0.5982\n",
      "Epoch 23/25\n",
      "2432/2432 [==============================] - 1s 280us/sample - loss: 0.3036 - val_loss: 0.5891\n",
      "Epoch 24/25\n",
      "2432/2432 [==============================] - 1s 274us/sample - loss: 0.2875 - val_loss: 0.6304\n",
      "Epoch 25/25\n",
      "2432/2432 [==============================] - 1s 321us/sample - loss: 0.2740 - val_loss: 0.6490\n"
     ]
    }
   ],
   "source": [
    "results = []\n",
    "\n",
    "for i, split_idxs in enumerate(induces):\n",
    "\n",
    "    train_idx, valid_idx, test_idx = split_idxs\n",
    "    \n",
    "    train_idx = [i for i in train_idx if i < len(df)]\n",
    "    valid_idx = [i for i in valid_idx if i < len(df)]    \n",
    "    test_idx = [i for i in test_idx if i < len(df)]\n",
    "    \n",
    "    print(len(train_idx), len(valid_idx), len(test_idx))\n",
    "\n",
    "    trainX = (X1[train_idx], X2[train_idx])\n",
    "    trainY = Y[train_idx]\n",
    "\n",
    "    validX = (X1[valid_idx], X2[valid_idx])\n",
    "    validY = Y[valid_idx]\n",
    "\n",
    "    testX = (X1[test_idx], X2[test_idx])\n",
    "    testY = Y[test_idx]            \n",
    "\n",
    "\n",
    "    model = molmodel.net.DoublePathNet(molmap1_size, molmap2_size, \n",
    "                                       n_outputs=Y.shape[-1], \n",
    "                                       dense_layers=dense_layers, \n",
    "                                       dense_avf = dense_avf, \n",
    "                                       last_avf=last_avf)\n",
    "\n",
    "    opt = tf.keras.optimizers.Adam(lr=lr, beta_1=0.9, beta_2=0.999, epsilon=1e-08, decay=0.0) #\n",
    "    #import tensorflow_addons as tfa\n",
    "    #opt = tfa.optimizers.AdamW(weight_decay = 0.1,learning_rate=0.001,beta1=0.9,beta2=0.999, epsilon=1e-08)\n",
    "    model.compile(optimizer = opt, loss = loss)\n",
    "    \n",
    "\n",
    "    if i == 0:\n",
    "        performance = molmodel.cbks.Reg_EarlyStoppingAndPerformance((trainX, trainY), \n",
    "                                                                   (validX, validY), \n",
    "                                                                   patience = patience, \n",
    "                                                                   criteria = monitor)\n",
    "        model.fit(trainX, trainY, batch_size=batch_size, \n",
    "              epochs=epochs, verbose= 0, shuffle = True, \n",
    "              validation_data = (validX, validY), \n",
    "              callbacks=[performance]) \n",
    "    else:\n",
    "        model.fit(trainX, trainY, batch_size=batch_size, \n",
    "              epochs = performance.best_epoch + 1, verbose = 1, shuffle = True, \n",
    "              validation_data = (validX, validY)) \n",
    "            \n",
    "    performance.model.set_weights(model.get_weights())\n",
    "    \n",
    "    best_epoch = performance.best_epoch\n",
    "    trainable_params = model.count_params()\n",
    "\n",
    "    train_rmses, train_r2s = performance.evaluate(trainX, trainY)            \n",
    "    valid_rmses, valid_r2s = performance.evaluate(validX, validY)            \n",
    "    test_rmses, test_r2s = performance.evaluate(testX, testY)\n",
    "\n",
    "\n",
    "    final_res = {\n",
    "                 'task_name':task_name,            \n",
    "                 'train_rmse':np.nanmean(train_rmses), \n",
    "                 'valid_rmse':np.nanmean(valid_rmses),                      \n",
    "                 'test_rmse':np.nanmean(test_rmses), \n",
    "\n",
    "                 'train_r2':np.nanmean(train_r2s), \n",
    "                 'valid_r2':np.nanmean(valid_r2s),                      \n",
    "                 'test_r2':np.nanmean(test_r2s), \n",
    "\n",
    "                 '# trainable params': trainable_params,\n",
    "                 'best_epoch': best_epoch,\n",
    "                 'batch_size':batch_size,\n",
    "                 'lr': lr,\n",
    "                 'weight_decay':weight_decay\n",
    "                }\n",
    "    results.append(final_res)\n",
    "    "
   ]
  },
  {
   "cell_type": "code",
   "execution_count": 9,
   "metadata": {},
   "outputs": [
    {
     "data": {
      "text/plain": [
       "<matplotlib.axes._subplots.AxesSubplot at 0x7f0b6c0930b8>"
      ]
     },
     "execution_count": 9,
     "metadata": {},
     "output_type": "execute_result"
    },
    {
     "data": {
      "image/png": "[encoded data removed]",
      "text/plain": [
       "<Figure size 432x288 with 1 Axes>"
      ]
     },
     "metadata": {
      "needs_background": "light"
     },
     "output_type": "display_data"
    }
   ],
   "source": [
    "pd.DataFrame(performance.history)[['rmse', 'val_rmse']].plot()"
   ]
  },
  {
   "cell_type": "code",
   "execution_count": 10,
   "metadata": {},
   "outputs": [
    {
     "data": {
      "text/plain": [
       "0.8892327751942514"
      ]
     },
     "execution_count": 10,
     "metadata": {},
     "output_type": "execute_result"
    }
   ],
   "source": [
    "pd.DataFrame(results).test_rmse.mean()"
   ]
  },
  {
   "cell_type": "code",
   "execution_count": 11,
   "metadata": {},
   "outputs": [
    {
     "data": {
      "text/plain": [
       "0.025072556532979986"
      ]
     },
     "execution_count": 11,
     "metadata": {},
     "output_type": "execute_result"
    }
   ],
   "source": [
    "pd.DataFrame(results).test_rmse.std()"
   ]
  },
  {
   "cell_type": "code",
   "execution_count": 12,
   "metadata": {},
   "outputs": [],
   "source": [
    "pd.DataFrame(results).to_csv('./results/%s.csv' % task_name)"
   ]
  },
  {
   "cell_type": "code",
   "execution_count": 13,
   "metadata": {},
   "outputs": [
    {
     "data": {
      "text/html": [
       "<div>\n",
       "<style scoped>\n",
       "    .dataframe tbody tr th:only-of-type {\n",
       "        vertical-align: middle;\n",
       "    }\n",
       "\n",
       "    .dataframe tbody tr th {\n",
       "        vertical-align: top;\n",
       "    }\n",
       "\n",
       "    .dataframe thead th {\n",
       "        text-align: right;\n",
       "    }\n",
       "</style>\n",
       "<table border=\"1\" class=\"dataframe\">\n",
       "  <thead>\n",
       "    <tr style=\"text-align: right;\">\n",
       "      <th></th>\n",
       "      <th>task_name</th>\n",
       "      <th>train_rmse</th>\n",
       "      <th>valid_rmse</th>\n",
       "      <th>test_rmse</th>\n",
       "      <th>train_r2</th>\n",
       "      <th>valid_r2</th>\n",
       "      <th>test_r2</th>\n",
       "      <th># trainable params</th>\n",
       "      <th>best_epoch</th>\n",
       "      <th>batch_size</th>\n",
       "      <th>lr</th>\n",
       "      <th>weight_decay</th>\n",
       "    </tr>\n",
       "  </thead>\n",
       "  <tbody>\n",
       "    <tr>\n",
       "      <td>0</td>\n",
       "      <td>PDBbind-refined</td>\n",
       "      <td>0.525349</td>\n",
       "      <td>0.756187</td>\n",
       "      <td>0.864778</td>\n",
       "      <td>0.745875</td>\n",
       "      <td>0.487415</td>\n",
       "      <td>0.350139</td>\n",
       "      <td>803681</td>\n",
       "      <td>24</td>\n",
       "      <td>128</td>\n",
       "      <td>0.0001</td>\n",
       "      <td>0</td>\n",
       "    </tr>\n",
       "    <tr>\n",
       "      <td>1</td>\n",
       "      <td>PDBbind-refined</td>\n",
       "      <td>0.538194</td>\n",
       "      <td>0.774494</td>\n",
       "      <td>0.888039</td>\n",
       "      <td>0.723629</td>\n",
       "      <td>0.472371</td>\n",
       "      <td>0.338041</td>\n",
       "      <td>803681</td>\n",
       "      <td>24</td>\n",
       "      <td>128</td>\n",
       "      <td>0.0001</td>\n",
       "      <td>0</td>\n",
       "    </tr>\n",
       "    <tr>\n",
       "      <td>2</td>\n",
       "      <td>PDBbind-refined</td>\n",
       "      <td>0.536861</td>\n",
       "      <td>0.805614</td>\n",
       "      <td>0.914881</td>\n",
       "      <td>0.763745</td>\n",
       "      <td>0.478941</td>\n",
       "      <td>0.365051</td>\n",
       "      <td>803681</td>\n",
       "      <td>24</td>\n",
       "      <td>128</td>\n",
       "      <td>0.0001</td>\n",
       "      <td>0</td>\n",
       "    </tr>\n",
       "  </tbody>\n",
       "</table>\n",
       "</div>"
      ],
      "text/plain": [
       "         task_name  train_rmse  valid_rmse  test_rmse  train_r2  valid_r2  \\\n",
       "0  PDBbind-refined    0.525349    0.756187   0.864778  0.745875  0.487415   \n",
       "1  PDBbind-refined    0.538194    0.774494   0.888039  0.723629  0.472371   \n",
       "2  PDBbind-refined    0.536861    0.805614   0.914881  0.763745  0.478941   \n",
       "\n",
       "    test_r2  # trainable params  best_epoch  batch_size      lr  weight_decay  \n",
       "0  0.350139              803681          24         128  0.0001             0  \n",
       "1  0.338041              803681          24         128  0.0001             0  \n",
       "2  0.365051              803681          24         128  0.0001             0  "
      ]
     },
     "execution_count": 13,
     "metadata": {},
     "output_type": "execute_result"
    }
   ],
   "source": [
    "pd.DataFrame(results)"
   ]
  },
  {
   "cell_type": "code",
   "execution_count": null,
   "metadata": {},
   "outputs": [],
   "source": []
  },
  {
   "cell_type": "code",
   "execution_count": null,
   "metadata": {},
   "outputs": [],
   "source": []
  },
  {
   "cell_type": "code",
   "execution_count": null,
   "metadata": {},
   "outputs": [],
   "source": []
  },
  {
   "cell_type": "code",
   "execution_count": null,
   "metadata": {},
   "outputs": [],
   "source": []
  },
  {
   "cell_type": "code",
   "execution_count": null,
   "metadata": {},
   "outputs": [],
   "source": []
  }
 ],
 "metadata": {
  "kernelspec": {
   "display_name": "Python 3",
   "language": "python",
   "name": "python3"
  },
  "language_info": {
   "codemirror_mode": {
    "name": "ipython",
    "version": 3
   },
   "file_extension": ".py",
   "mimetype": "text/x-python",
   "name": "python",
   "nbconvert_exporter": "python",
   "pygments_lexer": "ipython3",
   "version": "3.6.9"
  }
 },
 "nbformat": 4,
 "nbformat_minor": 4
}
