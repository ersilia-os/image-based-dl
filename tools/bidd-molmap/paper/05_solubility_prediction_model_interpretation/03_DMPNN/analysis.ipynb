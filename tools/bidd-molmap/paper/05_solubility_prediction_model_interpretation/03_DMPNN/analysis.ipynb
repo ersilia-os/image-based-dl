{
 "cells": [
  {
   "cell_type": "code",
   "execution_count": 42,
   "metadata": {},
   "outputs": [],
   "source": [
    "import pandas as pd\n",
    "import numpy as np\n",
    "from sklearn.metrics import mean_squared_error\n",
    "from scipy.stats.stats import pearsonr\n",
    "import matplotlib.pyplot as plt"
   ]
  },
  {
   "cell_type": "markdown",
   "metadata": {},
   "source": [
    "# optimal parameters"
   ]
  },
  {
   "cell_type": "code",
   "execution_count": 43,
   "metadata": {},
   "outputs": [
    {
     "data": {
      "text/html": [
       "<div>\n",
       "<style scoped>\n",
       "    .dataframe tbody tr th:only-of-type {\n",
       "        vertical-align: middle;\n",
       "    }\n",
       "\n",
       "    .dataframe tbody tr th {\n",
       "        vertical-align: top;\n",
       "    }\n",
       "\n",
       "    .dataframe thead th {\n",
       "        text-align: right;\n",
       "    }\n",
       "</style>\n",
       "<table border=\"1\" class=\"dataframe\">\n",
       "  <thead>\n",
       "    <tr style=\"text-align: right;\">\n",
       "      <th></th>\n",
       "      <th>0</th>\n",
       "    </tr>\n",
       "  </thead>\n",
       "  <tbody>\n",
       "    <tr>\n",
       "      <td>depth</td>\n",
       "      <td>5.00</td>\n",
       "    </tr>\n",
       "    <tr>\n",
       "      <td>dropout</td>\n",
       "      <td>0.05</td>\n",
       "    </tr>\n",
       "    <tr>\n",
       "      <td>ffn_num_layers</td>\n",
       "      <td>2.00</td>\n",
       "    </tr>\n",
       "    <tr>\n",
       "      <td>hidden_size</td>\n",
       "      <td>1000.00</td>\n",
       "    </tr>\n",
       "  </tbody>\n",
       "</table>\n",
       "</div>"
      ],
      "text/plain": [
       "                      0\n",
       "depth              5.00\n",
       "dropout            0.05\n",
       "ffn_num_layers     2.00\n",
       "hidden_size     1000.00"
      ]
     },
     "execution_count": 43,
     "metadata": {},
     "output_type": "execute_result"
    }
   ],
   "source": [
    "pd.read_json('logs_config', orient = 'index') #Number of parameters = 3283001"
   ]
  },
  {
   "cell_type": "code",
   "execution_count": 44,
   "metadata": {},
   "outputs": [],
   "source": [
    "\n",
    "train_observed = pd.read_csv('./train_dmpnn.csv').logS\n",
    "valid_observed = pd.read_csv('./valid_dmpnn.csv').logS\n",
    "test_observed = pd.read_csv('./test_dmpnn.csv').logS\n",
    "etc_observed = pd.read_csv('./etc_dmpnn.csv').logS\n",
    "\n",
    "res = []\n",
    "for i in [1,2,3]:\n",
    "\n",
    "    # train\n",
    "    train_predicted = pd.read_csv('./pred_train_dmpnn_%s.csv' % i).logS\n",
    "    #valid\n",
    "    valid_predicted = pd.read_csv('./pred_valid_dmpnn_%s.csv' % i).logS\n",
    "\n",
    "    #test\n",
    "    test_predicted = pd.read_csv('./pred_test_dmpnn_%s.csv' % i).logS\n",
    "\n",
    "    #etc\n",
    "    etc_predicted = pd.read_csv('./pred_etc_dmpnn_%s.csv' % i).logS\n",
    "\n",
    "    train_rmse = np.sqrt(mean_squared_error(train_observed, train_predicted))\n",
    "    valid_rmse = np.sqrt(mean_squared_error(valid_observed, valid_predicted))\n",
    "    test_rmse = np.sqrt(mean_squared_error(test_observed, test_predicted))\n",
    "    etc_rmse = np.sqrt(mean_squared_error(etc_observed, etc_predicted))\n",
    "    \n",
    "    train_pcc, train_p = pearsonr(train_observed, train_predicted)\n",
    "    valid_pcc, valid_p = pearsonr(valid_observed, valid_predicted)\n",
    "    test_pcc, test_p = pearsonr(test_observed, test_predicted)    \n",
    "    etc_pcc, etc_p = pearsonr(etc_observed, etc_predicted)\n",
    "    \n",
    "    res.append([i, train_rmse, valid_rmse, test_rmse, etc_rmse, \n",
    "                train_pcc, valid_pcc, test_pcc, etc_pcc,\n",
    "                train_p, valid_p, test_p, etc_p\n",
    "               ])"
   ]
  },
  {
   "cell_type": "code",
   "execution_count": null,
   "metadata": {},
   "outputs": [],
   "source": []
  },
  {
   "cell_type": "code",
   "execution_count": 46,
   "metadata": {},
   "outputs": [],
   "source": [
    "df = pd.DataFrame(res, columns = ['random', 'train_rmse', 'valid_rmse', 'test_rmse', 'etc_rmse',\n",
    "                            'train_pcc', 'valid_pcc', 'test_pcc', 'etc_pcc',\n",
    "                             'train_p', 'valid_p', 'test_p', 'etc_p'])"
   ]
  },
  {
   "cell_type": "code",
   "execution_count": 48,
   "metadata": {},
   "outputs": [
    {
     "data": {
      "text/plain": [
       "random        2.000000e+00\n",
       "train_rmse    3.221434e-01\n",
       "valid_rmse    5.116568e-01\n",
       "test_rmse     4.054026e-01\n",
       "etc_rmse      1.008825e+00\n",
       "train_pcc     9.822910e-01\n",
       "valid_pcc     9.522916e-01\n",
       "test_pcc      9.648177e-01\n",
       "etc_pcc       4.537655e-01\n",
       "train_p       0.000000e+00\n",
       "valid_p       1.150249e-58\n",
       "test_p        5.541903e-66\n",
       "etc_p         2.335637e-07\n",
       "dtype: float64"
      ]
     },
     "execution_count": 48,
     "metadata": {},
     "output_type": "execute_result"
    }
   ],
   "source": [
    "df.mean()"
   ]
  },
  {
   "cell_type": "code",
   "execution_count": null,
   "metadata": {},
   "outputs": [],
   "source": []
  },
  {
   "cell_type": "code",
   "execution_count": 59,
   "metadata": {},
   "outputs": [],
   "source": [
    "avg = df.mean()\n",
    "sd = df.std()\n",
    "res = []\n",
    "for i in avg.index:\n",
    "    res.append([i, '%.3f ± %.3f' % (avg.loc[i], sd.loc[i])])"
   ]
  },
  {
   "cell_type": "code",
   "execution_count": 68,
   "metadata": {},
   "outputs": [],
   "source": [
    "dfr = pd.DataFrame(res).iloc[1:].set_index(0).T"
   ]
  },
  {
   "cell_type": "code",
   "execution_count": 70,
   "metadata": {},
   "outputs": [],
   "source": [
    "dfr['# trainable params'] = 3283001\n",
    "dfr['model'] = 'DMPNN'"
   ]
  },
  {
   "cell_type": "code",
   "execution_count": 73,
   "metadata": {},
   "outputs": [],
   "source": [
    "dfr.to_csv('results_DMPNN.csv')\n",
    "dfr.to_pickle('results_DMPNN.pkl')"
   ]
  }
 ],
 "metadata": {
  "kernelspec": {
   "display_name": "Python 3",
   "language": "python",
   "name": "python3"
  },
  "language_info": {
   "codemirror_mode": {
    "name": "ipython",
    "version": 3
   },
   "file_extension": ".py",
   "mimetype": "text/x-python",
   "name": "python",
   "nbconvert_exporter": "python",
   "pygments_lexer": "ipython3",
   "version": "3.6.5"
  }
 },
 "nbformat": 4,
 "nbformat_minor": 4
}
