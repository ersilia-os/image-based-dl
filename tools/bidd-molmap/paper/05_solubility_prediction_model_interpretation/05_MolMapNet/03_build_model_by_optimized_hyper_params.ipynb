{
 "cells": [
  {
   "cell_type": "code",
   "execution_count": 1,
   "metadata": {},
   "outputs": [
    {
     "name": "stderr",
     "output_type": "stream",
     "text": [
      "/home/sxh/anaconda3/envs/my-rdkit-env/lib/python3.6/site-packages/tensorflow/python/framework/dtypes.py:516: FutureWarning: Passing (type, 1) or '1type' as a synonym of type is deprecated; in a future version of numpy, it will be understood as (type, (1,)) / '(1,)type'.\n",
      "  _np_qint8 = np.dtype([(\"qint8\", np.int8, 1)])\n",
      "/home/sxh/anaconda3/envs/my-rdkit-env/lib/python3.6/site-packages/tensorflow/python/framework/dtypes.py:517: FutureWarning: Passing (type, 1) or '1type' as a synonym of type is deprecated; in a future version of numpy, it will be understood as (type, (1,)) / '(1,)type'.\n",
      "  _np_quint8 = np.dtype([(\"quint8\", np.uint8, 1)])\n",
      "/home/sxh/anaconda3/envs/my-rdkit-env/lib/python3.6/site-packages/tensorflow/python/framework/dtypes.py:518: FutureWarning: Passing (type, 1) or '1type' as a synonym of type is deprecated; in a future version of numpy, it will be understood as (type, (1,)) / '(1,)type'.\n",
      "  _np_qint16 = np.dtype([(\"qint16\", np.int16, 1)])\n",
      "/home/sxh/anaconda3/envs/my-rdkit-env/lib/python3.6/site-packages/tensorflow/python/framework/dtypes.py:519: FutureWarning: Passing (type, 1) or '1type' as a synonym of type is deprecated; in a future version of numpy, it will be understood as (type, (1,)) / '(1,)type'.\n",
      "  _np_quint16 = np.dtype([(\"quint16\", np.uint16, 1)])\n",
      "/home/sxh/anaconda3/envs/my-rdkit-env/lib/python3.6/site-packages/tensorflow/python/framework/dtypes.py:520: FutureWarning: Passing (type, 1) or '1type' as a synonym of type is deprecated; in a future version of numpy, it will be understood as (type, (1,)) / '(1,)type'.\n",
      "  _np_qint32 = np.dtype([(\"qint32\", np.int32, 1)])\n",
      "/home/sxh/anaconda3/envs/my-rdkit-env/lib/python3.6/site-packages/tensorflow/python/framework/dtypes.py:525: FutureWarning: Passing (type, 1) or '1type' as a synonym of type is deprecated; in a future version of numpy, it will be understood as (type, (1,)) / '(1,)type'.\n",
      "  np_resource = np.dtype([(\"resource\", np.ubyte, 1)])\n",
      "/home/sxh/anaconda3/envs/my-rdkit-env/lib/python3.6/site-packages/tensorboard/compat/tensorflow_stub/dtypes.py:541: FutureWarning: Passing (type, 1) or '1type' as a synonym of type is deprecated; in a future version of numpy, it will be understood as (type, (1,)) / '(1,)type'.\n",
      "  _np_qint8 = np.dtype([(\"qint8\", np.int8, 1)])\n",
      "/home/sxh/anaconda3/envs/my-rdkit-env/lib/python3.6/site-packages/tensorboard/compat/tensorflow_stub/dtypes.py:542: FutureWarning: Passing (type, 1) or '1type' as a synonym of type is deprecated; in a future version of numpy, it will be understood as (type, (1,)) / '(1,)type'.\n",
      "  _np_quint8 = np.dtype([(\"quint8\", np.uint8, 1)])\n",
      "/home/sxh/anaconda3/envs/my-rdkit-env/lib/python3.6/site-packages/tensorboard/compat/tensorflow_stub/dtypes.py:543: FutureWarning: Passing (type, 1) or '1type' as a synonym of type is deprecated; in a future version of numpy, it will be understood as (type, (1,)) / '(1,)type'.\n",
      "  _np_qint16 = np.dtype([(\"qint16\", np.int16, 1)])\n",
      "/home/sxh/anaconda3/envs/my-rdkit-env/lib/python3.6/site-packages/tensorboard/compat/tensorflow_stub/dtypes.py:544: FutureWarning: Passing (type, 1) or '1type' as a synonym of type is deprecated; in a future version of numpy, it will be understood as (type, (1,)) / '(1,)type'.\n",
      "  _np_quint16 = np.dtype([(\"quint16\", np.uint16, 1)])\n",
      "/home/sxh/anaconda3/envs/my-rdkit-env/lib/python3.6/site-packages/tensorboard/compat/tensorflow_stub/dtypes.py:545: FutureWarning: Passing (type, 1) or '1type' as a synonym of type is deprecated; in a future version of numpy, it will be understood as (type, (1,)) / '(1,)type'.\n",
      "  _np_qint32 = np.dtype([(\"qint32\", np.int32, 1)])\n",
      "/home/sxh/anaconda3/envs/my-rdkit-env/lib/python3.6/site-packages/tensorboard/compat/tensorflow_stub/dtypes.py:550: FutureWarning: Passing (type, 1) or '1type' as a synonym of type is deprecated; in a future version of numpy, it will be understood as (type, (1,)) / '(1,)type'.\n",
      "  np_resource = np.dtype([(\"resource\", np.ubyte, 1)])\n"
     ]
    }
   ],
   "source": [
    "from molmap import model as molmodel\n",
    "import molmap\n",
    "from molmap import dataset\n",
    "import matplotlib.pyplot as plt\n",
    "\n",
    "import pandas as pd\n",
    "from tqdm import tqdm\n",
    "from joblib import load, dump\n",
    "tqdm.pandas(ascii=True)\n",
    "import numpy as np\n",
    "\n",
    "import tensorflow as tf\n",
    "import os\n",
    "os.environ[\"CUDA_VISIBLE_DEVICES\"]=\"3\"\n",
    "\n",
    "seed = 123\n",
    "np.random.seed(seed)\n",
    "tf.compat.v1.set_random_seed(seed)"
   ]
  },
  {
   "cell_type": "code",
   "execution_count": 2,
   "metadata": {},
   "outputs": [],
   "source": [
    "df_train = pd.read_csv('../train.csv', index_col = 0)\n",
    "df_valid = pd.read_csv('../valid.csv',  index_col = 0)\n",
    "df_test = pd.read_csv('../test.csv',  index_col = 0)\n",
    "df_etc = pd.read_csv('../etc.csv')\n",
    "task = 'measured log solubility in mols per litre'\n",
    "df_etc[task] = df_etc.Exp_LogS"
   ]
  },
  {
   "cell_type": "code",
   "execution_count": 3,
   "metadata": {},
   "outputs": [
    {
     "name": "stderr",
     "output_type": "stream",
     "text": [
      "/home/sxh/anaconda3/envs/my-rdkit-env/lib/python3.6/site-packages/pandas/core/frame.py:7123: FutureWarning: Sorting because non-concatenation axis is not aligned. A future version\n",
      "of pandas will change to not sort by default.\n",
      "\n",
      "To accept the future behavior, pass 'sort=False'.\n",
      "\n",
      "To retain the current behavior and silence the warning, pass 'sort=True'.\n",
      "\n",
      "  sort=sort,\n"
     ]
    },
    {
     "data": {
      "text/plain": [
       "(901, 113, 113, 120)"
      ]
     },
     "execution_count": 3,
     "metadata": {},
     "output_type": "execute_result"
    }
   ],
   "source": [
    "df = df_train.append(df_valid).append(df_test).append(df_etc)\n",
    "df = df.reset_index(drop=True)\n",
    "\n",
    "train_idx = df.index[:len(df_train)]\n",
    "valid_idx = df.index[len(df_train): len(df_train)+len(df_valid)]\n",
    "test_idx = df.index[len(df_train)+len(df_valid): len(df_train)+len(df_valid) + len(df_test)]\n",
    "etc_idx = df.index[-len(df_etc):]\n",
    "len(train_idx), len(valid_idx), len(test_idx), len(etc_idx)"
   ]
  },
  {
   "cell_type": "markdown",
   "metadata": {},
   "source": [
    "## load optimized molmaps"
   ]
  },
  {
   "cell_type": "code",
   "execution_count": 4,
   "metadata": {},
   "outputs": [],
   "source": [
    "### optimized hyper-parameters\n",
    "n_neighbors = 30\n",
    "min_dist = 0.25\n",
    "\n",
    "task_name = 'solubility'\n",
    "tmp_feature_dir = './tmpignore'\n",
    "if not os.path.exists(tmp_feature_dir):\n",
    "    os.makedirs(tmp_feature_dir)\n",
    "    \n",
    "opt_mp = './optimized_descriptor.mp'\n",
    "if not os.path.exists(opt_mp):\n",
    "    mp1 = molmap.loadmap('../../descriptor.mp')\n",
    "    mp1.fit(method = 'umap', min_dist = min_dist, n_neighbors = n_neighbors)\n",
    "    mp1.save(opt_mp)\n",
    "else:\n",
    "    mp1 = molmap.loadmap(opt_mp)"
   ]
  },
  {
   "cell_type": "code",
   "execution_count": 5,
   "metadata": {},
   "outputs": [
    {
     "name": "stdout",
     "output_type": "stream",
     "text": [
      "2020-01-29 12:46:33,111 - \u001b[32mINFO\u001b[0m - [bidd-molmap]\u001b[0m - generate file: ./result/descriptor_1344_cosine_umap_molmap\u001b[0m\n",
      "2020-01-29 12:46:33,158 - \u001b[32mINFO\u001b[0m - [bidd-molmap]\u001b[0m - save html file to ./result/descriptor_1344_cosine_umap_molmap\u001b[0m\n",
      "2020-01-29 12:46:33,159 - \u001b[32mINFO\u001b[0m - [bidd-molmap]\u001b[0m - generate file: ./result/descriptor_1344_cosine_umap_scatter\u001b[0m\n",
      "2020-01-29 12:46:33,202 - \u001b[32mINFO\u001b[0m - [bidd-molmap]\u001b[0m - save html file to ./result/descriptor_1344_cosine_umap_scatter\u001b[0m\n"
     ]
    }
   ],
   "source": [
    "_ = mp1.plot_grid('./result/')\n",
    "_ = mp1.plot_scatter('./result/')"
   ]
  },
  {
   "cell_type": "code",
   "execution_count": 6,
   "metadata": {},
   "outputs": [],
   "source": [
    "X1_name = os.path.join(tmp_feature_dir, 'X1_optimized_%s.data' % task_name)\n",
    "if not os.path.exists(X1_name):\n",
    "    X1 = mp1.batch_transform(df.smiles, n_jobs = 8)\n",
    "    dump(X1, X1_name)\n",
    "else:\n",
    "    X1 = load(X1_name)"
   ]
  },
  {
   "cell_type": "code",
   "execution_count": 7,
   "metadata": {},
   "outputs": [],
   "source": [
    "Y = df[[task]].values\n",
    "\n",
    "trainX = X1[train_idx]\n",
    "trainY = Y[train_idx]\n",
    "\n",
    "validX = X1[valid_idx]\n",
    "validY = Y[valid_idx]\n",
    "\n",
    "testX = X1[test_idx]\n",
    "testY = Y[test_idx]\n",
    "\n",
    "etcX = X1[etc_idx]\n",
    "etcY = Y[etc_idx]"
   ]
  },
  {
   "cell_type": "code",
   "execution_count": 8,
   "metadata": {},
   "outputs": [],
   "source": [
    "epochs = 500\n",
    "patience = 50 # early stopping\n",
    "dense_layers = [128, 32]\n",
    "batch_size = 128\n",
    "lr = 1e-4\n",
    "weight_decay = 0\n",
    "\n",
    "loss = 'mse'\n",
    "monitor = 'val_loss'\n",
    "dense_avf = 'tanh'\n",
    "last_avf = 'linear'"
   ]
  },
  {
   "cell_type": "code",
   "execution_count": 9,
   "metadata": {},
   "outputs": [
    {
     "name": "stdout",
     "output_type": "stream",
     "text": [
      "WARNING:tensorflow:From /home/sxh/anaconda3/envs/my-rdkit-env/lib/python3.6/site-packages/tensorflow/python/ops/init_ops.py:1251: calling VarianceScaling.__init__ (from tensorflow.python.ops.init_ops) with dtype is deprecated and will be removed in a future version.\n",
      "Instructions for updating:\n",
      "Call initializer instance with the dtype argument instead of passing it to the constructor\n"
     ]
    }
   ],
   "source": [
    "\n",
    "model = molmodel.net.SinglePathNet(X1.shape[1:], \n",
    "                                   n_outputs=Y.shape[-1], \n",
    "                                   dense_layers=dense_layers, \n",
    "                                   dense_avf = dense_avf, \n",
    "                                   last_avf=last_avf)\n",
    "\n",
    "opt = tf.keras.optimizers.Adam(lr=lr, beta_1=0.9, beta_2=0.999, epsilon=1e-08, decay=0.0) #\n",
    "#import tensorflow_addons as tfa\n",
    "#opt = tfa.optimizers.AdamW(weight_decay = 0.1,learning_rate=0.001,beta1=0.9,beta2=0.999, epsilon=1e-08)\n",
    "model.compile(optimizer = opt, loss = loss)\n",
    "performance = molmodel.cbks.Reg_EarlyStoppingAndPerformance((trainX, trainY), \n",
    "                                                           (validX, validY), \n",
    "                                                           patience = patience, \n",
    "                                                           criteria = monitor)"
   ]
  },
  {
   "cell_type": "code",
   "execution_count": 10,
   "metadata": {
    "collapsed": true,
    "jupyter": {
     "outputs_hidden": true
    }
   },
   "outputs": [
    {
     "name": "stdout",
     "output_type": "stream",
     "text": [
      "epoch: 0001, loss: 8.4615 - val_loss: 5.0994; rmse: 2.2570 - rmse_val: 2.2582;  r2: 0.3602 - r2_val: 0.3125                                                                                                    \n",
      "epoch: 0002, loss: 4.6931 - val_loss: 4.1187; rmse: 2.1186 - rmse_val: 2.0295;  r2: 0.4566 - r2_val: 0.4256                                                                                                    \n",
      "epoch: 0003, loss: 4.5422 - val_loss: 4.1154; rmse: 2.1296 - rmse_val: 2.0286;  r2: 0.5236 - r2_val: 0.5023                                                                                                    \n",
      "epoch: 0004, loss: 4.4839 - val_loss: 4.1124; rmse: 2.1000 - rmse_val: 2.0279;  r2: 0.5751 - r2_val: 0.5541                                                                                                    \n",
      "epoch: 0005, loss: 4.4081 - val_loss: 4.1378; rmse: 2.0953 - rmse_val: 2.0342;  r2: 0.5897 - r2_val: 0.5646                                                                                                    \n",
      "epoch: 0006, loss: 4.3662 - val_loss: 4.0451; rmse: 2.0832 - rmse_val: 2.0113;  r2: 0.5808 - r2_val: 0.5509                                                                                                    \n",
      "epoch: 0007, loss: 4.3250 - val_loss: 4.0048; rmse: 2.0717 - rmse_val: 2.0012;  r2: 0.5745 - r2_val: 0.5404                                                                                                    \n",
      "epoch: 0008, loss: 4.2738 - val_loss: 3.9654; rmse: 2.0585 - rmse_val: 1.9913;  r2: 0.5651 - r2_val: 0.5274                                                                                                    \n",
      "epoch: 0009, loss: 4.2106 - val_loss: 3.9791; rmse: 2.0472 - rmse_val: 1.9948;  r2: 0.5550 - r2_val: 0.5156                                                                                                    \n",
      "epoch: 0010, loss: 4.1575 - val_loss: 3.8713; rmse: 2.0238 - rmse_val: 1.9676;  r2: 0.5364 - r2_val: 0.4969                                                                                                    \n",
      "epoch: 0011, loss: 4.0581 - val_loss: 3.7698; rmse: 1.9978 - rmse_val: 1.9416;  r2: 0.5225 - r2_val: 0.4848                                                                                                    \n",
      "epoch: 0012, loss: 3.9560 - val_loss: 3.6662; rmse: 1.9666 - rmse_val: 1.9147;  r2: 0.5082 - r2_val: 0.4721                                                                                                    \n",
      "epoch: 0013, loss: 3.8169 - val_loss: 3.5350; rmse: 1.9281 - rmse_val: 1.8802;  r2: 0.4975 - r2_val: 0.4609                                                                                                    \n",
      "epoch: 0014, loss: 3.7136 - val_loss: 3.4138; rmse: 1.8848 - rmse_val: 1.8477;  r2: 0.4802 - r2_val: 0.4425                                                                                                    \n",
      "epoch: 0015, loss: 3.4824 - val_loss: 3.1870; rmse: 1.8316 - rmse_val: 1.7852;  r2: 0.4769 - r2_val: 0.4419                                                                                                    \n",
      "epoch: 0016, loss: 3.2649 - val_loss: 3.0024; rmse: 1.7653 - rmse_val: 1.7328;  r2: 0.4985 - r2_val: 0.4650                                                                                                    \n",
      "epoch: 0017, loss: 3.0417 - val_loss: 2.7982; rmse: 1.7010 - rmse_val: 1.6728;  r2: 0.4989 - r2_val: 0.4675                                                                                                    \n",
      "epoch: 0018, loss: 2.8672 - val_loss: 2.6349; rmse: 1.6524 - rmse_val: 1.6233;  r2: 0.4936 - r2_val: 0.4663                                                                                                    \n",
      "epoch: 0019, loss: 2.6656 - val_loss: 2.4774; rmse: 1.5967 - rmse_val: 1.5740;  r2: 0.5297 - r2_val: 0.5051                                                                                                    \n",
      "epoch: 0020, loss: 2.5091 - val_loss: 2.4448; rmse: 1.5885 - rmse_val: 1.5636;  r2: 0.5115 - r2_val: 0.4895                                                                                                    \n",
      "epoch: 0021, loss: 2.5073 - val_loss: 2.3901; rmse: 1.5774 - rmse_val: 1.5460;  r2: 0.5717 - r2_val: 0.5520                                                                                                    \n",
      "epoch: 0022, loss: 2.3816 - val_loss: 2.2248; rmse: 1.5110 - rmse_val: 1.4916;  r2: 0.5505 - r2_val: 0.5329                                                                                                    \n",
      "epoch: 0023, loss: 2.1547 - val_loss: 1.9439; rmse: 1.4234 - rmse_val: 1.3942;  r2: 0.6127 - r2_val: 0.5986                                                                                                    \n",
      "epoch: 0024, loss: 1.9886 - val_loss: 1.8351; rmse: 1.3823 - rmse_val: 1.3547;  r2: 0.6343 - r2_val: 0.6213                                                                                                    \n",
      "epoch: 0025, loss: 1.9145 - val_loss: 1.9778; rmse: 1.4235 - rmse_val: 1.4063;  r2: 0.6305 - r2_val: 0.6194                                                                                                    \n",
      "epoch: 0026, loss: 1.9686 - val_loss: 1.7367; rmse: 1.3522 - rmse_val: 1.3178;  r2: 0.6669 - r2_val: 0.6547                                                                                                    \n",
      "epoch: 0027, loss: 1.7406 - val_loss: 1.5988; rmse: 1.2917 - rmse_val: 1.2644;  r2: 0.6740 - r2_val: 0.6613                                                                                                    \n",
      "epoch: 0028, loss: 1.7555 - val_loss: 1.6239; rmse: 1.2896 - rmse_val: 1.2743;  r2: 0.6819 - r2_val: 0.6697                                                                                                    \n",
      "epoch: 0029, loss: 1.6303 - val_loss: 1.5037; rmse: 1.2432 - rmse_val: 1.2262;  r2: 0.7039 - r2_val: 0.6900                                                                                                    \n",
      "epoch: 0030, loss: 1.5483 - val_loss: 1.5119; rmse: 1.2534 - rmse_val: 1.2296;  r2: 0.7190 - r2_val: 0.7028                                                                                                    \n",
      "epoch: 0031, loss: 1.5302 - val_loss: 1.4440; rmse: 1.2108 - rmse_val: 1.2017;  r2: 0.7078 - r2_val: 0.6939                                                                                                    \n",
      "epoch: 0032, loss: 1.4505 - val_loss: 1.3965; rmse: 1.1881 - rmse_val: 1.1817;  r2: 0.7176 - r2_val: 0.7015                                                                                                    \n",
      "epoch: 0033, loss: 1.3847 - val_loss: 1.3434; rmse: 1.1732 - rmse_val: 1.1591;  r2: 0.7398 - r2_val: 0.7198                                                                                                    \n",
      "epoch: 0034, loss: 1.3901 - val_loss: 1.3391; rmse: 1.1593 - rmse_val: 1.1572;  r2: 0.7368 - r2_val: 0.7180                                                                                                    \n",
      "epoch: 0035, loss: 1.3058 - val_loss: 1.3259; rmse: 1.1676 - rmse_val: 1.1515;  r2: 0.7493 - r2_val: 0.7273                                                                                                    \n",
      "epoch: 0036, loss: 1.3210 - val_loss: 1.2369; rmse: 1.1125 - rmse_val: 1.1122;  r2: 0.7585 - r2_val: 0.7336                                                                                                    \n",
      "epoch: 0037, loss: 1.3099 - val_loss: 1.3901; rmse: 1.1681 - rmse_val: 1.1790;  r2: 0.7547 - r2_val: 0.7306                                                                                                    \n",
      "epoch: 0038, loss: 1.2714 - val_loss: 1.1913; rmse: 1.0841 - rmse_val: 1.0915;  r2: 0.7566 - r2_val: 0.7325                                                                                                    \n",
      "epoch: 0039, loss: 1.1883 - val_loss: 1.1635; rmse: 1.0811 - rmse_val: 1.0786;  r2: 0.7644 - r2_val: 0.7389                                                                                                    \n",
      "epoch: 0040, loss: 1.1506 - val_loss: 1.1399; rmse: 1.0611 - rmse_val: 1.0677;  r2: 0.7749 - r2_val: 0.7465                                                                                                    \n",
      "epoch: 0041, loss: 1.1193 - val_loss: 1.1607; rmse: 1.0716 - rmse_val: 1.0774;  r2: 0.7840 - r2_val: 0.7528                                                                                                    \n",
      "epoch: 0042, loss: 1.1676 - val_loss: 1.2653; rmse: 1.0964 - rmse_val: 1.1249;  r2: 0.7706 - r2_val: 0.7439                                                                                                    \n",
      "epoch: 0043, loss: 1.1139 - val_loss: 1.0866; rmse: 1.0238 - rmse_val: 1.0424;  r2: 0.7819 - r2_val: 0.7524                                                                                                    \n",
      "epoch: 0044, loss: 1.0555 - val_loss: 1.0723; rmse: 1.0197 - rmse_val: 1.0355;  r2: 0.7904 - r2_val: 0.7583                                                                                                    \n",
      "epoch: 0045, loss: 1.0683 - val_loss: 1.0619; rmse: 1.0075 - rmse_val: 1.0305;  r2: 0.7985 - r2_val: 0.7645                                                                                                    \n",
      "epoch: 0046, loss: 1.0655 - val_loss: 1.1098; rmse: 1.0200 - rmse_val: 1.0535;  r2: 0.7897 - r2_val: 0.7593                                                                                                    \n",
      "epoch: 0047, loss: 1.0050 - val_loss: 1.0427; rmse: 0.9903 - rmse_val: 1.0211;  r2: 0.7970 - r2_val: 0.7654                                                                                                    \n",
      "epoch: 0048, loss: 0.9886 - val_loss: 1.1908; rmse: 1.0470 - rmse_val: 1.0913;  r2: 0.7881 - r2_val: 0.7598                                                                                                    \n",
      "epoch: 0049, loss: 1.1551 - val_loss: 1.0268; rmse: 1.0068 - rmse_val: 1.0133;  r2: 0.8018 - r2_val: 0.7691                                                                                                    \n",
      "epoch: 0050, loss: 0.9895 - val_loss: 0.9823; rmse: 0.9669 - rmse_val: 0.9911;  r2: 0.8095 - r2_val: 0.7750                                                                                                    \n",
      "epoch: 0051, loss: 0.9265 - val_loss: 0.9780; rmse: 0.9587 - rmse_val: 0.9889;  r2: 0.8155 - r2_val: 0.7781                                                                                                    \n",
      "epoch: 0052, loss: 0.9063 - val_loss: 1.0281; rmse: 0.9659 - rmse_val: 1.0140;  r2: 0.8093 - r2_val: 0.7742                                                                                                    \n",
      "epoch: 0053, loss: 0.9236 - val_loss: 0.9610; rmse: 0.9539 - rmse_val: 0.9803;  r2: 0.8189 - r2_val: 0.7814                                                                                                    \n",
      "epoch: 0054, loss: 0.8969 - val_loss: 0.9613; rmse: 0.9565 - rmse_val: 0.9805;  r2: 0.8272 - r2_val: 0.7892                                                                                                    \n",
      "epoch: 0055, loss: 0.8850 - val_loss: 0.9202; rmse: 0.9263 - rmse_val: 0.9592;  r2: 0.8258 - r2_val: 0.7893                                                                                                    \n",
      "epoch: 0056, loss: 0.8507 - val_loss: 0.9076; rmse: 0.9181 - rmse_val: 0.9527;  r2: 0.8282 - r2_val: 0.7915                                                                                                    \n",
      "epoch: 0057, loss: 0.8515 - val_loss: 0.8961; rmse: 0.9090 - rmse_val: 0.9466;  r2: 0.8260 - r2_val: 0.7904                                                                                                    \n",
      "epoch: 0058, loss: 0.8260 - val_loss: 0.9488; rmse: 0.9175 - rmse_val: 0.9741;  r2: 0.8290 - r2_val: 0.7925                                                                                                    \n",
      "epoch: 0059, loss: 0.9029 - val_loss: 0.9495; rmse: 0.9168 - rmse_val: 0.9744;  r2: 0.8337 - r2_val: 0.7967                                                                                                    \n",
      "epoch: 0060, loss: 0.9048 - val_loss: 0.9066; rmse: 0.9267 - rmse_val: 0.9522;  r2: 0.8392 - r2_val: 0.8006                                                                                                    \n",
      "epoch: 0061, loss: 0.8362 - val_loss: 0.9488; rmse: 0.9549 - rmse_val: 0.9741;  r2: 0.8444 - r2_val: 0.8046                                                                                                    \n",
      "epoch: 0062, loss: 0.8425 - val_loss: 0.8788; rmse: 0.8808 - rmse_val: 0.9375;  r2: 0.8438 - r2_val: 0.8038                                                                                                    \n",
      "epoch: 0063, loss: 0.7795 - val_loss: 1.0026; rmse: 0.9259 - rmse_val: 1.0012;  r2: 0.8334 - r2_val: 0.7953                                                                                                    \n",
      "epoch: 0064, loss: 0.8150 - val_loss: 0.8380; rmse: 0.8673 - rmse_val: 0.9154;  r2: 0.8456 - r2_val: 0.8053                                                                                                    \n",
      "epoch: 0065, loss: 0.7481 - val_loss: 0.8577; rmse: 0.8605 - rmse_val: 0.9261;  r2: 0.8450 - r2_val: 0.8049                                                                                                    \n",
      "epoch: 0066, loss: 0.7383 - val_loss: 0.8518; rmse: 0.8875 - rmse_val: 0.9229;  r2: 0.8521 - r2_val: 0.8108                                                                                                    \n",
      "epoch: 0067, loss: 0.7849 - val_loss: 0.8344; rmse: 0.8700 - rmse_val: 0.9134;  r2: 0.8580 - r2_val: 0.8157                                                                                                    \n",
      "epoch: 0068, loss: 0.7225 - val_loss: 0.9229; rmse: 0.8819 - rmse_val: 0.9607;  r2: 0.8487 - r2_val: 0.8098                                                                                                    \n",
      "epoch: 0069, loss: 0.7480 - val_loss: 0.8524; rmse: 0.8492 - rmse_val: 0.9233;  r2: 0.8498 - r2_val: 0.8116                                                                                                    \n",
      "epoch: 0070, loss: 0.7002 - val_loss: 0.8154; rmse: 0.8303 - rmse_val: 0.9030;  r2: 0.8551 - r2_val: 0.8149                                                                                                    \n",
      "epoch: 0071, loss: 0.7025 - val_loss: 0.9057; rmse: 0.8643 - rmse_val: 0.9517;  r2: 0.8508 - r2_val: 0.8121                                                                                                    \n",
      "epoch: 0072, loss: 0.7042 - val_loss: 0.8292; rmse: 0.8301 - rmse_val: 0.9106;  r2: 0.8552 - r2_val: 0.8160                                                                                                    \n",
      "epoch: 0073, loss: 0.7421 - val_loss: 0.7644; rmse: 0.8272 - rmse_val: 0.8743;  r2: 0.8635 - r2_val: 0.8226                                                                                                    \n",
      "epoch: 0074, loss: 0.7201 - val_loss: 0.7604; rmse: 0.8080 - rmse_val: 0.8720;  r2: 0.8695 - r2_val: 0.8285                                                                                                    \n",
      "epoch: 0075, loss: 0.6809 - val_loss: 0.7442; rmse: 0.8011 - rmse_val: 0.8627;  r2: 0.8682 - r2_val: 0.8278                                                                                                    \n",
      "epoch: 0076, loss: 0.6437 - val_loss: 0.7732; rmse: 0.7998 - rmse_val: 0.8793;  r2: 0.8644 - r2_val: 0.8245                                                                                                    \n",
      "epoch: 0077, loss: 0.6663 - val_loss: 0.7857; rmse: 0.8022 - rmse_val: 0.8864;  r2: 0.8659 - r2_val: 0.8260                                                                                                    \n",
      "epoch: 0078, loss: 0.6797 - val_loss: 0.7691; rmse: 0.8383 - rmse_val: 0.8770;  r2: 0.8776 - r2_val: 0.8362                                                                                                    \n",
      "epoch: 0079, loss: 0.6666 - val_loss: 0.7261; rmse: 0.7868 - rmse_val: 0.8521;  r2: 0.8760 - r2_val: 0.8377                                                                                                    \n",
      "epoch: 0080, loss: 0.6284 - val_loss: 0.7044; rmse: 0.7805 - rmse_val: 0.8393;  r2: 0.8717 - r2_val: 0.8336                                                                                                    \n",
      "epoch: 0081, loss: 0.6204 - val_loss: 0.6975; rmse: 0.7724 - rmse_val: 0.8352;  r2: 0.8741 - r2_val: 0.8353                                                                                                    \n",
      "epoch: 0082, loss: 0.5938 - val_loss: 0.7396; rmse: 0.7756 - rmse_val: 0.8600;  r2: 0.8778 - r2_val: 0.8391                                                                                                    \n",
      "epoch: 0083, loss: 0.5958 - val_loss: 0.6866; rmse: 0.7570 - rmse_val: 0.8286;  r2: 0.8776 - r2_val: 0.8394                                                                                                    \n",
      "epoch: 0084, loss: 0.6050 - val_loss: 0.6717; rmse: 0.7554 - rmse_val: 0.8196;  r2: 0.8802 - r2_val: 0.8418                                                                                                    \n",
      "epoch: 0085, loss: 0.5743 - val_loss: 0.6677; rmse: 0.7512 - rmse_val: 0.8171;  r2: 0.8817 - r2_val: 0.8423                                                                                                    \n",
      "epoch: 0086, loss: 0.5781 - val_loss: 0.6746; rmse: 0.7432 - rmse_val: 0.8213;  r2: 0.8825 - r2_val: 0.8417                                                                                                    \n",
      "epoch: 0087, loss: 0.5784 - val_loss: 0.7606; rmse: 0.7677 - rmse_val: 0.8721;  r2: 0.8791 - r2_val: 0.8382                                                                                                    \n",
      "epoch: 0088, loss: 0.6066 - val_loss: 0.6739; rmse: 0.7340 - rmse_val: 0.8209;  r2: 0.8866 - r2_val: 0.8458                                                                                                    \n",
      "epoch: 0089, loss: 0.5414 - val_loss: 0.6630; rmse: 0.7720 - rmse_val: 0.8142;  r2: 0.8922 - r2_val: 0.8536                                                                                                    \n",
      "epoch: 0090, loss: 0.5821 - val_loss: 0.6822; rmse: 0.7932 - rmse_val: 0.8260;  r2: 0.8964 - r2_val: 0.8591                                                                                                    \n",
      "epoch: 0091, loss: 0.6148 - val_loss: 0.6692; rmse: 0.7846 - rmse_val: 0.8180;  r2: 0.8962 - r2_val: 0.8593                                                                                                    \n",
      "epoch: 0092, loss: 0.5548 - val_loss: 0.8715; rmse: 0.9385 - rmse_val: 0.9336;  r2: 0.8960 - r2_val: 0.8576                                                                                                    \n",
      "epoch: 0093, loss: 0.7258 - val_loss: 0.6331; rmse: 0.7461 - rmse_val: 0.7957;  r2: 0.8957 - r2_val: 0.8583                                                                                                    \n",
      "epoch: 0094, loss: 0.5383 - val_loss: 0.6318; rmse: 0.7206 - rmse_val: 0.7949;  r2: 0.8972 - r2_val: 0.8593                                                                                                    \n",
      "epoch: 0095, loss: 0.5154 - val_loss: 0.6233; rmse: 0.7103 - rmse_val: 0.7895;  r2: 0.8936 - r2_val: 0.8537                                                                                                    \n",
      "epoch: 0096, loss: 0.5294 - val_loss: 0.6555; rmse: 0.7106 - rmse_val: 0.8096;  r2: 0.8911 - r2_val: 0.8503                                                                                                    \n",
      "epoch: 0097, loss: 0.5344 - val_loss: 0.6830; rmse: 0.7278 - rmse_val: 0.8264;  r2: 0.8980 - r2_val: 0.8592                                                                                                    \n",
      "epoch: 0098, loss: 0.5163 - val_loss: 0.6356; rmse: 0.7027 - rmse_val: 0.7973;  r2: 0.8957 - r2_val: 0.8574                                                                                                    \n",
      "epoch: 0099, loss: 0.4985 - val_loss: 0.7820; rmse: 0.7663 - rmse_val: 0.8844;  r2: 0.8931 - r2_val: 0.8540                                                                                                    \n",
      "epoch: 0100, loss: 0.5467 - val_loss: 0.7326; rmse: 0.7440 - rmse_val: 0.8559;  r2: 0.8992 - r2_val: 0.8585                                                                                                    \n",
      "epoch: 0101, loss: 0.5721 - val_loss: 0.8232; rmse: 0.7820 - rmse_val: 0.9073;  r2: 0.8914 - r2_val: 0.8518                                                                                                    \n",
      "epoch: 0102, loss: 0.5138 - val_loss: 0.6321; rmse: 0.6942 - rmse_val: 0.7950;  r2: 0.8954 - r2_val: 0.8560                                                                                                    \n",
      "epoch: 0103, loss: 0.4803 - val_loss: 0.6215; rmse: 0.6887 - rmse_val: 0.7884;  r2: 0.9012 - r2_val: 0.8624                                                                                                    \n",
      "epoch: 0104, loss: 0.4777 - val_loss: 0.6230; rmse: 0.6890 - rmse_val: 0.7893;  r2: 0.8987 - r2_val: 0.8618                                                                                                    \n",
      "epoch: 0105, loss: 0.4835 - val_loss: 0.7277; rmse: 0.7332 - rmse_val: 0.8530;  r2: 0.8986 - r2_val: 0.8603                                                                                                    \n",
      "epoch: 0106, loss: 0.5180 - val_loss: 0.8147; rmse: 0.7844 - rmse_val: 0.9026;  r2: 0.9025 - r2_val: 0.8658                                                                                                    \n",
      "epoch: 0107, loss: 0.5402 - val_loss: 0.9532; rmse: 0.8420 - rmse_val: 0.9763;  r2: 0.8890 - r2_val: 0.8542                                                                                                    \n",
      "epoch: 0108, loss: 0.5951 - val_loss: 0.7704; rmse: 0.7520 - rmse_val: 0.8777;  r2: 0.8996 - r2_val: 0.8609                                                                                                    \n",
      "epoch: 0109, loss: 0.5030 - val_loss: 0.7699; rmse: 0.7583 - rmse_val: 0.8774;  r2: 0.9023 - r2_val: 0.8643                                                                                                    \n",
      "epoch: 0110, loss: 0.5054 - val_loss: 0.8159; rmse: 0.7775 - rmse_val: 0.9033;  r2: 0.8991 - r2_val: 0.8627                                                                                                    \n",
      "epoch: 0111, loss: 0.5241 - val_loss: 0.6824; rmse: 0.7074 - rmse_val: 0.8261;  r2: 0.9003 - r2_val: 0.8640                                                                                                    \n",
      "epoch: 0112, loss: 0.4632 - val_loss: 0.5857; rmse: 0.6624 - rmse_val: 0.7653;  r2: 0.9053 - r2_val: 0.8678                                                                                                    \n",
      "epoch: 0113, loss: 0.4468 - val_loss: 0.5572; rmse: 0.6578 - rmse_val: 0.7465;  r2: 0.9097 - r2_val: 0.8705                                                                                                    \n",
      "epoch: 0114, loss: 0.4374 - val_loss: 0.5515; rmse: 0.6768 - rmse_val: 0.7426;  r2: 0.9106 - r2_val: 0.8719                                                                                                    \n",
      "epoch: 0115, loss: 0.4606 - val_loss: 0.5868; rmse: 0.6579 - rmse_val: 0.7660;  r2: 0.9078 - r2_val: 0.8699                                                                                                    \n",
      "epoch: 0116, loss: 0.4538 - val_loss: 0.5887; rmse: 0.7258 - rmse_val: 0.7673;  r2: 0.9108 - r2_val: 0.8719                                                                                                    \n",
      "epoch: 0117, loss: 0.4606 - val_loss: 0.5389; rmse: 0.6551 - rmse_val: 0.7341;  r2: 0.9136 - r2_val: 0.8756                                                                                                    \n",
      "epoch: 0118, loss: 0.4256 - val_loss: 0.5584; rmse: 0.6476 - rmse_val: 0.7473;  r2: 0.9107 - r2_val: 0.8746                                                                                                    \n",
      "epoch: 0119, loss: 0.4222 - val_loss: 0.5463; rmse: 0.6392 - rmse_val: 0.7391;  r2: 0.9111 - r2_val: 0.8726                                                                                                    \n",
      "epoch: 0120, loss: 0.4198 - val_loss: 0.5787; rmse: 0.6498 - rmse_val: 0.7607;  r2: 0.9134 - r2_val: 0.8751                                                                                                    \n",
      "epoch: 0121, loss: 0.4104 - val_loss: 0.5165; rmse: 0.6426 - rmse_val: 0.7187;  r2: 0.9158 - r2_val: 0.8789                                                                                                    \n",
      "epoch: 0122, loss: 0.4258 - val_loss: 0.5833; rmse: 0.7170 - rmse_val: 0.7638;  r2: 0.9190 - r2_val: 0.8814                                                                                                    \n",
      "epoch: 0123, loss: 0.4420 - val_loss: 0.5147; rmse: 0.6318 - rmse_val: 0.7174;  r2: 0.9184 - r2_val: 0.8807                                                                                                    \n",
      "epoch: 0124, loss: 0.4286 - val_loss: 0.5406; rmse: 0.6336 - rmse_val: 0.7353;  r2: 0.9181 - r2_val: 0.8818                                                                                                    \n",
      "epoch: 0125, loss: 0.4354 - val_loss: 0.7468; rmse: 0.7376 - rmse_val: 0.8642;  r2: 0.9133 - r2_val: 0.8772                                                                                                    \n",
      "epoch: 0126, loss: 0.4505 - val_loss: 0.5104; rmse: 0.6233 - rmse_val: 0.7144;  r2: 0.9177 - r2_val: 0.8793                                                                                                    \n",
      "epoch: 0127, loss: 0.4314 - val_loss: 0.5234; rmse: 0.6468 - rmse_val: 0.7235;  r2: 0.9201 - r2_val: 0.8809                                                                                                    \n",
      "epoch: 0128, loss: 0.4293 - val_loss: 0.5161; rmse: 0.6195 - rmse_val: 0.7184;  r2: 0.9170 - r2_val: 0.8784                                                                                                    \n",
      "epoch: 0129, loss: 0.4041 - val_loss: 0.7353; rmse: 0.7168 - rmse_val: 0.8575;  r2: 0.9117 - r2_val: 0.8726                                                                                                    \n",
      "epoch: 0130, loss: 0.4559 - val_loss: 0.5492; rmse: 0.6339 - rmse_val: 0.7411;  r2: 0.9196 - r2_val: 0.8843                                                                                                    \n",
      "epoch: 0131, loss: 0.4094 - val_loss: 0.6707; rmse: 0.6859 - rmse_val: 0.8189;  r2: 0.9152 - r2_val: 0.8778                                                                                                    \n",
      "epoch: 0132, loss: 0.4208 - val_loss: 0.5111; rmse: 0.6119 - rmse_val: 0.7149;  r2: 0.9185 - r2_val: 0.8807                                                                                                    \n",
      "epoch: 0133, loss: 0.4097 - val_loss: 0.4985; rmse: 0.6277 - rmse_val: 0.7061;  r2: 0.9232 - r2_val: 0.8862                                                                                                    \n",
      "epoch: 0134, loss: 0.3833 - val_loss: 0.6094; rmse: 0.6543 - rmse_val: 0.7806;  r2: 0.9203 - r2_val: 0.8829                                                                                                    \n",
      "epoch: 0135, loss: 0.4001 - val_loss: 0.4883; rmse: 0.6103 - rmse_val: 0.6987;  r2: 0.9209 - r2_val: 0.8838                                                                                                    \n",
      "epoch: 0136, loss: 0.4164 - val_loss: 0.4990; rmse: 0.6089 - rmse_val: 0.7064;  r2: 0.9186 - r2_val: 0.8817                                                                                                    \n",
      "epoch: 0137, loss: 0.3779 - val_loss: 0.7363; rmse: 0.7347 - rmse_val: 0.8581;  r2: 0.9169 - r2_val: 0.8858                                                                                                    \n",
      "epoch: 0138, loss: 0.4838 - val_loss: 0.5164; rmse: 0.6125 - rmse_val: 0.7186;  r2: 0.9227 - r2_val: 0.8882                                                                                                    \n",
      "epoch: 0139, loss: 0.3777 - val_loss: 0.4864; rmse: 0.6113 - rmse_val: 0.6974;  r2: 0.9233 - r2_val: 0.8852                                                                                                    \n",
      "epoch: 0140, loss: 0.3786 - val_loss: 0.5148; rmse: 0.6015 - rmse_val: 0.7175;  r2: 0.9225 - r2_val: 0.8839                                                                                                    \n",
      "epoch: 0141, loss: 0.3576 - val_loss: 0.4887; rmse: 0.6023 - rmse_val: 0.6990;  r2: 0.9238 - r2_val: 0.8840                                                                                                    \n",
      "epoch: 0142, loss: 0.3602 - val_loss: 0.4762; rmse: 0.6110 - rmse_val: 0.6901;  r2: 0.9253 - r2_val: 0.8882                                                                                                    \n",
      "epoch: 0143, loss: 0.3564 - val_loss: 0.5038; rmse: 0.5986 - rmse_val: 0.7097;  r2: 0.9260 - r2_val: 0.8910                                                                                                    \n",
      "epoch: 0144, loss: 0.3516 - val_loss: 0.4734; rmse: 0.6089 - rmse_val: 0.6880;  r2: 0.9268 - r2_val: 0.8892                                                                                                    \n",
      "epoch: 0145, loss: 0.3535 - val_loss: 0.4813; rmse: 0.5874 - rmse_val: 0.6938;  r2: 0.9249 - r2_val: 0.8854                                                                                                    \n",
      "epoch: 0146, loss: 0.3484 - val_loss: 0.5667; rmse: 0.6254 - rmse_val: 0.7528;  r2: 0.9251 - r2_val: 0.8893                                                                                                    \n",
      "epoch: 0147, loss: 0.3723 - val_loss: 0.5867; rmse: 0.6427 - rmse_val: 0.7660;  r2: 0.9225 - r2_val: 0.8898                                                                                                    \n",
      "epoch: 0148, loss: 0.3716 - val_loss: 0.4900; rmse: 0.5807 - rmse_val: 0.7000;  r2: 0.9270 - r2_val: 0.8888                                                                                                    \n",
      "epoch: 0149, loss: 0.3587 - val_loss: 0.5380; rmse: 0.6807 - rmse_val: 0.7335;  r2: 0.9302 - r2_val: 0.8918                                                                                                    \n",
      "epoch: 0150, loss: 0.4084 - val_loss: 0.4655; rmse: 0.5952 - rmse_val: 0.6823;  r2: 0.9300 - r2_val: 0.8934                                                                                                    \n",
      "epoch: 0151, loss: 0.3472 - val_loss: 0.4964; rmse: 0.5905 - rmse_val: 0.7046;  r2: 0.9250 - r2_val: 0.8912                                                                                                    \n",
      "epoch: 0152, loss: 0.3697 - val_loss: 0.5756; rmse: 0.6257 - rmse_val: 0.7587;  r2: 0.9212 - r2_val: 0.8862                                                                                                    \n",
      "epoch: 0153, loss: 0.3569 - val_loss: 0.5493; rmse: 0.6154 - rmse_val: 0.7411;  r2: 0.9281 - r2_val: 0.8922                                                                                                    \n",
      "epoch: 0154, loss: 0.3599 - val_loss: 0.4704; rmse: 0.5758 - rmse_val: 0.6858;  r2: 0.9306 - r2_val: 0.8960                                                                                                    \n",
      "epoch: 0155, loss: 0.3978 - val_loss: 0.5250; rmse: 0.6806 - rmse_val: 0.7246;  r2: 0.9317 - r2_val: 0.8956                                                                                                    \n",
      "epoch: 0156, loss: 0.4222 - val_loss: 0.9676; rmse: 0.9914 - rmse_val: 0.9837;  r2: 0.9313 - r2_val: 0.8948                                                                                                    \n",
      "epoch: 0157, loss: 0.6974 - val_loss: 0.8851; rmse: 0.9307 - rmse_val: 0.9408;  r2: 0.9285 - r2_val: 0.8894                                                                                                    \n",
      "epoch: 0158, loss: 0.5609 - val_loss: 1.0443; rmse: 1.0142 - rmse_val: 1.0219;  r2: 0.9269 - r2_val: 0.8877                                                                                                    \n",
      "epoch: 0159, loss: 0.6385 - val_loss: 0.6840; rmse: 0.7971 - rmse_val: 0.8271;  r2: 0.9285 - r2_val: 0.8909                                                                                                    \n",
      "epoch: 0160, loss: 0.4576 - val_loss: 0.6102; rmse: 0.7461 - rmse_val: 0.7812;  r2: 0.9295 - r2_val: 0.8930                                                                                                    \n",
      "epoch: 0161, loss: 0.4912 - val_loss: 0.5303; rmse: 0.6898 - rmse_val: 0.7282;  r2: 0.9300 - r2_val: 0.8948                                                                                                    \n",
      "epoch: 0162, loss: 0.4327 - val_loss: 0.4709; rmse: 0.6242 - rmse_val: 0.6862;  r2: 0.9317 - r2_val: 0.8978                                                                                                    \n",
      "epoch: 0163, loss: 0.3662 - val_loss: 0.4477; rmse: 0.5932 - rmse_val: 0.6691;  r2: 0.9319 - r2_val: 0.8973                                                                                                    \n",
      "epoch: 0164, loss: 0.3467 - val_loss: 0.4385; rmse: 0.5653 - rmse_val: 0.6622;  r2: 0.9310 - r2_val: 0.8961                                                                                                    \n",
      "epoch: 0165, loss: 0.3190 - val_loss: 0.4674; rmse: 0.5691 - rmse_val: 0.6837;  r2: 0.9319 - r2_val: 0.8970                                                                                                    \n",
      "epoch: 0166, loss: 0.3340 - val_loss: 0.4625; rmse: 0.5679 - rmse_val: 0.6800;  r2: 0.9326 - r2_val: 0.8989                                                                                                    \n",
      "epoch: 0167, loss: 0.3389 - val_loss: 0.4256; rmse: 0.5621 - rmse_val: 0.6524;  r2: 0.9331 - r2_val: 0.8988                                                                                                    \n",
      "epoch: 0168, loss: 0.3163 - val_loss: 0.4267; rmse: 0.5567 - rmse_val: 0.6532;  r2: 0.9340 - r2_val: 0.8991                                                                                                    \n",
      "epoch: 0169, loss: 0.3088 - val_loss: 0.4393; rmse: 0.5529 - rmse_val: 0.6628;  r2: 0.9341 - r2_val: 0.9001                                                                                                    \n",
      "epoch: 0170, loss: 0.3142 - val_loss: 0.4344; rmse: 0.5711 - rmse_val: 0.6591;  r2: 0.9346 - r2_val: 0.8981                                                                                                    \n",
      "epoch: 0171, loss: 0.3209 - val_loss: 0.4300; rmse: 0.5686 - rmse_val: 0.6557;  r2: 0.9353 - r2_val: 0.8993                                                                                                    \n",
      "epoch: 0172, loss: 0.3239 - val_loss: 0.4314; rmse: 0.5753 - rmse_val: 0.6568;  r2: 0.9361 - r2_val: 0.9009                                                                                                    \n",
      "epoch: 0173, loss: 0.3225 - val_loss: 0.4837; rmse: 0.6317 - rmse_val: 0.6955;  r2: 0.9337 - r2_val: 0.8980                                                                                                    \n",
      "epoch: 0174, loss: 0.3384 - val_loss: 0.4339; rmse: 0.5637 - rmse_val: 0.6587;  r2: 0.9338 - r2_val: 0.8968                                                                                                    \n",
      "epoch: 0175, loss: 0.3144 - val_loss: 0.4859; rmse: 0.5726 - rmse_val: 0.6971;  r2: 0.9320 - r2_val: 0.8976                                                                                                    \n",
      "epoch: 0176, loss: 0.3665 - val_loss: 0.6239; rmse: 0.6688 - rmse_val: 0.7899;  r2: 0.9326 - r2_val: 0.9036                                                                                                    \n",
      "epoch: 0177, loss: 0.4369 - val_loss: 0.6598; rmse: 0.6837 - rmse_val: 0.8123;  r2: 0.9299 - r2_val: 0.9007                                                                                                    \n",
      "epoch: 0178, loss: 0.3902 - val_loss: 0.6057; rmse: 0.6387 - rmse_val: 0.7783;  r2: 0.9310 - r2_val: 0.8965                                                                                                    \n",
      "epoch: 0179, loss: 0.3366 - val_loss: 0.4277; rmse: 0.5441 - rmse_val: 0.6540;  r2: 0.9374 - r2_val: 0.9031                                                                                                    \n",
      "epoch: 0180, loss: 0.3145 - val_loss: 0.5029; rmse: 0.5809 - rmse_val: 0.7091;  r2: 0.9359 - r2_val: 0.9014                                                                                                    \n",
      "epoch: 0181, loss: 0.3223 - val_loss: 0.5491; rmse: 0.6017 - rmse_val: 0.7410;  r2: 0.9326 - r2_val: 0.8972                                                                                                    \n",
      "epoch: 0182, loss: 0.3300 - val_loss: 0.5861; rmse: 0.6336 - rmse_val: 0.7655;  r2: 0.9372 - r2_val: 0.9021                                                                                                    \n",
      "epoch: 0183, loss: 0.3349 - val_loss: 0.4238; rmse: 0.5328 - rmse_val: 0.6510;  r2: 0.9376 - r2_val: 0.9024                                                                                                    \n",
      "epoch: 0184, loss: 0.3136 - val_loss: 0.3931; rmse: 0.5415 - rmse_val: 0.6270;  r2: 0.9398 - r2_val: 0.9082                                                                                                    \n",
      "epoch: 0185, loss: 0.3066 - val_loss: 0.4575; rmse: 0.6220 - rmse_val: 0.6764;  r2: 0.9412 - r2_val: 0.9079                                                                                                    \n",
      "epoch: 0186, loss: 0.3312 - val_loss: 0.4046; rmse: 0.5511 - rmse_val: 0.6361;  r2: 0.9409 - r2_val: 0.9077                                                                                                    \n",
      "epoch: 0187, loss: 0.2883 - val_loss: 0.4063; rmse: 0.5396 - rmse_val: 0.6375;  r2: 0.9398 - r2_val: 0.9038                                                                                                    \n",
      "epoch: 0188, loss: 0.2993 - val_loss: 0.5189; rmse: 0.6706 - rmse_val: 0.7204;  r2: 0.9407 - r2_val: 0.9034                                                                                                    \n",
      "epoch: 0189, loss: 0.3596 - val_loss: 0.5213; rmse: 0.6770 - rmse_val: 0.7220;  r2: 0.9422 - r2_val: 0.9075                                                                                                    \n",
      "epoch: 0190, loss: 0.3544 - val_loss: 0.4197; rmse: 0.5825 - rmse_val: 0.6478;  r2: 0.9407 - r2_val: 0.9076                                                                                                    \n",
      "epoch: 0191, loss: 0.3292 - val_loss: 0.4234; rmse: 0.5689 - rmse_val: 0.6507;  r2: 0.9384 - r2_val: 0.9020                                                                                                    \n",
      "epoch: 0192, loss: 0.3324 - val_loss: 0.4159; rmse: 0.5478 - rmse_val: 0.6449;  r2: 0.9409 - r2_val: 0.9039                                                                                                    \n",
      "epoch: 0193, loss: 0.2914 - val_loss: 0.4137; rmse: 0.5562 - rmse_val: 0.6432;  r2: 0.9394 - r2_val: 0.9036                                                                                                    \n",
      "epoch: 0194, loss: 0.3033 - val_loss: 0.3959; rmse: 0.5361 - rmse_val: 0.6292;  r2: 0.9420 - r2_val: 0.9084                                                                                                    \n",
      "epoch: 0195, loss: 0.2784 - val_loss: 0.3942; rmse: 0.5192 - rmse_val: 0.6278;  r2: 0.9419 - r2_val: 0.9067                                                                                                    \n",
      "epoch: 0196, loss: 0.2876 - val_loss: 0.4137; rmse: 0.5190 - rmse_val: 0.6432;  r2: 0.9403 - r2_val: 0.9027                                                                                                    \n",
      "epoch: 0197, loss: 0.2956 - val_loss: 0.4321; rmse: 0.5326 - rmse_val: 0.6574;  r2: 0.9413 - r2_val: 0.9081                                                                                                    \n",
      "epoch: 0198, loss: 0.3084 - val_loss: 0.4012; rmse: 0.5217 - rmse_val: 0.6334;  r2: 0.9409 - r2_val: 0.9096                                                                                                    \n",
      "epoch: 0199, loss: 0.2745 - val_loss: 0.3823; rmse: 0.5169 - rmse_val: 0.6183;  r2: 0.9438 - r2_val: 0.9121                                                                                                    \n",
      "epoch: 0200, loss: 0.2775 - val_loss: 0.3956; rmse: 0.5122 - rmse_val: 0.6290;  r2: 0.9425 - r2_val: 0.9073                                                                                                    \n",
      "epoch: 0201, loss: 0.2673 - val_loss: 0.4926; rmse: 0.5630 - rmse_val: 0.7018;  r2: 0.9391 - r2_val: 0.9047                                                                                                    \n",
      "epoch: 0202, loss: 0.3016 - val_loss: 0.7361; rmse: 0.7226 - rmse_val: 0.8580;  r2: 0.9368 - r2_val: 0.9054                                                                                                    \n",
      "epoch: 0203, loss: 0.4281 - val_loss: 0.6278; rmse: 0.6566 - rmse_val: 0.7924;  r2: 0.9403 - r2_val: 0.9079                                                                                                    \n",
      "epoch: 0204, loss: 0.3496 - val_loss: 0.6070; rmse: 0.6375 - rmse_val: 0.7791;  r2: 0.9399 - r2_val: 0.9050                                                                                                    \n",
      "epoch: 0205, loss: 0.3031 - val_loss: 0.4499; rmse: 0.5419 - rmse_val: 0.6707;  r2: 0.9424 - r2_val: 0.9087                                                                                                    \n",
      "epoch: 0206, loss: 0.3042 - val_loss: 0.4287; rmse: 0.5335 - rmse_val: 0.6548;  r2: 0.9439 - r2_val: 0.9109                                                                                                    \n",
      "epoch: 0207, loss: 0.2736 - val_loss: 0.4120; rmse: 0.5213 - rmse_val: 0.6419;  r2: 0.9413 - r2_val: 0.9086                                                                                                    \n",
      "epoch: 0208, loss: 0.2812 - val_loss: 0.3949; rmse: 0.5216 - rmse_val: 0.6284;  r2: 0.9418 - r2_val: 0.9052                                                                                                    \n",
      "epoch: 0209, loss: 0.2773 - val_loss: 0.3853; rmse: 0.5194 - rmse_val: 0.6207;  r2: 0.9450 - r2_val: 0.9096                                                                                                    \n",
      "epoch: 0210, loss: 0.2722 - val_loss: 0.4987; rmse: 0.5761 - rmse_val: 0.7062;  r2: 0.9428 - r2_val: 0.9104                                                                                                    \n",
      "epoch: 0211, loss: 0.3275 - val_loss: 0.6014; rmse: 0.6484 - rmse_val: 0.7755;  r2: 0.9400 - r2_val: 0.9099                                                                                                    \n",
      "epoch: 0212, loss: 0.3308 - val_loss: 0.4370; rmse: 0.5326 - rmse_val: 0.6611;  r2: 0.9444 - r2_val: 0.9114                                                                                                    \n",
      "epoch: 0213, loss: 0.2718 - val_loss: 0.3841; rmse: 0.5073 - rmse_val: 0.6197;  r2: 0.9443 - r2_val: 0.9080                                                                                                    \n",
      "epoch: 0214, loss: 0.2710 - val_loss: 0.3816; rmse: 0.5038 - rmse_val: 0.6178;  r2: 0.9442 - r2_val: 0.9090                                                                                                    \n",
      "epoch: 0215, loss: 0.2561 - val_loss: 0.3645; rmse: 0.5033 - rmse_val: 0.6037;  r2: 0.9456 - r2_val: 0.9133                                                                                                    \n",
      "epoch: 0216, loss: 0.2546 - val_loss: 0.3745; rmse: 0.5166 - rmse_val: 0.6119;  r2: 0.9466 - r2_val: 0.9119                                                                                                    \n",
      "epoch: 0217, loss: 0.2686 - val_loss: 0.3980; rmse: 0.5534 - rmse_val: 0.6308;  r2: 0.9478 - r2_val: 0.9139                                                                                                    \n",
      "epoch: 0218, loss: 0.2682 - val_loss: 0.3621; rmse: 0.5047 - rmse_val: 0.6017;  r2: 0.9476 - r2_val: 0.9148                                                                                                    \n",
      "epoch: 0219, loss: 0.2698 - val_loss: 0.3799; rmse: 0.4988 - rmse_val: 0.6164;  r2: 0.9452 - r2_val: 0.9131                                                                                                    \n",
      "epoch: 0220, loss: 0.2609 - val_loss: 0.4285; rmse: 0.5773 - rmse_val: 0.6546;  r2: 0.9473 - r2_val: 0.9127                                                                                                    \n",
      "epoch: 0221, loss: 0.3400 - val_loss: 0.4593; rmse: 0.5987 - rmse_val: 0.6777;  r2: 0.9458 - r2_val: 0.9088                                                                                                    \n",
      "epoch: 0222, loss: 0.2834 - val_loss: 0.3584; rmse: 0.4961 - rmse_val: 0.5987;  r2: 0.9474 - r2_val: 0.9153                                                                                                    \n",
      "epoch: 0223, loss: 0.2485 - val_loss: 0.3656; rmse: 0.4942 - rmse_val: 0.6046;  r2: 0.9460 - r2_val: 0.9143                                                                                                    \n",
      "epoch: 0224, loss: 0.2584 - val_loss: 0.3782; rmse: 0.4914 - rmse_val: 0.6150;  r2: 0.9466 - r2_val: 0.9109                                                                                                    \n",
      "epoch: 0225, loss: 0.2470 - val_loss: 0.3709; rmse: 0.4924 - rmse_val: 0.6090;  r2: 0.9472 - r2_val: 0.9118                                                                                                    \n",
      "epoch: 0226, loss: 0.2393 - val_loss: 0.4162; rmse: 0.5794 - rmse_val: 0.6452;  r2: 0.9493 - r2_val: 0.9161                                                                                                    \n",
      "epoch: 0227, loss: 0.3178 - val_loss: 0.4165; rmse: 0.5671 - rmse_val: 0.6454;  r2: 0.9499 - r2_val: 0.9156                                                                                                    \n",
      "epoch: 0228, loss: 0.2739 - val_loss: 0.4473; rmse: 0.5424 - rmse_val: 0.6688;  r2: 0.9471 - r2_val: 0.9149                                                                                                    \n",
      "epoch: 0229, loss: 0.2991 - val_loss: 0.5434; rmse: 0.6150 - rmse_val: 0.7372;  r2: 0.9423 - r2_val: 0.9137                                                                                                    \n",
      "epoch: 0230, loss: 0.2846 - val_loss: 0.3898; rmse: 0.4961 - rmse_val: 0.6243;  r2: 0.9485 - r2_val: 0.9140                                                                                                    \n",
      "epoch: 0231, loss: 0.2691 - val_loss: 0.4276; rmse: 0.5820 - rmse_val: 0.6539;  r2: 0.9501 - r2_val: 0.9154                                                                                                    \n",
      "epoch: 0232, loss: 0.3134 - val_loss: 0.3733; rmse: 0.5473 - rmse_val: 0.6110;  r2: 0.9480 - r2_val: 0.9177                                                                                                    \n",
      "epoch: 0233, loss: 0.2533 - val_loss: 0.3691; rmse: 0.5183 - rmse_val: 0.6075;  r2: 0.9512 - r2_val: 0.9185                                                                                                    \n",
      "epoch: 0234, loss: 0.2470 - val_loss: 0.3626; rmse: 0.4988 - rmse_val: 0.6021;  r2: 0.9509 - r2_val: 0.9161                                                                                                    \n",
      "epoch: 0235, loss: 0.2331 - val_loss: 0.4158; rmse: 0.5100 - rmse_val: 0.6449;  r2: 0.9476 - r2_val: 0.9147                                                                                                    \n",
      "epoch: 0236, loss: 0.2789 - val_loss: 0.3618; rmse: 0.4796 - rmse_val: 0.6014;  r2: 0.9494 - r2_val: 0.9150                                                                                                    \n",
      "epoch: 0237, loss: 0.2416 - val_loss: 0.3814; rmse: 0.5037 - rmse_val: 0.6176;  r2: 0.9506 - r2_val: 0.9131                                                                                                    \n",
      "epoch: 0238, loss: 0.2581 - val_loss: 0.3766; rmse: 0.4993 - rmse_val: 0.6136;  r2: 0.9495 - r2_val: 0.9110                                                                                                    \n",
      "epoch: 0239, loss: 0.2311 - val_loss: 0.3510; rmse: 0.4750 - rmse_val: 0.5924;  r2: 0.9520 - r2_val: 0.9180                                                                                                    \n",
      "epoch: 0240, loss: 0.2280 - val_loss: 0.3471; rmse: 0.4722 - rmse_val: 0.5892;  r2: 0.9519 - r2_val: 0.9198                                                                                                    \n",
      "epoch: 0241, loss: 0.2243 - val_loss: 0.4475; rmse: 0.5359 - rmse_val: 0.6689;  r2: 0.9488 - r2_val: 0.9170                                                                                                    \n",
      "epoch: 0242, loss: 0.2922 - val_loss: 0.5848; rmse: 0.6334 - rmse_val: 0.7648;  r2: 0.9481 - r2_val: 0.9158                                                                                                    \n",
      "epoch: 0243, loss: 0.2797 - val_loss: 0.3502; rmse: 0.4676 - rmse_val: 0.5918;  r2: 0.9530 - r2_val: 0.9181                                                                                                    \n",
      "epoch: 0244, loss: 0.2365 - val_loss: 0.3606; rmse: 0.4681 - rmse_val: 0.6005;  r2: 0.9529 - r2_val: 0.9170                                                                                                    \n",
      "epoch: 0245, loss: 0.2262 - val_loss: 0.3634; rmse: 0.5056 - rmse_val: 0.6029;  r2: 0.9536 - r2_val: 0.9191                                                                                                    \n",
      "epoch: 0246, loss: 0.2905 - val_loss: 0.4980; rmse: 0.6376 - rmse_val: 0.7057;  r2: 0.9508 - r2_val: 0.9162                                                                                                    \n",
      "epoch: 0247, loss: 0.2880 - val_loss: 0.3447; rmse: 0.4874 - rmse_val: 0.5871;  r2: 0.9516 - r2_val: 0.9215                                                                                                    \n",
      "epoch: 0248, loss: 0.2547 - val_loss: 0.3845; rmse: 0.4951 - rmse_val: 0.6200;  r2: 0.9500 - r2_val: 0.9188                                                                                                    \n",
      "epoch: 0249, loss: 0.2335 - val_loss: 0.3654; rmse: 0.4736 - rmse_val: 0.6045;  r2: 0.9513 - r2_val: 0.9170                                                                                                    \n",
      "epoch: 0250, loss: 0.2243 - val_loss: 0.3527; rmse: 0.4612 - rmse_val: 0.5939;  r2: 0.9532 - r2_val: 0.9173                                                                                                    \n",
      "epoch: 0251, loss: 0.2138 - val_loss: 0.3422; rmse: 0.4612 - rmse_val: 0.5850;  r2: 0.9546 - r2_val: 0.9202                                                                                                    \n",
      "epoch: 0252, loss: 0.2230 - val_loss: 0.3562; rmse: 0.4977 - rmse_val: 0.5969;  r2: 0.9550 - r2_val: 0.9215                                                                                                    \n",
      "epoch: 0253, loss: 0.2454 - val_loss: 0.3559; rmse: 0.4788 - rmse_val: 0.5966;  r2: 0.9541 - r2_val: 0.9167                                                                                                    \n",
      "epoch: 0254, loss: 0.2266 - val_loss: 0.3560; rmse: 0.4621 - rmse_val: 0.5966;  r2: 0.9528 - r2_val: 0.9164                                                                                                    \n",
      "epoch: 0255, loss: 0.2346 - val_loss: 0.4056; rmse: 0.5043 - rmse_val: 0.6369;  r2: 0.9516 - r2_val: 0.9183                                                                                                    \n",
      "epoch: 0256, loss: 0.2337 - val_loss: 0.3449; rmse: 0.4594 - rmse_val: 0.5873;  r2: 0.9553 - r2_val: 0.9188                                                                                                    \n",
      "epoch: 0257, loss: 0.2170 - val_loss: 0.3501; rmse: 0.4581 - rmse_val: 0.5917;  r2: 0.9546 - r2_val: 0.9168                                                                                                    \n",
      "epoch: 0258, loss: 0.2105 - val_loss: 0.3437; rmse: 0.4568 - rmse_val: 0.5863;  r2: 0.9549 - r2_val: 0.9179                                                                                                    \n",
      "epoch: 0259, loss: 0.2085 - val_loss: 0.3601; rmse: 0.4929 - rmse_val: 0.6001;  r2: 0.9564 - r2_val: 0.9200                                                                                                    \n",
      "epoch: 0260, loss: 0.2340 - val_loss: 0.3403; rmse: 0.4509 - rmse_val: 0.5834;  r2: 0.9566 - r2_val: 0.9226                                                                                                    \n",
      "epoch: 0261, loss: 0.2219 - val_loss: 0.3314; rmse: 0.4523 - rmse_val: 0.5756;  r2: 0.9571 - r2_val: 0.9217                                                                                                    \n",
      "epoch: 0262, loss: 0.2122 - val_loss: 0.3481; rmse: 0.4477 - rmse_val: 0.5900;  r2: 0.9558 - r2_val: 0.9176                                                                                                    \n",
      "epoch: 0263, loss: 0.2048 - val_loss: 0.3399; rmse: 0.4467 - rmse_val: 0.5830;  r2: 0.9560 - r2_val: 0.9189                                                                                                    \n",
      "epoch: 0264, loss: 0.1988 - val_loss: 0.3365; rmse: 0.4476 - rmse_val: 0.5800;  r2: 0.9575 - r2_val: 0.9238                                                                                                    \n",
      "epoch: 0265, loss: 0.2024 - val_loss: 0.3583; rmse: 0.4683 - rmse_val: 0.5986;  r2: 0.9565 - r2_val: 0.9247                                                                                                    \n",
      "epoch: 0266, loss: 0.2054 - val_loss: 0.4384; rmse: 0.5798 - rmse_val: 0.6622;  r2: 0.9568 - r2_val: 0.9188                                                                                                    \n",
      "epoch: 0267, loss: 0.3067 - val_loss: 0.3577; rmse: 0.4572 - rmse_val: 0.5981;  r2: 0.9551 - r2_val: 0.9145                                                                                                    \n",
      "epoch: 0268, loss: 0.2464 - val_loss: 0.3717; rmse: 0.4794 - rmse_val: 0.6097;  r2: 0.9528 - r2_val: 0.9194                                                                                                    \n",
      "epoch: 0269, loss: 0.2121 - val_loss: 0.3648; rmse: 0.4604 - rmse_val: 0.6040;  r2: 0.9561 - r2_val: 0.9202                                                                                                    \n",
      "epoch: 0270, loss: 0.2071 - val_loss: 0.3748; rmse: 0.5112 - rmse_val: 0.6122;  r2: 0.9570 - r2_val: 0.9196                                                                                                    \n",
      "epoch: 0271, loss: 0.2493 - val_loss: 0.5331; rmse: 0.6644 - rmse_val: 0.7301;  r2: 0.9547 - r2_val: 0.9194                                                                                                    \n",
      "epoch: 0272, loss: 0.3159 - val_loss: 0.3480; rmse: 0.4525 - rmse_val: 0.5900;  r2: 0.9568 - r2_val: 0.9221                                                                                                    \n",
      "epoch: 0273, loss: 0.2781 - val_loss: 0.5204; rmse: 0.5709 - rmse_val: 0.7214;  r2: 0.9539 - r2_val: 0.9165                                                                                                    \n",
      "epoch: 0274, loss: 0.2716 - val_loss: 0.3744; rmse: 0.4631 - rmse_val: 0.6119;  r2: 0.9561 - r2_val: 0.9187                                                                                                    \n",
      "epoch: 0275, loss: 0.2354 - val_loss: 0.3434; rmse: 0.4670 - rmse_val: 0.5860;  r2: 0.9571 - r2_val: 0.9201                                                                                                    \n",
      "epoch: 0276, loss: 0.2199 - val_loss: 0.5160; rmse: 0.6577 - rmse_val: 0.7183;  r2: 0.9573 - r2_val: 0.9218                                                                                                    \n",
      "epoch: 0277, loss: 0.3132 - val_loss: 0.4183; rmse: 0.5701 - rmse_val: 0.6468;  r2: 0.9574 - r2_val: 0.9222                                                                                                    \n",
      "epoch: 0278, loss: 0.2577 - val_loss: 0.3358; rmse: 0.4427 - rmse_val: 0.5795;  r2: 0.9578 - r2_val: 0.9228                                                                                                    \n",
      "epoch: 0279, loss: 0.2283 - val_loss: 0.4697; rmse: 0.5397 - rmse_val: 0.6854;  r2: 0.9559 - r2_val: 0.9224                                                                                                    \n",
      "epoch: 0280, loss: 0.2493 - val_loss: 0.3275; rmse: 0.4384 - rmse_val: 0.5723;  r2: 0.9579 - r2_val: 0.9221                                                                                                    \n",
      "epoch: 0281, loss: 0.2031 - val_loss: 0.3464; rmse: 0.4439 - rmse_val: 0.5885;  r2: 0.9576 - r2_val: 0.9227                                                                                                    \n",
      "epoch: 0282, loss: 0.1964 - val_loss: 0.3639; rmse: 0.4665 - rmse_val: 0.6032;  r2: 0.9566 - r2_val: 0.9247                                                                                                    \n",
      "epoch: 0283, loss: 0.2014 - val_loss: 0.3431; rmse: 0.4400 - rmse_val: 0.5857;  r2: 0.9586 - r2_val: 0.9228                                                                                                    \n",
      "epoch: 0284, loss: 0.1945 - val_loss: 0.3537; rmse: 0.4982 - rmse_val: 0.5947;  r2: 0.9599 - r2_val: 0.9249                                                                                                    \n",
      "epoch: 0285, loss: 0.2309 - val_loss: 0.3242; rmse: 0.4317 - rmse_val: 0.5694;  r2: 0.9597 - r2_val: 0.9228                                                                                                    \n",
      "epoch: 0286, loss: 0.2068 - val_loss: 0.4242; rmse: 0.4883 - rmse_val: 0.6514;  r2: 0.9576 - r2_val: 0.9182                                                                                                    \n",
      "epoch: 0287, loss: 0.2217 - val_loss: 0.3544; rmse: 0.4873 - rmse_val: 0.5953;  r2: 0.9603 - r2_val: 0.9240                                                                                                    \n",
      "epoch: 0288, loss: 0.2988 - val_loss: 0.3393; rmse: 0.4545 - rmse_val: 0.5825;  r2: 0.9576 - r2_val: 0.9194                                                                                                    \n",
      "epoch: 0289, loss: 0.2569 - val_loss: 0.4467; rmse: 0.5374 - rmse_val: 0.6683;  r2: 0.9544 - r2_val: 0.9248                                                                                                    \n",
      "epoch: 0290, loss: 0.2393 - val_loss: 0.3287; rmse: 0.4423 - rmse_val: 0.5733;  r2: 0.9577 - r2_val: 0.9240                                                                                                    \n",
      "epoch: 0291, loss: 0.2167 - val_loss: 0.3191; rmse: 0.4480 - rmse_val: 0.5649;  r2: 0.9574 - r2_val: 0.9235                                                                                                    \n",
      "epoch: 0292, loss: 0.1968 - val_loss: 0.3899; rmse: 0.4864 - rmse_val: 0.6243;  r2: 0.9577 - r2_val: 0.9265                                                                                                    \n",
      "epoch: 0293, loss: 0.2380 - val_loss: 0.4283; rmse: 0.5173 - rmse_val: 0.6545;  r2: 0.9586 - r2_val: 0.9264                                                                                                    \n",
      "epoch: 0294, loss: 0.2172 - val_loss: 0.4899; rmse: 0.5537 - rmse_val: 0.6999;  r2: 0.9565 - r2_val: 0.9226                                                                                                    \n",
      "epoch: 0295, loss: 0.2400 - val_loss: 0.3579; rmse: 0.4560 - rmse_val: 0.5982;  r2: 0.9577 - r2_val: 0.9241                                                                                                    \n",
      "epoch: 0296, loss: 0.2159 - val_loss: 0.3700; rmse: 0.5075 - rmse_val: 0.6083;  r2: 0.9610 - r2_val: 0.9257                                                                                                    \n",
      "epoch: 0297, loss: 0.2391 - val_loss: 0.3117; rmse: 0.4343 - rmse_val: 0.5583;  r2: 0.9585 - r2_val: 0.9273                                                                                                    \n",
      "epoch: 0298, loss: 0.2049 - val_loss: 0.3637; rmse: 0.4569 - rmse_val: 0.6030;  r2: 0.9577 - r2_val: 0.9243                                                                                                    \n",
      "epoch: 0299, loss: 0.2011 - val_loss: 0.3129; rmse: 0.4336 - rmse_val: 0.5594;  r2: 0.9601 - r2_val: 0.9261                                                                                                    \n",
      "epoch: 0300, loss: 0.1909 - val_loss: 0.3253; rmse: 0.4717 - rmse_val: 0.5704;  r2: 0.9607 - r2_val: 0.9271                                                                                                    \n",
      "epoch: 0301, loss: 0.1975 - val_loss: 0.3713; rmse: 0.5024 - rmse_val: 0.6093;  r2: 0.9605 - r2_val: 0.9214                                                                                                    \n",
      "epoch: 0302, loss: 0.2122 - val_loss: 0.3259; rmse: 0.4328 - rmse_val: 0.5709;  r2: 0.9605 - r2_val: 0.9220                                                                                                    \n",
      "epoch: 0303, loss: 0.1998 - val_loss: 0.4185; rmse: 0.4955 - rmse_val: 0.6469;  r2: 0.9591 - r2_val: 0.9245                                                                                                    \n",
      "epoch: 0304, loss: 0.2211 - val_loss: 0.3855; rmse: 0.4558 - rmse_val: 0.6209;  r2: 0.9599 - r2_val: 0.9208                                                                                                    \n",
      "epoch: 0305, loss: 0.1956 - val_loss: 0.3329; rmse: 0.4646 - rmse_val: 0.5770;  r2: 0.9590 - r2_val: 0.9220                                                                                                    \n",
      "epoch: 0306, loss: 0.2172 - val_loss: 0.3898; rmse: 0.5339 - rmse_val: 0.6244;  r2: 0.9601 - r2_val: 0.9250                                                                                                    \n",
      "epoch: 0307, loss: 0.2501 - val_loss: 0.3880; rmse: 0.4719 - rmse_val: 0.6229;  r2: 0.9619 - r2_val: 0.9269                                                                                                    \n",
      "epoch: 0308, loss: 0.2345 - val_loss: 0.3897; rmse: 0.4669 - rmse_val: 0.6243;  r2: 0.9606 - r2_val: 0.9248                                                                                                    \n",
      "epoch: 0309, loss: 0.2010 - val_loss: 0.3381; rmse: 0.4542 - rmse_val: 0.5814;  r2: 0.9614 - r2_val: 0.9229                                                                                                    \n",
      "epoch: 0310, loss: 0.2070 - val_loss: 0.3206; rmse: 0.4288 - rmse_val: 0.5662;  r2: 0.9598 - r2_val: 0.9235                                                                                                    \n",
      "epoch: 0311, loss: 0.1895 - val_loss: 0.3872; rmse: 0.4810 - rmse_val: 0.6222;  r2: 0.9584 - r2_val: 0.9264                                                                                                    \n",
      "epoch: 0312, loss: 0.2344 - val_loss: 0.3352; rmse: 0.4381 - rmse_val: 0.5789;  r2: 0.9596 - r2_val: 0.9252                                                                                                    \n",
      "epoch: 0313, loss: 0.1931 - val_loss: 0.3946; rmse: 0.5074 - rmse_val: 0.6281;  r2: 0.9597 - r2_val: 0.9188                                                                                                    \n",
      "epoch: 0314, loss: 0.2299 - val_loss: 0.3430; rmse: 0.4841 - rmse_val: 0.5857;  r2: 0.9629 - r2_val: 0.9291                                                                                                    \n",
      "epoch: 0315, loss: 0.2021 - val_loss: 0.3526; rmse: 0.4723 - rmse_val: 0.5938;  r2: 0.9619 - r2_val: 0.9221                                                                                                    \n",
      "epoch: 0316, loss: 0.1991 - val_loss: 0.3334; rmse: 0.4463 - rmse_val: 0.5774;  r2: 0.9625 - r2_val: 0.9228                                                                                                    \n",
      "epoch: 0317, loss: 0.1837 - val_loss: 0.3504; rmse: 0.4438 - rmse_val: 0.5919;  r2: 0.9622 - r2_val: 0.9271                                                                                                    \n",
      "epoch: 0318, loss: 0.2072 - val_loss: 0.3171; rmse: 0.4249 - rmse_val: 0.5631;  r2: 0.9602 - r2_val: 0.9263                                                                                                    \n",
      "epoch: 0319, loss: 0.2199 - val_loss: 0.3764; rmse: 0.5024 - rmse_val: 0.6135;  r2: 0.9609 - r2_val: 0.9210                                                                                                    \n",
      "epoch: 0320, loss: 0.2145 - val_loss: 0.4043; rmse: 0.5497 - rmse_val: 0.6359;  r2: 0.9622 - r2_val: 0.9259                                                                                                    \n",
      "epoch: 0321, loss: 0.2251 - val_loss: 0.3266; rmse: 0.4360 - rmse_val: 0.5715;  r2: 0.9632 - r2_val: 0.9242                                                                                                    \n",
      "epoch: 0322, loss: 0.1772 - val_loss: 0.3153; rmse: 0.4120 - rmse_val: 0.5615;  r2: 0.9626 - r2_val: 0.9248                                                                                                    \n",
      "epoch: 0323, loss: 0.1760 - val_loss: 0.3671; rmse: 0.5005 - rmse_val: 0.6058;  r2: 0.9638 - r2_val: 0.9266                                                                                                    \n",
      "epoch: 0324, loss: 0.2324 - val_loss: 0.3404; rmse: 0.4577 - rmse_val: 0.5835;  r2: 0.9633 - r2_val: 0.9242                                                                                                    \n",
      "epoch: 0325, loss: 0.1950 - val_loss: 0.3304; rmse: 0.4171 - rmse_val: 0.5748;  r2: 0.9628 - r2_val: 0.9253                                                                                                    \n",
      "epoch: 0326, loss: 0.1789 - val_loss: 0.4488; rmse: 0.5169 - rmse_val: 0.6699;  r2: 0.9621 - r2_val: 0.9253                                                                                                    \n",
      "epoch: 0327, loss: 0.2138 - val_loss: 0.3378; rmse: 0.4181 - rmse_val: 0.5812;  r2: 0.9638 - r2_val: 0.9260                                                                                                    \n",
      "epoch: 0328, loss: 0.1848 - val_loss: 0.3099; rmse: 0.4209 - rmse_val: 0.5567;  r2: 0.9651 - r2_val: 0.9273                                                                                                    \n",
      "epoch: 0329, loss: 0.1808 - val_loss: 0.3087; rmse: 0.4109 - rmse_val: 0.5556;  r2: 0.9659 - r2_val: 0.9272                                                                                                    \n",
      "epoch: 0330, loss: 0.1660 - val_loss: 0.3179; rmse: 0.4014 - rmse_val: 0.5638;  r2: 0.9643 - r2_val: 0.9246                                                                                                    \n",
      "epoch: 0331, loss: 0.1629 - val_loss: 0.3078; rmse: 0.3966 - rmse_val: 0.5549;  r2: 0.9657 - r2_val: 0.9277                                                                                                    \n",
      "epoch: 0332, loss: 0.1650 - val_loss: 0.3013; rmse: 0.4040 - rmse_val: 0.5489;  r2: 0.9647 - r2_val: 0.9296                                                                                                    \n",
      "epoch: 0333, loss: 0.1634 - val_loss: 0.3560; rmse: 0.4267 - rmse_val: 0.5967;  r2: 0.9643 - r2_val: 0.9250                                                                                                    \n",
      "epoch: 0334, loss: 0.1700 - val_loss: 0.3112; rmse: 0.3972 - rmse_val: 0.5579;  r2: 0.9662 - r2_val: 0.9258                                                                                                    \n",
      "epoch: 0335, loss: 0.1610 - val_loss: 0.4673; rmse: 0.5915 - rmse_val: 0.6836;  r2: 0.9662 - r2_val: 0.9256                                                                                                    \n",
      "epoch: 0336, loss: 0.2752 - val_loss: 0.3342; rmse: 0.4146 - rmse_val: 0.5781;  r2: 0.9640 - r2_val: 0.9203                                                                                                    \n",
      "epoch: 0337, loss: 0.2045 - val_loss: 0.3280; rmse: 0.4220 - rmse_val: 0.5728;  r2: 0.9636 - r2_val: 0.9288                                                                                                    \n",
      "epoch: 0338, loss: 0.1753 - val_loss: 0.3341; rmse: 0.4266 - rmse_val: 0.5780;  r2: 0.9642 - r2_val: 0.9289                                                                                                    \n",
      "epoch: 0339, loss: 0.1761 - val_loss: 0.3227; rmse: 0.4143 - rmse_val: 0.5681;  r2: 0.9646 - r2_val: 0.9231                                                                                                    \n",
      "epoch: 0340, loss: 0.1938 - val_loss: 0.4089; rmse: 0.5377 - rmse_val: 0.6394;  r2: 0.9652 - r2_val: 0.9251                                                                                                    \n",
      "epoch: 0341, loss: 0.2182 - val_loss: 0.3133; rmse: 0.4008 - rmse_val: 0.5597;  r2: 0.9659 - r2_val: 0.9279                                                                                                    \n",
      "epoch: 0342, loss: 0.1746 - val_loss: 0.3324; rmse: 0.4092 - rmse_val: 0.5766;  r2: 0.9654 - r2_val: 0.9259                                                                                                    \n",
      "epoch: 0343, loss: 0.1770 - val_loss: 0.3230; rmse: 0.4223 - rmse_val: 0.5683;  r2: 0.9658 - r2_val: 0.9247                                                                                                    \n",
      "epoch: 0344, loss: 0.1819 - val_loss: 0.3229; rmse: 0.4176 - rmse_val: 0.5683;  r2: 0.9668 - r2_val: 0.9258                                                                                                    \n",
      "epoch: 0345, loss: 0.1726 - val_loss: 0.3104; rmse: 0.3931 - rmse_val: 0.5571;  r2: 0.9661 - r2_val: 0.9279                                                                                                    \n",
      "epoch: 0346, loss: 0.1667 - val_loss: 0.3440; rmse: 0.4072 - rmse_val: 0.5866;  r2: 0.9657 - r2_val: 0.9234                                                                                                    \n",
      "epoch: 0347, loss: 0.1764 - val_loss: 0.3124; rmse: 0.3923 - rmse_val: 0.5590;  r2: 0.9667 - r2_val: 0.9251                                                                                                    \n",
      "epoch: 0348, loss: 0.1581 - val_loss: 0.3085; rmse: 0.3899 - rmse_val: 0.5554;  r2: 0.9673 - r2_val: 0.9279                                                                                                    \n",
      "epoch: 0349, loss: 0.1610 - val_loss: 0.3751; rmse: 0.4392 - rmse_val: 0.6125;  r2: 0.9659 - r2_val: 0.9257                                                                                                    \n",
      "epoch: 0350, loss: 0.1669 - val_loss: 0.3152; rmse: 0.3953 - rmse_val: 0.5615;  r2: 0.9676 - r2_val: 0.9249                                                                                                    \n",
      "epoch: 0351, loss: 0.1525 - val_loss: 0.3005; rmse: 0.3827 - rmse_val: 0.5481;  r2: 0.9683 - r2_val: 0.9281                                                                                                    \n",
      "epoch: 0352, loss: 0.1471 - val_loss: 0.3095; rmse: 0.3797 - rmse_val: 0.5563;  r2: 0.9682 - r2_val: 0.9273                                                                                                    \n",
      "epoch: 0353, loss: 0.1455 - val_loss: 0.3717; rmse: 0.4859 - rmse_val: 0.6097;  r2: 0.9685 - r2_val: 0.9270                                                                                                    \n",
      "epoch: 0354, loss: 0.1976 - val_loss: 0.3172; rmse: 0.3868 - rmse_val: 0.5632;  r2: 0.9672 - r2_val: 0.9242                                                                                                    \n",
      "epoch: 0355, loss: 0.1665 - val_loss: 0.3112; rmse: 0.3904 - rmse_val: 0.5578;  r2: 0.9662 - r2_val: 0.9258                                                                                                    \n",
      "epoch: 0356, loss: 0.1571 - val_loss: 0.3208; rmse: 0.4045 - rmse_val: 0.5664;  r2: 0.9677 - r2_val: 0.9248                                                                                                    \n",
      "epoch: 0357, loss: 0.1625 - val_loss: 0.6102; rmse: 0.7042 - rmse_val: 0.7811;  r2: 0.9678 - r2_val: 0.9260                                                                                                    \n",
      "epoch: 0358, loss: 0.3018 - val_loss: 0.3141; rmse: 0.3906 - rmse_val: 0.5605;  r2: 0.9678 - r2_val: 0.9284                                                                                                    \n",
      "epoch: 0359, loss: 0.2301 - val_loss: 0.4580; rmse: 0.5147 - rmse_val: 0.6768;  r2: 0.9657 - r2_val: 0.9253                                                                                                    \n",
      "epoch: 0360, loss: 0.1891 - val_loss: 0.3303; rmse: 0.3962 - rmse_val: 0.5747;  r2: 0.9655 - r2_val: 0.9229                                                                                                    \n",
      "epoch: 0361, loss: 0.1657 - val_loss: 0.4102; rmse: 0.5317 - rmse_val: 0.6405;  r2: 0.9678 - r2_val: 0.9276                                                                                                    \n",
      "epoch: 0362, loss: 0.2040 - val_loss: 0.3185; rmse: 0.3866 - rmse_val: 0.5643;  r2: 0.9672 - r2_val: 0.9236                                                                                                    \n",
      "epoch: 0363, loss: 0.1677 - val_loss: 0.3288; rmse: 0.3918 - rmse_val: 0.5734;  r2: 0.9679 - r2_val: 0.9260                                                                                                    \n",
      "epoch: 0364, loss: 0.1499 - val_loss: 0.3421; rmse: 0.4076 - rmse_val: 0.5850;  r2: 0.9681 - r2_val: 0.9275                                                                                                    \n",
      "epoch: 0365, loss: 0.1666 - val_loss: 0.3076; rmse: 0.4046 - rmse_val: 0.5547;  r2: 0.9688 - r2_val: 0.9291                                                                                                    \n",
      "epoch: 0366, loss: 0.1602 - val_loss: 0.4000; rmse: 0.5029 - rmse_val: 0.6325;  r2: 0.9687 - r2_val: 0.9257                                                                                                    \n",
      "epoch: 0367, loss: 0.1688 - val_loss: 0.3337; rmse: 0.4021 - rmse_val: 0.5777;  r2: 0.9668 - r2_val: 0.9264                                                                                                    \n",
      "epoch: 0368, loss: 0.1654 - val_loss: 0.6129; rmse: 0.6315 - rmse_val: 0.7829;  r2: 0.9656 - r2_val: 0.9262                                                                                                    \n",
      "epoch: 0369, loss: 0.2343 - val_loss: 0.4549; rmse: 0.5106 - rmse_val: 0.6744;  r2: 0.9670 - r2_val: 0.9274                                                                                                    \n",
      "epoch: 0370, loss: 0.2305 - val_loss: 0.3297; rmse: 0.4499 - rmse_val: 0.5743;  r2: 0.9681 - r2_val: 0.9297                                                                                                    \n",
      "epoch: 0371, loss: 0.1857 - val_loss: 0.3089; rmse: 0.3773 - rmse_val: 0.5558;  r2: 0.9695 - r2_val: 0.9281                                                                                                    \n",
      "epoch: 0372, loss: 0.2046 - val_loss: 0.3472; rmse: 0.4022 - rmse_val: 0.5893;  r2: 0.9668 - r2_val: 0.9222                                                                                                    \n",
      "epoch: 0373, loss: 0.1637 - val_loss: 0.3042; rmse: 0.3945 - rmse_val: 0.5516;  r2: 0.9673 - r2_val: 0.9313                                                                                                    \n",
      "epoch: 0374, loss: 0.1607 - val_loss: 0.2965; rmse: 0.3799 - rmse_val: 0.5446;  r2: 0.9682 - r2_val: 0.9304                                                                                                    \n",
      "epoch: 0375, loss: 0.1474 - val_loss: 0.3310; rmse: 0.4403 - rmse_val: 0.5753;  r2: 0.9687 - r2_val: 0.9287                                                                                                    \n",
      "epoch: 0376, loss: 0.1926 - val_loss: 0.3012; rmse: 0.3778 - rmse_val: 0.5488;  r2: 0.9687 - r2_val: 0.9280                                                                                                    \n",
      "epoch: 0377, loss: 0.1699 - val_loss: 0.4433; rmse: 0.5029 - rmse_val: 0.6659;  r2: 0.9649 - r2_val: 0.9287                                                                                                    \n",
      "epoch: 0378, loss: 0.2054 - val_loss: 0.3098; rmse: 0.3867 - rmse_val: 0.5566;  r2: 0.9682 - r2_val: 0.9288                                                                                                    \n",
      "epoch: 0379, loss: 0.1923 - val_loss: 0.3198; rmse: 0.4174 - rmse_val: 0.5655;  r2: 0.9677 - r2_val: 0.9261                                                                                                    \n",
      "epoch: 0380, loss: 0.1710 - val_loss: 0.2970; rmse: 0.3947 - rmse_val: 0.5450;  r2: 0.9681 - r2_val: 0.9296                                                                                                    \n",
      "epoch: 0381, loss: 0.1531 - val_loss: 0.3104; rmse: 0.3861 - rmse_val: 0.5571;  r2: 0.9695 - r2_val: 0.9265                                                                                                    \n",
      "epoch: 0382, loss: 0.1463 - val_loss: 0.3001; rmse: 0.3750 - rmse_val: 0.5478;  r2: 0.9698 - r2_val: 0.9279                                                                                                    \n",
      "epoch: 0383, loss: 0.1419 - val_loss: 0.3009; rmse: 0.3753 - rmse_val: 0.5486;  r2: 0.9706 - r2_val: 0.9285                                                                                                    \n",
      "epoch: 0384, loss: 0.1422 - val_loss: 0.3024; rmse: 0.3723 - rmse_val: 0.5499;  r2: 0.9707 - r2_val: 0.9276                                                                                                    \n",
      "epoch: 0385, loss: 0.1493 - val_loss: 0.3310; rmse: 0.3865 - rmse_val: 0.5753;  r2: 0.9674 - r2_val: 0.9237                                                                                                    \n",
      "epoch: 0386, loss: 0.1479 - val_loss: 0.3076; rmse: 0.3786 - rmse_val: 0.5546;  r2: 0.9704 - r2_val: 0.9271                                                                                                    \n",
      "epoch: 0387, loss: 0.1513 - val_loss: 0.3138; rmse: 0.4013 - rmse_val: 0.5602;  r2: 0.9711 - r2_val: 0.9290                                                                                                    \n",
      "epoch: 0388, loss: 0.1480 - val_loss: 0.3588; rmse: 0.4084 - rmse_val: 0.5990;  r2: 0.9702 - r2_val: 0.9271                                                                                                    \n",
      "epoch: 0389, loss: 0.1520 - val_loss: 0.2961; rmse: 0.3679 - rmse_val: 0.5441;  r2: 0.9704 - r2_val: 0.9298                                                                                                    \n",
      "epoch: 0390, loss: 0.1501 - val_loss: 0.2989; rmse: 0.3777 - rmse_val: 0.5467;  r2: 0.9699 - r2_val: 0.9284                                                                                                    \n",
      "epoch: 0391, loss: 0.1382 - val_loss: 0.3160; rmse: 0.3794 - rmse_val: 0.5621;  r2: 0.9700 - r2_val: 0.9294                                                                                                    \n",
      "epoch: 0392, loss: 0.1480 - val_loss: 0.4129; rmse: 0.5326 - rmse_val: 0.6426;  r2: 0.9707 - r2_val: 0.9289                                                                                                    \n",
      "epoch: 0393, loss: 0.2274 - val_loss: 0.3191; rmse: 0.4298 - rmse_val: 0.5649;  r2: 0.9687 - r2_val: 0.9303                                                                                                    \n",
      "epoch: 0394, loss: 0.1737 - val_loss: 0.3561; rmse: 0.4042 - rmse_val: 0.5968;  r2: 0.9683 - r2_val: 0.9250                                                                                                    \n",
      "epoch: 0395, loss: 0.1503 - val_loss: 0.4330; rmse: 0.4779 - rmse_val: 0.6580;  r2: 0.9696 - r2_val: 0.9277                                                                                                    \n",
      "epoch: 0396, loss: 0.1923 - val_loss: 0.2943; rmse: 0.3794 - rmse_val: 0.5425;  r2: 0.9711 - r2_val: 0.9310                                                                                                    \n",
      "epoch: 0397, loss: 0.1443 - val_loss: 0.3781; rmse: 0.4783 - rmse_val: 0.6148;  r2: 0.9712 - r2_val: 0.9264                                                                                                    \n",
      "epoch: 0398, loss: 0.1794 - val_loss: 0.3714; rmse: 0.4248 - rmse_val: 0.6095;  r2: 0.9704 - r2_val: 0.9284                                                                                                    \n",
      "epoch: 0399, loss: 0.2052 - val_loss: 0.4966; rmse: 0.5368 - rmse_val: 0.7047;  r2: 0.9669 - r2_val: 0.9268                                                                                                    \n",
      "epoch: 0400, loss: 0.2485 - val_loss: 0.2988; rmse: 0.3956 - rmse_val: 0.5467;  r2: 0.9688 - r2_val: 0.9301                                                                                                    \n",
      "epoch: 0401, loss: 0.1796 - val_loss: 0.3062; rmse: 0.4061 - rmse_val: 0.5534;  r2: 0.9702 - r2_val: 0.9301                                                                                                    \n",
      "epoch: 0402, loss: 0.1570 - val_loss: 0.2981; rmse: 0.3633 - rmse_val: 0.5460;  r2: 0.9708 - r2_val: 0.9290                                                                                                    \n",
      "epoch: 0403, loss: 0.1377 - val_loss: 0.2871; rmse: 0.3597 - rmse_val: 0.5359;  r2: 0.9720 - r2_val: 0.9312                                                                                                    \n",
      "epoch: 0404, loss: 0.1350 - val_loss: 0.2841; rmse: 0.3610 - rmse_val: 0.5330;  r2: 0.9716 - r2_val: 0.9325                                                                                                    \n",
      "epoch: 0405, loss: 0.1412 - val_loss: 0.3246; rmse: 0.3797 - rmse_val: 0.5697;  r2: 0.9711 - r2_val: 0.9307                                                                                                    \n",
      "epoch: 0406, loss: 0.1452 - val_loss: 0.2894; rmse: 0.3604 - rmse_val: 0.5380;  r2: 0.9723 - r2_val: 0.9306                                                                                                    \n",
      "epoch: 0407, loss: 0.1288 - val_loss: 0.2953; rmse: 0.3635 - rmse_val: 0.5434;  r2: 0.9726 - r2_val: 0.9295                                                                                                    \n",
      "epoch: 0408, loss: 0.1371 - val_loss: 0.3001; rmse: 0.3573 - rmse_val: 0.5479;  r2: 0.9725 - r2_val: 0.9281                                                                                                    \n",
      "epoch: 0409, loss: 0.1366 - val_loss: 0.2926; rmse: 0.3826 - rmse_val: 0.5410;  r2: 0.9730 - r2_val: 0.9321                                                                                                    \n",
      "epoch: 0410, loss: 0.1465 - val_loss: 0.2988; rmse: 0.3535 - rmse_val: 0.5466;  r2: 0.9723 - r2_val: 0.9295                                                                                                    \n",
      "epoch: 0411, loss: 0.1262 - val_loss: 0.4164; rmse: 0.5136 - rmse_val: 0.6453;  r2: 0.9723 - r2_val: 0.9272                                                                                                    \n",
      "epoch: 0412, loss: 0.2227 - val_loss: 0.3005; rmse: 0.3577 - rmse_val: 0.5481;  r2: 0.9717 - r2_val: 0.9292                                                                                                    \n",
      "epoch: 0413, loss: 0.1473 - val_loss: 0.3737; rmse: 0.4206 - rmse_val: 0.6113;  r2: 0.9723 - r2_val: 0.9301                                                                                                    \n",
      "epoch: 0414, loss: 0.1544 - val_loss: 0.3008; rmse: 0.3804 - rmse_val: 0.5485;  r2: 0.9733 - r2_val: 0.9299                                                                                                    \n",
      "epoch: 0415, loss: 0.1417 - val_loss: 0.3221; rmse: 0.4041 - rmse_val: 0.5676;  r2: 0.9728 - r2_val: 0.9280                                                                                                    \n",
      "epoch: 0416, loss: 0.1360 - val_loss: 0.2855; rmse: 0.3565 - rmse_val: 0.5343;  r2: 0.9737 - r2_val: 0.9319                                                                                                    \n",
      "epoch: 0417, loss: 0.1233 - val_loss: 0.3046; rmse: 0.3745 - rmse_val: 0.5520;  r2: 0.9741 - r2_val: 0.9292                                                                                                    \n",
      "epoch: 0418, loss: 0.1449 - val_loss: 0.4469; rmse: 0.4820 - rmse_val: 0.6686;  r2: 0.9716 - r2_val: 0.9279                                                                                                    \n",
      "epoch: 0419, loss: 0.1896 - val_loss: 0.2903; rmse: 0.3606 - rmse_val: 0.5388;  r2: 0.9740 - r2_val: 0.9316                                                                                                    \n",
      "epoch: 0420, loss: 0.1763 - val_loss: 0.3679; rmse: 0.4737 - rmse_val: 0.6066;  r2: 0.9725 - r2_val: 0.9292                                                                                                    \n",
      "epoch: 0421, loss: 0.1809 - val_loss: 0.3908; rmse: 0.4396 - rmse_val: 0.6251;  r2: 0.9705 - r2_val: 0.9289                                                                                                    \n",
      "epoch: 0422, loss: 0.2010 - val_loss: 0.4328; rmse: 0.4636 - rmse_val: 0.6579;  r2: 0.9712 - r2_val: 0.9247                                                                                                    \n",
      "epoch: 0423, loss: 0.1851 - val_loss: 0.3262; rmse: 0.4112 - rmse_val: 0.5711;  r2: 0.9722 - r2_val: 0.9283                                                                                                    \n",
      "epoch: 0424, loss: 0.1675 - val_loss: 0.2997; rmse: 0.3598 - rmse_val: 0.5474;  r2: 0.9721 - r2_val: 0.9280                                                                                                    \n",
      "epoch: 0425, loss: 0.1375 - val_loss: 0.3062; rmse: 0.3557 - rmse_val: 0.5534;  r2: 0.9729 - r2_val: 0.9280                                                                                                    \n",
      "epoch: 0426, loss: 0.1392 - val_loss: 0.2953; rmse: 0.3931 - rmse_val: 0.5435;  r2: 0.9729 - r2_val: 0.9325                                                                                                    \n",
      "epoch: 0427, loss: 0.1435 - val_loss: 0.4232; rmse: 0.5290 - rmse_val: 0.6505;  r2: 0.9730 - r2_val: 0.9279                                                                                                    \n",
      "epoch: 0428, loss: 0.1974 - val_loss: 0.2926; rmse: 0.3521 - rmse_val: 0.5410;  r2: 0.9734 - r2_val: 0.9307                                                                                                    \n",
      "epoch: 0429, loss: 0.1407 - val_loss: 0.3544; rmse: 0.4079 - rmse_val: 0.5953;  r2: 0.9716 - r2_val: 0.9307                                                                                                    \n",
      "epoch: 0430, loss: 0.1434 - val_loss: 0.2936; rmse: 0.3501 - rmse_val: 0.5419;  r2: 0.9741 - r2_val: 0.9313                                                                                                    \n",
      "epoch: 0431, loss: 0.1469 - val_loss: 0.3414; rmse: 0.3974 - rmse_val: 0.5843;  r2: 0.9711 - r2_val: 0.9313                                                                                                    \n",
      "epoch: 0432, loss: 0.1947 - val_loss: 0.3728; rmse: 0.4134 - rmse_val: 0.6105;  r2: 0.9709 - r2_val: 0.9278                                                                                                    \n",
      "epoch: 0433, loss: 0.1808 - val_loss: 0.3512; rmse: 0.4350 - rmse_val: 0.5926;  r2: 0.9724 - r2_val: 0.9252                                                                                                    \n",
      "epoch: 0434, loss: 0.1565 - val_loss: 0.3086; rmse: 0.3534 - rmse_val: 0.5556;  r2: 0.9723 - r2_val: 0.9265                                                                                                    \n",
      "epoch: 0435, loss: 0.1311 - val_loss: 0.3032; rmse: 0.3472 - rmse_val: 0.5506;  r2: 0.9741 - r2_val: 0.9280                                                                                                    \n",
      "epoch: 0436, loss: 0.1234 - val_loss: 0.3089; rmse: 0.3579 - rmse_val: 0.5558;  r2: 0.9736 - r2_val: 0.9317                                                                                                    \n",
      "epoch: 0437, loss: 0.1261 - val_loss: 0.2890; rmse: 0.3403 - rmse_val: 0.5376;  r2: 0.9744 - r2_val: 0.9315                                                                                                    \n",
      "epoch: 0438, loss: 0.1226 - val_loss: 0.2924; rmse: 0.3396 - rmse_val: 0.5407;  r2: 0.9747 - r2_val: 0.9299                                                                                                    \n",
      "epoch: 0439, loss: 0.1145 - val_loss: 0.3209; rmse: 0.3631 - rmse_val: 0.5665;  r2: 0.9746 - r2_val: 0.9316                                                                                                    \n",
      "epoch: 0440, loss: 0.1235 - val_loss: 0.3060; rmse: 0.3502 - rmse_val: 0.5531;  r2: 0.9755 - r2_val: 0.9326                                                                                                    \n",
      "epoch: 0441, loss: 0.1173 - val_loss: 0.3166; rmse: 0.3478 - rmse_val: 0.5626;  r2: 0.9748 - r2_val: 0.9293                                                                                                    \n",
      "epoch: 0442, loss: 0.1241 - val_loss: 0.3257; rmse: 0.4128 - rmse_val: 0.5706;  r2: 0.9750 - r2_val: 0.9301                                                                                                    \n",
      "epoch: 0443, loss: 0.1534 - val_loss: 0.2763; rmse: 0.3444 - rmse_val: 0.5257;  r2: 0.9746 - r2_val: 0.9347                                                                                                    \n",
      "epoch: 0444, loss: 0.1316 - val_loss: 0.2990; rmse: 0.3378 - rmse_val: 0.5467;  r2: 0.9752 - r2_val: 0.9309                                                                                                    \n",
      "epoch: 0445, loss: 0.1205 - val_loss: 0.2903; rmse: 0.3484 - rmse_val: 0.5388;  r2: 0.9755 - r2_val: 0.9308                                                                                                    \n",
      "epoch: 0446, loss: 0.1187 - val_loss: 0.3067; rmse: 0.3863 - rmse_val: 0.5538;  r2: 0.9763 - r2_val: 0.9321                                                                                                    \n",
      "epoch: 0447, loss: 0.1372 - val_loss: 0.2985; rmse: 0.3471 - rmse_val: 0.5463;  r2: 0.9755 - r2_val: 0.9337                                                                                                    \n",
      "epoch: 0448, loss: 0.1223 - val_loss: 0.2792; rmse: 0.3537 - rmse_val: 0.5284;  r2: 0.9760 - r2_val: 0.9341                                                                                                    \n",
      "epoch: 0449, loss: 0.1228 - val_loss: 0.2849; rmse: 0.3316 - rmse_val: 0.5337;  r2: 0.9764 - r2_val: 0.9318                                                                                                    \n",
      "epoch: 0450, loss: 0.1165 - val_loss: 0.2860; rmse: 0.3306 - rmse_val: 0.5347;  r2: 0.9764 - r2_val: 0.9313                                                                                                    \n",
      "epoch: 0451, loss: 0.1095 - val_loss: 0.2813; rmse: 0.3261 - rmse_val: 0.5304;  r2: 0.9769 - r2_val: 0.9325                                                                                                    \n",
      "epoch: 0452, loss: 0.1089 - val_loss: 0.3043; rmse: 0.3370 - rmse_val: 0.5516;  r2: 0.9764 - r2_val: 0.9315                                                                                                    \n",
      "epoch: 0453, loss: 0.1113 - val_loss: 0.3097; rmse: 0.3431 - rmse_val: 0.5565;  r2: 0.9759 - r2_val: 0.9319                                                                                                    \n",
      "epoch: 0454, loss: 0.1238 - val_loss: 0.2935; rmse: 0.3325 - rmse_val: 0.5417;  r2: 0.9762 - r2_val: 0.9304                                                                                                    \n",
      "epoch: 0455, loss: 0.1116 - val_loss: 0.2918; rmse: 0.3490 - rmse_val: 0.5402;  r2: 0.9767 - r2_val: 0.9314                                                                                                    \n",
      "epoch: 0456, loss: 0.1146 - val_loss: 0.2927; rmse: 0.3230 - rmse_val: 0.5409;  r2: 0.9771 - r2_val: 0.9307                                                                                                    \n",
      "epoch: 0457, loss: 0.1099 - val_loss: 0.2946; rmse: 0.3262 - rmse_val: 0.5428;  r2: 0.9772 - r2_val: 0.9321                                                                                                    \n",
      "epoch: 0458, loss: 0.1098 - val_loss: 0.2821; rmse: 0.3218 - rmse_val: 0.5312;  r2: 0.9774 - r2_val: 0.9323                                                                                                    \n",
      "epoch: 0459, loss: 0.1160 - val_loss: 0.2916; rmse: 0.3240 - rmse_val: 0.5400;  r2: 0.9769 - r2_val: 0.9315                                                                                                    \n",
      "epoch: 0460, loss: 0.1139 - val_loss: 0.2768; rmse: 0.3357 - rmse_val: 0.5261;  r2: 0.9776 - r2_val: 0.9343                                                                                                    \n",
      "epoch: 0461, loss: 0.1075 - val_loss: 0.2945; rmse: 0.3258 - rmse_val: 0.5426;  r2: 0.9773 - r2_val: 0.9323                                                                                                    \n",
      "epoch: 0462, loss: 0.1117 - val_loss: 0.3062; rmse: 0.3860 - rmse_val: 0.5534;  r2: 0.9778 - r2_val: 0.9330                                                                                                    \n",
      "epoch: 0463, loss: 0.1269 - val_loss: 0.2928; rmse: 0.3247 - rmse_val: 0.5411;  r2: 0.9770 - r2_val: 0.9318                                                                                                    \n",
      "epoch: 0464, loss: 0.1078 - val_loss: 0.3456; rmse: 0.3759 - rmse_val: 0.5878;  r2: 0.9763 - r2_val: 0.9315                                                                                                    \n",
      "epoch: 0465, loss: 0.1322 - val_loss: 0.3007; rmse: 0.3518 - rmse_val: 0.5484;  r2: 0.9742 - r2_val: 0.9325                                                                                                    \n",
      "epoch: 0466, loss: 0.1183 - val_loss: 0.2870; rmse: 0.3287 - rmse_val: 0.5358;  r2: 0.9761 - r2_val: 0.9318                                                                                                    \n",
      "epoch: 0467, loss: 0.1196 - val_loss: 0.3023; rmse: 0.3370 - rmse_val: 0.5498;  r2: 0.9767 - r2_val: 0.9324                                                                                                    \n",
      "epoch: 0468, loss: 0.1259 - val_loss: 0.2762; rmse: 0.3432 - rmse_val: 0.5255;  r2: 0.9762 - r2_val: 0.9338                                                                                                    \n",
      "epoch: 0469, loss: 0.1286 - val_loss: 0.3627; rmse: 0.3892 - rmse_val: 0.6022;  r2: 0.9755 - r2_val: 0.9300                                                                                                    \n",
      "epoch: 0470, loss: 0.1321 - val_loss: 0.3818; rmse: 0.4994 - rmse_val: 0.6179;  r2: 0.9772 - r2_val: 0.9335                                                                                                    \n",
      "epoch: 0471, loss: 0.1683 - val_loss: 0.4915; rmse: 0.5145 - rmse_val: 0.7011;  r2: 0.9748 - r2_val: 0.9303                                                                                                    \n",
      "epoch: 0472, loss: 0.2225 - val_loss: 0.2833; rmse: 0.3451 - rmse_val: 0.5323;  r2: 0.9747 - r2_val: 0.9320                                                                                                    \n",
      "epoch: 0473, loss: 0.1249 - val_loss: 0.2910; rmse: 0.3361 - rmse_val: 0.5395;  r2: 0.9765 - r2_val: 0.9303                                                                                                    \n",
      "epoch: 0474, loss: 0.1201 - val_loss: 0.3048; rmse: 0.3385 - rmse_val: 0.5521;  r2: 0.9760 - r2_val: 0.9319                                                                                                    \n",
      "epoch: 0475, loss: 0.1200 - val_loss: 0.2935; rmse: 0.3456 - rmse_val: 0.5418;  r2: 0.9772 - r2_val: 0.9306                                                                                                    \n",
      "epoch: 0476, loss: 0.1093 - val_loss: 0.3708; rmse: 0.4000 - rmse_val: 0.6090;  r2: 0.9765 - r2_val: 0.9325                                                                                                    \n",
      "epoch: 0477, loss: 0.1411 - val_loss: 0.2882; rmse: 0.3427 - rmse_val: 0.5369;  r2: 0.9768 - r2_val: 0.9315                                                                                                    \n",
      "epoch: 0478, loss: 0.1171 - val_loss: 0.3079; rmse: 0.3258 - rmse_val: 0.5549;  r2: 0.9778 - r2_val: 0.9300                                                                                                    \n",
      "epoch: 0479, loss: 0.1081 - val_loss: 0.2954; rmse: 0.3448 - rmse_val: 0.5435;  r2: 0.9782 - r2_val: 0.9309                                                                                                    \n",
      "epoch: 0480, loss: 0.1187 - val_loss: 0.4749; rmse: 0.4916 - rmse_val: 0.6890;  r2: 0.9756 - r2_val: 0.9261                                                                                                    \n",
      "epoch: 0481, loss: 0.1872 - val_loss: 0.3338; rmse: 0.3981 - rmse_val: 0.5778;  r2: 0.9780 - r2_val: 0.9289                                                                                                    \n",
      "epoch: 0482, loss: 0.1409 - val_loss: 0.2942; rmse: 0.3193 - rmse_val: 0.5424;  r2: 0.9778 - r2_val: 0.9300                                                                                                    \n",
      "epoch: 0483, loss: 0.1150 - val_loss: 0.3255; rmse: 0.3462 - rmse_val: 0.5706;  r2: 0.9771 - r2_val: 0.9294                                                                                                    \n",
      "epoch: 0484, loss: 0.1284 - val_loss: 0.3843; rmse: 0.3961 - rmse_val: 0.6199;  r2: 0.9759 - r2_val: 0.9268                                                                                                    \n",
      "epoch: 0485, loss: 0.1500 - val_loss: 0.2939; rmse: 0.3232 - rmse_val: 0.5422;  r2: 0.9774 - r2_val: 0.9313                                                                                                    \n",
      "epoch: 0486, loss: 0.1096 - val_loss: 0.3102; rmse: 0.3796 - rmse_val: 0.5570;  r2: 0.9776 - r2_val: 0.9316                                                                                                    \n",
      "epoch: 0487, loss: 0.1320 - val_loss: 0.6426; rmse: 0.6281 - rmse_val: 0.8016;  r2: 0.9718 - r2_val: 0.9280                                                                                                    \n",
      "epoch: 0488, loss: 0.2775 - val_loss: 0.3050; rmse: 0.3450 - rmse_val: 0.5522;  r2: 0.9746 - r2_val: 0.9274                                                                                                    \n",
      "epoch: 0489, loss: 0.1695 - val_loss: 0.3056; rmse: 0.3501 - rmse_val: 0.5529;  r2: 0.9732 - r2_val: 0.9271                                                                                                    \n",
      "epoch: 0490, loss: 0.1342 - val_loss: 0.2979; rmse: 0.3537 - rmse_val: 0.5458;  r2: 0.9731 - r2_val: 0.9285                                                                                                    \n",
      "epoch: 0491, loss: 0.1287 - val_loss: 0.2978; rmse: 0.3356 - rmse_val: 0.5457;  r2: 0.9755 - r2_val: 0.9295                                                                                                    \n",
      "epoch: 0492, loss: 0.1149 - val_loss: 0.2974; rmse: 0.3274 - rmse_val: 0.5453;  r2: 0.9764 - r2_val: 0.9299                                                                                                    \n",
      "epoch: 0493, loss: 0.1154 - val_loss: 0.2892; rmse: 0.3299 - rmse_val: 0.5378;  r2: 0.9774 - r2_val: 0.9307                                                                                                    \n",
      "epoch: 0494, loss: 0.1198 - val_loss: 0.3109; rmse: 0.3906 - rmse_val: 0.5576;  r2: 0.9761 - r2_val: 0.9307                                                                                                    \n",
      "epoch: 0495, loss: 0.1533 - val_loss: 0.2978; rmse: 0.3457 - rmse_val: 0.5457;  r2: 0.9741 - r2_val: 0.9285                                                                                                    \n",
      "epoch: 0496, loss: 0.1279 - val_loss: 0.3684; rmse: 0.3960 - rmse_val: 0.6069;  r2: 0.9755 - r2_val: 0.9289                                                                                                    \n",
      "epoch: 0497, loss: 0.1320 - val_loss: 0.3041; rmse: 0.3541 - rmse_val: 0.5514;  r2: 0.9756 - r2_val: 0.9282                                                                                                    \n",
      "epoch: 0498, loss: 0.1341 - val_loss: 0.3159; rmse: 0.3394 - rmse_val: 0.5620;  r2: 0.9765 - r2_val: 0.9294                                                                                                    \n",
      "epoch: 0499, loss: 0.1150 - val_loss: 0.2926; rmse: 0.3183 - rmse_val: 0.5409;  r2: 0.9780 - r2_val: 0.9299                                                                                                    \n",
      "epoch: 0500, loss: 0.1110 - val_loss: 0.3240; rmse: 0.3842 - rmse_val: 0.5693;  r2: 0.9781 - r2_val: 0.9295                                                                                                    \n"
     ]
    },
    {
     "data": {
      "text/plain": [
       "<tensorflow.python.keras.callbacks.History at 0x7f376f93bef0>"
      ]
     },
     "execution_count": 10,
     "metadata": {},
     "output_type": "execute_result"
    }
   ],
   "source": [
    "model.fit(trainX, trainY, batch_size=batch_size, \n",
    "          epochs=epochs, verbose= 0, shuffle = True, \n",
    "          validation_data = (validX, validY), \n",
    "          callbacks=[performance]) "
   ]
  },
  {
   "cell_type": "code",
   "execution_count": 11,
   "metadata": {
    "collapsed": true,
    "jupyter": {
     "outputs_hidden": true
    }
   },
   "outputs": [
    {
     "data": {
      "text/plain": [
       "<matplotlib.axes._subplots.AxesSubplot at 0x7f37708d97f0>"
      ]
     },
     "execution_count": 11,
     "metadata": {},
     "output_type": "execute_result"
    },
    {
     "data": {
      "image/png": "[encoded data removed]",
      "text/plain": [
       "<Figure size 432x288 with 1 Axes>"
      ]
     },
     "metadata": {
      "needs_background": "light"
     },
     "output_type": "display_data"
    }
   ],
   "source": [
    "dfp = pd.DataFrame(performance.history)[['loss', 'val_loss']]\n",
    "dfp.plot()"
   ]
  },
  {
   "cell_type": "code",
   "execution_count": 12,
   "metadata": {},
   "outputs": [
    {
     "data": {
      "text/plain": [
       "([0.34322864183044044], [0.9761979552989887])"
      ]
     },
     "execution_count": 12,
     "metadata": {},
     "output_type": "execute_result"
    }
   ],
   "source": [
    "performance.evaluate(trainX, trainY) # RMSE, R^2"
   ]
  },
  {
   "cell_type": "code",
   "execution_count": 13,
   "metadata": {},
   "outputs": [
    {
     "data": {
      "text/plain": [
       "([0.5255324109506085], [0.9338405820350548])"
      ]
     },
     "execution_count": 13,
     "metadata": {},
     "output_type": "execute_result"
    }
   ],
   "source": [
    "performance.evaluate(validX, validY) # RMSE, R^2"
   ]
  },
  {
   "cell_type": "code",
   "execution_count": 14,
   "metadata": {},
   "outputs": [
    {
     "data": {
      "text/plain": [
       "([0.47124981093442814], [0.9446133616364221])"
      ]
     },
     "execution_count": 14,
     "metadata": {},
     "output_type": "execute_result"
    }
   ],
   "source": [
    "performance.evaluate(testX, testY) # RMSE, R^2"
   ]
  },
  {
   "cell_type": "code",
   "execution_count": 15,
   "metadata": {},
   "outputs": [
    {
     "data": {
      "text/plain": [
       "([0.8558881695898682], [0.48035115571524106])"
      ]
     },
     "execution_count": 15,
     "metadata": {},
     "output_type": "execute_result"
    }
   ],
   "source": [
    "performance.evaluate(etcX, etcY)  # RMSE, R^2"
   ]
  },
  {
   "cell_type": "code",
   "execution_count": 16,
   "metadata": {},
   "outputs": [
    {
     "data": {
      "text/html": [
       "<div>\n",
       "<style scoped>\n",
       "    .dataframe tbody tr th:only-of-type {\n",
       "        vertical-align: middle;\n",
       "    }\n",
       "\n",
       "    .dataframe tbody tr th {\n",
       "        vertical-align: top;\n",
       "    }\n",
       "\n",
       "    .dataframe thead th {\n",
       "        text-align: right;\n",
       "    }\n",
       "</style>\n",
       "<table border=\"1\" class=\"dataframe\">\n",
       "  <thead>\n",
       "    <tr style=\"text-align: right;\">\n",
       "      <th></th>\n",
       "      <th>Exp_LogS</th>\n",
       "      <th>Pred_LogS</th>\n",
       "    </tr>\n",
       "  </thead>\n",
       "  <tbody>\n",
       "    <tr>\n",
       "      <td>Exp_LogS</td>\n",
       "      <td>1.000000</td>\n",
       "      <td>0.693074</td>\n",
       "    </tr>\n",
       "    <tr>\n",
       "      <td>Pred_LogS</td>\n",
       "      <td>0.693074</td>\n",
       "      <td>1.000000</td>\n",
       "    </tr>\n",
       "  </tbody>\n",
       "</table>\n",
       "</div>"
      ],
      "text/plain": [
       "           Exp_LogS  Pred_LogS\n",
       "Exp_LogS   1.000000   0.693074\n",
       "Pred_LogS  0.693074   1.000000"
      ]
     },
     "execution_count": 16,
     "metadata": {},
     "output_type": "execute_result"
    }
   ],
   "source": [
    "dfr = df_etc[['Exp_LogS']].join(pd.DataFrame(performance.model.predict(etcX), columns= ['Pred_LogS']))\n",
    "dfr.corr()"
   ]
  },
  {
   "cell_type": "code",
   "execution_count": 17,
   "metadata": {},
   "outputs": [
    {
     "data": {
      "text/plain": [
       "<matplotlib.collections.PathCollection at 0x7f36ed9b88d0>"
      ]
     },
     "execution_count": 17,
     "metadata": {},
     "output_type": "execute_result"
    },
    {
     "data": {
      "image/png": "[encoded data removed]",
      "text/plain": [
       "<Figure size 576x432 with 1 Axes>"
      ]
     },
     "metadata": {
      "needs_background": "light"
     },
     "output_type": "display_data"
    }
   ],
   "source": [
    "plt.figure(figsize = (8,6))\n",
    "plt.scatter(dfr.Exp_LogS, dfr.Pred_LogS)"
   ]
  },
  {
   "cell_type": "code",
   "execution_count": 18,
   "metadata": {},
   "outputs": [],
   "source": [
    "#performance.model.save('solubility_MMND.h5')"
   ]
  },
  {
   "cell_type": "code",
   "execution_count": null,
   "metadata": {},
   "outputs": [],
   "source": []
  },
  {
   "cell_type": "code",
   "execution_count": null,
   "metadata": {},
   "outputs": [],
   "source": []
  },
  {
   "cell_type": "code",
   "execution_count": null,
   "metadata": {},
   "outputs": [],
   "source": []
  }
 ],
 "metadata": {
  "kernelspec": {
   "display_name": "Python 3",
   "language": "python",
   "name": "python3"
  },
  "language_info": {
   "codemirror_mode": {
    "name": "ipython",
    "version": 3
   },
   "file_extension": ".py",
   "mimetype": "text/x-python",
   "name": "python",
   "nbconvert_exporter": "python",
   "pygments_lexer": "ipython3",
   "version": "3.6.10"
  }
 },
 "nbformat": 4,
 "nbformat_minor": 4
}
