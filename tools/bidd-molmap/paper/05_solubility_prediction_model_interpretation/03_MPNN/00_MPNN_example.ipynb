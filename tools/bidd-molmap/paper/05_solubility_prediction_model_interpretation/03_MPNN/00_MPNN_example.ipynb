{
 "cells": [
  {
   "cell_type": "code",
   "execution_count": 1,
   "metadata": {},
   "outputs": [
    {
     "name": "stderr",
     "output_type": "stream",
     "text": [
      "/home/sxh/anaconda3/envs/my-rdkit-env/lib/python3.6/site-packages/tensorflow/python/framework/dtypes.py:516: FutureWarning: Passing (type, 1) or '1type' as a synonym of type is deprecated; in a future version of numpy, it will be understood as (type, (1,)) / '(1,)type'.\n",
      "  _np_qint8 = np.dtype([(\"qint8\", np.int8, 1)])\n",
      "/home/sxh/anaconda3/envs/my-rdkit-env/lib/python3.6/site-packages/tensorflow/python/framework/dtypes.py:517: FutureWarning: Passing (type, 1) or '1type' as a synonym of type is deprecated; in a future version of numpy, it will be understood as (type, (1,)) / '(1,)type'.\n",
      "  _np_quint8 = np.dtype([(\"quint8\", np.uint8, 1)])\n",
      "/home/sxh/anaconda3/envs/my-rdkit-env/lib/python3.6/site-packages/tensorflow/python/framework/dtypes.py:518: FutureWarning: Passing (type, 1) or '1type' as a synonym of type is deprecated; in a future version of numpy, it will be understood as (type, (1,)) / '(1,)type'.\n",
      "  _np_qint16 = np.dtype([(\"qint16\", np.int16, 1)])\n",
      "/home/sxh/anaconda3/envs/my-rdkit-env/lib/python3.6/site-packages/tensorflow/python/framework/dtypes.py:519: FutureWarning: Passing (type, 1) or '1type' as a synonym of type is deprecated; in a future version of numpy, it will be understood as (type, (1,)) / '(1,)type'.\n",
      "  _np_quint16 = np.dtype([(\"quint16\", np.uint16, 1)])\n",
      "/home/sxh/anaconda3/envs/my-rdkit-env/lib/python3.6/site-packages/tensorflow/python/framework/dtypes.py:520: FutureWarning: Passing (type, 1) or '1type' as a synonym of type is deprecated; in a future version of numpy, it will be understood as (type, (1,)) / '(1,)type'.\n",
      "  _np_qint32 = np.dtype([(\"qint32\", np.int32, 1)])\n",
      "/home/sxh/anaconda3/envs/my-rdkit-env/lib/python3.6/site-packages/tensorflow/python/framework/dtypes.py:525: FutureWarning: Passing (type, 1) or '1type' as a synonym of type is deprecated; in a future version of numpy, it will be understood as (type, (1,)) / '(1,)type'.\n",
      "  np_resource = np.dtype([(\"resource\", np.ubyte, 1)])\n",
      "/home/sxh/anaconda3/envs/my-rdkit-env/lib/python3.6/site-packages/tensorboard/compat/tensorflow_stub/dtypes.py:541: FutureWarning: Passing (type, 1) or '1type' as a synonym of type is deprecated; in a future version of numpy, it will be understood as (type, (1,)) / '(1,)type'.\n",
      "  _np_qint8 = np.dtype([(\"qint8\", np.int8, 1)])\n",
      "/home/sxh/anaconda3/envs/my-rdkit-env/lib/python3.6/site-packages/tensorboard/compat/tensorflow_stub/dtypes.py:542: FutureWarning: Passing (type, 1) or '1type' as a synonym of type is deprecated; in a future version of numpy, it will be understood as (type, (1,)) / '(1,)type'.\n",
      "  _np_quint8 = np.dtype([(\"quint8\", np.uint8, 1)])\n",
      "/home/sxh/anaconda3/envs/my-rdkit-env/lib/python3.6/site-packages/tensorboard/compat/tensorflow_stub/dtypes.py:543: FutureWarning: Passing (type, 1) or '1type' as a synonym of type is deprecated; in a future version of numpy, it will be understood as (type, (1,)) / '(1,)type'.\n",
      "  _np_qint16 = np.dtype([(\"qint16\", np.int16, 1)])\n",
      "/home/sxh/anaconda3/envs/my-rdkit-env/lib/python3.6/site-packages/tensorboard/compat/tensorflow_stub/dtypes.py:544: FutureWarning: Passing (type, 1) or '1type' as a synonym of type is deprecated; in a future version of numpy, it will be understood as (type, (1,)) / '(1,)type'.\n",
      "  _np_quint16 = np.dtype([(\"quint16\", np.uint16, 1)])\n",
      "/home/sxh/anaconda3/envs/my-rdkit-env/lib/python3.6/site-packages/tensorboard/compat/tensorflow_stub/dtypes.py:545: FutureWarning: Passing (type, 1) or '1type' as a synonym of type is deprecated; in a future version of numpy, it will be understood as (type, (1,)) / '(1,)type'.\n",
      "  _np_qint32 = np.dtype([(\"qint32\", np.int32, 1)])\n",
      "/home/sxh/anaconda3/envs/my-rdkit-env/lib/python3.6/site-packages/tensorboard/compat/tensorflow_stub/dtypes.py:550: FutureWarning: Passing (type, 1) or '1type' as a synonym of type is deprecated; in a future version of numpy, it will be understood as (type, (1,)) / '(1,)type'.\n",
      "  np_resource = np.dtype([(\"resource\", np.ubyte, 1)])\n",
      "/home/sxh/anaconda3/envs/my-rdkit-env/lib/python3.6/site-packages/sklearn/externals/joblib/__init__.py:15: DeprecationWarning: sklearn.externals.joblib is deprecated in 0.21 and will be removed in 0.23. Please import this functionality directly from joblib, which can be installed with: pip install joblib. If this warning is raised when loading pickled models, you may need to re-serialize those models with scikit-learn 0.21+.\n",
      "  warnings.warn(msg, category=DeprecationWarning)\n"
     ]
    }
   ],
   "source": [
    "from __future__ import print_function\n",
    "from __future__ import division\n",
    "from __future__ import unicode_literals\n",
    "\n",
    "import numpy as np\n",
    "import tensorflow as tf\n",
    "from joblib import load,dump\n",
    "from rdkit import Chem\n",
    "import pandas as pd\n",
    "\n",
    "from deepchem.models import GraphConvModel, MPNNModel\n",
    "import deepchem as dc\n",
    "from deepchem.molnet.preset_hyper_parameters import hps\n",
    "from copy import deepcopy\n",
    "import os\n",
    "os.environ[\"CUDA_VISIBLE_DEVICES\"]=\"6\"\n",
    "%matplotlib inline\n",
    "#os.environ.setdefault('DEEPCHEM_DATA_DIR', os.popen('pwd').read().strip())"
   ]
  },
  {
   "cell_type": "code",
   "execution_count": 2,
   "metadata": {},
   "outputs": [
    {
     "data": {
      "text/plain": [
       "'2.1.1'"
      ]
     },
     "execution_count": 2,
     "metadata": {},
     "output_type": "execute_result"
    }
   ],
   "source": [
    "dc.__version__"
   ]
  },
  {
   "cell_type": "code",
   "execution_count": 3,
   "metadata": {},
   "outputs": [],
   "source": [
    "seed = 123\n",
    "np.random.seed(seed)\n",
    "tf.set_random_seed(seed)"
   ]
  },
  {
   "cell_type": "code",
   "execution_count": 4,
   "metadata": {},
   "outputs": [],
   "source": [
    "def featurize_data(tasks, smiles_col, featurizer, dataset_file, normalize = True):\n",
    "    loader = dc.data.CSVLoader(tasks=tasks, smiles_field=smiles_col, featurizer=featurizer)\n",
    "    dataset = loader.featurize(dataset_file)\n",
    "    move_mean = True\n",
    "    if normalize:\n",
    "        transformers = [dc.trans.NormalizationTransformer(\n",
    "            transform_y=True, dataset=dataset, move_mean=move_mean)]\n",
    "    else:\n",
    "        transformers = []\n",
    "    for transformer in transformers:\n",
    "        dataset = transformer.transform(dataset)\n",
    "    return dataset, transformers"
   ]
  },
  {
   "cell_type": "code",
   "execution_count": 5,
   "metadata": {},
   "outputs": [],
   "source": [
    "featurizer = dc.feat.graph_features.WeaveFeaturizer()\n",
    "metric = dc.metrics.Metric(dc.metrics.rms_score, np.mean)"
   ]
  },
  {
   "cell_type": "markdown",
   "metadata": {},
   "source": [
    "# use the same dataset as MolMapNet and attentivFP"
   ]
  },
  {
   "cell_type": "code",
   "execution_count": 6,
   "metadata": {},
   "outputs": [
    {
     "name": "stdout",
     "output_type": "stream",
     "text": [
      "Loading raw samples now.\n",
      "shard_size: 8192\n",
      "About to start loading CSV from ../train.csv\n",
      "Loading shard 1 of size 8192.\n",
      "Featurizing sample 0\n",
      "TIMING: featurizing shard 0 took 1.302 s\n",
      "TIMING: dataset construction took 1.524 s\n",
      "Loading dataset from disk.\n",
      "TIMING: dataset construction took 0.302 s\n",
      "Loading dataset from disk.\n",
      "Loading raw samples now.\n",
      "shard_size: 8192\n",
      "About to start loading CSV from ../valid.csv\n",
      "Loading shard 1 of size 8192.\n",
      "Featurizing sample 0\n",
      "TIMING: featurizing shard 0 took 0.188 s\n",
      "TIMING: dataset construction took 0.219 s\n",
      "Loading dataset from disk.\n",
      "TIMING: dataset construction took 0.038 s\n",
      "Loading dataset from disk.\n",
      "Loading raw samples now.\n",
      "shard_size: 8192\n",
      "About to start loading CSV from ../test.csv\n",
      "Loading shard 1 of size 8192.\n",
      "Featurizing sample 0\n",
      "TIMING: featurizing shard 0 took 0.166 s\n",
      "TIMING: dataset construction took 0.190 s\n",
      "Loading dataset from disk.\n",
      "TIMING: dataset construction took 0.027 s\n",
      "Loading dataset from disk.\n",
      "Loading raw samples now.\n",
      "shard_size: 8192\n",
      "About to start loading CSV from ../etc.csv\n",
      "Loading shard 1 of size 8192.\n",
      "Featurizing sample 0\n",
      "TIMING: featurizing shard 0 took 0.369 s\n",
      "TIMING: dataset construction took 0.432 s\n",
      "Loading dataset from disk.\n",
      "TIMING: dataset construction took 0.100 s\n",
      "Loading dataset from disk.\n"
     ]
    }
   ],
   "source": [
    "tasks = ['measured log solubility in mols per litre']\n",
    "smiles_col = 'smiles'\n",
    "\n",
    "# tasks, delaney_datasets, transformers = dc.molnet.load_delaney(featurizer='Weave', split='random')\n",
    "# train_dataset, valid_dataset, test_dataset = delaney_datasets\n",
    "train_dataset, transformers =  featurize_data(tasks = tasks, smiles_col = smiles_col, \n",
    "                                           featurizer =featurizer, dataset_file='../train.csv')\n",
    "\n",
    "valid_dataset, _ =  featurize_data(tasks = tasks, smiles_col = smiles_col, \n",
    "                                           featurizer =featurizer, dataset_file='../valid.csv')\n",
    "\n",
    "test_dataset, _ =  featurize_data(tasks = tasks, smiles_col = smiles_col, \n",
    "                                           featurizer =featurizer, dataset_file='../test.csv')\n",
    "\n",
    "etc_dataset, _ =  featurize_data(tasks = ['Exp_LogS'], smiles_col = smiles_col, \n",
    "                                           featurizer =featurizer, dataset_file='../etc.csv')\n"
   ]
  },
  {
   "cell_type": "code",
   "execution_count": 7,
   "metadata": {},
   "outputs": [
    {
     "data": {
      "text/plain": [
       "{'nb_epoch': 50,\n",
       " 'M': 2,\n",
       " 'batch_size': 32,\n",
       " 'seed': 123,\n",
       " 'T': 1,\n",
       " 'learning_rate': 0.003183415042748088}"
      ]
     },
     "execution_count": 7,
     "metadata": {},
     "output_type": "execute_result"
    }
   ],
   "source": [
    "pd.read_pickle('./delaneympnn.pkl')"
   ]
  },
  {
   "cell_type": "code",
   "execution_count": 8,
   "metadata": {},
   "outputs": [],
   "source": [
    "# Hyper-parameters, taken from the orignal MoleculeNet optimized results\n",
    "batch_size = 32\n",
    "lr = 0.003183415042748088\n",
    "\n",
    "n_atom_feat = 75\n",
    "n_pair_feat = 14\n",
    "T = 1\n",
    "M = 2\n",
    "nb_epoch = 50\n",
    "\n",
    "model = dc.models.MPNNModel(\n",
    "                            len(tasks),\n",
    "                            n_atom_feat=n_atom_feat,\n",
    "                            n_pair_feat=n_pair_feat,\n",
    "                            T=T,\n",
    "                            M=M,\n",
    "                            batch_size=batch_size,\n",
    "                            learning_rate=lr,\n",
    "                            use_queue=False,\n",
    "                            mode=\"regression\")\n",
    "\n",
    "\n",
    "\n",
    "def count_params(model):\n",
    "    trainable_paras = 0\n",
    "    for layer in model.layers.values():\n",
    "        x = model.get_layer_variable_values(layer)\n",
    "        for  i in x:\n",
    "            if type(i) == np.ndarray:\n",
    "                if len(i.shape) == 1:\n",
    "                    trainable_paras += i.shape[0]\n",
    "                else:\n",
    "                    a, b = i.shape\n",
    "                    trainable_paras += a*b\n",
    "    return trainable_paras"
   ]
  },
  {
   "cell_type": "code",
   "execution_count": 9,
   "metadata": {},
   "outputs": [
    {
     "data": {
      "text/plain": [
       "(901,)"
      ]
     },
     "execution_count": 9,
     "metadata": {},
     "output_type": "execute_result"
    }
   ],
   "source": [
    "train_dataset.ids.shape"
   ]
  },
  {
   "cell_type": "code",
   "execution_count": 10,
   "metadata": {},
   "outputs": [
    {
     "name": "stdout",
     "output_type": "stream",
     "text": [
      "WARNING:tensorflow:From /home/sxh/anaconda3/envs/my-rdkit-env/lib/python3.6/site-packages/deepchem/models/tensorgraph/tensor_graph.py:715: The name tf.placeholder is deprecated. Please use tf.compat.v1.placeholder instead.\n",
      "\n"
     ]
    },
    {
     "name": "stderr",
     "output_type": "stream",
     "text": [
      "WARNING:tensorflow:From /home/sxh/anaconda3/envs/my-rdkit-env/lib/python3.6/site-packages/deepchem/models/tensorgraph/tensor_graph.py:715: The name tf.placeholder is deprecated. Please use tf.compat.v1.placeholder instead.\n",
      "\n"
     ]
    },
    {
     "name": "stdout",
     "output_type": "stream",
     "text": [
      "WARNING:tensorflow:Entity <bound method MessagePassing.call of <deepchem.models.layers.MessagePassing object at 0x7fe0a8d92860>> could not be transformed and will be executed as-is. Please report this to the AutgoGraph team. When filing the bug, set the verbosity to 10 (on Linux, `export AUTOGRAPH_VERBOSITY=10`) and attach the full output. Cause: converting <bound method MessagePassing.call of <deepchem.models.layers.MessagePassing object at 0x7fe0a8d92860>>: AttributeError: module 'gast' has no attribute 'Num'\n"
     ]
    },
    {
     "name": "stderr",
     "output_type": "stream",
     "text": [
      "WARNING:tensorflow:Entity <bound method MessagePassing.call of <deepchem.models.layers.MessagePassing object at 0x7fe0a8d92860>> could not be transformed and will be executed as-is. Please report this to the AutgoGraph team. When filing the bug, set the verbosity to 10 (on Linux, `export AUTOGRAPH_VERBOSITY=10`) and attach the full output. Cause: converting <bound method MessagePassing.call of <deepchem.models.layers.MessagePassing object at 0x7fe0a8d92860>>: AttributeError: module 'gast' has no attribute 'Num'\n"
     ]
    },
    {
     "name": "stdout",
     "output_type": "stream",
     "text": [
      "WARNING: Entity <bound method MessagePassing.call of <deepchem.models.layers.MessagePassing object at 0x7fe0a8d92860>> could not be transformed and will be executed as-is. Please report this to the AutgoGraph team. When filing the bug, set the verbosity to 10 (on Linux, `export AUTOGRAPH_VERBOSITY=10`) and attach the full output. Cause: converting <bound method MessagePassing.call of <deepchem.models.layers.MessagePassing object at 0x7fe0a8d92860>>: AttributeError: module 'gast' has no attribute 'Num'\n",
      "WARNING:tensorflow:From /home/sxh/anaconda3/envs/my-rdkit-env/lib/python3.6/site-packages/deepchem/models/tensorgraph/model_ops.py:261: calling RandomUniform.__init__ (from tensorflow.python.ops.init_ops) with dtype is deprecated and will be removed in a future version.\n",
      "Instructions for updating:\n",
      "Call initializer instance with the dtype argument instead of passing it to the constructor\n"
     ]
    },
    {
     "name": "stderr",
     "output_type": "stream",
     "text": [
      "WARNING:tensorflow:From /home/sxh/anaconda3/envs/my-rdkit-env/lib/python3.6/site-packages/deepchem/models/tensorgraph/model_ops.py:261: calling RandomUniform.__init__ (from tensorflow.python.ops.init_ops) with dtype is deprecated and will be removed in a future version.\n",
      "Instructions for updating:\n",
      "Call initializer instance with the dtype argument instead of passing it to the constructor\n"
     ]
    },
    {
     "name": "stdout",
     "output_type": "stream",
     "text": [
      "WARNING:tensorflow:From /home/sxh/anaconda3/envs/my-rdkit-env/lib/python3.6/site-packages/deepchem/models/tensorgraph/model_ops.py:450: calling Constant.__init__ (from tensorflow.python.ops.init_ops) with dtype is deprecated and will be removed in a future version.\n",
      "Instructions for updating:\n",
      "Call initializer instance with the dtype argument instead of passing it to the constructor\n"
     ]
    },
    {
     "name": "stderr",
     "output_type": "stream",
     "text": [
      "WARNING:tensorflow:From /home/sxh/anaconda3/envs/my-rdkit-env/lib/python3.6/site-packages/deepchem/models/tensorgraph/model_ops.py:450: calling Constant.__init__ (from tensorflow.python.ops.init_ops) with dtype is deprecated and will be removed in a future version.\n",
      "Instructions for updating:\n",
      "Call initializer instance with the dtype argument instead of passing it to the constructor\n"
     ]
    },
    {
     "name": "stdout",
     "output_type": "stream",
     "text": [
      "WARNING:tensorflow:From /home/sxh/anaconda3/envs/my-rdkit-env/lib/python3.6/site-packages/tensorflow/python/autograph/converters/directives.py:117: The name tf.nn.xw_plus_b is deprecated. Please use tf.compat.v1.nn.xw_plus_b instead.\n",
      "\n"
     ]
    },
    {
     "name": "stderr",
     "output_type": "stream",
     "text": [
      "WARNING:tensorflow:From /home/sxh/anaconda3/envs/my-rdkit-env/lib/python3.6/site-packages/tensorflow/python/autograph/converters/directives.py:117: The name tf.nn.xw_plus_b is deprecated. Please use tf.compat.v1.nn.xw_plus_b instead.\n",
      "\n"
     ]
    },
    {
     "name": "stdout",
     "output_type": "stream",
     "text": [
      "WARNING:tensorflow:From /home/sxh/anaconda3/envs/my-rdkit-env/lib/python3.6/site-packages/tensorflow/python/autograph/converters/directives.py:117: The name tf.segment_sum is deprecated. Please use tf.math.segment_sum instead.\n",
      "\n"
     ]
    },
    {
     "name": "stderr",
     "output_type": "stream",
     "text": [
      "WARNING:tensorflow:From /home/sxh/anaconda3/envs/my-rdkit-env/lib/python3.6/site-packages/tensorflow/python/autograph/converters/directives.py:117: The name tf.segment_sum is deprecated. Please use tf.math.segment_sum instead.\n",
      "\n"
     ]
    },
    {
     "name": "stdout",
     "output_type": "stream",
     "text": [
      "WARNING:tensorflow:Entity <bound method EdgeNetwork.call of <deepchem.models.layers.EdgeNetwork object at 0x7fe151e11da0>> could not be transformed and will be executed as-is. Please report this to the AutgoGraph team. When filing the bug, set the verbosity to 10 (on Linux, `export AUTOGRAPH_VERBOSITY=10`) and attach the full output. Cause: converting <bound method EdgeNetwork.call of <deepchem.models.layers.EdgeNetwork object at 0x7fe151e11da0>>: AssertionError: Bad argument number for Name: 3, expecting 4\n"
     ]
    },
    {
     "name": "stderr",
     "output_type": "stream",
     "text": [
      "WARNING:tensorflow:Entity <bound method EdgeNetwork.call of <deepchem.models.layers.EdgeNetwork object at 0x7fe151e11da0>> could not be transformed and will be executed as-is. Please report this to the AutgoGraph team. When filing the bug, set the verbosity to 10 (on Linux, `export AUTOGRAPH_VERBOSITY=10`) and attach the full output. Cause: converting <bound method EdgeNetwork.call of <deepchem.models.layers.EdgeNetwork object at 0x7fe151e11da0>>: AssertionError: Bad argument number for Name: 3, expecting 4\n"
     ]
    },
    {
     "name": "stdout",
     "output_type": "stream",
     "text": [
      "WARNING: Entity <bound method EdgeNetwork.call of <deepchem.models.layers.EdgeNetwork object at 0x7fe151e11da0>> could not be transformed and will be executed as-is. Please report this to the AutgoGraph team. When filing the bug, set the verbosity to 10 (on Linux, `export AUTOGRAPH_VERBOSITY=10`) and attach the full output. Cause: converting <bound method EdgeNetwork.call of <deepchem.models.layers.EdgeNetwork object at 0x7fe151e11da0>>: AssertionError: Bad argument number for Name: 3, expecting 4\n",
      "WARNING:tensorflow:Entity <bound method GatedRecurrentUnit.call of <deepchem.models.layers.GatedRecurrentUnit object at 0x7fe151e11be0>> could not be transformed and will be executed as-is. Please report this to the AutgoGraph team. When filing the bug, set the verbosity to 10 (on Linux, `export AUTOGRAPH_VERBOSITY=10`) and attach the full output. Cause: converting <bound method GatedRecurrentUnit.call of <deepchem.models.layers.GatedRecurrentUnit object at 0x7fe151e11be0>>: AttributeError: module 'gast' has no attribute 'Num'\n"
     ]
    },
    {
     "name": "stderr",
     "output_type": "stream",
     "text": [
      "WARNING:tensorflow:Entity <bound method GatedRecurrentUnit.call of <deepchem.models.layers.GatedRecurrentUnit object at 0x7fe151e11be0>> could not be transformed and will be executed as-is. Please report this to the AutgoGraph team. When filing the bug, set the verbosity to 10 (on Linux, `export AUTOGRAPH_VERBOSITY=10`) and attach the full output. Cause: converting <bound method GatedRecurrentUnit.call of <deepchem.models.layers.GatedRecurrentUnit object at 0x7fe151e11be0>>: AttributeError: module 'gast' has no attribute 'Num'\n"
     ]
    },
    {
     "name": "stdout",
     "output_type": "stream",
     "text": [
      "WARNING: Entity <bound method GatedRecurrentUnit.call of <deepchem.models.layers.GatedRecurrentUnit object at 0x7fe151e11be0>> could not be transformed and will be executed as-is. Please report this to the AutgoGraph team. When filing the bug, set the verbosity to 10 (on Linux, `export AUTOGRAPH_VERBOSITY=10`) and attach the full output. Cause: converting <bound method GatedRecurrentUnit.call of <deepchem.models.layers.GatedRecurrentUnit object at 0x7fe151e11be0>>: AttributeError: module 'gast' has no attribute 'Num'\n",
      "WARNING:tensorflow:Entity <bound method SetGather.call of <deepchem.models.layers.SetGather object at 0x7fe1a0171358>> could not be transformed and will be executed as-is. Please report this to the AutgoGraph team. When filing the bug, set the verbosity to 10 (on Linux, `export AUTOGRAPH_VERBOSITY=10`) and attach the full output. Cause: converting <bound method SetGather.call of <deepchem.models.layers.SetGather object at 0x7fe1a0171358>>: AssertionError: Bad argument number for Name: 3, expecting 4\n"
     ]
    },
    {
     "name": "stderr",
     "output_type": "stream",
     "text": [
      "WARNING:tensorflow:Entity <bound method SetGather.call of <deepchem.models.layers.SetGather object at 0x7fe1a0171358>> could not be transformed and will be executed as-is. Please report this to the AutgoGraph team. When filing the bug, set the verbosity to 10 (on Linux, `export AUTOGRAPH_VERBOSITY=10`) and attach the full output. Cause: converting <bound method SetGather.call of <deepchem.models.layers.SetGather object at 0x7fe1a0171358>>: AssertionError: Bad argument number for Name: 3, expecting 4\n"
     ]
    },
    {
     "name": "stdout",
     "output_type": "stream",
     "text": [
      "WARNING: Entity <bound method SetGather.call of <deepchem.models.layers.SetGather object at 0x7fe1a0171358>> could not be transformed and will be executed as-is. Please report this to the AutgoGraph team. When filing the bug, set the verbosity to 10 (on Linux, `export AUTOGRAPH_VERBOSITY=10`) and attach the full output. Cause: converting <bound method SetGather.call of <deepchem.models.layers.SetGather object at 0x7fe1a0171358>>: AssertionError: Bad argument number for Name: 3, expecting 4\n",
      "WARNING:tensorflow:From /home/sxh/anaconda3/envs/my-rdkit-env/lib/python3.6/site-packages/deepchem/models/tensorgraph/tensor_graph.py:728: The name tf.Session is deprecated. Please use tf.compat.v1.Session instead.\n",
      "\n"
     ]
    },
    {
     "name": "stderr",
     "output_type": "stream",
     "text": [
      "WARNING:tensorflow:From /home/sxh/anaconda3/envs/my-rdkit-env/lib/python3.6/site-packages/deepchem/models/tensorgraph/tensor_graph.py:728: The name tf.Session is deprecated. Please use tf.compat.v1.Session instead.\n",
      "\n"
     ]
    },
    {
     "name": "stdout",
     "output_type": "stream",
     "text": [
      "WARNING:tensorflow:From /home/sxh/anaconda3/envs/my-rdkit-env/lib/python3.6/site-packages/deepchem/models/tensorgraph/optimizers.py:76: The name tf.train.AdamOptimizer is deprecated. Please use tf.compat.v1.train.AdamOptimizer instead.\n",
      "\n"
     ]
    },
    {
     "name": "stderr",
     "output_type": "stream",
     "text": [
      "WARNING:tensorflow:From /home/sxh/anaconda3/envs/my-rdkit-env/lib/python3.6/site-packages/deepchem/models/tensorgraph/optimizers.py:76: The name tf.train.AdamOptimizer is deprecated. Please use tf.compat.v1.train.AdamOptimizer instead.\n",
      "\n"
     ]
    },
    {
     "name": "stdout",
     "output_type": "stream",
     "text": [
      "WARNING:tensorflow:From /home/sxh/anaconda3/envs/my-rdkit-env/lib/python3.6/site-packages/deepchem/models/tensorgraph/tensor_graph.py:1013: The name tf.get_collection is deprecated. Please use tf.compat.v1.get_collection instead.\n",
      "\n"
     ]
    },
    {
     "name": "stderr",
     "output_type": "stream",
     "text": [
      "WARNING:tensorflow:From /home/sxh/anaconda3/envs/my-rdkit-env/lib/python3.6/site-packages/deepchem/models/tensorgraph/tensor_graph.py:1013: The name tf.get_collection is deprecated. Please use tf.compat.v1.get_collection instead.\n",
      "\n"
     ]
    },
    {
     "name": "stdout",
     "output_type": "stream",
     "text": [
      "WARNING:tensorflow:From /home/sxh/anaconda3/envs/my-rdkit-env/lib/python3.6/site-packages/deepchem/models/tensorgraph/tensor_graph.py:1013: The name tf.GraphKeys is deprecated. Please use tf.compat.v1.GraphKeys instead.\n",
      "\n"
     ]
    },
    {
     "name": "stderr",
     "output_type": "stream",
     "text": [
      "WARNING:tensorflow:From /home/sxh/anaconda3/envs/my-rdkit-env/lib/python3.6/site-packages/deepchem/models/tensorgraph/tensor_graph.py:1013: The name tf.GraphKeys is deprecated. Please use tf.compat.v1.GraphKeys instead.\n",
      "\n"
     ]
    },
    {
     "name": "stdout",
     "output_type": "stream",
     "text": [
      "WARNING:tensorflow:From /home/sxh/anaconda3/envs/my-rdkit-env/lib/python3.6/site-packages/deepchem/models/tensorgraph/tensor_graph.py:749: The name tf.summary.scalar is deprecated. Please use tf.compat.v1.summary.scalar instead.\n",
      "\n"
     ]
    },
    {
     "name": "stderr",
     "output_type": "stream",
     "text": [
      "WARNING:tensorflow:From /home/sxh/anaconda3/envs/my-rdkit-env/lib/python3.6/site-packages/deepchem/models/tensorgraph/tensor_graph.py:749: The name tf.summary.scalar is deprecated. Please use tf.compat.v1.summary.scalar instead.\n",
      "\n"
     ]
    },
    {
     "name": "stdout",
     "output_type": "stream",
     "text": [
      "computed_metrics: [1.6927531574690173]\n",
      "1.6927531574690173\n",
      "computed_metrics: [1.8430261971229762]\n",
      "computed_metrics: [1.6927531539617]\n",
      "computed_metrics: [2.054786636756828]\n",
      "computed_metrics: [2.193217198808866]\n",
      "computed_metrics: [1.08133388407913]\n",
      "1.08133388407913\n",
      "computed_metrics: [1.0559493699744698]\n",
      "computed_metrics: [1.0813338845263922]\n",
      "computed_metrics: [1.3473761553848964]\n",
      "computed_metrics: [3.4488078526345656]\n",
      "computed_metrics: [0.8470846045013202]\n",
      "0.8470846045013202\n",
      "computed_metrics: [0.7792962675083915]\n",
      "computed_metrics: [0.8470845972525323]\n",
      "computed_metrics: [1.0885491092271211]\n",
      "computed_metrics: [4.192986657734255]\n",
      "computed_metrics: [1.0489653546587434]\n",
      "computed_metrics: [0.8145791789809821]\n",
      "0.8145791789809821\n",
      "computed_metrics: [0.7226428280634661]\n",
      "computed_metrics: [0.8145792053503269]\n",
      "computed_metrics: [1.021907296467916]\n",
      "computed_metrics: [4.086125917934048]\n",
      "computed_metrics: [0.9513000086865103]\n",
      "computed_metrics: [0.7744726135268832]\n",
      "0.7744726135268832\n",
      "computed_metrics: [0.6040526337740394]\n",
      "computed_metrics: [0.774472647710843]\n",
      "computed_metrics: [0.846328947515355]\n",
      "computed_metrics: [4.004151992224363]\n",
      "computed_metrics: [0.843780542286346]\n",
      "computed_metrics: [0.739540196175391]\n",
      "0.739540196175391\n",
      "computed_metrics: [0.6119745343782496]\n",
      "computed_metrics: [0.7395401842080087]\n",
      "computed_metrics: [0.9681166314901478]\n",
      "computed_metrics: [4.022434268601932]\n",
      "computed_metrics: [0.7278214304970031]\n",
      "0.7278214304970031\n",
      "computed_metrics: [0.6460264904343657]\n",
      "computed_metrics: [0.7278214372746395]\n",
      "computed_metrics: [1.0721435760464253]\n",
      "computed_metrics: [3.566289503609238]\n",
      "computed_metrics: [0.7084498778556979]\n",
      "0.7084498778556979\n",
      "computed_metrics: [0.522390709553852]\n",
      "computed_metrics: [0.7084498676671629]\n",
      "computed_metrics: [0.8233066172923214]\n",
      "computed_metrics: [3.8085104125140288]\n",
      "computed_metrics: [0.5961821368136101]\n",
      "0.5961821368136101\n",
      "computed_metrics: [0.5387787195294228]\n",
      "computed_metrics: [0.5961821433804738]\n",
      "computed_metrics: [0.9619526655034627]\n",
      "computed_metrics: [4.425587002004297]\n",
      "computed_metrics: [0.6998301445199071]\n",
      "computed_metrics: [0.7272432555423396]\n",
      "computed_metrics: [0.6177109086119617]\n",
      "computed_metrics: [0.6279253868630635]\n",
      "computed_metrics: [0.6491115768461124]\n",
      "computed_metrics: [0.6690269564433659]\n",
      "computed_metrics: [0.6718922143081149]\n",
      "computed_metrics: [0.6450695610849753]\n",
      "computed_metrics: [0.7968425180938637]\n",
      "computed_metrics: [0.6991168223478917]\n",
      "computed_metrics: [0.7606274923804758]\n",
      "computed_metrics: [0.6779534162347672]\n",
      "computed_metrics: [0.6256393289628306]\n",
      "computed_metrics: [0.7350025461087514]\n",
      "computed_metrics: [0.6756401382698911]\n",
      "computed_metrics: [0.6585693406015662]\n",
      "computed_metrics: [0.6911144053666827]\n",
      "computed_metrics: [0.6479120187827041]\n",
      "computed_metrics: [0.5952698213745722]\n",
      "0.5952698213745722\n",
      "computed_metrics: [0.4146269109626667]\n",
      "computed_metrics: [0.5952698069300107]\n",
      "computed_metrics: [0.9689572793391814]\n",
      "computed_metrics: [3.8642972483327935]\n",
      "computed_metrics: [0.6658550187759552]\n",
      "computed_metrics: [0.5785646646003961]\n",
      "0.5785646646003961\n",
      "computed_metrics: [0.3389308417800007]\n",
      "computed_metrics: [0.5785646642892771]\n",
      "computed_metrics: [0.8622116763821404]\n",
      "computed_metrics: [3.9731409308574657]\n",
      "computed_metrics: [0.5815058123695319]\n",
      "computed_metrics: [0.6009995915817152]\n",
      "computed_metrics: [0.6688843463784427]\n",
      "computed_metrics: [0.6823006893342909]\n",
      "computed_metrics: [0.60447193363983]\n",
      "computed_metrics: [0.6257577367195172]\n",
      "computed_metrics: [0.6283132032953734]\n",
      "computed_metrics: [0.6856909192380644]\n",
      "computed_metrics: [0.6519414988016918]\n",
      "computed_metrics: [0.6903119782748133]\n",
      "computed_metrics: [0.6970959940508441]\n",
      "computed_metrics: [0.6526306120209638]\n",
      "computed_metrics: [0.6286849618128277]\n",
      "computed_metrics: [0.7063276948446631]\n",
      "computed_metrics: [0.6417555936228001]\n",
      "computed_metrics: [0.6073265011134615]\n",
      "computed_metrics: [0.6313276332946152]\n",
      "computed_metrics: [0.64035868039314]\n",
      "computed_metrics: [0.6287694988129908]\n",
      "computed_metrics: [0.6024290421938959]\n",
      "computed_metrics: [0.6776677990264892]\n",
      "computed_metrics: [0.6385279090078692]\n",
      "computed_metrics: [0.6339169785572552]\n",
      "computed_metrics: [0.655076038180732]\n",
      "computed_metrics: [0.6777081300207549]\n",
      "computed_metrics: [0.5778107036113364]\n",
      "0.5778107036113364\n",
      "computed_metrics: [0.3487181933491116]\n",
      "computed_metrics: [0.5778106974257351]\n",
      "computed_metrics: [0.9695235940436968]\n",
      "computed_metrics: [3.8343360737119587]\n",
      "computed_metrics: [0.6959888570055132]\n",
      "computed_metrics: [0.6942470879754856]\n",
      "computed_metrics: [0.6203321159287545]\n",
      "computed_metrics: [0.6866624343246222]\n",
      "computed_metrics: [0.7048136067026397]\n",
      "computed_metrics: [0.6211702046217736]\n",
      "computed_metrics: [0.7133291394723005]\n",
      "computed_metrics: [0.6465799093478309]\n",
      "computed_metrics: [0.6687596843438275]\n",
      "computed_metrics: [0.7213154986767696]\n",
      "computed_metrics: [0.7385536388435138]\n",
      "computed_metrics: [0.6472774963623801]\n",
      "computed_metrics: [0.6256698153967059]\n",
      "computed_metrics: [0.6667164320572142]\n",
      "computed_metrics: [0.6559529201572122]\n",
      "computed_metrics: [0.6158220484666217]\n",
      "computed_metrics: [0.632018050351148]\n",
      "computed_metrics: [0.6116072225847529]\n",
      "computed_metrics: [0.6953476561548467]\n",
      "computed_metrics: [0.6374037966558547]\n",
      "computed_metrics: [0.6639639879418843]\n",
      "computed_metrics: [0.6012888596401437]\n",
      "computed_metrics: [0.6255807169029113]\n",
      "computed_metrics: [0.6497927440117216]\n",
      "computed_metrics: [0.6440851000878386]\n",
      "computed_metrics: [0.651402579216544]\n",
      "computed_metrics: [0.7374328860806473]\n",
      "computed_metrics: [0.7041336944844657]\n",
      "computed_metrics: [0.6368703534148876]\n",
      "computed_metrics: [0.6594367795845678]\n",
      "computed_metrics: [0.6176993620701358]\n",
      "computed_metrics: [0.6551651699087618]\n",
      "computed_metrics: [0.6932097595390712]\n",
      "computed_metrics: [0.621724880872297]\n",
      "computed_metrics: [0.6273959425929737]\n",
      "computed_metrics: [0.6257104881233673]\n",
      "computed_metrics: [0.6488827006393494]\n",
      "computed_metrics: [0.6456495625808174]\n",
      "computed_metrics: [0.6481901530813822]\n",
      "computed_metrics: [0.611701165678462]\n",
      "computed_metrics: [0.6303643247276659]\n",
      "computed_metrics: [0.6887484138123842]\n",
      "computed_metrics: [0.6469001942805882]\n",
      "computed_metrics: [0.6509448135263985]\n",
      "computed_metrics: [0.6829059611042273]\n",
      "computed_metrics: [0.6649584349631393]\n",
      "computed_metrics: [0.6260562904589952]\n",
      "computed_metrics: [0.5698754296644234]\n",
      "0.5698754296644234\n",
      "computed_metrics: [0.14511314099076347]\n",
      "computed_metrics: [0.5698754425237714]\n",
      "computed_metrics: [0.8057875968478153]\n",
      "computed_metrics: [4.229515738233748]\n",
      "computed_metrics: [0.629032130086645]\n",
      "computed_metrics: [0.653139655427751]\n",
      "computed_metrics: [0.6496263447302405]\n",
      "computed_metrics: [0.6205649242300101]\n",
      "computed_metrics: [0.6576091035955491]\n",
      "computed_metrics: [0.6680492969790963]\n",
      "computed_metrics: [0.6276801795317706]\n",
      "computed_metrics: [0.7622165463038763]\n",
      "computed_metrics: [0.7059763949982449]\n",
      "computed_metrics: [0.6545918217761859]\n",
      "computed_metrics: [0.6216181630022728]\n",
      "computed_metrics: [0.6503543353597541]\n",
      "computed_metrics: [0.7295742330912963]\n",
      "computed_metrics: [0.6740943177780813]\n",
      "computed_metrics: [0.6399961171886539]\n",
      "computed_metrics: [0.686388771902437]\n",
      "computed_metrics: [0.6518450500770256]\n",
      "computed_metrics: [0.7515627375681657]\n",
      "computed_metrics: [0.8272379630401864]\n",
      "computed_metrics: [1.0517756254436441]\n",
      "computed_metrics: [0.7851967832581164]\n",
      "computed_metrics: [0.8465992135576474]\n",
      "computed_metrics: [0.987806788398168]\n",
      "computed_metrics: [0.8169601525075038]\n",
      "computed_metrics: [0.8389549054752281]\n",
      "computed_metrics: [0.6705262460016701]\n",
      "computed_metrics: [0.7052844091984806]\n",
      "computed_metrics: [0.9367892281965902]\n",
      "computed_metrics: [0.8038306812173139]\n",
      "computed_metrics: [0.6598951336583835]\n",
      "computed_metrics: [0.6668016934154629]\n",
      "computed_metrics: [0.6198416996324965]\n",
      "computed_metrics: [0.6936319737463097]\n",
      "computed_metrics: [0.7145962866181809]\n",
      "computed_metrics: [0.6599137370929116]\n",
      "computed_metrics: [0.6982494115788509]\n",
      "computed_metrics: [0.6458619884716452]\n",
      "computed_metrics: [0.6184475975316707]\n",
      "computed_metrics: [0.6393542292700954]\n",
      "computed_metrics: [0.6261701588924822]\n",
      "computed_metrics: [0.6774543407211735]\n",
      "computed_metrics: [0.7068101778391257]\n",
      "computed_metrics: [0.6706889540998326]\n",
      "computed_metrics: [0.6204748175935167]\n",
      "computed_metrics: [0.6571290396687992]\n",
      "computed_metrics: [0.75888597701762]\n",
      "computed_metrics: [0.6084059456301099]\n",
      "computed_metrics: [0.6482009415764065]\n",
      "computed_metrics: [0.7066260400372499]\n",
      "computed_metrics: [0.7075955117470177]\n",
      "early stopping at best_rmse : 0.5698754296644234...\n"
     ]
    }
   ],
   "source": [
    "## perform an early stopping strategy\n",
    "best_rmse = np.inf\n",
    "patience = 50\n",
    "epochs = 500\n",
    "model_performace = {}\n",
    "wait = 0\n",
    "\n",
    "for i in range(epochs):\n",
    "    \n",
    "    train_dataset.shuffle_each_shard()\n",
    "    model.fit(train_dataset, nb_epoch=1)\n",
    "    valid_scores = model.evaluate(valid_dataset, [metric], transformers)\n",
    "    valid_rmse = valid_scores.get('mean-rms_score')\n",
    "    model_performace[i] = valid_rmse\n",
    "    \n",
    "    \n",
    "    if  valid_rmse < best_rmse:\n",
    "        best_rmse = valid_rmse\n",
    "        print(best_rmse)\n",
    "        wait = 0        \n",
    "        best_train_rmse = model.evaluate(train_dataset, [metric], transformers).get('mean-rms_score')\n",
    "        best_valid_rmse = model.evaluate(valid_dataset, [metric], transformers).get('mean-rms_score')        \n",
    "        best_test_rmse = model.evaluate(test_dataset, [metric], transformers).get('mean-rms_score')\n",
    "        best_etc_rmse = model.evaluate(etc_dataset, [metric], transformers).get('mean-rms_score')\n",
    "\n",
    "        best_train_pred_y = list(model.predict(train_dataset, transformers).reshape(-1,))\n",
    "        best_valid_pred_y = list(model.predict(valid_dataset, transformers).reshape(-1,))           \n",
    "        best_test_pred_y = list(model.predict(test_dataset, transformers).reshape(-1,))                 \n",
    "        best_etc_pred_y = list(model.predict(etc_dataset, transformers).reshape(-1,))             \n",
    "        \n",
    "        \n",
    "        best_epoch = i\n",
    "    else:\n",
    "        wait += 1\n",
    "        if wait >= patience:\n",
    "            print('early stopping at best_rmse : %s...' % best_rmse)\n",
    "            break"
   ]
  },
  {
   "cell_type": "code",
   "execution_count": 11,
   "metadata": {},
   "outputs": [
    {
     "data": {
      "text/plain": [
       "<matplotlib.axes._subplots.AxesSubplot at 0x7fe1a07e3390>"
      ]
     },
     "execution_count": 11,
     "metadata": {},
     "output_type": "execute_result"
    },
    {
     "data": {
      "image/png": "[encoded data removed]",
      "text/plain": [
       "<Figure size 432x288 with 1 Axes>"
      ]
     },
     "metadata": {
      "needs_background": "light"
     },
     "output_type": "display_data"
    }
   ],
   "source": [
    "pd.Series(model_performace).plot()"
   ]
  },
  {
   "cell_type": "code",
   "execution_count": 12,
   "metadata": {},
   "outputs": [
    {
     "data": {
      "text/plain": [
       "{'train_rmse': 0.14511314099076347,\n",
       " 'valid_rmse': 0.5698754425237714,\n",
       " 'test_rmse': 0.8057875968478153,\n",
       " 'etc_rmse': 4.229515738233748,\n",
       " 'etc_pred_y': [-6.280625694612285,\n",
       "  -6.767478659562668,\n",
       "  -7.18962870072448,\n",
       "  -7.161076155190622,\n",
       "  -6.606365532324562,\n",
       "  -6.573240570922856,\n",
       "  -7.567981435898642,\n",
       "  -7.681812523559311,\n",
       "  -7.770570737934456,\n",
       "  -6.483202849428613,\n",
       "  -7.295549417829627,\n",
       "  -7.719904685462129,\n",
       "  -7.608155327540718,\n",
       "  -7.682110130436696,\n",
       "  -7.636413303002064,\n",
       "  -7.710455667105163,\n",
       "  -7.277582667942883,\n",
       "  -7.5300107461906745,\n",
       "  -7.9261938280994455,\n",
       "  -7.933992849143021,\n",
       "  -7.699956420396879,\n",
       "  -7.717124490602479,\n",
       "  -7.367996194039945,\n",
       "  -7.510333262893113,\n",
       "  -7.266672440308688,\n",
       "  -6.039515535052657,\n",
       "  -7.635553887223493,\n",
       "  -7.8651003999674565,\n",
       "  -6.516911130432677,\n",
       "  -7.392106400181275,\n",
       "  -5.11466192591485,\n",
       "  -5.8998602179678965,\n",
       "  -5.475181277549531,\n",
       "  -6.705039926872704,\n",
       "  -7.268952068498724,\n",
       "  -6.179867545788302,\n",
       "  -7.791195704351855,\n",
       "  -6.37281752302855,\n",
       "  -7.082198438531238,\n",
       "  -7.866153158989498,\n",
       "  -7.907438521214461,\n",
       "  -7.913746471066241,\n",
       "  -4.4580385357060415,\n",
       "  -5.569036768901109,\n",
       "  -6.136842853573318,\n",
       "  -5.868741572317812,\n",
       "  -7.456770098573592,\n",
       "  -7.3208523290841505,\n",
       "  -7.380207692561481,\n",
       "  -7.050039687212742,\n",
       "  -7.169118120623899,\n",
       "  -7.397641989327461,\n",
       "  -7.329474830381986,\n",
       "  -7.844348900013754,\n",
       "  -6.477849215507631,\n",
       "  -6.670462866608385,\n",
       "  -4.405352375326636,\n",
       "  -3.8482000980773035,\n",
       "  -4.665601871053928,\n",
       "  -3.8532240488694485,\n",
       "  -5.512456792009049,\n",
       "  -8.255900745241895,\n",
       "  -6.47893664471862,\n",
       "  -5.873591096630163,\n",
       "  -6.606088170812985,\n",
       "  -3.70999744925607,\n",
       "  -7.7292337500266814,\n",
       "  -4.8910631220448115,\n",
       "  -6.621555377223599,\n",
       "  -5.888224193969467,\n",
       "  -7.102002961499248,\n",
       "  -5.342064707486767,\n",
       "  -7.182561043520736,\n",
       "  -7.002454220215251,\n",
       "  -4.239278627331305,\n",
       "  -7.688567389861314,\n",
       "  -5.946915003314134,\n",
       "  -7.85026408976885,\n",
       "  -7.9296340218844525,\n",
       "  -6.867029931517391,\n",
       "  -4.320627670488224,\n",
       "  -5.797007432983953,\n",
       "  -7.607020574787152,\n",
       "  -7.632093448072677,\n",
       "  -7.394817254663032,\n",
       "  -7.889156449755249,\n",
       "  -7.539751297815283,\n",
       "  -7.855472210123084,\n",
       "  -6.597926504654365,\n",
       "  -5.347990019924767,\n",
       "  -7.38968707896716,\n",
       "  -6.222869968100898,\n",
       "  -6.352045524641967,\n",
       "  -6.011954506309269,\n",
       "  -5.900147449095304,\n",
       "  -5.68051433278654,\n",
       "  -7.357680674026374,\n",
       "  -7.8718638705499275,\n",
       "  -7.22624016718548,\n",
       "  -7.021267226392789,\n",
       "  -6.912708285055723,\n",
       "  -7.366283436092546,\n",
       "  -7.636334852209555,\n",
       "  -7.653269088440067,\n",
       "  -7.888525806610315,\n",
       "  -6.012957411118007,\n",
       "  -7.527246241489525,\n",
       "  -7.379168093027214,\n",
       "  -7.1176108732022305,\n",
       "  -7.075198856370025,\n",
       "  -7.473503905682598,\n",
       "  -7.465416894310398,\n",
       "  -7.34728720935444,\n",
       "  -6.548813524806622,\n",
       "  -7.562855815410077,\n",
       "  -7.5055796510012796,\n",
       "  -4.480868981661202,\n",
       "  -7.913796072212471,\n",
       "  -6.782056082145997,\n",
       "  -7.2279691214255255],\n",
       " '# trainable params': 341201,\n",
       " 'random_seed': 123,\n",
       " 'best_epoch': 106,\n",
       " 'batch_size': 32,\n",
       " 'lr': 0.003183415042748088}"
      ]
     },
     "execution_count": 12,
     "metadata": {},
     "output_type": "execute_result"
    }
   ],
   "source": [
    "final_res = {'train_rmse':best_train_rmse, \n",
    "             'valid_rmse':best_valid_rmse, \n",
    "             'test_rmse':best_test_rmse,              \n",
    "             'etc_rmse':best_etc_rmse,\n",
    "#              'train_pred_y':best_train_pred_y,\n",
    "#              'test_pred_y':best_test_pred_y,\n",
    "             'etc_pred_y':best_etc_pred_y, \n",
    "             '# trainable params': count_params(model),\n",
    "             'random_seed':seed, \n",
    "             'best_epoch': best_epoch,\n",
    "             'batch_size':batch_size,\n",
    "             'lr': lr\n",
    "\n",
    "            }\n",
    "\n",
    "final_res"
   ]
  },
  {
   "cell_type": "code",
   "execution_count": null,
   "metadata": {},
   "outputs": [],
   "source": []
  },
  {
   "cell_type": "code",
   "execution_count": null,
   "metadata": {},
   "outputs": [],
   "source": []
  },
  {
   "cell_type": "code",
   "execution_count": null,
   "metadata": {},
   "outputs": [],
   "source": []
  },
  {
   "cell_type": "code",
   "execution_count": null,
   "metadata": {},
   "outputs": [],
   "source": []
  }
 ],
 "metadata": {
  "kernelspec": {
   "display_name": "Python 3",
   "language": "python",
   "name": "python3"
  },
  "language_info": {
   "codemirror_mode": {
    "name": "ipython",
    "version": 3
   },
   "file_extension": ".py",
   "mimetype": "text/x-python",
   "name": "python",
   "nbconvert_exporter": "python",
   "pygments_lexer": "ipython3",
   "version": "3.6.9"
  }
 },
 "nbformat": 4,
 "nbformat_minor": 4
}
