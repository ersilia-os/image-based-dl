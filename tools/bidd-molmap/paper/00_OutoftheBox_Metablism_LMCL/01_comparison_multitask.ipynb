{
 "cells": [
  {
   "cell_type": "markdown",
   "metadata": {},
   "source": [
    "# multi-task alternate training strategy--clearence prediction"
   ]
  },
  {
   "cell_type": "code",
   "execution_count": 1,
   "metadata": {},
   "outputs": [
    {
     "name": "stderr",
     "output_type": "stream",
     "text": [
      "RDKit WARNING: [21:30:05] Enabling RDKit 2019.09.2 jupyter extensions\n",
      "/home/shenwanxiang/anaconda3/envs/deepchem23/lib/python3.6/site-packages/tensorflow/python/framework/dtypes.py:516: FutureWarning: Passing (type, 1) or '1type' as a synonym of type is deprecated; in a future version of numpy, it will be understood as (type, (1,)) / '(1,)type'.\n",
      "  _np_qint8 = np.dtype([(\"qint8\", np.int8, 1)])\n",
      "/home/shenwanxiang/anaconda3/envs/deepchem23/lib/python3.6/site-packages/tensorflow/python/framework/dtypes.py:517: FutureWarning: Passing (type, 1) or '1type' as a synonym of type is deprecated; in a future version of numpy, it will be understood as (type, (1,)) / '(1,)type'.\n",
      "  _np_quint8 = np.dtype([(\"quint8\", np.uint8, 1)])\n",
      "/home/shenwanxiang/anaconda3/envs/deepchem23/lib/python3.6/site-packages/tensorflow/python/framework/dtypes.py:518: FutureWarning: Passing (type, 1) or '1type' as a synonym of type is deprecated; in a future version of numpy, it will be understood as (type, (1,)) / '(1,)type'.\n",
      "  _np_qint16 = np.dtype([(\"qint16\", np.int16, 1)])\n",
      "/home/shenwanxiang/anaconda3/envs/deepchem23/lib/python3.6/site-packages/tensorflow/python/framework/dtypes.py:519: FutureWarning: Passing (type, 1) or '1type' as a synonym of type is deprecated; in a future version of numpy, it will be understood as (type, (1,)) / '(1,)type'.\n",
      "  _np_quint16 = np.dtype([(\"quint16\", np.uint16, 1)])\n",
      "/home/shenwanxiang/anaconda3/envs/deepchem23/lib/python3.6/site-packages/tensorflow/python/framework/dtypes.py:520: FutureWarning: Passing (type, 1) or '1type' as a synonym of type is deprecated; in a future version of numpy, it will be understood as (type, (1,)) / '(1,)type'.\n",
      "  _np_qint32 = np.dtype([(\"qint32\", np.int32, 1)])\n",
      "/home/shenwanxiang/anaconda3/envs/deepchem23/lib/python3.6/site-packages/tensorflow/python/framework/dtypes.py:525: FutureWarning: Passing (type, 1) or '1type' as a synonym of type is deprecated; in a future version of numpy, it will be understood as (type, (1,)) / '(1,)type'.\n",
      "  np_resource = np.dtype([(\"resource\", np.ubyte, 1)])\n",
      "/home/shenwanxiang/anaconda3/envs/deepchem23/lib/python3.6/site-packages/tensorboard/compat/tensorflow_stub/dtypes.py:541: FutureWarning: Passing (type, 1) or '1type' as a synonym of type is deprecated; in a future version of numpy, it will be understood as (type, (1,)) / '(1,)type'.\n",
      "  _np_qint8 = np.dtype([(\"qint8\", np.int8, 1)])\n",
      "/home/shenwanxiang/anaconda3/envs/deepchem23/lib/python3.6/site-packages/tensorboard/compat/tensorflow_stub/dtypes.py:542: FutureWarning: Passing (type, 1) or '1type' as a synonym of type is deprecated; in a future version of numpy, it will be understood as (type, (1,)) / '(1,)type'.\n",
      "  _np_quint8 = np.dtype([(\"quint8\", np.uint8, 1)])\n",
      "/home/shenwanxiang/anaconda3/envs/deepchem23/lib/python3.6/site-packages/tensorboard/compat/tensorflow_stub/dtypes.py:543: FutureWarning: Passing (type, 1) or '1type' as a synonym of type is deprecated; in a future version of numpy, it will be understood as (type, (1,)) / '(1,)type'.\n",
      "  _np_qint16 = np.dtype([(\"qint16\", np.int16, 1)])\n",
      "/home/shenwanxiang/anaconda3/envs/deepchem23/lib/python3.6/site-packages/tensorboard/compat/tensorflow_stub/dtypes.py:544: FutureWarning: Passing (type, 1) or '1type' as a synonym of type is deprecated; in a future version of numpy, it will be understood as (type, (1,)) / '(1,)type'.\n",
      "  _np_quint16 = np.dtype([(\"quint16\", np.uint16, 1)])\n",
      "/home/shenwanxiang/anaconda3/envs/deepchem23/lib/python3.6/site-packages/tensorboard/compat/tensorflow_stub/dtypes.py:545: FutureWarning: Passing (type, 1) or '1type' as a synonym of type is deprecated; in a future version of numpy, it will be understood as (type, (1,)) / '(1,)type'.\n",
      "  _np_qint32 = np.dtype([(\"qint32\", np.int32, 1)])\n",
      "/home/shenwanxiang/anaconda3/envs/deepchem23/lib/python3.6/site-packages/tensorboard/compat/tensorflow_stub/dtypes.py:550: FutureWarning: Passing (type, 1) or '1type' as a synonym of type is deprecated; in a future version of numpy, it will be understood as (type, (1,)) / '(1,)type'.\n",
      "  np_resource = np.dtype([(\"resource\", np.ubyte, 1)])\n"
     ]
    }
   ],
   "source": [
    "from molmap import model as molmodel\n",
    "import molmap\n",
    "\n",
    "import matplotlib.pyplot as plt\n",
    "\n",
    "import pandas as pd\n",
    "from tqdm import tqdm\n",
    "from joblib import load, dump\n",
    "tqdm.pandas(ascii=True)\n",
    "import numpy as np\n",
    "\n",
    "import tensorflow as tf\n",
    "import os\n",
    "os.environ[\"CUDA_VISIBLE_DEVICES\"]=\"0\"\n",
    "np.random.seed(12345)\n",
    "tf.compat.v1.set_random_seed(12345)"
   ]
  },
  {
   "cell_type": "code",
   "execution_count": 2,
   "metadata": {},
   "outputs": [],
   "source": [
    "df = pd.read_csv('./Dataset_chembl_clearcaco.txt',sep=';')\n",
    "task_name = 'chembl_clearcaco'"
   ]
  },
  {
   "cell_type": "markdown",
   "metadata": {},
   "source": [
    "# featurizer"
   ]
  },
  {
   "cell_type": "code",
   "execution_count": 3,
   "metadata": {},
   "outputs": [],
   "source": [
    "tmp_feature_dir = './tmpignore'\n",
    "if not os.path.exists(tmp_feature_dir):\n",
    "    os.makedirs(tmp_feature_dir)\n",
    "    \n",
    "mp1 = molmap.loadmap('../descriptor.mp')\n",
    "mp2 = molmap.loadmap('../fingerprint.mp')\n",
    "\n",
    "X1_name = os.path.join(tmp_feature_dir, 'X1_%s.data' % task_name)\n",
    "X2_name = os.path.join(tmp_feature_dir, 'X2_%s.data' % task_name)\n",
    "if not os.path.exists(X1_name):\n",
    "    X1 = mp1.batch_transform(X_smiles, n_jobs = 8)\n",
    "    dump(X1, X1_name)\n",
    "else:\n",
    "    X1 = load(X1_name)\n",
    "    \n",
    "if not os.path.exists(X2_name): \n",
    "    X2 = mp2.batch_transform(X_smiles, n_jobs = 8)\n",
    "    dump(X2, X2_name)\n",
    "else:\n",
    "    X2 = load(X2_name)"
   ]
  },
  {
   "cell_type": "code",
   "execution_count": 4,
   "metadata": {},
   "outputs": [],
   "source": [
    "def get_idx_and_Y(df, task, split):\n",
    "    train_idx = df[df[split] == 'Train'].index\n",
    "    valid_idx = df[df[split] == 'Test'].index ##according to the paper<page 1256, Data Preparation>, they use this for early stopping\n",
    "    test_idx = df[df[split] == 'Ext'].index #their Ext set is our final test set\n",
    "    def _apply_float(x):\n",
    "        if type(x) == float:\n",
    "            return x\n",
    "        else:\n",
    "            x = x.replace(',','.')\n",
    "            return float(x)\n",
    "    Y = df[task].apply(_apply_float).to_frame().values\n",
    "    Y = np.log10(Y + 1e-8)\n",
    "    print(len(train_idx), len(valid_idx), len(test_idx))\n",
    "    return (train_idx, valid_idx, test_idx), Y"
   ]
  },
  {
   "cell_type": "code",
   "execution_count": 5,
   "metadata": {},
   "outputs": [
    {
     "data": {
      "text/plain": [
       "Index(['ID', 'Canonical_Smiles', 'hlm_clearance[mL.min-1.g-1]',\n",
       "       'rlm_clearance[mL.min-1.g-1]', 'mlm_clearance[mL.min-1.g-1]',\n",
       "       'caco2_PAPP[10^-7cm/s]', 'Set_hlm', 'Set_rlm', 'Set_mlm', 'Set_caco'],\n",
       "      dtype='object')"
      ]
     },
     "execution_count": 5,
     "metadata": {},
     "output_type": "execute_result"
    }
   ],
   "source": [
    "df.columns"
   ]
  },
  {
   "cell_type": "code",
   "execution_count": 6,
   "metadata": {},
   "outputs": [],
   "source": [
    "t = ['hlm_clearance[mL.min-1.g-1]','rlm_clearance[mL.min-1.g-1]', 'mlm_clearance[mL.min-1.g-1]']\n",
    "m = ['Set_hlm', 'Set_rlm', 'Set_mlm']\n",
    "\n",
    "\n",
    "task_epochs = 500\n",
    "alternate_epochs = 1\n",
    "alternate_rounds = 40\n",
    "patience = 10\n",
    "\n",
    "\n",
    "batch_size=128\n",
    "lr = 0.0001\n",
    "\n",
    "dense_layers=[256, 128, 32]\n",
    "dense_avf='relu'\n",
    "last_avf = 'linear'"
   ]
  },
  {
   "cell_type": "code",
   "execution_count": 7,
   "metadata": {},
   "outputs": [
    {
     "name": "stdout",
     "output_type": "stream",
     "text": [
      "4020 801 527\n",
      "1636 331 199\n",
      "617 117 56\n"
     ]
    }
   ],
   "source": [
    "from sklearn.utils import shuffle\n",
    "basemodel_data = []\n",
    "for i, j in zip(t, m):\n",
    "    (train_idx, valid_idx, test_idx), Y = get_idx_and_Y(df, i, j)\n",
    "    trainY = Y[train_idx]\n",
    "    trainX = (X1[train_idx], X2[train_idx])\n",
    "    basemodel_data.append([trainX, trainY])"
   ]
  },
  {
   "cell_type": "markdown",
   "metadata": {},
   "source": [
    "## alternate strategy to train a base model"
   ]
  },
  {
   "cell_type": "code",
   "execution_count": 8,
   "metadata": {},
   "outputs": [
    {
     "name": "stderr",
     "output_type": "stream",
     "text": [
      "  0%|          | 0/40 [00:00<?, ?it/s]"
     ]
    },
    {
     "name": "stdout",
     "output_type": "stream",
     "text": [
      "WARNING:tensorflow:From /home/shenwanxiang/anaconda3/envs/deepchem23/lib/python3.6/site-packages/tensorflow/python/ops/init_ops.py:1251: calling VarianceScaling.__init__ (from tensorflow.python.ops.init_ops) with dtype is deprecated and will be removed in a future version.\n",
      "Instructions for updating:\n",
      "Call initializer instance with the dtype argument instead of passing it to the constructor\n"
     ]
    },
    {
     "name": "stderr",
     "output_type": "stream",
     "text": [
      "100%|██████████| 40/40 [01:01<00:00,  1.41s/it]\n"
     ]
    }
   ],
   "source": [
    "model = None\n",
    "for i in tqdm(range(alternate_rounds)):\n",
    "    basemodel_data = shuffle(basemodel_data) #shffule\n",
    "    for trainX,trainY in basemodel_data:\n",
    "        if model == None:\n",
    "            molmap1_size = X1.shape[1:]\n",
    "            molmap2_size = X2.shape[1:]\n",
    "            model = molmodel.net.DoublePathNet(molmap1_size, molmap2_size, \n",
    "                                               n_outputs = trainY.shape[1],\n",
    "                                               dense_layers = dense_layers,\n",
    "                                               dense_avf = dense_avf, last_avf = last_avf)\n",
    "            opt = tf.keras.optimizers.Adam(lr=lr, beta_1=0.9, beta_2=0.999, epsilon=1e-08, decay=0.0) #\n",
    "            model.compile(optimizer = opt, loss = 'mse')\n",
    "        model.fit(trainX, trainY, batch_size=batch_size, epochs=alternate_epochs, verbose= 0, shuffle = True) #\n",
    "        \n",
    "model.save('./basemodel.h5')"
   ]
  },
  {
   "cell_type": "code",
   "execution_count": null,
   "metadata": {},
   "outputs": [],
   "source": []
  },
  {
   "cell_type": "markdown",
   "metadata": {},
   "source": [
    "## 01.branch training for task of hlm"
   ]
  },
  {
   "cell_type": "code",
   "execution_count": 9,
   "metadata": {},
   "outputs": [
    {
     "name": "stdout",
     "output_type": "stream",
     "text": [
      "4020 801 527\n"
     ]
    }
   ],
   "source": [
    "task = 'hlm_clearance[mL.min-1.g-1]'\n",
    "split = 'Set_hlm'\n",
    "\n",
    "(train_idx, valid_idx, test_idx), Y = get_idx_and_Y(df, task, split)\n",
    "\n",
    "trainY = Y[train_idx]\n",
    "validY = Y[valid_idx]\n",
    "testY = Y[test_idx]\n",
    "\n",
    "trainX = (X1[train_idx], X2[train_idx])\n",
    "validX = (X1[valid_idx], X2[valid_idx])\n",
    "testX  = (X1[test_idx], X2[test_idx])\n"
   ]
  },
  {
   "cell_type": "code",
   "execution_count": 10,
   "metadata": {},
   "outputs": [
    {
     "name": "stdout",
     "output_type": "stream",
     "text": [
      "epoch: 0001, loss: 0.0440 - val_loss: 0.1730; rmse: 0.1936 - rmse_val: 0.4159;  r2: 0.9187 - r2_val: 0.6160                                                                                                    \n",
      "epoch: 0002, loss: 0.0408 - val_loss: 0.1776; rmse: 0.2092 - rmse_val: 0.4214;  r2: 0.9272 - r2_val: 0.6172                                                                                                    \n",
      "epoch: 0003, loss: 0.0375 - val_loss: 0.1727; rmse: 0.1911 - rmse_val: 0.4156;  r2: 0.9327 - r2_val: 0.6195                                                                                                    \n",
      "epoch: 0004, loss: 0.0332 - val_loss: 0.1699; rmse: 0.1729 - rmse_val: 0.4122;  r2: 0.9386 - r2_val: 0.6189                                                                                                    \n",
      "epoch: 0005, loss: 0.0309 - val_loss: 0.1725; rmse: 0.1768 - rmse_val: 0.4153;  r2: 0.9432 - r2_val: 0.6196                                                                                                    \n",
      "epoch: 0006, loss: 0.0307 - val_loss: 0.1668; rmse: 0.1565 - rmse_val: 0.4084;  r2: 0.9480 - r2_val: 0.6237                                                                                                    \n",
      "epoch: 0007, loss: 0.0292 - val_loss: 0.1680; rmse: 0.1527 - rmse_val: 0.4099;  r2: 0.9497 - r2_val: 0.6210                                                                                                    \n",
      "epoch: 0008, loss: 0.0253 - val_loss: 0.1674; rmse: 0.1443 - rmse_val: 0.4091;  r2: 0.9542 - r2_val: 0.6227                                                                                                    \n",
      "epoch: 0009, loss: 0.0233 - val_loss: 0.1691; rmse: 0.1400 - rmse_val: 0.4112;  r2: 0.9574 - r2_val: 0.6195                                                                                                    \n",
      "epoch: 0010, loss: 0.0226 - val_loss: 0.1671; rmse: 0.1335 - rmse_val: 0.4087;  r2: 0.9602 - r2_val: 0.6232                                                                                                    \n",
      "epoch: 0011, loss: 0.0206 - val_loss: 0.1706; rmse: 0.1347 - rmse_val: 0.4130;  r2: 0.9629 - r2_val: 0.6198                                                                                                    \n",
      "epoch: 0012, loss: 0.0208 - val_loss: 0.1713; rmse: 0.1408 - rmse_val: 0.4139;  r2: 0.9642 - r2_val: 0.6200                                                                                                    \n",
      "epoch: 0013, loss: 0.0188 - val_loss: 0.1694; rmse: 0.1261 - rmse_val: 0.4115;  r2: 0.9649 - r2_val: 0.6185                                                                                                    \n",
      "epoch: 0014, loss: 0.0182 - val_loss: 0.1683; rmse: 0.1188 - rmse_val: 0.4102;  r2: 0.9687 - r2_val: 0.6208                                                                                                    \n",
      "epoch: 0015, loss: 0.0235 - val_loss: 0.1865; rmse: 0.1698 - rmse_val: 0.4319;  r2: 0.9685 - r2_val: 0.6184                                                                                                    \n",
      "epoch: 0016, loss: 0.0201 - val_loss: 0.1761; rmse: 0.1472 - rmse_val: 0.4197;  r2: 0.9701 - r2_val: 0.6189                                                                                                    \n",
      "\n",
      "Restoring model weights from the end of the best epoch.\n",
      "\n",
      "Epoch 00016: early stopping\n"
     ]
    },
    {
     "data": {
      "text/plain": [
       "<tensorflow.python.keras.callbacks.History at 0x7f0a395afda0>"
      ]
     },
     "execution_count": 10,
     "metadata": {},
     "output_type": "execute_result"
    }
   ],
   "source": [
    "performance = molmodel.cbks.Reg_EarlyStoppingAndPerformance((trainX, trainY), \n",
    "                                                               (validX, validY),\n",
    "                                                               MASK=1e8,\n",
    "                                                               patience = patience, \n",
    "                                                               criteria = 'val_loss',\n",
    "                                                              )\n",
    "\n",
    "opt = tf.keras.optimizers.Adam(lr = lr, beta_1=0.9, beta_2=0.999, epsilon=1e-08, decay=0.0) #\n",
    "model.load_weights('./basemodel.h5')\n",
    "model.fit(trainX, trainY, batch_size=batch_size, \n",
    "      epochs=task_epochs, verbose= 0, shuffle = True, \n",
    "      validation_data = (validX, validY), \n",
    "      callbacks=[performance]) #"
   ]
  },
  {
   "cell_type": "code",
   "execution_count": 11,
   "metadata": {},
   "outputs": [
    {
     "data": {
      "text/plain": [
       "<matplotlib.axes._subplots.AxesSubplot at 0x7f0a3f7736a0>"
      ]
     },
     "execution_count": 11,
     "metadata": {},
     "output_type": "execute_result"
    },
    {
     "data": {
      "image/png": "[encoded data removed]",
      "text/plain": [
       "<Figure size 432x288 with 1 Axes>"
      ]
     },
     "metadata": {
      "needs_background": "light"
     },
     "output_type": "display_data"
    }
   ],
   "source": [
    "dfp = pd.DataFrame(performance.history)[['r2', 'val_r2']]\n",
    "dfp.plot()"
   ]
  },
  {
   "cell_type": "code",
   "execution_count": 12,
   "metadata": {},
   "outputs": [
    {
     "data": {
      "text/plain": [
       "([0.15650891531946762], [0.9479566979884002])"
      ]
     },
     "execution_count": 12,
     "metadata": {},
     "output_type": "execute_result"
    }
   ],
   "source": [
    "performance.evaluate(trainX, trainY) # RMSE, R^2"
   ]
  },
  {
   "cell_type": "code",
   "execution_count": 13,
   "metadata": {},
   "outputs": [
    {
     "data": {
      "text/plain": [
       "([0.4084460299405322], [0.6237163850121752])"
      ]
     },
     "execution_count": 13,
     "metadata": {},
     "output_type": "execute_result"
    }
   ],
   "source": [
    "performance.evaluate(validX, validY) # RMSE, R^2"
   ]
  },
  {
   "cell_type": "code",
   "execution_count": 14,
   "metadata": {},
   "outputs": [
    {
     "data": {
      "text/plain": [
       "([0.42705363069542096], [0.5797107759029823])"
      ]
     },
     "execution_count": 14,
     "metadata": {},
     "output_type": "execute_result"
    }
   ],
   "source": [
    "performance.evaluate(testX, testY) # RMSE, R^2"
   ]
  },
  {
   "cell_type": "markdown",
   "metadata": {},
   "source": [
    "## 02.branch training for task of rlm"
   ]
  },
  {
   "cell_type": "code",
   "execution_count": 15,
   "metadata": {},
   "outputs": [
    {
     "name": "stdout",
     "output_type": "stream",
     "text": [
      "1636 331 199\n"
     ]
    }
   ],
   "source": [
    "task = 'rlm_clearance[mL.min-1.g-1]'\n",
    "split = 'Set_rlm'\n",
    "\n",
    "(train_idx, valid_idx, test_idx), Y = get_idx_and_Y(df, task, split)\n",
    "\n",
    "trainY = Y[train_idx]\n",
    "validY = Y[valid_idx]\n",
    "testY = Y[test_idx]\n",
    "\n",
    "trainX = (X1[train_idx], X2[train_idx])\n",
    "validX = (X1[valid_idx], X2[valid_idx])\n",
    "testX  = (X1[test_idx], X2[test_idx])"
   ]
  },
  {
   "cell_type": "code",
   "execution_count": 16,
   "metadata": {},
   "outputs": [
    {
     "name": "stdout",
     "output_type": "stream",
     "text": [
      "epoch: 0001, loss: 0.0783 - val_loss: 0.1862; rmse: 0.2411 - rmse_val: 0.4316;  r2: 0.9228 - r2_val: 0.7116                                                                                                    \n",
      "epoch: 0002, loss: 0.0513 - val_loss: 0.1722; rmse: 0.2010 - rmse_val: 0.4150;  r2: 0.9372 - r2_val: 0.7327                                                                                                    \n",
      "epoch: 0003, loss: 0.0436 - val_loss: 0.1764; rmse: 0.2108 - rmse_val: 0.4199;  r2: 0.9468 - r2_val: 0.7299                                                                                                    \n",
      "epoch: 0004, loss: 0.0367 - val_loss: 0.1673; rmse: 0.1688 - rmse_val: 0.4090;  r2: 0.9544 - r2_val: 0.7362                                                                                                    \n",
      "epoch: 0005, loss: 0.0304 - val_loss: 0.1686; rmse: 0.1634 - rmse_val: 0.4106;  r2: 0.9591 - r2_val: 0.7393                                                                                                    \n",
      "epoch: 0006, loss: 0.0267 - val_loss: 0.1693; rmse: 0.1569 - rmse_val: 0.4115;  r2: 0.9631 - r2_val: 0.7392                                                                                                    \n",
      "epoch: 0007, loss: 0.0238 - val_loss: 0.1642; rmse: 0.1462 - rmse_val: 0.4052;  r2: 0.9664 - r2_val: 0.7396                                                                                                    \n",
      "epoch: 0008, loss: 0.0221 - val_loss: 0.1684; rmse: 0.1432 - rmse_val: 0.4103;  r2: 0.9690 - r2_val: 0.7404                                                                                                    \n",
      "epoch: 0009, loss: 0.0214 - val_loss: 0.1622; rmse: 0.1398 - rmse_val: 0.4027;  r2: 0.9713 - r2_val: 0.7433                                                                                                    \n",
      "epoch: 0010, loss: 0.0207 - val_loss: 0.1632; rmse: 0.1350 - rmse_val: 0.4040;  r2: 0.9716 - r2_val: 0.7413                                                                                                    \n",
      "epoch: 0011, loss: 0.0209 - val_loss: 0.1675; rmse: 0.1293 - rmse_val: 0.4092;  r2: 0.9748 - r2_val: 0.7412                                                                                                    \n",
      "epoch: 0012, loss: 0.0200 - val_loss: 0.1781; rmse: 0.1515 - rmse_val: 0.4220;  r2: 0.9768 - r2_val: 0.7408                                                                                                    \n",
      "epoch: 0013, loss: 0.0170 - val_loss: 0.1627; rmse: 0.1162 - rmse_val: 0.4033;  r2: 0.9780 - r2_val: 0.7438                                                                                                    \n",
      "epoch: 0014, loss: 0.0141 - val_loss: 0.1633; rmse: 0.1140 - rmse_val: 0.4041;  r2: 0.9799 - r2_val: 0.7453                                                                                                    \n",
      "epoch: 0015, loss: 0.0136 - val_loss: 0.1647; rmse: 0.1137 - rmse_val: 0.4058;  r2: 0.9809 - r2_val: 0.7454                                                                                                    \n",
      "epoch: 0016, loss: 0.0156 - val_loss: 0.1640; rmse: 0.1095 - rmse_val: 0.4050;  r2: 0.9815 - r2_val: 0.7450                                                                                                    \n",
      "epoch: 0017, loss: 0.0146 - val_loss: 0.1668; rmse: 0.1139 - rmse_val: 0.4084;  r2: 0.9826 - r2_val: 0.7451                                                                                                    \n",
      "epoch: 0018, loss: 0.0132 - val_loss: 0.1739; rmse: 0.1329 - rmse_val: 0.4170;  r2: 0.9835 - r2_val: 0.7459                                                                                                    \n",
      "epoch: 0019, loss: 0.0144 - val_loss: 0.1716; rmse: 0.1282 - rmse_val: 0.4142;  r2: 0.9833 - r2_val: 0.7464                                                                                                    \n",
      "\n",
      "Restoring model weights from the end of the best epoch.\n",
      "\n",
      "Epoch 00019: early stopping\n"
     ]
    },
    {
     "data": {
      "text/plain": [
       "<tensorflow.python.keras.callbacks.History at 0x7f0a3f7734a8>"
      ]
     },
     "execution_count": 16,
     "metadata": {},
     "output_type": "execute_result"
    }
   ],
   "source": [
    "performance = molmodel.cbks.Reg_EarlyStoppingAndPerformance((trainX, trainY), \n",
    "                                                               (validX, validY),\n",
    "                                                               MASK=1e8,\n",
    "                                                               patience = patience, \n",
    "                                                               criteria = 'val_loss',\n",
    "                                                              )\n",
    "\n",
    "opt = tf.keras.optimizers.Adam(lr = lr, beta_1=0.9, beta_2=0.999, epsilon=1e-08, decay=0.0) #\n",
    "model.load_weights('./basemodel.h5')\n",
    "model.fit(trainX, trainY, batch_size=batch_size, \n",
    "      epochs=task_epochs, verbose= 0, shuffle = True, \n",
    "      validation_data = (validX, validY), \n",
    "      callbacks=[performance]) #\n"
   ]
  },
  {
   "cell_type": "code",
   "execution_count": 17,
   "metadata": {},
   "outputs": [
    {
     "data": {
      "text/plain": [
       "<matplotlib.axes._subplots.AxesSubplot at 0x7f0a2d429c50>"
      ]
     },
     "execution_count": 17,
     "metadata": {},
     "output_type": "execute_result"
    },
    {
     "data": {
      "image/png": "[encoded data removed]",
      "text/plain": [
       "<Figure size 432x288 with 1 Axes>"
      ]
     },
     "metadata": {
      "needs_background": "light"
     },
     "output_type": "display_data"
    }
   ],
   "source": [
    "dfp = pd.DataFrame(performance.history)[['r2', 'val_r2']]\n",
    "dfp.plot()"
   ]
  },
  {
   "cell_type": "code",
   "execution_count": 18,
   "metadata": {},
   "outputs": [
    {
     "data": {
      "text/plain": [
       "([0.13983376508704334], [0.9713406014885144])"
      ]
     },
     "execution_count": 18,
     "metadata": {},
     "output_type": "execute_result"
    }
   ],
   "source": [
    "performance.evaluate(trainX, trainY) # RMSE, R^2"
   ]
  },
  {
   "cell_type": "code",
   "execution_count": 19,
   "metadata": {},
   "outputs": [
    {
     "data": {
      "text/plain": [
       "([0.4027403467623635], [0.7432707657720055])"
      ]
     },
     "execution_count": 19,
     "metadata": {},
     "output_type": "execute_result"
    }
   ],
   "source": [
    "performance.evaluate(validX, validY) # RMSE, R^2"
   ]
  },
  {
   "cell_type": "code",
   "execution_count": 20,
   "metadata": {},
   "outputs": [
    {
     "data": {
      "text/plain": [
       "([0.3506525369176651], [0.7892490109157458])"
      ]
     },
     "execution_count": 20,
     "metadata": {},
     "output_type": "execute_result"
    }
   ],
   "source": [
    "performance.evaluate(testX, testY) # RMSE, R^2"
   ]
  },
  {
   "cell_type": "code",
   "execution_count": null,
   "metadata": {},
   "outputs": [],
   "source": []
  },
  {
   "cell_type": "markdown",
   "metadata": {},
   "source": [
    "## 03.branch training for task of mlm"
   ]
  },
  {
   "cell_type": "code",
   "execution_count": 21,
   "metadata": {},
   "outputs": [
    {
     "name": "stdout",
     "output_type": "stream",
     "text": [
      "617 117 56\n"
     ]
    }
   ],
   "source": [
    "task = 'mlm_clearance[mL.min-1.g-1]'\n",
    "split = 'Set_mlm'\n",
    "\n",
    "\n",
    "(train_idx, valid_idx, test_idx), Y = get_idx_and_Y(df, task, split)\n",
    "\n",
    "trainY = Y[train_idx]\n",
    "validY = Y[valid_idx]\n",
    "testY = Y[test_idx]\n",
    "\n",
    "trainX = (X1[train_idx], X2[train_idx])\n",
    "validX = (X1[valid_idx], X2[valid_idx])\n",
    "testX  = (X1[test_idx], X2[test_idx])\n"
   ]
  },
  {
   "cell_type": "code",
   "execution_count": 22,
   "metadata": {},
   "outputs": [
    {
     "name": "stdout",
     "output_type": "stream",
     "text": [
      "epoch: 0001, loss: 0.1066 - val_loss: 0.2664; rmse: 0.3416 - rmse_val: 0.5161;  r2: 0.8996 - r2_val: 0.6414                                                                                                    \n",
      "epoch: 0002, loss: 0.0864 - val_loss: 0.2185; rmse: 0.2552 - rmse_val: 0.4675;  r2: 0.9126 - r2_val: 0.6366                                                                                                    \n",
      "epoch: 0003, loss: 0.0576 - val_loss: 0.2231; rmse: 0.2330 - rmse_val: 0.4723;  r2: 0.9245 - r2_val: 0.6191                                                                                                    \n",
      "epoch: 0004, loss: 0.0514 - val_loss: 0.2260; rmse: 0.2183 - rmse_val: 0.4755;  r2: 0.9353 - r2_val: 0.6138                                                                                                    \n",
      "epoch: 0005, loss: 0.0453 - val_loss: 0.2063; rmse: 0.1858 - rmse_val: 0.4542;  r2: 0.9441 - r2_val: 0.6247                                                                                                    \n",
      "epoch: 0006, loss: 0.0417 - val_loss: 0.2016; rmse: 0.1736 - rmse_val: 0.4490;  r2: 0.9504 - r2_val: 0.6276                                                                                                    \n",
      "epoch: 0007, loss: 0.0367 - val_loss: 0.1955; rmse: 0.1702 - rmse_val: 0.4422;  r2: 0.9548 - r2_val: 0.6336                                                                                                    \n",
      "epoch: 0008, loss: 0.0299 - val_loss: 0.1974; rmse: 0.1738 - rmse_val: 0.4443;  r2: 0.9596 - r2_val: 0.6305                                                                                                    \n",
      "epoch: 0009, loss: 0.0273 - val_loss: 0.1985; rmse: 0.1695 - rmse_val: 0.4455;  r2: 0.9631 - r2_val: 0.6289                                                                                                    \n",
      "epoch: 0010, loss: 0.0242 - val_loss: 0.2016; rmse: 0.1444 - rmse_val: 0.4490;  r2: 0.9657 - r2_val: 0.6258                                                                                                    \n",
      "epoch: 0011, loss: 0.0219 - val_loss: 0.2038; rmse: 0.1382 - rmse_val: 0.4515;  r2: 0.9683 - r2_val: 0.6245                                                                                                    \n",
      "epoch: 0012, loss: 0.0218 - val_loss: 0.2027; rmse: 0.1335 - rmse_val: 0.4503;  r2: 0.9704 - r2_val: 0.6258                                                                                                    \n",
      "epoch: 0013, loss: 0.0198 - val_loss: 0.2025; rmse: 0.1290 - rmse_val: 0.4500;  r2: 0.9724 - r2_val: 0.6269                                                                                                    \n",
      "epoch: 0014, loss: 0.0183 - val_loss: 0.2029; rmse: 0.1255 - rmse_val: 0.4504;  r2: 0.9740 - r2_val: 0.6255                                                                                                    \n",
      "epoch: 0015, loss: 0.0172 - val_loss: 0.2052; rmse: 0.1220 - rmse_val: 0.4530;  r2: 0.9753 - r2_val: 0.6224                                                                                                    \n",
      "epoch: 0016, loss: 0.0155 - val_loss: 0.2022; rmse: 0.1226 - rmse_val: 0.4497;  r2: 0.9765 - r2_val: 0.6230                                                                                                    \n",
      "epoch: 0017, loss: 0.0157 - val_loss: 0.1992; rmse: 0.1225 - rmse_val: 0.4463;  r2: 0.9775 - r2_val: 0.6279                                                                                                    \n",
      "\n",
      "Restoring model weights from the end of the best epoch.\n",
      "\n",
      "Epoch 00017: early stopping\n"
     ]
    },
    {
     "data": {
      "text/plain": [
       "<tensorflow.python.keras.callbacks.History at 0x7f0a2d407390>"
      ]
     },
     "execution_count": 22,
     "metadata": {},
     "output_type": "execute_result"
    }
   ],
   "source": [
    "performance = molmodel.cbks.Reg_EarlyStoppingAndPerformance((trainX, trainY), \n",
    "                                                               (validX, validY),\n",
    "                                                               MASK=1e8,\n",
    "                                                               patience = patience, \n",
    "                                                               criteria = 'val_loss',\n",
    "                                                              )\n",
    "\n",
    "opt = tf.keras.optimizers.Adam(lr = lr, beta_1=0.9, beta_2=0.999, epsilon=1e-08, decay=0.0) #\n",
    "model.load_weights('./basemodel.h5')\n",
    "model.fit(trainX, trainY, batch_size=batch_size, \n",
    "      epochs=task_epochs, verbose= 0, shuffle = True, \n",
    "      validation_data = (validX, validY), \n",
    "      callbacks=[performance]) #"
   ]
  },
  {
   "cell_type": "code",
   "execution_count": 23,
   "metadata": {},
   "outputs": [
    {
     "data": {
      "text/plain": [
       "([0.17017886005393867], [0.9548359921669104])"
      ]
     },
     "execution_count": 23,
     "metadata": {},
     "output_type": "execute_result"
    }
   ],
   "source": [
    "performance.evaluate(trainX, trainY) # RMSE, R^2"
   ]
  },
  {
   "cell_type": "code",
   "execution_count": 24,
   "metadata": {},
   "outputs": [
    {
     "data": {
      "text/plain": [
       "([0.4421960985447453], [0.6335996177110838])"
      ]
     },
     "execution_count": 24,
     "metadata": {},
     "output_type": "execute_result"
    }
   ],
   "source": [
    "performance.evaluate(validX, validY) # RMSE, R^2"
   ]
  },
  {
   "cell_type": "code",
   "execution_count": 25,
   "metadata": {},
   "outputs": [
    {
     "data": {
      "text/plain": [
       "([0.4908624713106153], [0.5260398861641483])"
      ]
     },
     "execution_count": 25,
     "metadata": {},
     "output_type": "execute_result"
    }
   ],
   "source": [
    "performance.evaluate(testX, testY) # RMSE, R^2"
   ]
  },
  {
   "cell_type": "code",
   "execution_count": 26,
   "metadata": {},
   "outputs": [
    {
     "data": {
      "text/plain": [
       "803681"
      ]
     },
     "execution_count": 26,
     "metadata": {},
     "output_type": "execute_result"
    }
   ],
   "source": [
    "model.count_params()"
   ]
  },
  {
   "cell_type": "code",
   "execution_count": null,
   "metadata": {},
   "outputs": [],
   "source": []
  },
  {
   "cell_type": "code",
   "execution_count": null,
   "metadata": {},
   "outputs": [],
   "source": []
  },
  {
   "cell_type": "code",
   "execution_count": null,
   "metadata": {},
   "outputs": [],
   "source": []
  },
  {
   "cell_type": "code",
   "execution_count": null,
   "metadata": {},
   "outputs": [],
   "source": []
  }
 ],
 "metadata": {
  "kernelspec": {
   "display_name": "Python 3",
   "language": "python",
   "name": "python3"
  },
  "language_info": {
   "codemirror_mode": {
    "name": "ipython",
    "version": 3
   },
   "file_extension": ".py",
   "mimetype": "text/x-python",
   "name": "python",
   "nbconvert_exporter": "python",
   "pygments_lexer": "ipython3",
   "version": "3.6.10"
  }
 },
 "nbformat": 4,
 "nbformat_minor": 4
}
