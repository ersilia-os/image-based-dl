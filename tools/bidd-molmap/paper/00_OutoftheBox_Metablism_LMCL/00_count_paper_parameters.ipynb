{
 "cells": [
  {
   "cell_type": "markdown",
   "metadata": {},
   "source": [
    "# Counting multi-task model parameters in paper of :\n",
    "### `Predictive Multitask Deep Neural Network Models for ADME-Tox Properties: Learning from Large Data Sets`\n"
   ]
  },
  {
   "cell_type": "markdown",
   "metadata": {},
   "source": [
    "## Single/multi task"
   ]
  },
  {
   "cell_type": "code",
   "execution_count": 5,
   "metadata": {},
   "outputs": [
    {
     "data": {
      "text/plain": [
       "44678701"
      ]
     },
     "execution_count": 5,
     "metadata": {},
     "output_type": "execute_result"
    }
   ],
   "source": [
    "from tensorflow.keras.utils import plot_model\n",
    "from tensorflow.keras import Model, Input\n",
    "from tensorflow.keras.layers import MaxPool2D, GlobalMaxPool2D, BatchNormalization, Activation\n",
    "from tensorflow.keras.layers import Conv2D, Concatenate,Flatten, Dense, Dropout\n",
    "\n",
    "\n",
    "inputs = Input(shape = (6937))\n",
    "d1 = Dense(6000)(inputs)\n",
    "d1 = Dense(500)(d1)\n",
    "d1 = Dense(100)(d1)\n",
    "outputs = Dense(1)(d1)\n",
    "\n",
    "model = Model(inputs, outputs)\n",
    "\n",
    "model.count_params()"
   ]
  },
  {
   "cell_type": "code",
   "execution_count": 6,
   "metadata": {},
   "outputs": [
    {
     "data": {
      "text/plain": [
       "29504701"
      ]
     },
     "execution_count": 6,
     "metadata": {},
     "output_type": "execute_result"
    }
   ],
   "source": [
    "inputs = Input(shape = (4408))\n",
    "d1 = Dense(6000)(inputs)\n",
    "d1 = Dense(500)(d1)\n",
    "d1 = Dense(100)(d1)\n",
    "outputs = Dense(1)(d1)\n",
    "\n",
    "model = Model(inputs, outputs)\n",
    "\n",
    "model.count_params()"
   ]
  },
  {
   "cell_type": "code",
   "execution_count": 7,
   "metadata": {},
   "outputs": [
    {
     "data": {
      "text/plain": [
       "32150701"
      ]
     },
     "execution_count": 7,
     "metadata": {},
     "output_type": "execute_result"
    }
   ],
   "source": [
    "inputs = Input(shape = (4849))\n",
    "d1 = Dense(6000)(inputs)\n",
    "d1 = Dense(500)(d1)\n",
    "d1 = Dense(100)(d1)\n",
    "outputs = Dense(1)(d1)\n",
    "\n",
    "model = Model(inputs, outputs)\n",
    "\n",
    "model.count_params()"
   ]
  },
  {
   "cell_type": "code",
   "execution_count": 8,
   "metadata": {},
   "outputs": [
    {
     "data": {
      "text/plain": [
       "([44678701, 29504701, 32150701], [6937, 4408, 4849])"
      ]
     },
     "execution_count": 8,
     "metadata": {},
     "output_type": "execute_result"
    }
   ],
   "source": [
    "[44678701, 29504701, 32150701], [6937, 4408 , 4849]"
   ]
  },
  {
   "cell_type": "code",
   "execution_count": null,
   "metadata": {},
   "outputs": [],
   "source": []
  },
  {
   "cell_type": "code",
   "execution_count": null,
   "metadata": {},
   "outputs": [],
   "source": []
  },
  {
   "cell_type": "code",
   "execution_count": null,
   "metadata": {},
   "outputs": [],
   "source": []
  },
  {
   "cell_type": "code",
   "execution_count": null,
   "metadata": {},
   "outputs": [],
   "source": []
  }
 ],
 "metadata": {
  "kernelspec": {
   "display_name": "Python 3",
   "language": "python",
   "name": "python3"
  },
  "language_info": {
   "codemirror_mode": {
    "name": "ipython",
    "version": 3
   },
   "file_extension": ".py",
   "mimetype": "text/x-python",
   "name": "python",
   "nbconvert_exporter": "python",
   "pygments_lexer": "ipython3",
   "version": "3.6.9"
  }
 },
 "nbformat": 4,
 "nbformat_minor": 4
}
