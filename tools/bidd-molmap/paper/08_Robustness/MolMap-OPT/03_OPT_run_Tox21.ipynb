{
 "cells": [
  {
   "cell_type": "code",
   "execution_count": 1,
   "metadata": {},
   "outputs": [],
   "source": [
    "#### !/usr/bin/env python\n",
    "# coding: utf-8\n",
    "from molmap.model import RegressionEstimator, MultiClassEstimator, MultiLabelEstimator\n",
    "from molmap import loadmap\n",
    "from molmap.show import imshow_wrap\n",
    "import molmap\n",
    "from molmap import MolMap\n",
    "\n",
    "from sklearn.utils import shuffle \n",
    "from joblib import load, dump\n",
    "import numpy as np\n",
    "import pandas as pd\n",
    "import os\n",
    "\n",
    "from chembench import dataset\n",
    "\n",
    "def get_pos_weights(trainY):\n",
    "    \"\"\"pos_weights: neg_n / pos_n \"\"\"\n",
    "    dfY = pd.DataFrame(trainY)\n",
    "    pos = dfY == 1\n",
    "    pos_n = pos.sum(axis=0)\n",
    "    neg = dfY == 0\n",
    "    neg_n = neg.sum(axis=0)\n",
    "    pos_weights = (neg_n / pos_n).values\n",
    "    neg_weights = (pos_n / neg_n).values\n",
    "    return pos_weights, neg_weights"
   ]
  },
  {
   "cell_type": "markdown",
   "metadata": {},
   "source": [
    "### optimized hyper-parameters"
   ]
  },
  {
   "cell_type": "code",
   "execution_count": 2,
   "metadata": {},
   "outputs": [],
   "source": [
    "### optimized hyper-parameters\n",
    "n_neighbors = 15\n",
    "input_feature_maps = 'both'\n",
    "batch_size = 64\n",
    "lr = 1e-4\n",
    "dense_layers = [128]"
   ]
  },
  {
   "cell_type": "code",
   "execution_count": 3,
   "metadata": {},
   "outputs": [
    {
     "name": "stdout",
     "output_type": "stream",
     "text": [
      "total samples: 7831\n"
     ]
    }
   ],
   "source": [
    "## random\n",
    "data = dataset.load_Tox21()\n",
    "task_name = data.task_name\n",
    "task_type = data.task_type\n",
    "\n",
    "Y = pd.DataFrame(data.y).fillna(-1).values\n",
    "df = data.df\n",
    "n_outputs = Y.shape[1]\n",
    "\n",
    "gpuid = 4 # which gpu to use\n",
    "\n",
    "random_seeds = [2, 16, 32, 64, 128, 256, 512, 1024, 2048, 4096]"
   ]
  },
  {
   "cell_type": "code",
   "execution_count": 4,
   "metadata": {},
   "outputs": [
    {
     "name": "stdout",
     "output_type": "stream",
     "text": [
      "UMAP(metric='precomputed', random_state=1, verbose=2)\n",
      "Construct fuzzy simplicial set\n",
      "Fri Sep 25 00:17:02 2020 Finding Nearest Neighbors\n",
      "Fri Sep 25 00:17:02 2020 Finished Nearest Neighbor Search\n",
      "Fri Sep 25 00:17:04 2020 Construct embedding\n",
      "\tcompleted  0  /  500 epochs\n",
      "\tcompleted  50  /  500 epochs\n",
      "\tcompleted  100  /  500 epochs\n",
      "\tcompleted  150  /  500 epochs\n",
      "\tcompleted  200  /  500 epochs\n",
      "\tcompleted  250  /  500 epochs\n",
      "\tcompleted  300  /  500 epochs\n",
      "\tcompleted  350  /  500 epochs\n",
      "\tcompleted  400  /  500 epochs\n",
      "\tcompleted  450  /  500 epochs\n",
      "Fri Sep 25 00:17:09 2020 Finished embedding\n",
      "2020-09-25 00:17:09,708 - \u001b[32mINFO\u001b[0m - [bidd-molmap]\u001b[0m - Applying grid feature map(assignment), this may take several minutes(1~30 min)\u001b[0m\n",
      "2020-09-25 00:17:13,731 - \u001b[32mINFO\u001b[0m - [bidd-molmap]\u001b[0m - Finished\u001b[0m\n",
      "UMAP(metric='precomputed', random_state=1, verbose=2)\n",
      "Construct fuzzy simplicial set\n",
      "Fri Sep 25 00:17:13 2020 Finding Nearest Neighbors\n",
      "Fri Sep 25 00:17:13 2020 Finished Nearest Neighbor Search\n",
      "Fri Sep 25 00:17:13 2020 Construct embedding\n",
      "\tcompleted  0  /  500 epochs\n",
      "\tcompleted  50  /  500 epochs\n",
      "\tcompleted  100  /  500 epochs\n",
      "\tcompleted  150  /  500 epochs\n",
      "\tcompleted  200  /  500 epochs\n",
      "\tcompleted  250  /  500 epochs\n",
      "\tcompleted  300  /  500 epochs\n",
      "\tcompleted  350  /  500 epochs\n",
      "\tcompleted  400  /  500 epochs\n",
      "\tcompleted  450  /  500 epochs\n",
      "Fri Sep 25 00:17:16 2020 Finished embedding\n",
      "2020-09-25 00:17:16,900 - \u001b[32mINFO\u001b[0m - [bidd-molmap]\u001b[0m - Applying grid feature map(assignment), this may take several minutes(1~30 min)\u001b[0m\n",
      "2020-09-25 00:17:20,281 - \u001b[32mINFO\u001b[0m - [bidd-molmap]\u001b[0m - Finished\u001b[0m\n"
     ]
    }
   ],
   "source": [
    "mp1 = loadmap('../../descriptor.mp')\n",
    "mp1.fit(method = 'umap',  n_neighbors = n_neighbors)\n",
    "\n",
    "mp2 = loadmap('../../fingerprint.mp')\n",
    "mp2.fit(method = 'umap',  n_neighbors = n_neighbors)"
   ]
  },
  {
   "cell_type": "code",
   "execution_count": null,
   "metadata": {},
   "outputs": [],
   "source": []
  },
  {
   "cell_type": "code",
   "execution_count": 5,
   "metadata": {},
   "outputs": [
    {
     "name": "stderr",
     "output_type": "stream",
     "text": [
      "100%|##########| 7831/7831 [10:12<00:00, 12.78it/s]\n",
      "100%|##########| 7831/7831 [02:38<00:00, 49.34it/s]\n"
     ]
    }
   ],
   "source": [
    "X1 = mp1.batch_transform(df.smiles.tolist(), n_jobs = 16)\n",
    "X2 = mp2.batch_transform(df.smiles.tolist(), n_jobs = 16)"
   ]
  },
  {
   "cell_type": "code",
   "execution_count": null,
   "metadata": {},
   "outputs": [],
   "source": []
  },
  {
   "cell_type": "code",
   "execution_count": 6,
   "metadata": {},
   "outputs": [],
   "source": [
    "fmap_shape1= X1.shape[1:]\n",
    "fmap_shape2= X2.shape[1:]"
   ]
  },
  {
   "cell_type": "code",
   "execution_count": null,
   "metadata": {},
   "outputs": [],
   "source": []
  },
  {
   "cell_type": "code",
   "execution_count": 8,
   "metadata": {},
   "outputs": [],
   "source": [
    "file_path = \"/raid/shenwanxiang/08_Robustness/dataset_induces/split\" #split\n",
    "\n",
    "result_file = 'OPT_%s.csv' % task_name\n",
    "\n",
    "with open(result_file, 'w+') as f:\n",
    "    f.write('task_name, seed, valid_auc, test_auc\\n')\n",
    "\n",
    "# the dense layers for these multi outputs tasks\n",
    "\n",
    "res = []\n",
    "for seed in random_seeds:\n",
    "\n",
    "    train_path = os.path.join(file_path, task_name,\"%s\" % seed, \"train.csv\")\n",
    "    valid_path = os.path.join(file_path, task_name,\"%s\" % seed, \"val.csv\")\n",
    "    test_path = os.path.join(file_path, task_name,\"%s\" % seed, \"test.csv\")\n",
    "\n",
    "    train_df = pd.read_csv(train_path)\n",
    "    valid_df = pd.read_csv(valid_path)\n",
    "    test_df = pd.read_csv(test_path)\n",
    "\n",
    "    train_idx = df[df.smiles.isin(train_df.smiles)].index.tolist()\n",
    "    valid_idx = df[df.smiles.isin(valid_df.smiles)].index.tolist()\n",
    "    test_idx = df[df.smiles.isin(test_df.smiles)].index.tolist()\n",
    "\n",
    "    print(len(train_idx), len(valid_idx), len(test_idx))\n",
    "\n",
    "    X_train = (X1[train_idx], X2[train_idx])\n",
    "    y_train = Y[train_idx]\n",
    "\n",
    "    X_valid = (X1[valid_idx], X2[valid_idx])\n",
    "    y_valid = Y[valid_idx]\n",
    "\n",
    "    X_test = (X1[test_idx], X2[test_idx])\n",
    "    y_test = Y[test_idx]    \n",
    "\n",
    "    pos_weights, neg_weights = get_pos_weights(y_train)\n",
    "    loss = lambda y_true, y_pred: molmap.model.loss.weighted_cross_entropy(y_true,y_pred, pos_weights, MASK = -1)\n",
    "\n",
    "    clf = MultiLabelEstimator(n_outputs,\n",
    "                              fmap_shape1, fmap_shape2, \n",
    "                              batch_size = batch_size,\n",
    "                              dense_layers = dense_layers,\n",
    "                              gpuid = gpuid, loss = loss, lr = lr,\n",
    "                              monitor = 'val_auc',\n",
    "                             ) \n",
    "    clf.fit(X_train,y_train, X_valid, y_valid)\n",
    "\n",
    "\n",
    "    train_aucs = clf._performance.evaluate(X_train,y_train)\n",
    "    valid_aucs = clf._performance.evaluate(X_valid,y_valid)            \n",
    "    test_aucs = clf._performance.evaluate(X_test,y_test)\n",
    "\n",
    "    train_auc = np.nanmean(train_aucs)\n",
    "    valid_auc = np.nanmean(valid_aucs)\n",
    "    test_auc = np.nanmean(test_aucs)\n",
    "\n",
    "    final_res = {'seed': seed,\n",
    "                 \"task_name\": task_name,\n",
    "                 'train_auc':train_auc, \n",
    "                 'valid_auc':valid_auc,                      \n",
    "                 'test_auc':test_auc,}\n",
    "\n",
    "    print(final_res)\n",
    "\n",
    "    with open(result_file, 'a+') as f:\n",
    "        f.write('%s, %s, %s, %s\\n' % (task_name, seed, valid_auc, test_auc))\n",
    "\n",
    "    res.append(final_res)"
   ]
  },
  {
   "cell_type": "code",
   "execution_count": null,
   "metadata": {},
   "outputs": [],
   "source": []
  },
  {
   "cell_type": "code",
   "execution_count": null,
   "metadata": {},
   "outputs": [],
   "source": []
  },
  {
   "cell_type": "code",
   "execution_count": null,
   "metadata": {},
   "outputs": [],
   "source": []
  },
  {
   "cell_type": "code",
   "execution_count": null,
   "metadata": {},
   "outputs": [],
   "source": []
  }
 ],
 "metadata": {
  "kernelspec": {
   "display_name": "Python 3",
   "language": "python",
   "name": "python3"
  },
  "language_info": {
   "codemirror_mode": {
    "name": "ipython",
    "version": 3
   },
   "file_extension": ".py",
   "mimetype": "text/x-python",
   "name": "python",
   "nbconvert_exporter": "python",
   "pygments_lexer": "ipython3",
   "version": "3.6.9"
  }
 },
 "nbformat": 4,
 "nbformat_minor": 4
}
