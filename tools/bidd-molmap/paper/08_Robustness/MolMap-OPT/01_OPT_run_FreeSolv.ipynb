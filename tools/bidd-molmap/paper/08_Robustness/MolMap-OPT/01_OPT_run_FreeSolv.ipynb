{
 "cells": [
  {
   "cell_type": "code",
   "execution_count": 1,
   "metadata": {},
   "outputs": [],
   "source": [
    "#### !/usr/bin/env python\n",
    "# coding: utf-8\n",
    "from molmap.model import RegressionEstimator, MultiClassEstimator, MultiLabelEstimator\n",
    "from molmap import loadmap\n",
    "from molmap.show import imshow_wrap\n",
    "import molmap\n",
    "from molmap import MolMap\n",
    "\n",
    "from sklearn.utils import shuffle \n",
    "from joblib import load, dump\n",
    "import numpy as np\n",
    "import pandas as pd\n",
    "import os\n",
    "\n",
    "from chembench import dataset\n"
   ]
  },
  {
   "cell_type": "markdown",
   "metadata": {},
   "source": [
    "### optimized hyper-parameters"
   ]
  },
  {
   "cell_type": "code",
   "execution_count": 2,
   "metadata": {},
   "outputs": [],
   "source": [
    "### optimized hyper-parameters\n",
    "\n",
    "batch_size = 8\n",
    "dense_layers = [256, 128, 32]"
   ]
  },
  {
   "cell_type": "code",
   "execution_count": 3,
   "metadata": {},
   "outputs": [
    {
     "name": "stdout",
     "output_type": "stream",
     "text": [
      "total samples: 642\n"
     ]
    }
   ],
   "source": [
    "## random\n",
    "data = dataset.load_FreeSolv()\n",
    "task_name = data.task_name\n",
    "task_type = data.task_type\n",
    "\n",
    "Y = data.y\n",
    "df = data.df\n",
    "n_outputs = Y.shape[1]\n",
    "\n",
    "gpuid = 7\n",
    "\n",
    "random_seeds = [2, 16, 32, 64, 128, 256, 512, 1024, 2048, 4096]"
   ]
  },
  {
   "cell_type": "code",
   "execution_count": 4,
   "metadata": {},
   "outputs": [],
   "source": [
    "tmp_feature_dir = '/raid/shenwanxiang/08_Robustness/tempignore' #feature path\n",
    "X1_name = os.path.join(tmp_feature_dir, 'X1_%s.data' % task_name)\n",
    "X2_name = os.path.join(tmp_feature_dir, 'X2_%s.data' % task_name)\n",
    "X1 = load(X1_name)\n",
    "X2 = load(X2_name)"
   ]
  },
  {
   "cell_type": "code",
   "execution_count": 5,
   "metadata": {},
   "outputs": [],
   "source": [
    "fmap_shape1= X1.shape[1:]\n",
    "fmap_shape2= X2.shape[1:]"
   ]
  },
  {
   "cell_type": "code",
   "execution_count": 8,
   "metadata": {},
   "outputs": [],
   "source": [
    "file_path = \"/raid/shenwanxiang/08_Robustness/dataset_induces/split\" #split\n",
    "\n",
    "result_file = 'OPT_%s.csv' % task_name\n",
    "\n",
    "with open(result_file, 'w+') as f:\n",
    "    f.write('task_name, seed, valid_rmse, test_rmse\\n')\n",
    "\n",
    "# the dense layers for these multi outputs tasks\n",
    "\n",
    "res = []\n",
    "for seed in random_seeds:\n",
    "\n",
    "    train_path = os.path.join(file_path, task_name,\"%s\" % seed, \"train.csv\")\n",
    "    valid_path = os.path.join(file_path, task_name,\"%s\" % seed, \"val.csv\")\n",
    "    test_path = os.path.join(file_path, task_name,\"%s\" % seed, \"test.csv\")\n",
    "\n",
    "    train_df = pd.read_csv(train_path)\n",
    "    valid_df = pd.read_csv(valid_path)\n",
    "    test_df = pd.read_csv(test_path)\n",
    "\n",
    "    train_idx = df[df.smiles.isin(train_df.smiles)].index.tolist()\n",
    "    valid_idx = df[df.smiles.isin(valid_df.smiles)].index.tolist()\n",
    "    test_idx = df[df.smiles.isin(test_df.smiles)].index.tolist()\n",
    "\n",
    "    print(len(train_idx), len(valid_idx), len(test_idx))\n",
    "\n",
    "\n",
    "    X_train = (X1[train_idx], X2[train_idx])\n",
    "    y_train = Y[train_idx]\n",
    "\n",
    "    X_valid = (X1[valid_idx], X2[valid_idx])\n",
    "    y_valid = Y[valid_idx]\n",
    "\n",
    "    X_test = (X1[test_idx], X2[test_idx])\n",
    "    y_test = Y[test_idx]     \n",
    "\n",
    "    clf = RegressionEstimator(n_outputs,\n",
    "                                  fmap_shape1,fmap_shape2,\n",
    "                                  batch_size = batch_size,\n",
    "                                  dense_layers = dense_layers,\n",
    "                                  gpuid = gpuid, \n",
    "                             ) \n",
    "\n",
    "    \n",
    "    clf.fit(X_train,y_train, X_valid, y_valid)\n",
    "\n",
    "    train_rmses, train_r2s = clf._performance.evaluate(X_train,y_train)\n",
    "    valid_rmses, valid_r2s = clf._performance.evaluate(X_valid,y_valid)            \n",
    "    test_rmses, test_r2s = clf._performance.evaluate(X_test,y_test)\n",
    "\n",
    "    train_rmse = np.nanmean(train_rmses)\n",
    "    valid_rmse = np.nanmean(valid_rmses)\n",
    "    test_rmse = np.nanmean(test_rmses)\n",
    "\n",
    "    final_res = {'seed': seed,\n",
    "                 \"task_name\": task_name,\n",
    "                 'train_rmse':train_rmse, \n",
    "                 'valid_rmse':valid_rmse,                      \n",
    "                 'test_rmse':test_rmse,}\n",
    "    print(final_res)\n",
    "\n",
    "    with open(result_file, 'a+') as f:\n",
    "        f.write('%s, %s, %s, %s\\n' % (task_name, seed, valid_rmse, test_rmse))\n",
    "\n",
    "    res.append(final_res)\n"
   ]
  },
  {
   "cell_type": "code",
   "execution_count": null,
   "metadata": {},
   "outputs": [],
   "source": []
  },
  {
   "cell_type": "code",
   "execution_count": null,
   "metadata": {},
   "outputs": [],
   "source": []
  }
 ],
 "metadata": {
  "kernelspec": {
   "display_name": "Python 3",
   "language": "python",
   "name": "python3"
  },
  "language_info": {
   "codemirror_mode": {
    "name": "ipython",
    "version": 3
   },
   "file_extension": ".py",
   "mimetype": "text/x-python",
   "name": "python",
   "nbconvert_exporter": "python",
   "pygments_lexer": "ipython3",
   "version": "3.6.9"
  }
 },
 "nbformat": 4,
 "nbformat_minor": 4
}
