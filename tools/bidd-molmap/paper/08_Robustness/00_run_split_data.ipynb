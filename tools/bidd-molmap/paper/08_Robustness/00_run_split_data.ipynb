{
 "cells": [
  {
   "cell_type": "code",
   "execution_count": 3,
   "metadata": {},
   "outputs": [],
   "source": [
    "from chembench import dataset\n",
    "import pandas as pd\n",
    "import os\n",
    "\n",
    "random_seeds = [2, 16, 32, 64, 128, 256, 512, 1024, 2048, 4096]\n",
    "\n",
    "\n",
    "data_save_dir = '/raid/shenwanxiang/08_Robustness/dataset_induces'\n",
    "if not os.path.exists(data_save_dir):\n",
    "    os.makedirs(data_save_dir)"
   ]
  },
  {
   "cell_type": "code",
   "execution_count": 25,
   "metadata": {},
   "outputs": [],
   "source": [
    "def random_split(df, random_state = 123, split_size = [0.8, 0.1, 0.1]):\n",
    "    from sklearn.utils import shuffle \n",
    "    import numpy as np\n",
    "    base_indices = np.arange(len(df)) \n",
    "    base_indices = shuffle(base_indices, random_state = random_state) \n",
    "    nb_test = int(len(base_indices) * split_size[2]) \n",
    "    nb_val = int(len(base_indices) * split_size[1]) \n",
    "    test_idx = base_indices[0:nb_test] \n",
    "    valid_idx = base_indices[(nb_test):(nb_test+nb_val)] \n",
    "    train_idx = base_indices[(nb_test+nb_val):len(base_indices)] \n",
    "    \n",
    "    print(len(train_idx), len(valid_idx), len(test_idx)) \n",
    "    \n",
    "    return train_idx, valid_idx, test_idx "
   ]
  },
  {
   "cell_type": "code",
   "execution_count": 17,
   "metadata": {},
   "outputs": [
    {
     "name": "stdout",
     "output_type": "stream",
     "text": [
      "total samples: 1128\n",
      "total samples: 4200\n",
      "total samples: 9999\n",
      "total samples: 642\n",
      "total samples: 41127\n",
      "total samples: 1513\n",
      "total samples: 2039\n",
      "total samples: 7831\n",
      "total samples: 1478\n",
      "total samples: 1427\n",
      "total samples: 8576\n",
      "total samples: 93087\n",
      "total samples: 437929\n"
     ]
    }
   ],
   "source": [
    "## random\n",
    "esol = dataset.load_ESOL()\n",
    "lipop = dataset.load_Lipop()\n",
    "malaria = dataset.load_Malaria()\n",
    "freesolv = dataset.load_FreeSolv()\n",
    "\n",
    "## scaffold\n",
    "hiv = dataset.load_HIV()\n",
    "bace = dataset.load_BACE()\n",
    "bbbp = dataset.load_BBBP()\n",
    "\n",
    "\n",
    "## random\n",
    "tox21 = dataset.load_Tox21()\n",
    "clintox = dataset.load_ClinTox()\n",
    "sider = dataset.load_SIDER()\n",
    "toxcast = dataset.load_ToxCast()\n",
    "\n",
    "## random\n",
    "muv = dataset.load_MUV()\n",
    "pcba = dataset.load_PCBA()\n",
    "chembl = dataset.load_ChEMBL()"
   ]
  },
  {
   "cell_type": "code",
   "execution_count": null,
   "metadata": {},
   "outputs": [],
   "source": []
  },
  {
   "cell_type": "code",
   "execution_count": 39,
   "metadata": {},
   "outputs": [
    {
     "name": "stdout",
     "output_type": "stream",
     "text": [
      "365065 45633 45633\n",
      "365065 45633 45633\n",
      "365065 45633 45633\n",
      "365065 45633 45633\n",
      "365065 45633 45633\n",
      "365065 45633 45633\n",
      "365065 45633 45633\n",
      "365065 45633 45633\n",
      "365065 45633 45633\n",
      "365065 45633 45633\n"
     ]
    }
   ],
   "source": [
    "rdsplit_save_dir = os.path.join(data_save_dir, 'split')\n",
    "if not os.path.exists(rdsplit_save_dir):\n",
    "    os.makedirs(rdsplit_save_dir)\n",
    "    \n",
    "for data in [chembl]:\n",
    "    df = pd.DataFrame(data.y, columns = data.y_cols)\n",
    "    df.index = data.x\n",
    "    df.index.name = 'smiles'\n",
    "    df.to_csv(os.path.join(data_save_dir, '%s.csv' % data.task_name))\n",
    "    \n",
    "    for seed in random_seeds:\n",
    "        file_save_dir = os.path.join(rdsplit_save_dir, data.task_name, str(seed))\n",
    "        if not os.path.exists(file_save_dir):\n",
    "            os.makedirs(file_save_dir)\n",
    "\n",
    "        train_idx, valid_idx, test_idx = random_split(df, random_state = seed)\n",
    "        \n",
    "        df.iloc[train_idx].to_csv(os.path.join(file_save_dir, 'train.csv'))\n",
    "        df.iloc[valid_idx].to_csv(os.path.join(file_save_dir, 'val.csv'))\n",
    "        df.iloc[test_idx].to_csv(os.path.join(file_save_dir, 'test.csv'))"
   ]
  },
  {
   "cell_type": "code",
   "execution_count": null,
   "metadata": {},
   "outputs": [],
   "source": []
  },
  {
   "cell_type": "markdown",
   "metadata": {},
   "source": [
    "## random splits"
   ]
  },
  {
   "cell_type": "code",
   "execution_count": 36,
   "metadata": {},
   "outputs": [
    {
     "name": "stdout",
     "output_type": "stream",
     "text": [
      "6265 783 783\n",
      "6265 783 783\n",
      "6265 783 783\n",
      "6265 783 783\n",
      "6265 783 783\n",
      "6265 783 783\n",
      "6265 783 783\n",
      "6265 783 783\n",
      "6265 783 783\n",
      "6265 783 783\n",
      "1184 147 147\n",
      "1184 147 147\n",
      "1184 147 147\n",
      "1184 147 147\n",
      "1184 147 147\n",
      "1184 147 147\n",
      "1184 147 147\n",
      "1184 147 147\n",
      "1184 147 147\n",
      "1184 147 147\n",
      "1143 142 142\n",
      "1143 142 142\n",
      "1143 142 142\n",
      "1143 142 142\n",
      "1143 142 142\n",
      "1143 142 142\n",
      "1143 142 142\n",
      "1143 142 142\n",
      "1143 142 142\n",
      "1143 142 142\n",
      "6862 857 857\n",
      "6862 857 857\n",
      "6862 857 857\n",
      "6862 857 857\n",
      "6862 857 857\n",
      "6862 857 857\n",
      "6862 857 857\n",
      "6862 857 857\n",
      "6862 857 857\n",
      "6862 857 857\n",
      "74471 9308 9308\n",
      "74471 9308 9308\n",
      "74471 9308 9308\n",
      "74471 9308 9308\n",
      "74471 9308 9308\n",
      "74471 9308 9308\n",
      "74471 9308 9308\n",
      "74471 9308 9308\n",
      "74471 9308 9308\n",
      "74471 9308 9308\n",
      "350345 43792 43792\n",
      "350345 43792 43792\n",
      "350345 43792 43792\n",
      "350345 43792 43792\n",
      "350345 43792 43792\n",
      "350345 43792 43792\n",
      "350345 43792 43792\n",
      "350345 43792 43792\n",
      "350345 43792 43792\n",
      "350345 43792 43792\n",
      "904 112 112\n",
      "904 112 112\n",
      "904 112 112\n",
      "904 112 112\n",
      "904 112 112\n",
      "904 112 112\n",
      "904 112 112\n",
      "904 112 112\n",
      "904 112 112\n",
      "904 112 112\n",
      "514 64 64\n",
      "514 64 64\n",
      "514 64 64\n",
      "514 64 64\n",
      "514 64 64\n",
      "514 64 64\n",
      "514 64 64\n",
      "514 64 64\n",
      "514 64 64\n",
      "514 64 64\n",
      "8001 999 999\n",
      "8001 999 999\n",
      "8001 999 999\n",
      "8001 999 999\n",
      "8001 999 999\n",
      "8001 999 999\n",
      "8001 999 999\n",
      "8001 999 999\n",
      "8001 999 999\n",
      "8001 999 999\n",
      "3360 420 420\n",
      "3360 420 420\n",
      "3360 420 420\n",
      "3360 420 420\n",
      "3360 420 420\n",
      "3360 420 420\n",
      "3360 420 420\n",
      "3360 420 420\n",
      "3360 420 420\n",
      "3360 420 420\n"
     ]
    }
   ],
   "source": [
    "rdsplit_save_dir = os.path.join(data_save_dir, 'split')\n",
    "if not os.path.exists(rdsplit_save_dir):\n",
    "    os.makedirs(rdsplit_save_dir)\n",
    "    \n",
    "for data in [tox21, clintox, sider, toxcast, muv, pcba, esol, freesolv, malaria, lipop, chembl]:\n",
    "    df = pd.DataFrame(data.y, columns = data.y_cols)\n",
    "    df.index = data.x\n",
    "    df.index.name = 'smiles'\n",
    "    df.to_csv(os.path.join(data_save_dir, '%s.csv' % data.task_name))\n",
    "    \n",
    "    for seed in random_seeds:\n",
    "        file_save_dir = os.path.join(rdsplit_save_dir, data.task_name, str(seed))\n",
    "        if not os.path.exists(file_save_dir):\n",
    "            os.makedirs(file_save_dir)\n",
    "\n",
    "        train_idx, valid_idx, test_idx = random_split(df, random_state = seed)\n",
    "        \n",
    "        df.iloc[train_idx].to_csv(os.path.join(file_save_dir, 'train.csv'))\n",
    "        df.iloc[valid_idx].to_csv(os.path.join(file_save_dir, 'val.csv'))\n",
    "        df.iloc[test_idx].to_csv(os.path.join(file_save_dir, 'test.csv'))"
   ]
  },
  {
   "cell_type": "code",
   "execution_count": null,
   "metadata": {},
   "outputs": [],
   "source": []
  },
  {
   "cell_type": "markdown",
   "metadata": {},
   "source": [
    "## scaffold splits"
   ]
  },
  {
   "cell_type": "code",
   "execution_count": 33,
   "metadata": {},
   "outputs": [],
   "source": [
    "pythoner = \"/home/sxh/anaconda3/envs/chemprop/bin/python\"\n",
    "spliter = \"/home/sxh/Research/bidd-molmap/paper/08_Robustness/split.py\"\n",
    "\n",
    "for data in [hiv, bace, bbbp]:\n",
    "    df = pd.DataFrame(data.y, columns = data.y_cols)\n",
    "    df.index = data.x\n",
    "    df.index.name = 'smiles'\n",
    "    data_path = os.path.join(data_save_dir, '%s.csv' % data.task_name)\n",
    "    df.to_csv(data_path)\n",
    "    \n",
    "    for seed in random_seeds:\n",
    "        file_save_dir = os.path.join(rdsplit_save_dir, data.task_name, str(seed))\n",
    "        if not os.path.exists(file_save_dir):\n",
    "            os.makedirs(file_save_dir)\n",
    "            \n",
    "        DATA_PATH = data_path\n",
    "        SAVE_DIR = file_save_dir\n",
    "        SEED = seed\n",
    "        cmd = \"%s %s --data_path %s --save_dir %s --smiles_column smiles --split_type scaffold_balanced --seed %s\" % (pythoner, spliter, \n",
    "                                                                                                                      DATA_PATH, SAVE_DIR, SEED)\n",
    "        os.system(cmd)"
   ]
  },
  {
   "cell_type": "code",
   "execution_count": null,
   "metadata": {},
   "outputs": [],
   "source": []
  },
  {
   "cell_type": "code",
   "execution_count": null,
   "metadata": {},
   "outputs": [],
   "source": []
  },
  {
   "cell_type": "code",
   "execution_count": null,
   "metadata": {},
   "outputs": [],
   "source": []
  },
  {
   "cell_type": "code",
   "execution_count": null,
   "metadata": {},
   "outputs": [],
   "source": []
  },
  {
   "cell_type": "code",
   "execution_count": null,
   "metadata": {},
   "outputs": [],
   "source": []
  },
  {
   "cell_type": "code",
   "execution_count": null,
   "metadata": {},
   "outputs": [],
   "source": []
  },
  {
   "cell_type": "code",
   "execution_count": null,
   "metadata": {},
   "outputs": [],
   "source": []
  }
 ],
 "metadata": {
  "kernelspec": {
   "display_name": "Python 3",
   "language": "python",
   "name": "python3"
  },
  "language_info": {
   "codemirror_mode": {
    "name": "ipython",
    "version": 3
   },
   "file_extension": ".py",
   "mimetype": "text/x-python",
   "name": "python",
   "nbconvert_exporter": "python",
   "pygments_lexer": "ipython3",
   "version": "3.6.9"
  }
 },
 "nbformat": 4,
 "nbformat_minor": 4
}
