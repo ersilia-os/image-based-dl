{
 "cells": [
  {
   "cell_type": "code",
   "execution_count": 1,
   "metadata": {},
   "outputs": [],
   "source": [
    "import pandas as pd"
   ]
  },
  {
   "cell_type": "code",
   "execution_count": 2,
   "metadata": {},
   "outputs": [],
   "source": [
    "#pd.read_pickle('./descriptor_scale.cfg')"
   ]
  },
  {
   "cell_type": "code",
   "execution_count": 3,
   "metadata": {},
   "outputs": [
    {
     "name": "stderr",
     "output_type": "stream",
     "text": [
      "RDKit WARNING: [14:02:52] Enabling RDKit 2019.09.2 jupyter extensions\n"
     ]
    }
   ],
   "source": [
    "from __init__ import load_config\n",
    "\n"
   ]
  },
  {
   "cell_type": "code",
   "execution_count": 9,
   "metadata": {},
   "outputs": [
    {
     "name": "stdout",
     "output_type": "stream",
     "text": [
      "try to down it from Google drive ...\n",
      "2020-09-02 14:04:08,348 - \u001b[32mINFO\u001b[0m - [bidd-molmap]\u001b[0m - downloading config file from google drive: https://drive.google.com/uc?id=1a1mClJvczFctZzTzEry__ij3LCM5avfj\u001b[0m\n"
     ]
    },
    {
     "name": "stderr",
     "output_type": "stream",
     "text": [
      "Downloading...\n",
      "From: https://drive.google.com/uc?id=1a1mClJvczFctZzTzEry__ij3LCM5avfj\n",
      "To: /home/shenwanxiang/Research/bidd-molmap/molmap/config/fingerprint_correlation.cfg.gzip\n",
      "278MB [00:03, 83.8MB/s] "
     ]
    },
    {
     "name": "stdout",
     "output_type": "stream",
     "text": [
      "2020-09-02 14:04:13,483 - \u001b[32mINFO\u001b[0m - [bidd-molmap]\u001b[0m - finished...\u001b[0m\n"
     ]
    },
    {
     "name": "stderr",
     "output_type": "stream",
     "text": [
      "\n"
     ]
    }
   ],
   "source": [
    "df = load_config(ftype='fingerprint', metric='correlation')"
   ]
  },
  {
   "cell_type": "code",
   "execution_count": 1,
   "metadata": {},
   "outputs": [
    {
     "name": "stdout",
     "output_type": "stream",
     "text": [
      "total 612M\n",
      "-rw-rw-r-- 1 shenwanxiang shenwanxiang 2.3K 3月   4 12:56 config.ipynb\n",
      "-rw-rw-r-- 1 shenwanxiang shenwanxiang  14M 3月   4 12:56 descriptor_correlation.cfg.gzip\n",
      "-rw-rw-r-- 1 shenwanxiang shenwanxiang  14M 3月   4 12:56 descriptor_cosine.cfg.gzip\n",
      "-rw-rw-r-- 1 shenwanxiang shenwanxiang  71K 3月   4 12:56 descriptor_scale.cfg.gzip\n",
      "-rw-rw-r-- 1 shenwanxiang shenwanxiang 266M 3月   4 12:56 fingerprint_correlation.cfg.gzip\n",
      "-rw-rw-r-- 1 shenwanxiang shenwanxiang 319M 3月   4 12:56 fingerprint_cosine.cfg.gzip\n",
      "-rw-rw-r-- 1 shenwanxiang shenwanxiang 513K 3月   4 12:56 fingerprint_scale.cfg.gzip\n",
      "-rw-rw-r-- 1 shenwanxiang shenwanxiang 2.9K 3月   4 12:56 __init__.py\n",
      "drwxrwxr-x 2 shenwanxiang shenwanxiang 4.0K 6月  15 12:45 \u001b[0m\u001b[01;34m__pycache__\u001b[0m/\n"
     ]
    }
   ],
   "source": [
    "ls -lh"
   ]
  },
  {
   "cell_type": "code",
   "execution_count": null,
   "metadata": {},
   "outputs": [],
   "source": []
  }
 ],
 "metadata": {
  "kernelspec": {
   "display_name": "Python 3 (ipykernel)",
   "language": "python",
   "name": "python3"
  },
  "language_info": {
   "codemirror_mode": {
    "name": "ipython",
    "version": 3
   },
   "file_extension": ".py",
   "mimetype": "text/x-python",
   "name": "python",
   "nbconvert_exporter": "python",
   "pygments_lexer": "ipython3",
   "version": "3.9.7"
  }
 },
 "nbformat": 4,
 "nbformat_minor": 4
}
