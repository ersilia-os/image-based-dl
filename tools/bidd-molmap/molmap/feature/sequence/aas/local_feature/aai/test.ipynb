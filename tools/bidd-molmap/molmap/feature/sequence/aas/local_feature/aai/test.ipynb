{
 "cells": [
  {
   "cell_type": "code",
   "execution_count": 1,
   "id": "6741c529",
   "metadata": {},
   "outputs": [],
   "source": [
    "import sys\n",
    "sys.path.insert(0, '/home/shenwanxiang/Research/bidd-molmap/')\n",
    "from molmap.feature.sequence.aas.local_feature.aai import load_index, load_all\n",
    "from molmap.feature.sequence.nas.global_feature import nac"
   ]
  },
  {
   "cell_type": "code",
   "execution_count": 8,
   "id": "88e50c4b",
   "metadata": {},
   "outputs": [],
   "source": []
  },
  {
   "cell_type": "code",
   "execution_count": 2,
   "id": "686315da",
   "metadata": {},
   "outputs": [
    {
     "name": "stdout",
     "output_type": "stream",
     "text": [
      "total 4.0M\n",
      "-rw-rw-r-- 1 shenwanxiang shenwanxiang  63K 3月   4 12:56 01_aaindex.csv\n",
      "-rw-rw-r-- 1 shenwanxiang shenwanxiang 438K 3月   4 12:56 01_aaindex_meta.pkl\n",
      "-rw-rw-r-- 1 shenwanxiang shenwanxiang 177K 3月   4 12:56 02_aametrix.csv\n",
      "-rw-rw-r-- 1 shenwanxiang shenwanxiang  27K 3月   4 12:56 02_aametrix_meta.pkl\n",
      "-rw-rw-r-- 1 shenwanxiang shenwanxiang 108K 3月   4 12:56 03_aametrix.csv\n",
      "-rw-rw-r-- 1 shenwanxiang shenwanxiang  15K 3月   4 12:56 03_aametrix_meta.pkl\n",
      "-rw-rw-r-- 1 shenwanxiang shenwanxiang 2.7M 3月   4 12:56 all_data.csv\n",
      "-rw-rw-r-- 1 shenwanxiang shenwanxiang 484K 3月   4 12:56 all_meta.csv\n",
      "-rw-rw-r-- 1 shenwanxiang shenwanxiang  40K 3月   4 12:56 Tomii_aa_group_info.csv\n",
      "-rw-rw-r-- 1 shenwanxiang shenwanxiang  577 3月   4 12:56 Untitled.ipynb\n"
     ]
    }
   ],
   "source": [
    "ls -lh ./result_data/"
   ]
  },
  {
   "cell_type": "code",
   "execution_count": 6,
   "id": "48aafcf0-ee4f-4186-88af-2df039cc2759",
   "metadata": {},
   "outputs": [
    {
     "data": {
      "text/html": [
       "<div>\n",
       "<style scoped>\n",
       "    .dataframe tbody tr th:only-of-type {\n",
       "        vertical-align: middle;\n",
       "    }\n",
       "\n",
       "    .dataframe tbody tr th {\n",
       "        vertical-align: top;\n",
       "    }\n",
       "\n",
       "    .dataframe thead th {\n",
       "        text-align: right;\n",
       "    }\n",
       "</style>\n",
       "<table border=\"1\" class=\"dataframe\">\n",
       "  <thead>\n",
       "    <tr style=\"text-align: right;\">\n",
       "      <th></th>\n",
       "      <th>accession_number</th>\n",
       "      <th>animo_acid_key</th>\n",
       "      <th>value</th>\n",
       "      <th>group</th>\n",
       "    </tr>\n",
       "  </thead>\n",
       "  <tbody>\n",
       "    <tr>\n",
       "      <th>0</th>\n",
       "      <td>ANDN920101</td>\n",
       "      <td>A</td>\n",
       "      <td>4.35</td>\n",
       "      <td>indices</td>\n",
       "    </tr>\n",
       "    <tr>\n",
       "      <th>1</th>\n",
       "      <td>ANDN920101</td>\n",
       "      <td>C</td>\n",
       "      <td>4.65</td>\n",
       "      <td>indices</td>\n",
       "    </tr>\n",
       "    <tr>\n",
       "      <th>2</th>\n",
       "      <td>ANDN920101</td>\n",
       "      <td>D</td>\n",
       "      <td>4.76</td>\n",
       "      <td>indices</td>\n",
       "    </tr>\n",
       "    <tr>\n",
       "      <th>3</th>\n",
       "      <td>ANDN920101</td>\n",
       "      <td>E</td>\n",
       "      <td>4.29</td>\n",
       "      <td>indices</td>\n",
       "    </tr>\n",
       "    <tr>\n",
       "      <th>4</th>\n",
       "      <td>ANDN920101</td>\n",
       "      <td>F</td>\n",
       "      <td>4.66</td>\n",
       "      <td>indices</td>\n",
       "    </tr>\n",
       "    <tr>\n",
       "      <th>...</th>\n",
       "      <td>...</td>\n",
       "      <td>...</td>\n",
       "      <td>...</td>\n",
       "      <td>...</td>\n",
       "    </tr>\n",
       "    <tr>\n",
       "      <th>67715</th>\n",
       "      <td>ZHAC000106</td>\n",
       "      <td>Y,S</td>\n",
       "      <td>0.09</td>\n",
       "      <td>pair-wise contact potentials</td>\n",
       "    </tr>\n",
       "    <tr>\n",
       "      <th>67716</th>\n",
       "      <td>ZHAC000106</td>\n",
       "      <td>Y,T</td>\n",
       "      <td>-0.31</td>\n",
       "      <td>pair-wise contact potentials</td>\n",
       "    </tr>\n",
       "    <tr>\n",
       "      <th>67717</th>\n",
       "      <td>ZHAC000106</td>\n",
       "      <td>Y,V</td>\n",
       "      <td>-0.38</td>\n",
       "      <td>pair-wise contact potentials</td>\n",
       "    </tr>\n",
       "    <tr>\n",
       "      <th>67718</th>\n",
       "      <td>ZHAC000106</td>\n",
       "      <td>Y,W</td>\n",
       "      <td>0.20</td>\n",
       "      <td>pair-wise contact potentials</td>\n",
       "    </tr>\n",
       "    <tr>\n",
       "      <th>67719</th>\n",
       "      <td>ZHAC000106</td>\n",
       "      <td>Y,Y</td>\n",
       "      <td>-0.57</td>\n",
       "      <td>pair-wise contact potentials</td>\n",
       "    </tr>\n",
       "  </tbody>\n",
       "</table>\n",
       "<p>67720 rows × 4 columns</p>\n",
       "</div>"
      ],
      "text/plain": [
       "      accession_number animo_acid_key  value                         group\n",
       "0           ANDN920101              A   4.35                       indices\n",
       "1           ANDN920101              C   4.65                       indices\n",
       "2           ANDN920101              D   4.76                       indices\n",
       "3           ANDN920101              E   4.29                       indices\n",
       "4           ANDN920101              F   4.66                       indices\n",
       "...                ...            ...    ...                           ...\n",
       "67715       ZHAC000106            Y,S   0.09  pair-wise contact potentials\n",
       "67716       ZHAC000106            Y,T  -0.31  pair-wise contact potentials\n",
       "67717       ZHAC000106            Y,V  -0.38  pair-wise contact potentials\n",
       "67718       ZHAC000106            Y,W   0.20  pair-wise contact potentials\n",
       "67719       ZHAC000106            Y,Y  -0.57  pair-wise contact potentials\n",
       "\n",
       "[67720 rows x 4 columns]"
      ]
     },
     "execution_count": 6,
     "metadata": {},
     "output_type": "execute_result"
    }
   ],
   "source": [
    "load_all().data"
   ]
  },
  {
   "cell_type": "code",
   "execution_count": null,
   "id": "8c7c3dc6-d342-4328-a6d0-09cacae04b1e",
   "metadata": {},
   "outputs": [],
   "source": []
  }
 ],
 "metadata": {
  "kernelspec": {
   "display_name": "Python 3 (ipykernel)",
   "language": "python",
   "name": "python3"
  },
  "language_info": {
   "codemirror_mode": {
    "name": "ipython",
    "version": 3
   },
   "file_extension": ".py",
   "mimetype": "text/x-python",
   "name": "python",
   "nbconvert_exporter": "python",
   "pygments_lexer": "ipython3",
   "version": "3.7.12"
  }
 },
 "nbformat": 4,
 "nbformat_minor": 5
}
