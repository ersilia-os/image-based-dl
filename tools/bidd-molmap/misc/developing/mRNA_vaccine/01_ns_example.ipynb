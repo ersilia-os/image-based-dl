{
 "cells": [
  {
   "cell_type": "code",
   "execution_count": 1,
   "metadata": {},
   "outputs": [],
   "source": [
    "import pandas as pd\n",
    "import numpy as np\n",
    "from Bio import Seq, SeqIO\n",
    "from Bio import pairwise2"
   ]
  },
  {
   "cell_type": "code",
   "execution_count": null,
   "metadata": {},
   "outputs": [],
   "source": []
  },
  {
   "cell_type": "code",
   "execution_count": 2,
   "metadata": {},
   "outputs": [],
   "source": [
    "js1 = pd.read_json('./01-Pfizer_BNT-162b2.json',orient='index')[0].to_dict()\n",
    "js2 = pd.read_json('./02-Moderna_mRNA-1273.json',orient='index')[0].to_dict()"
   ]
  },
  {
   "cell_type": "code",
   "execution_count": 3,
   "metadata": {},
   "outputs": [],
   "source": [
    "s1 = Seq.Seq(js1['c1'])\n",
    "s2 = Seq.Seq(js2['c2'])"
   ]
  },
  {
   "cell_type": "code",
   "execution_count": null,
   "metadata": {},
   "outputs": [],
   "source": []
  },
  {
   "cell_type": "code",
   "execution_count": 4,
   "metadata": {},
   "outputs": [],
   "source": [
    "spike1 = s1.translate()\n",
    "spike2 = s2.translate()"
   ]
  },
  {
   "cell_type": "markdown",
   "metadata": {},
   "source": [
    "# mutaions\n",
    "## https://www.uniprot.org/uniprot/P59594"
   ]
  },
  {
   "cell_type": "code",
   "execution_count": 5,
   "metadata": {},
   "outputs": [],
   "source": [
    "muts = {'D614G':'Enhance the infection ability', \n",
    "       'C323A':'No effect on human ACE2 binding in vitro', \n",
    "       'E452A':'90% loss of human ACE2 binding in vitro'}"
   ]
  },
  {
   "cell_type": "code",
   "execution_count": 6,
   "metadata": {},
   "outputs": [
    {
     "name": "stdout",
     "output_type": "stream",
     "text": [
      "D GAT\n",
      "C TGC\n",
      "E GAG\n"
     ]
    }
   ],
   "source": [
    "s1_muts = []\n",
    "s1_muts.append(s1) #orignal\n",
    "\n",
    "for i,m in zip([610, 319, 448], ['GGT', 'GCC', 'GCG']):\n",
    "    print(spike1[i], s1[i*3:(i+1)*3])\n",
    "    s = s1.tomutable()\n",
    "    s[i*3:(i+1)*3] = m\n",
    "    s1_muts.append(s.toseq())"
   ]
  },
  {
   "cell_type": "code",
   "execution_count": 7,
   "metadata": {},
   "outputs": [
    {
     "name": "stdout",
     "output_type": "stream",
     "text": [
      "D GAC\n",
      "C TGC\n",
      "E GAG\n"
     ]
    }
   ],
   "source": [
    "s2_muts = []\n",
    "\n",
    "s2_muts.append(s2) #orignal\n",
    "for i,m in zip([610, 319, 448], ['GGT', 'GCC', 'GCG']):\n",
    "    print(spike2[i], s2[i*3:(i+1)*3])\n",
    "    s = s2.tomutable()\n",
    "    s[i*3:(i+1)*3] = m\n",
    "    s2_muts.append(s.toseq())"
   ]
  },
  {
   "cell_type": "code",
   "execution_count": 8,
   "metadata": {},
   "outputs": [
    {
     "data": {
      "text/html": [
       "<div>\n",
       "<style scoped>\n",
       "    .dataframe tbody tr th:only-of-type {\n",
       "        vertical-align: middle;\n",
       "    }\n",
       "\n",
       "    .dataframe tbody tr th {\n",
       "        vertical-align: top;\n",
       "    }\n",
       "\n",
       "    .dataframe thead th {\n",
       "        text-align: right;\n",
       "    }\n",
       "</style>\n",
       "<table border=\"1\" class=\"dataframe\">\n",
       "  <thead>\n",
       "    <tr style=\"text-align: right;\">\n",
       "      <th></th>\n",
       "      <th>mRNA_full</th>\n",
       "      <th>mRNA-spike</th>\n",
       "      <th>spike-protein</th>\n",
       "    </tr>\n",
       "  </thead>\n",
       "  <tbody>\n",
       "    <tr>\n",
       "      <td>orignal</td>\n",
       "      <td>(G, A, G, A, A, T, A, A, A, C, T, A, G, T, A, ...</td>\n",
       "      <td>(A, A, C, C, T, G, A, C, C, A, C, C, A, G, A, ...</td>\n",
       "      <td>(N, L, T, T, R, T, Q, L, P, P, A, Y, T, N, S, ...</td>\n",
       "    </tr>\n",
       "    <tr>\n",
       "      <td>D614G</td>\n",
       "      <td>(G, A, G, A, A, T, A, A, A, C, T, A, G, T, A, ...</td>\n",
       "      <td>(A, A, C, C, T, G, A, C, C, A, C, C, A, G, A, ...</td>\n",
       "      <td>(N, L, T, T, R, T, Q, L, P, P, A, Y, T, N, S, ...</td>\n",
       "    </tr>\n",
       "    <tr>\n",
       "      <td>C323A</td>\n",
       "      <td>(G, A, G, A, A, T, A, A, A, C, T, A, G, T, A, ...</td>\n",
       "      <td>(A, A, C, C, T, G, A, C, C, A, C, C, A, G, A, ...</td>\n",
       "      <td>(N, L, T, T, R, T, Q, L, P, P, A, Y, T, N, S, ...</td>\n",
       "    </tr>\n",
       "    <tr>\n",
       "      <td>E452A</td>\n",
       "      <td>(G, A, G, A, A, T, A, A, A, C, T, A, G, T, A, ...</td>\n",
       "      <td>(A, A, C, C, T, G, A, C, C, A, C, C, A, G, A, ...</td>\n",
       "      <td>(N, L, T, T, R, T, Q, L, P, P, A, Y, T, N, S, ...</td>\n",
       "    </tr>\n",
       "  </tbody>\n",
       "</table>\n",
       "</div>"
      ],
      "text/plain": [
       "                                                 mRNA_full  \\\n",
       "orignal  (G, A, G, A, A, T, A, A, A, C, T, A, G, T, A, ...   \n",
       "D614G    (G, A, G, A, A, T, A, A, A, C, T, A, G, T, A, ...   \n",
       "C323A    (G, A, G, A, A, T, A, A, A, C, T, A, G, T, A, ...   \n",
       "E452A    (G, A, G, A, A, T, A, A, A, C, T, A, G, T, A, ...   \n",
       "\n",
       "                                                mRNA-spike  \\\n",
       "orignal  (A, A, C, C, T, G, A, C, C, A, C, C, A, G, A, ...   \n",
       "D614G    (A, A, C, C, T, G, A, C, C, A, C, C, A, G, A, ...   \n",
       "C323A    (A, A, C, C, T, G, A, C, C, A, C, C, A, G, A, ...   \n",
       "E452A    (A, A, C, C, T, G, A, C, C, A, C, C, A, G, A, ...   \n",
       "\n",
       "                                             spike-protein  \n",
       "orignal  (N, L, T, T, R, T, Q, L, P, P, A, Y, T, N, S, ...  \n",
       "D614G    (N, L, T, T, R, T, Q, L, P, P, A, Y, T, N, S, ...  \n",
       "C323A    (N, L, T, T, R, T, Q, L, P, P, A, Y, T, N, S, ...  \n",
       "E452A    (N, L, T, T, R, T, Q, L, P, P, A, Y, T, N, S, ...  "
      ]
     },
     "execution_count": 8,
     "metadata": {},
     "output_type": "execute_result"
    }
   ],
   "source": [
    "fs1=[]\n",
    "for s1m in s1_muts:\n",
    "    mrna1 = Seq.Seq('').join([Seq.Seq(js1['h1']), s1m, Seq.Seq(js1['t1'])])\n",
    "    spike1 = s1m.translate()\n",
    "    fs1.append([mrna1, s1m, spike1])\n",
    "df1 = pd.DataFrame(fs1, index=['orignal', 'D614G', 'C323A', 'E452A'], columns=['mRNA_full', 'mRNA-spike', 'spike-protein'])\n",
    "df1"
   ]
  },
  {
   "cell_type": "code",
   "execution_count": null,
   "metadata": {},
   "outputs": [],
   "source": []
  },
  {
   "cell_type": "code",
   "execution_count": 9,
   "metadata": {},
   "outputs": [
    {
     "data": {
      "text/html": [
       "<div>\n",
       "<style scoped>\n",
       "    .dataframe tbody tr th:only-of-type {\n",
       "        vertical-align: middle;\n",
       "    }\n",
       "\n",
       "    .dataframe tbody tr th {\n",
       "        vertical-align: top;\n",
       "    }\n",
       "\n",
       "    .dataframe thead th {\n",
       "        text-align: right;\n",
       "    }\n",
       "</style>\n",
       "<table border=\"1\" class=\"dataframe\">\n",
       "  <thead>\n",
       "    <tr style=\"text-align: right;\">\n",
       "      <th></th>\n",
       "      <th>mRNA_full</th>\n",
       "      <th>mRNA-spike</th>\n",
       "      <th>spike-protein</th>\n",
       "    </tr>\n",
       "  </thead>\n",
       "  <tbody>\n",
       "    <tr>\n",
       "      <td>orignal</td>\n",
       "      <td>(G, G, G, A, A, A, T, A, A, G, A, G, A, G, A, ...</td>\n",
       "      <td>(A, A, C, C, T, G, A, C, C, A, C, C, C, G, G, ...</td>\n",
       "      <td>(N, L, T, T, R, T, Q, L, P, P, A, Y, T, N, S, ...</td>\n",
       "    </tr>\n",
       "    <tr>\n",
       "      <td>D614G</td>\n",
       "      <td>(G, G, G, A, A, A, T, A, A, G, A, G, A, G, A, ...</td>\n",
       "      <td>(A, A, C, C, T, G, A, C, C, A, C, C, C, G, G, ...</td>\n",
       "      <td>(N, L, T, T, R, T, Q, L, P, P, A, Y, T, N, S, ...</td>\n",
       "    </tr>\n",
       "    <tr>\n",
       "      <td>C323A</td>\n",
       "      <td>(G, G, G, A, A, A, T, A, A, G, A, G, A, G, A, ...</td>\n",
       "      <td>(A, A, C, C, T, G, A, C, C, A, C, C, C, G, G, ...</td>\n",
       "      <td>(N, L, T, T, R, T, Q, L, P, P, A, Y, T, N, S, ...</td>\n",
       "    </tr>\n",
       "    <tr>\n",
       "      <td>E452A</td>\n",
       "      <td>(G, G, G, A, A, A, T, A, A, G, A, G, A, G, A, ...</td>\n",
       "      <td>(A, A, C, C, T, G, A, C, C, A, C, C, C, G, G, ...</td>\n",
       "      <td>(N, L, T, T, R, T, Q, L, P, P, A, Y, T, N, S, ...</td>\n",
       "    </tr>\n",
       "  </tbody>\n",
       "</table>\n",
       "</div>"
      ],
      "text/plain": [
       "                                                 mRNA_full  \\\n",
       "orignal  (G, G, G, A, A, A, T, A, A, G, A, G, A, G, A, ...   \n",
       "D614G    (G, G, G, A, A, A, T, A, A, G, A, G, A, G, A, ...   \n",
       "C323A    (G, G, G, A, A, A, T, A, A, G, A, G, A, G, A, ...   \n",
       "E452A    (G, G, G, A, A, A, T, A, A, G, A, G, A, G, A, ...   \n",
       "\n",
       "                                                mRNA-spike  \\\n",
       "orignal  (A, A, C, C, T, G, A, C, C, A, C, C, C, G, G, ...   \n",
       "D614G    (A, A, C, C, T, G, A, C, C, A, C, C, C, G, G, ...   \n",
       "C323A    (A, A, C, C, T, G, A, C, C, A, C, C, C, G, G, ...   \n",
       "E452A    (A, A, C, C, T, G, A, C, C, A, C, C, C, G, G, ...   \n",
       "\n",
       "                                             spike-protein  \n",
       "orignal  (N, L, T, T, R, T, Q, L, P, P, A, Y, T, N, S, ...  \n",
       "D614G    (N, L, T, T, R, T, Q, L, P, P, A, Y, T, N, S, ...  \n",
       "C323A    (N, L, T, T, R, T, Q, L, P, P, A, Y, T, N, S, ...  \n",
       "E452A    (N, L, T, T, R, T, Q, L, P, P, A, Y, T, N, S, ...  "
      ]
     },
     "execution_count": 9,
     "metadata": {},
     "output_type": "execute_result"
    }
   ],
   "source": [
    "fs2=[]\n",
    "for s2m in s2_muts:\n",
    "    mrna2 = Seq.Seq('').join([Seq.Seq(js2['h2']), s2m, Seq.Seq(js2['t2'])])\n",
    "    spike2 = s2m.translate()\n",
    "    fs2.append([mrna2, s2m, spike2])\n",
    "df2 = pd.DataFrame(fs2, index=['orignal', 'D614G', 'C323A', 'E452A'], columns=['mRNA_full', 'mRNA-spike', 'spike-protein'])\n",
    "df2"
   ]
  },
  {
   "cell_type": "code",
   "execution_count": null,
   "metadata": {},
   "outputs": [],
   "source": []
  },
  {
   "cell_type": "code",
   "execution_count": 10,
   "metadata": {},
   "outputs": [],
   "source": [
    "df1.to_csv('./bnt.csv')\n",
    "df2.to_csv('./mod.csv')"
   ]
  },
  {
   "cell_type": "code",
   "execution_count": null,
   "metadata": {},
   "outputs": [],
   "source": []
  },
  {
   "cell_type": "code",
   "execution_count": null,
   "metadata": {},
   "outputs": [],
   "source": []
  },
  {
   "cell_type": "code",
   "execution_count": null,
   "metadata": {},
   "outputs": [],
   "source": []
  },
  {
   "cell_type": "code",
   "execution_count": null,
   "metadata": {},
   "outputs": [],
   "source": []
  }
 ],
 "metadata": {
  "kernelspec": {
   "display_name": "Python 3",
   "language": "python",
   "name": "python3"
  },
  "language_info": {
   "codemirror_mode": {
    "name": "ipython",
    "version": 3
   },
   "file_extension": ".py",
   "mimetype": "text/x-python",
   "name": "python",
   "nbconvert_exporter": "python",
   "pygments_lexer": "ipython3",
   "version": "3.6.10"
  }
 },
 "nbformat": 4,
 "nbformat_minor": 4
}
