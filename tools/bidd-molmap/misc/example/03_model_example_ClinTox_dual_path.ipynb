{
 "cells": [
  {
   "cell_type": "code",
   "execution_count": 2,
   "metadata": {},
   "outputs": [],
   "source": [
    "from molmap.model import RegressionEstimator, MultiClassEstimator, MultiLabelEstimator\n",
    "from sklearn.preprocessing import StandardScaler, MinMaxScaler\n",
    "from chembench import dataset\n",
    "from sklearn.utils import shuffle \n",
    "import matplotlib.pyplot as plt\n",
    "import numpy as np\n",
    "import pandas as pd\n",
    "from molmap import MolMap\n",
    "from molmap import feature\n",
    "\n",
    "def Rdsplit(df, random_state = 888, split_size = [0.8, 0.1, 0.1]):\n",
    "    base_indices = np.arange(len(df)) \n",
    "    base_indices = shuffle(base_indices, random_state = random_state) \n",
    "    nb_test = int(len(base_indices) * split_size[2]) \n",
    "    nb_val = int(len(base_indices) * split_size[1]) \n",
    "    test_idx = base_indices[0:nb_test] \n",
    "    valid_idx = base_indices[(nb_test):(nb_test+nb_val)] \n",
    "    train_idx = base_indices[(nb_test+nb_val):len(base_indices)] \n",
    "    print(len(train_idx), len(valid_idx), len(test_idx)) \n",
    "    return train_idx, valid_idx, test_idx "
   ]
  },
  {
   "cell_type": "code",
   "execution_count": 3,
   "metadata": {},
   "outputs": [
    {
     "name": "stdout",
     "output_type": "stream",
     "text": [
      "total samples: 1478\n"
     ]
    }
   ],
   "source": [
    "data = dataset.load_ClinTox()"
   ]
  },
  {
   "cell_type": "markdown",
   "metadata": {},
   "source": [
    "## Pre-fit your molmap object "
   ]
  },
  {
   "cell_type": "code",
   "execution_count": 4,
   "metadata": {},
   "outputs": [
    {
     "name": "stdout",
     "output_type": "stream",
     "text": [
      "2021-04-24 09:50:28,557 - \u001b[32mINFO\u001b[0m - [bidd-molmap]\u001b[0m - Applying grid feature map(assignment), this may take several minutes(1~30 min)\u001b[0m\n",
      "2021-04-24 09:50:30,971 - \u001b[32mINFO\u001b[0m - [bidd-molmap]\u001b[0m - Finished\u001b[0m\n"
     ]
    }
   ],
   "source": [
    "mp1 = MolMap(ftype='descriptor',metric='cosine',)\n",
    "mp1.fit(verbose=0, method='umap', min_dist=0.1, n_neighbors=15,)"
   ]
  },
  {
   "cell_type": "code",
   "execution_count": 5,
   "metadata": {},
   "outputs": [
    {
     "name": "stdout",
     "output_type": "stream",
     "text": [
      "2021-04-24 09:50:35,700 - \u001b[32mINFO\u001b[0m - [bidd-molmap]\u001b[0m - Applying naive scatter feature map...\u001b[0m\n",
      "2021-04-24 09:50:35,708 - \u001b[32mINFO\u001b[0m - [bidd-molmap]\u001b[0m - Finished\u001b[0m\n"
     ]
    }
   ],
   "source": [
    "bitsinfo = feature.fingerprint.Extraction().bitsinfo\n",
    "flist = bitsinfo[bitsinfo.Subtypes.isin(['PubChemFP'])].IDs.tolist()\n",
    "mp2 = MolMap(ftype = 'fingerprint', fmap_type = 'scatter', flist = flist) # \n",
    "mp2.fit(method = 'umap',  min_dist = 0.1, n_neighbors = 15, verbose = 0)"
   ]
  },
  {
   "cell_type": "markdown",
   "metadata": {},
   "source": [
    "## Extract Fmaps"
   ]
  },
  {
   "cell_type": "code",
   "execution_count": 6,
   "metadata": {},
   "outputs": [
    {
     "name": "stderr",
     "output_type": "stream",
     "text": [
      "100%|##########| 1478/1478 [01:11<00:00, 20.61it/s]\n",
      "100%|##########| 1478/1478 [00:50<00:00, 29.33it/s]\n"
     ]
    }
   ],
   "source": [
    "X1 = mp1.batch_transform(data.x)\n",
    "X2 = mp2.batch_transform(data.x)"
   ]
  },
  {
   "cell_type": "code",
   "execution_count": 7,
   "metadata": {},
   "outputs": [],
   "source": [
    "Y = data.y\n",
    "Y = np.nan_to_num(Y, nan=-1)"
   ]
  },
  {
   "cell_type": "code",
   "execution_count": 8,
   "metadata": {},
   "outputs": [
    {
     "name": "stdout",
     "output_type": "stream",
     "text": [
      "1184 147 147\n"
     ]
    }
   ],
   "source": [
    "train_idx, valid_idx, test_idx  = Rdsplit(data.df, random_state = 123)\n",
    "trainX = (X1[train_idx], X2[train_idx])\n",
    "validX = (X1[valid_idx], X2[valid_idx])\n",
    "testX = (X1[test_idx], X2[test_idx])\n",
    "\n",
    "trainY = Y[train_idx]\n",
    "validY = Y[valid_idx]\n",
    "testY = Y[test_idx]"
   ]
  },
  {
   "cell_type": "code",
   "execution_count": 19,
   "metadata": {},
   "outputs": [
    {
     "name": "stdout",
     "output_type": "stream",
     "text": [
      "MultiLabelEstimator(dense_layers=[256, 128], gpuid='0')\n"
     ]
    }
   ],
   "source": [
    "# define your model, note that if your task is a multi-label problem, you should use MultiLabelEstimator\n",
    "clf = MultiLabelEstimator(n_outputs=trainY.shape[1], \n",
    "                          fmap_shape1 = X1.shape[1:],\n",
    "                          fmap_shape2 = X2.shape[1:],\n",
    "                          metric='ROC', \n",
    "                          dense_layers = [256, 128],  gpuid = 0) "
   ]
  },
  {
   "cell_type": "code",
   "execution_count": 20,
   "metadata": {},
   "outputs": [
    {
     "name": "stdout",
     "output_type": "stream",
     "text": [
      "epoch: 0001, loss: 0.6199 - val_loss: 0.4821; auc: 0.3676 - val_auc: 0.3516                                                                                                    \n",
      "epoch: 0002, loss: 0.3995 - val_loss: 0.3098; auc: 0.3506 - val_auc: 0.3118                                                                                                    \n",
      "epoch: 0003, loss: 0.2714 - val_loss: 0.2774; auc: 0.3544 - val_auc: 0.3115                                                                                                    \n",
      "epoch: 0004, loss: 0.2561 - val_loss: 0.2800; auc: 0.3734 - val_auc: 0.3322                                                                                                    \n",
      "epoch: 0005, loss: 0.2523 - val_loss: 0.2716; auc: 0.4142 - val_auc: 0.3829                                                                                                    \n",
      "epoch: 0006, loss: 0.2490 - val_loss: 0.2685; auc: 0.4650 - val_auc: 0.4525                                                                                                    \n",
      "epoch: 0007, loss: 0.2477 - val_loss: 0.2676; auc: 0.5096 - val_auc: 0.5060                                                                                                    \n",
      "epoch: 0008, loss: 0.2468 - val_loss: 0.2685; auc: 0.5509 - val_auc: 0.5531                                                                                                    \n",
      "epoch: 0009, loss: 0.2462 - val_loss: 0.2664; auc: 0.6087 - val_auc: 0.6044                                                                                                    \n",
      "epoch: 0010, loss: 0.2459 - val_loss: 0.2652; auc: 0.6509 - val_auc: 0.6477                                                                                                    \n",
      "epoch: 0011, loss: 0.2447 - val_loss: 0.2657; auc: 0.6787 - val_auc: 0.6735                                                                                                    \n",
      "epoch: 0012, loss: 0.2444 - val_loss: 0.2640; auc: 0.7115 - val_auc: 0.7097                                                                                                    \n",
      "epoch: 0013, loss: 0.2438 - val_loss: 0.2633; auc: 0.7289 - val_auc: 0.7346                                                                                                    \n",
      "epoch: 0014, loss: 0.2441 - val_loss: 0.2622; auc: 0.7498 - val_auc: 0.7572                                                                                                    \n",
      "epoch: 0015, loss: 0.2433 - val_loss: 0.2632; auc: 0.7558 - val_auc: 0.7634                                                                                                    \n",
      "epoch: 0016, loss: 0.2423 - val_loss: 0.2616; auc: 0.7730 - val_auc: 0.7807                                                                                                    \n",
      "epoch: 0017, loss: 0.2418 - val_loss: 0.2600; auc: 0.7885 - val_auc: 0.7961                                                                                                    \n",
      "epoch: 0018, loss: 0.2405 - val_loss: 0.2598; auc: 0.7929 - val_auc: 0.8011                                                                                                    \n",
      "epoch: 0019, loss: 0.2402 - val_loss: 0.2580; auc: 0.7995 - val_auc: 0.8098                                                                                                    \n",
      "epoch: 0020, loss: 0.2391 - val_loss: 0.2571; auc: 0.8006 - val_auc: 0.8082                                                                                                    \n",
      "epoch: 0021, loss: 0.2386 - val_loss: 0.2551; auc: 0.8008 - val_auc: 0.8138                                                                                                    \n",
      "epoch: 0022, loss: 0.2382 - val_loss: 0.2543; auc: 0.8011 - val_auc: 0.8138                                                                                                    \n",
      "epoch: 0023, loss: 0.2362 - val_loss: 0.2517; auc: 0.8004 - val_auc: 0.8128                                                                                                    \n",
      "epoch: 0024, loss: 0.2345 - val_loss: 0.2498; auc: 0.7979 - val_auc: 0.8102                                                                                                    \n",
      "epoch: 0025, loss: 0.2333 - val_loss: 0.2479; auc: 0.7935 - val_auc: 0.8122                                                                                                    \n",
      "epoch: 0026, loss: 0.2312 - val_loss: 0.2449; auc: 0.7921 - val_auc: 0.8105                                                                                                    \n",
      "epoch: 0027, loss: 0.2289 - val_loss: 0.2425; auc: 0.7886 - val_auc: 0.8115                                                                                                    \n",
      "epoch: 0028, loss: 0.2276 - val_loss: 0.2408; auc: 0.7923 - val_auc: 0.8125                                                                                                    \n",
      "epoch: 0029, loss: 0.2274 - val_loss: 0.2365; auc: 0.7883 - val_auc: 0.8118                                                                                                    \n",
      "epoch: 0030, loss: 0.2288 - val_loss: 0.2414; auc: 0.7824 - val_auc: 0.8145                                                                                                    \n",
      "epoch: 0031, loss: 0.2287 - val_loss: 0.2325; auc: 0.7944 - val_auc: 0.8118                                                                                                    \n",
      "epoch: 0032, loss: 0.2197 - val_loss: 0.2291; auc: 0.7903 - val_auc: 0.8125                                                                                                    \n",
      "epoch: 0033, loss: 0.2194 - val_loss: 0.2263; auc: 0.7922 - val_auc: 0.8132                                                                                                    \n",
      "epoch: 0034, loss: 0.2165 - val_loss: 0.2257; auc: 0.8007 - val_auc: 0.8125                                                                                                    \n",
      "epoch: 0035, loss: 0.2143 - val_loss: 0.2211; auc: 0.8015 - val_auc: 0.8142                                                                                                    \n",
      "epoch: 0036, loss: 0.2157 - val_loss: 0.2214; auc: 0.8063 - val_auc: 0.8155                                                                                                    \n",
      "epoch: 0037, loss: 0.2170 - val_loss: 0.2300; auc: 0.7978 - val_auc: 0.8185                                                                                                    \n",
      "epoch: 0038, loss: 0.2180 - val_loss: 0.2182; auc: 0.8152 - val_auc: 0.8158                                                                                                    \n",
      "epoch: 0039, loss: 0.2097 - val_loss: 0.2222; auc: 0.8212 - val_auc: 0.8138                                                                                                    \n",
      "epoch: 0040, loss: 0.2125 - val_loss: 0.2171; auc: 0.8117 - val_auc: 0.8172                                                                                                    \n",
      "epoch: 0041, loss: 0.2064 - val_loss: 0.2088; auc: 0.8217 - val_auc: 0.8152                                                                                                    \n",
      "epoch: 0042, loss: 0.2021 - val_loss: 0.2075; auc: 0.8263 - val_auc: 0.8135                                                                                                    \n",
      "epoch: 0043, loss: 0.1997 - val_loss: 0.2092; auc: 0.8318 - val_auc: 0.8122                                                                                                    \n",
      "epoch: 0044, loss: 0.2000 - val_loss: 0.2078; auc: 0.8260 - val_auc: 0.8168                                                                                                    \n",
      "epoch: 0045, loss: 0.2029 - val_loss: 0.2014; auc: 0.8351 - val_auc: 0.8152                                                                                                    \n",
      "epoch: 0046, loss: 0.2074 - val_loss: 0.2297; auc: 0.8474 - val_auc: 0.8122                                                                                                    \n",
      "epoch: 0047, loss: 0.2061 - val_loss: 0.2041; auc: 0.8386 - val_auc: 0.8145                                                                                                    \n",
      "epoch: 0048, loss: 0.1921 - val_loss: 0.2049; auc: 0.8516 - val_auc: 0.8125                                                                                                    \n",
      "epoch: 0049, loss: 0.1949 - val_loss: 0.2067; auc: 0.8563 - val_auc: 0.8112                                                                                                    \n",
      "epoch: 0050, loss: 0.1944 - val_loss: 0.1972; auc: 0.8552 - val_auc: 0.8142                                                                                                    \n",
      "epoch: 0051, loss: 0.1867 - val_loss: 0.1956; auc: 0.8559 - val_auc: 0.8128                                                                                                    \n",
      "epoch: 0052, loss: 0.1864 - val_loss: 0.1984; auc: 0.8624 - val_auc: 0.8135                                                                                                    \n",
      "epoch: 0053, loss: 0.1854 - val_loss: 0.1943; auc: 0.8643 - val_auc: 0.8125                                                                                                    \n",
      "epoch: 0054, loss: 0.1808 - val_loss: 0.1969; auc: 0.8696 - val_auc: 0.8102                                                                                                    \n",
      "epoch: 0055, loss: 0.1821 - val_loss: 0.1967; auc: 0.8694 - val_auc: 0.8112                                                                                                    \n",
      "epoch: 0056, loss: 0.1821 - val_loss: 0.2227; auc: 0.8649 - val_auc: 0.8138                                                                                                    \n",
      "epoch: 0057, loss: 0.1944 - val_loss: 0.1980; auc: 0.8834 - val_auc: 0.8098                                                                                                    \n",
      "epoch: 0058, loss: 0.1765 - val_loss: 0.1957; auc: 0.8887 - val_auc: 0.8098                                                                                                    \n",
      "epoch: 0059, loss: 0.1779 - val_loss: 0.1901; auc: 0.8889 - val_auc: 0.8108                                                                                                    \n",
      "epoch: 0060, loss: 0.1771 - val_loss: 0.1907; auc: 0.8892 - val_auc: 0.8128                                                                                                    \n",
      "epoch: 0061, loss: 0.1748 - val_loss: 0.2003; auc: 0.8885 - val_auc: 0.8152                                                                                                    \n",
      "epoch: 0062, loss: 0.1726 - val_loss: 0.1890; auc: 0.8990 - val_auc: 0.8165                                                                                                    \n",
      "epoch: 0063, loss: 0.1668 - val_loss: 0.1895; auc: 0.9049 - val_auc: 0.8105                                                                                                    \n",
      "epoch: 0064, loss: 0.1646 - val_loss: 0.1985; auc: 0.9084 - val_auc: 0.8085                                                                                                    \n",
      "epoch: 0065, loss: 0.1639 - val_loss: 0.2028; auc: 0.9017 - val_auc: 0.8152                                                                                                    \n",
      "epoch: 0066, loss: 0.1664 - val_loss: 0.1911; auc: 0.9054 - val_auc: 0.8189                                                                                                    \n",
      "epoch: 0067, loss: 0.1620 - val_loss: 0.1887; auc: 0.9112 - val_auc: 0.8168                                                                                                    \n",
      "epoch: 0068, loss: 0.1601 - val_loss: 0.1904; auc: 0.9167 - val_auc: 0.8142                                                                                                    \n",
      "epoch: 0069, loss: 0.1561 - val_loss: 0.1908; auc: 0.9260 - val_auc: 0.8098                                                                                                    \n",
      "epoch: 0070, loss: 0.1579 - val_loss: 0.1877; auc: 0.9264 - val_auc: 0.8102                                                                                                    \n",
      "epoch: 0071, loss: 0.1510 - val_loss: 0.1910; auc: 0.9305 - val_auc: 0.8072                                                                                                    \n",
      "epoch: 0072, loss: 0.1510 - val_loss: 0.1870; auc: 0.9317 - val_auc: 0.8105                                                                                                    \n",
      "epoch: 0073, loss: 0.1471 - val_loss: 0.1905; auc: 0.9333 - val_auc: 0.8128                                                                                                    \n",
      "epoch: 0074, loss: 0.1499 - val_loss: 0.2169; auc: 0.9306 - val_auc: 0.8165                                                                                                    \n",
      "epoch: 0075, loss: 0.1474 - val_loss: 0.1885; auc: 0.9389 - val_auc: 0.8122                                                                                                    \n",
      "epoch: 0076, loss: 0.1394 - val_loss: 0.1936; auc: 0.9468 - val_auc: 0.8108                                                                                                    \n",
      "epoch: 0077, loss: 0.1425 - val_loss: 0.1891; auc: 0.9480 - val_auc: 0.8138                                                                                                    \n",
      "epoch: 0078, loss: 0.1446 - val_loss: 0.1886; auc: 0.9489 - val_auc: 0.8152                                                                                                    \n",
      "epoch: 0079, loss: 0.1375 - val_loss: 0.1921; auc: 0.9556 - val_auc: 0.8085                                                                                                    \n",
      "epoch: 0080, loss: 0.1325 - val_loss: 0.1909; auc: 0.9566 - val_auc: 0.8095                                                                                                    \n",
      "epoch: 0081, loss: 0.1302 - val_loss: 0.2029; auc: 0.9562 - val_auc: 0.8128                                                                                                    \n",
      "epoch: 0082, loss: 0.1390 - val_loss: 0.2321; auc: 0.9552 - val_auc: 0.8165                                                                                                    \n",
      "epoch: 0083, loss: 0.1517 - val_loss: 0.1928; auc: 0.9596 - val_auc: 0.8185                                                                                                    \n",
      "epoch: 0084, loss: 0.1295 - val_loss: 0.1884; auc: 0.9639 - val_auc: 0.8165                                                                                                    \n",
      "epoch: 0085, loss: 0.1225 - val_loss: 0.1917; auc: 0.9672 - val_auc: 0.8145                                                                                                    \n",
      "epoch: 0086, loss: 0.1231 - val_loss: 0.1914; auc: 0.9690 - val_auc: 0.8125                                                                                                    \n",
      "epoch: 0087, loss: 0.1172 - val_loss: 0.1928; auc: 0.9709 - val_auc: 0.8118                                                                                                    \n",
      "epoch: 0088, loss: 0.1145 - val_loss: 0.1978; auc: 0.9709 - val_auc: 0.8175                                                                                                    \n",
      "epoch: 0089, loss: 0.1192 - val_loss: 0.2354; auc: 0.9702 - val_auc: 0.8199                                                                                                    \n",
      "epoch: 0090, loss: 0.1259 - val_loss: 0.2026; auc: 0.9710 - val_auc: 0.8202                                                                                                    \n",
      "epoch: 0091, loss: 0.1178 - val_loss: 0.2009; auc: 0.9741 - val_auc: 0.8182                                                                                                    \n",
      "epoch: 0092, loss: 0.1103 - val_loss: 0.1931; auc: 0.9767 - val_auc: 0.8165                                                                                                    \n",
      "epoch: 0093, loss: 0.1174 - val_loss: 0.1948; auc: 0.9783 - val_auc: 0.8178                                                                                                    \n",
      "epoch: 0094, loss: 0.1101 - val_loss: 0.2118; auc: 0.9768 - val_auc: 0.8212                                                                                                    \n",
      "epoch: 0095, loss: 0.1153 - val_loss: 0.1971; auc: 0.9808 - val_auc: 0.8168                                                                                                    \n",
      "epoch: 0096, loss: 0.1012 - val_loss: 0.2027; auc: 0.9834 - val_auc: 0.8148                                                                                                    \n",
      "epoch: 0097, loss: 0.1021 - val_loss: 0.2060; auc: 0.9843 - val_auc: 0.8155                                                                                                    \n",
      "epoch: 0098, loss: 0.1061 - val_loss: 0.1974; auc: 0.9834 - val_auc: 0.8209                                                                                                    \n",
      "epoch: 0099, loss: 0.1049 - val_loss: 0.1979; auc: 0.9837 - val_auc: 0.8209                                                                                                    \n",
      "epoch: 0100, loss: 0.1006 - val_loss: 0.2054; auc: 0.9851 - val_auc: 0.8168                                                                                                    \n",
      "epoch: 0101, loss: 0.0952 - val_loss: 0.2083; auc: 0.9871 - val_auc: 0.8162                                                                                                    \n",
      "epoch: 0102, loss: 0.0934 - val_loss: 0.2045; auc: 0.9864 - val_auc: 0.8165                                                                                                    \n",
      "epoch: 0103, loss: 0.0967 - val_loss: 0.2088; auc: 0.9865 - val_auc: 0.8199                                                                                                    \n",
      "epoch: 0104, loss: 0.0914 - val_loss: 0.2076; auc: 0.9876 - val_auc: 0.8199                                                                                                    \n",
      "epoch: 0105, loss: 0.0887 - val_loss: 0.2012; auc: 0.9875 - val_auc: 0.8269                                                                                                    \n",
      "epoch: 0106, loss: 0.0883 - val_loss: 0.1995; auc: 0.9877 - val_auc: 0.8272                                                                                                    \n",
      "epoch: 0107, loss: 0.0834 - val_loss: 0.2083; auc: 0.9892 - val_auc: 0.8249                                                                                                    \n",
      "epoch: 0108, loss: 0.0886 - val_loss: 0.2095; auc: 0.9902 - val_auc: 0.8232                                                                                                    \n",
      "epoch: 0109, loss: 0.0928 - val_loss: 0.2956; auc: 0.9887 - val_auc: 0.8359                                                                                                    \n",
      "epoch: 0110, loss: 0.1046 - val_loss: 0.2030; auc: 0.9892 - val_auc: 0.8332                                                                                                    \n",
      "epoch: 0111, loss: 0.0908 - val_loss: 0.2269; auc: 0.9907 - val_auc: 0.8255                                                                                                    \n",
      "epoch: 0112, loss: 0.1003 - val_loss: 0.2192; auc: 0.9910 - val_auc: 0.8209                                                                                                    \n",
      "epoch: 0113, loss: 0.0988 - val_loss: 0.2280; auc: 0.9913 - val_auc: 0.8199                                                                                                    \n",
      "epoch: 0114, loss: 0.0935 - val_loss: 0.2106; auc: 0.9909 - val_auc: 0.8259                                                                                                    \n",
      "epoch: 0115, loss: 0.0760 - val_loss: 0.2113; auc: 0.9916 - val_auc: 0.8225                                                                                                    \n",
      "epoch: 0116, loss: 0.0726 - val_loss: 0.2180; auc: 0.9911 - val_auc: 0.8239                                                                                                    \n",
      "epoch: 0117, loss: 0.0709 - val_loss: 0.2140; auc: 0.9923 - val_auc: 0.8215                                                                                                    \n",
      "epoch: 0118, loss: 0.0723 - val_loss: 0.2147; auc: 0.9929 - val_auc: 0.8219                                                                                                    \n",
      "epoch: 0119, loss: 0.0707 - val_loss: 0.2139; auc: 0.9930 - val_auc: 0.8252                                                                                                    \n",
      "epoch: 0120, loss: 0.0677 - val_loss: 0.2157; auc: 0.9936 - val_auc: 0.8259                                                                                                    \n",
      "epoch: 0121, loss: 0.0705 - val_loss: 0.2414; auc: 0.9936 - val_auc: 0.8215                                                                                                    \n",
      "epoch: 0122, loss: 0.0797 - val_loss: 0.2494; auc: 0.9935 - val_auc: 0.8259                                                                                                    \n",
      "\n",
      "Restoring model weights from the end of the best epoch.\n",
      "\n",
      "Epoch 00122: early stopping\n"
     ]
    },
    {
     "data": {
      "text/plain": [
       "MultiLabelEstimator(dense_layers=[256, 128], gpuid='0')"
      ]
     },
     "execution_count": 20,
     "metadata": {},
     "output_type": "execute_result"
    }
   ],
   "source": [
    "# fit your model\n",
    "clf.fit(trainX, trainY, validX, validY )"
   ]
  },
  {
   "cell_type": "markdown",
   "metadata": {},
   "source": [
    "## plot training history"
   ]
  },
  {
   "cell_type": "code",
   "execution_count": 21,
   "metadata": {},
   "outputs": [
    {
     "data": {
      "text/plain": [
       "<AxesSubplot:>"
      ]
     },
     "execution_count": 21,
     "metadata": {},
     "output_type": "execute_result"
    },
    {
     "data": {
      "image/png": "[encoded data removed]",
      "text/plain": [
       "<Figure size 432x288 with 1 Axes>"
      ]
     },
     "metadata": {
      "needs_background": "light"
     },
     "output_type": "display_data"
    }
   ],
   "source": [
    "pd.DataFrame(clf.history.history).plot()"
   ]
  },
  {
   "cell_type": "code",
   "execution_count": 22,
   "metadata": {},
   "outputs": [
    {
     "name": "stdout",
     "output_type": "stream",
     "text": [
      "Best epochs: 71.00, Best loss: 0.19\n"
     ]
    }
   ],
   "source": [
    "print('Best epochs: %.2f, Best loss: %.2f' % (clf._performance.best_epoch, clf._performance.best))"
   ]
  },
  {
   "cell_type": "markdown",
   "metadata": {},
   "source": [
    "# performance on  test set"
   ]
  },
  {
   "cell_type": "code",
   "execution_count": 23,
   "metadata": {},
   "outputs": [
    {
     "data": {
      "text/plain": [
       "[0.9052469135802469, 0.8375430539609643]"
      ]
     },
     "execution_count": 23,
     "metadata": {},
     "output_type": "execute_result"
    }
   ],
   "source": [
    "clf.evaluate(testX, testY) "
   ]
  },
  {
   "cell_type": "code",
   "execution_count": 24,
   "metadata": {},
   "outputs": [],
   "source": [
    "df_pred = pd.DataFrame([testY[:, 0], clf.predict_proba(testX)[:,0]]).T\n",
    "df_pred.columns=['y_true', 'y_pred_prob']"
   ]
  },
  {
   "cell_type": "code",
   "execution_count": 25,
   "metadata": {},
   "outputs": [
    {
     "data": {
      "text/html": [
       "<div>\n",
       "<style scoped>\n",
       "    .dataframe tbody tr th:only-of-type {\n",
       "        vertical-align: middle;\n",
       "    }\n",
       "\n",
       "    .dataframe tbody tr th {\n",
       "        vertical-align: top;\n",
       "    }\n",
       "\n",
       "    .dataframe thead th {\n",
       "        text-align: right;\n",
       "    }\n",
       "</style>\n",
       "<table border=\"1\" class=\"dataframe\">\n",
       "  <thead>\n",
       "    <tr style=\"text-align: right;\">\n",
       "      <th></th>\n",
       "      <th>y_true</th>\n",
       "      <th>y_pred_prob</th>\n",
       "    </tr>\n",
       "  </thead>\n",
       "  <tbody>\n",
       "    <tr>\n",
       "      <th>0</th>\n",
       "      <td>1.0</td>\n",
       "      <td>0.947581</td>\n",
       "    </tr>\n",
       "    <tr>\n",
       "      <th>1</th>\n",
       "      <td>1.0</td>\n",
       "      <td>0.992366</td>\n",
       "    </tr>\n",
       "    <tr>\n",
       "      <th>2</th>\n",
       "      <td>1.0</td>\n",
       "      <td>0.993810</td>\n",
       "    </tr>\n",
       "    <tr>\n",
       "      <th>3</th>\n",
       "      <td>0.0</td>\n",
       "      <td>0.738636</td>\n",
       "    </tr>\n",
       "    <tr>\n",
       "      <th>4</th>\n",
       "      <td>1.0</td>\n",
       "      <td>0.967043</td>\n",
       "    </tr>\n",
       "  </tbody>\n",
       "</table>\n",
       "</div>"
      ],
      "text/plain": [
       "   y_true  y_pred_prob\n",
       "0     1.0     0.947581\n",
       "1     1.0     0.992366\n",
       "2     1.0     0.993810\n",
       "3     0.0     0.738636\n",
       "4     1.0     0.967043"
      ]
     },
     "execution_count": 25,
     "metadata": {},
     "output_type": "execute_result"
    }
   ],
   "source": [
    "df_pred.head(5)"
   ]
  },
  {
   "cell_type": "code",
   "execution_count": 26,
   "metadata": {},
   "outputs": [
    {
     "data": {
      "text/plain": [
       "<AxesSubplot:>"
      ]
     },
     "execution_count": 26,
     "metadata": {},
     "output_type": "execute_result"
    },
    {
     "data": {
      "image/png": "[encoded data removed]",
      "text/plain": [
       "<Figure size 1152x288 with 1 Axes>"
      ]
     },
     "metadata": {
      "needs_background": "light"
     },
     "output_type": "display_data"
    }
   ],
   "source": [
    "df_pred.plot(figsize=(16, 4))"
   ]
  },
  {
   "cell_type": "code",
   "execution_count": null,
   "metadata": {},
   "outputs": [],
   "source": []
  },
  {
   "cell_type": "code",
   "execution_count": null,
   "metadata": {},
   "outputs": [],
   "source": []
  },
  {
   "cell_type": "code",
   "execution_count": null,
   "metadata": {},
   "outputs": [],
   "source": []
  },
  {
   "cell_type": "code",
   "execution_count": null,
   "metadata": {},
   "outputs": [],
   "source": []
  }
 ],
 "metadata": {
  "kernelspec": {
   "display_name": "Python 3",
   "language": "python",
   "name": "python3"
  },
  "language_info": {
   "codemirror_mode": {
    "name": "ipython",
    "version": 3
   },
   "file_extension": ".py",
   "mimetype": "text/x-python",
   "name": "python",
   "nbconvert_exporter": "python",
   "pygments_lexer": "ipython3",
   "version": "3.6.10"
  }
 },
 "nbformat": 4,
 "nbformat_minor": 4
}
