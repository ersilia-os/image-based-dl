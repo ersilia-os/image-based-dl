{
 "cells": [
  {
   "cell_type": "code",
   "execution_count": 3,
   "metadata": {},
   "outputs": [],
   "source": [
    "from molmap.model import RegressionEstimator, MultiClassEstimator, MultiLabelEstimator\n",
    "from sklearn.preprocessing import StandardScaler, MinMaxScaler\n",
    "\n",
    "from sklearn.utils import shuffle \n",
    "import matplotlib.pyplot as plt\n",
    "import numpy as np\n",
    "import pandas as pd\n",
    "from molmap import MolMap,dataset\n",
    "from molmap import feature\n",
    "\n",
    "def Rdsplit(df, random_state = 888, split_size = [0.8, 0.1, 0.1]):\n",
    "    base_indices = np.arange(len(df)) \n",
    "    base_indices = shuffle(base_indices, random_state = random_state) \n",
    "    nb_test = int(len(base_indices) * split_size[2]) \n",
    "    nb_val = int(len(base_indices) * split_size[1]) \n",
    "    test_idx = base_indices[0:nb_test] \n",
    "    valid_idx = base_indices[(nb_test):(nb_test+nb_val)] \n",
    "    train_idx = base_indices[(nb_test+nb_val):len(base_indices)] \n",
    "    print(len(train_idx), len(valid_idx), len(test_idx)) \n",
    "    return train_idx, valid_idx, test_idx "
   ]
  },
  {
   "cell_type": "code",
   "execution_count": 19,
   "metadata": {},
   "outputs": [
    {
     "name": "stdout",
     "output_type": "stream",
     "text": [
      "total samples: 642\n"
     ]
    }
   ],
   "source": [
    "data = dataset.load_FreeSolv()"
   ]
  },
  {
   "cell_type": "markdown",
   "metadata": {},
   "source": [
    "## Pre-fit your molmap object "
   ]
  },
  {
   "cell_type": "code",
   "execution_count": 20,
   "metadata": {},
   "outputs": [
    {
     "name": "stdout",
     "output_type": "stream",
     "text": [
      "2021-04-24 09:25:20,379 - \u001b[32mINFO\u001b[0m - [bidd-molmap]\u001b[0m - Applying grid feature map(assignment), this may take several minutes(1~30 min)\u001b[0m\n",
      "2021-04-24 09:25:23,824 - \u001b[32mINFO\u001b[0m - [bidd-molmap]\u001b[0m - Finished\u001b[0m\n"
     ]
    }
   ],
   "source": [
    "mp1 = MolMap(ftype='descriptor',metric='cosine',)\n",
    "mp1.fit(verbose=0, method='umap', min_dist=0.1, n_neighbors=15,)"
   ]
  },
  {
   "cell_type": "code",
   "execution_count": 21,
   "metadata": {},
   "outputs": [
    {
     "name": "stdout",
     "output_type": "stream",
     "text": [
      "2021-04-24 09:25:30,078 - \u001b[32mINFO\u001b[0m - [bidd-molmap]\u001b[0m - Applying naive scatter feature map...\u001b[0m\n",
      "2021-04-24 09:25:30,091 - \u001b[32mINFO\u001b[0m - [bidd-molmap]\u001b[0m - Finished\u001b[0m\n"
     ]
    }
   ],
   "source": [
    "bitsinfo = feature.fingerprint.Extraction().bitsinfo\n",
    "flist = bitsinfo[bitsinfo.Subtypes.isin(['PubChemFP', 'MACCSFP', 'PharmacoErGFP'])].IDs.tolist()\n",
    "mp2 = MolMap(ftype = 'fingerprint', fmap_type = 'scatter', flist = flist) # \n",
    "mp2.fit(method = 'umap',  min_dist = 0.1, n_neighbors = 15, verbose = 0)"
   ]
  },
  {
   "cell_type": "markdown",
   "metadata": {},
   "source": [
    "## Extract Fmaps "
   ]
  },
  {
   "cell_type": "code",
   "execution_count": 22,
   "metadata": {},
   "outputs": [
    {
     "name": "stderr",
     "output_type": "stream",
     "text": [
      "100%|##########| 642/642 [00:18<00:00, 35.47it/s]\n",
      "100%|##########| 642/642 [00:15<00:00, 42.70it/s]\n"
     ]
    }
   ],
   "source": [
    "X1 = mp1.batch_transform(data.x)\n",
    "X2 = mp2.batch_transform(data.x)"
   ]
  },
  {
   "cell_type": "code",
   "execution_count": 23,
   "metadata": {},
   "outputs": [],
   "source": [
    "Y = data.y"
   ]
  },
  {
   "cell_type": "code",
   "execution_count": 34,
   "metadata": {},
   "outputs": [
    {
     "name": "stdout",
     "output_type": "stream",
     "text": [
      "514 64 64\n"
     ]
    }
   ],
   "source": [
    "train_idx, valid_idx, test_idx  = Rdsplit(data.data, random_state = 123)\n",
    "trainX = (X1[train_idx], X2[train_idx])\n",
    "validX = (X1[valid_idx], X2[valid_idx])\n",
    "testX = (X1[test_idx], X2[test_idx])\n",
    "\n",
    "trainY = Y[train_idx]\n",
    "validY = Y[valid_idx]\n",
    "testY = Y[test_idx]"
   ]
  },
  {
   "cell_type": "code",
   "execution_count": 35,
   "metadata": {},
   "outputs": [
    {
     "name": "stdout",
     "output_type": "stream",
     "text": [
      "RegressionEstimator(batch_size=8, gpuid='1', patience=20)\n"
     ]
    }
   ],
   "source": [
    "# define your model\n",
    "clf = RegressionEstimator(n_outputs=trainY.shape[1], \n",
    "                          fmap_shape1 = X1.shape[1:], \n",
    "                          fmap_shape2 = X2.shape[1:], \n",
    "                          dense_layers = [128, 64],  \n",
    "                          batch_size = 8,\n",
    "                          y_scale= None, \n",
    "                          patience = 20, \n",
    "                          gpuid = 1) "
   ]
  },
  {
   "cell_type": "code",
   "execution_count": 36,
   "metadata": {},
   "outputs": [
    {
     "name": "stdout",
     "output_type": "stream",
     "text": [
      "epoch: 0001, loss: 13.8617 - val_loss: 15.1367; rmse: 3.2234 - rmse_val: 3.8906;  r2: 0.3530 - r2_val: 0.3762                                                                                                    \n",
      "epoch: 0002, loss: 9.3695 - val_loss: 13.0674; rmse: 2.8872 - rmse_val: 3.6149;  r2: 0.4721 - r2_val: 0.5376                                                                                                    \n",
      "epoch: 0003, loss: 7.3868 - val_loss: 8.6541; rmse: 2.5625 - rmse_val: 2.9418;  r2: 0.5610 - r2_val: 0.6198                                                                                                    \n",
      "epoch: 0004, loss: 6.1718 - val_loss: 8.8342; rmse: 2.3750 - rmse_val: 2.9722;  r2: 0.6604 - r2_val: 0.7268                                                                                                    \n",
      "epoch: 0005, loss: 4.7084 - val_loss: 6.9537; rmse: 2.0999 - rmse_val: 2.6370;  r2: 0.7247 - r2_val: 0.7680                                                                                                    \n",
      "epoch: 0006, loss: 3.9581 - val_loss: 4.8175; rmse: 1.8178 - rmse_val: 2.1949;  r2: 0.7614 - r2_val: 0.7850                                                                                                    \n",
      "epoch: 0007, loss: 3.3866 - val_loss: 7.2617; rmse: 2.1390 - rmse_val: 2.6947;  r2: 0.7995 - r2_val: 0.8155                                                                                                    \n",
      "epoch: 0008, loss: 3.0140 - val_loss: 4.1048; rmse: 1.9147 - rmse_val: 2.0260;  r2: 0.8120 - r2_val: 0.8123                                                                                                    \n",
      "epoch: 0009, loss: 2.8545 - val_loss: 3.6242; rmse: 1.4546 - rmse_val: 1.9038;  r2: 0.8479 - r2_val: 0.8325                                                                                                    \n",
      "epoch: 0010, loss: 2.4383 - val_loss: 3.6556; rmse: 1.3758 - rmse_val: 1.9120;  r2: 0.8674 - r2_val: 0.8389                                                                                                    \n",
      "epoch: 0011, loss: 2.0252 - val_loss: 3.5170; rmse: 1.2826 - rmse_val: 1.8754;  r2: 0.8850 - r2_val: 0.8459                                                                                                    \n",
      "epoch: 0012, loss: 1.7629 - val_loss: 3.1455; rmse: 1.1982 - rmse_val: 1.7736;  r2: 0.8964 - r2_val: 0.8491                                                                                                    \n",
      "epoch: 0013, loss: 1.7195 - val_loss: 2.9552; rmse: 1.1563 - rmse_val: 1.7191;  r2: 0.9083 - r2_val: 0.8571                                                                                                    \n",
      "epoch: 0014, loss: 1.4764 - val_loss: 3.3482; rmse: 1.0834 - rmse_val: 1.8298;  r2: 0.9204 - r2_val: 0.8581                                                                                                    \n",
      "epoch: 0015, loss: 1.5028 - val_loss: 3.3991; rmse: 1.0459 - rmse_val: 1.8437;  r2: 0.9266 - r2_val: 0.8577                                                                                                    \n",
      "epoch: 0016, loss: 1.1092 - val_loss: 3.5725; rmse: 1.0572 - rmse_val: 1.8901;  r2: 0.9364 - r2_val: 0.8652                                                                                                    \n",
      "epoch: 0017, loss: 0.9708 - val_loss: 2.7924; rmse: 0.8973 - rmse_val: 1.6710;  r2: 0.9420 - r2_val: 0.8695                                                                                                    \n",
      "epoch: 0018, loss: 0.8825 - val_loss: 3.2052; rmse: 0.8766 - rmse_val: 1.7903;  r2: 0.9500 - r2_val: 0.8669                                                                                                    \n",
      "epoch: 0019, loss: 0.8272 - val_loss: 2.5255; rmse: 0.8391 - rmse_val: 1.5892;  r2: 0.9523 - r2_val: 0.8748                                                                                                    \n",
      "epoch: 0020, loss: 0.7069 - val_loss: 2.6226; rmse: 0.9816 - rmse_val: 1.6194;  r2: 0.9573 - r2_val: 0.8746                                                                                                    \n",
      "epoch: 0021, loss: 0.7772 - val_loss: 3.8813; rmse: 1.0080 - rmse_val: 1.9701;  r2: 0.9647 - r2_val: 0.8794                                                                                                    \n",
      "epoch: 0022, loss: 0.6194 - val_loss: 2.7024; rmse: 0.7105 - rmse_val: 1.6439;  r2: 0.9676 - r2_val: 0.8758                                                                                                    \n",
      "epoch: 0023, loss: 0.5282 - val_loss: 2.9073; rmse: 0.6619 - rmse_val: 1.7051;  r2: 0.9710 - r2_val: 0.8780                                                                                                    \n",
      "epoch: 0024, loss: 0.5523 - val_loss: 2.7076; rmse: 0.6271 - rmse_val: 1.6455;  r2: 0.9733 - r2_val: 0.8780                                                                                                    \n",
      "epoch: 0025, loss: 0.4094 - val_loss: 2.4922; rmse: 0.6240 - rmse_val: 1.5787;  r2: 0.9752 - r2_val: 0.8814                                                                                                    \n",
      "epoch: 0026, loss: 0.4425 - val_loss: 2.7180; rmse: 0.5590 - rmse_val: 1.6487;  r2: 0.9778 - r2_val: 0.8786                                                                                                    \n",
      "epoch: 0027, loss: 0.3832 - val_loss: 2.5498; rmse: 0.5351 - rmse_val: 1.5968;  r2: 0.9793 - r2_val: 0.8824                                                                                                    \n",
      "epoch: 0028, loss: 0.3545 - val_loss: 2.4753; rmse: 0.6194 - rmse_val: 1.5733;  r2: 0.9811 - r2_val: 0.8833                                                                                                    \n",
      "epoch: 0029, loss: 0.3221 - val_loss: 2.5975; rmse: 0.4850 - rmse_val: 1.6117;  r2: 0.9830 - r2_val: 0.8840                                                                                                    \n",
      "epoch: 0030, loss: 0.2785 - val_loss: 2.8848; rmse: 0.4906 - rmse_val: 1.6984;  r2: 0.9845 - r2_val: 0.8786                                                                                                    \n",
      "epoch: 0031, loss: 0.2662 - val_loss: 2.4901; rmse: 0.5026 - rmse_val: 1.5780;  r2: 0.9856 - r2_val: 0.8831                                                                                                    \n",
      "epoch: 0032, loss: 0.2534 - val_loss: 2.5700; rmse: 0.4619 - rmse_val: 1.6031;  r2: 0.9851 - r2_val: 0.8787                                                                                                    \n",
      "epoch: 0033, loss: 0.2650 - val_loss: 2.7839; rmse: 0.4505 - rmse_val: 1.6685;  r2: 0.9864 - r2_val: 0.8803                                                                                                    \n",
      "epoch: 0034, loss: 0.2571 - val_loss: 2.8190; rmse: 0.4247 - rmse_val: 1.6790;  r2: 0.9882 - r2_val: 0.8806                                                                                                    \n",
      "epoch: 0035, loss: 0.2079 - val_loss: 2.4773; rmse: 0.4744 - rmse_val: 1.5739;  r2: 0.9889 - r2_val: 0.8828                                                                                                    \n",
      "epoch: 0036, loss: 0.2331 - val_loss: 2.6168; rmse: 0.4153 - rmse_val: 1.6176;  r2: 0.9884 - r2_val: 0.8837                                                                                                    \n",
      "epoch: 0037, loss: 0.1923 - val_loss: 2.4299; rmse: 0.4458 - rmse_val: 1.5588;  r2: 0.9899 - r2_val: 0.8845                                                                                                    \n",
      "epoch: 0038, loss: 0.1986 - val_loss: 2.5738; rmse: 0.3614 - rmse_val: 1.6043;  r2: 0.9905 - r2_val: 0.8858                                                                                                    \n",
      "epoch: 0039, loss: 0.1629 - val_loss: 2.6664; rmse: 0.3565 - rmse_val: 1.6329;  r2: 0.9916 - r2_val: 0.8859                                                                                                    \n",
      "epoch: 0040, loss: 0.1495 - val_loss: 2.4305; rmse: 0.3989 - rmse_val: 1.5590;  r2: 0.9914 - r2_val: 0.8844                                                                                                    \n",
      "epoch: 0041, loss: 0.1621 - val_loss: 2.4729; rmse: 0.3597 - rmse_val: 1.5726;  r2: 0.9922 - r2_val: 0.8874                                                                                                    \n",
      "epoch: 0042, loss: 0.1816 - val_loss: 2.6197; rmse: 0.3944 - rmse_val: 1.6186;  r2: 0.9914 - r2_val: 0.8883                                                                                                    \n",
      "epoch: 0043, loss: 0.1716 - val_loss: 2.5859; rmse: 0.3335 - rmse_val: 1.6080;  r2: 0.9919 - r2_val: 0.8822                                                                                                    \n",
      "epoch: 0044, loss: 0.1579 - val_loss: 2.7851; rmse: 0.3534 - rmse_val: 1.6689;  r2: 0.9929 - r2_val: 0.8841                                                                                                    \n",
      "epoch: 0045, loss: 0.1286 - val_loss: 2.5575; rmse: 0.3008 - rmse_val: 1.5992;  r2: 0.9936 - r2_val: 0.8869                                                                                                    \n",
      "epoch: 0046, loss: 0.1266 - val_loss: 2.6519; rmse: 0.3053 - rmse_val: 1.6284;  r2: 0.9935 - r2_val: 0.8833                                                                                                    \n",
      "epoch: 0047, loss: 0.1092 - val_loss: 2.6438; rmse: 0.3031 - rmse_val: 1.6260;  r2: 0.9941 - r2_val: 0.8865                                                                                                    \n",
      "epoch: 0048, loss: 0.1150 - val_loss: 2.5117; rmse: 0.3307 - rmse_val: 1.5848;  r2: 0.9937 - r2_val: 0.8887                                                                                                    \n",
      "epoch: 0049, loss: 0.1127 - val_loss: 2.5422; rmse: 0.2818 - rmse_val: 1.5944;  r2: 0.9944 - r2_val: 0.8884                                                                                                    \n",
      "epoch: 0050, loss: 0.1085 - val_loss: 2.4106; rmse: 0.3115 - rmse_val: 1.5526;  r2: 0.9938 - r2_val: 0.8904                                                                                                    \n",
      "epoch: 0051, loss: 0.1055 - val_loss: 2.5459; rmse: 0.2699 - rmse_val: 1.5956;  r2: 0.9947 - r2_val: 0.8889                                                                                                    \n",
      "epoch: 0052, loss: 0.0936 - val_loss: 2.3802; rmse: 0.5427 - rmse_val: 1.5428;  r2: 0.9950 - r2_val: 0.8871                                                                                                    \n",
      "epoch: 0053, loss: 0.1364 - val_loss: 2.7063; rmse: 0.3063 - rmse_val: 1.6451;  r2: 0.9946 - r2_val: 0.8872                                                                                                    \n",
      "epoch: 0054, loss: 0.1044 - val_loss: 2.6739; rmse: 0.3375 - rmse_val: 1.6352;  r2: 0.9946 - r2_val: 0.8911                                                                                                    \n",
      "epoch: 0055, loss: 0.0900 - val_loss: 2.3588; rmse: 0.4631 - rmse_val: 1.5358;  r2: 0.9951 - r2_val: 0.8881                                                                                                    \n",
      "epoch: 0056, loss: 0.1040 - val_loss: 2.3210; rmse: 0.4813 - rmse_val: 1.5235;  r2: 0.9945 - r2_val: 0.8895                                                                                                    \n",
      "epoch: 0057, loss: 0.1836 - val_loss: 2.5197; rmse: 0.3133 - rmse_val: 1.5874;  r2: 0.9941 - r2_val: 0.8840                                                                                                    \n",
      "epoch: 0058, loss: 0.1064 - val_loss: 2.6587; rmse: 0.2767 - rmse_val: 1.6305;  r2: 0.9952 - r2_val: 0.8879                                                                                                    \n",
      "epoch: 0059, loss: 0.0881 - val_loss: 2.3478; rmse: 0.3896 - rmse_val: 1.5323;  r2: 0.9956 - r2_val: 0.8896                                                                                                    \n",
      "epoch: 0060, loss: 0.0956 - val_loss: 2.4501; rmse: 0.2451 - rmse_val: 1.5653;  r2: 0.9956 - r2_val: 0.8905                                                                                                    \n",
      "epoch: 0061, loss: 0.0940 - val_loss: 2.3315; rmse: 0.3937 - rmse_val: 1.5269;  r2: 0.9959 - r2_val: 0.8922                                                                                                    \n",
      "epoch: 0062, loss: 0.0876 - val_loss: 2.3672; rmse: 0.4983 - rmse_val: 1.5385;  r2: 0.9958 - r2_val: 0.8889                                                                                                    \n",
      "epoch: 0063, loss: 0.2105 - val_loss: 2.8452; rmse: 0.3805 - rmse_val: 1.6868;  r2: 0.9943 - r2_val: 0.8873                                                                                                    \n",
      "epoch: 0064, loss: 0.1651 - val_loss: 2.7840; rmse: 0.3108 - rmse_val: 1.6686;  r2: 0.9956 - r2_val: 0.8906                                                                                                    \n",
      "epoch: 0065, loss: 0.1127 - val_loss: 2.4827; rmse: 0.2659 - rmse_val: 1.5757;  r2: 0.9955 - r2_val: 0.8869                                                                                                    \n",
      "epoch: 0066, loss: 0.0967 - val_loss: 2.5399; rmse: 0.2442 - rmse_val: 1.5937;  r2: 0.9960 - r2_val: 0.8896                                                                                                    \n",
      "epoch: 0067, loss: 0.1024 - val_loss: 2.5267; rmse: 0.2412 - rmse_val: 1.5896;  r2: 0.9963 - r2_val: 0.8881                                                                                                    \n",
      "epoch: 0068, loss: 0.0982 - val_loss: 2.5384; rmse: 0.2347 - rmse_val: 1.5932;  r2: 0.9963 - r2_val: 0.8884                                                                                                    \n",
      "epoch: 0069, loss: 0.0812 - val_loss: 2.4532; rmse: 0.2736 - rmse_val: 1.5662;  r2: 0.9965 - r2_val: 0.8880                                                                                                    \n",
      "epoch: 0070, loss: 0.0645 - val_loss: 2.4973; rmse: 0.2036 - rmse_val: 1.5803;  r2: 0.9972 - r2_val: 0.8905                                                                                                    \n",
      "epoch: 0071, loss: 0.0575 - val_loss: 2.6922; rmse: 0.2357 - rmse_val: 1.6408;  r2: 0.9972 - r2_val: 0.8892                                                                                                    \n",
      "epoch: 0072, loss: 0.0600 - val_loss: 2.6118; rmse: 0.2245 - rmse_val: 1.6161;  r2: 0.9972 - r2_val: 0.8915                                                                                                    \n",
      "epoch: 0073, loss: 0.0570 - val_loss: 2.3009; rmse: 0.2541 - rmse_val: 1.5169;  r2: 0.9972 - r2_val: 0.8926                                                                                                    \n",
      "epoch: 0074, loss: 0.0953 - val_loss: 2.5826; rmse: 0.2542 - rmse_val: 1.6070;  r2: 0.9965 - r2_val: 0.8937                                                                                                    \n",
      "epoch: 0075, loss: 0.0601 - val_loss: 2.5357; rmse: 0.2124 - rmse_val: 1.5924;  r2: 0.9973 - r2_val: 0.8936                                                                                                    \n",
      "epoch: 0076, loss: 0.0559 - val_loss: 2.4014; rmse: 0.1947 - rmse_val: 1.5496;  r2: 0.9974 - r2_val: 0.8935                                                                                                    \n",
      "epoch: 0077, loss: 0.0613 - val_loss: 2.3702; rmse: 0.2816 - rmse_val: 1.5396;  r2: 0.9971 - r2_val: 0.8912                                                                                                    \n",
      "epoch: 0078, loss: 0.0610 - val_loss: 2.7862; rmse: 0.3032 - rmse_val: 1.6692;  r2: 0.9972 - r2_val: 0.8913                                                                                                    \n",
      "epoch: 0079, loss: 0.0583 - val_loss: 2.6385; rmse: 0.2710 - rmse_val: 1.6244;  r2: 0.9975 - r2_val: 0.8962                                                                                                    \n",
      "epoch: 0080, loss: 0.0637 - val_loss: 2.6090; rmse: 0.2018 - rmse_val: 1.6152;  r2: 0.9973 - r2_val: 0.8900                                                                                                    \n",
      "epoch: 0081, loss: 0.0566 - val_loss: 2.3518; rmse: 0.2367 - rmse_val: 1.5336;  r2: 0.9974 - r2_val: 0.8917                                                                                                    \n",
      "epoch: 0082, loss: 0.0519 - val_loss: 2.3937; rmse: 0.1875 - rmse_val: 1.5472;  r2: 0.9976 - r2_val: 0.8937                                                                                                    \n",
      "epoch: 0083, loss: 0.0691 - val_loss: 2.9323; rmse: 0.3613 - rmse_val: 1.7124;  r2: 0.9968 - r2_val: 0.8902                                                                                                    \n",
      "epoch: 0084, loss: 0.0733 - val_loss: 2.6667; rmse: 0.2580 - rmse_val: 1.6330;  r2: 0.9966 - r2_val: 0.8913                                                                                                    \n",
      "epoch: 0085, loss: 0.0675 - val_loss: 2.4359; rmse: 0.2199 - rmse_val: 1.5608;  r2: 0.9967 - r2_val: 0.8941                                                                                                    \n",
      "epoch: 0086, loss: 0.0848 - val_loss: 2.6205; rmse: 0.2488 - rmse_val: 1.6188;  r2: 0.9965 - r2_val: 0.8926                                                                                                    \n",
      "epoch: 0087, loss: 0.0756 - val_loss: 2.3990; rmse: 0.2662 - rmse_val: 1.5489;  r2: 0.9964 - r2_val: 0.8889                                                                                                    \n",
      "epoch: 0088, loss: 0.0698 - val_loss: 2.6848; rmse: 0.3244 - rmse_val: 1.6386;  r2: 0.9972 - r2_val: 0.8950                                                                                                    \n",
      "epoch: 0089, loss: 0.0732 - val_loss: 2.2148; rmse: 0.2697 - rmse_val: 1.4882;  r2: 0.9969 - r2_val: 0.8954                                                                                                    \n",
      "epoch: 0090, loss: 0.0636 - val_loss: 2.5230; rmse: 0.1960 - rmse_val: 1.5884;  r2: 0.9976 - r2_val: 0.8887                                                                                                    \n",
      "epoch: 0091, loss: 0.0799 - val_loss: 2.7505; rmse: 0.2470 - rmse_val: 1.6585;  r2: 0.9974 - r2_val: 0.8900                                                                                                    \n",
      "epoch: 0092, loss: 0.0526 - val_loss: 2.3867; rmse: 0.1774 - rmse_val: 1.5449;  r2: 0.9978 - r2_val: 0.8950                                                                                                    \n",
      "epoch: 0093, loss: 0.0613 - val_loss: 2.4574; rmse: 0.2371 - rmse_val: 1.5676;  r2: 0.9969 - r2_val: 0.8874                                                                                                    \n",
      "epoch: 0094, loss: 0.0626 - val_loss: 2.2409; rmse: 0.2370 - rmse_val: 1.4969;  r2: 0.9969 - r2_val: 0.8979                                                                                                    \n",
      "epoch: 0095, loss: 0.0874 - val_loss: 2.8997; rmse: 0.4531 - rmse_val: 1.7028;  r2: 0.9966 - r2_val: 0.8957                                                                                                    \n",
      "epoch: 0096, loss: 0.1110 - val_loss: 2.3800; rmse: 0.2493 - rmse_val: 1.5427;  r2: 0.9970 - r2_val: 0.8893                                                                                                    \n",
      "epoch: 0097, loss: 0.0615 - val_loss: 2.4379; rmse: 0.2074 - rmse_val: 1.5614;  r2: 0.9973 - r2_val: 0.8936                                                                                                    \n",
      "epoch: 0098, loss: 0.0452 - val_loss: 2.4186; rmse: 0.1630 - rmse_val: 1.5551;  r2: 0.9981 - r2_val: 0.8928                                                                                                    \n",
      "epoch: 0099, loss: 0.0411 - val_loss: 2.3550; rmse: 0.1626 - rmse_val: 1.5346;  r2: 0.9982 - r2_val: 0.8948                                                                                                    \n",
      "epoch: 0100, loss: 0.0378 - val_loss: 2.5070; rmse: 0.1526 - rmse_val: 1.5834;  r2: 0.9983 - r2_val: 0.8909                                                                                                    \n",
      "epoch: 0101, loss: 0.0332 - val_loss: 2.3872; rmse: 0.2400 - rmse_val: 1.5451;  r2: 0.9981 - r2_val: 0.8929                                                                                                    \n",
      "epoch: 0102, loss: 0.0425 - val_loss: 2.3662; rmse: 0.1791 - rmse_val: 1.5383;  r2: 0.9979 - r2_val: 0.8931                                                                                                    \n",
      "epoch: 0103, loss: 0.0334 - val_loss: 2.7025; rmse: 0.2761 - rmse_val: 1.6439;  r2: 0.9984 - r2_val: 0.8941                                                                                                    \n",
      "epoch: 0104, loss: 0.0592 - val_loss: 2.2743; rmse: 0.2319 - rmse_val: 1.5080;  r2: 0.9972 - r2_val: 0.8966                                                                                                    \n",
      "epoch: 0105, loss: 0.0906 - val_loss: 2.5374; rmse: 0.2038 - rmse_val: 1.5929;  r2: 0.9972 - r2_val: 0.8854                                                                                                    \n",
      "epoch: 0106, loss: 0.0509 - val_loss: 2.3505; rmse: 0.1737 - rmse_val: 1.5331;  r2: 0.9982 - r2_val: 0.8936                                                                                                    \n",
      "epoch: 0107, loss: 0.0352 - val_loss: 2.5274; rmse: 0.1605 - rmse_val: 1.5898;  r2: 0.9985 - r2_val: 0.8915                                                                                                    \n",
      "epoch: 0108, loss: 0.0430 - val_loss: 2.4346; rmse: 0.1557 - rmse_val: 1.5603;  r2: 0.9983 - r2_val: 0.8935                                                                                                    \n",
      "epoch: 0109, loss: 0.0287 - val_loss: 2.3656; rmse: 0.1736 - rmse_val: 1.5380;  r2: 0.9984 - r2_val: 0.8938                                                                                                    \n",
      "\n",
      "Restoring model weights from the end of the best epoch.\n",
      "\n",
      "Epoch 00109: early stopping\n"
     ]
    },
    {
     "data": {
      "text/plain": [
       "RegressionEstimator(batch_size=8, gpuid='1', patience=20)"
      ]
     },
     "execution_count": 36,
     "metadata": {},
     "output_type": "execute_result"
    }
   ],
   "source": [
    "# fit your model\n",
    "clf.fit(trainX, trainY, validX, validY)"
   ]
  },
  {
   "cell_type": "code",
   "execution_count": 37,
   "metadata": {},
   "outputs": [
    {
     "data": {
      "text/plain": [
       "<AxesSubplot:>"
      ]
     },
     "execution_count": 37,
     "metadata": {},
     "output_type": "execute_result"
    },
    {
     "data": {
      "image/png": "[encoded data removed]",
      "text/plain": [
       "<Figure size 432x288 with 1 Axes>"
      ]
     },
     "metadata": {
      "needs_background": "light"
     },
     "output_type": "display_data"
    }
   ],
   "source": [
    "pd.DataFrame(clf.history.history).plot()"
   ]
  },
  {
   "cell_type": "code",
   "execution_count": 38,
   "metadata": {},
   "outputs": [
    {
     "name": "stdout",
     "output_type": "stream",
     "text": [
      "Best epochs: 88.00, Best MSE: 2.21\n"
     ]
    }
   ],
   "source": [
    "print('Best epochs: %.2f, Best MSE: %.2f' % (clf._performance.best_epoch, clf._performance.best))"
   ]
  },
  {
   "cell_type": "code",
   "execution_count": 39,
   "metadata": {},
   "outputs": [],
   "source": [
    "testY_pred = clf.predict(testX)"
   ]
  },
  {
   "cell_type": "code",
   "execution_count": 40,
   "metadata": {},
   "outputs": [
    {
     "data": {
      "text/plain": [
       "<matplotlib.collections.PathCollection at 0x7fe55fddc908>"
      ]
     },
     "execution_count": 40,
     "metadata": {},
     "output_type": "execute_result"
    },
    {
     "data": {
      "image/png": "[encoded data removed]",
      "text/plain": [
       "<Figure size 432x288 with 1 Axes>"
      ]
     },
     "metadata": {
      "needs_background": "light"
     },
     "output_type": "display_data"
    }
   ],
   "source": [
    "plt.scatter(testY, testY_pred)"
   ]
  },
  {
   "cell_type": "code",
   "execution_count": 41,
   "metadata": {},
   "outputs": [
    {
     "data": {
      "text/plain": [
       "([1.0223323280586794], [0.956456929512906])"
      ]
     },
     "execution_count": 41,
     "metadata": {},
     "output_type": "execute_result"
    }
   ],
   "source": [
    "rmse, r2 = clf._performance.evaluate(testX, testY)\n",
    "rmse, r2"
   ]
  },
  {
   "cell_type": "code",
   "execution_count": 42,
   "metadata": {},
   "outputs": [
    {
     "data": {
      "text/plain": [
       "0.956456929512906"
      ]
     },
     "execution_count": 42,
     "metadata": {},
     "output_type": "execute_result"
    }
   ],
   "source": [
    "clf.score(testX, testY)"
   ]
  },
  {
   "cell_type": "code",
   "execution_count": 43,
   "metadata": {},
   "outputs": [
    {
     "data": {
      "text/plain": [
       "([1.4882163864453275], [0.8954233564216337])"
      ]
     },
     "execution_count": 43,
     "metadata": {},
     "output_type": "execute_result"
    }
   ],
   "source": [
    "clf._performance.evaluate(validX, validY)"
   ]
  },
  {
   "cell_type": "code",
   "execution_count": null,
   "metadata": {},
   "outputs": [],
   "source": []
  },
  {
   "cell_type": "code",
   "execution_count": null,
   "metadata": {},
   "outputs": [],
   "source": []
  },
  {
   "cell_type": "code",
   "execution_count": null,
   "metadata": {},
   "outputs": [],
   "source": []
  },
  {
   "cell_type": "code",
   "execution_count": null,
   "metadata": {},
   "outputs": [],
   "source": []
  },
  {
   "cell_type": "code",
   "execution_count": null,
   "metadata": {},
   "outputs": [],
   "source": []
  },
  {
   "cell_type": "code",
   "execution_count": null,
   "metadata": {},
   "outputs": [],
   "source": []
  },
  {
   "cell_type": "code",
   "execution_count": null,
   "metadata": {},
   "outputs": [],
   "source": []
  }
 ],
 "metadata": {
  "kernelspec": {
   "display_name": "Python 3 (ipykernel)",
   "language": "python",
   "name": "python3"
  },
  "language_info": {
   "codemirror_mode": {
    "name": "ipython",
    "version": 3
   },
   "file_extension": ".py",
   "mimetype": "text/x-python",
   "name": "python",
   "nbconvert_exporter": "python",
   "pygments_lexer": "ipython3",
   "version": "3.7.12"
  }
 },
 "nbformat": 4,
 "nbformat_minor": 4
}
