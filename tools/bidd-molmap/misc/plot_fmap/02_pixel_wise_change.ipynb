{
 "cells": [
  {
   "cell_type": "code",
   "execution_count": 4,
   "metadata": {},
   "outputs": [],
   "source": [
    "from molmap import loadmap\n",
    "import matplotlib.pyplot as plt\n",
    "import seaborn as sns\n",
    "import numpy as np\n",
    "np.random.seed(123)"
   ]
  },
  {
   "cell_type": "code",
   "execution_count": 5,
   "metadata": {},
   "outputs": [],
   "source": [
    "aspirin = 'CC(=O)OC1=CC=CC=C1C(O)=O' #aspirin\n",
    "smiles_list = [aspirin]\n",
    "\n",
    "mp1 = loadmap('../paper/descriptor.mp')\n",
    "mp2 = loadmap('../paper/fingerprint.mp')"
   ]
  },
  {
   "cell_type": "code",
   "execution_count": 6,
   "metadata": {},
   "outputs": [
    {
     "name": "stderr",
     "output_type": "stream",
     "text": [
      "100%|##########| 1/1 [00:00<00:00, 813.01it/s]\n",
      "100%|##########| 1/1 [00:00<00:00, 729.57it/s]\n"
     ]
    }
   ],
   "source": [
    "X1 = mp1.batch_transform(smiles_list)\n",
    "X2 = mp2.batch_transform(smiles_list)"
   ]
  },
  {
   "cell_type": "code",
   "execution_count": 15,
   "metadata": {},
   "outputs": [],
   "source": [
    "x2 = X2[0].sum(axis=-1)"
   ]
  },
  {
   "cell_type": "code",
   "execution_count": 48,
   "metadata": {},
   "outputs": [
    {
     "data": {
      "text/plain": [
       "(0.0, 36.0, 37.0, 0.0)"
      ]
     },
     "execution_count": 48,
     "metadata": {},
     "output_type": "execute_result"
    },
    {
     "data": {
      "image/png": "[encoded data removed]",
      "text/plain": [
       "<Figure size 576x576 with 1 Axes>"
      ]
     },
     "metadata": {},
     "output_type": "display_data"
    }
   ],
   "source": [
    "fig, ax = plt.subplots(nrows = 1, ncols=1,  figsize = (8,8))\n",
    "sns.set(font_scale = 1.1)\n",
    "\n",
    "sns.heatmap(x2, cmap = 'viridis',\n",
    "                 square=True, vmin = 0.0, vmax = 1,\n",
    "                 ax = ax, cbar=False,\n",
    "                 #annot_kws = {'size': 11},\n",
    "                 ##cbar_kws = {'fraction':0.046, 'pad': 0.03,  'label': 'Value of Feature Point'}\n",
    "                )\n",
    "ax.axis('off')\n",
    "#plt.savefig('./images/random_and_default_arrangment.png', dpi = 400, bbox_inches ='tight')    "
   ]
  },
  {
   "cell_type": "code",
   "execution_count": 13,
   "metadata": {},
   "outputs": [],
   "source": [
    "x,y = x2.shape\n"
   ]
  },
  {
   "cell_type": "code",
   "execution_count": 76,
   "metadata": {},
   "outputs": [],
   "source": [
    "for i in range(x):\n",
    "    for j in range(y):\n",
    "        x_new = x2.copy()\n",
    "        x_new[i,j] = np.nan\n",
    "        \n",
    "        fig, ax = plt.subplots(nrows = 1, ncols=1,  figsize = (4,4))\n",
    "        sns.set(font_scale = 1.1)\n",
    "\n",
    "        sns.heatmap(x_new, cmap = 'viridis',\n",
    "                         square=True, vmin = 0.0, vmax = 1,\n",
    "                         ax = ax, cbar=False)\n",
    "        ax.axis('off')\n",
    "        fig.savefig('./images/%s_%s.jpg' % (str(i).zfill(2), str(j).zfill(2)), dpi = 30, bbox_inches ='tight')    "
   ]
  },
  {
   "cell_type": "code",
   "execution_count": 73,
   "metadata": {},
   "outputs": [],
   "source": [
    "import glob\n",
    "from PIL import Image\n",
    "\n",
    "# filepaths\n",
    "fp_in = \"./images/*.jpg\"\n",
    "fp_out = \"perturbation.gif\"\n",
    "\n",
    "files = sorted(glob.glob(fp_in))\n",
    "np.random.shuffle(files)\n",
    "\n",
    "# https://pillow.readthedocs.io/en/stable/handbook/image-file-formats.html#gif\n",
    "img, *imgs = [Image.open(f) for f in files]\n",
    "img.save(fp=fp_out, format='GIF', append_images=imgs,\n",
    "         save_all=True, duration=0.001, loop=0)"
   ]
  },
  {
   "cell_type": "code",
   "execution_count": 74,
   "metadata": {},
   "outputs": [
    {
     "name": "stdout",
     "output_type": "stream",
     "text": [
      "total 3.0M\n",
      "-rw-rw-r-- 1 shenwanxiang shenwanxiang 448K Apr 22 20:57 01_fmap_plot.ipynb\n",
      "-rw-rw-r-- 1 shenwanxiang shenwanxiang 8.1K Apr 22 21:54 02_pixel_wise_change.ipynb\n",
      "-rw-rw-r-- 1 shenwanxiang shenwanxiang  318 Apr 22 19:45 data.txt\n",
      "drwxrwxr-x 3 shenwanxiang shenwanxiang  36K Apr 22 21:30 \u001b[0m\u001b[01;34mimages\u001b[0m/\n",
      "-rw-rw-r-- 1 shenwanxiang shenwanxiang 2.5M Apr 22 21:57 \u001b[01;35mperturbation.gif\u001b[0m\n"
     ]
    }
   ],
   "source": [
    "ls -lh"
   ]
  },
  {
   "cell_type": "code",
   "execution_count": 75,
   "metadata": {},
   "outputs": [],
   "source": [
    "! rm -r ./images/*.jpg"
   ]
  },
  {
   "cell_type": "code",
   "execution_count": null,
   "metadata": {},
   "outputs": [],
   "source": []
  }
 ],
 "metadata": {
  "kernelspec": {
   "display_name": "Python 3",
   "language": "python",
   "name": "python3"
  },
  "language_info": {
   "codemirror_mode": {
    "name": "ipython",
    "version": 3
   },
   "file_extension": ".py",
   "mimetype": "text/x-python",
   "name": "python",
   "nbconvert_exporter": "python",
   "pygments_lexer": "ipython3",
   "version": "3.6.10"
  }
 },
 "nbformat": 4,
 "nbformat_minor": 4
}
